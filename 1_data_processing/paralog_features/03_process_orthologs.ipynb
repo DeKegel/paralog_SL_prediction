{
 "cells": [
  {
   "cell_type": "markdown",
   "metadata": {},
   "source": [
    "##  Orthologs in S. cerevisiae, S. pombe + conservation score based on 9 species\n",
    "\n",
    "**Input**: \n",
    "* cerevisiae: Orthologs from ENSEMBL, essentiality from OGEE\n",
    "* pombe: Orthologs from PomBase, essentiality from Kim et al.\n",
    "* conservation score: orthologs from ENSEMBL & InParanoid\n",
    "\n",
    "**Output**: Paralog pairs annotated with ortholog features\n",
    "\n",
    "NOTE: Treating lack of essentiality data as 'has non-essential ortholog'\n",
    "\n",
    "Single essential ortholog => single ortholog in yeast (i.e. no yeast duplicates), so 1 yeast gene for the human paralogs"
   ]
  },
  {
   "cell_type": "code",
   "execution_count": 1,
   "metadata": {},
   "outputs": [],
   "source": [
    "import pandas as pd\n",
    "import numpy as np\n",
    "import scipy.stats as stats\n",
    "import os\n",
    "import seaborn as sns\n",
    "import matplotlib as mpl\n",
    "import matplotlib.pyplot as plt\n",
    "mpl.rcParams.update({'font.size': 12, 'axes.spines.top': False, 'axes.spines.right': False, 'axes.axisbelow': True})\n",
    "\n",
    "get_data_path = lambda folders, fname: os.path.normpath(os.environ['3RD_PARTY_DIR']+'/'+'/'.join(folders) +'/'+ fname)\n",
    "get_local_data_path = lambda folders, fname: os.path.normpath('../../local_data/' +'/'.join(folders) +'/'+ fname)\n",
    "\n",
    "# Inputs\n",
    "file_unique_pairs = get_local_data_path(['processed', 'ensembl93'], 'unique_pairs.csv')\n",
    "file_cerevisiae_orthologs = get_data_path(['ensembl', '93'], 'cerevisiae_orthologs.txt')\n",
    "file_cerevisiae_essentiality = get_data_path(['OGEE'], 'gene_essentiality.txt.gz')\n",
    "file_pombe_orthologs = get_data_path(['pombase'], 'pombase-2020-07-02.human-orthologs.txt.gz')\n",
    "file_pombe_deletions = get_data_path(['kim_2010'], 'pombe_gene_deletions.xls')\n",
    "\n",
    "file_species_orthologs = get_data_path(['ensembl','93'], 'six_species_orthologs.txt')\n",
    "file_uniprot_ids = get_data_path(['ensembl','93'], 'paralog_uniprot_ids.txt') # For InParanoid data\n",
    "file_IP_thaliana = get_data_path(['InParanoid','A.thaliana'], 'sqltable.A.thaliana-H.sapiens')\n",
    "file_IP_ecoli = get_data_path(['InParanoid','E.coli'], 'sqltable.E.coli-H.sapiens')\n",
    "\n",
    "# Ouput\n",
    "file_ortholog_features = get_local_data_path(['processed','paralog_features'], 'ortholog_features.csv')"
   ]
  },
  {
   "cell_type": "code",
   "execution_count": 2,
   "metadata": {
    "tags": []
   },
   "outputs": [
    {
     "name": "stdout",
     "output_type": "stream",
     "text": [
      "Num pairs: 36648 , num genes: 13320\n"
     ]
    },
    {
     "data": {
      "text/html": [
       "<div>\n",
       "<style scoped>\n",
       "    .dataframe tbody tr th:only-of-type {\n",
       "        vertical-align: middle;\n",
       "    }\n",
       "\n",
       "    .dataframe tbody tr th {\n",
       "        vertical-align: top;\n",
       "    }\n",
       "\n",
       "    .dataframe thead th {\n",
       "        text-align: right;\n",
       "    }\n",
       "</style>\n",
       "<table border=\"1\" class=\"dataframe\">\n",
       "  <thead>\n",
       "    <tr style=\"text-align: right;\">\n",
       "      <th></th>\n",
       "      <th>A1</th>\n",
       "      <th>A2</th>\n",
       "      <th>min_seq_id</th>\n",
       "      <th>max_seq_id</th>\n",
       "      <th>singh_wgd</th>\n",
       "      <th>makino_wgd</th>\n",
       "      <th>WGD</th>\n",
       "      <th>same_chr</th>\n",
       "      <th>closest</th>\n",
       "      <th>family_size</th>\n",
       "      <th>cds_length_ratio</th>\n",
       "      <th>A1_entrez</th>\n",
       "      <th>A1_ensembl</th>\n",
       "      <th>A2_entrez</th>\n",
       "      <th>A2_ensembl</th>\n",
       "    </tr>\n",
       "  </thead>\n",
       "  <tbody>\n",
       "    <tr>\n",
       "      <th>0</th>\n",
       "      <td>A1BG</td>\n",
       "      <td>OSCAR</td>\n",
       "      <td>0.127273</td>\n",
       "      <td>0.22028</td>\n",
       "      <td>False</td>\n",
       "      <td>False</td>\n",
       "      <td>False</td>\n",
       "      <td>True</td>\n",
       "      <td>False</td>\n",
       "      <td>3</td>\n",
       "      <td>0.578629</td>\n",
       "      <td>1</td>\n",
       "      <td>ENSG00000121410</td>\n",
       "      <td>126014</td>\n",
       "      <td>ENSG00000170909</td>\n",
       "    </tr>\n",
       "  </tbody>\n",
       "</table>\n",
       "</div>"
      ],
      "text/plain": [
       "     A1     A2  min_seq_id  max_seq_id  singh_wgd  makino_wgd    WGD  \\\n",
       "0  A1BG  OSCAR    0.127273     0.22028      False       False  False   \n",
       "\n",
       "   same_chr  closest  family_size  cds_length_ratio  A1_entrez  \\\n",
       "0      True    False            3          0.578629          1   \n",
       "\n",
       "        A1_ensembl  A2_entrez       A2_ensembl  \n",
       "0  ENSG00000121410     126014  ENSG00000170909  "
      ]
     },
     "execution_count": 2,
     "metadata": {},
     "output_type": "execute_result"
    }
   ],
   "source": [
    "pairs = pd.read_csv(file_unique_pairs, index_col=0)\n",
    "print('Num pairs:', pairs.shape[0], ', num genes:', pd.concat([pairs.A1_ensembl, pairs.A2_ensembl]).nunique())\n",
    "pairs[:1]"
   ]
  },
  {
   "cell_type": "code",
   "execution_count": 4,
   "metadata": {},
   "outputs": [
    {
     "data": {
      "text/html": [
       "<div>\n",
       "<style scoped>\n",
       "    .dataframe tbody tr th:only-of-type {\n",
       "        vertical-align: middle;\n",
       "    }\n",
       "\n",
       "    .dataframe tbody tr th {\n",
       "        vertical-align: top;\n",
       "    }\n",
       "\n",
       "    .dataframe thead th {\n",
       "        text-align: right;\n",
       "    }\n",
       "</style>\n",
       "<table border=\"1\" class=\"dataframe\">\n",
       "  <thead>\n",
       "    <tr style=\"text-align: right;\">\n",
       "      <th></th>\n",
       "      <th>Gene stable ID</th>\n",
       "      <th>UniProtKB Gene Name ID</th>\n",
       "    </tr>\n",
       "  </thead>\n",
       "  <tbody>\n",
       "    <tr>\n",
       "      <th>3</th>\n",
       "      <td>ENSG00000013503</td>\n",
       "      <td>F8VRU2</td>\n",
       "    </tr>\n",
       "  </tbody>\n",
       "</table>\n",
       "</div>"
      ],
      "text/plain": [
       "    Gene stable ID UniProtKB Gene Name ID\n",
       "3  ENSG00000013503                 F8VRU2"
      ]
     },
     "metadata": {},
     "output_type": "display_data"
    },
    {
     "data": {
      "text/html": [
       "<div>\n",
       "<style scoped>\n",
       "    .dataframe tbody tr th:only-of-type {\n",
       "        vertical-align: middle;\n",
       "    }\n",
       "\n",
       "    .dataframe tbody tr th {\n",
       "        vertical-align: top;\n",
       "    }\n",
       "\n",
       "    .dataframe thead th {\n",
       "        text-align: right;\n",
       "    }\n",
       "</style>\n",
       "<table border=\"1\" class=\"dataframe\">\n",
       "  <thead>\n",
       "    <tr style=\"text-align: right;\">\n",
       "      <th></th>\n",
       "      <th>ensembl_id</th>\n",
       "      <th>protein_id</th>\n",
       "    </tr>\n",
       "  </thead>\n",
       "  <tbody>\n",
       "    <tr>\n",
       "      <th>3</th>\n",
       "      <td>ENSG00000013503</td>\n",
       "      <td>F8VRU2</td>\n",
       "    </tr>\n",
       "  </tbody>\n",
       "</table>\n",
       "</div>"
      ],
      "text/plain": [
       "        ensembl_id protein_id\n",
       "3  ENSG00000013503     F8VRU2"
      ]
     },
     "execution_count": 4,
     "metadata": {},
     "output_type": "execute_result"
    }
   ],
   "source": [
    "# For data from InParanoid - see below\n",
    "uniprot_ids = pd.read_csv(file_uniprot_ids).dropna()\n",
    "display(uniprot_ids[:1])\n",
    "uniprot_ids.columns = ['ensembl_id', 'protein_id']\n",
    "uniprot_ids[:1]"
   ]
  },
  {
   "cell_type": "code",
   "execution_count": 5,
   "metadata": {},
   "outputs": [],
   "source": [
    "def read_paranoid_file(fname, species, cutoff=0.5):\n",
    "    inparanoid = pd.read_csv(fname, sep='\\t', header=None)\n",
    "    inparanoid.columns = ['cluster', 'unknown', 'species', 'score', 'protein_id', 'bootstrap']\n",
    "    inparanoid = pd.merge(inparanoid, uniprot_ids)\n",
    "    inparanoid = inparanoid[inparanoid.score >= cutoff].groupby('ensembl_id').cluster.count().reset_index()\n",
    "    inparanoid = inparanoid.rename(columns={'cluster':species})\n",
    "    return inparanoid"
   ]
  },
  {
   "cell_type": "markdown",
   "metadata": {},
   "source": [
    "### S. cerevisiae orthologs\n",
    "\n",
    "2 boolean features:\n",
    "* has cerevisiae ortholog\n",
    "* has essential cerevisiae ortholog"
   ]
  },
  {
   "cell_type": "code",
   "execution_count": 6,
   "metadata": {
    "tags": []
   },
   "outputs": [
    {
     "name": "stdout",
     "output_type": "stream",
     "text": [
      "Cerevisiae orthologs: 1146\n"
     ]
    },
    {
     "data": {
      "text/html": [
       "<div>\n",
       "<style scoped>\n",
       "    .dataframe tbody tr th:only-of-type {\n",
       "        vertical-align: middle;\n",
       "    }\n",
       "\n",
       "    .dataframe tbody tr th {\n",
       "        vertical-align: top;\n",
       "    }\n",
       "\n",
       "    .dataframe thead th {\n",
       "        text-align: right;\n",
       "    }\n",
       "</style>\n",
       "<table border=\"1\" class=\"dataframe\">\n",
       "  <thead>\n",
       "    <tr style=\"text-align: right;\">\n",
       "      <th></th>\n",
       "      <th>ensembl_id</th>\n",
       "      <th>cerevisiae_id</th>\n",
       "      <th>homology_type</th>\n",
       "    </tr>\n",
       "  </thead>\n",
       "  <tbody>\n",
       "    <tr>\n",
       "      <th>3</th>\n",
       "      <td>ENSG00000013503</td>\n",
       "      <td>YOR207C</td>\n",
       "      <td>ortholog_one2many</td>\n",
       "    </tr>\n",
       "  </tbody>\n",
       "</table>\n",
       "</div>"
      ],
      "text/plain": [
       "        ensembl_id cerevisiae_id      homology_type\n",
       "3  ENSG00000013503       YOR207C  ortholog_one2many"
      ]
     },
     "metadata": {},
     "output_type": "display_data"
    },
    {
     "data": {
      "text/html": [
       "<div>\n",
       "<style scoped>\n",
       "    .dataframe tbody tr th:only-of-type {\n",
       "        vertical-align: middle;\n",
       "    }\n",
       "\n",
       "    .dataframe tbody tr th {\n",
       "        vertical-align: top;\n",
       "    }\n",
       "\n",
       "    .dataframe thead th {\n",
       "        text-align: right;\n",
       "    }\n",
       "</style>\n",
       "<table border=\"1\" class=\"dataframe\">\n",
       "  <thead>\n",
       "    <tr style=\"text-align: right;\">\n",
       "      <th></th>\n",
       "      <th>sciName</th>\n",
       "      <th>kingdom</th>\n",
       "      <th>datasetID</th>\n",
       "      <th>locus</th>\n",
       "      <th>essential</th>\n",
       "      <th>pubmedID</th>\n",
       "      <th>taxID</th>\n",
       "      <th>thumbup</th>\n",
       "      <th>thumbdown</th>\n",
       "      <th>valid</th>\n",
       "      <th>fitnessScore</th>\n",
       "      <th>id</th>\n",
       "    </tr>\n",
       "  </thead>\n",
       "  <tbody>\n",
       "    <tr>\n",
       "      <th>0</th>\n",
       "      <td>Saccharomyces cerevisiae</td>\n",
       "      <td>eukaryota</td>\n",
       "      <td>350</td>\n",
       "      <td>Q0045</td>\n",
       "      <td>NE</td>\n",
       "      <td>0</td>\n",
       "      <td>4932</td>\n",
       "      <td>0</td>\n",
       "      <td>0</td>\n",
       "      <td>0</td>\n",
       "      <td>-1.0</td>\n",
       "      <td>3834</td>\n",
       "    </tr>\n",
       "  </tbody>\n",
       "</table>\n",
       "</div>"
      ],
      "text/plain": [
       "                    sciName    kingdom  datasetID  locus essential  pubmedID  \\\n",
       "0  Saccharomyces cerevisiae  eukaryota        350  Q0045        NE         0   \n",
       "\n",
       "   taxID  thumbup  thumbdown  valid  fitnessScore    id  \n",
       "0   4932        0          0      0          -1.0  3834  "
      ]
     },
     "metadata": {},
     "output_type": "display_data"
    },
    {
     "data": {
      "text/html": [
       "<div>\n",
       "<style scoped>\n",
       "    .dataframe tbody tr th:only-of-type {\n",
       "        vertical-align: middle;\n",
       "    }\n",
       "\n",
       "    .dataframe tbody tr th {\n",
       "        vertical-align: top;\n",
       "    }\n",
       "\n",
       "    .dataframe thead th {\n",
       "        text-align: right;\n",
       "    }\n",
       "</style>\n",
       "<table border=\"1\" class=\"dataframe\">\n",
       "  <thead>\n",
       "    <tr style=\"text-align: right;\">\n",
       "      <th></th>\n",
       "      <th>locus</th>\n",
       "      <th>essential</th>\n",
       "    </tr>\n",
       "  </thead>\n",
       "  <tbody>\n",
       "    <tr>\n",
       "      <th>0</th>\n",
       "      <td>Q0045</td>\n",
       "      <td>False</td>\n",
       "    </tr>\n",
       "  </tbody>\n",
       "</table>\n",
       "</div>"
      ],
      "text/plain": [
       "   locus  essential\n",
       "0  Q0045      False"
      ]
     },
     "metadata": {},
     "output_type": "display_data"
    }
   ],
   "source": [
    "c_ortho = pd.read_csv(file_cerevisiae_orthologs).dropna()\n",
    "c_ortho = c_ortho.rename(columns={'Gene stable ID':'ensembl_id',\n",
    "                                  'Saccharomyces cerevisiae gene stable ID':'cerevisiae_id',\n",
    "                                  'Saccharomyces cerevisiae homology type':'homology_type'})\n",
    "print('Cerevisiae orthologs:', c_ortho['cerevisiae_id'].nunique())\n",
    "display(c_ortho[:1])\n",
    "\n",
    "# Call essential if essential in at least 1 study\n",
    "# e.g. E & NE: http://ogee.medgenius.info/browse/Saccharomyces%2520cerevisiae/YKL122C\n",
    "c_ess = pd.read_csv(file_cerevisiae_essentiality, sep='\\t')\n",
    "c_ess = c_ess[c_ess.sciName == 'Saccharomyces cerevisiae'].reset_index(drop=True)\n",
    "display(c_ess[:1])\n",
    "c_ess['essential'] = c_ess.essential =='E'\n",
    "c_ess = c_ess.groupby('locus').essential.max().reset_index()\n",
    "display(c_ess[:1])"
   ]
  },
  {
   "cell_type": "code",
   "execution_count": 7,
   "metadata": {
    "tags": []
   },
   "outputs": [
    {
     "name": "stdout",
     "output_type": "stream",
     "text": [
      "ortholog_one2many     253\n",
      "ortholog_many2many     17\n",
      "ortholog_one2one        1\n",
      "Name: homology_type, dtype: int64\n",
      "\n",
      "Pairs w/ single / essential / cerevisiae ortholog: 2035 / 2430 / 8172\n"
     ]
    },
    {
     "data": {
      "text/html": [
       "<div>\n",
       "<style scoped>\n",
       "    .dataframe tbody tr th:only-of-type {\n",
       "        vertical-align: middle;\n",
       "    }\n",
       "\n",
       "    .dataframe tbody tr th {\n",
       "        vertical-align: top;\n",
       "    }\n",
       "\n",
       "    .dataframe thead th {\n",
       "        text-align: right;\n",
       "    }\n",
       "</style>\n",
       "<table border=\"1\" class=\"dataframe\">\n",
       "  <thead>\n",
       "    <tr style=\"text-align: right;\">\n",
       "      <th></th>\n",
       "      <th>A1</th>\n",
       "      <th>A2</th>\n",
       "      <th>has_cerevisiae_ortholog</th>\n",
       "      <th>has_essential_cerevisiae_ortholog</th>\n",
       "      <th>has_single_essential_cerevisiae_ortholog</th>\n",
       "    </tr>\n",
       "  </thead>\n",
       "  <tbody>\n",
       "    <tr>\n",
       "      <th>0</th>\n",
       "      <td>A1BG</td>\n",
       "      <td>OSCAR</td>\n",
       "      <td>False</td>\n",
       "      <td>False</td>\n",
       "      <td>False</td>\n",
       "    </tr>\n",
       "    <tr>\n",
       "      <th>1</th>\n",
       "      <td>A1BG</td>\n",
       "      <td>TARM1</td>\n",
       "      <td>False</td>\n",
       "      <td>False</td>\n",
       "      <td>False</td>\n",
       "    </tr>\n",
       "  </tbody>\n",
       "</table>\n",
       "</div>"
      ],
      "text/plain": [
       "     A1     A2  has_cerevisiae_ortholog  has_essential_cerevisiae_ortholog  \\\n",
       "0  A1BG  OSCAR                    False                              False   \n",
       "1  A1BG  TARM1                    False                              False   \n",
       "\n",
       "   has_single_essential_cerevisiae_ortholog  \n",
       "0                                     False  \n",
       "1                                     False  "
      ]
     },
     "execution_count": 7,
     "metadata": {},
     "output_type": "execute_result"
    }
   ],
   "source": [
    "# Merge essentiality info with orthologs\n",
    "df = pd.merge(c_ortho[['ensembl_id', 'cerevisiae_id', 'homology_type']], \n",
    "              c_ess.rename(columns={'locus':'cerevisiae_id'}))\n",
    "\n",
    "# Homology types for essential orthologs\n",
    "print(df[df.essential].drop_duplicates(subset=['cerevisiae_id'])['homology_type'].value_counts())\n",
    "\n",
    "# Assign features to each paralog pair\n",
    "cerevisiae_features = pairs[['A1','A2']].assign(\n",
    "    has_cerevisiae_ortholog = \n",
    "        (pairs.A1_ensembl.isin(df.ensembl_id) | pairs.A2_ensembl.isin(df.ensembl_id)),\n",
    "    has_essential_cerevisiae_ortholog = \n",
    "        (pairs.A1_ensembl.isin(df[df.essential].ensembl_id) | pairs.A2_ensembl.isin(df[df.essential].ensembl_id)),\n",
    "    has_single_essential_cerevisiae_ortholog = \n",
    "        (pairs.A1_ensembl.isin(df[df.essential & (df.homology_type!='ortholog_many2many')].ensembl_id) | \n",
    "         pairs.A2_ensembl.isin(df[df.essential & (df.homology_type!='ortholog_many2many')].ensembl_id))\n",
    ")\n",
    "\n",
    "print('\\nPairs w/ single / essential / cerevisiae ortholog:', \n",
    "      cerevisiae_features[cerevisiae_features.has_single_essential_cerevisiae_ortholog].shape[0], '/',\n",
    "      cerevisiae_features[cerevisiae_features.has_essential_cerevisiae_ortholog].shape[0], '/',\n",
    "      cerevisiae_features[cerevisiae_features.has_cerevisiae_ortholog].shape[0])\n",
    "cerevisiae_features[:2]"
   ]
  },
  {
   "cell_type": "markdown",
   "metadata": {},
   "source": [
    "### S. pombe orthologs"
   ]
  },
  {
   "cell_type": "code",
   "execution_count": 8,
   "metadata": {
    "tags": []
   },
   "outputs": [
    {
     "data": {
      "text/html": [
       "<div>\n",
       "<style scoped>\n",
       "    .dataframe tbody tr th:only-of-type {\n",
       "        vertical-align: middle;\n",
       "    }\n",
       "\n",
       "    .dataframe tbody tr th {\n",
       "        vertical-align: top;\n",
       "    }\n",
       "\n",
       "    .dataframe thead th {\n",
       "        text-align: right;\n",
       "    }\n",
       "</style>\n",
       "<table border=\"1\" class=\"dataframe\">\n",
       "  <thead>\n",
       "    <tr style=\"text-align: right;\">\n",
       "      <th></th>\n",
       "      <th>pombe_id</th>\n",
       "      <th>symbol</th>\n",
       "    </tr>\n",
       "  </thead>\n",
       "  <tbody>\n",
       "    <tr>\n",
       "      <th>2</th>\n",
       "      <td>SPAC1002.05c</td>\n",
       "      <td>KDM5D|KDM5C|KDM5B|KDM5A</td>\n",
       "    </tr>\n",
       "  </tbody>\n",
       "</table>\n",
       "</div>"
      ],
      "text/plain": [
       "       pombe_id                   symbol\n",
       "2  SPAC1002.05c  KDM5D|KDM5C|KDM5B|KDM5A"
      ]
     },
     "metadata": {},
     "output_type": "display_data"
    },
    {
     "data": {
      "text/html": [
       "<div>\n",
       "<style scoped>\n",
       "    .dataframe tbody tr th:only-of-type {\n",
       "        vertical-align: middle;\n",
       "    }\n",
       "\n",
       "    .dataframe tbody tr th {\n",
       "        vertical-align: top;\n",
       "    }\n",
       "\n",
       "    .dataframe thead th {\n",
       "        text-align: right;\n",
       "    }\n",
       "</style>\n",
       "<table border=\"1\" class=\"dataframe\">\n",
       "  <thead>\n",
       "    <tr style=\"text-align: right;\">\n",
       "      <th></th>\n",
       "      <th>pombe_id</th>\n",
       "      <th>symbol</th>\n",
       "    </tr>\n",
       "  </thead>\n",
       "  <tbody>\n",
       "    <tr>\n",
       "      <th>2</th>\n",
       "      <td>SPAC1002.05c</td>\n",
       "      <td>KDM5D</td>\n",
       "    </tr>\n",
       "    <tr>\n",
       "      <th>3</th>\n",
       "      <td>SPAC1002.05c</td>\n",
       "      <td>KDM5C</td>\n",
       "    </tr>\n",
       "  </tbody>\n",
       "</table>\n",
       "</div>"
      ],
      "text/plain": [
       "       pombe_id symbol\n",
       "2  SPAC1002.05c  KDM5D\n",
       "3  SPAC1002.05c  KDM5C"
      ]
     },
     "metadata": {},
     "output_type": "display_data"
    }
   ],
   "source": [
    "p_ortho = pd.read_csv(file_pombe_orthologs, sep='\\t', header=None)\n",
    "p_ortho = p_ortho.rename(columns={0:'pombe_id', 1:'symbol'})\n",
    "p_ortho = p_ortho[p_ortho.symbol != 'NONE'].reset_index(drop=True)\n",
    "display(p_ortho[2:3])\n",
    "\n",
    "# Expand human genes, they are delimited with | (=multiple orthologs for a pombe gene, one2many)\n",
    "df = p_ortho.set_index('pombe_id').symbol.apply(lambda x: pd.Series(x.split('|'))).stack()\\\n",
    "            .reset_index().drop(columns=['level_1']).rename(columns={0:'symbol'})\n",
    "assert(p_ortho.shape[0] + p_ortho.symbol.apply(lambda x: x.count('|')).sum() == df.shape[0])\n",
    "p_ortho = df\n",
    "display(p_ortho[2:4])"
   ]
  },
  {
   "cell_type": "code",
   "execution_count": 9,
   "metadata": {
    "tags": []
   },
   "outputs": [
    {
     "data": {
      "text/html": [
       "<div>\n",
       "<style scoped>\n",
       "    .dataframe tbody tr th:only-of-type {\n",
       "        vertical-align: middle;\n",
       "    }\n",
       "\n",
       "    .dataframe tbody tr th {\n",
       "        vertical-align: top;\n",
       "    }\n",
       "\n",
       "    .dataframe thead th {\n",
       "        text-align: right;\n",
       "    }\n",
       "</style>\n",
       "<table border=\"1\" class=\"dataframe\">\n",
       "  <thead>\n",
       "    <tr style=\"text-align: right;\">\n",
       "      <th></th>\n",
       "      <th>pombe_id</th>\n",
       "      <th>essentiality</th>\n",
       "      <th>essential</th>\n",
       "    </tr>\n",
       "  </thead>\n",
       "  <tbody>\n",
       "    <tr>\n",
       "      <th>0</th>\n",
       "      <td>SPAC1002.01</td>\n",
       "      <td>V</td>\n",
       "      <td>False</td>\n",
       "    </tr>\n",
       "  </tbody>\n",
       "</table>\n",
       "</div>"
      ],
      "text/plain": [
       "      pombe_id essentiality  essential\n",
       "0  SPAC1002.01            V      False"
      ]
     },
     "metadata": {},
     "output_type": "display_data"
    },
    {
     "name": "stdout",
     "output_type": "stream",
     "text": [
      "N. essential pombe genes: 1116 / 3534\n"
     ]
    },
    {
     "data": {
      "text/html": [
       "<div>\n",
       "<style scoped>\n",
       "    .dataframe tbody tr th:only-of-type {\n",
       "        vertical-align: middle;\n",
       "    }\n",
       "\n",
       "    .dataframe tbody tr th {\n",
       "        vertical-align: top;\n",
       "    }\n",
       "\n",
       "    .dataframe thead th {\n",
       "        text-align: right;\n",
       "    }\n",
       "</style>\n",
       "<table border=\"1\" class=\"dataframe\">\n",
       "  <thead>\n",
       "    <tr style=\"text-align: right;\">\n",
       "      <th></th>\n",
       "      <th>pombe_id</th>\n",
       "      <th>symbol</th>\n",
       "      <th>essential</th>\n",
       "    </tr>\n",
       "  </thead>\n",
       "  <tbody>\n",
       "    <tr>\n",
       "      <th>0</th>\n",
       "      <td>SPAC1002.03c</td>\n",
       "      <td>GANAB</td>\n",
       "      <td>False</td>\n",
       "    </tr>\n",
       "    <tr>\n",
       "      <th>1</th>\n",
       "      <td>SPAC1002.04c</td>\n",
       "      <td>TAF11</td>\n",
       "      <td>True</td>\n",
       "    </tr>\n",
       "  </tbody>\n",
       "</table>\n",
       "</div>"
      ],
      "text/plain": [
       "       pombe_id symbol  essential\n",
       "0  SPAC1002.03c  GANAB      False\n",
       "1  SPAC1002.04c  TAF11       True"
      ]
     },
     "metadata": {},
     "output_type": "display_data"
    }
   ],
   "source": [
    "# E = essential, V = viable (not essential) in Analysis dataset column\n",
    "p_ess = pd.read_excel(file_pombe_deletions)\n",
    "p_ess = p_ess.rename(columns={'Analysis dataset':'essentiality', 'Systemic ID':'pombe_id'})\n",
    "p_ess = p_ess[['pombe_id', 'essentiality']].dropna(subset=['essentiality'])\n",
    "p_ess['essential'] = p_ess.essentiality=='E'\n",
    "display(p_ess[:1])\n",
    "\n",
    "# Merge essentiality info with orthologs\n",
    "pombe_df = pd.merge(p_ortho, p_ess[['pombe_id','essential']], how='left').fillna({'essential':False})\n",
    "print('N. essential pombe genes:', pombe_df[pombe_df.essential].pombe_id.nunique(), '/', pombe_df.pombe_id.nunique())\n",
    "display(pombe_df[:2])"
   ]
  },
  {
   "cell_type": "code",
   "execution_count": 10,
   "metadata": {
    "tags": []
   },
   "outputs": [
    {
     "data": {
      "text/html": [
       "<div>\n",
       "<style scoped>\n",
       "    .dataframe tbody tr th:only-of-type {\n",
       "        vertical-align: middle;\n",
       "    }\n",
       "\n",
       "    .dataframe tbody tr th {\n",
       "        vertical-align: top;\n",
       "    }\n",
       "\n",
       "    .dataframe thead th {\n",
       "        text-align: right;\n",
       "    }\n",
       "</style>\n",
       "<table border=\"1\" class=\"dataframe\">\n",
       "  <thead>\n",
       "    <tr style=\"text-align: right;\">\n",
       "      <th></th>\n",
       "      <th>A1</th>\n",
       "      <th>A2</th>\n",
       "      <th>pombe_id</th>\n",
       "      <th>essential</th>\n",
       "    </tr>\n",
       "  </thead>\n",
       "  <tbody>\n",
       "    <tr>\n",
       "      <th>0</th>\n",
       "      <td>AADAC</td>\n",
       "      <td>AADACL2</td>\n",
       "      <td>1</td>\n",
       "      <td>False</td>\n",
       "    </tr>\n",
       "  </tbody>\n",
       "</table>\n",
       "</div>"
      ],
      "text/plain": [
       "      A1       A2  pombe_id  essential\n",
       "0  AADAC  AADACL2         1      False"
      ]
     },
     "metadata": {},
     "output_type": "display_data"
    },
    {
     "name": "stdout",
     "output_type": "stream",
     "text": [
      "One2many: 1062\n",
      "Many2many: 605\n",
      "\n",
      "Pairs w/ single / essential / pombe ortholog: 1062 / 1667 / 5757\n"
     ]
    },
    {
     "data": {
      "text/html": [
       "<div>\n",
       "<style scoped>\n",
       "    .dataframe tbody tr th:only-of-type {\n",
       "        vertical-align: middle;\n",
       "    }\n",
       "\n",
       "    .dataframe tbody tr th {\n",
       "        vertical-align: top;\n",
       "    }\n",
       "\n",
       "    .dataframe thead th {\n",
       "        text-align: right;\n",
       "    }\n",
       "</style>\n",
       "<table border=\"1\" class=\"dataframe\">\n",
       "  <thead>\n",
       "    <tr style=\"text-align: right;\">\n",
       "      <th></th>\n",
       "      <th>A1</th>\n",
       "      <th>A2</th>\n",
       "      <th>has_pombe_ortholog</th>\n",
       "      <th>has_essential_pombe_ortholog</th>\n",
       "      <th>has_single_essential_pombe_ortholog</th>\n",
       "    </tr>\n",
       "  </thead>\n",
       "  <tbody>\n",
       "    <tr>\n",
       "      <th>0</th>\n",
       "      <td>A1BG</td>\n",
       "      <td>OSCAR</td>\n",
       "      <td>False</td>\n",
       "      <td>False</td>\n",
       "      <td>False</td>\n",
       "    </tr>\n",
       "    <tr>\n",
       "      <th>1</th>\n",
       "      <td>A1BG</td>\n",
       "      <td>TARM1</td>\n",
       "      <td>False</td>\n",
       "      <td>False</td>\n",
       "      <td>False</td>\n",
       "    </tr>\n",
       "  </tbody>\n",
       "</table>\n",
       "</div>"
      ],
      "text/plain": [
       "     A1     A2  has_pombe_ortholog  has_essential_pombe_ortholog  \\\n",
       "0  A1BG  OSCAR               False                         False   \n",
       "1  A1BG  TARM1               False                         False   \n",
       "\n",
       "   has_single_essential_pombe_ortholog  \n",
       "0                                False  \n",
       "1                                False  "
      ]
     },
     "execution_count": 10,
     "metadata": {},
     "output_type": "execute_result"
    }
   ],
   "source": [
    "# Merge pombe info with paralog pairs (independently for each gene)\n",
    "df1 = pd.merge(pairs[['A1','A2']], pombe_df.rename(columns={'symbol':'A1'}))\n",
    "df2 = pd.merge(pairs[['A1','A2']], pombe_df.rename(columns={'symbol':'A2'}))\n",
    "df = pd.concat([df1,df2]).drop_duplicates()\n",
    "\n",
    "# Count # of pombe genes per human gene and whether at least 1 pombe ortholog is essential\n",
    "# pombe_id > 1 implies 'many2many' otherwise 'one2many'\n",
    "df = df.groupby(['A1','A2']).agg({'pombe_id':'nunique', 'essential':'max'}).reset_index()\n",
    "display(df[:1])\n",
    "print('One2many:', df[df.essential & (df.pombe_id==1)].shape[0])\n",
    "print('Many2many:', df[df.essential & (df.pombe_id>1)].shape[0])\n",
    "\n",
    "# Assign features to each paralog pair\n",
    "pombe_features = pd.merge(pairs[['A1','A2']], df, how='left').fillna({'pombe_id':0})\n",
    "pombe_features['has_pombe_ortholog'] = pombe_features.pombe_id != 0\n",
    "pombe_features['has_essential_pombe_ortholog'] = pombe_features.essential==True\n",
    "pombe_features['has_single_essential_pombe_ortholog'] = ((pombe_features.pombe_id == 1) & (pombe_features.essential==True))\n",
    "pombe_features = pombe_features.drop(columns=['pombe_id', 'essential'])\n",
    "\n",
    "print('\\nPairs w/ single / essential / pombe ortholog:', \n",
    "      sum(pombe_features.has_single_essential_pombe_ortholog), '/', \n",
    "      sum(pombe_features.has_essential_pombe_ortholog), '/', \n",
    "      sum(pombe_features.has_pombe_ortholog))\n",
    "pombe_features[:2]"
   ]
  },
  {
   "cell_type": "markdown",
   "metadata": {},
   "source": [
    "### Conservation score\n",
    "\n",
    "Based on orthologs from 9 species:\n",
    "- S. cerevisiae\n",
    "- Drosophila (fruitfly)\n",
    "- Mouse\n",
    "- C. elegans\n",
    "- Zebrafish\n",
    "- Xenopus (tropical clawed frog)\n",
    "- Rat\n",
    "- Thale cress (InParanoid)\n",
    "- E. coli (InParanoid)"
   ]
  },
  {
   "cell_type": "code",
   "execution_count": 12,
   "metadata": {},
   "outputs": [
    {
     "data": {
      "text/html": [
       "<div>\n",
       "<style scoped>\n",
       "    .dataframe tbody tr th:only-of-type {\n",
       "        vertical-align: middle;\n",
       "    }\n",
       "\n",
       "    .dataframe tbody tr th {\n",
       "        vertical-align: top;\n",
       "    }\n",
       "\n",
       "    .dataframe thead th {\n",
       "        text-align: right;\n",
       "    }\n",
       "</style>\n",
       "<table border=\"1\" class=\"dataframe\">\n",
       "  <thead>\n",
       "    <tr style=\"text-align: right;\">\n",
       "      <th></th>\n",
       "      <th>Gene stable ID</th>\n",
       "      <th>Caenorhabditis elegans gene stable ID</th>\n",
       "      <th>Fruitfly gene stable ID</th>\n",
       "      <th>Mouse gene stable ID</th>\n",
       "      <th>Rat gene stable ID</th>\n",
       "      <th>Xenopus gene stable ID</th>\n",
       "      <th>Zebrafish gene stable ID</th>\n",
       "    </tr>\n",
       "  </thead>\n",
       "  <tbody>\n",
       "    <tr>\n",
       "      <th>1</th>\n",
       "      <td>ENSG00000276345</td>\n",
       "      <td>WBGene00020348</td>\n",
       "      <td>FBgn0035335</td>\n",
       "      <td>ENSMUSG00000037772</td>\n",
       "      <td>ENSRNOG00000020354</td>\n",
       "      <td>ENSXETG00000014017</td>\n",
       "      <td>ENSDARG00000045696</td>\n",
       "    </tr>\n",
       "  </tbody>\n",
       "</table>\n",
       "</div>"
      ],
      "text/plain": [
       "    Gene stable ID Caenorhabditis elegans gene stable ID  \\\n",
       "1  ENSG00000276345                        WBGene00020348   \n",
       "\n",
       "  Fruitfly gene stable ID Mouse gene stable ID  Rat gene stable ID  \\\n",
       "1             FBgn0035335   ENSMUSG00000037772  ENSRNOG00000020354   \n",
       "\n",
       "  Xenopus gene stable ID Zebrafish gene stable ID  \n",
       "1     ENSXETG00000014017       ENSDARG00000045696  "
      ]
     },
     "execution_count": 12,
     "metadata": {},
     "output_type": "execute_result"
    }
   ],
   "source": [
    "species_orthologs_raw = pd.read_csv(file_species_orthologs)\n",
    "species_orthologs_raw[1:2]"
   ]
  },
  {
   "cell_type": "code",
   "execution_count": 14,
   "metadata": {
    "tags": []
   },
   "outputs": [
    {
     "data": {
      "text/html": [
       "<div>\n",
       "<style scoped>\n",
       "    .dataframe tbody tr th:only-of-type {\n",
       "        vertical-align: middle;\n",
       "    }\n",
       "\n",
       "    .dataframe tbody tr th {\n",
       "        vertical-align: top;\n",
       "    }\n",
       "\n",
       "    .dataframe thead th {\n",
       "        text-align: right;\n",
       "    }\n",
       "</style>\n",
       "<table border=\"1\" class=\"dataframe\">\n",
       "  <thead>\n",
       "    <tr style=\"text-align: right;\">\n",
       "      <th></th>\n",
       "      <th>ensembl_id</th>\n",
       "      <th>Caenorhabditis elegans gene stable ID</th>\n",
       "      <th>Fruitfly gene stable ID</th>\n",
       "      <th>Mouse gene stable ID</th>\n",
       "      <th>Rat gene stable ID</th>\n",
       "      <th>Xenopus gene stable ID</th>\n",
       "      <th>Zebrafish gene stable ID</th>\n",
       "      <th>Saccharomyces cerevisiae gene stable ID</th>\n",
       "    </tr>\n",
       "  </thead>\n",
       "  <tbody>\n",
       "    <tr>\n",
       "      <th>0</th>\n",
       "      <td>ENSG00000000003</td>\n",
       "      <td>False</td>\n",
       "      <td>False</td>\n",
       "      <td>True</td>\n",
       "      <td>True</td>\n",
       "      <td>True</td>\n",
       "      <td>True</td>\n",
       "      <td>False</td>\n",
       "    </tr>\n",
       "  </tbody>\n",
       "</table>\n",
       "</div>"
      ],
      "text/plain": [
       "        ensembl_id  Caenorhabditis elegans gene stable ID  \\\n",
       "0  ENSG00000000003                                  False   \n",
       "\n",
       "   Fruitfly gene stable ID  Mouse gene stable ID  Rat gene stable ID  \\\n",
       "0                    False                  True                True   \n",
       "\n",
       "   Xenopus gene stable ID  Zebrafish gene stable ID  \\\n",
       "0                    True                      True   \n",
       "\n",
       "   Saccharomyces cerevisiae gene stable ID  \n",
       "0                                    False  "
      ]
     },
     "metadata": {},
     "output_type": "display_data"
    }
   ],
   "source": [
    "orthologs = species_orthologs_raw.groupby('Gene stable ID').agg(lambda x: ~x.isna().all()).reset_index()\n",
    "\n",
    "# Add cerevisiae orthologs \n",
    "cerevisiae = pd.read_csv(file_cerevisiae_orthologs)[['Gene stable ID', 'Saccharomyces cerevisiae gene stable ID']]\n",
    "cerevisiae = cerevisiae.groupby('Gene stable ID').agg(lambda x: ~x.isna().all()).reset_index()\n",
    "orthologs = pd.merge(orthologs, cerevisiae, how=\"outer\").rename(columns={'Gene stable ID':'ensembl_id'})\n",
    "display(orthologs[:1])\n",
    "\n",
    "# Add E. coli and thale cress orthologs from InParanoid\n",
    "thale_cress = read_paranoid_file(file_IP_thaliana, 'thale_cress')\n",
    "ecoli = read_paranoid_file(file_IP_ecoli, 'e_coli')\n",
    "orthologs = pd.merge(orthologs, thale_cress, how=\"outer\")\n",
    "orthologs = pd.merge(orthologs, ecoli, how=\"outer\")\n",
    "orthologs = orthologs.assign(thale_cress = ~orthologs.thale_cress.isna(), e_coli = ~orthologs.e_coli.isna())"
   ]
  },
  {
   "cell_type": "code",
   "execution_count": 15,
   "metadata": {},
   "outputs": [
    {
     "data": {
      "text/html": [
       "<div>\n",
       "<style scoped>\n",
       "    .dataframe tbody tr th:only-of-type {\n",
       "        vertical-align: middle;\n",
       "    }\n",
       "\n",
       "    .dataframe tbody tr th {\n",
       "        vertical-align: top;\n",
       "    }\n",
       "\n",
       "    .dataframe thead th {\n",
       "        text-align: right;\n",
       "    }\n",
       "</style>\n",
       "<table border=\"1\" class=\"dataframe\">\n",
       "  <thead>\n",
       "    <tr style=\"text-align: right;\">\n",
       "      <th></th>\n",
       "      <th>ensembl_id</th>\n",
       "      <th>Caenorhabditis elegans gene stable ID</th>\n",
       "      <th>Fruitfly gene stable ID</th>\n",
       "      <th>Mouse gene stable ID</th>\n",
       "      <th>Rat gene stable ID</th>\n",
       "      <th>Xenopus gene stable ID</th>\n",
       "      <th>Zebrafish gene stable ID</th>\n",
       "      <th>Saccharomyces cerevisiae gene stable ID</th>\n",
       "      <th>thale_cress</th>\n",
       "      <th>e_coli</th>\n",
       "    </tr>\n",
       "  </thead>\n",
       "  <tbody>\n",
       "    <tr>\n",
       "      <th>0</th>\n",
       "      <td>ENSG00000000003</td>\n",
       "      <td>False</td>\n",
       "      <td>False</td>\n",
       "      <td>True</td>\n",
       "      <td>True</td>\n",
       "      <td>True</td>\n",
       "      <td>True</td>\n",
       "      <td>False</td>\n",
       "      <td>False</td>\n",
       "      <td>False</td>\n",
       "    </tr>\n",
       "  </tbody>\n",
       "</table>\n",
       "</div>"
      ],
      "text/plain": [
       "        ensembl_id  Caenorhabditis elegans gene stable ID  \\\n",
       "0  ENSG00000000003                                  False   \n",
       "\n",
       "   Fruitfly gene stable ID  Mouse gene stable ID  Rat gene stable ID  \\\n",
       "0                    False                  True                True   \n",
       "\n",
       "   Xenopus gene stable ID  Zebrafish gene stable ID  \\\n",
       "0                    True                      True   \n",
       "\n",
       "   Saccharomyces cerevisiae gene stable ID  thale_cress  e_coli  \n",
       "0                                    False        False   False  "
      ]
     },
     "metadata": {},
     "output_type": "display_data"
    },
    {
     "name": "stdout",
     "output_type": "stream",
     "text": [
      "N genes with orthologs: 14532\n",
      "N species: 9\n"
     ]
    }
   ],
   "source": [
    "n_species = orthologs.shape[1]-1\n",
    "display(orthologs[:1])\n",
    "print('N genes with orthologs:', orthologs.shape[0])\n",
    "print('N species:', n_species)"
   ]
  },
  {
   "cell_type": "code",
   "execution_count": 16,
   "metadata": {},
   "outputs": [
    {
     "data": {
      "text/html": [
       "<div>\n",
       "<style scoped>\n",
       "    .dataframe tbody tr th:only-of-type {\n",
       "        vertical-align: middle;\n",
       "    }\n",
       "\n",
       "    .dataframe tbody tr th {\n",
       "        vertical-align: top;\n",
       "    }\n",
       "\n",
       "    .dataframe thead th {\n",
       "        text-align: right;\n",
       "    }\n",
       "</style>\n",
       "<table border=\"1\" class=\"dataframe\">\n",
       "  <thead>\n",
       "    <tr style=\"text-align: right;\">\n",
       "      <th></th>\n",
       "      <th>A1_ensembl</th>\n",
       "      <th>A2_ensembl</th>\n",
       "      <th>Caenorhabditis elegans gene stable ID</th>\n",
       "      <th>Fruitfly gene stable ID</th>\n",
       "      <th>Mouse gene stable ID</th>\n",
       "      <th>Rat gene stable ID</th>\n",
       "      <th>Xenopus gene stable ID</th>\n",
       "      <th>Zebrafish gene stable ID</th>\n",
       "      <th>Saccharomyces cerevisiae gene stable ID</th>\n",
       "      <th>thale_cress</th>\n",
       "      <th>e_coli</th>\n",
       "    </tr>\n",
       "  </thead>\n",
       "  <tbody>\n",
       "    <tr>\n",
       "      <th>0</th>\n",
       "      <td>ENSG00000000003</td>\n",
       "      <td>ENSG00000156298</td>\n",
       "      <td>False</td>\n",
       "      <td>False</td>\n",
       "      <td>True</td>\n",
       "      <td>True</td>\n",
       "      <td>True</td>\n",
       "      <td>True</td>\n",
       "      <td>False</td>\n",
       "      <td>False</td>\n",
       "      <td>False</td>\n",
       "    </tr>\n",
       "  </tbody>\n",
       "</table>\n",
       "</div>"
      ],
      "text/plain": [
       "        A1_ensembl       A2_ensembl  Caenorhabditis elegans gene stable ID  \\\n",
       "0  ENSG00000000003  ENSG00000156298                                  False   \n",
       "\n",
       "   Fruitfly gene stable ID  Mouse gene stable ID  Rat gene stable ID  \\\n",
       "0                    False                  True                True   \n",
       "\n",
       "   Xenopus gene stable ID  Zebrafish gene stable ID  \\\n",
       "0                    True                      True   \n",
       "\n",
       "   Saccharomyces cerevisiae gene stable ID  thale_cress  e_coli  \n",
       "0                                    False        False   False  "
      ]
     },
     "metadata": {},
     "output_type": "display_data"
    },
    {
     "name": "stdout",
     "output_type": "stream",
     "text": [
      "Pairs conserved in all 9 species: 260\n"
     ]
    },
    {
     "data": {
      "text/html": [
       "<div>\n",
       "<style scoped>\n",
       "    .dataframe tbody tr th:only-of-type {\n",
       "        vertical-align: middle;\n",
       "    }\n",
       "\n",
       "    .dataframe tbody tr th {\n",
       "        vertical-align: top;\n",
       "    }\n",
       "\n",
       "    .dataframe thead th {\n",
       "        text-align: right;\n",
       "    }\n",
       "</style>\n",
       "<table border=\"1\" class=\"dataframe\">\n",
       "  <thead>\n",
       "    <tr style=\"text-align: right;\">\n",
       "      <th></th>\n",
       "      <th>A1_ensembl</th>\n",
       "      <th>A2_ensembl</th>\n",
       "      <th>conservation_score</th>\n",
       "    </tr>\n",
       "  </thead>\n",
       "  <tbody>\n",
       "    <tr>\n",
       "      <th>0</th>\n",
       "      <td>ENSG00000000003</td>\n",
       "      <td>ENSG00000156298</td>\n",
       "      <td>4</td>\n",
       "    </tr>\n",
       "  </tbody>\n",
       "</table>\n",
       "</div>"
      ],
      "text/plain": [
       "        A1_ensembl       A2_ensembl  conservation_score\n",
       "0  ENSG00000000003  ENSG00000156298                   4"
      ]
     },
     "metadata": {},
     "output_type": "display_data"
    }
   ],
   "source": [
    "# Conversation score = number of species in which at least one paralog has an ortholog\n",
    "df1 = pd.merge(pairs[['A1_ensembl','A2_ensembl']], orthologs.rename(columns={'ensembl_id':'A1_ensembl'}))\n",
    "df2 = pd.merge(pairs[['A1_ensembl','A2_ensembl']], orthologs.rename(columns={'ensembl_id':'A2_ensembl'}))\n",
    "df = pd.concat([df1, df2])\n",
    "\n",
    "# Indicates whether either gene has an ortholog in each species\n",
    "df = df.groupby(['A1_ensembl','A2_ensembl']).max().reset_index()\n",
    "display(df[:1])\n",
    "\n",
    "df['conservation_score'] = df.iloc[:, 2:].sum(axis=1)\n",
    "conservation = df[['A1_ensembl','A2_ensembl','conservation_score']]\n",
    "print('Pairs conserved in all 9 species:', conservation[conservation.conservation_score==9].shape[0])\n",
    "display(conservation[:1])"
   ]
  },
  {
   "cell_type": "markdown",
   "metadata": {},
   "source": [
    "### Merge and export"
   ]
  },
  {
   "cell_type": "code",
   "execution_count": 23,
   "metadata": {},
   "outputs": [
    {
     "data": {
      "text/html": [
       "<div>\n",
       "<style scoped>\n",
       "    .dataframe tbody tr th:only-of-type {\n",
       "        vertical-align: middle;\n",
       "    }\n",
       "\n",
       "    .dataframe tbody tr th {\n",
       "        vertical-align: top;\n",
       "    }\n",
       "\n",
       "    .dataframe thead th {\n",
       "        text-align: right;\n",
       "    }\n",
       "</style>\n",
       "<table border=\"1\" class=\"dataframe\">\n",
       "  <thead>\n",
       "    <tr style=\"text-align: right;\">\n",
       "      <th></th>\n",
       "      <th>A1</th>\n",
       "      <th>A2</th>\n",
       "      <th>A1_ensembl</th>\n",
       "      <th>A2_ensembl</th>\n",
       "      <th>has_cerevisiae_ortholog</th>\n",
       "      <th>has_essential_cerevisiae_ortholog</th>\n",
       "      <th>has_single_essential_cerevisiae_ortholog</th>\n",
       "      <th>has_pombe_ortholog</th>\n",
       "      <th>has_essential_pombe_ortholog</th>\n",
       "      <th>has_single_essential_pombe_ortholog</th>\n",
       "      <th>conservation_score</th>\n",
       "    </tr>\n",
       "  </thead>\n",
       "  <tbody>\n",
       "    <tr>\n",
       "      <th>0</th>\n",
       "      <td>A1BG</td>\n",
       "      <td>OSCAR</td>\n",
       "      <td>ENSG00000121410</td>\n",
       "      <td>ENSG00000170909</td>\n",
       "      <td>False</td>\n",
       "      <td>False</td>\n",
       "      <td>False</td>\n",
       "      <td>False</td>\n",
       "      <td>False</td>\n",
       "      <td>False</td>\n",
       "      <td>3</td>\n",
       "    </tr>\n",
       "  </tbody>\n",
       "</table>\n",
       "</div>"
      ],
      "text/plain": [
       "     A1     A2       A1_ensembl       A2_ensembl  has_cerevisiae_ortholog  \\\n",
       "0  A1BG  OSCAR  ENSG00000121410  ENSG00000170909                    False   \n",
       "\n",
       "   has_essential_cerevisiae_ortholog  \\\n",
       "0                              False   \n",
       "\n",
       "   has_single_essential_cerevisiae_ortholog  has_pombe_ortholog  \\\n",
       "0                                     False               False   \n",
       "\n",
       "   has_essential_pombe_ortholog  has_single_essential_pombe_ortholog  \\\n",
       "0                         False                                False   \n",
       "\n",
       "   conservation_score  \n",
       "0                   3  "
      ]
     },
     "execution_count": 23,
     "metadata": {},
     "output_type": "execute_result"
    }
   ],
   "source": [
    "ortholog_features = pd.merge(pairs[['A1','A2','A1_ensembl','A2_ensembl']], cerevisiae_features)\n",
    "ortholog_features = pd.merge(ortholog_features, pombe_features)\n",
    "ortholog_features = pd.merge(ortholog_features, conservation)\n",
    "assert(ortholog_features.shape[0] == pairs.shape[0])\n",
    "ortholog_features[:1]"
   ]
  },
  {
   "cell_type": "code",
   "execution_count": 24,
   "metadata": {},
   "outputs": [],
   "source": [
    "ortholog_features.to_csv(file_ortholog_features, index=0)"
   ]
  },
  {
   "cell_type": "markdown",
   "metadata": {},
   "source": [
    "### Visualization - distribution"
   ]
  },
  {
   "cell_type": "code",
   "execution_count": 25,
   "metadata": {},
   "outputs": [
    {
     "data": {
      "text/plain": [
       "<AxesSubplot:xlabel='conservation_score', ylabel='count'>"
      ]
     },
     "execution_count": 25,
     "metadata": {},
     "output_type": "execute_result"
    },
    {
     "data": {
      "image/png": "[encoded data removed]",
      "text/plain": [
       "<Figure size 216x216 with 1 Axes>"
      ]
     },
     "metadata": {
      "needs_background": "light"
     },
     "output_type": "display_data"
    }
   ],
   "source": [
    "f, ax = plt.subplots(1, 1, figsize=(3,3))\n",
    "sns.countplot(ortholog_features.conservation_score, ax=ax, color=sns.color_palette('Blues')[4])"
   ]
  },
  {
   "cell_type": "code",
   "execution_count": null,
   "metadata": {},
   "outputs": [],
   "source": []
  }
 ],
 "metadata": {
  "kernelspec": {
   "display_name": "Python 3.7.9 64-bit ('paralogSL': conda)",
   "language": "python",
   "name": "python37964bitparalogslconda0f0e77de73d34c52b743edfe8868363d"
  },
  "language_info": {
   "codemirror_mode": {
    "name": "ipython",
    "version": 3
   },
   "file_extension": ".py",
   "mimetype": "text/x-python",
   "name": "python",
   "nbconvert_exporter": "python",
   "pygments_lexer": "ipython3",
   "version": "3.7.1"
  }
 },
 "nbformat": 4,
 "nbformat_minor": 4
}
