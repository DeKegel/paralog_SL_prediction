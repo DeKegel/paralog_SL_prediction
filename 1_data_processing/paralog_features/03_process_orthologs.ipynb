{
 "cells": [
  {
   "cell_type": "markdown",
   "metadata": {},
   "source": [
    "##  Orthologs in S. cerevisiae, S. pombe + conservation score based on 9 species\n",
    "\n",
    "**Input**: \n",
    "* cerevisiae: Orthologs from ENSEMBL, essentiality from OGEE\n",
    "* pombe: Orthologs from PomBase, essentiality from Kim et al.\n",
    "* other orthologs from ENSEMBL & InParanoid\n",
    "\n",
    "**Output**: Paralog pairs annotated with ortholog features\n",
    "\n",
    "NOTE: Treating lack of essentiality data as 'has non-essential ortholog' because most yeast genes are not essential\n",
    "\n",
    "Single essential ortholog => single ortholog in yeast (i.e. no yeast duplicates), so a one-to-many relationship\n",
    "\n",
    "InParanoid: http://inparanoid.sbc.su.se/cgi-bin/faq.cgi"
   ]
  },
  {
   "cell_type": "code",
   "execution_count": 1,
   "metadata": {},
   "outputs": [],
   "source": [
    "import pandas as pd\n",
    "import numpy as np\n",
    "import scipy.stats as stats\n",
    "import itertools\n",
    "import os\n",
    "import seaborn as sns\n",
    "import matplotlib as mpl\n",
    "import matplotlib.pyplot as plt\n",
    "mpl.rcParams.update({'font.size': 12, 'axes.spines.top': False, 'axes.spines.right': False, 'axes.axisbelow': True})\n",
    "\n",
    "get_data_path = lambda folders, fname: os.path.normpath(os.environ['3RD_PARTY_DIR']+'/'+'/'.join(folders) +'/'+ fname)\n",
    "get_local_data_path = lambda folders, fname: os.path.normpath('../../local_data/' +'/'.join(folders) +'/'+ fname)\n",
    "\n",
    "# Inputs\n",
    "file_unique_pairs = get_local_data_path(['processed', 'ensembl93'], 'unique_pairs.csv')\n",
    "file_cerevisiae_orthologs = get_data_path(['ensembl','93'], 'cerevisiae_orthologs.txt')\n",
    "file_cerevisiae_essentiality = get_data_path(['OGEE'], 'gene_essentiality.txt.gz')\n",
    "file_pombe_orthologs = get_data_path(['pombase'], 'pombase-2020-07-02.human-orthologs.txt.gz')\n",
    "file_pombe_deletions = get_data_path(['kim_2010'], 'pombe_gene_deletions.xls')\n",
    "\n",
    "file_species_orthologs = get_data_path(['ensembl', '93'], 'six_species_orthologs.txt')\n",
    "file_uniprot_ids = get_data_path(['ensembl', '93'], 'uniprot_ids.txt')\n",
    "\n",
    "file_IP_cerevisiae = get_data_path(['InParanoid', 'H.sapiens-S.cerevisiae'], 'sqltable.H.sapiens-S.cerevisiae')\n",
    "file_IP_pombe = get_data_path(['InParanoid', 'H.sapiens-S.pombe'], 'sqltable.H.sapiens-S.pombe')\n",
    "file_IP_thaliana = get_data_path(['InParanoid','A.thaliana-H.sapiens'], 'sqltable.A.thaliana-H.sapiens')\n",
    "file_IP_ecoli = get_data_path(['InParanoid','E.coli-H.sapiens'], 'sqltable.E.coli-H.sapiens')\n",
    "\n",
    "# OUT\n",
    "file_ortholog_features = get_local_data_path(['processed','paralog_features'], 'ortholog_features.csv')"
   ]
  },
  {
   "cell_type": "code",
   "execution_count": 2,
   "metadata": {
    "tags": []
   },
   "outputs": [
    {
     "name": "stdout",
     "output_type": "stream",
     "text": [
      "Num pairs: 36648 , num genes: 13320\n"
     ]
    },
    {
     "data": {
      "text/html": [
       "<div>\n",
       "<style scoped>\n",
       "    .dataframe tbody tr th:only-of-type {\n",
       "        vertical-align: middle;\n",
       "    }\n",
       "\n",
       "    .dataframe tbody tr th {\n",
       "        vertical-align: top;\n",
       "    }\n",
       "\n",
       "    .dataframe thead th {\n",
       "        text-align: right;\n",
       "    }\n",
       "</style>\n",
       "<table border=\"1\" class=\"dataframe\">\n",
       "  <thead>\n",
       "    <tr style=\"text-align: right;\">\n",
       "      <th></th>\n",
       "      <th>A1</th>\n",
       "      <th>A2</th>\n",
       "      <th>min_seq_id</th>\n",
       "      <th>max_seq_id</th>\n",
       "      <th>singh_wgd</th>\n",
       "      <th>makino_wgd</th>\n",
       "      <th>WGD</th>\n",
       "      <th>same_chr</th>\n",
       "      <th>closest</th>\n",
       "      <th>family_size</th>\n",
       "      <th>family_id</th>\n",
       "      <th>cds_length_ratio</th>\n",
       "      <th>A1_entrez</th>\n",
       "      <th>A1_ensembl</th>\n",
       "      <th>A2_entrez</th>\n",
       "      <th>A2_ensembl</th>\n",
       "    </tr>\n",
       "  </thead>\n",
       "  <tbody>\n",
       "    <tr>\n",
       "      <th>0</th>\n",
       "      <td>A1BG</td>\n",
       "      <td>OSCAR</td>\n",
       "      <td>0.127273</td>\n",
       "      <td>0.22028</td>\n",
       "      <td>False</td>\n",
       "      <td>False</td>\n",
       "      <td>False</td>\n",
       "      <td>True</td>\n",
       "      <td>False</td>\n",
       "      <td>3</td>\n",
       "      <td>3046</td>\n",
       "      <td>0.578629</td>\n",
       "      <td>1</td>\n",
       "      <td>ENSG00000121410</td>\n",
       "      <td>126014</td>\n",
       "      <td>ENSG00000170909</td>\n",
       "    </tr>\n",
       "  </tbody>\n",
       "</table>\n",
       "</div>"
      ],
      "text/plain": [
       "     A1     A2  min_seq_id  max_seq_id  singh_wgd  makino_wgd    WGD  \\\n",
       "0  A1BG  OSCAR    0.127273     0.22028      False       False  False   \n",
       "\n",
       "   same_chr  closest  family_size  family_id  cds_length_ratio  A1_entrez  \\\n",
       "0      True    False            3       3046          0.578629          1   \n",
       "\n",
       "        A1_ensembl  A2_entrez       A2_ensembl  \n",
       "0  ENSG00000121410     126014  ENSG00000170909  "
      ]
     },
     "execution_count": 2,
     "metadata": {},
     "output_type": "execute_result"
    }
   ],
   "source": [
    "paralog_pairs = pd.read_csv(file_unique_pairs, index_col=0)\n",
    "print('Num pairs:', paralog_pairs.shape[0], ', num genes:', \n",
    "      pd.concat([paralog_pairs.A1_ensembl, paralog_pairs.A2_ensembl]).nunique())\n",
    "paralog_pairs[:1]"
   ]
  },
  {
   "cell_type": "code",
   "execution_count": 3,
   "metadata": {},
   "outputs": [
    {
     "data": {
      "text/html": [
       "<div>\n",
       "<style scoped>\n",
       "    .dataframe tbody tr th:only-of-type {\n",
       "        vertical-align: middle;\n",
       "    }\n",
       "\n",
       "    .dataframe tbody tr th {\n",
       "        vertical-align: top;\n",
       "    }\n",
       "\n",
       "    .dataframe thead th {\n",
       "        text-align: right;\n",
       "    }\n",
       "</style>\n",
       "<table border=\"1\" class=\"dataframe\">\n",
       "  <thead>\n",
       "    <tr style=\"text-align: right;\">\n",
       "      <th></th>\n",
       "      <th>Gene stable ID</th>\n",
       "      <th>UniProtKB Gene Name ID</th>\n",
       "    </tr>\n",
       "  </thead>\n",
       "  <tbody>\n",
       "    <tr>\n",
       "      <th>1</th>\n",
       "      <td>ENSG00000273875</td>\n",
       "      <td>A0A087X1Q6</td>\n",
       "    </tr>\n",
       "  </tbody>\n",
       "</table>\n",
       "</div>"
      ],
      "text/plain": [
       "    Gene stable ID UniProtKB Gene Name ID\n",
       "1  ENSG00000273875             A0A087X1Q6"
      ]
     },
     "metadata": {},
     "output_type": "display_data"
    },
    {
     "data": {
      "text/html": [
       "<div>\n",
       "<style scoped>\n",
       "    .dataframe tbody tr th:only-of-type {\n",
       "        vertical-align: middle;\n",
       "    }\n",
       "\n",
       "    .dataframe tbody tr th {\n",
       "        vertical-align: top;\n",
       "    }\n",
       "\n",
       "    .dataframe thead th {\n",
       "        text-align: right;\n",
       "    }\n",
       "</style>\n",
       "<table border=\"1\" class=\"dataframe\">\n",
       "  <thead>\n",
       "    <tr style=\"text-align: right;\">\n",
       "      <th></th>\n",
       "      <th>ensembl_id</th>\n",
       "      <th>protein_id</th>\n",
       "    </tr>\n",
       "  </thead>\n",
       "  <tbody>\n",
       "    <tr>\n",
       "      <th>1</th>\n",
       "      <td>ENSG00000273875</td>\n",
       "      <td>A0A087X1Q6</td>\n",
       "    </tr>\n",
       "  </tbody>\n",
       "</table>\n",
       "</div>"
      ],
      "text/plain": [
       "        ensembl_id  protein_id\n",
       "1  ENSG00000273875  A0A087X1Q6"
      ]
     },
     "execution_count": 3,
     "metadata": {},
     "output_type": "execute_result"
    }
   ],
   "source": [
    "uniprot_ids = pd.read_csv(file_uniprot_ids).dropna()\n",
    "display(uniprot_ids[:1])\n",
    "uniprot_ids.columns = ['ensembl_id', 'protein_id']\n",
    "uniprot_ids[:1]"
   ]
  },
  {
   "cell_type": "markdown",
   "metadata": {},
   "source": [
    "### S. cerevisiae orthologs\n",
    "\n",
    "2 boolean features: has cerevisiae ortholog / has essential cerevisiae ortholog"
   ]
  },
  {
   "cell_type": "markdown",
   "metadata": {},
   "source": [
    "#### Ensembl"
   ]
  },
  {
   "cell_type": "code",
   "execution_count": 4,
   "metadata": {
    "tags": []
   },
   "outputs": [
    {
     "name": "stdout",
     "output_type": "stream",
     "text": [
      "N. cerevisiae orthologs: 1146\n"
     ]
    },
    {
     "data": {
      "text/html": [
       "<div>\n",
       "<style scoped>\n",
       "    .dataframe tbody tr th:only-of-type {\n",
       "        vertical-align: middle;\n",
       "    }\n",
       "\n",
       "    .dataframe tbody tr th {\n",
       "        vertical-align: top;\n",
       "    }\n",
       "\n",
       "    .dataframe thead th {\n",
       "        text-align: right;\n",
       "    }\n",
       "</style>\n",
       "<table border=\"1\" class=\"dataframe\">\n",
       "  <thead>\n",
       "    <tr style=\"text-align: right;\">\n",
       "      <th></th>\n",
       "      <th>ensembl_id</th>\n",
       "      <th>cerevisiae_id</th>\n",
       "      <th>homology_type</th>\n",
       "    </tr>\n",
       "  </thead>\n",
       "  <tbody>\n",
       "    <tr>\n",
       "      <th>3</th>\n",
       "      <td>ENSG00000013503</td>\n",
       "      <td>YOR207C</td>\n",
       "      <td>ortholog_one2many</td>\n",
       "    </tr>\n",
       "  </tbody>\n",
       "</table>\n",
       "</div>"
      ],
      "text/plain": [
       "        ensembl_id cerevisiae_id      homology_type\n",
       "3  ENSG00000013503       YOR207C  ortholog_one2many"
      ]
     },
     "metadata": {},
     "output_type": "display_data"
    },
    {
     "data": {
      "text/html": [
       "<div>\n",
       "<style scoped>\n",
       "    .dataframe tbody tr th:only-of-type {\n",
       "        vertical-align: middle;\n",
       "    }\n",
       "\n",
       "    .dataframe tbody tr th {\n",
       "        vertical-align: top;\n",
       "    }\n",
       "\n",
       "    .dataframe thead th {\n",
       "        text-align: right;\n",
       "    }\n",
       "</style>\n",
       "<table border=\"1\" class=\"dataframe\">\n",
       "  <thead>\n",
       "    <tr style=\"text-align: right;\">\n",
       "      <th></th>\n",
       "      <th>sciName</th>\n",
       "      <th>kingdom</th>\n",
       "      <th>datasetID</th>\n",
       "      <th>locus</th>\n",
       "      <th>essential</th>\n",
       "      <th>pubmedID</th>\n",
       "      <th>taxID</th>\n",
       "      <th>thumbup</th>\n",
       "      <th>thumbdown</th>\n",
       "      <th>valid</th>\n",
       "      <th>fitnessScore</th>\n",
       "      <th>id</th>\n",
       "    </tr>\n",
       "  </thead>\n",
       "  <tbody>\n",
       "    <tr>\n",
       "      <th>0</th>\n",
       "      <td>Saccharomyces cerevisiae</td>\n",
       "      <td>eukaryota</td>\n",
       "      <td>350</td>\n",
       "      <td>Q0045</td>\n",
       "      <td>NE</td>\n",
       "      <td>0</td>\n",
       "      <td>4932</td>\n",
       "      <td>0</td>\n",
       "      <td>0</td>\n",
       "      <td>0</td>\n",
       "      <td>-1.0</td>\n",
       "      <td>3834</td>\n",
       "    </tr>\n",
       "  </tbody>\n",
       "</table>\n",
       "</div>"
      ],
      "text/plain": [
       "                    sciName    kingdom  datasetID  locus essential  pubmedID  \\\n",
       "0  Saccharomyces cerevisiae  eukaryota        350  Q0045        NE         0   \n",
       "\n",
       "   taxID  thumbup  thumbdown  valid  fitnessScore    id  \n",
       "0   4932        0          0      0          -1.0  3834  "
      ]
     },
     "metadata": {},
     "output_type": "display_data"
    },
    {
     "name": "stdout",
     "output_type": "stream",
     "text": [
      "cerevisiae genes that are essential: 19.39%\n"
     ]
    },
    {
     "data": {
      "text/html": [
       "<div>\n",
       "<style scoped>\n",
       "    .dataframe tbody tr th:only-of-type {\n",
       "        vertical-align: middle;\n",
       "    }\n",
       "\n",
       "    .dataframe tbody tr th {\n",
       "        vertical-align: top;\n",
       "    }\n",
       "\n",
       "    .dataframe thead th {\n",
       "        text-align: right;\n",
       "    }\n",
       "</style>\n",
       "<table border=\"1\" class=\"dataframe\">\n",
       "  <thead>\n",
       "    <tr style=\"text-align: right;\">\n",
       "      <th></th>\n",
       "      <th>cerevisiae_id</th>\n",
       "      <th>essential</th>\n",
       "    </tr>\n",
       "  </thead>\n",
       "  <tbody>\n",
       "    <tr>\n",
       "      <th>0</th>\n",
       "      <td>Q0045</td>\n",
       "      <td>False</td>\n",
       "    </tr>\n",
       "  </tbody>\n",
       "</table>\n",
       "</div>"
      ],
      "text/plain": [
       "  cerevisiae_id  essential\n",
       "0         Q0045      False"
      ]
     },
     "metadata": {},
     "output_type": "display_data"
    },
    {
     "name": "stdout",
     "output_type": "stream",
     "text": [
      "Homology types for essential orthologs:\n",
      "ortholog_one2many     253\n",
      "ortholog_many2many     17\n",
      "ortholog_one2one        1\n",
      "Name: homology_type, dtype: int64\n"
     ]
    }
   ],
   "source": [
    "cerevisiae = pd.read_csv(file_cerevisiae_orthologs).dropna()\n",
    "cerevisiae = cerevisiae.rename(columns={'Gene stable ID':'ensembl_id',\n",
    "                                        'Saccharomyces cerevisiae gene stable ID':'cerevisiae_id',\n",
    "                                        'Saccharomyces cerevisiae homology type':'homology_type'})\n",
    "print('N. cerevisiae orthologs:', cerevisiae['cerevisiae_id'].nunique())\n",
    "# Example of one2many - one cerevisiae gene is orthologous to three human genes\n",
    "display(cerevisiae[:1])\n",
    "\n",
    "# Call essential if essential in at least 1 study\n",
    "# e.g. E & NE: http://ogee.medgenius.info/browse/Saccharomyces%2520cerevisiae/YKL122C\n",
    "cerevisiae_ess = pd.read_csv(file_cerevisiae_essentiality, sep='\\t')\n",
    "cerevisiae_ess = cerevisiae_ess[cerevisiae_ess.sciName=='Saccharomyces cerevisiae'].reset_index(drop=True)\n",
    "display(cerevisiae_ess[:1])\n",
    "cerevisiae_ess['essential'] = cerevisiae_ess.essential =='E'\n",
    "cerevisiae_ess = cerevisiae_ess.groupby('locus').essential.max().reset_index().rename(columns={'locus':'cerevisiae_id'})\n",
    "print('cerevisiae genes that are essential: %.2f%%' % (sum(cerevisiae_ess.essential)/cerevisiae_ess.shape[0]*100))\n",
    "display(cerevisiae_ess[:1])\n",
    "\n",
    "# Merge essentiality info with orthologs\n",
    "cerevisiae = pd.merge(cerevisiae[['ensembl_id', 'cerevisiae_id', 'homology_type']], cerevisiae_ess)\n",
    "\n",
    "# Look at homology types for essential orthologs\n",
    "print('Homology types for essential orthologs:\\n',\n",
    "      cerevisiae[cerevisiae.essential].drop_duplicates(subset=['cerevisiae_id'])['homology_type'].value_counts(), sep='')"
   ]
  },
  {
   "cell_type": "code",
   "execution_count": 5,
   "metadata": {},
   "outputs": [
    {
     "data": {
      "text/html": [
       "<div>\n",
       "<style scoped>\n",
       "    .dataframe tbody tr th:only-of-type {\n",
       "        vertical-align: middle;\n",
       "    }\n",
       "\n",
       "    .dataframe tbody tr th {\n",
       "        vertical-align: top;\n",
       "    }\n",
       "\n",
       "    .dataframe thead th {\n",
       "        text-align: right;\n",
       "    }\n",
       "</style>\n",
       "<table border=\"1\" class=\"dataframe\">\n",
       "  <thead>\n",
       "    <tr style=\"text-align: right;\">\n",
       "      <th></th>\n",
       "      <th>ensembl_id</th>\n",
       "      <th>cerevisiae_id</th>\n",
       "      <th>homology_type</th>\n",
       "      <th>essential</th>\n",
       "    </tr>\n",
       "  </thead>\n",
       "  <tbody>\n",
       "    <tr>\n",
       "      <th>2844</th>\n",
       "      <td>ENSG00000277196</td>\n",
       "      <td>YLR142W</td>\n",
       "      <td>ortholog_one2many</td>\n",
       "      <td>False</td>\n",
       "    </tr>\n",
       "    <tr>\n",
       "      <th>2845</th>\n",
       "      <td>ENSG00000250799</td>\n",
       "      <td>YLR142W</td>\n",
       "      <td>ortholog_one2many</td>\n",
       "      <td>False</td>\n",
       "    </tr>\n",
       "    <tr>\n",
       "      <th>2846</th>\n",
       "      <td>ENSG00000100033</td>\n",
       "      <td>YLR142W</td>\n",
       "      <td>ortholog_one2many</td>\n",
       "      <td>False</td>\n",
       "    </tr>\n",
       "  </tbody>\n",
       "</table>\n",
       "</div>"
      ],
      "text/plain": [
       "           ensembl_id cerevisiae_id      homology_type  essential\n",
       "2844  ENSG00000277196       YLR142W  ortholog_one2many      False\n",
       "2845  ENSG00000250799       YLR142W  ortholog_one2many      False\n",
       "2846  ENSG00000100033       YLR142W  ortholog_one2many      False"
      ]
     },
     "metadata": {},
     "output_type": "display_data"
    }
   ],
   "source": [
    "# One-to-many relationship can be in either direction, \n",
    "# i.e. 1 human gene to many cerevisiae genes or 1 cerevisiae gene to many human genes\n",
    "display(cerevisiae[(cerevisiae.homology_type=='ortholog_one2many') & (cerevisiae.cerevisiae_id=='YLR142W')])"
   ]
  },
  {
   "cell_type": "code",
   "execution_count": 6,
   "metadata": {},
   "outputs": [],
   "source": [
    "cerevisiae_essential = cerevisiae[cerevisiae.essential==True].reset_index(drop=True)\n",
    "cerevisiae_single_essential = cerevisiae_essential[cerevisiae_essential.homology_type!='ortholog_many2many']\n",
    "# Check that no Ensembl IDs are duplicated\n",
    "assert(cerevisiae_single_essential[cerevisiae_single_essential.duplicated(subset=['ensembl_id'], keep=False)].shape[0]==0)"
   ]
  },
  {
   "cell_type": "markdown",
   "metadata": {},
   "source": [
    "#### InParanoid\n",
    "- Seed-ortholog pair refers to the two seed members that are orthologous to each other, around which their inparalogs are clustered\n",
    "- Each member of the cluster receives an inparalog score, which reflects the relative distance to the seed-inparalog (1.0=identical to the seed-inparalog; 0.0=of equal distance to the seed-inparalog as the distance between the seed-ortholog pair)\n",
    "- Each cluster is a set of orthologs/paralogs; size of cluster indicates one2one/one2many/many2many relationship"
   ]
  },
  {
   "cell_type": "code",
   "execution_count": 7,
   "metadata": {},
   "outputs": [],
   "source": [
    "# InParanoid could have different human paralogs (inparalogs that we don't call paralogs)\n",
    "def read_inparanoid_file(fname, inparalog_score=0.5):\n",
    "    inparanoid = pd.read_csv(fname, sep='\\t', names=['cluster', 'unknown', 'species', 'score', 'protein_id', 'bootstrap'])\n",
    "    inparanoid = inparanoid.drop(columns=['unknown'])\n",
    "    #display(inparanoid[:2])\n",
    "    \n",
    "    # Merge ensembl IDs for human proteins - multiple ensembl IDs can match to same protein?\n",
    "    inparanoid = pd.merge(inparanoid, uniprot_ids, how='left')\n",
    "    # Drop human genes that don't have an ensembl id\n",
    "    inparanoid = inparanoid[~((inparanoid.species=='H.sapiens') & (inparanoid.ensembl_id.isna()))].reset_index(drop=True)\n",
    "    \n",
    "    # Drop clusters of size 1 (no human ortholog left for the cerevisiae gene)\n",
    "    cluster_sizes = inparanoid.cluster.value_counts()\n",
    "    inparanoid = inparanoid[inparanoid.cluster.isin(cluster_sizes[cluster_sizes>1].index)].reset_index(drop=True)\n",
    "    \n",
    "    for s in [0, 0.5]:\n",
    "        print('N orthologs at score=',s,': ', \n",
    "          inparanoid[(inparanoid.species!='H.sapiens') & (inparanoid.score>=s)].protein_id.nunique(), sep='')\n",
    "        \n",
    "    inparanoid = inparanoid[inparanoid.score >= inparalog_score].reset_index(drop=True)\n",
    "    \n",
    "    return inparanoid"
   ]
  },
  {
   "cell_type": "code",
   "execution_count": 8,
   "metadata": {},
   "outputs": [
    {
     "name": "stdout",
     "output_type": "stream",
     "text": [
      "N orthologs at score=0: 2356\n",
      "N orthologs at score=0.5: 2169\n"
     ]
    },
    {
     "data": {
      "text/html": [
       "<div>\n",
       "<style scoped>\n",
       "    .dataframe tbody tr th:only-of-type {\n",
       "        vertical-align: middle;\n",
       "    }\n",
       "\n",
       "    .dataframe tbody tr th {\n",
       "        vertical-align: top;\n",
       "    }\n",
       "\n",
       "    .dataframe thead th {\n",
       "        text-align: right;\n",
       "    }\n",
       "</style>\n",
       "<table border=\"1\" class=\"dataframe\">\n",
       "  <thead>\n",
       "    <tr style=\"text-align: right;\">\n",
       "      <th></th>\n",
       "      <th>cluster</th>\n",
       "      <th>species</th>\n",
       "      <th>score</th>\n",
       "      <th>protein_id</th>\n",
       "      <th>bootstrap</th>\n",
       "      <th>ensembl_id</th>\n",
       "    </tr>\n",
       "  </thead>\n",
       "  <tbody>\n",
       "    <tr>\n",
       "      <th>0</th>\n",
       "      <td>1</td>\n",
       "      <td>H.sapiens</td>\n",
       "      <td>1.0</td>\n",
       "      <td>Q6P2Q9</td>\n",
       "      <td>100%</td>\n",
       "      <td>ENSG00000174231</td>\n",
       "    </tr>\n",
       "    <tr>\n",
       "      <th>1</th>\n",
       "      <td>1</td>\n",
       "      <td>H.sapiens</td>\n",
       "      <td>1.0</td>\n",
       "      <td>Q6P2Q9</td>\n",
       "      <td>100%</td>\n",
       "      <td>ENSG00000274442</td>\n",
       "    </tr>\n",
       "  </tbody>\n",
       "</table>\n",
       "</div>"
      ],
      "text/plain": [
       "   cluster    species  score protein_id bootstrap       ensembl_id\n",
       "0        1  H.sapiens    1.0     Q6P2Q9      100%  ENSG00000174231\n",
       "1        1  H.sapiens    1.0     Q6P2Q9      100%  ENSG00000274442"
      ]
     },
     "execution_count": 8,
     "metadata": {},
     "output_type": "execute_result"
    }
   ],
   "source": [
    "cerevisiae_ip = read_inparanoid_file(file_IP_cerevisiae, inparalog_score=0.5)\n",
    "cerevisiae_ip[:2]"
   ]
  },
  {
   "cell_type": "markdown",
   "metadata": {},
   "source": [
    "#### All cerevisiae features"
   ]
  },
  {
   "cell_type": "code",
   "execution_count": 9,
   "metadata": {
    "tags": []
   },
   "outputs": [
    {
     "name": "stdout",
     "output_type": "stream",
     "text": [
      "Pairs w/ single / essential / cerevisiae ortholog: 2035 / 2430 / 8172\n",
      "Pairs w/ InParanoid cerevisiae ortholog: 4183\n"
     ]
    },
    {
     "data": {
      "text/html": [
       "<div>\n",
       "<style scoped>\n",
       "    .dataframe tbody tr th:only-of-type {\n",
       "        vertical-align: middle;\n",
       "    }\n",
       "\n",
       "    .dataframe tbody tr th {\n",
       "        vertical-align: top;\n",
       "    }\n",
       "\n",
       "    .dataframe thead th {\n",
       "        text-align: right;\n",
       "    }\n",
       "</style>\n",
       "<table border=\"1\" class=\"dataframe\">\n",
       "  <thead>\n",
       "    <tr style=\"text-align: right;\">\n",
       "      <th></th>\n",
       "      <th>A1</th>\n",
       "      <th>A2</th>\n",
       "      <th>has_cerevisiae_ortholog</th>\n",
       "      <th>has_essential_cerevisiae_ortholog</th>\n",
       "      <th>has_single_essential_cerevisiae_ortholog</th>\n",
       "      <th>has_cerevisiae_ortholog_ip</th>\n",
       "    </tr>\n",
       "  </thead>\n",
       "  <tbody>\n",
       "    <tr>\n",
       "      <th>0</th>\n",
       "      <td>A1BG</td>\n",
       "      <td>OSCAR</td>\n",
       "      <td>False</td>\n",
       "      <td>False</td>\n",
       "      <td>False</td>\n",
       "      <td>False</td>\n",
       "    </tr>\n",
       "    <tr>\n",
       "      <th>1</th>\n",
       "      <td>A1BG</td>\n",
       "      <td>TARM1</td>\n",
       "      <td>False</td>\n",
       "      <td>False</td>\n",
       "      <td>False</td>\n",
       "      <td>False</td>\n",
       "    </tr>\n",
       "  </tbody>\n",
       "</table>\n",
       "</div>"
      ],
      "text/plain": [
       "     A1     A2  has_cerevisiae_ortholog  has_essential_cerevisiae_ortholog  \\\n",
       "0  A1BG  OSCAR                    False                              False   \n",
       "1  A1BG  TARM1                    False                              False   \n",
       "\n",
       "   has_single_essential_cerevisiae_ortholog  has_cerevisiae_ortholog_ip  \n",
       "0                                     False                       False  \n",
       "1                                     False                       False  "
      ]
     },
     "execution_count": 9,
     "metadata": {},
     "output_type": "execute_result"
    }
   ],
   "source": [
    "# Assign features to each paralog pair\n",
    "cerevisiae_features = paralog_pairs[['A1','A2']].assign(\n",
    "    has_cerevisiae_ortholog = \n",
    "        (paralog_pairs.A1_ensembl.isin(cerevisiae.ensembl_id) | paralog_pairs.A2_ensembl.isin(cerevisiae.ensembl_id)),\n",
    "    has_essential_cerevisiae_ortholog = \n",
    "        (paralog_pairs.A1_ensembl.isin(cerevisiae_essential.ensembl_id) | \n",
    "         paralog_pairs.A2_ensembl.isin(cerevisiae_essential.ensembl_id)),\n",
    "    has_single_essential_cerevisiae_ortholog = \n",
    "        (paralog_pairs.A1_ensembl.isin(cerevisiae_single_essential.ensembl_id) | \n",
    "         paralog_pairs.A2_ensembl.isin(cerevisiae_single_essential.ensembl_id)),\n",
    "    has_cerevisiae_ortholog_ip = \n",
    "        (paralog_pairs.A1_ensembl.isin(cerevisiae_ip.ensembl_id) | paralog_pairs.A2_ensembl.isin(cerevisiae_ip.ensembl_id))\n",
    ")\n",
    "\n",
    "print('Pairs w/ single / essential / cerevisiae ortholog:', \n",
    "      sum(cerevisiae_features.has_single_essential_cerevisiae_ortholog), '/',\n",
    "      sum(cerevisiae_features.has_essential_cerevisiae_ortholog), '/',\n",
    "      sum(cerevisiae_features.has_cerevisiae_ortholog))\n",
    "print('Pairs w/ InParanoid cerevisiae ortholog:', sum(cerevisiae_features.has_cerevisiae_ortholog_ip))\n",
    "cerevisiae_features[:2]"
   ]
  },
  {
   "cell_type": "markdown",
   "metadata": {},
   "source": [
    "### S. pombe orthologs"
   ]
  },
  {
   "cell_type": "markdown",
   "metadata": {},
   "source": [
    "#### PomBase"
   ]
  },
  {
   "cell_type": "code",
   "execution_count": 10,
   "metadata": {
    "tags": []
   },
   "outputs": [
    {
     "data": {
      "text/html": [
       "<div>\n",
       "<style scoped>\n",
       "    .dataframe tbody tr th:only-of-type {\n",
       "        vertical-align: middle;\n",
       "    }\n",
       "\n",
       "    .dataframe tbody tr th {\n",
       "        vertical-align: top;\n",
       "    }\n",
       "\n",
       "    .dataframe thead th {\n",
       "        text-align: right;\n",
       "    }\n",
       "</style>\n",
       "<table border=\"1\" class=\"dataframe\">\n",
       "  <thead>\n",
       "    <tr style=\"text-align: right;\">\n",
       "      <th></th>\n",
       "      <th>pombe_id</th>\n",
       "      <th>human_symbol</th>\n",
       "    </tr>\n",
       "  </thead>\n",
       "  <tbody>\n",
       "    <tr>\n",
       "      <th>2</th>\n",
       "      <td>SPAC1002.05c</td>\n",
       "      <td>KDM5D|KDM5C|KDM5B|KDM5A</td>\n",
       "    </tr>\n",
       "  </tbody>\n",
       "</table>\n",
       "</div>"
      ],
      "text/plain": [
       "       pombe_id             human_symbol\n",
       "2  SPAC1002.05c  KDM5D|KDM5C|KDM5B|KDM5A"
      ]
     },
     "metadata": {},
     "output_type": "display_data"
    },
    {
     "data": {
      "text/html": [
       "<div>\n",
       "<style scoped>\n",
       "    .dataframe tbody tr th:only-of-type {\n",
       "        vertical-align: middle;\n",
       "    }\n",
       "\n",
       "    .dataframe tbody tr th {\n",
       "        vertical-align: top;\n",
       "    }\n",
       "\n",
       "    .dataframe thead th {\n",
       "        text-align: right;\n",
       "    }\n",
       "</style>\n",
       "<table border=\"1\" class=\"dataframe\">\n",
       "  <thead>\n",
       "    <tr style=\"text-align: right;\">\n",
       "      <th></th>\n",
       "      <th>pombe_id</th>\n",
       "      <th>human_symbol</th>\n",
       "    </tr>\n",
       "  </thead>\n",
       "  <tbody>\n",
       "    <tr>\n",
       "      <th>2</th>\n",
       "      <td>SPAC1002.05c</td>\n",
       "      <td>KDM5D</td>\n",
       "    </tr>\n",
       "    <tr>\n",
       "      <th>3</th>\n",
       "      <td>SPAC1002.05c</td>\n",
       "      <td>KDM5C</td>\n",
       "    </tr>\n",
       "  </tbody>\n",
       "</table>\n",
       "</div>"
      ],
      "text/plain": [
       "       pombe_id human_symbol\n",
       "2  SPAC1002.05c        KDM5D\n",
       "3  SPAC1002.05c        KDM5C"
      ]
     },
     "metadata": {},
     "output_type": "display_data"
    },
    {
     "name": "stdout",
     "output_type": "stream",
     "text": [
      "N pombe orthologs with essentiality: 3434 / 3534\n",
      "pombe genes that are essential: 26.05%\n"
     ]
    },
    {
     "data": {
      "text/html": [
       "<div>\n",
       "<style scoped>\n",
       "    .dataframe tbody tr th:only-of-type {\n",
       "        vertical-align: middle;\n",
       "    }\n",
       "\n",
       "    .dataframe tbody tr th {\n",
       "        vertical-align: top;\n",
       "    }\n",
       "\n",
       "    .dataframe thead th {\n",
       "        text-align: right;\n",
       "    }\n",
       "</style>\n",
       "<table border=\"1\" class=\"dataframe\">\n",
       "  <thead>\n",
       "    <tr style=\"text-align: right;\">\n",
       "      <th></th>\n",
       "      <th>pombe_id</th>\n",
       "      <th>essentiality</th>\n",
       "      <th>essential</th>\n",
       "    </tr>\n",
       "  </thead>\n",
       "  <tbody>\n",
       "    <tr>\n",
       "      <th>0</th>\n",
       "      <td>SPAC1002.01</td>\n",
       "      <td>V</td>\n",
       "      <td>False</td>\n",
       "    </tr>\n",
       "  </tbody>\n",
       "</table>\n",
       "</div>"
      ],
      "text/plain": [
       "      pombe_id essentiality  essential\n",
       "0  SPAC1002.01            V      False"
      ]
     },
     "metadata": {},
     "output_type": "display_data"
    },
    {
     "name": "stdout",
     "output_type": "stream",
     "text": [
      "N. essential pombe genes: 1116 / 3534\n"
     ]
    },
    {
     "data": {
      "text/html": [
       "<div>\n",
       "<style scoped>\n",
       "    .dataframe tbody tr th:only-of-type {\n",
       "        vertical-align: middle;\n",
       "    }\n",
       "\n",
       "    .dataframe tbody tr th {\n",
       "        vertical-align: top;\n",
       "    }\n",
       "\n",
       "    .dataframe thead th {\n",
       "        text-align: right;\n",
       "    }\n",
       "</style>\n",
       "<table border=\"1\" class=\"dataframe\">\n",
       "  <thead>\n",
       "    <tr style=\"text-align: right;\">\n",
       "      <th></th>\n",
       "      <th>pombe_id</th>\n",
       "      <th>human_symbol</th>\n",
       "      <th>essential</th>\n",
       "    </tr>\n",
       "  </thead>\n",
       "  <tbody>\n",
       "    <tr>\n",
       "      <th>0</th>\n",
       "      <td>SPAC1002.03c</td>\n",
       "      <td>GANAB</td>\n",
       "      <td>False</td>\n",
       "    </tr>\n",
       "    <tr>\n",
       "      <th>1</th>\n",
       "      <td>SPAC1002.04c</td>\n",
       "      <td>TAF11</td>\n",
       "      <td>True</td>\n",
       "    </tr>\n",
       "  </tbody>\n",
       "</table>\n",
       "</div>"
      ],
      "text/plain": [
       "       pombe_id human_symbol  essential\n",
       "0  SPAC1002.03c        GANAB      False\n",
       "1  SPAC1002.04c        TAF11       True"
      ]
     },
     "metadata": {},
     "output_type": "display_data"
    }
   ],
   "source": [
    "pombe = pd.read_csv(file_pombe_orthologs, sep='\\t', names=['pombe_id','human_symbol'])\n",
    "pombe = pombe[pombe.human_symbol != 'NONE'].reset_index(drop=True)\n",
    "display(pombe[2:3])\n",
    "\n",
    "# Expand human genes, they are delimited with | (=multiple orthologs for a pombe gene, one2many)\n",
    "df = pombe.set_index('pombe_id').human_symbol.apply(lambda x: pd.Series(x.split('|'))).stack()\\\n",
    "          .reset_index().drop(columns=['level_1']).rename(columns={0:'human_symbol'})\n",
    "assert(pombe.shape[0] + pombe.human_symbol.apply(lambda x: x.count('|')).sum() == df.shape[0])\n",
    "pombe = df\n",
    "display(pombe[2:4])\n",
    "\n",
    "# E = essential, V = viable (not essential) in Analysis dataset column\n",
    "pombe_ess = pd.read_excel(file_pombe_deletions)\n",
    "pombe_ess = pombe_ess.rename(columns={'Analysis dataset':'essentiality', 'Systemic ID':'pombe_id'})\n",
    "pombe_ess = pombe_ess[['pombe_id', 'essentiality']].dropna(subset=['essentiality'])\n",
    "pombe_ess['essential'] = pombe_ess.essentiality=='E'\n",
    "print('N pombe orthologs with essentiality:', pombe_ess[pombe_ess.pombe_id.isin(pombe.pombe_id)].shape[0], \n",
    "      '/', pombe.pombe_id.nunique())\n",
    "print('pombe genes that are essential: %.2f%%' % (sum(pombe_ess.essential)/pombe_ess.shape[0]*100))\n",
    "display(pombe_ess[:1])\n",
    "\n",
    "# Merge essentiality info with orthologs\n",
    "pombe = pd.merge(pombe, pombe_ess[['pombe_id','essential']], how='left').fillna({'essential':False})\n",
    "print('N. essential pombe genes:', pombe[pombe.essential].pombe_id.nunique(), '/', pombe.pombe_id.nunique())\n",
    "display(pombe[:2])\n",
    "\n",
    "# Essential pombe orthologs\n",
    "pombe_essential = pombe[pombe.essential].reset_index(drop=True)"
   ]
  },
  {
   "cell_type": "code",
   "execution_count": 11,
   "metadata": {},
   "outputs": [
    {
     "name": "stdout",
     "output_type": "stream",
     "text": [
      "N pairs with single essential pombe ortholog: 1062\n"
     ]
    },
    {
     "data": {
      "text/html": [
       "<div>\n",
       "<style scoped>\n",
       "    .dataframe tbody tr th:only-of-type {\n",
       "        vertical-align: middle;\n",
       "    }\n",
       "\n",
       "    .dataframe tbody tr th {\n",
       "        vertical-align: top;\n",
       "    }\n",
       "\n",
       "    .dataframe thead th {\n",
       "        text-align: right;\n",
       "    }\n",
       "</style>\n",
       "<table border=\"1\" class=\"dataframe\">\n",
       "  <thead>\n",
       "    <tr style=\"text-align: right;\">\n",
       "      <th></th>\n",
       "      <th>A1</th>\n",
       "      <th>A2</th>\n",
       "      <th>has_single_essential_pombe_ortholog</th>\n",
       "    </tr>\n",
       "  </thead>\n",
       "  <tbody>\n",
       "    <tr>\n",
       "      <th>0</th>\n",
       "      <td>AARS1</td>\n",
       "      <td>AARS2</td>\n",
       "      <td>True</td>\n",
       "    </tr>\n",
       "  </tbody>\n",
       "</table>\n",
       "</div>"
      ],
      "text/plain": [
       "      A1     A2  has_single_essential_pombe_ortholog\n",
       "0  AARS1  AARS2                                 True"
      ]
     },
     "execution_count": 11,
     "metadata": {},
     "output_type": "execute_result"
    }
   ],
   "source": [
    "# Merge pombe info with paralog pairs (for each gene)\n",
    "df1 = pd.merge(paralog_pairs[['A1','A2']], pombe.rename(columns={'human_symbol':'A1'}))\n",
    "df2 = pd.merge(paralog_pairs[['A1','A2']], pombe.rename(columns={'human_symbol':'A2'}))\n",
    "df = pd.concat([df1,df2]).drop_duplicates()\n",
    "# For each pair, count number of pombe orthologs and whether any of those ortholog are essential\n",
    "df = df.groupby(['A1','A2']).agg({'pombe_id':'nunique','essential':'max'}).reset_index().rename(columns={'pombe_id':'n_pombe'})\n",
    "\n",
    "# Only keep pairs with single essential\n",
    "w_pombe_single_essential = df[(df.n_pombe==1) & (df.essential==True)]\n",
    "w_pombe_single_essential = w_pombe_single_essential.drop(columns=['n_pombe','essential']).reset_index(drop=True)\n",
    "w_pombe_single_essential['has_single_essential_pombe_ortholog'] = True\n",
    "print('N pairs with single essential pombe ortholog:', w_pombe_single_essential.shape[0])\n",
    "w_pombe_single_essential[:1]"
   ]
  },
  {
   "cell_type": "markdown",
   "metadata": {},
   "source": [
    "#### InParanoid"
   ]
  },
  {
   "cell_type": "code",
   "execution_count": 12,
   "metadata": {},
   "outputs": [
    {
     "name": "stdout",
     "output_type": "stream",
     "text": [
      "N orthologs at score=0: 2445\n",
      "N orthologs at score=0.5: 2321\n"
     ]
    },
    {
     "data": {
      "text/html": [
       "<div>\n",
       "<style scoped>\n",
       "    .dataframe tbody tr th:only-of-type {\n",
       "        vertical-align: middle;\n",
       "    }\n",
       "\n",
       "    .dataframe tbody tr th {\n",
       "        vertical-align: top;\n",
       "    }\n",
       "\n",
       "    .dataframe thead th {\n",
       "        text-align: right;\n",
       "    }\n",
       "</style>\n",
       "<table border=\"1\" class=\"dataframe\">\n",
       "  <thead>\n",
       "    <tr style=\"text-align: right;\">\n",
       "      <th></th>\n",
       "      <th>cluster</th>\n",
       "      <th>species</th>\n",
       "      <th>score</th>\n",
       "      <th>protein_id</th>\n",
       "      <th>bootstrap</th>\n",
       "      <th>ensembl_id</th>\n",
       "    </tr>\n",
       "  </thead>\n",
       "  <tbody>\n",
       "    <tr>\n",
       "      <th>0</th>\n",
       "      <td>1</td>\n",
       "      <td>H.sapiens</td>\n",
       "      <td>1.0</td>\n",
       "      <td>Q6P2Q9</td>\n",
       "      <td>100%</td>\n",
       "      <td>ENSG00000174231</td>\n",
       "    </tr>\n",
       "    <tr>\n",
       "      <th>1</th>\n",
       "      <td>1</td>\n",
       "      <td>H.sapiens</td>\n",
       "      <td>1.0</td>\n",
       "      <td>Q6P2Q9</td>\n",
       "      <td>100%</td>\n",
       "      <td>ENSG00000274442</td>\n",
       "    </tr>\n",
       "  </tbody>\n",
       "</table>\n",
       "</div>"
      ],
      "text/plain": [
       "   cluster    species  score protein_id bootstrap       ensembl_id\n",
       "0        1  H.sapiens    1.0     Q6P2Q9      100%  ENSG00000174231\n",
       "1        1  H.sapiens    1.0     Q6P2Q9      100%  ENSG00000274442"
      ]
     },
     "execution_count": 12,
     "metadata": {},
     "output_type": "execute_result"
    }
   ],
   "source": [
    "pombe_ip = read_inparanoid_file(file_IP_pombe, inparalog_score=0.5)\n",
    "pombe_ip[:2]"
   ]
  },
  {
   "cell_type": "markdown",
   "metadata": {},
   "source": [
    "#### All pombe features"
   ]
  },
  {
   "cell_type": "code",
   "execution_count": 13,
   "metadata": {
    "tags": []
   },
   "outputs": [
    {
     "name": "stdout",
     "output_type": "stream",
     "text": [
      "\n",
      "Pairs w/ single / essential / pombe ortholog: 1062 / 1667 / 5757\n",
      "Pairs w/ InParanoid pombe ortholog: 4774\n"
     ]
    },
    {
     "data": {
      "text/html": [
       "<div>\n",
       "<style scoped>\n",
       "    .dataframe tbody tr th:only-of-type {\n",
       "        vertical-align: middle;\n",
       "    }\n",
       "\n",
       "    .dataframe tbody tr th {\n",
       "        vertical-align: top;\n",
       "    }\n",
       "\n",
       "    .dataframe thead th {\n",
       "        text-align: right;\n",
       "    }\n",
       "</style>\n",
       "<table border=\"1\" class=\"dataframe\">\n",
       "  <thead>\n",
       "    <tr style=\"text-align: right;\">\n",
       "      <th></th>\n",
       "      <th>A1</th>\n",
       "      <th>A2</th>\n",
       "      <th>has_pombe_ortholog</th>\n",
       "      <th>has_essential_pombe_ortholog</th>\n",
       "      <th>has_pombe_ortholog_ip</th>\n",
       "      <th>has_single_essential_pombe_ortholog</th>\n",
       "    </tr>\n",
       "  </thead>\n",
       "  <tbody>\n",
       "    <tr>\n",
       "      <th>0</th>\n",
       "      <td>A1BG</td>\n",
       "      <td>OSCAR</td>\n",
       "      <td>False</td>\n",
       "      <td>False</td>\n",
       "      <td>False</td>\n",
       "      <td>False</td>\n",
       "    </tr>\n",
       "    <tr>\n",
       "      <th>1</th>\n",
       "      <td>A1BG</td>\n",
       "      <td>TARM1</td>\n",
       "      <td>False</td>\n",
       "      <td>False</td>\n",
       "      <td>False</td>\n",
       "      <td>False</td>\n",
       "    </tr>\n",
       "  </tbody>\n",
       "</table>\n",
       "</div>"
      ],
      "text/plain": [
       "     A1     A2  has_pombe_ortholog  has_essential_pombe_ortholog  \\\n",
       "0  A1BG  OSCAR               False                         False   \n",
       "1  A1BG  TARM1               False                         False   \n",
       "\n",
       "   has_pombe_ortholog_ip  has_single_essential_pombe_ortholog  \n",
       "0                  False                                False  \n",
       "1                  False                                False  "
      ]
     },
     "execution_count": 13,
     "metadata": {},
     "output_type": "execute_result"
    }
   ],
   "source": [
    "# Assign features to each paralog pair\n",
    "pombe_features = paralog_pairs[['A1','A2']].assign(\n",
    "    has_pombe_ortholog = \n",
    "        (paralog_pairs.A1.isin(pombe.human_symbol) | paralog_pairs.A2.isin(pombe.human_symbol)),\n",
    "    has_essential_pombe_ortholog = \n",
    "        (paralog_pairs.A1.isin(pombe_essential.human_symbol) | paralog_pairs.A2.isin(pombe_essential.human_symbol)),\n",
    "    has_pombe_ortholog_ip = \n",
    "       (paralog_pairs.A1_ensembl.isin(pombe_ip.ensembl_id) | paralog_pairs.A2_ensembl.isin(pombe_ip.ensembl_id))\n",
    ")\n",
    "\n",
    "# Merge pairs with single essential pombe ortholog\n",
    "pombe_features = pd.merge(pombe_features, w_pombe_single_essential, how='left')\n",
    "pombe_features = pombe_features.fillna({'has_single_essential_pombe_ortholog':False})\n",
    "\n",
    "print('\\nPairs w/ single / essential / pombe ortholog:', \n",
    "      sum(pombe_features.has_single_essential_pombe_ortholog), '/', \n",
    "      sum(pombe_features.has_essential_pombe_ortholog), '/', \n",
    "      sum(pombe_features.has_pombe_ortholog))\n",
    "print('Pairs w/ InParanoid pombe ortholog:', sum(pombe_features.has_pombe_ortholog_ip))\n",
    "pombe_features[:2]"
   ]
  },
  {
   "cell_type": "markdown",
   "metadata": {},
   "source": [
    "### E. coli"
   ]
  },
  {
   "cell_type": "code",
   "execution_count": 14,
   "metadata": {
    "tags": []
   },
   "outputs": [
    {
     "name": "stdout",
     "output_type": "stream",
     "text": [
      "N orthologs at score=0: 620\n",
      "N orthologs at score=0.5: 545\n",
      "Pairs w/ inparanoid E. coli ortholog: 723\n"
     ]
    },
    {
     "data": {
      "text/html": [
       "<div>\n",
       "<style scoped>\n",
       "    .dataframe tbody tr th:only-of-type {\n",
       "        vertical-align: middle;\n",
       "    }\n",
       "\n",
       "    .dataframe tbody tr th {\n",
       "        vertical-align: top;\n",
       "    }\n",
       "\n",
       "    .dataframe thead th {\n",
       "        text-align: right;\n",
       "    }\n",
       "</style>\n",
       "<table border=\"1\" class=\"dataframe\">\n",
       "  <thead>\n",
       "    <tr style=\"text-align: right;\">\n",
       "      <th></th>\n",
       "      <th>A1_ensembl</th>\n",
       "      <th>A2_ensembl</th>\n",
       "      <th>has_ecoli_ortholog</th>\n",
       "    </tr>\n",
       "  </thead>\n",
       "  <tbody>\n",
       "    <tr>\n",
       "      <th>0</th>\n",
       "      <td>ENSG00000121410</td>\n",
       "      <td>ENSG00000170909</td>\n",
       "      <td>False</td>\n",
       "    </tr>\n",
       "    <tr>\n",
       "      <th>1</th>\n",
       "      <td>ENSG00000121410</td>\n",
       "      <td>ENSG00000248385</td>\n",
       "      <td>False</td>\n",
       "    </tr>\n",
       "  </tbody>\n",
       "</table>\n",
       "</div>"
      ],
      "text/plain": [
       "        A1_ensembl       A2_ensembl  has_ecoli_ortholog\n",
       "0  ENSG00000121410  ENSG00000170909               False\n",
       "1  ENSG00000121410  ENSG00000248385               False"
      ]
     },
     "execution_count": 14,
     "metadata": {},
     "output_type": "execute_result"
    }
   ],
   "source": [
    "ecoli_orthologs = read_inparanoid_file(file_IP_ecoli, inparalog_score=0.5)\n",
    "ecoli_features = paralog_pairs[['A1_ensembl','A2_ensembl']].assign(\n",
    "    has_ecoli_ortholog = (paralog_pairs.A1_ensembl.isin(ecoli_orthologs.ensembl_id) | \n",
    "                          paralog_pairs.A2_ensembl.isin(ecoli_orthologs.ensembl_id))\n",
    ")\n",
    "print('Pairs w/ inparanoid E. coli ortholog:', sum(ecoli_features.has_ecoli_ortholog))\n",
    "ecoli_features[:2]"
   ]
  },
  {
   "cell_type": "markdown",
   "metadata": {},
   "source": [
    "### A. thaliana"
   ]
  },
  {
   "cell_type": "code",
   "execution_count": 15,
   "metadata": {
    "tags": []
   },
   "outputs": [
    {
     "name": "stdout",
     "output_type": "stream",
     "text": [
      "N orthologs at score=0: 7497\n",
      "N orthologs at score=0.5: 4564\n",
      "Pairs w/ inparanoid A. thaliana ortholog: 7471\n"
     ]
    },
    {
     "data": {
      "text/html": [
       "<div>\n",
       "<style scoped>\n",
       "    .dataframe tbody tr th:only-of-type {\n",
       "        vertical-align: middle;\n",
       "    }\n",
       "\n",
       "    .dataframe tbody tr th {\n",
       "        vertical-align: top;\n",
       "    }\n",
       "\n",
       "    .dataframe thead th {\n",
       "        text-align: right;\n",
       "    }\n",
       "</style>\n",
       "<table border=\"1\" class=\"dataframe\">\n",
       "  <thead>\n",
       "    <tr style=\"text-align: right;\">\n",
       "      <th></th>\n",
       "      <th>A1_ensembl</th>\n",
       "      <th>A2_ensembl</th>\n",
       "      <th>has_thaliana_ortholog</th>\n",
       "    </tr>\n",
       "  </thead>\n",
       "  <tbody>\n",
       "    <tr>\n",
       "      <th>0</th>\n",
       "      <td>ENSG00000121410</td>\n",
       "      <td>ENSG00000170909</td>\n",
       "      <td>False</td>\n",
       "    </tr>\n",
       "    <tr>\n",
       "      <th>1</th>\n",
       "      <td>ENSG00000121410</td>\n",
       "      <td>ENSG00000248385</td>\n",
       "      <td>False</td>\n",
       "    </tr>\n",
       "  </tbody>\n",
       "</table>\n",
       "</div>"
      ],
      "text/plain": [
       "        A1_ensembl       A2_ensembl  has_thaliana_ortholog\n",
       "0  ENSG00000121410  ENSG00000170909                  False\n",
       "1  ENSG00000121410  ENSG00000248385                  False"
      ]
     },
     "execution_count": 15,
     "metadata": {},
     "output_type": "execute_result"
    }
   ],
   "source": [
    "thaliana_orthologs = read_inparanoid_file(file_IP_thaliana, inparalog_score=0.5)\n",
    "thaliana_features = paralog_pairs[['A1_ensembl','A2_ensembl']].assign(\n",
    "    has_thaliana_ortholog = (paralog_pairs.A1_ensembl.isin(thaliana_orthologs.ensembl_id) | \n",
    "                             paralog_pairs.A2_ensembl.isin(thaliana_orthologs.ensembl_id))\n",
    ")\n",
    "print('Pairs w/ inparanoid A. thaliana ortholog:', sum(thaliana_features.has_thaliana_ortholog))\n",
    "thaliana_features[:2]"
   ]
  },
  {
   "cell_type": "markdown",
   "metadata": {},
   "source": [
    "### Conservation score\n",
    "\n",
    "Based on orthologs from 9 species:\n",
    "- S. cerevisiae\n",
    "- Drosophila (fruitfly)\n",
    "- Mouse\n",
    "- C. elegans\n",
    "- Zebrafish\n",
    "- Xenopus (tropical clawed frog)\n",
    "- Rat\n",
    "- Thale cress (InParanoid)\n",
    "- E. coli (InParanoid)"
   ]
  },
  {
   "cell_type": "code",
   "execution_count": 16,
   "metadata": {},
   "outputs": [
    {
     "data": {
      "text/html": [
       "<div>\n",
       "<style scoped>\n",
       "    .dataframe tbody tr th:only-of-type {\n",
       "        vertical-align: middle;\n",
       "    }\n",
       "\n",
       "    .dataframe tbody tr th {\n",
       "        vertical-align: top;\n",
       "    }\n",
       "\n",
       "    .dataframe thead th {\n",
       "        text-align: right;\n",
       "    }\n",
       "</style>\n",
       "<table border=\"1\" class=\"dataframe\">\n",
       "  <thead>\n",
       "    <tr style=\"text-align: right;\">\n",
       "      <th></th>\n",
       "      <th>Gene stable ID</th>\n",
       "      <th>Caenorhabditis elegans gene stable ID</th>\n",
       "      <th>Fruitfly gene stable ID</th>\n",
       "      <th>Mouse gene stable ID</th>\n",
       "      <th>Rat gene stable ID</th>\n",
       "      <th>Xenopus gene stable ID</th>\n",
       "      <th>Zebrafish gene stable ID</th>\n",
       "    </tr>\n",
       "  </thead>\n",
       "  <tbody>\n",
       "    <tr>\n",
       "      <th>1</th>\n",
       "      <td>ENSG00000276345</td>\n",
       "      <td>WBGene00020348</td>\n",
       "      <td>FBgn0035335</td>\n",
       "      <td>ENSMUSG00000037772</td>\n",
       "      <td>ENSRNOG00000020354</td>\n",
       "      <td>ENSXETG00000014017</td>\n",
       "      <td>ENSDARG00000045696</td>\n",
       "    </tr>\n",
       "  </tbody>\n",
       "</table>\n",
       "</div>"
      ],
      "text/plain": [
       "    Gene stable ID Caenorhabditis elegans gene stable ID  \\\n",
       "1  ENSG00000276345                        WBGene00020348   \n",
       "\n",
       "  Fruitfly gene stable ID Mouse gene stable ID  Rat gene stable ID  \\\n",
       "1             FBgn0035335   ENSMUSG00000037772  ENSRNOG00000020354   \n",
       "\n",
       "  Xenopus gene stable ID Zebrafish gene stable ID  \n",
       "1     ENSXETG00000014017       ENSDARG00000045696  "
      ]
     },
     "execution_count": 16,
     "metadata": {},
     "output_type": "execute_result"
    }
   ],
   "source": [
    "species_orthologs_raw = pd.read_csv(file_species_orthologs, low_memory=False)\n",
    "species_orthologs_raw[1:2]"
   ]
  },
  {
   "cell_type": "code",
   "execution_count": 17,
   "metadata": {
    "tags": []
   },
   "outputs": [
    {
     "data": {
      "text/html": [
       "<div>\n",
       "<style scoped>\n",
       "    .dataframe tbody tr th:only-of-type {\n",
       "        vertical-align: middle;\n",
       "    }\n",
       "\n",
       "    .dataframe tbody tr th {\n",
       "        vertical-align: top;\n",
       "    }\n",
       "\n",
       "    .dataframe thead th {\n",
       "        text-align: right;\n",
       "    }\n",
       "</style>\n",
       "<table border=\"1\" class=\"dataframe\">\n",
       "  <thead>\n",
       "    <tr style=\"text-align: right;\">\n",
       "      <th></th>\n",
       "      <th>ensembl_id</th>\n",
       "      <th>Caenorhabditis elegans gene stable ID</th>\n",
       "      <th>Fruitfly gene stable ID</th>\n",
       "      <th>Mouse gene stable ID</th>\n",
       "      <th>Rat gene stable ID</th>\n",
       "      <th>Xenopus gene stable ID</th>\n",
       "      <th>Zebrafish gene stable ID</th>\n",
       "      <th>Saccharomyces cerevisiae gene stable ID</th>\n",
       "    </tr>\n",
       "  </thead>\n",
       "  <tbody>\n",
       "    <tr>\n",
       "      <th>0</th>\n",
       "      <td>ENSG00000000003</td>\n",
       "      <td>False</td>\n",
       "      <td>False</td>\n",
       "      <td>True</td>\n",
       "      <td>True</td>\n",
       "      <td>True</td>\n",
       "      <td>True</td>\n",
       "      <td>False</td>\n",
       "    </tr>\n",
       "  </tbody>\n",
       "</table>\n",
       "</div>"
      ],
      "text/plain": [
       "        ensembl_id  Caenorhabditis elegans gene stable ID  \\\n",
       "0  ENSG00000000003                                  False   \n",
       "\n",
       "   Fruitfly gene stable ID  Mouse gene stable ID  Rat gene stable ID  \\\n",
       "0                    False                  True                True   \n",
       "\n",
       "   Xenopus gene stable ID  Zebrafish gene stable ID  \\\n",
       "0                    True                      True   \n",
       "\n",
       "   Saccharomyces cerevisiae gene stable ID  \n",
       "0                                    False  "
      ]
     },
     "metadata": {},
     "output_type": "display_data"
    },
    {
     "data": {
      "text/html": [
       "<div>\n",
       "<style scoped>\n",
       "    .dataframe tbody tr th:only-of-type {\n",
       "        vertical-align: middle;\n",
       "    }\n",
       "\n",
       "    .dataframe tbody tr th {\n",
       "        vertical-align: top;\n",
       "    }\n",
       "\n",
       "    .dataframe thead th {\n",
       "        text-align: right;\n",
       "    }\n",
       "</style>\n",
       "<table border=\"1\" class=\"dataframe\">\n",
       "  <thead>\n",
       "    <tr style=\"text-align: right;\">\n",
       "      <th></th>\n",
       "      <th>ensembl_id</th>\n",
       "      <th>Caenorhabditis elegans gene stable ID</th>\n",
       "      <th>Fruitfly gene stable ID</th>\n",
       "      <th>Mouse gene stable ID</th>\n",
       "      <th>Rat gene stable ID</th>\n",
       "      <th>Xenopus gene stable ID</th>\n",
       "      <th>Zebrafish gene stable ID</th>\n",
       "      <th>Saccharomyces cerevisiae gene stable ID</th>\n",
       "      <th>thale_cress</th>\n",
       "      <th>e_coli</th>\n",
       "    </tr>\n",
       "  </thead>\n",
       "  <tbody>\n",
       "    <tr>\n",
       "      <th>0</th>\n",
       "      <td>ENSG00000000003</td>\n",
       "      <td>False</td>\n",
       "      <td>False</td>\n",
       "      <td>True</td>\n",
       "      <td>True</td>\n",
       "      <td>True</td>\n",
       "      <td>True</td>\n",
       "      <td>False</td>\n",
       "      <td>False</td>\n",
       "      <td>False</td>\n",
       "    </tr>\n",
       "  </tbody>\n",
       "</table>\n",
       "</div>"
      ],
      "text/plain": [
       "        ensembl_id  Caenorhabditis elegans gene stable ID  \\\n",
       "0  ENSG00000000003                                  False   \n",
       "\n",
       "   Fruitfly gene stable ID  Mouse gene stable ID  Rat gene stable ID  \\\n",
       "0                    False                  True                True   \n",
       "\n",
       "   Xenopus gene stable ID  Zebrafish gene stable ID  \\\n",
       "0                    True                      True   \n",
       "\n",
       "   Saccharomyces cerevisiae gene stable ID  thale_cress  e_coli  \n",
       "0                                    False        False   False  "
      ]
     },
     "metadata": {},
     "output_type": "display_data"
    },
    {
     "name": "stdout",
     "output_type": "stream",
     "text": [
      "N: 14532\n",
      "N species: 9\n"
     ]
    }
   ],
   "source": [
    "orthologs = species_orthologs_raw.groupby('Gene stable ID').agg(lambda x: ~x.isna().all()).reset_index()\n",
    "\n",
    "# Merge cerevisiae orthologs (also from Ensembl)\n",
    "cerevisiae_orthologs = pd.read_csv(file_cerevisiae_orthologs)[['Gene stable ID', 'Saccharomyces cerevisiae gene stable ID']]\n",
    "cerevisiae_orthologs = cerevisiae_orthologs.groupby('Gene stable ID').agg(lambda x: ~x.isna().all()).reset_index()\n",
    "orthologs = pd.merge(orthologs, cerevisiae_orthologs, how=\"outer\").rename(columns={'Gene stable ID':'ensembl_id'})\n",
    "display(orthologs[:1])\n",
    "\n",
    "# Add E. coli and thale cress orthologs from InParanoid\n",
    "orthologs = orthologs.assign(thale_cress = orthologs.ensembl_id.isin(thaliana_orthologs.ensembl_id),\n",
    "                             e_coli = orthologs.ensembl_id.isin(ecoli_orthologs.ensembl_id))\n",
    "\n",
    "n_species = orthologs.shape[1]-1\n",
    "display(orthologs[:1])\n",
    "print('N:', orthologs.shape[0])\n",
    "print('N species:', n_species)"
   ]
  },
  {
   "cell_type": "code",
   "execution_count": 18,
   "metadata": {},
   "outputs": [
    {
     "data": {
      "text/html": [
       "<div>\n",
       "<style scoped>\n",
       "    .dataframe tbody tr th:only-of-type {\n",
       "        vertical-align: middle;\n",
       "    }\n",
       "\n",
       "    .dataframe tbody tr th {\n",
       "        vertical-align: top;\n",
       "    }\n",
       "\n",
       "    .dataframe thead th {\n",
       "        text-align: right;\n",
       "    }\n",
       "</style>\n",
       "<table border=\"1\" class=\"dataframe\">\n",
       "  <thead>\n",
       "    <tr style=\"text-align: right;\">\n",
       "      <th></th>\n",
       "      <th>A1_ensembl</th>\n",
       "      <th>A2_ensembl</th>\n",
       "      <th>Caenorhabditis elegans gene stable ID</th>\n",
       "      <th>Fruitfly gene stable ID</th>\n",
       "      <th>Mouse gene stable ID</th>\n",
       "      <th>Rat gene stable ID</th>\n",
       "      <th>Xenopus gene stable ID</th>\n",
       "      <th>Zebrafish gene stable ID</th>\n",
       "      <th>Saccharomyces cerevisiae gene stable ID</th>\n",
       "      <th>thale_cress</th>\n",
       "      <th>e_coli</th>\n",
       "    </tr>\n",
       "  </thead>\n",
       "  <tbody>\n",
       "    <tr>\n",
       "      <th>0</th>\n",
       "      <td>ENSG00000000003</td>\n",
       "      <td>ENSG00000156298</td>\n",
       "      <td>False</td>\n",
       "      <td>False</td>\n",
       "      <td>True</td>\n",
       "      <td>True</td>\n",
       "      <td>True</td>\n",
       "      <td>True</td>\n",
       "      <td>False</td>\n",
       "      <td>False</td>\n",
       "      <td>False</td>\n",
       "    </tr>\n",
       "  </tbody>\n",
       "</table>\n",
       "</div>"
      ],
      "text/plain": [
       "        A1_ensembl       A2_ensembl  Caenorhabditis elegans gene stable ID  \\\n",
       "0  ENSG00000000003  ENSG00000156298                                  False   \n",
       "\n",
       "   Fruitfly gene stable ID  Mouse gene stable ID  Rat gene stable ID  \\\n",
       "0                    False                  True                True   \n",
       "\n",
       "   Xenopus gene stable ID  Zebrafish gene stable ID  \\\n",
       "0                    True                      True   \n",
       "\n",
       "   Saccharomyces cerevisiae gene stable ID  thale_cress  e_coli  \n",
       "0                                    False        False   False  "
      ]
     },
     "metadata": {},
     "output_type": "display_data"
    },
    {
     "name": "stdout",
     "output_type": "stream",
     "text": [
      "Pairs conserved in all 9 species: 260\n",
      "Avg. conservation score: 4.812404496834752\n"
     ]
    },
    {
     "data": {
      "text/html": [
       "<div>\n",
       "<style scoped>\n",
       "    .dataframe tbody tr th:only-of-type {\n",
       "        vertical-align: middle;\n",
       "    }\n",
       "\n",
       "    .dataframe tbody tr th {\n",
       "        vertical-align: top;\n",
       "    }\n",
       "\n",
       "    .dataframe thead th {\n",
       "        text-align: right;\n",
       "    }\n",
       "</style>\n",
       "<table border=\"1\" class=\"dataframe\">\n",
       "  <thead>\n",
       "    <tr style=\"text-align: right;\">\n",
       "      <th></th>\n",
       "      <th>A1_ensembl</th>\n",
       "      <th>A2_ensembl</th>\n",
       "      <th>conservation_score</th>\n",
       "    </tr>\n",
       "  </thead>\n",
       "  <tbody>\n",
       "    <tr>\n",
       "      <th>0</th>\n",
       "      <td>ENSG00000000003</td>\n",
       "      <td>ENSG00000156298</td>\n",
       "      <td>4</td>\n",
       "    </tr>\n",
       "  </tbody>\n",
       "</table>\n",
       "</div>"
      ],
      "text/plain": [
       "        A1_ensembl       A2_ensembl  conservation_score\n",
       "0  ENSG00000000003  ENSG00000156298                   4"
      ]
     },
     "metadata": {},
     "output_type": "display_data"
    }
   ],
   "source": [
    "# Conversation score = number of species in which at least one paralog has an ortholog\n",
    "# Merge independently on each gene in paralog pair\n",
    "df1 = pd.merge(paralog_pairs[['A1_ensembl','A2_ensembl']], orthologs.rename(columns={'ensembl_id':'A1_ensembl'}))\n",
    "df2 = pd.merge(paralog_pairs[['A1_ensembl','A2_ensembl']], orthologs.rename(columns={'ensembl_id':'A2_ensembl'}))\n",
    "df = pd.concat([df1, df2])\n",
    "\n",
    "# Indicates whether either gene has an ortholog in each species\n",
    "df = df.groupby(['A1_ensembl','A2_ensembl']).max().reset_index()\n",
    "display(df[:1])\n",
    "\n",
    "df['conservation_score'] = df.iloc[:, 2:].sum(axis=1)\n",
    "conservation = df[['A1_ensembl','A2_ensembl','conservation_score']]\n",
    "print('Pairs conserved in all 9 species:', conservation[conservation.conservation_score==9].shape[0])\n",
    "print('Avg. conservation score:', conservation.conservation_score.mean())\n",
    "display(conservation[:1])"
   ]
  },
  {
   "cell_type": "markdown",
   "metadata": {},
   "source": [
    "### Merge and export"
   ]
  },
  {
   "cell_type": "code",
   "execution_count": 20,
   "metadata": {},
   "outputs": [
    {
     "data": {
      "text/html": [
       "<div>\n",
       "<style scoped>\n",
       "    .dataframe tbody tr th:only-of-type {\n",
       "        vertical-align: middle;\n",
       "    }\n",
       "\n",
       "    .dataframe tbody tr th {\n",
       "        vertical-align: top;\n",
       "    }\n",
       "\n",
       "    .dataframe thead th {\n",
       "        text-align: right;\n",
       "    }\n",
       "</style>\n",
       "<table border=\"1\" class=\"dataframe\">\n",
       "  <thead>\n",
       "    <tr style=\"text-align: right;\">\n",
       "      <th></th>\n",
       "      <th>A1</th>\n",
       "      <th>A2</th>\n",
       "      <th>A1_ensembl</th>\n",
       "      <th>A2_ensembl</th>\n",
       "      <th>has_cerevisiae_ortholog</th>\n",
       "      <th>has_essential_cerevisiae_ortholog</th>\n",
       "      <th>has_single_essential_cerevisiae_ortholog</th>\n",
       "      <th>has_cerevisiae_ortholog_ip</th>\n",
       "      <th>has_pombe_ortholog</th>\n",
       "      <th>has_essential_pombe_ortholog</th>\n",
       "      <th>has_pombe_ortholog_ip</th>\n",
       "      <th>has_single_essential_pombe_ortholog</th>\n",
       "      <th>has_ecoli_ortholog</th>\n",
       "      <th>conservation_score</th>\n",
       "    </tr>\n",
       "  </thead>\n",
       "  <tbody>\n",
       "    <tr>\n",
       "      <th>0</th>\n",
       "      <td>A1BG</td>\n",
       "      <td>OSCAR</td>\n",
       "      <td>ENSG00000121410</td>\n",
       "      <td>ENSG00000170909</td>\n",
       "      <td>False</td>\n",
       "      <td>False</td>\n",
       "      <td>False</td>\n",
       "      <td>False</td>\n",
       "      <td>False</td>\n",
       "      <td>False</td>\n",
       "      <td>False</td>\n",
       "      <td>False</td>\n",
       "      <td>False</td>\n",
       "      <td>3</td>\n",
       "    </tr>\n",
       "  </tbody>\n",
       "</table>\n",
       "</div>"
      ],
      "text/plain": [
       "     A1     A2       A1_ensembl       A2_ensembl  has_cerevisiae_ortholog  \\\n",
       "0  A1BG  OSCAR  ENSG00000121410  ENSG00000170909                    False   \n",
       "\n",
       "   has_essential_cerevisiae_ortholog  \\\n",
       "0                              False   \n",
       "\n",
       "   has_single_essential_cerevisiae_ortholog  has_cerevisiae_ortholog_ip  \\\n",
       "0                                     False                       False   \n",
       "\n",
       "   has_pombe_ortholog  has_essential_pombe_ortholog  has_pombe_ortholog_ip  \\\n",
       "0               False                         False                  False   \n",
       "\n",
       "   has_single_essential_pombe_ortholog  has_ecoli_ortholog  conservation_score  \n",
       "0                                False               False                   3  "
      ]
     },
     "execution_count": 20,
     "metadata": {},
     "output_type": "execute_result"
    }
   ],
   "source": [
    "ortholog_features = pd.merge(paralog_pairs[['A1','A2','A1_ensembl','A2_ensembl']], cerevisiae_features)\n",
    "ortholog_features = pd.merge(ortholog_features, pombe_features)\n",
    "ortholog_features = pd.merge(ortholog_features, ecoli_features)\n",
    "ortholog_features = pd.merge(ortholog_features, conservation)\n",
    "assert(ortholog_features.shape[0] == paralog_pairs.shape[0])\n",
    "ortholog_features[:1]"
   ]
  },
  {
   "cell_type": "code",
   "execution_count": 22,
   "metadata": {},
   "outputs": [],
   "source": [
    "ortholog_features.to_csv(file_ortholog_features, index=0)"
   ]
  },
  {
   "cell_type": "code",
   "execution_count": 23,
   "metadata": {},
   "outputs": [
    {
     "data": {
      "text/plain": [
       "Text(0, 0.5, 'Num. paralog pairs')"
      ]
     },
     "execution_count": 23,
     "metadata": {},
     "output_type": "execute_result"
    },
    {
     "data": {
      "image/png": "[encoded data removed]",
      "text/plain": [
       "<Figure size 216x216 with 1 Axes>"
      ]
     },
     "metadata": {
      "needs_background": "light"
     },
     "output_type": "display_data"
    }
   ],
   "source": [
    "f, ax = plt.subplots(1, 1, figsize=(3,3))\n",
    "sns.countplot(x=ortholog_features.conservation_score, ax=ax, color=sns.color_palette('Blues')[4])\n",
    "ax.set_xlabel('Conservation score'); ax.set_ylabel('Num. paralog pairs')"
   ]
  }
 ],
 "metadata": {
  "kernelspec": {
   "display_name": "Python 3.7.9 64-bit ('paralogSL': conda)",
   "language": "python",
   "name": "python37964bitparalogslconda0f0e77de73d34c52b743edfe8868363d"
  },
  "language_info": {
   "codemirror_mode": {
    "name": "ipython",
    "version": 3
   },
   "file_extension": ".py",
   "mimetype": "text/x-python",
   "name": "python",
   "nbconvert_exporter": "python",
   "pygments_lexer": "ipython3",
   "version": "3.7.1"
  }
 },
 "nbformat": 4,
 "nbformat_minor": 4
}
