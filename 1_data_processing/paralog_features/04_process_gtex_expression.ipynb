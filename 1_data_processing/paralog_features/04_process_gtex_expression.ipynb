{
 "cells": [
  {
   "cell_type": "markdown",
   "metadata": {},
   "source": [
    "## Process GTEx RNA-Seq data\n",
    "\n",
    "Data from https://www.gtexportal.org/home/\n",
    "\n",
    "NOTE: Large files, takes some time (~20-30 mins) to run."
   ]
  },
  {
   "cell_type": "code",
   "execution_count": 2,
   "metadata": {},
   "outputs": [],
   "source": [
    "import os\n",
    "import pandas as pd\n",
    "import re\n",
    "import numpy as np\n",
    "import scipy.stats as stats\n",
    "\n",
    "get_data_path = lambda folders, fname: os.path.normpath(os.environ['3RD_PARTY_DIR']+'/'+'/'.join(folders) +'/'+ fname)\n",
    "get_local_data_path = lambda folders, fname: os.path.normpath('../../local_data/' +'/'.join(folders) +'/'+ fname)\n",
    "\n",
    "# Can read the zipped file directly with pandas\n",
    "file_gtex_expr = get_data_path(['GTEx'], 'GTEx_Analysis_2017-06-05_v8_RNASeQCv1.1.9_gene_tpm.gct.gz')\n",
    "file_paralog_pairs = get_local_data_path(['processed', 'ensembl93'], 'all_pairs.csv')\n",
    "\n",
    "# Output\n",
    "file_gtex_expr_features = get_local_data_path(['processed', 'paralog_features'], 'gtex_expr_features.csv')"
   ]
  },
  {
   "cell_type": "markdown",
   "metadata": {},
   "source": [
    "### Extract expression for genes that are in a paralog pair\n",
    "Only needs to run once, filtered data is saved"
   ]
  },
  {
   "cell_type": "code",
   "execution_count": 3,
   "metadata": {
    "tags": []
   },
   "outputs": [
    {
     "name": "stdout",
     "output_type": "stream",
     "text": [
      "N pairs: 73296\n",
      "N genes: 13320\n"
     ]
    },
    {
     "data": {
      "text/html": [
       "<div>\n",
       "<style scoped>\n",
       "    .dataframe tbody tr th:only-of-type {\n",
       "        vertical-align: middle;\n",
       "    }\n",
       "\n",
       "    .dataframe tbody tr th {\n",
       "        vertical-align: top;\n",
       "    }\n",
       "\n",
       "    .dataframe thead th {\n",
       "        text-align: right;\n",
       "    }\n",
       "</style>\n",
       "<table border=\"1\" class=\"dataframe\">\n",
       "  <thead>\n",
       "    <tr style=\"text-align: right;\">\n",
       "      <th></th>\n",
       "      <th>A1_ensembl</th>\n",
       "      <th>A2_ensembl</th>\n",
       "    </tr>\n",
       "  </thead>\n",
       "  <tbody>\n",
       "    <tr>\n",
       "      <th>0</th>\n",
       "      <td>ENSG00000092850</td>\n",
       "      <td>ENSG00000163060</td>\n",
       "    </tr>\n",
       "  </tbody>\n",
       "</table>\n",
       "</div>"
      ],
      "text/plain": [
       "        A1_ensembl       A2_ensembl\n",
       "0  ENSG00000092850  ENSG00000163060"
      ]
     },
     "execution_count": 3,
     "metadata": {},
     "output_type": "execute_result"
    }
   ],
   "source": [
    "all_pairs = pd.read_csv(file_paralog_pairs)[['A1_ensembl', 'A2_ensembl']]\n",
    "print('N pairs:', all_pairs.shape[0])\n",
    "paralog_genes = all_pairs.A1_ensembl.unique()\n",
    "print('N genes:', len(paralog_genes))\n",
    "all_pairs[:1]"
   ]
  },
  {
   "cell_type": "code",
   "execution_count": 4,
   "metadata": {},
   "outputs": [],
   "source": [
    "# Skip first 2 rows of metadata in gct file\n",
    "# Read X rows at a time and only keep expression data for paralogs\n",
    "df = pd.DataFrame()\n",
    "for chunk in pd.read_csv(file_gtex_expr, sep='\\t', skiprows=2, iterator=True, chunksize=1000):\n",
    "    chunk_df = chunk.assign(ensembl_id = chunk.Name.apply(lambda x: x.split('.')[0])).drop(columns=['Description'])\n",
    "    df = pd.concat([df, chunk_df[chunk_df.ensembl_id.isin(paralog_genes)].set_index('ensembl_id')])"
   ]
  },
  {
   "cell_type": "code",
   "execution_count": 6,
   "metadata": {},
   "outputs": [],
   "source": [
    "df = df.drop(columns=['Name'])"
   ]
  },
  {
   "cell_type": "markdown",
   "metadata": {},
   "source": [
    "### Clean up expression data"
   ]
  },
  {
   "cell_type": "code",
   "execution_count": 8,
   "metadata": {
    "tags": []
   },
   "outputs": [
    {
     "name": "stdout",
     "output_type": "stream",
     "text": [
      "N genes: 13299\n",
      "N samples: 17382\n"
     ]
    },
    {
     "data": {
      "text/html": [
       "<div>\n",
       "<style scoped>\n",
       "    .dataframe tbody tr th:only-of-type {\n",
       "        vertical-align: middle;\n",
       "    }\n",
       "\n",
       "    .dataframe tbody tr th {\n",
       "        vertical-align: top;\n",
       "    }\n",
       "\n",
       "    .dataframe thead th {\n",
       "        text-align: right;\n",
       "    }\n",
       "</style>\n",
       "<table border=\"1\" class=\"dataframe\">\n",
       "  <thead>\n",
       "    <tr style=\"text-align: right;\">\n",
       "      <th></th>\n",
       "      <th>GTEX-1117F-0226-SM-5GZZ7</th>\n",
       "      <th>GTEX-1117F-0426-SM-5EGHI</th>\n",
       "      <th>GTEX-1117F-0526-SM-5EGHJ</th>\n",
       "      <th>GTEX-1117F-0626-SM-5N9CS</th>\n",
       "      <th>GTEX-1117F-0726-SM-5GIEN</th>\n",
       "      <th>GTEX-1117F-1326-SM-5EGHH</th>\n",
       "      <th>GTEX-1117F-2426-SM-5EGGH</th>\n",
       "      <th>GTEX-1117F-2526-SM-5GZY6</th>\n",
       "      <th>GTEX-1117F-2826-SM-5GZXL</th>\n",
       "      <th>GTEX-1117F-2926-SM-5GZYI</th>\n",
       "      <th>...</th>\n",
       "      <th>GTEX-ZZPU-1126-SM-5N9CW</th>\n",
       "      <th>GTEX-ZZPU-1226-SM-5N9CK</th>\n",
       "      <th>GTEX-ZZPU-1326-SM-5GZWS</th>\n",
       "      <th>GTEX-ZZPU-1426-SM-5GZZ6</th>\n",
       "      <th>GTEX-ZZPU-1826-SM-5E43L</th>\n",
       "      <th>GTEX-ZZPU-2126-SM-5EGIU</th>\n",
       "      <th>GTEX-ZZPU-2226-SM-5EGIV</th>\n",
       "      <th>GTEX-ZZPU-2426-SM-5E44I</th>\n",
       "      <th>GTEX-ZZPU-2626-SM-5E45Y</th>\n",
       "      <th>GTEX-ZZPU-2726-SM-5NQ8O</th>\n",
       "    </tr>\n",
       "    <tr>\n",
       "      <th>ensembl_id</th>\n",
       "      <th></th>\n",
       "      <th></th>\n",
       "      <th></th>\n",
       "      <th></th>\n",
       "      <th></th>\n",
       "      <th></th>\n",
       "      <th></th>\n",
       "      <th></th>\n",
       "      <th></th>\n",
       "      <th></th>\n",
       "      <th></th>\n",
       "      <th></th>\n",
       "      <th></th>\n",
       "      <th></th>\n",
       "      <th></th>\n",
       "      <th></th>\n",
       "      <th></th>\n",
       "      <th></th>\n",
       "      <th></th>\n",
       "      <th></th>\n",
       "      <th></th>\n",
       "    </tr>\n",
       "  </thead>\n",
       "  <tbody>\n",
       "    <tr>\n",
       "      <th>ENSG00000186092</th>\n",
       "      <td>0.0</td>\n",
       "      <td>0.1025</td>\n",
       "      <td>0.07434</td>\n",
       "      <td>0.0</td>\n",
       "      <td>0.04233</td>\n",
       "      <td>0.05609</td>\n",
       "      <td>0.1743</td>\n",
       "      <td>0.0</td>\n",
       "      <td>0.0</td>\n",
       "      <td>0.0591</td>\n",
       "      <td>...</td>\n",
       "      <td>0.129</td>\n",
       "      <td>0.1367</td>\n",
       "      <td>0.05729</td>\n",
       "      <td>0.1269</td>\n",
       "      <td>0.1198</td>\n",
       "      <td>0.06767</td>\n",
       "      <td>0.1135</td>\n",
       "      <td>0.0</td>\n",
       "      <td>0.148</td>\n",
       "      <td>0.0</td>\n",
       "    </tr>\n",
       "  </tbody>\n",
       "</table>\n",
       "<p>1 rows × 17382 columns</p>\n",
       "</div>"
      ],
      "text/plain": [
       "                 GTEX-1117F-0226-SM-5GZZ7  GTEX-1117F-0426-SM-5EGHI  \\\n",
       "ensembl_id                                                            \n",
       "ENSG00000186092                       0.0                    0.1025   \n",
       "\n",
       "                 GTEX-1117F-0526-SM-5EGHJ  GTEX-1117F-0626-SM-5N9CS  \\\n",
       "ensembl_id                                                            \n",
       "ENSG00000186092                   0.07434                       0.0   \n",
       "\n",
       "                 GTEX-1117F-0726-SM-5GIEN  GTEX-1117F-1326-SM-5EGHH  \\\n",
       "ensembl_id                                                            \n",
       "ENSG00000186092                   0.04233                   0.05609   \n",
       "\n",
       "                 GTEX-1117F-2426-SM-5EGGH  GTEX-1117F-2526-SM-5GZY6  \\\n",
       "ensembl_id                                                            \n",
       "ENSG00000186092                    0.1743                       0.0   \n",
       "\n",
       "                 GTEX-1117F-2826-SM-5GZXL  GTEX-1117F-2926-SM-5GZYI  ...  \\\n",
       "ensembl_id                                                           ...   \n",
       "ENSG00000186092                       0.0                    0.0591  ...   \n",
       "\n",
       "                 GTEX-ZZPU-1126-SM-5N9CW  GTEX-ZZPU-1226-SM-5N9CK  \\\n",
       "ensembl_id                                                          \n",
       "ENSG00000186092                    0.129                   0.1367   \n",
       "\n",
       "                 GTEX-ZZPU-1326-SM-5GZWS  GTEX-ZZPU-1426-SM-5GZZ6  \\\n",
       "ensembl_id                                                          \n",
       "ENSG00000186092                  0.05729                   0.1269   \n",
       "\n",
       "                 GTEX-ZZPU-1826-SM-5E43L  GTEX-ZZPU-2126-SM-5EGIU  \\\n",
       "ensembl_id                                                          \n",
       "ENSG00000186092                   0.1198                  0.06767   \n",
       "\n",
       "                 GTEX-ZZPU-2226-SM-5EGIV  GTEX-ZZPU-2426-SM-5E44I  \\\n",
       "ensembl_id                                                          \n",
       "ENSG00000186092                   0.1135                      0.0   \n",
       "\n",
       "                 GTEX-ZZPU-2626-SM-5E45Y  GTEX-ZZPU-2726-SM-5NQ8O  \n",
       "ensembl_id                                                         \n",
       "ENSG00000186092                    0.148                      0.0  \n",
       "\n",
       "[1 rows x 17382 columns]"
      ]
     },
     "execution_count": 8,
     "metadata": {},
     "output_type": "execute_result"
    }
   ],
   "source": [
    "print('N genes:', df.shape[0])\n",
    "print('N samples:', df.shape[1])\n",
    "df[:1]"
   ]
  },
  {
   "cell_type": "code",
   "execution_count": 9,
   "metadata": {},
   "outputs": [
    {
     "data": {
      "text/plain": [
       "Index(['ENSG00000182378', 'ENSG00000167393', 'ENSG00000185960',\n",
       "       'ENSG00000198223', 'ENSG00000185291', 'ENSG00000169100',\n",
       "       'ENSG00000169093', 'ENSG00000182162', 'ENSG00000196433',\n",
       "       'ENSG00000169084', 'ENSG00000168939'],\n",
       "      dtype='object', name='ensembl_id')"
      ]
     },
     "metadata": {},
     "output_type": "display_data"
    }
   ],
   "source": [
    "# Some genes are duplicated but it seems one of them is always 0 so just keep the max value\n",
    "# The same gene on X and Y chromosome?\n",
    "duplicate_indices = df.index[df.index.duplicated()]\n",
    "display(duplicate_indices)"
   ]
  },
  {
   "cell_type": "code",
   "execution_count": 10,
   "metadata": {},
   "outputs": [
    {
     "data": {
      "text/html": [
       "<div>\n",
       "<style scoped>\n",
       "    .dataframe tbody tr th:only-of-type {\n",
       "        vertical-align: middle;\n",
       "    }\n",
       "\n",
       "    .dataframe tbody tr th {\n",
       "        vertical-align: top;\n",
       "    }\n",
       "\n",
       "    .dataframe thead th {\n",
       "        text-align: right;\n",
       "    }\n",
       "</style>\n",
       "<table border=\"1\" class=\"dataframe\">\n",
       "  <thead>\n",
       "    <tr style=\"text-align: right;\">\n",
       "      <th></th>\n",
       "      <th>GTEX-1117F-0226-SM-5GZZ7</th>\n",
       "      <th>GTEX-1117F-0426-SM-5EGHI</th>\n",
       "      <th>GTEX-1117F-0526-SM-5EGHJ</th>\n",
       "      <th>GTEX-1117F-0626-SM-5N9CS</th>\n",
       "      <th>GTEX-1117F-0726-SM-5GIEN</th>\n",
       "      <th>GTEX-1117F-1326-SM-5EGHH</th>\n",
       "      <th>GTEX-1117F-2426-SM-5EGGH</th>\n",
       "      <th>GTEX-1117F-2526-SM-5GZY6</th>\n",
       "      <th>GTEX-1117F-2826-SM-5GZXL</th>\n",
       "      <th>GTEX-1117F-2926-SM-5GZYI</th>\n",
       "      <th>...</th>\n",
       "      <th>GTEX-ZZPU-1126-SM-5N9CW</th>\n",
       "      <th>GTEX-ZZPU-1226-SM-5N9CK</th>\n",
       "      <th>GTEX-ZZPU-1326-SM-5GZWS</th>\n",
       "      <th>GTEX-ZZPU-1426-SM-5GZZ6</th>\n",
       "      <th>GTEX-ZZPU-1826-SM-5E43L</th>\n",
       "      <th>GTEX-ZZPU-2126-SM-5EGIU</th>\n",
       "      <th>GTEX-ZZPU-2226-SM-5EGIV</th>\n",
       "      <th>GTEX-ZZPU-2426-SM-5E44I</th>\n",
       "      <th>GTEX-ZZPU-2626-SM-5E45Y</th>\n",
       "      <th>GTEX-ZZPU-2726-SM-5NQ8O</th>\n",
       "    </tr>\n",
       "    <tr>\n",
       "      <th>ensembl_id</th>\n",
       "      <th></th>\n",
       "      <th></th>\n",
       "      <th></th>\n",
       "      <th></th>\n",
       "      <th></th>\n",
       "      <th></th>\n",
       "      <th></th>\n",
       "      <th></th>\n",
       "      <th></th>\n",
       "      <th></th>\n",
       "      <th></th>\n",
       "      <th></th>\n",
       "      <th></th>\n",
       "      <th></th>\n",
       "      <th></th>\n",
       "      <th></th>\n",
       "      <th></th>\n",
       "      <th></th>\n",
       "      <th></th>\n",
       "      <th></th>\n",
       "      <th></th>\n",
       "    </tr>\n",
       "  </thead>\n",
       "  <tbody>\n",
       "    <tr>\n",
       "      <th>ENSG00000182378</th>\n",
       "      <td>6.936</td>\n",
       "      <td>0.7066</td>\n",
       "      <td>1.764</td>\n",
       "      <td>3.83</td>\n",
       "      <td>1.889</td>\n",
       "      <td>6.063</td>\n",
       "      <td>8.98</td>\n",
       "      <td>11.41</td>\n",
       "      <td>8.254</td>\n",
       "      <td>11.9</td>\n",
       "      <td>...</td>\n",
       "      <td>1.889</td>\n",
       "      <td>2.098</td>\n",
       "      <td>8.393</td>\n",
       "      <td>8.124</td>\n",
       "      <td>2.48</td>\n",
       "      <td>16.34</td>\n",
       "      <td>12.83</td>\n",
       "      <td>0.9995</td>\n",
       "      <td>0.5816</td>\n",
       "      <td>10.58</td>\n",
       "    </tr>\n",
       "    <tr>\n",
       "      <th>ENSG00000182378</th>\n",
       "      <td>0.000</td>\n",
       "      <td>0.0000</td>\n",
       "      <td>0.000</td>\n",
       "      <td>0.00</td>\n",
       "      <td>0.000</td>\n",
       "      <td>0.000</td>\n",
       "      <td>0.00</td>\n",
       "      <td>0.00</td>\n",
       "      <td>0.000</td>\n",
       "      <td>0.0</td>\n",
       "      <td>...</td>\n",
       "      <td>0.000</td>\n",
       "      <td>0.000</td>\n",
       "      <td>0.000</td>\n",
       "      <td>0.000</td>\n",
       "      <td>0.00</td>\n",
       "      <td>0.00</td>\n",
       "      <td>0.00</td>\n",
       "      <td>0.0000</td>\n",
       "      <td>0.0000</td>\n",
       "      <td>0.00</td>\n",
       "    </tr>\n",
       "  </tbody>\n",
       "</table>\n",
       "<p>2 rows × 17382 columns</p>\n",
       "</div>"
      ],
      "text/plain": [
       "                 GTEX-1117F-0226-SM-5GZZ7  GTEX-1117F-0426-SM-5EGHI  \\\n",
       "ensembl_id                                                            \n",
       "ENSG00000182378                     6.936                    0.7066   \n",
       "ENSG00000182378                     0.000                    0.0000   \n",
       "\n",
       "                 GTEX-1117F-0526-SM-5EGHJ  GTEX-1117F-0626-SM-5N9CS  \\\n",
       "ensembl_id                                                            \n",
       "ENSG00000182378                     1.764                      3.83   \n",
       "ENSG00000182378                     0.000                      0.00   \n",
       "\n",
       "                 GTEX-1117F-0726-SM-5GIEN  GTEX-1117F-1326-SM-5EGHH  \\\n",
       "ensembl_id                                                            \n",
       "ENSG00000182378                     1.889                     6.063   \n",
       "ENSG00000182378                     0.000                     0.000   \n",
       "\n",
       "                 GTEX-1117F-2426-SM-5EGGH  GTEX-1117F-2526-SM-5GZY6  \\\n",
       "ensembl_id                                                            \n",
       "ENSG00000182378                      8.98                     11.41   \n",
       "ENSG00000182378                      0.00                      0.00   \n",
       "\n",
       "                 GTEX-1117F-2826-SM-5GZXL  GTEX-1117F-2926-SM-5GZYI  ...  \\\n",
       "ensembl_id                                                           ...   \n",
       "ENSG00000182378                     8.254                      11.9  ...   \n",
       "ENSG00000182378                     0.000                       0.0  ...   \n",
       "\n",
       "                 GTEX-ZZPU-1126-SM-5N9CW  GTEX-ZZPU-1226-SM-5N9CK  \\\n",
       "ensembl_id                                                          \n",
       "ENSG00000182378                    1.889                    2.098   \n",
       "ENSG00000182378                    0.000                    0.000   \n",
       "\n",
       "                 GTEX-ZZPU-1326-SM-5GZWS  GTEX-ZZPU-1426-SM-5GZZ6  \\\n",
       "ensembl_id                                                          \n",
       "ENSG00000182378                    8.393                    8.124   \n",
       "ENSG00000182378                    0.000                    0.000   \n",
       "\n",
       "                 GTEX-ZZPU-1826-SM-5E43L  GTEX-ZZPU-2126-SM-5EGIU  \\\n",
       "ensembl_id                                                          \n",
       "ENSG00000182378                     2.48                    16.34   \n",
       "ENSG00000182378                     0.00                     0.00   \n",
       "\n",
       "                 GTEX-ZZPU-2226-SM-5EGIV  GTEX-ZZPU-2426-SM-5E44I  \\\n",
       "ensembl_id                                                          \n",
       "ENSG00000182378                    12.83                   0.9995   \n",
       "ENSG00000182378                     0.00                   0.0000   \n",
       "\n",
       "                 GTEX-ZZPU-2626-SM-5E45Y  GTEX-ZZPU-2726-SM-5NQ8O  \n",
       "ensembl_id                                                         \n",
       "ENSG00000182378                   0.5816                    10.58  \n",
       "ENSG00000182378                   0.0000                     0.00  \n",
       "\n",
       "[2 rows x 17382 columns]"
      ]
     },
     "execution_count": 10,
     "metadata": {},
     "output_type": "execute_result"
    }
   ],
   "source": [
    "df.loc['ENSG00000182378']"
   ]
  },
  {
   "cell_type": "code",
   "execution_count": 11,
   "metadata": {},
   "outputs": [],
   "source": [
    "# Drop duplicate rows where expression is always 0\n",
    "expr_data = df[~((df == 0).all(axis=1) & df.index.isin(duplicate_indices))]"
   ]
  },
  {
   "cell_type": "code",
   "execution_count": 13,
   "metadata": {},
   "outputs": [],
   "source": [
    "%reset_selective -f \"df\""
   ]
  },
  {
   "cell_type": "code",
   "execution_count": 14,
   "metadata": {},
   "outputs": [
    {
     "name": "stdout",
     "output_type": "stream",
     "text": [
      "N genes: 13288\n"
     ]
    },
    {
     "data": {
      "text/html": [
       "<div>\n",
       "<style scoped>\n",
       "    .dataframe tbody tr th:only-of-type {\n",
       "        vertical-align: middle;\n",
       "    }\n",
       "\n",
       "    .dataframe tbody tr th {\n",
       "        vertical-align: top;\n",
       "    }\n",
       "\n",
       "    .dataframe thead th {\n",
       "        text-align: right;\n",
       "    }\n",
       "</style>\n",
       "<table border=\"1\" class=\"dataframe\">\n",
       "  <thead>\n",
       "    <tr style=\"text-align: right;\">\n",
       "      <th></th>\n",
       "      <th>GTEX-1117F-0226-SM-5GZZ7</th>\n",
       "      <th>GTEX-1117F-0426-SM-5EGHI</th>\n",
       "      <th>GTEX-1117F-0526-SM-5EGHJ</th>\n",
       "      <th>GTEX-1117F-0626-SM-5N9CS</th>\n",
       "      <th>GTEX-1117F-0726-SM-5GIEN</th>\n",
       "      <th>GTEX-1117F-1326-SM-5EGHH</th>\n",
       "      <th>GTEX-1117F-2426-SM-5EGGH</th>\n",
       "      <th>GTEX-1117F-2526-SM-5GZY6</th>\n",
       "      <th>GTEX-1117F-2826-SM-5GZXL</th>\n",
       "      <th>GTEX-1117F-2926-SM-5GZYI</th>\n",
       "      <th>...</th>\n",
       "      <th>GTEX-ZZPU-1126-SM-5N9CW</th>\n",
       "      <th>GTEX-ZZPU-1226-SM-5N9CK</th>\n",
       "      <th>GTEX-ZZPU-1326-SM-5GZWS</th>\n",
       "      <th>GTEX-ZZPU-1426-SM-5GZZ6</th>\n",
       "      <th>GTEX-ZZPU-1826-SM-5E43L</th>\n",
       "      <th>GTEX-ZZPU-2126-SM-5EGIU</th>\n",
       "      <th>GTEX-ZZPU-2226-SM-5EGIV</th>\n",
       "      <th>GTEX-ZZPU-2426-SM-5E44I</th>\n",
       "      <th>GTEX-ZZPU-2626-SM-5E45Y</th>\n",
       "      <th>GTEX-ZZPU-2726-SM-5NQ8O</th>\n",
       "    </tr>\n",
       "    <tr>\n",
       "      <th>ensembl_id</th>\n",
       "      <th></th>\n",
       "      <th></th>\n",
       "      <th></th>\n",
       "      <th></th>\n",
       "      <th></th>\n",
       "      <th></th>\n",
       "      <th></th>\n",
       "      <th></th>\n",
       "      <th></th>\n",
       "      <th></th>\n",
       "      <th></th>\n",
       "      <th></th>\n",
       "      <th></th>\n",
       "      <th></th>\n",
       "      <th></th>\n",
       "      <th></th>\n",
       "      <th></th>\n",
       "      <th></th>\n",
       "      <th></th>\n",
       "      <th></th>\n",
       "      <th></th>\n",
       "    </tr>\n",
       "  </thead>\n",
       "  <tbody>\n",
       "    <tr>\n",
       "      <th>ENSG00000186092</th>\n",
       "      <td>0.0</td>\n",
       "      <td>0.1025</td>\n",
       "      <td>0.07434</td>\n",
       "      <td>0.0</td>\n",
       "      <td>0.04233</td>\n",
       "      <td>0.05609</td>\n",
       "      <td>0.1743</td>\n",
       "      <td>0.0</td>\n",
       "      <td>0.0</td>\n",
       "      <td>0.0591</td>\n",
       "      <td>...</td>\n",
       "      <td>0.129</td>\n",
       "      <td>0.1367</td>\n",
       "      <td>0.05729</td>\n",
       "      <td>0.1269</td>\n",
       "      <td>0.1198</td>\n",
       "      <td>0.06767</td>\n",
       "      <td>0.1135</td>\n",
       "      <td>0.0</td>\n",
       "      <td>0.148</td>\n",
       "      <td>0.0</td>\n",
       "    </tr>\n",
       "  </tbody>\n",
       "</table>\n",
       "<p>1 rows × 17382 columns</p>\n",
       "</div>"
      ],
      "text/plain": [
       "                 GTEX-1117F-0226-SM-5GZZ7  GTEX-1117F-0426-SM-5EGHI  \\\n",
       "ensembl_id                                                            \n",
       "ENSG00000186092                       0.0                    0.1025   \n",
       "\n",
       "                 GTEX-1117F-0526-SM-5EGHJ  GTEX-1117F-0626-SM-5N9CS  \\\n",
       "ensembl_id                                                            \n",
       "ENSG00000186092                   0.07434                       0.0   \n",
       "\n",
       "                 GTEX-1117F-0726-SM-5GIEN  GTEX-1117F-1326-SM-5EGHH  \\\n",
       "ensembl_id                                                            \n",
       "ENSG00000186092                   0.04233                   0.05609   \n",
       "\n",
       "                 GTEX-1117F-2426-SM-5EGGH  GTEX-1117F-2526-SM-5GZY6  \\\n",
       "ensembl_id                                                            \n",
       "ENSG00000186092                    0.1743                       0.0   \n",
       "\n",
       "                 GTEX-1117F-2826-SM-5GZXL  GTEX-1117F-2926-SM-5GZYI  ...  \\\n",
       "ensembl_id                                                           ...   \n",
       "ENSG00000186092                       0.0                    0.0591  ...   \n",
       "\n",
       "                 GTEX-ZZPU-1126-SM-5N9CW  GTEX-ZZPU-1226-SM-5N9CK  \\\n",
       "ensembl_id                                                          \n",
       "ENSG00000186092                    0.129                   0.1367   \n",
       "\n",
       "                 GTEX-ZZPU-1326-SM-5GZWS  GTEX-ZZPU-1426-SM-5GZZ6  \\\n",
       "ensembl_id                                                          \n",
       "ENSG00000186092                  0.05729                   0.1269   \n",
       "\n",
       "                 GTEX-ZZPU-1826-SM-5E43L  GTEX-ZZPU-2126-SM-5EGIU  \\\n",
       "ensembl_id                                                          \n",
       "ENSG00000186092                   0.1198                  0.06767   \n",
       "\n",
       "                 GTEX-ZZPU-2226-SM-5EGIV  GTEX-ZZPU-2426-SM-5E44I  \\\n",
       "ensembl_id                                                          \n",
       "ENSG00000186092                   0.1135                      0.0   \n",
       "\n",
       "                 GTEX-ZZPU-2626-SM-5E45Y  GTEX-ZZPU-2726-SM-5NQ8O  \n",
       "ensembl_id                                                         \n",
       "ENSG00000186092                    0.148                      0.0  \n",
       "\n",
       "[1 rows x 17382 columns]"
      ]
     },
     "execution_count": 14,
     "metadata": {},
     "output_type": "execute_result"
    }
   ],
   "source": [
    "print('N genes:', expr_data.shape[0])\n",
    "expr_data[:1]"
   ]
  },
  {
   "cell_type": "markdown",
   "metadata": {},
   "source": [
    "### Calculate expression features of paralog pairs\n",
    "Min mean, max mean, correlation"
   ]
  },
  {
   "cell_type": "code",
   "execution_count": 15,
   "metadata": {},
   "outputs": [
    {
     "data": {
      "text/html": [
       "<div>\n",
       "<style scoped>\n",
       "    .dataframe tbody tr th:only-of-type {\n",
       "        vertical-align: middle;\n",
       "    }\n",
       "\n",
       "    .dataframe tbody tr th {\n",
       "        vertical-align: top;\n",
       "    }\n",
       "\n",
       "    .dataframe thead th {\n",
       "        text-align: right;\n",
       "    }\n",
       "</style>\n",
       "<table border=\"1\" class=\"dataframe\">\n",
       "  <thead>\n",
       "    <tr style=\"text-align: right;\">\n",
       "      <th></th>\n",
       "      <th>ensembl_id</th>\n",
       "      <th>mean_expr</th>\n",
       "    </tr>\n",
       "  </thead>\n",
       "  <tbody>\n",
       "    <tr>\n",
       "      <th>0</th>\n",
       "      <td>ENSG00000186092</td>\n",
       "      <td>0.084124</td>\n",
       "    </tr>\n",
       "  </tbody>\n",
       "</table>\n",
       "</div>"
      ],
      "text/plain": [
       "        ensembl_id  mean_expr\n",
       "0  ENSG00000186092   0.084124"
      ]
     },
     "execution_count": 15,
     "metadata": {},
     "output_type": "execute_result"
    }
   ],
   "source": [
    "mean_expr = pd.DataFrame(expr_data.mean(axis=1), columns=['mean_expr']).reset_index()\n",
    "mean_expr[:1]"
   ]
  },
  {
   "cell_type": "code",
   "execution_count": 16,
   "metadata": {},
   "outputs": [
    {
     "name": "stdout",
     "output_type": "stream",
     "text": [
      "Pairs where both genes have expr: 72982 / 73296\n"
     ]
    },
    {
     "data": {
      "text/html": [
       "<div>\n",
       "<style scoped>\n",
       "    .dataframe tbody tr th:only-of-type {\n",
       "        vertical-align: middle;\n",
       "    }\n",
       "\n",
       "    .dataframe tbody tr th {\n",
       "        vertical-align: top;\n",
       "    }\n",
       "\n",
       "    .dataframe thead th {\n",
       "        text-align: right;\n",
       "    }\n",
       "</style>\n",
       "<table border=\"1\" class=\"dataframe\">\n",
       "  <thead>\n",
       "    <tr style=\"text-align: right;\">\n",
       "      <th></th>\n",
       "      <th>A1_ensembl</th>\n",
       "      <th>A2_ensembl</th>\n",
       "      <th>A1_mean_expr</th>\n",
       "      <th>A2_mean_expr</th>\n",
       "    </tr>\n",
       "  </thead>\n",
       "  <tbody>\n",
       "    <tr>\n",
       "      <th>0</th>\n",
       "      <td>ENSG00000092850</td>\n",
       "      <td>ENSG00000163060</td>\n",
       "      <td>4.524118</td>\n",
       "      <td>1.181367</td>\n",
       "    </tr>\n",
       "  </tbody>\n",
       "</table>\n",
       "</div>"
      ],
      "text/plain": [
       "        A1_ensembl       A2_ensembl  A1_mean_expr  A2_mean_expr\n",
       "0  ENSG00000092850  ENSG00000163060      4.524118      1.181367"
      ]
     },
     "execution_count": 16,
     "metadata": {},
     "output_type": "execute_result"
    }
   ],
   "source": [
    "# Merge mean\n",
    "pairs_expr = pd.merge(all_pairs, mean_expr.rename(columns={'ensembl_id':'A1_ensembl', 'mean_expr':'A1_mean_expr'}), how='left')\n",
    "pairs_expr = pd.merge(pairs_expr, mean_expr.rename(columns={'ensembl_id':'A2_ensembl', 'mean_expr':'A2_mean_expr'}), how='left')\n",
    "\n",
    "print('Pairs where both genes have expr:', \n",
    "      pairs_expr[(~pairs_expr.A1_mean_expr.isna()) & (~pairs_expr.A2_mean_expr.isna())].shape[0], '/', pairs_expr.shape[0])\n",
    "pairs_expr[:1]"
   ]
  },
  {
   "cell_type": "code",
   "execution_count": 17,
   "metadata": {},
   "outputs": [
    {
     "name": "stdout",
     "output_type": "stream",
     "text": [
      "N: 72282\n"
     ]
    }
   ],
   "source": [
    "# Filter pairs down to those where both have expression (not NA and not 0)\n",
    "pairs_expr_subset = pairs_expr[(~pairs_expr.A1_mean_expr.isna()) & (~pairs_expr.A2_mean_expr.isna()) & \n",
    "                               (pairs_expr.A1_mean_expr!=0) & (pairs_expr.A2_mean_expr!=0)]\n",
    "print('N:', pairs_expr_subset.shape[0])"
   ]
  },
  {
   "cell_type": "code",
   "execution_count": 18,
   "metadata": {},
   "outputs": [
    {
     "data": {
      "text/html": [
       "<div>\n",
       "<style scoped>\n",
       "    .dataframe tbody tr th:only-of-type {\n",
       "        vertical-align: middle;\n",
       "    }\n",
       "\n",
       "    .dataframe tbody tr th {\n",
       "        vertical-align: top;\n",
       "    }\n",
       "\n",
       "    .dataframe thead th {\n",
       "        text-align: right;\n",
       "    }\n",
       "</style>\n",
       "<table border=\"1\" class=\"dataframe\">\n",
       "  <thead>\n",
       "    <tr style=\"text-align: right;\">\n",
       "      <th></th>\n",
       "      <th>A1_ensembl</th>\n",
       "      <th>A2_ensembl</th>\n",
       "      <th>A1_mean_expr</th>\n",
       "      <th>A2_mean_expr</th>\n",
       "      <th>spearman_corr</th>\n",
       "    </tr>\n",
       "  </thead>\n",
       "  <tbody>\n",
       "    <tr>\n",
       "      <th>0</th>\n",
       "      <td>ENSG00000092850</td>\n",
       "      <td>ENSG00000163060</td>\n",
       "      <td>4.524118</td>\n",
       "      <td>1.181367</td>\n",
       "      <td>0.457234</td>\n",
       "    </tr>\n",
       "  </tbody>\n",
       "</table>\n",
       "</div>"
      ],
      "text/plain": [
       "        A1_ensembl       A2_ensembl  A1_mean_expr  A2_mean_expr  spearman_corr\n",
       "0  ENSG00000092850  ENSG00000163060      4.524118      1.181367       0.457234"
      ]
     },
     "execution_count": 18,
     "metadata": {},
     "output_type": "execute_result"
    }
   ],
   "source": [
    "def compute_spearman_corr(pair):\n",
    "    return stats.spearmanr(expr_data.loc[pair.A1_ensembl], expr_data.loc[pair.A2_ensembl])[0]\n",
    "\n",
    "features = pairs_expr_subset.assign(spearman_corr = pairs_expr_subset.apply(compute_spearman_corr, axis=1))\n",
    "features[:1]"
   ]
  },
  {
   "cell_type": "code",
   "execution_count": 19,
   "metadata": {},
   "outputs": [
    {
     "data": {
      "text/html": [
       "<div>\n",
       "<style scoped>\n",
       "    .dataframe tbody tr th:only-of-type {\n",
       "        vertical-align: middle;\n",
       "    }\n",
       "\n",
       "    .dataframe tbody tr th {\n",
       "        vertical-align: top;\n",
       "    }\n",
       "\n",
       "    .dataframe thead th {\n",
       "        text-align: right;\n",
       "    }\n",
       "</style>\n",
       "<table border=\"1\" class=\"dataframe\">\n",
       "  <thead>\n",
       "    <tr style=\"text-align: right;\">\n",
       "      <th></th>\n",
       "      <th>A1_ensembl</th>\n",
       "      <th>A2_ensembl</th>\n",
       "      <th>A1_mean_expr</th>\n",
       "      <th>A2_mean_expr</th>\n",
       "      <th>spearman_corr</th>\n",
       "      <th>pearson_corr</th>\n",
       "    </tr>\n",
       "  </thead>\n",
       "  <tbody>\n",
       "    <tr>\n",
       "      <th>0</th>\n",
       "      <td>ENSG00000092850</td>\n",
       "      <td>ENSG00000163060</td>\n",
       "      <td>4.524118</td>\n",
       "      <td>1.181367</td>\n",
       "      <td>0.457234</td>\n",
       "      <td>0.965852</td>\n",
       "    </tr>\n",
       "  </tbody>\n",
       "</table>\n",
       "</div>"
      ],
      "text/plain": [
       "        A1_ensembl       A2_ensembl  A1_mean_expr  A2_mean_expr  \\\n",
       "0  ENSG00000092850  ENSG00000163060      4.524118      1.181367   \n",
       "\n",
       "   spearman_corr  pearson_corr  \n",
       "0       0.457234      0.965852  "
      ]
     },
     "execution_count": 19,
     "metadata": {},
     "output_type": "execute_result"
    }
   ],
   "source": [
    "def compute_pearson_corr(pair):\n",
    "    return stats.pearsonr(expr_data.loc[pair.A1_ensembl], expr_data.loc[pair.A2_ensembl])[0]\n",
    "\n",
    "# NaNs in results are due to one of the genes in the pair having all 0 expression - PearsonRConstantInputWarning\n",
    "features2 = features.assign(pearson_corr = features.apply(compute_pearson_corr, axis=1))\n",
    "features2[:1]"
   ]
  },
  {
   "cell_type": "code",
   "execution_count": 25,
   "metadata": {},
   "outputs": [
    {
     "data": {
      "text/html": [
       "<div>\n",
       "<style scoped>\n",
       "    .dataframe tbody tr th:only-of-type {\n",
       "        vertical-align: middle;\n",
       "    }\n",
       "\n",
       "    .dataframe tbody tr th {\n",
       "        vertical-align: top;\n",
       "    }\n",
       "\n",
       "    .dataframe thead th {\n",
       "        text-align: right;\n",
       "    }\n",
       "</style>\n",
       "<table border=\"1\" class=\"dataframe\">\n",
       "  <thead>\n",
       "    <tr style=\"text-align: right;\">\n",
       "      <th></th>\n",
       "      <th>A1_ensembl</th>\n",
       "      <th>A2_ensembl</th>\n",
       "      <th>A1_mean_expr</th>\n",
       "      <th>A2_mean_expr</th>\n",
       "      <th>spearman_corr</th>\n",
       "      <th>pearson_corr</th>\n",
       "    </tr>\n",
       "  </thead>\n",
       "  <tbody>\n",
       "    <tr>\n",
       "      <th>0</th>\n",
       "      <td>ENSG00000092850</td>\n",
       "      <td>ENSG00000163060</td>\n",
       "      <td>4.524118</td>\n",
       "      <td>1.181367</td>\n",
       "      <td>0.457234</td>\n",
       "      <td>0.965852</td>\n",
       "    </tr>\n",
       "  </tbody>\n",
       "</table>\n",
       "</div>"
      ],
      "text/plain": [
       "        A1_ensembl       A2_ensembl  A1_mean_expr  A2_mean_expr  \\\n",
       "0  ENSG00000092850  ENSG00000163060      4.524118      1.181367   \n",
       "\n",
       "   spearman_corr  pearson_corr  \n",
       "0       0.457234      0.965852  "
      ]
     },
     "execution_count": 25,
     "metadata": {},
     "output_type": "execute_result"
    }
   ],
   "source": [
    "# Put all expr features together\n",
    "all_expr_features = pd.merge(pairs_expr, features2[['A1_ensembl','A2_ensembl','spearman_corr','pearson_corr']], how='left')\n",
    "assert(all_expr_features.shape[0] == pairs_expr.shape[0])\n",
    "all_expr_features[:1]"
   ]
  },
  {
   "cell_type": "code",
   "execution_count": 26,
   "metadata": {},
   "outputs": [],
   "source": [
    "all_expr_features.to_csv(file_gtex_expr_features, index=0)"
   ]
  }
 ],
 "metadata": {
  "kernelspec": {
   "display_name": "Python 3",
   "language": "python",
   "name": "python3"
  },
  "language_info": {
   "codemirror_mode": {
    "name": "ipython",
    "version": 3
   },
   "file_extension": ".py",
   "mimetype": "text/x-python",
   "name": "python",
   "nbconvert_exporter": "python",
   "pygments_lexer": "ipython3",
   "version": "3.7.1"
  }
 },
 "nbformat": 4,
 "nbformat_minor": 4
}
