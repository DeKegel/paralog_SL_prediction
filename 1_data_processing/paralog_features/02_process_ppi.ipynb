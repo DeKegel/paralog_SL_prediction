{
 "cells": [
  {
   "cell_type": "markdown",
   "metadata": {},
   "source": [
    "## Process protein-protein interactions\n",
    "\n",
    "**Input**: PPI pairs from BIOGRID + CERES gene scores + processed paralog pairs\n",
    "\n",
    "**Output**: Paralog pairs annotated with PPI features"
   ]
  },
  {
   "cell_type": "code",
   "execution_count": 1,
   "metadata": {},
   "outputs": [],
   "source": [
    "import pandas as pd\n",
    "import numpy as np\n",
    "import os\n",
    "import matplotlib.pyplot as plt\n",
    "import scipy.stats as stats\n",
    "import seaborn as sns\n",
    "import re\n",
    "\n",
    "get_data_path = lambda folders, fname: os.path.normpath(os.environ['3RD_PARTY_DIR']+'/'+'/'.join(folders) +'/'+ fname)\n",
    "get_local_data_path = lambda folders, fname: os.path.normpath('../../local_data/' +'/'.join(folders) +'/'+ fname)\n",
    "ensembl_version = '93'\n",
    "\n",
    "# Inputs\n",
    "file_biogrid_ppi = get_data_path(['biogrid'], 'BIOGRID-ORGANISM-Homo_sapiens-3.5.187.tab3.txt')\n",
    "file_paralog_pairs = get_local_data_path(['processed', 'ensembl93'], 'unique_pairs.csv')\n",
    "file_gene_scores = get_local_data_path(['processed', 'depmap20Q2'], 'gene_scores_16_04_21.csv')\n",
    "\n",
    "# Output\n",
    "file_ppi_features = get_local_data_path(['processed','paralog_features'], 'ppi_features.csv')"
   ]
  },
  {
   "cell_type": "markdown",
   "metadata": {},
   "source": [
    "### Paralog pairs"
   ]
  },
  {
   "cell_type": "code",
   "execution_count": 2,
   "metadata": {
    "tags": []
   },
   "outputs": [
    {
     "name": "stdout",
     "output_type": "stream",
     "text": [
      "Num pairs: 36648\n",
      "N paralog genes: 13320\n"
     ]
    },
    {
     "data": {
      "text/html": [
       "<div>\n",
       "<style scoped>\n",
       "    .dataframe tbody tr th:only-of-type {\n",
       "        vertical-align: middle;\n",
       "    }\n",
       "\n",
       "    .dataframe tbody tr th {\n",
       "        vertical-align: top;\n",
       "    }\n",
       "\n",
       "    .dataframe thead th {\n",
       "        text-align: right;\n",
       "    }\n",
       "</style>\n",
       "<table border=\"1\" class=\"dataframe\">\n",
       "  <thead>\n",
       "    <tr style=\"text-align: right;\">\n",
       "      <th></th>\n",
       "      <th>A1</th>\n",
       "      <th>A2</th>\n",
       "      <th>min_seq_id</th>\n",
       "      <th>max_seq_id</th>\n",
       "      <th>singh_wgd</th>\n",
       "      <th>makino_wgd</th>\n",
       "      <th>WGD</th>\n",
       "      <th>same_chr</th>\n",
       "      <th>closest</th>\n",
       "      <th>family_size</th>\n",
       "      <th>family_id</th>\n",
       "      <th>cds_length_ratio</th>\n",
       "      <th>A1_entrez</th>\n",
       "      <th>A1_ensembl</th>\n",
       "      <th>A2_entrez</th>\n",
       "      <th>A2_ensembl</th>\n",
       "    </tr>\n",
       "  </thead>\n",
       "  <tbody>\n",
       "    <tr>\n",
       "      <th>0</th>\n",
       "      <td>A1BG</td>\n",
       "      <td>OSCAR</td>\n",
       "      <td>0.127273</td>\n",
       "      <td>0.22028</td>\n",
       "      <td>False</td>\n",
       "      <td>False</td>\n",
       "      <td>False</td>\n",
       "      <td>True</td>\n",
       "      <td>False</td>\n",
       "      <td>3</td>\n",
       "      <td>3046</td>\n",
       "      <td>0.578629</td>\n",
       "      <td>1</td>\n",
       "      <td>ENSG00000121410</td>\n",
       "      <td>126014</td>\n",
       "      <td>ENSG00000170909</td>\n",
       "    </tr>\n",
       "  </tbody>\n",
       "</table>\n",
       "</div>"
      ],
      "text/plain": [
       "     A1     A2  min_seq_id  max_seq_id  singh_wgd  makino_wgd    WGD  \\\n",
       "0  A1BG  OSCAR    0.127273     0.22028      False       False  False   \n",
       "\n",
       "   same_chr  closest  family_size  family_id  cds_length_ratio  A1_entrez  \\\n",
       "0      True    False            3       3046          0.578629          1   \n",
       "\n",
       "        A1_ensembl  A2_entrez       A2_ensembl  \n",
       "0  ENSG00000121410     126014  ENSG00000170909  "
      ]
     },
     "execution_count": 2,
     "metadata": {},
     "output_type": "execute_result"
    }
   ],
   "source": [
    "# Unique, sorted list\n",
    "paralog_pairs = pd.read_csv(file_paralog_pairs, index_col=0)\n",
    "print('Num pairs:', paralog_pairs.shape[0])\n",
    "paralog_genes = pd.concat([paralog_pairs.A1_entrez, paralog_pairs.A2_entrez]).unique()\n",
    "print('N paralog genes:', len(paralog_genes))\n",
    "paralog_pairs[:1]"
   ]
  },
  {
   "cell_type": "markdown",
   "metadata": {},
   "source": [
    "### Protein-Protein Interactions (PPI) from BioGRID\n",
    "\n",
    "Using all methods for calling an interaction between A1 and A2.\n",
    "\n",
    "There are techniques that measure direct physical interactions between protein pairs, named “binary” methods, while there are other techniques that measure physical interactions among groups of proteins, without pairwise determination of protein partners, named “co-complex” methods.\n",
    "\n",
    "Multiple entries can refer to the same interaction but based on different Experimental System / different Throughput"
   ]
  },
  {
   "cell_type": "code",
   "execution_count": 3,
   "metadata": {
    "scrolled": true
   },
   "outputs": [
    {
     "data": {
      "text/html": [
       "<div>\n",
       "<style scoped>\n",
       "    .dataframe tbody tr th:only-of-type {\n",
       "        vertical-align: middle;\n",
       "    }\n",
       "\n",
       "    .dataframe tbody tr th {\n",
       "        vertical-align: top;\n",
       "    }\n",
       "\n",
       "    .dataframe thead th {\n",
       "        text-align: right;\n",
       "    }\n",
       "</style>\n",
       "<table border=\"1\" class=\"dataframe\">\n",
       "  <thead>\n",
       "    <tr style=\"text-align: right;\">\n",
       "      <th></th>\n",
       "      <th>#BioGRID Interaction ID</th>\n",
       "      <th>Entrez Gene Interactor A</th>\n",
       "      <th>Entrez Gene Interactor B</th>\n",
       "      <th>BioGRID ID Interactor A</th>\n",
       "      <th>BioGRID ID Interactor B</th>\n",
       "      <th>Systematic Name Interactor A</th>\n",
       "      <th>Systematic Name Interactor B</th>\n",
       "      <th>Official Symbol Interactor A</th>\n",
       "      <th>Official Symbol Interactor B</th>\n",
       "      <th>Synonyms Interactor A</th>\n",
       "      <th>...</th>\n",
       "      <th>REFSEQ Accessions Interactor A</th>\n",
       "      <th>SWISS-PROT Accessions Interactor B</th>\n",
       "      <th>TREMBL Accessions Interactor B</th>\n",
       "      <th>REFSEQ Accessions Interactor B</th>\n",
       "      <th>Ontology Term IDs</th>\n",
       "      <th>Ontology Term Names</th>\n",
       "      <th>Ontology Term Categories</th>\n",
       "      <th>Ontology Term Qualifier IDs</th>\n",
       "      <th>Ontology Term Qualifier Names</th>\n",
       "      <th>Ontology Term Types</th>\n",
       "    </tr>\n",
       "  </thead>\n",
       "  <tbody>\n",
       "    <tr>\n",
       "      <th>0</th>\n",
       "      <td>103</td>\n",
       "      <td>6416</td>\n",
       "      <td>2318</td>\n",
       "      <td>112315</td>\n",
       "      <td>108607</td>\n",
       "      <td>-</td>\n",
       "      <td>-</td>\n",
       "      <td>MAP2K4</td>\n",
       "      <td>FLNC</td>\n",
       "      <td>JNKK|JNKK1|MAPKK4|MEK4|MKK4|PRKMK4|SAPKK-1|SAP...</td>\n",
       "      <td>...</td>\n",
       "      <td>NP_003001|NP_001268364</td>\n",
       "      <td>Q14315</td>\n",
       "      <td>Q59H94</td>\n",
       "      <td>NP_001120959|NP_001449</td>\n",
       "      <td>-</td>\n",
       "      <td>-</td>\n",
       "      <td>-</td>\n",
       "      <td>-</td>\n",
       "      <td>-</td>\n",
       "      <td>-</td>\n",
       "    </tr>\n",
       "  </tbody>\n",
       "</table>\n",
       "<p>1 rows × 35 columns</p>\n",
       "</div>"
      ],
      "text/plain": [
       "   #BioGRID Interaction ID Entrez Gene Interactor A  Entrez Gene Interactor B  \\\n",
       "0                      103                     6416                      2318   \n",
       "\n",
       "   BioGRID ID Interactor A  BioGRID ID Interactor B  \\\n",
       "0                   112315                   108607   \n",
       "\n",
       "  Systematic Name Interactor A Systematic Name Interactor B  \\\n",
       "0                            -                            -   \n",
       "\n",
       "  Official Symbol Interactor A Official Symbol Interactor B  \\\n",
       "0                       MAP2K4                         FLNC   \n",
       "\n",
       "                               Synonyms Interactor A  ...  \\\n",
       "0  JNKK|JNKK1|MAPKK4|MEK4|MKK4|PRKMK4|SAPKK-1|SAP...  ...   \n",
       "\n",
       "  REFSEQ Accessions Interactor A SWISS-PROT Accessions Interactor B  \\\n",
       "0         NP_003001|NP_001268364                             Q14315   \n",
       "\n",
       "  TREMBL Accessions Interactor B REFSEQ Accessions Interactor B  \\\n",
       "0                         Q59H94         NP_001120959|NP_001449   \n",
       "\n",
       "  Ontology Term IDs  Ontology Term Names  Ontology Term Categories  \\\n",
       "0                 -                    -                         -   \n",
       "\n",
       "  Ontology Term Qualifier IDs Ontology Term Qualifier Names  \\\n",
       "0                           -                             -   \n",
       "\n",
       "  Ontology Term Types  \n",
       "0                   -  \n",
       "\n",
       "[1 rows x 35 columns]"
      ]
     },
     "execution_count": 3,
     "metadata": {},
     "output_type": "execute_result"
    }
   ],
   "source": [
    "biogrid_raw = pd.read_csv(file_biogrid_ppi, sep='\\t',  low_memory=False)\n",
    "biogrid_raw[:1]"
   ]
  },
  {
   "cell_type": "code",
   "execution_count": 4,
   "metadata": {},
   "outputs": [],
   "source": [
    "def process_biogrid_ppi_data(data):\n",
    "    # Filter interactions down to physical interactions between two human proteins\n",
    "    hsapien = 9606\n",
    "    biogrid_ppi = data[(data['Organism Interactor A']==hsapien) & (data['Organism Interactor B']==hsapien) &\n",
    "                       (data['Experimental System Type']=='physical')]\n",
    "    # Filter to columns of interest + rename\n",
    "    biogrid_ppi = biogrid_ppi[['Entrez Gene Interactor A', 'Entrez Gene Interactor B', 'Experimental System']]\n",
    "    biogrid_ppi = biogrid_ppi.rename(columns={'Entrez Gene Interactor A':'A1_entrez', 'Entrez Gene Interactor B':'A2_entrez',\n",
    "                                              'Experimental System':'experimental_system'})\n",
    "    biogrid_ppi = biogrid_ppi.drop_duplicates().reset_index(drop=True).astype({'A1_entrez':'int', 'A2_entrez':'int'})\n",
    "    \n",
    "    # Filter out self interactions\n",
    "    biogrid_ppi = biogrid_ppi[biogrid_ppi.A1_entrez != biogrid_ppi.A2_entrez].reset_index(drop=True)\n",
    "    print('N interactions:', biogrid_ppi.shape[0])\n",
    "    \n",
    "    # Sort interacting genes - to find unique interaction pairs\n",
    "    biogrid_unique = pd.DataFrame(np.sort(biogrid_ppi[['A1_entrez','A2_entrez']], axis=1), \n",
    "                                  columns=['A1_entrez', 'A2_entrez']).drop_duplicates()\n",
    "    assert(biogrid_unique.shape[0] <= biogrid_ppi.shape[0])\n",
    "\n",
    "    print('N interactions after sorting for unique pairs:', biogrid_unique.shape[0])\n",
    "    print('N genes in interaction map:', pd.concat([biogrid_unique.A1_entrez, biogrid_unique.A2_entrez]).nunique())\n",
    "    \n",
    "    return biogrid_unique"
   ]
  },
  {
   "cell_type": "code",
   "execution_count": 5,
   "metadata": {},
   "outputs": [
    {
     "name": "stdout",
     "output_type": "stream",
     "text": [
      "N interactions: 495572\n",
      "N interactions after sorting for unique pairs: 420095\n",
      "N genes in interaction map: 18492\n"
     ]
    },
    {
     "data": {
      "text/html": [
       "<div>\n",
       "<style scoped>\n",
       "    .dataframe tbody tr th:only-of-type {\n",
       "        vertical-align: middle;\n",
       "    }\n",
       "\n",
       "    .dataframe tbody tr th {\n",
       "        vertical-align: top;\n",
       "    }\n",
       "\n",
       "    .dataframe thead th {\n",
       "        text-align: right;\n",
       "    }\n",
       "</style>\n",
       "<table border=\"1\" class=\"dataframe\">\n",
       "  <thead>\n",
       "    <tr style=\"text-align: right;\">\n",
       "      <th></th>\n",
       "      <th>A1_entrez</th>\n",
       "      <th>A2_entrez</th>\n",
       "    </tr>\n",
       "  </thead>\n",
       "  <tbody>\n",
       "    <tr>\n",
       "      <th>0</th>\n",
       "      <td>2318</td>\n",
       "      <td>6416</td>\n",
       "    </tr>\n",
       "    <tr>\n",
       "      <th>1</th>\n",
       "      <td>88</td>\n",
       "      <td>84665</td>\n",
       "    </tr>\n",
       "  </tbody>\n",
       "</table>\n",
       "</div>"
      ],
      "text/plain": [
       "   A1_entrez  A2_entrez\n",
       "0       2318       6416\n",
       "1         88      84665"
      ]
     },
     "metadata": {},
     "output_type": "display_data"
    }
   ],
   "source": [
    "biogrid_unique = process_biogrid_ppi_data(biogrid_raw)\n",
    "biogrid_genes = pd.concat([biogrid_unique.A1_entrez, biogrid_unique.A2_entrez]).unique()\n",
    "display(biogrid_unique[:2])"
   ]
  },
  {
   "cell_type": "markdown",
   "metadata": {},
   "source": [
    "### Calculate shared and total protein-protein interactions for paralog pairs"
   ]
  },
  {
   "cell_type": "code",
   "execution_count": 6,
   "metadata": {},
   "outputs": [],
   "source": [
    "# Assumes PPI has columns [A1_entrez, A2 entrez] and is sorted --> not symmetric and duplicates have been removed\n",
    "# Assumes paralog_pairs is the unique list\n",
    "def compute_ppi_summary_for_pairs(ppi, paralog_pairs):\n",
    "    \n",
    "    # Make ppi df symmetrical for merging with paralog pairs (which are the unique list)\n",
    "    ppi_symmetric = pd.concat([ppi, ppi.rename(columns={'A1_entrez':'A2_entrez','A2_entrez':'A1_entrez'})])\n",
    "    ppi_symmetric = ppi_symmetric.reset_index(drop=True)\n",
    "    assert(ppi_symmetric.shape[0] == ppi.shape[0]*2)\n",
    "    \n",
    "    # Merge with paralog pairs - label interaction if paralog pair is found in PPI df\n",
    "    paralog_ppi = pd.merge(paralog_pairs[['A1_entrez','A2_entrez']], ppi_symmetric, how='left', indicator='interact')\n",
    "    paralog_ppi.interact = paralog_ppi.interact=='both'\n",
    "    assert(paralog_ppi.shape[0] == paralog_pairs.shape[0])\n",
    "    print('N. paralog pairs that interact:', sum(paralog_ppi.interact))\n",
    "    \n",
    "    # Use symmetric version of ppi table to get set of all interactors for each gene\n",
    "    ppi_per_gene = ppi_symmetric.groupby('A1_entrez').agg({'A2_entrez':set}).reset_index()\\\n",
    "                                .rename(columns={'A1_entrez':'gene', 'A2_entrez':'ppi'})\n",
    "    assert(ppi_per_gene.shape[0] == pd.concat([ppi.A1_entrez, ppi.A2_entrez]).nunique())\n",
    "\n",
    "    # Merge ppi_per_gene with each A1 and A2 in all pairs\n",
    "    # Note: pairs can have shared interactors even if there is no evidence they interact themselves\n",
    "    df = pd.merge(paralog_ppi, ppi_per_gene.rename(columns={'gene':'A1_entrez','ppi':'A1_ppi'}), how='left')\n",
    "    df = pd.merge(df, ppi_per_gene.rename(columns={'gene':'A2_entrez','ppi':'A2_ppi'}), how='left')\n",
    "    assert(df.shape[0] == paralog_pairs.shape[0])\n",
    "    print('N paralog pairs w/ 1+ interactor (A1 and/or A2):', df[(~df.A1_ppi.isna()) | (~df.A2_ppi.isna())].shape[0])\n",
    "    \n",
    "    # Fill NaNs with empty sets\n",
    "    df['A1_ppi'] = df['A1_ppi'].apply(lambda d: d if not pd.isnull(d) else set())\n",
    "    df['A2_ppi'] = df['A2_ppi'].apply(lambda d: d if not pd.isnull(d) else set())\n",
    "    \n",
    "    # Remove A2 gene in the set of interactors for A1 gene (and vice versa)\n",
    "    # Don't want to include these in union for other calculations\n",
    "    df.A1_ppi = df.apply(lambda x: x.A1_ppi - {x.A2_entrez}, axis=1)\n",
    "    df.A2_ppi = df.apply(lambda x: x.A2_ppi - {x.A1_entrez}, axis=1)\n",
    "\n",
    "    # Calculate total num interactors + shared interactors\n",
    "    df['n_A1_ppi'] = df.apply(lambda x: len(x.A1_ppi), axis=1)\n",
    "    df['n_A2_ppi'] = df.apply(lambda x: len(x.A2_ppi), axis=1)\n",
    "    df['shared_ppi'] = df.apply(lambda x: x.A1_ppi.intersection(x.A2_ppi), axis=1)\n",
    "    df['n_total_ppi'] = df.apply(lambda x: len(x.A1_ppi.union(x.A2_ppi)), axis=1)\n",
    "    df['n_shared_ppi'] = df.apply(lambda x: len(x.shared_ppi), axis=1)\n",
    "\n",
    "    # Calculate jaccard index for shared interactors\n",
    "    def calc_jaccard_index(x):\n",
    "        if x.n_shared_ppi == 0: return 0\n",
    "        return x.n_shared_ppi / ((x.n_A1_ppi + x.n_A2_ppi) - x.n_shared_ppi)\n",
    "\n",
    "    df['shared_ppi_jaccard_idx'] = df.apply(calc_jaccard_index, axis=1)\n",
    "\n",
    "    # Calculate FET for overlap of interactors, N = all genes involved in interactions\n",
    "    N = len(pd.concat([ppi.A1_entrez, ppi.A2_entrez]).unique())\n",
    "    print('N genes involded in interactions:', N)\n",
    "    assert(ppi_per_gene.shape[0] == N)\n",
    "    # ctab:   | A2      | Not A2\n",
    "    #      A1 | shared  | A1 only\n",
    "    #  Not A1 | A2 only | N - union(A1, A2)\n",
    "    def calc_fet_shared_ppi(x):\n",
    "        ctab = pd.DataFrame({'A2': [x.n_shared_ppi, x.n_A2_ppi - x.n_shared_ppi],\n",
    "                            'NA2': [x.n_A1_ppi - x.n_shared_ppi, N - x.n_total_ppi]}, index=['A1', 'NA1'])\n",
    "        (OR, pval) = stats.fisher_exact(ctab)\n",
    "        if pval==0: # Use smallest float64 number, to apply log10\n",
    "            pval = np.nextafter(0, 1)\n",
    "        log_pval = (-np.log10(pval)) if pval != 1 else 0\n",
    "        log_pval = -log_pval if OR < 1 else log_pval # return negative pval if signif depletion in overlap\n",
    "        return log_pval\n",
    "\n",
    "    df['fet_ppi_overlap'] = df.apply(calc_fet_shared_ppi, axis=1)\n",
    "    \n",
    "    df = df.drop(columns=['A1_ppi','A2_ppi','n_A1_ppi','n_A2_ppi'])\n",
    "    \n",
    "    return df"
   ]
  },
  {
   "cell_type": "code",
   "execution_count": 7,
   "metadata": {},
   "outputs": [
    {
     "name": "stdout",
     "output_type": "stream",
     "text": [
      "N. paralog pairs that interact: 2853\n",
      "N paralog pairs w/ 1+ interactor (A1 and/or A2): 34457\n",
      "N genes involded in interactions: 18492\n"
     ]
    },
    {
     "data": {
      "text/html": [
       "<div>\n",
       "<style scoped>\n",
       "    .dataframe tbody tr th:only-of-type {\n",
       "        vertical-align: middle;\n",
       "    }\n",
       "\n",
       "    .dataframe tbody tr th {\n",
       "        vertical-align: top;\n",
       "    }\n",
       "\n",
       "    .dataframe thead th {\n",
       "        text-align: right;\n",
       "    }\n",
       "</style>\n",
       "<table border=\"1\" class=\"dataframe\">\n",
       "  <thead>\n",
       "    <tr style=\"text-align: right;\">\n",
       "      <th></th>\n",
       "      <th>A1_entrez</th>\n",
       "      <th>A2_entrez</th>\n",
       "      <th>interact</th>\n",
       "      <th>shared_ppi</th>\n",
       "      <th>n_total_ppi</th>\n",
       "      <th>n_shared_ppi</th>\n",
       "      <th>shared_ppi_jaccard_idx</th>\n",
       "      <th>fet_ppi_overlap</th>\n",
       "    </tr>\n",
       "  </thead>\n",
       "  <tbody>\n",
       "    <tr>\n",
       "      <th>0</th>\n",
       "      <td>1</td>\n",
       "      <td>126014</td>\n",
       "      <td>False</td>\n",
       "      <td>{}</td>\n",
       "      <td>22</td>\n",
       "      <td>0</td>\n",
       "      <td>0.0</td>\n",
       "      <td>0.0</td>\n",
       "    </tr>\n",
       "  </tbody>\n",
       "</table>\n",
       "</div>"
      ],
      "text/plain": [
       "   A1_entrez  A2_entrez  interact shared_ppi  n_total_ppi  n_shared_ppi  \\\n",
       "0          1     126014     False         {}           22             0   \n",
       "\n",
       "   shared_ppi_jaccard_idx  fet_ppi_overlap  \n",
       "0                     0.0              0.0  "
      ]
     },
     "execution_count": 7,
     "metadata": {},
     "output_type": "execute_result"
    }
   ],
   "source": [
    "biogrid_ppi_summary = compute_ppi_summary_for_pairs(biogrid_unique, paralog_pairs)\n",
    "biogrid_ppi_summary[:1]"
   ]
  },
  {
   "cell_type": "markdown",
   "metadata": {},
   "source": [
    "### Compute essentiality of shared interactors"
   ]
  },
  {
   "cell_type": "markdown",
   "metadata": {},
   "source": [
    "#### Load Gene Scores"
   ]
  },
  {
   "cell_type": "code",
   "execution_count": 8,
   "metadata": {
    "tags": []
   },
   "outputs": [
    {
     "name": "stdout",
     "output_type": "stream",
     "text": [
      "Gene scores: (769, 16438)\n"
     ]
    },
    {
     "data": {
      "text/html": [
       "<div>\n",
       "<style scoped>\n",
       "    .dataframe tbody tr th:only-of-type {\n",
       "        vertical-align: middle;\n",
       "    }\n",
       "\n",
       "    .dataframe tbody tr th {\n",
       "        vertical-align: top;\n",
       "    }\n",
       "\n",
       "    .dataframe thead th {\n",
       "        text-align: right;\n",
       "    }\n",
       "</style>\n",
       "<table border=\"1\" class=\"dataframe\">\n",
       "  <thead>\n",
       "    <tr style=\"text-align: right;\">\n",
       "      <th></th>\n",
       "      <th>1</th>\n",
       "      <th>29974</th>\n",
       "      <th>2</th>\n",
       "      <th>144568</th>\n",
       "      <th>127550</th>\n",
       "      <th>53947</th>\n",
       "      <th>51146</th>\n",
       "      <th>8086</th>\n",
       "      <th>65985</th>\n",
       "      <th>13</th>\n",
       "      <th>...</th>\n",
       "      <th>221302</th>\n",
       "      <th>9183</th>\n",
       "      <th>55055</th>\n",
       "      <th>11130</th>\n",
       "      <th>79364</th>\n",
       "      <th>440590</th>\n",
       "      <th>79699</th>\n",
       "      <th>7791</th>\n",
       "      <th>23140</th>\n",
       "      <th>26009</th>\n",
       "    </tr>\n",
       "  </thead>\n",
       "  <tbody>\n",
       "    <tr>\n",
       "      <th>ACH-000004</th>\n",
       "      <td>0.153</td>\n",
       "      <td>0.0372</td>\n",
       "      <td>-0.2442</td>\n",
       "      <td>-0.0256</td>\n",
       "      <td>-0.0196</td>\n",
       "      <td>-0.208</td>\n",
       "      <td>0.3096</td>\n",
       "      <td>-0.4438</td>\n",
       "      <td>0.2257</td>\n",
       "      <td>0.1447</td>\n",
       "      <td>...</td>\n",
       "      <td>-0.24</td>\n",
       "      <td>-0.1982</td>\n",
       "      <td>-0.132</td>\n",
       "      <td>-0.4609</td>\n",
       "      <td>0.1545</td>\n",
       "      <td>0.17</td>\n",
       "      <td>-0.4775</td>\n",
       "      <td>0.2669</td>\n",
       "      <td>0.1061</td>\n",
       "      <td>-0.2168</td>\n",
       "    </tr>\n",
       "  </tbody>\n",
       "</table>\n",
       "<p>1 rows × 16438 columns</p>\n",
       "</div>"
      ],
      "text/plain": [
       "                1   29974       2  144568  127550  53947   51146    8086  \\\n",
       "ACH-000004  0.153  0.0372 -0.2442 -0.0256 -0.0196 -0.208  0.3096 -0.4438   \n",
       "\n",
       "             65985      13  ...  221302    9183  55055   11130   79364  \\\n",
       "ACH-000004  0.2257  0.1447  ...   -0.24 -0.1982 -0.132 -0.4609  0.1545   \n",
       "\n",
       "            440590   79699    7791   23140   26009  \n",
       "ACH-000004    0.17 -0.4775  0.2669  0.1061 -0.2168  \n",
       "\n",
       "[1 rows x 16438 columns]"
      ]
     },
     "execution_count": 8,
     "metadata": {},
     "output_type": "execute_result"
    }
   ],
   "source": [
    "# Load gene scores\n",
    "gene_scores_raw = pd.read_csv(file_gene_scores, index_col=0)\n",
    "print('Gene scores:', gene_scores_raw.shape)\n",
    "gene_scores_raw[:1]"
   ]
  },
  {
   "cell_type": "code",
   "execution_count": 9,
   "metadata": {
    "tags": []
   },
   "outputs": [
    {
     "name": "stdout",
     "output_type": "stream",
     "text": [
      "Mean essential %: 10.60, mean CERES: -0.16\n"
     ]
    },
    {
     "data": {
      "text/html": [
       "<div>\n",
       "<style scoped>\n",
       "    .dataframe tbody tr th:only-of-type {\n",
       "        vertical-align: middle;\n",
       "    }\n",
       "\n",
       "    .dataframe tbody tr th {\n",
       "        vertical-align: top;\n",
       "    }\n",
       "\n",
       "    .dataframe thead th {\n",
       "        text-align: right;\n",
       "    }\n",
       "</style>\n",
       "<table border=\"1\" class=\"dataframe\">\n",
       "  <thead>\n",
       "    <tr style=\"text-align: right;\">\n",
       "      <th></th>\n",
       "      <th>entrez_id</th>\n",
       "      <th>essential_percent</th>\n",
       "      <th>avg_ceres_score</th>\n",
       "    </tr>\n",
       "  </thead>\n",
       "  <tbody>\n",
       "    <tr>\n",
       "      <th>0</th>\n",
       "      <td>1</td>\n",
       "      <td>0.0</td>\n",
       "      <td>0.092581</td>\n",
       "    </tr>\n",
       "  </tbody>\n",
       "</table>\n",
       "</div>"
      ],
      "text/plain": [
       "   entrez_id  essential_percent  avg_ceres_score\n",
       "0          1                0.0         0.092581"
      ]
     },
     "metadata": {},
     "output_type": "display_data"
    }
   ],
   "source": [
    "# Compute % of cell lines in which gene is essential + the avg. CERES score for each gene\n",
    "gene_scores = pd.merge(gene_scores_raw.apply(lambda x: (x < -0.6).sum() / gene_scores_raw.shape[0]).reset_index(),\n",
    "                       gene_scores_raw.mean().reset_index(), on=['index'])\n",
    "gene_scores = gene_scores.rename(columns={'index':'entrez_id', '0_x':'essential_percent', '0_y':'avg_ceres_score'})\n",
    "gene_scores = gene_scores.astype({'entrez_id':'int'})\n",
    "print('Mean essential %%: %.2f, mean CERES: %.2f' % (gene_scores.essential_percent.mean()*100, \n",
    "                                                     gene_scores.avg_ceres_score.mean()))\n",
    "display(gene_scores[:1])"
   ]
  },
  {
   "cell_type": "code",
   "execution_count": 10,
   "metadata": {},
   "outputs": [],
   "source": [
    "def compute_shared_ppi_essentiality(ppi_summary, gene_scores):\n",
    "    # Stack shared interactors set\n",
    "    df = ppi_summary[ppi_summary.n_shared_ppi > 0].reset_index(drop=True)\n",
    "    df = df.set_index(['A1_entrez','A2_entrez'])['shared_ppi'].apply(list).apply(pd.Series).stack()\n",
    "    df = df.reset_index().drop(columns=['level_2']).rename(columns={0:'shared_interactor'}).astype({'shared_interactor':'int'})\n",
    "\n",
    "    # Annotate each interactor w/ its essentiality and aggregate\n",
    "    # NOTE: don't want to assign 0 if no scores are available\n",
    "    df = pd.merge(df, gene_scores.rename(columns={'entrez_id':'shared_interactor'}), how='left')\n",
    "    print('Interactors w/out essentiality:', df[df.essential_percent.isna()].shared_interactor.nunique(), '/', \n",
    "          df.shared_interactor.nunique())\n",
    "    #df = df.fillna({'essential_percent':gene_scores.essential_percent.mean()})\n",
    "\n",
    "    # Compute avg interactor essentiality and % interactors that are broadly essential (> 90% of cell lines)\n",
    "    percent_broadly = lambda x: np.sum(x > 0.9) / len(x) if len(x)>0 and not x.isna().all() else float('nan')\n",
    "    ppi_essentiality = df.groupby(['A1_entrez','A2_entrez'])\\\n",
    "                         .agg({'essential_percent':['mean', percent_broadly], 'avg_ceres_score':'mean'})\n",
    "    ppi_essentiality.columns = ['shared_ppi_mean_essentiality','shared_ppi_percent_essential','shared_ppi_mean_ceres_score']\n",
    "    ppi_essentiality = ppi_essentiality.reset_index()  \n",
    "\n",
    "    return ppi_essentiality"
   ]
  },
  {
   "cell_type": "code",
   "execution_count": 11,
   "metadata": {
    "tags": []
   },
   "outputs": [
    {
     "name": "stdout",
     "output_type": "stream",
     "text": [
      "Interactors w/out essentiality: 1185 / 10370\n",
      "Mean percent essential: 0.1191932511829696\n"
     ]
    },
    {
     "data": {
      "text/html": [
       "<div>\n",
       "<style scoped>\n",
       "    .dataframe tbody tr th:only-of-type {\n",
       "        vertical-align: middle;\n",
       "    }\n",
       "\n",
       "    .dataframe tbody tr th {\n",
       "        vertical-align: top;\n",
       "    }\n",
       "\n",
       "    .dataframe thead th {\n",
       "        text-align: right;\n",
       "    }\n",
       "</style>\n",
       "<table border=\"1\" class=\"dataframe\">\n",
       "  <thead>\n",
       "    <tr style=\"text-align: right;\">\n",
       "      <th></th>\n",
       "      <th>A1_entrez</th>\n",
       "      <th>A2_entrez</th>\n",
       "      <th>shared_ppi_mean_essentiality</th>\n",
       "      <th>shared_ppi_percent_essential</th>\n",
       "      <th>shared_ppi_mean_ceres_score</th>\n",
       "    </tr>\n",
       "  </thead>\n",
       "  <tbody>\n",
       "    <tr>\n",
       "      <th>0</th>\n",
       "      <td>2</td>\n",
       "      <td>718</td>\n",
       "      <td>0.177503</td>\n",
       "      <td>0.166667</td>\n",
       "      <td>-0.260447</td>\n",
       "    </tr>\n",
       "  </tbody>\n",
       "</table>\n",
       "</div>"
      ],
      "text/plain": [
       "   A1_entrez  A2_entrez  shared_ppi_mean_essentiality  \\\n",
       "0          2        718                      0.177503   \n",
       "\n",
       "   shared_ppi_percent_essential  shared_ppi_mean_ceres_score  \n",
       "0                      0.166667                    -0.260447  "
      ]
     },
     "execution_count": 11,
     "metadata": {},
     "output_type": "execute_result"
    }
   ],
   "source": [
    "biogrid_essentiality = compute_shared_ppi_essentiality(biogrid_ppi_summary, gene_scores)\n",
    "print('Mean percent essential:', biogrid_essentiality.shared_ppi_percent_essential.mean())\n",
    "biogrid_essentiality[:1]"
   ]
  },
  {
   "cell_type": "markdown",
   "metadata": {},
   "source": [
    "### Merge all PPI features"
   ]
  },
  {
   "cell_type": "code",
   "execution_count": 12,
   "metadata": {},
   "outputs": [
    {
     "name": "stdout",
     "output_type": "stream",
     "text": [
      "Shared interactors w/out essentiality: 477\n",
      "Interactions between paralogs (biogrid all): 2853 / 36648\n"
     ]
    },
    {
     "data": {
      "text/html": [
       "<div>\n",
       "<style scoped>\n",
       "    .dataframe tbody tr th:only-of-type {\n",
       "        vertical-align: middle;\n",
       "    }\n",
       "\n",
       "    .dataframe tbody tr th {\n",
       "        vertical-align: top;\n",
       "    }\n",
       "\n",
       "    .dataframe thead th {\n",
       "        text-align: right;\n",
       "    }\n",
       "</style>\n",
       "<table border=\"1\" class=\"dataframe\">\n",
       "  <thead>\n",
       "    <tr style=\"text-align: right;\">\n",
       "      <th></th>\n",
       "      <th>A1_entrez</th>\n",
       "      <th>A2_entrez</th>\n",
       "      <th>interact</th>\n",
       "      <th>n_total_ppi</th>\n",
       "      <th>n_shared_ppi</th>\n",
       "      <th>shared_ppi_jaccard_idx</th>\n",
       "      <th>fet_ppi_overlap</th>\n",
       "      <th>shared_ppi_mean_essentiality</th>\n",
       "      <th>shared_ppi_percent_essential</th>\n",
       "      <th>shared_ppi_mean_ceres_score</th>\n",
       "    </tr>\n",
       "  </thead>\n",
       "  <tbody>\n",
       "    <tr>\n",
       "      <th>0</th>\n",
       "      <td>1</td>\n",
       "      <td>126014</td>\n",
       "      <td>False</td>\n",
       "      <td>22</td>\n",
       "      <td>0</td>\n",
       "      <td>0.0</td>\n",
       "      <td>0.0</td>\n",
       "      <td>NaN</td>\n",
       "      <td>NaN</td>\n",
       "      <td>NaN</td>\n",
       "    </tr>\n",
       "  </tbody>\n",
       "</table>\n",
       "</div>"
      ],
      "text/plain": [
       "   A1_entrez  A2_entrez  interact  n_total_ppi  n_shared_ppi  \\\n",
       "0          1     126014     False           22             0   \n",
       "\n",
       "   shared_ppi_jaccard_idx  fet_ppi_overlap  shared_ppi_mean_essentiality  \\\n",
       "0                     0.0              0.0                           NaN   \n",
       "\n",
       "   shared_ppi_percent_essential  shared_ppi_mean_ceres_score  \n",
       "0                           NaN                          NaN  "
      ]
     },
     "execution_count": 12,
     "metadata": {},
     "output_type": "execute_result"
    }
   ],
   "source": [
    "biogrid_features = pd.merge(biogrid_ppi_summary.drop(columns=['shared_ppi']), biogrid_essentiality, how='left')\n",
    "assert(biogrid_features.shape[0] == paralog_pairs.shape[0])\n",
    "\n",
    "print('Shared interactors w/out essentiality:', \n",
    "      biogrid_features[(biogrid_features.n_shared_ppi>0) & biogrid_features.shared_ppi_percent_essential.isna()].shape[0])\n",
    "print('Interactions between paralogs (biogrid all):', sum(biogrid_features.interact),'/',biogrid_features.shape[0])\n",
    "\n",
    "biogrid_features[:1]"
   ]
  },
  {
   "cell_type": "code",
   "execution_count": 13,
   "metadata": {},
   "outputs": [],
   "source": [
    "biogrid_features.to_csv(file_ppi_features, index=0)"
   ]
  }
 ],
 "metadata": {
  "kernelspec": {
   "display_name": "Python 3.7.9 64-bit ('paralogSL': conda)",
   "language": "python",
   "name": "python37964bitparalogslconda0f0e77de73d34c52b743edfe8868363d"
  },
  "language_info": {
   "codemirror_mode": {
    "name": "ipython",
    "version": 3
   },
   "file_extension": ".py",
   "mimetype": "text/x-python",
   "name": "python",
   "nbconvert_exporter": "python",
   "pygments_lexer": "ipython3",
   "version": "3.7.1"
  }
 },
 "nbformat": 4,
 "nbformat_minor": 2
}
