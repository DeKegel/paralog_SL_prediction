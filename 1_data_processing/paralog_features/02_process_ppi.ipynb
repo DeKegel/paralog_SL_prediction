{
 "cells": [
  {
   "cell_type": "markdown",
   "metadata": {},
   "source": [
    "## Process protein-protein interactions\n",
    "\n",
    "**Input**: PPI pairs from BIOGRID + CERES gene scores + processed paralog pairs\n",
    "\n",
    "**Output**: Paralog pairs annotated with PPI features"
   ]
  },
  {
   "cell_type": "code",
   "execution_count": 1,
   "metadata": {},
   "outputs": [],
   "source": [
    "import pandas as pd\n",
    "import numpy as np\n",
    "import os\n",
    "import matplotlib.pyplot as plt\n",
    "import scipy.stats as stats\n",
    "import seaborn as sns\n",
    "\n",
    "get_data_path = lambda folders, fname: os.path.normpath(os.environ['3RD_PARTY_DIR']+'/'+'/'.join(folders) +'/'+ fname)\n",
    "get_local_data_path = lambda folders, fname: os.path.normpath('../../local_data/' +'/'.join(folders) +'/'+ fname)\n",
    "\n",
    "# Inputs\n",
    "file_biogrid_ppi = get_data_path(['biogrid'], 'BIOGRID-ORGANISM-Homo_sapiens-3.5.187.tab3.txt')\n",
    "file_paralog_pairs = get_local_data_path(['processed', 'ensembl93'], 'unique_pairs.csv')\n",
    "file_gene_scores = get_local_data_path(['processed', 'depmap20Q2'], 'gene_scores_26_05_20.csv')\n",
    "\n",
    "# Output\n",
    "file_biogrid_features = get_local_data_path(['processed','paralog_features'], 'biogrid_ppi_features.csv')"
   ]
  },
  {
   "cell_type": "markdown",
   "metadata": {},
   "source": [
    "### Protein-Protein Interactions (PPI) from BioGRID\n",
    "\n",
    "Using all methods for calling an interaction between A1 and A2.\n",
    "\n",
    "Multiple entries can refer to the same interaction but based on different Experimental System / different Throughput"
   ]
  },
  {
   "cell_type": "code",
   "execution_count": 2,
   "metadata": {
    "scrolled": true
   },
   "outputs": [
    {
     "data": {
      "text/html": [
       "<div>\n",
       "<style scoped>\n",
       "    .dataframe tbody tr th:only-of-type {\n",
       "        vertical-align: middle;\n",
       "    }\n",
       "\n",
       "    .dataframe tbody tr th {\n",
       "        vertical-align: top;\n",
       "    }\n",
       "\n",
       "    .dataframe thead th {\n",
       "        text-align: right;\n",
       "    }\n",
       "</style>\n",
       "<table border=\"1\" class=\"dataframe\">\n",
       "  <thead>\n",
       "    <tr style=\"text-align: right;\">\n",
       "      <th></th>\n",
       "      <th>#BioGRID Interaction ID</th>\n",
       "      <th>Entrez Gene Interactor A</th>\n",
       "      <th>Entrez Gene Interactor B</th>\n",
       "      <th>BioGRID ID Interactor A</th>\n",
       "      <th>BioGRID ID Interactor B</th>\n",
       "      <th>Systematic Name Interactor A</th>\n",
       "      <th>Systematic Name Interactor B</th>\n",
       "      <th>Official Symbol Interactor A</th>\n",
       "      <th>Official Symbol Interactor B</th>\n",
       "      <th>Synonyms Interactor A</th>\n",
       "      <th>...</th>\n",
       "      <th>REFSEQ Accessions Interactor A</th>\n",
       "      <th>SWISS-PROT Accessions Interactor B</th>\n",
       "      <th>TREMBL Accessions Interactor B</th>\n",
       "      <th>REFSEQ Accessions Interactor B</th>\n",
       "      <th>Ontology Term IDs</th>\n",
       "      <th>Ontology Term Names</th>\n",
       "      <th>Ontology Term Categories</th>\n",
       "      <th>Ontology Term Qualifier IDs</th>\n",
       "      <th>Ontology Term Qualifier Names</th>\n",
       "      <th>Ontology Term Types</th>\n",
       "    </tr>\n",
       "  </thead>\n",
       "  <tbody>\n",
       "    <tr>\n",
       "      <th>0</th>\n",
       "      <td>103</td>\n",
       "      <td>6416</td>\n",
       "      <td>2318</td>\n",
       "      <td>112315</td>\n",
       "      <td>108607</td>\n",
       "      <td>-</td>\n",
       "      <td>-</td>\n",
       "      <td>MAP2K4</td>\n",
       "      <td>FLNC</td>\n",
       "      <td>JNKK|JNKK1|MAPKK4|MEK4|MKK4|PRKMK4|SAPKK-1|SAP...</td>\n",
       "      <td>...</td>\n",
       "      <td>NP_003001|NP_001268364</td>\n",
       "      <td>Q14315</td>\n",
       "      <td>Q59H94</td>\n",
       "      <td>NP_001120959|NP_001449</td>\n",
       "      <td>-</td>\n",
       "      <td>-</td>\n",
       "      <td>-</td>\n",
       "      <td>-</td>\n",
       "      <td>-</td>\n",
       "      <td>-</td>\n",
       "    </tr>\n",
       "  </tbody>\n",
       "</table>\n",
       "<p>1 rows × 35 columns</p>\n",
       "</div>"
      ],
      "text/plain": [
       "   #BioGRID Interaction ID Entrez Gene Interactor A  Entrez Gene Interactor B  \\\n",
       "0                      103                     6416                      2318   \n",
       "\n",
       "   BioGRID ID Interactor A  BioGRID ID Interactor B  \\\n",
       "0                   112315                   108607   \n",
       "\n",
       "  Systematic Name Interactor A Systematic Name Interactor B  \\\n",
       "0                            -                            -   \n",
       "\n",
       "  Official Symbol Interactor A Official Symbol Interactor B  \\\n",
       "0                       MAP2K4                         FLNC   \n",
       "\n",
       "                               Synonyms Interactor A  ...  \\\n",
       "0  JNKK|JNKK1|MAPKK4|MEK4|MKK4|PRKMK4|SAPKK-1|SAP...  ...   \n",
       "\n",
       "  REFSEQ Accessions Interactor A SWISS-PROT Accessions Interactor B  \\\n",
       "0         NP_003001|NP_001268364                             Q14315   \n",
       "\n",
       "  TREMBL Accessions Interactor B REFSEQ Accessions Interactor B  \\\n",
       "0                         Q59H94         NP_001120959|NP_001449   \n",
       "\n",
       "  Ontology Term IDs  Ontology Term Names  Ontology Term Categories  \\\n",
       "0                 -                    -                         -   \n",
       "\n",
       "  Ontology Term Qualifier IDs Ontology Term Qualifier Names  \\\n",
       "0                           -                             -   \n",
       "\n",
       "  Ontology Term Types  \n",
       "0                   -  \n",
       "\n",
       "[1 rows x 35 columns]"
      ]
     },
     "execution_count": 2,
     "metadata": {},
     "output_type": "execute_result"
    }
   ],
   "source": [
    "biogrid_raw = pd.read_csv(file_biogrid_ppi, sep='\\t',  low_memory=False)\n",
    "biogrid_raw[:1]"
   ]
  },
  {
   "cell_type": "code",
   "execution_count": 5,
   "metadata": {
    "tags": []
   },
   "outputs": [
    {
     "name": "stdout",
     "output_type": "stream",
     "text": [
      "N physical interactions: 499929\n"
     ]
    },
    {
     "data": {
      "text/plain": [
       "Affinity Capture-MS              219685\n",
       "Two-hybrid                        97984\n",
       "Affinity Capture-Western          48943\n",
       "Co-fractionation                  43010\n",
       "Reconstituted Complex             26801\n",
       "Proximity Label-MS                22391\n",
       "Affinity Capture-RNA              18549\n",
       "Biochemical Activity               8591\n",
       "Co-localization                    3410\n",
       "Affinity Capture-Luminescence      1969\n",
       "FRET                               1917\n",
       "Protein-peptide                    1806\n",
       "Co-purification                    1528\n",
       "Co-crystal Structure               1390\n",
       "PCA                                 715\n",
       "Far Western                         696\n",
       "Protein-RNA                         544\n",
       "Name: experimental_system, dtype: int64"
      ]
     },
     "metadata": {},
     "output_type": "display_data"
    },
    {
     "name": "stdout",
     "output_type": "stream",
     "text": [
      "N genes in interaction map: 18501\n"
     ]
    },
    {
     "data": {
      "text/html": [
       "<div>\n",
       "<style scoped>\n",
       "    .dataframe tbody tr th:only-of-type {\n",
       "        vertical-align: middle;\n",
       "    }\n",
       "\n",
       "    .dataframe tbody tr th {\n",
       "        vertical-align: top;\n",
       "    }\n",
       "\n",
       "    .dataframe thead th {\n",
       "        text-align: right;\n",
       "    }\n",
       "</style>\n",
       "<table border=\"1\" class=\"dataframe\">\n",
       "  <thead>\n",
       "    <tr style=\"text-align: right;\">\n",
       "      <th></th>\n",
       "      <th>A1_entrez</th>\n",
       "      <th>A2_entrez</th>\n",
       "    </tr>\n",
       "  </thead>\n",
       "  <tbody>\n",
       "    <tr>\n",
       "      <th>0</th>\n",
       "      <td>2318</td>\n",
       "      <td>6416</td>\n",
       "    </tr>\n",
       "    <tr>\n",
       "      <th>1</th>\n",
       "      <td>88</td>\n",
       "      <td>84665</td>\n",
       "    </tr>\n",
       "  </tbody>\n",
       "</table>\n",
       "</div>"
      ],
      "text/plain": [
       "   A1_entrez  A2_entrez\n",
       "0       2318       6416\n",
       "1         88      84665"
      ]
     },
     "metadata": {},
     "output_type": "display_data"
    }
   ],
   "source": [
    "# Filter interactions down to physical interactions between two human proteins\n",
    "hsapien = 9606\n",
    "biogrid_ppi = biogrid_raw[(biogrid_raw['Organism Interactor A']==hsapien) & (biogrid_raw['Organism Interactor B']==hsapien) &\n",
    "                          (biogrid_raw['Experimental System Type']=='physical')]\n",
    "\n",
    "# Clean up\n",
    "biogrid_ppi = biogrid_ppi.rename(columns={'Entrez Gene Interactor A':'A1_entrez', 'Entrez Gene Interactor B':'A2_entrez',\n",
    "                                          'Experimental System':'experimental_system'})\n",
    "biogrid_ppi = biogrid_ppi[['A1_entrez', 'A2_entrez', 'experimental_system']].drop_duplicates().reset_index(drop=True)\n",
    "\n",
    "# Filter out self interactions\n",
    "biogrid_ppi = biogrid_ppi[biogrid_ppi.A1_entrez != biogrid_ppi.A2_entrez]\n",
    "print('N physical interactions:', biogrid_ppi.shape[0])\n",
    "display(biogrid_ppi.experimental_system.value_counts())\n",
    "\n",
    "# Sort interacting genes - to find unique interaction pairs\n",
    "biogrid_ppi = biogrid_ppi.astype({'A1_entrez':'int', 'A2_entrez':'int'})\n",
    "biogrid_ppi = pd.DataFrame(np.sort(biogrid_ppi[['A1_entrez', 'A2_entrez']], axis=1), columns=['A1_entrez', 'A2_entrez'])\n",
    "\n",
    "print('N genes in interaction map:', pd.concat([biogrid_ppi.A1_entrez, biogrid_ppi.A2_entrez]).nunique())\n",
    "display(biogrid_ppi[:2])"
   ]
  },
  {
   "cell_type": "markdown",
   "metadata": {},
   "source": [
    "### Calculate shared and total protein-protein interactions for paralog pairs"
   ]
  },
  {
   "cell_type": "code",
   "execution_count": 7,
   "metadata": {},
   "outputs": [],
   "source": [
    "# Assumes PPI input is not symmetric (duplicates have been removed)\n",
    "\n",
    "def compute_ppi_summary_for_pairs(ppi, paralog_pairs):\n",
    "    \n",
    "    # Make ppi df symmetrical \n",
    "    ppi_symmetric = pd.concat([ppi, ppi.rename(columns={'A1_entrez':'A2_entrez','A2_entrez':'A1_entrez'})])\n",
    "    ppi_symmetric = ppi_symmetric.reset_index(drop=True).drop_duplicates()\n",
    "    \n",
    "    # Merge with paralog pairs\n",
    "    paralog_ppi = pd.merge(paralog_pairs[['A1_entrez','A2_entrez']], ppi_symmetric, how='left', indicator='interact')\n",
    "    paralog_ppi.interact = paralog_ppi.interact=='both'\n",
    "    print('N. pairs that interact:', sum(paralog_ppi.interact))\n",
    "    \n",
    "    # Use symmetric version of ppi table to get all interactors for each gene\n",
    "    ppi_per_gene = ppi_symmetric.groupby('A1_entrez').agg({'A2_entrez':set}).reset_index()\\\n",
    "                                .rename(columns={'A1_entrez':'gene', 'A2_entrez':'ppi'})\n",
    "    display(ppi_per_gene[:1])\n",
    "\n",
    "    # Merge ppi_per_gene with each A1 and A2 in all pairs - df will be all pairs where at least 1 has 1+ interactors\n",
    "    # Note: pairs can have shared interactors even if there is no evidence they interact themselves\n",
    "    df = pd.merge(paralog_ppi, ppi_per_gene.rename(columns={'gene':'A1_entrez','ppi':'A1_ppi'}))\n",
    "    df = pd.merge(df, ppi_per_gene.rename(columns={'gene':'A2_entrez','ppi':'A2_ppi'}))\n",
    "    \n",
    "    # Remove A2 gene in the set of interactors for A1 gene (and v.v.)\n",
    "    # Don't want to include these in union for other calculations\n",
    "    df.A1_ppi = df.apply(lambda x: x.A1_ppi - {x.A2_entrez}, axis=1)\n",
    "    df.A2_ppi = df.apply(lambda x: x.A2_ppi - {x.A1_entrez}, axis=1)\n",
    "\n",
    "    # Calculate total num interactors + shared interactors\n",
    "    df = df.assign(n_A1_ppi = df.apply(lambda x: len(x.A1_ppi), axis=1),\n",
    "                   n_A2_ppi = df.apply(lambda x: len(x.A2_ppi), axis=1))\n",
    "    df = df.assign(shared_ppi = df.apply(lambda x: x.A1_ppi.intersection(x.A2_ppi), axis=1))\n",
    "    df = df.assign(n_total_ppi = df.apply(lambda x: len(x.A1_ppi.union(x.A2_ppi)), axis=1))\n",
    "    df = df.assign(n_shared_ppi = df.apply(lambda x: len(x.shared_ppi), axis=1))\n",
    "\n",
    "    # Calculate jaccard index for shared interactors\n",
    "    def calc_jaccard_index(x):\n",
    "        if x.n_shared_ppi == 0: return 0\n",
    "        return x.n_shared_ppi / ((x.n_A1_ppi + x.n_A2_ppi) - x.n_shared_ppi)\n",
    "\n",
    "    df['shared_ppi_jaccard_idx'] = df.apply(calc_jaccard_index, axis=1)\n",
    "\n",
    "    # Calculate FET for overlap, N = all genes involved in interactions\n",
    "    N = len(pd.concat([ppi.A1_entrez, ppi.A2_entrez]).unique())\n",
    "    assert(ppi_per_gene.shape[0] == N)\n",
    "\n",
    "    #       A2   NA2\n",
    "    # A1  |    |    |\n",
    "    # NA1 |    |    |\n",
    "    def calc_fet_shared_ppi(x):\n",
    "        tab = pd.DataFrame({'A2': [x.n_shared_ppi, x.n_A2_ppi - x.n_shared_ppi],\n",
    "                            'NA2': [x.n_A1_ppi - x.n_shared_ppi, N - (x.n_A1_ppi + x.n_A2_ppi - x.n_shared_ppi)]}, \n",
    "                           index=['A1', 'NA1'])\n",
    "        (OR, pval) = stats.fisher_exact(tab)\n",
    "        if pval==0: # Use smallest float64 number, to apply log10\n",
    "            pval = np.nextafter(0, 1)\n",
    "        log_pval = (-np.log10(pval)) if pval != 1 else 0\n",
    "        log_pval = -log_pval if OR < 1 else log_pval\n",
    "        return log_pval\n",
    "\n",
    "    df['fet_ppi_overlap'] = df.apply(calc_fet_shared_ppi, axis=1)\n",
    "    \n",
    "    ret_df = pd.merge(paralog_ppi, df, how='left')\n",
    "    ret_df = ret_df.fillna({'n_shared_ppi':0,'n_total_ppi':0,'shared_ppi_jaccard_idx':0,'fet_ppi_overlap':0, 'direct':False})\n",
    "    ret_df = ret_df.drop(columns=['A1_ppi','A2_ppi','n_A1_ppi','n_A2_ppi'])\n",
    "    \n",
    "    return ret_df"
   ]
  },
  {
   "cell_type": "code",
   "execution_count": 6,
   "metadata": {
    "tags": []
   },
   "outputs": [
    {
     "name": "stdout",
     "output_type": "stream",
     "text": [
      "Num pairs: 36648\n"
     ]
    }
   ],
   "source": [
    "paralog_pairs = pd.read_csv(file_paralog_pairs, index_col=0)\n",
    "print('Num pairs:', paralog_pairs.shape[0])"
   ]
  },
  {
   "cell_type": "code",
   "execution_count": 8,
   "metadata": {},
   "outputs": [
    {
     "name": "stdout",
     "output_type": "stream",
     "text": [
      "N. pairs that interact: 2853\n"
     ]
    },
    {
     "data": {
      "text/html": [
       "<div>\n",
       "<style scoped>\n",
       "    .dataframe tbody tr th:only-of-type {\n",
       "        vertical-align: middle;\n",
       "    }\n",
       "\n",
       "    .dataframe tbody tr th {\n",
       "        vertical-align: top;\n",
       "    }\n",
       "\n",
       "    .dataframe thead th {\n",
       "        text-align: right;\n",
       "    }\n",
       "</style>\n",
       "<table border=\"1\" class=\"dataframe\">\n",
       "  <thead>\n",
       "    <tr style=\"text-align: right;\">\n",
       "      <th></th>\n",
       "      <th>gene</th>\n",
       "      <th>ppi</th>\n",
       "    </tr>\n",
       "  </thead>\n",
       "  <tbody>\n",
       "    <tr>\n",
       "      <th>0</th>\n",
       "      <td>1</td>\n",
       "      <td>{284161, 1026, 11010, 63891, 23198, 7083, 1054...</td>\n",
       "    </tr>\n",
       "  </tbody>\n",
       "</table>\n",
       "</div>"
      ],
      "text/plain": [
       "   gene                                                ppi\n",
       "0     1  {284161, 1026, 11010, 63891, 23198, 7083, 1054..."
      ]
     },
     "metadata": {},
     "output_type": "display_data"
    },
    {
     "data": {
      "text/html": [
       "<div>\n",
       "<style scoped>\n",
       "    .dataframe tbody tr th:only-of-type {\n",
       "        vertical-align: middle;\n",
       "    }\n",
       "\n",
       "    .dataframe tbody tr th {\n",
       "        vertical-align: top;\n",
       "    }\n",
       "\n",
       "    .dataframe thead th {\n",
       "        text-align: right;\n",
       "    }\n",
       "</style>\n",
       "<table border=\"1\" class=\"dataframe\">\n",
       "  <thead>\n",
       "    <tr style=\"text-align: right;\">\n",
       "      <th></th>\n",
       "      <th>A1_entrez</th>\n",
       "      <th>A2_entrez</th>\n",
       "      <th>interact</th>\n",
       "      <th>shared_ppi</th>\n",
       "      <th>n_total_ppi</th>\n",
       "      <th>n_shared_ppi</th>\n",
       "      <th>shared_ppi_jaccard_idx</th>\n",
       "      <th>fet_ppi_overlap</th>\n",
       "    </tr>\n",
       "  </thead>\n",
       "  <tbody>\n",
       "    <tr>\n",
       "      <th>0</th>\n",
       "      <td>1</td>\n",
       "      <td>126014</td>\n",
       "      <td>False</td>\n",
       "      <td>NaN</td>\n",
       "      <td>0.0</td>\n",
       "      <td>0.0</td>\n",
       "      <td>0.0</td>\n",
       "      <td>0.0</td>\n",
       "    </tr>\n",
       "  </tbody>\n",
       "</table>\n",
       "</div>"
      ],
      "text/plain": [
       "   A1_entrez  A2_entrez  interact shared_ppi  n_total_ppi  n_shared_ppi  \\\n",
       "0          1     126014     False        NaN          0.0           0.0   \n",
       "\n",
       "   shared_ppi_jaccard_idx  fet_ppi_overlap  \n",
       "0                     0.0              0.0  "
      ]
     },
     "execution_count": 8,
     "metadata": {},
     "output_type": "execute_result"
    }
   ],
   "source": [
    "biogrid_ppi_summary = compute_ppi_summary_for_pairs(biogrid_ppi, paralog_pairs)\n",
    "biogrid_ppi_summary[:1]"
   ]
  },
  {
   "cell_type": "markdown",
   "metadata": {},
   "source": [
    "### Compute essentiality of shared interactors"
   ]
  },
  {
   "cell_type": "code",
   "execution_count": 9,
   "metadata": {
    "tags": []
   },
   "outputs": [
    {
     "name": "stdout",
     "output_type": "stream",
     "text": [
      "Gene scores: (769, 16445)\n"
     ]
    },
    {
     "data": {
      "text/html": [
       "<div>\n",
       "<style scoped>\n",
       "    .dataframe tbody tr th:only-of-type {\n",
       "        vertical-align: middle;\n",
       "    }\n",
       "\n",
       "    .dataframe tbody tr th {\n",
       "        vertical-align: top;\n",
       "    }\n",
       "\n",
       "    .dataframe thead th {\n",
       "        text-align: right;\n",
       "    }\n",
       "</style>\n",
       "<table border=\"1\" class=\"dataframe\">\n",
       "  <thead>\n",
       "    <tr style=\"text-align: right;\">\n",
       "      <th></th>\n",
       "      <th>1</th>\n",
       "      <th>29974</th>\n",
       "      <th>2</th>\n",
       "      <th>144568</th>\n",
       "      <th>127550</th>\n",
       "      <th>53947</th>\n",
       "      <th>51146</th>\n",
       "      <th>8086</th>\n",
       "      <th>65985</th>\n",
       "      <th>13</th>\n",
       "      <th>...</th>\n",
       "      <th>221302</th>\n",
       "      <th>9183</th>\n",
       "      <th>55055</th>\n",
       "      <th>11130</th>\n",
       "      <th>79364</th>\n",
       "      <th>440590</th>\n",
       "      <th>79699</th>\n",
       "      <th>7791</th>\n",
       "      <th>23140</th>\n",
       "      <th>26009</th>\n",
       "    </tr>\n",
       "  </thead>\n",
       "  <tbody>\n",
       "    <tr>\n",
       "      <th>ACH-001382</th>\n",
       "      <td>0.652347</td>\n",
       "      <td>-0.020793</td>\n",
       "      <td>-0.270112</td>\n",
       "      <td>-0.211408</td>\n",
       "      <td>0.06271</td>\n",
       "      <td>-0.081674</td>\n",
       "      <td>0.37684</td>\n",
       "      <td>-0.767385</td>\n",
       "      <td>0.166991</td>\n",
       "      <td>0.112045</td>\n",
       "      <td>...</td>\n",
       "      <td>0.182055</td>\n",
       "      <td>-0.724872</td>\n",
       "      <td>0.499652</td>\n",
       "      <td>-0.141164</td>\n",
       "      <td>-0.336501</td>\n",
       "      <td>0.250665</td>\n",
       "      <td>-0.676302</td>\n",
       "      <td>-0.098001</td>\n",
       "      <td>-0.677497</td>\n",
       "      <td>-0.506629</td>\n",
       "    </tr>\n",
       "  </tbody>\n",
       "</table>\n",
       "<p>1 rows × 16445 columns</p>\n",
       "</div>"
      ],
      "text/plain": [
       "                   1     29974         2    144568   127550     53947  \\\n",
       "ACH-001382  0.652347 -0.020793 -0.270112 -0.211408  0.06271 -0.081674   \n",
       "\n",
       "              51146      8086     65985        13  ...    221302      9183  \\\n",
       "ACH-001382  0.37684 -0.767385  0.166991  0.112045  ...  0.182055 -0.724872   \n",
       "\n",
       "               55055     11130     79364    440590     79699      7791  \\\n",
       "ACH-001382  0.499652 -0.141164 -0.336501  0.250665 -0.676302 -0.098001   \n",
       "\n",
       "               23140     26009  \n",
       "ACH-001382 -0.677497 -0.506629  \n",
       "\n",
       "[1 rows x 16445 columns]"
      ]
     },
     "execution_count": 9,
     "metadata": {},
     "output_type": "execute_result"
    }
   ],
   "source": [
    "# Load gene scores\n",
    "gene_scores_raw = pd.read_csv(file_gene_scores, index_col=0)\n",
    "print('Gene scores:', gene_scores_raw.shape)\n",
    "gene_scores_raw[:1]"
   ]
  },
  {
   "cell_type": "code",
   "execution_count": 10,
   "metadata": {
    "tags": []
   },
   "outputs": [
    {
     "name": "stdout",
     "output_type": "stream",
     "text": [
      "Mean essential %: 10.62, mean CERES: -0.16\n"
     ]
    },
    {
     "data": {
      "text/html": [
       "<div>\n",
       "<style scoped>\n",
       "    .dataframe tbody tr th:only-of-type {\n",
       "        vertical-align: middle;\n",
       "    }\n",
       "\n",
       "    .dataframe tbody tr th {\n",
       "        vertical-align: top;\n",
       "    }\n",
       "\n",
       "    .dataframe thead th {\n",
       "        text-align: right;\n",
       "    }\n",
       "</style>\n",
       "<table border=\"1\" class=\"dataframe\">\n",
       "  <thead>\n",
       "    <tr style=\"text-align: right;\">\n",
       "      <th></th>\n",
       "      <th>entrez_id</th>\n",
       "      <th>essential_percent</th>\n",
       "      <th>avg_ceres_score</th>\n",
       "    </tr>\n",
       "  </thead>\n",
       "  <tbody>\n",
       "    <tr>\n",
       "      <th>0</th>\n",
       "      <td>1</td>\n",
       "      <td>0.0</td>\n",
       "      <td>0.092681</td>\n",
       "    </tr>\n",
       "  </tbody>\n",
       "</table>\n",
       "</div>"
      ],
      "text/plain": [
       "   entrez_id  essential_percent  avg_ceres_score\n",
       "0          1                0.0         0.092681"
      ]
     },
     "metadata": {},
     "output_type": "display_data"
    }
   ],
   "source": [
    "# Compute % of cell lines in which gene is essential + the avg. CERES score for each gene\n",
    "gene_scores = pd.merge(gene_scores_raw.apply(lambda x: (x < -0.6).sum() / gene_scores_raw.shape[0]).reset_index(),\n",
    "                       gene_scores_raw.mean().reset_index(), on=['index'])\n",
    "gene_scores = gene_scores.rename(columns={'index':'entrez_id', '0_x':'essential_percent', '0_y':'avg_ceres_score'})\n",
    "gene_scores = gene_scores.astype({'entrez_id':'int'})\n",
    "print('Mean essential %%: %.2f, mean CERES: %.2f' % (gene_scores.essential_percent.mean()*100, \n",
    "                                                     gene_scores.avg_ceres_score.mean()))\n",
    "display(gene_scores[:1])"
   ]
  },
  {
   "cell_type": "code",
   "execution_count": 12,
   "metadata": {},
   "outputs": [],
   "source": [
    "def compute_shared_ppi_essentiality(shared_ppi_summary):\n",
    "    \n",
    "    # Stack shared interactors set\n",
    "    df = shared_ppi_summary[shared_ppi_summary.n_shared_ppi > 0].set_index(['A1_entrez','A2_entrez'])['shared_ppi']\\\n",
    "                                                                .apply(list).apply(pd.Series).stack()\n",
    "    df = df.reset_index().drop(columns=['level_2']).rename(columns={0:'shared_interactor'}).astype({'shared_interactor':'int'})\n",
    "\n",
    "    # Annotate each interactor w/ its essentiality and aggregate\n",
    "    # NOTE: don't want to assign 0 if no scores are available\n",
    "    df = pd.merge(df, gene_scores.rename(columns={'entrez_id':'shared_interactor'}), how='left')\n",
    "    print('Interactors w/out essentiality:', df[df.essential_percent.isna()].shared_interactor.nunique(), '/', \n",
    "          df.shared_interactor.nunique())\n",
    "\n",
    "    # Compute avg interactor essentiality and % interactors that are broadly essential (> 90% of cell lines)\n",
    "    percent_broadly = lambda x: np.sum(x > 0.9) / len(x) if len(x)>0 and not x.isna().all() else float('nan')\n",
    "    ppi_essentiality = df.groupby(['A1_entrez','A2_entrez'])\\\n",
    "                         .agg({'essential_percent':['mean', percent_broadly], 'avg_ceres_score':'mean'})\n",
    "    ppi_essentiality.columns = ['shared_ppi_mean_essentiality','shared_ppi_percent_essential','shared_ppi_mean_ceres_score']\n",
    "    ppi_essentiality = ppi_essentiality.reset_index()  \n",
    "\n",
    "    return ppi_essentiality"
   ]
  },
  {
   "cell_type": "code",
   "execution_count": 14,
   "metadata": {
    "tags": []
   },
   "outputs": [
    {
     "name": "stdout",
     "output_type": "stream",
     "text": [
      "Interactors w/out essentiality: 1182 / 10370\n",
      "Mean percent essential: 12.384835164209688\n"
     ]
    },
    {
     "data": {
      "text/html": [
       "<div>\n",
       "<style scoped>\n",
       "    .dataframe tbody tr th:only-of-type {\n",
       "        vertical-align: middle;\n",
       "    }\n",
       "\n",
       "    .dataframe tbody tr th {\n",
       "        vertical-align: top;\n",
       "    }\n",
       "\n",
       "    .dataframe thead th {\n",
       "        text-align: right;\n",
       "    }\n",
       "</style>\n",
       "<table border=\"1\" class=\"dataframe\">\n",
       "  <thead>\n",
       "    <tr style=\"text-align: right;\">\n",
       "      <th></th>\n",
       "      <th>A1_entrez</th>\n",
       "      <th>A2_entrez</th>\n",
       "      <th>shared_ppi_mean_essentiality</th>\n",
       "      <th>shared_ppi_percent_essential</th>\n",
       "      <th>shared_ppi_mean_ceres_score</th>\n",
       "    </tr>\n",
       "  </thead>\n",
       "  <tbody>\n",
       "    <tr>\n",
       "      <th>0</th>\n",
       "      <td>2</td>\n",
       "      <td>718</td>\n",
       "      <td>0.177503</td>\n",
       "      <td>0.166667</td>\n",
       "      <td>-0.26044</td>\n",
       "    </tr>\n",
       "  </tbody>\n",
       "</table>\n",
       "</div>"
      ],
      "text/plain": [
       "   A1_entrez  A2_entrez  shared_ppi_mean_essentiality  \\\n",
       "0          2        718                      0.177503   \n",
       "\n",
       "   shared_ppi_percent_essential  shared_ppi_mean_ceres_score  \n",
       "0                      0.166667                     -0.26044  "
      ]
     },
     "execution_count": 14,
     "metadata": {},
     "output_type": "execute_result"
    }
   ],
   "source": [
    "biogrid_ppi_essentiality = compute_shared_ppi_essentiality(biogrid_ppi_summary)\n",
    "print('Mean percent essential:', biogrid_ppi_essentiality.shared_ppi_percent_essential.mean()*100)\n",
    "biogrid_ppi_essentiality[:1]"
   ]
  },
  {
   "cell_type": "markdown",
   "metadata": {},
   "source": [
    "### Merge all PPI features"
   ]
  },
  {
   "cell_type": "code",
   "execution_count": 17,
   "metadata": {},
   "outputs": [
    {
     "name": "stdout",
     "output_type": "stream",
     "text": [
      "Shared interactors w/out essentiality: 439\n",
      "Interactions among paralogs: 2853 / 36648\n"
     ]
    },
    {
     "data": {
      "text/html": [
       "<div>\n",
       "<style scoped>\n",
       "    .dataframe tbody tr th:only-of-type {\n",
       "        vertical-align: middle;\n",
       "    }\n",
       "\n",
       "    .dataframe tbody tr th {\n",
       "        vertical-align: top;\n",
       "    }\n",
       "\n",
       "    .dataframe thead th {\n",
       "        text-align: right;\n",
       "    }\n",
       "</style>\n",
       "<table border=\"1\" class=\"dataframe\">\n",
       "  <thead>\n",
       "    <tr style=\"text-align: right;\">\n",
       "      <th></th>\n",
       "      <th>A1_entrez</th>\n",
       "      <th>A2_entrez</th>\n",
       "      <th>interact</th>\n",
       "      <th>n_total_ppi</th>\n",
       "      <th>n_shared_ppi</th>\n",
       "      <th>shared_ppi_jaccard_idx</th>\n",
       "      <th>fet_ppi_overlap</th>\n",
       "      <th>shared_ppi_mean_essentiality</th>\n",
       "      <th>shared_ppi_percent_essential</th>\n",
       "      <th>shared_ppi_mean_ceres_score</th>\n",
       "    </tr>\n",
       "  </thead>\n",
       "  <tbody>\n",
       "    <tr>\n",
       "      <th>0</th>\n",
       "      <td>1</td>\n",
       "      <td>126014</td>\n",
       "      <td>False</td>\n",
       "      <td>0.0</td>\n",
       "      <td>0.0</td>\n",
       "      <td>0.0</td>\n",
       "      <td>0.0</td>\n",
       "      <td>NaN</td>\n",
       "      <td>NaN</td>\n",
       "      <td>NaN</td>\n",
       "    </tr>\n",
       "  </tbody>\n",
       "</table>\n",
       "</div>"
      ],
      "text/plain": [
       "   A1_entrez  A2_entrez  interact  n_total_ppi  n_shared_ppi  \\\n",
       "0          1     126014     False          0.0           0.0   \n",
       "\n",
       "   shared_ppi_jaccard_idx  fet_ppi_overlap  shared_ppi_mean_essentiality  \\\n",
       "0                     0.0              0.0                           NaN   \n",
       "\n",
       "   shared_ppi_percent_essential  shared_ppi_mean_ceres_score  \n",
       "0                           NaN                          NaN  "
      ]
     },
     "execution_count": 17,
     "metadata": {},
     "output_type": "execute_result"
    }
   ],
   "source": [
    "biogrid_features = pd.merge(biogrid_ppi_summary.drop(columns=['shared_ppi']), biogrid_ppi_essentiality, how='left')\n",
    "\n",
    "# Fill in essentiality NaNs for genes that have shared ppi\n",
    "print('Shared interactors w/out essentiality:', \n",
    "      biogrid_features[(biogrid_features.n_shared_ppi>0) & biogrid_features.shared_ppi_percent_essential.isna()].shape[0])\n",
    "\n",
    "assert(biogrid_features.shape[0] == paralog_pairs.shape[0])\n",
    "print('Interactions among paralogs:', sum(biogrid_features.interact),'/',biogrid_features.shape[0])\n",
    "biogrid_features[:1]"
   ]
  },
  {
   "cell_type": "code",
   "execution_count": 18,
   "metadata": {},
   "outputs": [],
   "source": [
    "biogrid_features.to_csv(file_biogrid_features, index=0)"
   ]
  }
 ],
 "metadata": {
  "kernelspec": {
   "display_name": "Python 3.7.9 64-bit ('paralogSL': conda)",
   "language": "python",
   "name": "python37964bitparalogslconda0f0e77de73d34c52b743edfe8868363d"
  },
  "language_info": {
   "codemirror_mode": {
    "name": "ipython",
    "version": 3
   },
   "file_extension": ".py",
   "mimetype": "text/x-python",
   "name": "python",
   "nbconvert_exporter": "python",
   "pygments_lexer": "ipython3",
   "version": "3.7.1"
  }
 },
 "nbformat": 4,
 "nbformat_minor": 2
}
