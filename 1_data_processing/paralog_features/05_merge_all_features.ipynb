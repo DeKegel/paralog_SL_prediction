{
 "cells": [
  {
   "cell_type": "markdown",
   "metadata": {},
   "source": [
    "## Feature calculation/assembling - annotate all paralog pairs\n",
    "\n",
    "Annotate all paralog pairs from Ensembl w/ min. 20% sequence identity (in at least 1 dirn)\n",
    "\n",
    "**Inputs:**\n",
    "* Ensembl paralog pairs\n",
    "* Protein complex features (pre-computed)\n",
    "* BioGRID PPI features (pre-computed)\n",
    "* Ortholog/conservation features (pre-computed)\n",
    "* Expression features (pre-computed)\n",
    "* Protein age from Protein Historian\n",
    "* Pfam domains from Ensembl\n",
    "* Subcellular location from Protein Atlas\n",
    "\n",
    "**Output:**\n",
    "* All paralog pairs annotated with all features\n",
    "\n"
   ]
  },
  {
   "cell_type": "code",
   "execution_count": 1,
   "metadata": {},
   "outputs": [],
   "source": [
    "import pandas as pd\n",
    "import numpy as np\n",
    "import os\n",
    "\n",
    "get_data_path = lambda folders, fname: os.path.normpath(os.environ['3RD_PARTY_DIR']+'/'+'/'.join(folders) +'/'+ fname)\n",
    "get_local_data_path = lambda folders, fname: os.path.normpath('../../local_data/' +'/'.join(folders) +'/'+ fname)\n",
    "\n",
    "# Inputs\n",
    "file_unique_pairs = get_local_data_path(['processed', 'ensembl93'], 'unique_pairs.csv')\n",
    "file_complex_features = get_local_data_path(['processed','paralog_features'], 'protein_complex_features.csv')\n",
    "file_biogrid_features = get_local_data_path(['processed','paralog_features'], 'biogrid_ppi_features.csv')\n",
    "file_ortholog_features = get_local_data_path(['processed','paralog_features'], 'ortholog_features.csv')\n",
    "file_gtex_expr_feats = get_local_data_path(['processed', 'paralog_features'], 'gtex_expr_features.csv')\n",
    "file_protein_age = get_data_path(['protein_historian'], 'HUMAN_PPODv4_PTHR7-OrthoMCL_wagner1.0_ages.txt')\n",
    "file_pfam_domains = get_data_path(['ensembl','93'], 'paralog_pfam_domain_ids.txt')\n",
    "file_protein_location = get_data_path(['protein_atlas'], 'subcellular_location_v19.3.tsv')\n",
    "\n",
    "# Output\n",
    "file_all_features = get_local_data_path(['processed', 'paralog_features'], 'all_features.csv')"
   ]
  },
  {
   "cell_type": "code",
   "execution_count": 2,
   "metadata": {
    "tags": []
   },
   "outputs": [
    {
     "name": "stdout",
     "output_type": "stream",
     "text": [
      "Num pairs: 36648 , num genes: 13320\n"
     ]
    },
    {
     "data": {
      "text/html": [
       "<div>\n",
       "<style scoped>\n",
       "    .dataframe tbody tr th:only-of-type {\n",
       "        vertical-align: middle;\n",
       "    }\n",
       "\n",
       "    .dataframe tbody tr th {\n",
       "        vertical-align: top;\n",
       "    }\n",
       "\n",
       "    .dataframe thead th {\n",
       "        text-align: right;\n",
       "    }\n",
       "</style>\n",
       "<table border=\"1\" class=\"dataframe\">\n",
       "  <thead>\n",
       "    <tr style=\"text-align: right;\">\n",
       "      <th></th>\n",
       "      <th>A1</th>\n",
       "      <th>A2</th>\n",
       "      <th>min_seq_id</th>\n",
       "      <th>max_seq_id</th>\n",
       "      <th>singh_wgd</th>\n",
       "      <th>makino_wgd</th>\n",
       "      <th>WGD</th>\n",
       "      <th>same_chr</th>\n",
       "      <th>closest</th>\n",
       "      <th>family_size</th>\n",
       "      <th>cds_length_ratio</th>\n",
       "      <th>A1_entrez</th>\n",
       "      <th>A1_ensembl</th>\n",
       "      <th>A2_entrez</th>\n",
       "      <th>A2_ensembl</th>\n",
       "    </tr>\n",
       "  </thead>\n",
       "  <tbody>\n",
       "    <tr>\n",
       "      <th>0</th>\n",
       "      <td>A1BG</td>\n",
       "      <td>OSCAR</td>\n",
       "      <td>0.127273</td>\n",
       "      <td>0.22028</td>\n",
       "      <td>False</td>\n",
       "      <td>False</td>\n",
       "      <td>False</td>\n",
       "      <td>True</td>\n",
       "      <td>False</td>\n",
       "      <td>3</td>\n",
       "      <td>0.578629</td>\n",
       "      <td>1</td>\n",
       "      <td>ENSG00000121410</td>\n",
       "      <td>126014</td>\n",
       "      <td>ENSG00000170909</td>\n",
       "    </tr>\n",
       "  </tbody>\n",
       "</table>\n",
       "</div>"
      ],
      "text/plain": [
       "     A1     A2  min_seq_id  max_seq_id  singh_wgd  makino_wgd    WGD  \\\n",
       "0  A1BG  OSCAR    0.127273     0.22028      False       False  False   \n",
       "\n",
       "   same_chr  closest  family_size  cds_length_ratio  A1_entrez  \\\n",
       "0      True    False            3          0.578629          1   \n",
       "\n",
       "        A1_ensembl  A2_entrez       A2_ensembl  \n",
       "0  ENSG00000121410     126014  ENSG00000170909  "
      ]
     },
     "execution_count": 2,
     "metadata": {},
     "output_type": "execute_result"
    }
   ],
   "source": [
    "pairs = pd.read_csv(file_unique_pairs, index_col=0)\n",
    "print('Num pairs:', pairs.shape[0], ', num genes:', pd.concat([pairs.A1_ensembl, pairs.A2_ensembl]).nunique())\n",
    "pairs[:1]"
   ]
  },
  {
   "cell_type": "markdown",
   "metadata": {},
   "source": [
    "### 1. Protein complex features\n",
    "- Either gene in (essential) complex\n",
    "- Avg. essentiality of complexes in which gene(s) are members"
   ]
  },
  {
   "cell_type": "code",
   "execution_count": 3,
   "metadata": {},
   "outputs": [
    {
     "name": "stdout",
     "output_type": "stream",
     "text": [
      "Either in complex: 8060\n",
      "Either in essential complex: 2487\n",
      "Avg. complex essentiality: 19.86%\n"
     ]
    },
    {
     "data": {
      "text/html": [
       "<div>\n",
       "<style scoped>\n",
       "    .dataframe tbody tr th:only-of-type {\n",
       "        vertical-align: middle;\n",
       "    }\n",
       "\n",
       "    .dataframe tbody tr th {\n",
       "        vertical-align: top;\n",
       "    }\n",
       "\n",
       "    .dataframe thead th {\n",
       "        text-align: right;\n",
       "    }\n",
       "</style>\n",
       "<table border=\"1\" class=\"dataframe\">\n",
       "  <thead>\n",
       "    <tr style=\"text-align: right;\">\n",
       "      <th></th>\n",
       "      <th>A1_entrez</th>\n",
       "      <th>A2_entrez</th>\n",
       "      <th>either_in_complex</th>\n",
       "      <th>in_same_complex</th>\n",
       "      <th>either_in_essential_complex</th>\n",
       "      <th>mean_complex_essentiality</th>\n",
       "      <th>flag_missing_scores</th>\n",
       "    </tr>\n",
       "  </thead>\n",
       "  <tbody>\n",
       "    <tr>\n",
       "      <th>0</th>\n",
       "      <td>1</td>\n",
       "      <td>126014</td>\n",
       "      <td>False</td>\n",
       "      <td>False</td>\n",
       "      <td>False</td>\n",
       "      <td>NaN</td>\n",
       "      <td>False</td>\n",
       "    </tr>\n",
       "  </tbody>\n",
       "</table>\n",
       "</div>"
      ],
      "text/plain": [
       "   A1_entrez  A2_entrez  either_in_complex  in_same_complex  \\\n",
       "0          1     126014              False            False   \n",
       "\n",
       "   either_in_essential_complex  mean_complex_essentiality  flag_missing_scores  \n",
       "0                        False                        NaN                False  "
      ]
     },
     "execution_count": 3,
     "metadata": {},
     "output_type": "execute_result"
    }
   ],
   "source": [
    "complex_features = pd.read_csv(file_complex_features)\n",
    "complex_features = pd.merge(pairs[['A1_entrez','A2_entrez']], complex_features)\n",
    "assert(pairs.shape[0] == complex_features.shape[0])\n",
    "print('Either in complex:', sum(complex_features.either_in_complex))\n",
    "print('Either in essential complex:', sum(complex_features.either_in_essential_complex))\n",
    "print('Avg. complex essentiality: %.2f%%' % (complex_features.mean_complex_essentiality.mean()*100))\n",
    "complex_features[:1]"
   ]
  },
  {
   "cell_type": "markdown",
   "metadata": {},
   "source": [
    "### 2. Protein-protein interactions\n",
    "- Whether genes in a pair have a direct or indirect protein interaction with each other\n",
    "- Total num interactors\n",
    "- Fraction of interactors that are shared\n",
    "- Avg essentiality of shared interactors"
   ]
  },
  {
   "cell_type": "code",
   "execution_count": 4,
   "metadata": {
    "tags": []
   },
   "outputs": [
    {
     "name": "stdout",
     "output_type": "stream",
     "text": [
      "Interactions between paralog pairs: 2853\n"
     ]
    },
    {
     "data": {
      "text/html": [
       "<div>\n",
       "<style scoped>\n",
       "    .dataframe tbody tr th:only-of-type {\n",
       "        vertical-align: middle;\n",
       "    }\n",
       "\n",
       "    .dataframe tbody tr th {\n",
       "        vertical-align: top;\n",
       "    }\n",
       "\n",
       "    .dataframe thead th {\n",
       "        text-align: right;\n",
       "    }\n",
       "</style>\n",
       "<table border=\"1\" class=\"dataframe\">\n",
       "  <thead>\n",
       "    <tr style=\"text-align: right;\">\n",
       "      <th></th>\n",
       "      <th>A1_entrez</th>\n",
       "      <th>A2_entrez</th>\n",
       "      <th>interact</th>\n",
       "      <th>n_total_ppi</th>\n",
       "      <th>n_shared_ppi</th>\n",
       "      <th>shared_ppi_jaccard_idx</th>\n",
       "      <th>fet_ppi_overlap</th>\n",
       "      <th>shared_ppi_mean_essentiality</th>\n",
       "      <th>shared_ppi_percent_essential</th>\n",
       "      <th>shared_ppi_mean_ceres_score</th>\n",
       "    </tr>\n",
       "  </thead>\n",
       "  <tbody>\n",
       "    <tr>\n",
       "      <th>0</th>\n",
       "      <td>1</td>\n",
       "      <td>126014</td>\n",
       "      <td>False</td>\n",
       "      <td>0.0</td>\n",
       "      <td>0.0</td>\n",
       "      <td>0.0</td>\n",
       "      <td>0.0</td>\n",
       "      <td>NaN</td>\n",
       "      <td>NaN</td>\n",
       "      <td>NaN</td>\n",
       "    </tr>\n",
       "  </tbody>\n",
       "</table>\n",
       "</div>"
      ],
      "text/plain": [
       "   A1_entrez  A2_entrez  interact  n_total_ppi  n_shared_ppi  \\\n",
       "0          1     126014     False          0.0           0.0   \n",
       "\n",
       "   shared_ppi_jaccard_idx  fet_ppi_overlap  shared_ppi_mean_essentiality  \\\n",
       "0                     0.0              0.0                           NaN   \n",
       "\n",
       "   shared_ppi_percent_essential  shared_ppi_mean_ceres_score  \n",
       "0                           NaN                          NaN  "
      ]
     },
     "execution_count": 4,
     "metadata": {},
     "output_type": "execute_result"
    }
   ],
   "source": [
    "ppi_features = pd.read_csv(file_biogrid_features)\n",
    "ppi_features = pd.merge(pairs[['A1_entrez','A2_entrez']], ppi_features)\n",
    "assert(pairs.shape[0] == ppi_features.shape[0])\n",
    "print('Interactions between paralog pairs:', sum(ppi_features.interact))\n",
    "ppi_features[:1]"
   ]
  },
  {
   "cell_type": "markdown",
   "metadata": {},
   "source": [
    "### 3. Protein domains\n",
    "* Jaccard index of shared domains"
   ]
  },
  {
   "cell_type": "code",
   "execution_count": 5,
   "metadata": {
    "scrolled": true,
    "tags": []
   },
   "outputs": [
    {
     "name": "stdout",
     "output_type": "stream",
     "text": [
      "Avg domains per gene: 1.7544378698224852\n"
     ]
    },
    {
     "data": {
      "text/html": [
       "<div>\n",
       "<style scoped>\n",
       "    .dataframe tbody tr th:only-of-type {\n",
       "        vertical-align: middle;\n",
       "    }\n",
       "\n",
       "    .dataframe tbody tr th {\n",
       "        vertical-align: top;\n",
       "    }\n",
       "\n",
       "    .dataframe thead th {\n",
       "        text-align: right;\n",
       "    }\n",
       "</style>\n",
       "<table border=\"1\" class=\"dataframe\">\n",
       "  <thead>\n",
       "    <tr style=\"text-align: right;\">\n",
       "      <th></th>\n",
       "      <th>ensembl_id</th>\n",
       "      <th>pfam_id</th>\n",
       "    </tr>\n",
       "  </thead>\n",
       "  <tbody>\n",
       "    <tr>\n",
       "      <th>0</th>\n",
       "      <td>ENSG00000000003</td>\n",
       "      <td>{PF00335}</td>\n",
       "    </tr>\n",
       "  </tbody>\n",
       "</table>\n",
       "</div>"
      ],
      "text/plain": [
       "        ensembl_id    pfam_id\n",
       "0  ENSG00000000003  {PF00335}"
      ]
     },
     "metadata": {},
     "output_type": "display_data"
    },
    {
     "name": "stdout",
     "output_type": "stream",
     "text": [
      "Pairs w/ 1+ shared domain: 35476\n",
      "Pairs w/ 2+ shared domain: 14019\n"
     ]
    },
    {
     "data": {
      "text/html": [
       "<div>\n",
       "<style scoped>\n",
       "    .dataframe tbody tr th:only-of-type {\n",
       "        vertical-align: middle;\n",
       "    }\n",
       "\n",
       "    .dataframe tbody tr th {\n",
       "        vertical-align: top;\n",
       "    }\n",
       "\n",
       "    .dataframe thead th {\n",
       "        text-align: right;\n",
       "    }\n",
       "</style>\n",
       "<table border=\"1\" class=\"dataframe\">\n",
       "  <thead>\n",
       "    <tr style=\"text-align: right;\">\n",
       "      <th></th>\n",
       "      <th>A1_ensembl</th>\n",
       "      <th>A2_ensembl</th>\n",
       "      <th>n_shared_domains</th>\n",
       "      <th>shared_domains</th>\n",
       "    </tr>\n",
       "  </thead>\n",
       "  <tbody>\n",
       "    <tr>\n",
       "      <th>0</th>\n",
       "      <td>ENSG00000121410</td>\n",
       "      <td>ENSG00000170909</td>\n",
       "      <td>1.0</td>\n",
       "      <td>1.0</td>\n",
       "    </tr>\n",
       "  </tbody>\n",
       "</table>\n",
       "</div>"
      ],
      "text/plain": [
       "        A1_ensembl       A2_ensembl  n_shared_domains  shared_domains\n",
       "0  ENSG00000121410  ENSG00000170909               1.0             1.0"
      ]
     },
     "execution_count": 5,
     "metadata": {},
     "output_type": "execute_result"
    }
   ],
   "source": [
    "domains = pd.read_csv(file_pfam_domains)\n",
    "domains = domains.rename(columns={'Gene stable ID':'ensembl_id','Pfam domain ID':'pfam_id'}).dropna()\n",
    "print('Avg domains per gene:', domains.groupby('ensembl_id').pfam_id.count().mean())\n",
    "\n",
    "# Get domains for each gene in each pair\n",
    "domains_per_gene = domains.groupby('ensembl_id').agg({'pfam_id': set}).reset_index()\n",
    "display(domains_per_gene[:1])\n",
    "df = pd.merge(pairs[['A1_ensembl','A2_ensembl']], domains_per_gene.rename(columns={'ensembl_id':'A1_ensembl'}))\n",
    "df = pd.merge(df, domains_per_gene.rename(columns={'ensembl_id':'A2_ensembl'}), on=['A2_ensembl'])\n",
    "\n",
    "# Calculate num shared domains and jaccard index\n",
    "df['n_shared_domains'] = df.apply(lambda x: len(x.pfam_id_x.intersection(x.pfam_id_y)), axis=1)\n",
    "df['shared_domains'] = df.apply(lambda x: x.n_shared_domains / (len(x.pfam_id_x)+len(x.pfam_id_y) - x.n_shared_domains), axis=1)\n",
    "\n",
    "# Merge back with pairs\n",
    "domain_features = pd.merge(pairs[['A1_ensembl','A2_ensembl']], df.drop(columns=['pfam_id_x','pfam_id_y']), how='left')\n",
    "domain_features = domain_features.fillna({'n_shared_domains':0, 'shared_domains':0})\n",
    "assert(domain_features.shape[0] == pairs.shape[0])\n",
    "\n",
    "print('Pairs w/ 1+ shared domain:', domain_features[domain_features.n_shared_domains > 0].shape[0])\n",
    "print('Pairs w/ 2+ shared domain:', domain_features[domain_features.n_shared_domains > 1].shape[0])\n",
    "domain_features[:1]"
   ]
  },
  {
   "cell_type": "markdown",
   "metadata": {},
   "source": [
    "### 4. Orthologs in S. pombe, S. cerevisiae + cross-species conservation\n",
    "* Has pombe/cerevisiae ortholog\n",
    "* Has essential pombe/cerevisiae ortholog\n",
    "* Conservation score"
   ]
  },
  {
   "cell_type": "code",
   "execution_count": 6,
   "metadata": {
    "tags": []
   },
   "outputs": [
    {
     "name": "stdout",
     "output_type": "stream",
     "text": [
      "Pairs w/ pombe, cerevisiae ortholog: 5757 , 8172\n",
      "Avg. conservation score: 4.812404496834752\n"
     ]
    },
    {
     "data": {
      "text/html": [
       "<div>\n",
       "<style scoped>\n",
       "    .dataframe tbody tr th:only-of-type {\n",
       "        vertical-align: middle;\n",
       "    }\n",
       "\n",
       "    .dataframe tbody tr th {\n",
       "        vertical-align: top;\n",
       "    }\n",
       "\n",
       "    .dataframe thead th {\n",
       "        text-align: right;\n",
       "    }\n",
       "</style>\n",
       "<table border=\"1\" class=\"dataframe\">\n",
       "  <thead>\n",
       "    <tr style=\"text-align: right;\">\n",
       "      <th></th>\n",
       "      <th>A1</th>\n",
       "      <th>A2</th>\n",
       "      <th>A1_ensembl</th>\n",
       "      <th>A2_ensembl</th>\n",
       "      <th>has_cerevisiae_ortholog</th>\n",
       "      <th>has_essential_cerevisiae_ortholog</th>\n",
       "      <th>has_single_essential_cerevisiae_ortholog</th>\n",
       "      <th>has_pombe_ortholog</th>\n",
       "      <th>has_essential_pombe_ortholog</th>\n",
       "      <th>has_single_essential_pombe_ortholog</th>\n",
       "      <th>conservation_score</th>\n",
       "    </tr>\n",
       "  </thead>\n",
       "  <tbody>\n",
       "    <tr>\n",
       "      <th>0</th>\n",
       "      <td>A1BG</td>\n",
       "      <td>OSCAR</td>\n",
       "      <td>ENSG00000121410</td>\n",
       "      <td>ENSG00000170909</td>\n",
       "      <td>False</td>\n",
       "      <td>False</td>\n",
       "      <td>False</td>\n",
       "      <td>False</td>\n",
       "      <td>False</td>\n",
       "      <td>False</td>\n",
       "      <td>3</td>\n",
       "    </tr>\n",
       "  </tbody>\n",
       "</table>\n",
       "</div>"
      ],
      "text/plain": [
       "     A1     A2       A1_ensembl       A2_ensembl  has_cerevisiae_ortholog  \\\n",
       "0  A1BG  OSCAR  ENSG00000121410  ENSG00000170909                    False   \n",
       "\n",
       "   has_essential_cerevisiae_ortholog  \\\n",
       "0                              False   \n",
       "\n",
       "   has_single_essential_cerevisiae_ortholog  has_pombe_ortholog  \\\n",
       "0                                     False               False   \n",
       "\n",
       "   has_essential_pombe_ortholog  has_single_essential_pombe_ortholog  \\\n",
       "0                         False                                False   \n",
       "\n",
       "   conservation_score  \n",
       "0                   3  "
      ]
     },
     "execution_count": 6,
     "metadata": {},
     "output_type": "execute_result"
    }
   ],
   "source": [
    "ortholog_features = pd.read_csv(file_ortholog_features)\n",
    "ortholog_features = pd.merge(ortholog_features, pairs[['A1','A2']])\n",
    "assert(ortholog_features.shape[0] == pairs.shape[0])\n",
    "print('Pairs w/ pombe, cerevisiae ortholog:', sum(ortholog_features.has_pombe_ortholog), ',', \n",
    "      sum(ortholog_features.has_cerevisiae_ortholog))\n",
    "print('Avg. conservation score:', ortholog_features.conservation_score.mean())\n",
    "ortholog_features[:1]"
   ]
  },
  {
   "cell_type": "markdown",
   "metadata": {},
   "source": [
    "### 5. Protein age from ProteinHistorian\n",
    "Mean age for A1 and A2"
   ]
  },
  {
   "cell_type": "code",
   "execution_count": 7,
   "metadata": {
    "tags": []
   },
   "outputs": [
    {
     "name": "stdout",
     "output_type": "stream",
     "text": [
      "N genes w/ ages: 12625\n"
     ]
    },
    {
     "data": {
      "text/html": [
       "<div>\n",
       "<style scoped>\n",
       "    .dataframe tbody tr th:only-of-type {\n",
       "        vertical-align: middle;\n",
       "    }\n",
       "\n",
       "    .dataframe tbody tr th {\n",
       "        vertical-align: top;\n",
       "    }\n",
       "\n",
       "    .dataframe thead th {\n",
       "        text-align: right;\n",
       "    }\n",
       "</style>\n",
       "<table border=\"1\" class=\"dataframe\">\n",
       "  <thead>\n",
       "    <tr style=\"text-align: right;\">\n",
       "      <th></th>\n",
       "      <th>protein</th>\n",
       "      <th>age</th>\n",
       "      <th>taxon</th>\n",
       "    </tr>\n",
       "  </thead>\n",
       "  <tbody>\n",
       "    <tr>\n",
       "      <th>0</th>\n",
       "      <td>ENSG00000092850~Q9UIF3~TEKT2</td>\n",
       "      <td>842.0</td>\n",
       "      <td>Deuterostomia</td>\n",
       "    </tr>\n",
       "  </tbody>\n",
       "</table>\n",
       "</div>"
      ],
      "text/plain": [
       "                        protein    age          taxon\n",
       "0  ENSG00000092850~Q9UIF3~TEKT2  842.0  Deuterostomia"
      ]
     },
     "metadata": {},
     "output_type": "display_data"
    },
    {
     "name": "stdout",
     "output_type": "stream",
     "text": [
      "A1-A2 age correlation: 0.5437136119265842\n",
      "N. pairs NA: 1513\n",
      "Avg. age of pairs: 591.6427380105307\n"
     ]
    },
    {
     "data": {
      "text/html": [
       "<div>\n",
       "<style scoped>\n",
       "    .dataframe tbody tr th:only-of-type {\n",
       "        vertical-align: middle;\n",
       "    }\n",
       "\n",
       "    .dataframe tbody tr th {\n",
       "        vertical-align: top;\n",
       "    }\n",
       "\n",
       "    .dataframe thead th {\n",
       "        text-align: right;\n",
       "    }\n",
       "</style>\n",
       "<table border=\"1\" class=\"dataframe\">\n",
       "  <thead>\n",
       "    <tr style=\"text-align: right;\">\n",
       "      <th></th>\n",
       "      <th>A1_ensembl</th>\n",
       "      <th>A2_ensembl</th>\n",
       "      <th>mean_age</th>\n",
       "    </tr>\n",
       "  </thead>\n",
       "  <tbody>\n",
       "    <tr>\n",
       "      <th>0</th>\n",
       "      <td>ENSG00000121410</td>\n",
       "      <td>ENSG00000170909</td>\n",
       "      <td>210.95</td>\n",
       "    </tr>\n",
       "  </tbody>\n",
       "</table>\n",
       "</div>"
      ],
      "text/plain": [
       "        A1_ensembl       A2_ensembl  mean_age\n",
       "0  ENSG00000121410  ENSG00000170909    210.95"
      ]
     },
     "execution_count": 7,
     "metadata": {},
     "output_type": "execute_result"
    }
   ],
   "source": [
    "protein_ages = pd.read_csv(file_protein_age, sep='\\t', comment='#', names=['protein','age','taxon'])\n",
    "print('N genes w/ ages:', protein_ages.shape[0])\n",
    "display(protein_ages[:1])\n",
    "\n",
    "# Extract ensembl id\n",
    "protein_ages['ensembl_id'] = protein_ages.protein.apply(lambda x: x.split('~')[0])\n",
    "protein_ages = protein_ages[['ensembl_id','age']]\n",
    "\n",
    "# Assign age for each gene\n",
    "paralog_ages = pd.merge(pairs[['A1_ensembl','A2_ensembl']], \n",
    "                        protein_ages.rename(columns={'ensembl_id':'A1_ensembl'}), how='left')\n",
    "paralog_ages = pd.merge(paralog_ages, protein_ages.rename(columns={'ensembl_id':'A2_ensembl'}), on=['A2_ensembl'], how='left')\n",
    "paralog_ages = paralog_ages.astype({'age_x':'float', 'age_y':'float'})\n",
    "print('A1-A2 age correlation:', paralog_ages.age_x.corr(paralog_ages.age_y))\n",
    "\n",
    "# Calculate mean age\n",
    "paralog_ages['mean_age'] = paralog_ages[['age_x','age_y']].mean(axis=1)\n",
    "print('N. pairs NA:', paralog_ages[paralog_ages.mean_age.isna()].shape[0])\n",
    "print('Avg. age of pairs:', paralog_ages.mean_age.mean())\n",
    "\n",
    "age_features = paralog_ages[['A1_ensembl','A2_ensembl','mean_age']]\n",
    "age_features[:1]"
   ]
  },
  {
   "cell_type": "markdown",
   "metadata": {},
   "source": [
    "### 6. Gene expression features\n",
    "- Correlation of A1 and A2 gene expression - using all available GTEx expression data\n",
    "- Min/max mean expression\n",
    "- Expression asymmetry"
   ]
  },
  {
   "cell_type": "code",
   "execution_count": 8,
   "metadata": {
    "tags": []
   },
   "outputs": [
    {
     "data": {
      "text/html": [
       "<div>\n",
       "<style scoped>\n",
       "    .dataframe tbody tr th:only-of-type {\n",
       "        vertical-align: middle;\n",
       "    }\n",
       "\n",
       "    .dataframe tbody tr th {\n",
       "        vertical-align: top;\n",
       "    }\n",
       "\n",
       "    .dataframe thead th {\n",
       "        text-align: right;\n",
       "    }\n",
       "</style>\n",
       "<table border=\"1\" class=\"dataframe\">\n",
       "  <thead>\n",
       "    <tr style=\"text-align: right;\">\n",
       "      <th></th>\n",
       "      <th>A1_ensembl</th>\n",
       "      <th>A2_ensembl</th>\n",
       "      <th>spearman_corr</th>\n",
       "      <th>pearson_corr</th>\n",
       "      <th>min_mean_expr</th>\n",
       "      <th>max_mean_expr</th>\n",
       "    </tr>\n",
       "  </thead>\n",
       "  <tbody>\n",
       "    <tr>\n",
       "      <th>0</th>\n",
       "      <td>ENSG00000092850</td>\n",
       "      <td>ENSG00000163060</td>\n",
       "      <td>0.457234</td>\n",
       "      <td>0.965852</td>\n",
       "      <td>1.181367</td>\n",
       "      <td>4.524118</td>\n",
       "    </tr>\n",
       "  </tbody>\n",
       "</table>\n",
       "</div>"
      ],
      "text/plain": [
       "        A1_ensembl       A2_ensembl  spearman_corr  pearson_corr  \\\n",
       "0  ENSG00000092850  ENSG00000163060       0.457234      0.965852   \n",
       "\n",
       "   min_mean_expr  max_mean_expr  \n",
       "0       1.181367       4.524118  "
      ]
     },
     "metadata": {},
     "output_type": "display_data"
    }
   ],
   "source": [
    "gtex_expr_features = pd.read_csv(file_gtex_expr_feats)\n",
    "\n",
    "# Replace A1/A2 mean expression with min/max mean expression\n",
    "gtex_expr_features = gtex_expr_features.assign(\n",
    "    min_mean_expr = gtex_expr_features.apply(lambda x: min(x.A1_mean_expr, x.A2_mean_expr), axis=1),\n",
    "    max_mean_expr = gtex_expr_features.apply(lambda x: max(x.A1_mean_expr, x.A2_mean_expr), axis=1))\n",
    "gtex_expr_features = gtex_expr_features.drop(columns=['A1_mean_expr', 'A2_mean_expr'])\n",
    "\n",
    "display(gtex_expr_features[:1])"
   ]
  },
  {
   "cell_type": "code",
   "execution_count": 9,
   "metadata": {},
   "outputs": [
    {
     "data": {
      "text/html": [
       "<div>\n",
       "<style scoped>\n",
       "    .dataframe tbody tr th:only-of-type {\n",
       "        vertical-align: middle;\n",
       "    }\n",
       "\n",
       "    .dataframe tbody tr th {\n",
       "        vertical-align: top;\n",
       "    }\n",
       "\n",
       "    .dataframe thead th {\n",
       "        text-align: right;\n",
       "    }\n",
       "</style>\n",
       "<table border=\"1\" class=\"dataframe\">\n",
       "  <thead>\n",
       "    <tr style=\"text-align: right;\">\n",
       "      <th></th>\n",
       "      <th>A1_ensembl</th>\n",
       "      <th>A2_ensembl</th>\n",
       "      <th>gtex_spearman_corr</th>\n",
       "      <th>gtex_pearson_corr</th>\n",
       "      <th>gtex_min_mean_expr</th>\n",
       "      <th>gtex_max_mean_expr</th>\n",
       "    </tr>\n",
       "  </thead>\n",
       "  <tbody>\n",
       "    <tr>\n",
       "      <th>0</th>\n",
       "      <td>ENSG00000121410</td>\n",
       "      <td>ENSG00000170909</td>\n",
       "      <td>0.273243</td>\n",
       "      <td>-0.030284</td>\n",
       "      <td>9.456192</td>\n",
       "      <td>10.980585</td>\n",
       "    </tr>\n",
       "  </tbody>\n",
       "</table>\n",
       "</div>"
      ],
      "text/plain": [
       "        A1_ensembl       A2_ensembl  gtex_spearman_corr  gtex_pearson_corr  \\\n",
       "0  ENSG00000121410  ENSG00000170909            0.273243          -0.030284   \n",
       "\n",
       "   gtex_min_mean_expr  gtex_max_mean_expr  \n",
       "0            9.456192           10.980585  "
      ]
     },
     "execution_count": 9,
     "metadata": {},
     "output_type": "execute_result"
    }
   ],
   "source": [
    "# Add prefix for data source\n",
    "expr_features = gtex_expr_features.set_index(['A1_ensembl','A2_ensembl']).add_prefix('gtex_').reset_index()\n",
    "expr_features = pd.merge(pairs[['A1_ensembl','A2_ensembl']], expr_features, how='left')\n",
    "assert(expr_features.shape[0] == pairs.shape[0])\n",
    "expr_features[:1]"
   ]
  },
  {
   "cell_type": "markdown",
   "metadata": {},
   "source": [
    "### 7. Protein Subcellular Location\n",
    "\n",
    "Could treat this as binary feature (T if both paralogs have at least one common localization) or do Jaccard (common localizations / union of localizations).\n",
    "\n",
    "Using all annotations for Main and Additions locations, expect those with reliability=='Uncertain'  \n",
    "https://www.proteinatlas.org/about/assays+annotation#ifre \n",
    "\n",
    "\n",
    "Alternative? https://compartments.jensenlab.org/Downloads"
   ]
  },
  {
   "cell_type": "code",
   "execution_count": 10,
   "metadata": {
    "tags": []
   },
   "outputs": [
    {
     "name": "stdout",
     "output_type": "stream",
     "text": [
      "N genes: 12390\n"
     ]
    },
    {
     "data": {
      "text/html": [
       "<div>\n",
       "<style scoped>\n",
       "    .dataframe tbody tr th:only-of-type {\n",
       "        vertical-align: middle;\n",
       "    }\n",
       "\n",
       "    .dataframe tbody tr th {\n",
       "        vertical-align: top;\n",
       "    }\n",
       "\n",
       "    .dataframe thead th {\n",
       "        text-align: right;\n",
       "    }\n",
       "</style>\n",
       "<table border=\"1\" class=\"dataframe\">\n",
       "  <thead>\n",
       "    <tr style=\"text-align: right;\">\n",
       "      <th></th>\n",
       "      <th>Gene</th>\n",
       "      <th>Gene name</th>\n",
       "      <th>Reliability</th>\n",
       "      <th>Main location</th>\n",
       "      <th>Additional location</th>\n",
       "      <th>Extracellular location</th>\n",
       "      <th>Enhanced</th>\n",
       "      <th>Supported</th>\n",
       "      <th>Approved</th>\n",
       "      <th>Uncertain</th>\n",
       "      <th>Single-cell variation intensity</th>\n",
       "      <th>Single-cell variation spatial</th>\n",
       "      <th>Cell cycle dependency</th>\n",
       "      <th>GO id</th>\n",
       "    </tr>\n",
       "  </thead>\n",
       "  <tbody>\n",
       "    <tr>\n",
       "      <th>0</th>\n",
       "      <td>ENSG00000000003</td>\n",
       "      <td>TSPAN6</td>\n",
       "      <td>Approved</td>\n",
       "      <td>Cell Junctions;Cytosol</td>\n",
       "      <td>Nucleoli fibrillar center</td>\n",
       "      <td>NaN</td>\n",
       "      <td>NaN</td>\n",
       "      <td>NaN</td>\n",
       "      <td>Cell Junctions;Cytosol;Nucleoli fibrillar center</td>\n",
       "      <td>NaN</td>\n",
       "      <td>Cytosol</td>\n",
       "      <td>NaN</td>\n",
       "      <td>NaN</td>\n",
       "      <td>Cell Junctions (GO:0030054);Cytosol (GO:000582...</td>\n",
       "    </tr>\n",
       "  </tbody>\n",
       "</table>\n",
       "</div>"
      ],
      "text/plain": [
       "              Gene Gene name Reliability           Main location  \\\n",
       "0  ENSG00000000003    TSPAN6    Approved  Cell Junctions;Cytosol   \n",
       "\n",
       "         Additional location Extracellular location Enhanced Supported  \\\n",
       "0  Nucleoli fibrillar center                    NaN      NaN       NaN   \n",
       "\n",
       "                                           Approved Uncertain  \\\n",
       "0  Cell Junctions;Cytosol;Nucleoli fibrillar center       NaN   \n",
       "\n",
       "  Single-cell variation intensity Single-cell variation spatial  \\\n",
       "0                         Cytosol                           NaN   \n",
       "\n",
       "  Cell cycle dependency                                              GO id  \n",
       "0                   NaN  Cell Junctions (GO:0030054);Cytosol (GO:000582...  "
      ]
     },
     "metadata": {},
     "output_type": "display_data"
    }
   ],
   "source": [
    "protein_atlas_location_raw = pd.read_csv(file_protein_location, sep='\\t')\n",
    "print('N genes:', protein_atlas_location_raw.Gene.nunique())\n",
    "display(protein_atlas_location_raw[:1])"
   ]
  },
  {
   "cell_type": "code",
   "execution_count": 11,
   "metadata": {
    "tags": []
   },
   "outputs": [
    {
     "name": "stdout",
     "output_type": "stream",
     "text": [
      "N genes: 11723\n"
     ]
    },
    {
     "data": {
      "text/html": [
       "<div>\n",
       "<style scoped>\n",
       "    .dataframe tbody tr th:only-of-type {\n",
       "        vertical-align: middle;\n",
       "    }\n",
       "\n",
       "    .dataframe tbody tr th {\n",
       "        vertical-align: top;\n",
       "    }\n",
       "\n",
       "    .dataframe thead th {\n",
       "        text-align: right;\n",
       "    }\n",
       "</style>\n",
       "<table border=\"1\" class=\"dataframe\">\n",
       "  <thead>\n",
       "    <tr style=\"text-align: right;\">\n",
       "      <th></th>\n",
       "      <th>Gene</th>\n",
       "      <th>location</th>\n",
       "    </tr>\n",
       "  </thead>\n",
       "  <tbody>\n",
       "    <tr>\n",
       "      <th>0</th>\n",
       "      <td>ENSG00000000003</td>\n",
       "      <td>{Cytosol, Cell Junctions, Nucleoli fibrillar c...</td>\n",
       "    </tr>\n",
       "  </tbody>\n",
       "</table>\n",
       "</div>"
      ],
      "text/plain": [
       "              Gene                                           location\n",
       "0  ENSG00000000003  {Cytosol, Cell Junctions, Nucleoli fibrillar c..."
      ]
     },
     "execution_count": 11,
     "metadata": {},
     "output_type": "execute_result"
    }
   ],
   "source": [
    "# Filter out uncertain annotations\n",
    "locations = protein_atlas_location_raw[protein_atlas_location_raw.Reliability != 'Uncertain'].reset_index()\n",
    "locations = locations[['Gene', 'Gene name', 'Main location', 'Additional location']]\n",
    "\n",
    "# Stack location mappings\n",
    "df_main = locations.set_index('Gene')['Main location'].apply(lambda x: pd.Series(x.split(';') if not pd.isna(x) else x))\\\n",
    "                   .stack().reset_index(level=1, drop=True).reset_index().rename(columns={0:'location'})\n",
    "df_add = locations.set_index('Gene')['Additional location'].apply(lambda x: pd.Series(x.split(';') if not pd.isna(x) else x))\\\n",
    "                  .stack().reset_index(level=1, drop=True).reset_index().rename(columns={0:'location'})\n",
    "\n",
    "# Merge into id - locations set map\n",
    "location_map = pd.concat([df_main, df_add]).drop_duplicates()\n",
    "location_map = location_map.groupby('Gene').location.apply(set).reset_index()\n",
    "print('N genes:', location_map.shape[0])\n",
    "location_map[:1]"
   ]
  },
  {
   "cell_type": "code",
   "execution_count": 12,
   "metadata": {
    "tags": []
   },
   "outputs": [
    {
     "name": "stdout",
     "output_type": "stream",
     "text": [
      "N w/ shared subcellular location: 7220\n"
     ]
    },
    {
     "data": {
      "text/html": [
       "<div>\n",
       "<style scoped>\n",
       "    .dataframe tbody tr th:only-of-type {\n",
       "        vertical-align: middle;\n",
       "    }\n",
       "\n",
       "    .dataframe tbody tr th {\n",
       "        vertical-align: top;\n",
       "    }\n",
       "\n",
       "    .dataframe thead th {\n",
       "        text-align: right;\n",
       "    }\n",
       "</style>\n",
       "<table border=\"1\" class=\"dataframe\">\n",
       "  <thead>\n",
       "    <tr style=\"text-align: right;\">\n",
       "      <th></th>\n",
       "      <th>A1_ensembl</th>\n",
       "      <th>A2_ensembl</th>\n",
       "      <th>colocalisation</th>\n",
       "      <th>same_subcell_loc</th>\n",
       "    </tr>\n",
       "  </thead>\n",
       "  <tbody>\n",
       "    <tr>\n",
       "      <th>0</th>\n",
       "      <td>ENSG00000121410</td>\n",
       "      <td>ENSG00000170909</td>\n",
       "      <td>0.0</td>\n",
       "      <td>False</td>\n",
       "    </tr>\n",
       "  </tbody>\n",
       "</table>\n",
       "</div>"
      ],
      "text/plain": [
       "        A1_ensembl       A2_ensembl  colocalisation  same_subcell_loc\n",
       "0  ENSG00000121410  ENSG00000170909             0.0             False"
      ]
     },
     "execution_count": 12,
     "metadata": {},
     "output_type": "execute_result"
    }
   ],
   "source": [
    "# Merge in set for A1 and A2, treating lack of data as empty set \n",
    "df = pd.merge(pairs[['A1_ensembl', 'A2_ensembl']], \n",
    "              location_map.rename(columns={'Gene':'A1_ensembl', 'location':'A1_loc'}), how='left')\n",
    "df = pd.merge(df, location_map.rename(columns={'Gene':'A2_ensembl', 'location':'A2_loc'}), how='left')\n",
    "df.loc[df.A1_loc.isnull(),'A1_loc'] = set()\n",
    "df.loc[df.A2_loc.isnull(),'A2_loc'] = set()\n",
    "\n",
    "df['loc_intersection'] = df.apply(lambda x: x.A1_loc.intersection(x.A2_loc), axis=1)\n",
    "df['loc_union'] = df.apply(lambda x: x.A1_loc.union(x.A2_loc), axis=1)\n",
    "df['colocalisation'] = df.apply(lambda x: len(x.loc_intersection)/len(x.loc_union) if len(x.loc_union)>0 else 0, axis=1)\n",
    "df['same_subcell_loc'] = df.loc_intersection.apply(lambda x: len(x) > 0)\n",
    "\n",
    "print('N w/ shared subcellular location:', df[df.same_subcell_loc].shape[0])\n",
    "location_features = df[['A1_ensembl', 'A2_ensembl', 'colocalisation', 'same_subcell_loc']]\n",
    "location_features[:1]"
   ]
  },
  {
   "cell_type": "markdown",
   "metadata": {},
   "source": [
    "### Merge all features together"
   ]
  },
  {
   "cell_type": "code",
   "execution_count": 13,
   "metadata": {},
   "outputs": [],
   "source": [
    "# Fill in mean for pairs where gene scores / expr / age was not available\n",
    "\n",
    "def impute_missing_values(pairs):\n",
    "    print('Pairs in complex, missing scores:', pairs[pairs.flag_missing_scores].shape[0])\n",
    "    print('Pairs w/ shared ppi, missing scores:', \n",
    "          pairs[(pairs.n_shared_ppi>0) & pairs.shared_ppi_percent_essential.isna()].shape[0])\n",
    "    \n",
    "    for col in [col for col in pairs.columns if col in ['mean_complex_essentiality']]:\n",
    "        pairs.loc[pairs.flag_missing_scores,:] = pairs.loc[pairs.flag_missing_scores,:].fillna({col:pairs[col].mean()})\n",
    "\n",
    "    for col in [col for col in pairs.columns if col in \n",
    "                ['shared_ppi_mean_essentiality', 'shared_ppi_percent_essential', 'shared_ppi_mean_ceres_score']]:\n",
    "        pairs.loc[(pairs.n_shared_ppi>0),:] = pairs.loc[(pairs.n_shared_ppi>0),:].fillna({col:pairs[col].mean()})\n",
    "\n",
    "    for col in [col for col in pairs.columns if col.startswith('gtex') or col in ['mean_age']]:\n",
    "        pairs = pairs.fillna({col:pairs[col].mean()})\n",
    "\n",
    "    pairs = pairs.fillna(0)\n",
    "    return pairs"
   ]
  },
  {
   "cell_type": "code",
   "execution_count": 14,
   "metadata": {
    "tags": []
   },
   "outputs": [
    {
     "data": {
      "text/plain": [
       "mean_complex_essentiality       28728\n",
       "shared_ppi_mean_essentiality    22342\n",
       "shared_ppi_percent_essential    22342\n",
       "shared_ppi_mean_ceres_score     22342\n",
       "gtex_spearman_corr                507\n",
       "gtex_pearson_corr                 507\n",
       "gtex_min_mean_expr                 85\n",
       "gtex_max_mean_expr                 85\n",
       "mean_age                         1513\n",
       "dtype: int64"
      ]
     },
     "metadata": {},
     "output_type": "display_data"
    },
    {
     "name": "stdout",
     "output_type": "stream",
     "text": [
      "Pairs in complex, missing scores: 60\n",
      "Pairs w/ shared ppi, missing scores: 477\n"
     ]
    },
    {
     "data": {
      "text/html": [
       "<div>\n",
       "<style scoped>\n",
       "    .dataframe tbody tr th:only-of-type {\n",
       "        vertical-align: middle;\n",
       "    }\n",
       "\n",
       "    .dataframe tbody tr th {\n",
       "        vertical-align: top;\n",
       "    }\n",
       "\n",
       "    .dataframe thead th {\n",
       "        text-align: right;\n",
       "    }\n",
       "</style>\n",
       "<table border=\"1\" class=\"dataframe\">\n",
       "  <thead>\n",
       "    <tr style=\"text-align: right;\">\n",
       "      <th></th>\n",
       "      <th>A1</th>\n",
       "      <th>A2</th>\n",
       "      <th>A1_ensembl</th>\n",
       "      <th>A2_ensembl</th>\n",
       "      <th>A1_entrez</th>\n",
       "      <th>A2_entrez</th>\n",
       "      <th>closest</th>\n",
       "      <th>min_sequence_identity</th>\n",
       "      <th>max_sequence_identity</th>\n",
       "      <th>WGD</th>\n",
       "      <th>...</th>\n",
       "      <th>has_cerevisiae_ortholog</th>\n",
       "      <th>has_essential_cerevisiae_ortholog</th>\n",
       "      <th>has_single_essential_cerevisiae_ortholog</th>\n",
       "      <th>has_pombe_ortholog</th>\n",
       "      <th>has_essential_pombe_ortholog</th>\n",
       "      <th>has_single_essential_pombe_ortholog</th>\n",
       "      <th>conservation_score</th>\n",
       "      <th>mean_age</th>\n",
       "      <th>colocalisation</th>\n",
       "      <th>same_subcell_loc</th>\n",
       "    </tr>\n",
       "  </thead>\n",
       "  <tbody>\n",
       "    <tr>\n",
       "      <th>0</th>\n",
       "      <td>A1BG</td>\n",
       "      <td>OSCAR</td>\n",
       "      <td>ENSG00000121410</td>\n",
       "      <td>ENSG00000170909</td>\n",
       "      <td>1</td>\n",
       "      <td>126014</td>\n",
       "      <td>False</td>\n",
       "      <td>0.127273</td>\n",
       "      <td>0.220280</td>\n",
       "      <td>False</td>\n",
       "      <td>...</td>\n",
       "      <td>False</td>\n",
       "      <td>False</td>\n",
       "      <td>False</td>\n",
       "      <td>False</td>\n",
       "      <td>False</td>\n",
       "      <td>False</td>\n",
       "      <td>3</td>\n",
       "      <td>210.95</td>\n",
       "      <td>0.0</td>\n",
       "      <td>False</td>\n",
       "    </tr>\n",
       "    <tr>\n",
       "      <th>1</th>\n",
       "      <td>A1BG</td>\n",
       "      <td>TARM1</td>\n",
       "      <td>ENSG00000121410</td>\n",
       "      <td>ENSG00000248385</td>\n",
       "      <td>1</td>\n",
       "      <td>441864</td>\n",
       "      <td>False</td>\n",
       "      <td>0.149495</td>\n",
       "      <td>0.265233</td>\n",
       "      <td>False</td>\n",
       "      <td>...</td>\n",
       "      <td>False</td>\n",
       "      <td>False</td>\n",
       "      <td>False</td>\n",
       "      <td>False</td>\n",
       "      <td>False</td>\n",
       "      <td>False</td>\n",
       "      <td>3</td>\n",
       "      <td>97.40</td>\n",
       "      <td>0.0</td>\n",
       "      <td>False</td>\n",
       "    </tr>\n",
       "    <tr>\n",
       "      <th>2</th>\n",
       "      <td>OSCAR</td>\n",
       "      <td>TARM1</td>\n",
       "      <td>ENSG00000170909</td>\n",
       "      <td>ENSG00000248385</td>\n",
       "      <td>126014</td>\n",
       "      <td>441864</td>\n",
       "      <td>True</td>\n",
       "      <td>0.269231</td>\n",
       "      <td>0.275986</td>\n",
       "      <td>False</td>\n",
       "      <td>...</td>\n",
       "      <td>False</td>\n",
       "      <td>False</td>\n",
       "      <td>False</td>\n",
       "      <td>False</td>\n",
       "      <td>False</td>\n",
       "      <td>False</td>\n",
       "      <td>3</td>\n",
       "      <td>324.50</td>\n",
       "      <td>0.0</td>\n",
       "      <td>False</td>\n",
       "    </tr>\n",
       "  </tbody>\n",
       "</table>\n",
       "<p>3 rows × 42 columns</p>\n",
       "</div>"
      ],
      "text/plain": [
       "      A1     A2       A1_ensembl       A2_ensembl  A1_entrez  A2_entrez  \\\n",
       "0   A1BG  OSCAR  ENSG00000121410  ENSG00000170909          1     126014   \n",
       "1   A1BG  TARM1  ENSG00000121410  ENSG00000248385          1     441864   \n",
       "2  OSCAR  TARM1  ENSG00000170909  ENSG00000248385     126014     441864   \n",
       "\n",
       "   closest  min_sequence_identity  max_sequence_identity    WGD  ...  \\\n",
       "0    False               0.127273               0.220280  False  ...   \n",
       "1    False               0.149495               0.265233  False  ...   \n",
       "2     True               0.269231               0.275986  False  ...   \n",
       "\n",
       "   has_cerevisiae_ortholog  has_essential_cerevisiae_ortholog  \\\n",
       "0                    False                              False   \n",
       "1                    False                              False   \n",
       "2                    False                              False   \n",
       "\n",
       "   has_single_essential_cerevisiae_ortholog  has_pombe_ortholog  \\\n",
       "0                                     False               False   \n",
       "1                                     False               False   \n",
       "2                                     False               False   \n",
       "\n",
       "   has_essential_pombe_ortholog  has_single_essential_pombe_ortholog  \\\n",
       "0                         False                                False   \n",
       "1                         False                                False   \n",
       "2                         False                                False   \n",
       "\n",
       "   conservation_score  mean_age  colocalisation  same_subcell_loc  \n",
       "0                   3    210.95             0.0             False  \n",
       "1                   3     97.40             0.0             False  \n",
       "2                   3    324.50             0.0             False  \n",
       "\n",
       "[3 rows x 42 columns]"
      ]
     },
     "execution_count": 14,
     "metadata": {},
     "output_type": "execute_result"
    }
   ],
   "source": [
    "# Some features were already in the paralog pairs file\n",
    "data = pairs[['A1','A2','A1_ensembl','A2_ensembl','A1_entrez','A2_entrez', 'closest',\n",
    "              'min_seq_id', 'max_seq_id', 'WGD', 'family_size','same_chr', 'cds_length_ratio']]\n",
    "data = data.rename(columns={'min_seq_id':'min_sequence_identity', 'max_seq_id':'max_sequence_identity'})\n",
    "\n",
    "data = pd.merge(data, complex_features)\n",
    "data = pd.merge(data, ppi_features)\n",
    "data = pd.merge(data, domain_features)\n",
    "data = pd.merge(data, expr_features)\n",
    "data = pd.merge(data, ortholog_features)\n",
    "data = pd.merge(data, age_features)\n",
    "data = pd.merge(data, location_features)\n",
    "\n",
    "display(data.isna().sum()[data.isna().sum()>0])\n",
    "\n",
    "data = impute_missing_values(data)\n",
    "assert(pairs.shape[0]==data.shape[0])\n",
    "data[:3]"
   ]
  },
  {
   "cell_type": "code",
   "execution_count": 15,
   "metadata": {},
   "outputs": [
    {
     "data": {
      "text/plain": [
       "Index(['A1', 'A2', 'A1_ensembl', 'A2_ensembl', 'A1_entrez', 'A2_entrez',\n",
       "       'closest', 'min_sequence_identity', 'max_sequence_identity', 'WGD',\n",
       "       'family_size', 'same_chr', 'cds_length_ratio', 'either_in_complex',\n",
       "       'in_same_complex', 'either_in_essential_complex',\n",
       "       'mean_complex_essentiality', 'flag_missing_scores', 'interact',\n",
       "       'n_total_ppi', 'n_shared_ppi', 'shared_ppi_jaccard_idx',\n",
       "       'fet_ppi_overlap', 'shared_ppi_mean_essentiality',\n",
       "       'shared_ppi_percent_essential', 'shared_ppi_mean_ceres_score',\n",
       "       'n_shared_domains', 'shared_domains', 'gtex_spearman_corr',\n",
       "       'gtex_pearson_corr', 'gtex_min_mean_expr', 'gtex_max_mean_expr',\n",
       "       'has_cerevisiae_ortholog', 'has_essential_cerevisiae_ortholog',\n",
       "       'has_single_essential_cerevisiae_ortholog', 'has_pombe_ortholog',\n",
       "       'has_essential_pombe_ortholog', 'has_single_essential_pombe_ortholog',\n",
       "       'conservation_score', 'mean_age', 'colocalisation', 'same_subcell_loc'],\n",
       "      dtype='object')"
      ]
     },
     "execution_count": 15,
     "metadata": {},
     "output_type": "execute_result"
    }
   ],
   "source": [
    "data.columns"
   ]
  },
  {
   "cell_type": "code",
   "execution_count": 16,
   "metadata": {
    "scrolled": false
   },
   "outputs": [
    {
     "data": {
      "text/plain": [
       "Series([], dtype: bool)"
      ]
     },
     "execution_count": 16,
     "metadata": {},
     "output_type": "execute_result"
    }
   ],
   "source": [
    "data.isna().any()[data.isna().any()]"
   ]
  },
  {
   "cell_type": "code",
   "execution_count": 17,
   "metadata": {},
   "outputs": [],
   "source": [
    "data.to_csv(file_all_features, index=0)"
   ]
  }
 ],
 "metadata": {
  "kernelspec": {
   "display_name": "Python 3",
   "language": "python",
   "name": "python3"
  },
  "language_info": {
   "codemirror_mode": {
    "name": "ipython",
    "version": 3
   },
   "file_extension": ".py",
   "mimetype": "text/x-python",
   "name": "python",
   "nbconvert_exporter": "python",
   "pygments_lexer": "ipython3",
   "version": "3.7.1"
  }
 },
 "nbformat": 4,
 "nbformat_minor": 2
}
