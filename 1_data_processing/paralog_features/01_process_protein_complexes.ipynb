{
 "cells": [
  {
   "cell_type": "markdown",
   "metadata": {},
   "source": [
    "## Process protein complex membership\n",
    "\n",
    "**Input:** Protein complexes from CORUM + CERES gene scores + processed paralog pairs\n",
    "\n",
    "**Output:** Paralog pairs annotated with protein complex features\n",
    "\n",
    "Note: For some complexes more genes are listed in the gene name column than in the entrez id column (i.e. there are not enough 'None' placeholders). Example complex is 824, SMN1 and SMN2 are both not included in the id list but there is only one 'None' entry."
   ]
  },
  {
   "cell_type": "code",
   "execution_count": 2,
   "metadata": {
    "tags": []
   },
   "outputs": [],
   "source": [
    "import pandas as pd\n",
    "import numpy as np\n",
    "import os\n",
    "import matplotlib.pyplot as plt\n",
    "import matplotlib as mpl\n",
    "import seaborn as sns\n",
    "\n",
    "get_data_path = lambda folders, fname: os.path.normpath(os.environ['3RD_PARTY_DIR']+'/'+'/'.join(folders) +'/'+ fname)\n",
    "get_local_data_path = lambda folders, fname: os.path.normpath('../../local_data/' +'/'.join(folders) +'/'+ fname)\n",
    "\n",
    "# Inputs\n",
    "file_CORUM_complexes = get_data_path(['CORUM'], 'allComplexes.txt')\n",
    "file_gene_id_map = get_local_data_path(['processed'], 'HGNC_gene_id_map.csv')\n",
    "file_gene_scores = get_local_data_path(['processed', 'depmap20Q2'], 'gene_scores_26_05_20.csv')\n",
    "file_paralog_pairs = get_local_data_path(['processed','ensembl93'], 'unique_pairs.csv')\n",
    "\n",
    "# Output\n",
    "file_complex_features = get_local_data_path(['processed','paralog_features'], 'protein_complex_features.csv')"
   ]
  },
  {
   "cell_type": "markdown",
   "metadata": {},
   "source": [
    "### Make map of entrez-id/symbol to complex id\n",
    "\n",
    "Some sub-units are associated with multiple genes. For example complex 3298 has gene name \"SMN1; SMN2\" for one of its sub-units. In the sub units gene list these are indicated by a space after the semi-colon symbol."
   ]
  },
  {
   "cell_type": "code",
   "execution_count": 3,
   "metadata": {},
   "outputs": [],
   "source": [
    "all_complexes = pd.read_csv(file_CORUM_complexes, sep='\\t')"
   ]
  },
  {
   "cell_type": "code",
   "execution_count": 4,
   "metadata": {
    "tags": []
   },
   "outputs": [
    {
     "name": "stdout",
     "output_type": "stream",
     "text": [
      "Num complexes: 2916\n"
     ]
    },
    {
     "data": {
      "text/html": [
       "<div>\n",
       "<style scoped>\n",
       "    .dataframe tbody tr th:only-of-type {\n",
       "        vertical-align: middle;\n",
       "    }\n",
       "\n",
       "    .dataframe tbody tr th {\n",
       "        vertical-align: top;\n",
       "    }\n",
       "\n",
       "    .dataframe thead th {\n",
       "        text-align: right;\n",
       "    }\n",
       "</style>\n",
       "<table border=\"1\" class=\"dataframe\">\n",
       "  <thead>\n",
       "    <tr style=\"text-align: right;\">\n",
       "      <th></th>\n",
       "      <th>ComplexID</th>\n",
       "      <th>ComplexName</th>\n",
       "      <th>subunits_entrez_id</th>\n",
       "      <th>subunits_symbol</th>\n",
       "    </tr>\n",
       "  </thead>\n",
       "  <tbody>\n",
       "    <tr>\n",
       "      <th>0</th>\n",
       "      <td>1</td>\n",
       "      <td>BCL6-HDAC4 complex</td>\n",
       "      <td>604;9759</td>\n",
       "      <td>BCL6;HDAC4</td>\n",
       "    </tr>\n",
       "    <tr>\n",
       "      <th>1</th>\n",
       "      <td>2</td>\n",
       "      <td>BCL6-HDAC5 complex</td>\n",
       "      <td>604;10014</td>\n",
       "      <td>BCL6;HDAC5</td>\n",
       "    </tr>\n",
       "  </tbody>\n",
       "</table>\n",
       "</div>"
      ],
      "text/plain": [
       "   ComplexID         ComplexName subunits_entrez_id subunits_symbol\n",
       "0          1  BCL6-HDAC4 complex           604;9759      BCL6;HDAC4\n",
       "1          2  BCL6-HDAC5 complex          604;10014      BCL6;HDAC5"
      ]
     },
     "execution_count": 4,
     "metadata": {},
     "output_type": "execute_result"
    }
   ],
   "source": [
    "# Reduce down to human complexes\n",
    "human_complexes = all_complexes[all_complexes.Organism == 'Human'].reset_index(drop=True)\n",
    "human_complexes = human_complexes[['ComplexID', 'ComplexName', 'subunits(Entrez IDs)', 'subunits(Gene name)']]\n",
    "human_complexes = human_complexes.rename(columns={'subunits(Entrez IDs)':'subunits_entrez_id',\n",
    "                                                  'subunits(Gene name)':'subunits_symbol'})\n",
    "human_complexes['subunits_symbol'] = human_complexes.subunits_symbol.apply(lambda x: x.replace(';;', ';'))\n",
    "print('Num complexes:', human_complexes.ComplexID.nunique())\n",
    "human_complexes[:2]"
   ]
  },
  {
   "cell_type": "code",
   "execution_count": 5,
   "metadata": {},
   "outputs": [
    {
     "name": "stdout",
     "output_type": "stream",
     "text": [
      "N diff subunit counts: 24\n"
     ]
    },
    {
     "data": {
      "text/html": [
       "<div>\n",
       "<style scoped>\n",
       "    .dataframe tbody tr th:only-of-type {\n",
       "        vertical-align: middle;\n",
       "    }\n",
       "\n",
       "    .dataframe tbody tr th {\n",
       "        vertical-align: top;\n",
       "    }\n",
       "\n",
       "    .dataframe thead th {\n",
       "        text-align: right;\n",
       "    }\n",
       "</style>\n",
       "<table border=\"1\" class=\"dataframe\">\n",
       "  <thead>\n",
       "    <tr style=\"text-align: right;\">\n",
       "      <th></th>\n",
       "      <th>ComplexID</th>\n",
       "      <th>ComplexName</th>\n",
       "      <th>subunits_entrez_id</th>\n",
       "      <th>subunits_symbol</th>\n",
       "      <th>entrez_id_count</th>\n",
       "      <th>symbol_count</th>\n",
       "    </tr>\n",
       "  </thead>\n",
       "  <tbody>\n",
       "    <tr>\n",
       "      <th>1481</th>\n",
       "      <td>3298</td>\n",
       "      <td>SMN complex (GEMIN2,5, SMN)</td>\n",
       "      <td>8487;None;25929</td>\n",
       "      <td>GEMIN2;SMN1; SMN2;GEMIN5</td>\n",
       "      <td>2</td>\n",
       "      <td>3</td>\n",
       "    </tr>\n",
       "    <tr>\n",
       "      <th>1537</th>\n",
       "      <td>4158</td>\n",
       "      <td>HSP90-FKBP38-CAM-Ca(2+) complex</td>\n",
       "      <td>3320;None;23770</td>\n",
       "      <td>HSP90AA1;CALM1; CAL;FKBP8</td>\n",
       "      <td>2</td>\n",
       "      <td>3</td>\n",
       "    </tr>\n",
       "    <tr>\n",
       "      <th>1576</th>\n",
       "      <td>5189</td>\n",
       "      <td>YWHAQ-CALM1-CABIN1 complex</td>\n",
       "      <td>10971;None;23523</td>\n",
       "      <td>YWHAQ;CALM1; CAL;CABIN1</td>\n",
       "      <td>2</td>\n",
       "      <td>3</td>\n",
       "    </tr>\n",
       "  </tbody>\n",
       "</table>\n",
       "</div>"
      ],
      "text/plain": [
       "      ComplexID                      ComplexName subunits_entrez_id  \\\n",
       "1481       3298      SMN complex (GEMIN2,5, SMN)    8487;None;25929   \n",
       "1537       4158  HSP90-FKBP38-CAM-Ca(2+) complex    3320;None;23770   \n",
       "1576       5189       YWHAQ-CALM1-CABIN1 complex   10971;None;23523   \n",
       "\n",
       "                subunits_symbol  entrez_id_count  symbol_count  \n",
       "1481   GEMIN2;SMN1; SMN2;GEMIN5                2             3  \n",
       "1537  HSP90AA1;CALM1; CAL;FKBP8                2             3  \n",
       "1576    YWHAQ;CALM1; CAL;CABIN1                2             3  "
      ]
     },
     "execution_count": 5,
     "metadata": {},
     "output_type": "execute_result"
    }
   ],
   "source": [
    "# QC - disagreement in subunit counts\n",
    "# Discrepancy in counts is always entrez ids < gene symbols\n",
    "# Some of the complexes include 'None' as one of the entrez ids\n",
    "df = human_complexes.assign(entrez_id_count = human_complexes.subunits_entrez_id.apply(lambda x: x.count(';')),\n",
    "                            symbol_count = human_complexes.subunits_symbol.apply(lambda x: x.count(';')))\n",
    "print('N diff subunit counts:', df[df.entrez_id_count != df.symbol_count].shape[0])\n",
    "df[df.entrez_id_count != df.symbol_count].iloc[16:19]"
   ]
  },
  {
   "cell_type": "code",
   "execution_count": 6,
   "metadata": {
    "tags": []
   },
   "outputs": [
    {
     "data": {
      "text/html": [
       "<div>\n",
       "<style scoped>\n",
       "    .dataframe tbody tr th:only-of-type {\n",
       "        vertical-align: middle;\n",
       "    }\n",
       "\n",
       "    .dataframe tbody tr th {\n",
       "        vertical-align: top;\n",
       "    }\n",
       "\n",
       "    .dataframe thead th {\n",
       "        text-align: right;\n",
       "    }\n",
       "</style>\n",
       "<table border=\"1\" class=\"dataframe\">\n",
       "  <thead>\n",
       "    <tr style=\"text-align: right;\">\n",
       "      <th></th>\n",
       "      <th>ComplexID</th>\n",
       "      <th>ComplexName</th>\n",
       "      <th>subunits_entrez_id</th>\n",
       "      <th>subunits_symbol</th>\n",
       "    </tr>\n",
       "  </thead>\n",
       "  <tbody>\n",
       "    <tr>\n",
       "      <th>1481</th>\n",
       "      <td>3298</td>\n",
       "      <td>SMN complex (GEMIN2,5, SMN)</td>\n",
       "      <td>8487;None;25929</td>\n",
       "      <td>GEMIN2;SMN1|SMN2;GEMIN5</td>\n",
       "    </tr>\n",
       "  </tbody>\n",
       "</table>\n",
       "</div>"
      ],
      "text/plain": [
       "      ComplexID                  ComplexName subunits_entrez_id  \\\n",
       "1481       3298  SMN complex (GEMIN2,5, SMN)    8487;None;25929   \n",
       "\n",
       "              subunits_symbol  \n",
       "1481  GEMIN2;SMN1|SMN2;GEMIN5  "
      ]
     },
     "execution_count": 6,
     "metadata": {},
     "output_type": "execute_result"
    }
   ],
   "source": [
    "# Add different symbol for multiple gene names per entrez entry\n",
    "complexes = human_complexes.assign(subunits_symbol = human_complexes.subunits_symbol.apply(lambda x: x.replace('; ', '|')))\n",
    "complexes.loc[1481:1481]"
   ]
  },
  {
   "cell_type": "code",
   "execution_count": 7,
   "metadata": {},
   "outputs": [
    {
     "data": {
      "text/html": [
       "<div>\n",
       "<style scoped>\n",
       "    .dataframe tbody tr th:only-of-type {\n",
       "        vertical-align: middle;\n",
       "    }\n",
       "\n",
       "    .dataframe tbody tr th {\n",
       "        vertical-align: top;\n",
       "    }\n",
       "\n",
       "    .dataframe thead th {\n",
       "        text-align: right;\n",
       "    }\n",
       "</style>\n",
       "<table border=\"1\" class=\"dataframe\">\n",
       "  <thead>\n",
       "    <tr style=\"text-align: right;\">\n",
       "      <th></th>\n",
       "      <th>ComplexID</th>\n",
       "      <th>entrez_id</th>\n",
       "      <th>symbol</th>\n",
       "    </tr>\n",
       "  </thead>\n",
       "  <tbody>\n",
       "    <tr>\n",
       "      <th>0</th>\n",
       "      <td>1</td>\n",
       "      <td>604</td>\n",
       "      <td>BCL6</td>\n",
       "    </tr>\n",
       "  </tbody>\n",
       "</table>\n",
       "</div>"
      ],
      "text/plain": [
       "   ComplexID entrez_id symbol\n",
       "0          1       604   BCL6"
      ]
     },
     "metadata": {},
     "output_type": "display_data"
    },
    {
     "name": "stdout",
     "output_type": "stream",
     "text": [
      "N entrez ids not in HGNC: 9\n",
      "Num genes: 3649\n",
      "Num complexes: 2916\n"
     ]
    },
    {
     "data": {
      "text/html": [
       "<div>\n",
       "<style scoped>\n",
       "    .dataframe tbody tr th:only-of-type {\n",
       "        vertical-align: middle;\n",
       "    }\n",
       "\n",
       "    .dataframe tbody tr th {\n",
       "        vertical-align: top;\n",
       "    }\n",
       "\n",
       "    .dataframe thead th {\n",
       "        text-align: right;\n",
       "    }\n",
       "</style>\n",
       "<table border=\"1\" class=\"dataframe\">\n",
       "  <thead>\n",
       "    <tr style=\"text-align: right;\">\n",
       "      <th></th>\n",
       "      <th>complex_id</th>\n",
       "      <th>entrez_id</th>\n",
       "    </tr>\n",
       "  </thead>\n",
       "  <tbody>\n",
       "    <tr>\n",
       "      <th>0</th>\n",
       "      <td>1</td>\n",
       "      <td>604</td>\n",
       "    </tr>\n",
       "    <tr>\n",
       "      <th>1</th>\n",
       "      <td>1</td>\n",
       "      <td>9759</td>\n",
       "    </tr>\n",
       "  </tbody>\n",
       "</table>\n",
       "</div>"
      ],
      "text/plain": [
       "   complex_id  entrez_id\n",
       "0           1        604\n",
       "1           1       9759"
      ]
     },
     "execution_count": 7,
     "metadata": {},
     "output_type": "execute_result"
    }
   ],
   "source": [
    "# Stack the list of ids associated with each complex id - to get pairs of (complex id, entrez id / symbol)\n",
    "df1 = complexes.set_index('ComplexID').subunits_entrez_id.apply(lambda x: pd.Series(x.split(';')))\\\n",
    "               .stack().reset_index(level=1, drop=True).reset_index().rename(columns={0:'entrez_id'})\n",
    "df2 = complexes.set_index('ComplexID').subunits_symbol.apply(lambda x: pd.Series(x.split(';')))\\\n",
    "               .stack().reset_index(level=1, drop=True).reset_index().rename(columns={0:'symbol'})\n",
    "assert(df1.shape[0] == df2.shape[0])\n",
    "subunits_map = pd.concat([df1, df2.drop(columns=['ComplexID'])], axis=1)\n",
    "display(subunits_map[:1])\n",
    "\n",
    "# Split out symbols with | (stack those as well)\n",
    "subunits_map = subunits_map.set_index(['ComplexID', 'entrez_id']).symbol.apply(lambda x: pd.Series(x.split('|'))).stack()\\\n",
    "                           .reset_index(level=2, drop=True).reset_index().rename(columns={0:'symbol'})\n",
    "\n",
    "# Check for entrez ids / symbols not in HGNC - drop these rows\n",
    "gene_id_map = pd.read_csv(file_gene_id_map).dropna(subset=['entrez_id'])[['entrez_id','symbol']]\n",
    "gene_id_map = gene_id_map.astype({'entrez_id':'int'}).astype({'entrez_id':'str'})\n",
    "print('N entrez ids not in HGNC:', subunits_map[~subunits_map.entrez_id.isin(gene_id_map.entrez_id)].entrez_id.nunique()-1)\n",
    "subunits_map = subunits_map[subunits_map.entrez_id.isin(gene_id_map.entrez_id) | \n",
    "                            subunits_map.symbol.isin(gene_id_map.symbol)].reset_index(drop=True)\n",
    "\n",
    "# Fill in the entrez ids where ids were recorded as None in CORUM\n",
    "df = pd.merge(subunits_map[subunits_map.entrez_id=='None'].drop(columns=['entrez_id']), gene_id_map)\n",
    "assert(df.shape[0] == subunits_map[subunits_map.entrez_id=='None'].shape[0])\n",
    "subunits_map = pd.concat([subunits_map[subunits_map.entrez_id!='None'], df]).reset_index(drop=True)\n",
    "\n",
    "# Clean up\n",
    "complex_map = subunits_map.rename(columns={'ComplexID':'complex_id'}).sort_values('complex_id').drop(columns=['symbol'])\n",
    "complex_map = complex_map.astype({'entrez_id':'int'})\n",
    "print('Num genes:', complex_map.entrez_id.nunique())\n",
    "print('Num complexes:', complex_map.complex_id.nunique())\n",
    "complex_map[:2]"
   ]
  },
  {
   "cell_type": "markdown",
   "metadata": {},
   "source": [
    "### Calculate complex membership for paralog pairs"
   ]
  },
  {
   "cell_type": "code",
   "execution_count": 8,
   "metadata": {
    "tags": []
   },
   "outputs": [
    {
     "name": "stdout",
     "output_type": "stream",
     "text": [
      "Num pairs: 36648\n"
     ]
    },
    {
     "data": {
      "text/html": [
       "<div>\n",
       "<style scoped>\n",
       "    .dataframe tbody tr th:only-of-type {\n",
       "        vertical-align: middle;\n",
       "    }\n",
       "\n",
       "    .dataframe tbody tr th {\n",
       "        vertical-align: top;\n",
       "    }\n",
       "\n",
       "    .dataframe thead th {\n",
       "        text-align: right;\n",
       "    }\n",
       "</style>\n",
       "<table border=\"1\" class=\"dataframe\">\n",
       "  <thead>\n",
       "    <tr style=\"text-align: right;\">\n",
       "      <th></th>\n",
       "      <th>A1</th>\n",
       "      <th>A2</th>\n",
       "      <th>A1_entrez</th>\n",
       "      <th>A2_entrez</th>\n",
       "    </tr>\n",
       "  </thead>\n",
       "  <tbody>\n",
       "    <tr>\n",
       "      <th>0</th>\n",
       "      <td>A1BG</td>\n",
       "      <td>OSCAR</td>\n",
       "      <td>1</td>\n",
       "      <td>126014</td>\n",
       "    </tr>\n",
       "  </tbody>\n",
       "</table>\n",
       "</div>"
      ],
      "text/plain": [
       "     A1     A2  A1_entrez  A2_entrez\n",
       "0  A1BG  OSCAR          1     126014"
      ]
     },
     "execution_count": 8,
     "metadata": {},
     "output_type": "execute_result"
    }
   ],
   "source": [
    "pairs = pd.read_csv(file_paralog_pairs, index_col=0)[['A1','A2','A1_entrez','A2_entrez']]\n",
    "print('Num pairs:', pairs.shape[0])\n",
    "pairs[:1]"
   ]
  },
  {
   "cell_type": "code",
   "execution_count": 9,
   "metadata": {},
   "outputs": [
    {
     "data": {
      "text/html": [
       "<div>\n",
       "<style scoped>\n",
       "    .dataframe tbody tr th:only-of-type {\n",
       "        vertical-align: middle;\n",
       "    }\n",
       "\n",
       "    .dataframe tbody tr th {\n",
       "        vertical-align: top;\n",
       "    }\n",
       "\n",
       "    .dataframe thead th {\n",
       "        text-align: right;\n",
       "    }\n",
       "</style>\n",
       "<table border=\"1\" class=\"dataframe\">\n",
       "  <thead>\n",
       "    <tr style=\"text-align: right;\">\n",
       "      <th></th>\n",
       "      <th>entrez_id</th>\n",
       "      <th>complex_id</th>\n",
       "    </tr>\n",
       "  </thead>\n",
       "  <tbody>\n",
       "    <tr>\n",
       "      <th>0</th>\n",
       "      <td>2</td>\n",
       "      <td>{2710}</td>\n",
       "    </tr>\n",
       "    <tr>\n",
       "      <th>1</th>\n",
       "      <td>12</td>\n",
       "      <td>{5389}</td>\n",
       "    </tr>\n",
       "  </tbody>\n",
       "</table>\n",
       "</div>"
      ],
      "text/plain": [
       "   entrez_id complex_id\n",
       "0          2     {2710}\n",
       "1         12     {5389}"
      ]
     },
     "metadata": {},
     "output_type": "display_data"
    },
    {
     "data": {
      "text/html": [
       "<div>\n",
       "<style scoped>\n",
       "    .dataframe tbody tr th:only-of-type {\n",
       "        vertical-align: middle;\n",
       "    }\n",
       "\n",
       "    .dataframe tbody tr th {\n",
       "        vertical-align: top;\n",
       "    }\n",
       "\n",
       "    .dataframe thead th {\n",
       "        text-align: right;\n",
       "    }\n",
       "</style>\n",
       "<table border=\"1\" class=\"dataframe\">\n",
       "  <thead>\n",
       "    <tr style=\"text-align: right;\">\n",
       "      <th></th>\n",
       "      <th>A1_entrez</th>\n",
       "      <th>A2_entrez</th>\n",
       "      <th>A1_complex_ids</th>\n",
       "      <th>A2_complex_ids</th>\n",
       "      <th>complex_intersection</th>\n",
       "      <th>complex_union</th>\n",
       "      <th>either_in_complex</th>\n",
       "      <th>in_same_complex</th>\n",
       "    </tr>\n",
       "  </thead>\n",
       "  <tbody>\n",
       "    <tr>\n",
       "      <th>0</th>\n",
       "      <td>1</td>\n",
       "      <td>126014</td>\n",
       "      <td>{}</td>\n",
       "      <td>{}</td>\n",
       "      <td>{}</td>\n",
       "      <td>{}</td>\n",
       "      <td>False</td>\n",
       "      <td>False</td>\n",
       "    </tr>\n",
       "    <tr>\n",
       "      <th>1</th>\n",
       "      <td>1</td>\n",
       "      <td>441864</td>\n",
       "      <td>{}</td>\n",
       "      <td>{}</td>\n",
       "      <td>{}</td>\n",
       "      <td>{}</td>\n",
       "      <td>False</td>\n",
       "      <td>False</td>\n",
       "    </tr>\n",
       "  </tbody>\n",
       "</table>\n",
       "</div>"
      ],
      "text/plain": [
       "   A1_entrez  A2_entrez A1_complex_ids A2_complex_ids complex_intersection  \\\n",
       "0          1     126014             {}             {}                   {}   \n",
       "1          1     441864             {}             {}                   {}   \n",
       "\n",
       "  complex_union  either_in_complex  in_same_complex  \n",
       "0            {}              False            False  \n",
       "1            {}              False            False  "
      ]
     },
     "execution_count": 9,
     "metadata": {},
     "output_type": "execute_result"
    }
   ],
   "source": [
    "complexes_per_gene = complex_map.groupby('entrez_id').agg({'complex_id': set}).reset_index()\n",
    "display(complexes_per_gene[:2])\n",
    "\n",
    "# Merge with each gene in all pairs \n",
    "df = pd.merge(pairs[['A1_entrez','A2_entrez']], \n",
    "              complexes_per_gene.rename(columns={'entrez_id':'A1_entrez','complex_id':'A1_complex_ids'}), how='left')\n",
    "df = pd.merge(df, complexes_per_gene.rename(columns={'entrez_id':'A2_entrez','complex_id':'A2_complex_ids'}), how='left')\n",
    "\n",
    "# Fill in empty sets (gene not in a complex)\n",
    "df.loc[df.A1_complex_ids.isna(),'A1_complex_ids'] = df.loc[df.A1_complex_ids.isna(),'A1_complex_ids'].apply(lambda x: set())\n",
    "df.loc[df.A2_complex_ids.isna(),'A2_complex_ids'] = df.loc[df.A2_complex_ids.isna(),'A2_complex_ids'].apply(lambda x: set())\n",
    "\n",
    "# Calculate complex intersection and union\n",
    "df = df.assign(complex_intersection=df.apply(lambda x: x.A1_complex_ids.intersection(x.A2_complex_ids), axis=1),\n",
    "               complex_union=df.apply(lambda x: x.A1_complex_ids.union(x.A2_complex_ids), axis=1))\n",
    "\n",
    "# Calculate features\n",
    "df['either_in_complex'] = df.complex_union.apply(lambda x: len(x) > 0)\n",
    "df['in_same_complex'] = df.complex_intersection.apply(lambda x: len(x) > 0)\n",
    "\n",
    "complex_membership = df\n",
    "complex_membership[:2]"
   ]
  },
  {
   "cell_type": "code",
   "execution_count": 10,
   "metadata": {
    "tags": []
   },
   "outputs": [
    {
     "name": "stdout",
     "output_type": "stream",
     "text": [
      "Either in complex: 8060\n",
      "In same complex: 402\n"
     ]
    },
    {
     "data": {
      "text/html": [
       "<div>\n",
       "<style scoped>\n",
       "    .dataframe tbody tr th:only-of-type {\n",
       "        vertical-align: middle;\n",
       "    }\n",
       "\n",
       "    .dataframe tbody tr th {\n",
       "        vertical-align: top;\n",
       "    }\n",
       "\n",
       "    .dataframe thead th {\n",
       "        text-align: right;\n",
       "    }\n",
       "</style>\n",
       "<table border=\"1\" class=\"dataframe\">\n",
       "  <thead>\n",
       "    <tr style=\"text-align: right;\">\n",
       "      <th></th>\n",
       "      <th>A1_entrez</th>\n",
       "      <th>A2_entrez</th>\n",
       "      <th>A1_complex_ids</th>\n",
       "      <th>A2_complex_ids</th>\n",
       "      <th>complex_intersection</th>\n",
       "      <th>complex_union</th>\n",
       "      <th>either_in_complex</th>\n",
       "      <th>in_same_complex</th>\n",
       "    </tr>\n",
       "  </thead>\n",
       "  <tbody>\n",
       "    <tr>\n",
       "      <th>15</th>\n",
       "      <td>10236</td>\n",
       "      <td>10492</td>\n",
       "      <td>{3082, 1181, 1223}</td>\n",
       "      <td>{5385, 1307, 1181, 6838}</td>\n",
       "      <td>{1181}</td>\n",
       "      <td>{6838, 1223, 5385, 3082, 1307, 1181}</td>\n",
       "      <td>True</td>\n",
       "      <td>True</td>\n",
       "    </tr>\n",
       "    <tr>\n",
       "      <th>205</th>\n",
       "      <td>64240</td>\n",
       "      <td>64241</td>\n",
       "      <td>{7263}</td>\n",
       "      <td>{7263}</td>\n",
       "      <td>{7263}</td>\n",
       "      <td>{7263}</td>\n",
       "      <td>True</td>\n",
       "      <td>True</td>\n",
       "    </tr>\n",
       "  </tbody>\n",
       "</table>\n",
       "</div>"
      ],
      "text/plain": [
       "     A1_entrez  A2_entrez      A1_complex_ids            A2_complex_ids  \\\n",
       "15       10236      10492  {3082, 1181, 1223}  {5385, 1307, 1181, 6838}   \n",
       "205      64240      64241              {7263}                    {7263}   \n",
       "\n",
       "    complex_intersection                         complex_union  \\\n",
       "15                {1181}  {6838, 1223, 5385, 3082, 1307, 1181}   \n",
       "205               {7263}                                {7263}   \n",
       "\n",
       "     either_in_complex  in_same_complex  \n",
       "15                True             True  \n",
       "205               True             True  "
      ]
     },
     "execution_count": 10,
     "metadata": {},
     "output_type": "execute_result"
    }
   ],
   "source": [
    "print('Either in complex:', sum(complex_membership.either_in_complex))\n",
    "assert(sum(complex_membership.either_in_complex) == \n",
    "       pairs[pairs.A1_entrez.isin(complex_map.entrez_id) | pairs.A2_entrez.isin(complex_map.entrez_id)].shape[0])\n",
    "print('In same complex:', sum(complex_membership.in_same_complex))\n",
    "\n",
    "complex_membership[complex_membership.in_same_complex][:2]"
   ]
  },
  {
   "cell_type": "markdown",
   "metadata": {},
   "source": [
    "### Calculate essentiality of complexes in which pairs are members"
   ]
  },
  {
   "cell_type": "code",
   "execution_count": 11,
   "metadata": {
    "tags": []
   },
   "outputs": [
    {
     "name": "stdout",
     "output_type": "stream",
     "text": [
      "Gene scores: (769, 16445)\n"
     ]
    },
    {
     "data": {
      "text/html": [
       "<div>\n",
       "<style scoped>\n",
       "    .dataframe tbody tr th:only-of-type {\n",
       "        vertical-align: middle;\n",
       "    }\n",
       "\n",
       "    .dataframe tbody tr th {\n",
       "        vertical-align: top;\n",
       "    }\n",
       "\n",
       "    .dataframe thead th {\n",
       "        text-align: right;\n",
       "    }\n",
       "</style>\n",
       "<table border=\"1\" class=\"dataframe\">\n",
       "  <thead>\n",
       "    <tr style=\"text-align: right;\">\n",
       "      <th></th>\n",
       "      <th>1</th>\n",
       "      <th>29974</th>\n",
       "      <th>2</th>\n",
       "      <th>144568</th>\n",
       "      <th>127550</th>\n",
       "      <th>53947</th>\n",
       "      <th>51146</th>\n",
       "      <th>8086</th>\n",
       "      <th>65985</th>\n",
       "      <th>13</th>\n",
       "      <th>...</th>\n",
       "      <th>221302</th>\n",
       "      <th>9183</th>\n",
       "      <th>55055</th>\n",
       "      <th>11130</th>\n",
       "      <th>79364</th>\n",
       "      <th>440590</th>\n",
       "      <th>79699</th>\n",
       "      <th>7791</th>\n",
       "      <th>23140</th>\n",
       "      <th>26009</th>\n",
       "    </tr>\n",
       "  </thead>\n",
       "  <tbody>\n",
       "    <tr>\n",
       "      <th>ACH-001382</th>\n",
       "      <td>0.652347</td>\n",
       "      <td>-0.020793</td>\n",
       "      <td>-0.270112</td>\n",
       "      <td>-0.211408</td>\n",
       "      <td>0.06271</td>\n",
       "      <td>-0.081674</td>\n",
       "      <td>0.37684</td>\n",
       "      <td>-0.767385</td>\n",
       "      <td>0.166991</td>\n",
       "      <td>0.112045</td>\n",
       "      <td>...</td>\n",
       "      <td>0.182055</td>\n",
       "      <td>-0.724872</td>\n",
       "      <td>0.499652</td>\n",
       "      <td>-0.141164</td>\n",
       "      <td>-0.336501</td>\n",
       "      <td>0.250665</td>\n",
       "      <td>-0.676302</td>\n",
       "      <td>-0.098001</td>\n",
       "      <td>-0.677497</td>\n",
       "      <td>-0.506629</td>\n",
       "    </tr>\n",
       "  </tbody>\n",
       "</table>\n",
       "<p>1 rows × 16445 columns</p>\n",
       "</div>"
      ],
      "text/plain": [
       "                   1     29974         2    144568   127550     53947  \\\n",
       "ACH-001382  0.652347 -0.020793 -0.270112 -0.211408  0.06271 -0.081674   \n",
       "\n",
       "              51146      8086     65985        13  ...    221302      9183  \\\n",
       "ACH-001382  0.37684 -0.767385  0.166991  0.112045  ...  0.182055 -0.724872   \n",
       "\n",
       "               55055     11130     79364    440590     79699      7791  \\\n",
       "ACH-001382  0.499652 -0.141164 -0.336501  0.250665 -0.676302 -0.098001   \n",
       "\n",
       "               23140     26009  \n",
       "ACH-001382 -0.677497 -0.506629  \n",
       "\n",
       "[1 rows x 16445 columns]"
      ]
     },
     "execution_count": 11,
     "metadata": {},
     "output_type": "execute_result"
    }
   ],
   "source": [
    "# Load gene scores\n",
    "gene_scores_raw = pd.read_csv(file_gene_scores, index_col=0)\n",
    "print('Gene scores:', gene_scores_raw.shape)\n",
    "gene_scores_raw[:1]"
   ]
  },
  {
   "cell_type": "code",
   "execution_count": 29,
   "metadata": {
    "tags": []
   },
   "outputs": [
    {
     "name": "stdout",
     "output_type": "stream",
     "text": [
      "Mean essential %: 10.617, mean CERES: -0.16\n"
     ]
    },
    {
     "data": {
      "text/html": [
       "<div>\n",
       "<style scoped>\n",
       "    .dataframe tbody tr th:only-of-type {\n",
       "        vertical-align: middle;\n",
       "    }\n",
       "\n",
       "    .dataframe tbody tr th {\n",
       "        vertical-align: top;\n",
       "    }\n",
       "\n",
       "    .dataframe thead th {\n",
       "        text-align: right;\n",
       "    }\n",
       "</style>\n",
       "<table border=\"1\" class=\"dataframe\">\n",
       "  <thead>\n",
       "    <tr style=\"text-align: right;\">\n",
       "      <th></th>\n",
       "      <th>entrez_id</th>\n",
       "      <th>essential_percent</th>\n",
       "      <th>avg_ceres_score</th>\n",
       "    </tr>\n",
       "  </thead>\n",
       "  <tbody>\n",
       "    <tr>\n",
       "      <th>0</th>\n",
       "      <td>1</td>\n",
       "      <td>0.0</td>\n",
       "      <td>0.092681</td>\n",
       "    </tr>\n",
       "  </tbody>\n",
       "</table>\n",
       "</div>"
      ],
      "text/plain": [
       "   entrez_id  essential_percent  avg_ceres_score\n",
       "0          1                0.0         0.092681"
      ]
     },
     "metadata": {},
     "output_type": "display_data"
    }
   ],
   "source": [
    "# Compute % of cell lines in which gene is essential + the avg. CERES score for each gene\n",
    "gene_scores = pd.merge(gene_scores_raw.apply(lambda x: (x < -0.6).sum() / gene_scores_raw.shape[0]).reset_index(),\n",
    "                       gene_scores_raw.mean().reset_index(), on=['index'])\n",
    "gene_scores = gene_scores.rename(columns={'index':'entrez_id', '0_x':'essential_percent', '0_y':'avg_ceres_score'})\n",
    "gene_scores = gene_scores.astype({'entrez_id':'int'})\n",
    "print('Mean essential %%: %.3f, mean CERES: %.2f' % (gene_scores.essential_percent.mean()*100, \n",
    "                                                     gene_scores.avg_ceres_score.mean()))\n",
    "display(gene_scores[:1])"
   ]
  },
  {
   "cell_type": "code",
   "execution_count": 34,
   "metadata": {},
   "outputs": [
    {
     "name": "stdout",
     "output_type": "stream",
     "text": [
      "Corr: -0.9239975268049923\n"
     ]
    },
    {
     "data": {
      "text/plain": [
       "<AxesSubplot:xlabel='essential_percent', ylabel='avg_ceres_score'>"
      ]
     },
     "execution_count": 34,
     "metadata": {},
     "output_type": "execute_result"
    },
    {
     "data": {
      "image/png": "[encoded data removed]",
      "text/plain": [
       "<Figure size 216x216 with 1 Axes>"
      ]
     },
     "metadata": {
      "needs_background": "light"
     },
     "output_type": "display_data"
    }
   ],
   "source": [
    "# Check correlation between avg CERES score and essential percent\n",
    "f, ax = plt.subplots(1, 1, figsize=(3,3))\n",
    "print('Corr:', gene_scores.essential_percent.corr(gene_scores.avg_ceres_score))\n",
    "sns.scatterplot(gene_scores.essential_percent, gene_scores.avg_ceres_score, linewidth=0, alpha=0.4, s=4, ax=ax)"
   ]
  },
  {
   "cell_type": "code",
   "execution_count": 30,
   "metadata": {
    "tags": []
   },
   "outputs": [
    {
     "name": "stdout",
     "output_type": "stream",
     "text": [
      "N subunits w/out score: 253\n"
     ]
    },
    {
     "data": {
      "text/html": [
       "<div>\n",
       "<style scoped>\n",
       "    .dataframe tbody tr th:only-of-type {\n",
       "        vertical-align: middle;\n",
       "    }\n",
       "\n",
       "    .dataframe tbody tr th {\n",
       "        vertical-align: top;\n",
       "    }\n",
       "\n",
       "    .dataframe thead th {\n",
       "        text-align: right;\n",
       "    }\n",
       "</style>\n",
       "<table border=\"1\" class=\"dataframe\">\n",
       "  <thead>\n",
       "    <tr style=\"text-align: right;\">\n",
       "      <th></th>\n",
       "      <th>complex_id</th>\n",
       "      <th>entrez_id</th>\n",
       "      <th>essential_percent</th>\n",
       "      <th>avg_ceres_score</th>\n",
       "    </tr>\n",
       "  </thead>\n",
       "  <tbody>\n",
       "    <tr>\n",
       "      <th>0</th>\n",
       "      <td>1</td>\n",
       "      <td>604</td>\n",
       "      <td>0.022107</td>\n",
       "      <td>-0.076898</td>\n",
       "    </tr>\n",
       "    <tr>\n",
       "      <th>1</th>\n",
       "      <td>1</td>\n",
       "      <td>9759</td>\n",
       "      <td>0.055917</td>\n",
       "      <td>-0.278885</td>\n",
       "    </tr>\n",
       "  </tbody>\n",
       "</table>\n",
       "</div>"
      ],
      "text/plain": [
       "   complex_id  entrez_id  essential_percent  avg_ceres_score\n",
       "0           1        604           0.022107        -0.076898\n",
       "1           1       9759           0.055917        -0.278885"
      ]
     },
     "metadata": {},
     "output_type": "display_data"
    }
   ],
   "source": [
    "# Merge essentiality for each subunit gene\n",
    "subunit_essentiality = pd.merge(complex_map, gene_scores, how='left')\n",
    "print('N subunits w/out score:', subunit_essentiality[subunit_essentiality.essential_percent.isna()].entrez_id.nunique())\n",
    "display(subunit_essentiality[:2])"
   ]
  },
  {
   "cell_type": "code",
   "execution_count": 31,
   "metadata": {
    "tags": []
   },
   "outputs": [
    {
     "data": {
      "text/html": [
       "<div>\n",
       "<style scoped>\n",
       "    .dataframe tbody tr th:only-of-type {\n",
       "        vertical-align: middle;\n",
       "    }\n",
       "\n",
       "    .dataframe tbody tr th {\n",
       "        vertical-align: top;\n",
       "    }\n",
       "\n",
       "    .dataframe thead th {\n",
       "        text-align: right;\n",
       "    }\n",
       "</style>\n",
       "<table border=\"1\" class=\"dataframe\">\n",
       "  <thead>\n",
       "    <tr style=\"text-align: right;\">\n",
       "      <th></th>\n",
       "      <th>A1_entrez</th>\n",
       "      <th>A2_entrez</th>\n",
       "      <th>complex_id</th>\n",
       "    </tr>\n",
       "  </thead>\n",
       "  <tbody>\n",
       "    <tr>\n",
       "      <th>0</th>\n",
       "      <td>29974</td>\n",
       "      <td>10236</td>\n",
       "      <td>3082</td>\n",
       "    </tr>\n",
       "    <tr>\n",
       "      <th>1</th>\n",
       "      <td>29974</td>\n",
       "      <td>10236</td>\n",
       "      <td>1181</td>\n",
       "    </tr>\n",
       "  </tbody>\n",
       "</table>\n",
       "</div>"
      ],
      "text/plain": [
       "   A1_entrez  A2_entrez  complex_id\n",
       "0      29974      10236        3082\n",
       "1      29974      10236        1181"
      ]
     },
     "metadata": {},
     "output_type": "display_data"
    },
    {
     "data": {
      "text/html": [
       "<div>\n",
       "<style scoped>\n",
       "    .dataframe tbody tr th:only-of-type {\n",
       "        vertical-align: middle;\n",
       "    }\n",
       "\n",
       "    .dataframe tbody tr th {\n",
       "        vertical-align: top;\n",
       "    }\n",
       "\n",
       "    .dataframe thead th {\n",
       "        text-align: right;\n",
       "    }\n",
       "</style>\n",
       "<table border=\"1\" class=\"dataframe\">\n",
       "  <thead>\n",
       "    <tr style=\"text-align: right;\">\n",
       "      <th></th>\n",
       "      <th>A1_entrez</th>\n",
       "      <th>A2_entrez</th>\n",
       "      <th>complex_id</th>\n",
       "      <th>entrez_id</th>\n",
       "      <th>essential_percent</th>\n",
       "      <th>avg_ceres_score</th>\n",
       "    </tr>\n",
       "  </thead>\n",
       "  <tbody>\n",
       "    <tr>\n",
       "      <th>0</th>\n",
       "      <td>29974</td>\n",
       "      <td>10236</td>\n",
       "      <td>3082</td>\n",
       "      <td>3609</td>\n",
       "      <td>0.988296</td>\n",
       "      <td>-1.139802</td>\n",
       "    </tr>\n",
       "    <tr>\n",
       "      <th>1</th>\n",
       "      <td>29974</td>\n",
       "      <td>10236</td>\n",
       "      <td>3082</td>\n",
       "      <td>10236</td>\n",
       "      <td>0.323797</td>\n",
       "      <td>-0.526979</td>\n",
       "    </tr>\n",
       "  </tbody>\n",
       "</table>\n",
       "</div>"
      ],
      "text/plain": [
       "   A1_entrez  A2_entrez  complex_id  entrez_id  essential_percent  \\\n",
       "0      29974      10236        3082       3609           0.988296   \n",
       "1      29974      10236        3082      10236           0.323797   \n",
       "\n",
       "   avg_ceres_score  \n",
       "0        -1.139802  \n",
       "1        -0.526979  "
      ]
     },
     "metadata": {},
     "output_type": "display_data"
    },
    {
     "data": {
      "text/html": [
       "<div>\n",
       "<style scoped>\n",
       "    .dataframe tbody tr th:only-of-type {\n",
       "        vertical-align: middle;\n",
       "    }\n",
       "\n",
       "    .dataframe tbody tr th {\n",
       "        vertical-align: top;\n",
       "    }\n",
       "\n",
       "    .dataframe thead th {\n",
       "        text-align: right;\n",
       "    }\n",
       "</style>\n",
       "<table border=\"1\" class=\"dataframe\">\n",
       "  <thead>\n",
       "    <tr style=\"text-align: right;\">\n",
       "      <th></th>\n",
       "      <th>A1_entrez</th>\n",
       "      <th>A2_entrez</th>\n",
       "      <th>complex_id</th>\n",
       "      <th>essential_complex</th>\n",
       "      <th>mean_essentiality</th>\n",
       "      <th>mean_ceres_score</th>\n",
       "    </tr>\n",
       "  </thead>\n",
       "  <tbody>\n",
       "    <tr>\n",
       "      <th>0</th>\n",
       "      <td>2</td>\n",
       "      <td>718</td>\n",
       "      <td>2710</td>\n",
       "      <td>False</td>\n",
       "      <td>0.009753</td>\n",
       "      <td>-0.130884</td>\n",
       "    </tr>\n",
       "    <tr>\n",
       "      <th>1</th>\n",
       "      <td>2</td>\n",
       "      <td>718</td>\n",
       "      <td>6107</td>\n",
       "      <td>False</td>\n",
       "      <td>0.001300</td>\n",
       "      <td>0.003969</td>\n",
       "    </tr>\n",
       "  </tbody>\n",
       "</table>\n",
       "</div>"
      ],
      "text/plain": [
       "   A1_entrez  A2_entrez  complex_id  essential_complex  mean_essentiality  \\\n",
       "0          2        718        2710              False           0.009753   \n",
       "1          2        718        6107              False           0.001300   \n",
       "\n",
       "   mean_ceres_score  \n",
       "0         -0.130884  \n",
       "1          0.003969  "
      ]
     },
     "execution_count": 31,
     "metadata": {},
     "output_type": "execute_result"
    }
   ],
   "source": [
    "# Stack complex membership (union of complexes) for paralog pairs, to get one row for each (A1, A2, complex_id) tuple\n",
    "df = complex_membership.set_index(['A1_entrez','A2_entrez'])['complex_union'].apply(list).apply(pd.Series).stack()\\\n",
    "                       .reset_index().drop(columns=['level_2']).rename(columns={0:'complex_id'}).astype({'complex_id':'int'})\n",
    "display(df[:2])\n",
    "\n",
    "# Merge with subunit scores - expands to multiple rows per (A1, A2, complex_id) tuple\n",
    "df = pd.merge(df, subunit_essentiality)\n",
    "assert(df.drop_duplicates(subset=['A1_entrez','A2_entrez']).shape[0] == sum(complex_membership.either_in_complex))\n",
    "display(df[:2])\n",
    "\n",
    "# Filter out sub-units that are either A1 or A2 before computing avg. essentiality of sub-units\n",
    "df = df[(df.A1_entrez != df.entrez_id) & (df.A2_entrez != df.entrez_id)].reset_index(drop=True)\n",
    "\n",
    "# Compute essentiality scores for each (A1, A2, complex) tuple\n",
    "def any_broadly(x): return np.sum(x > 0.9) > 0\n",
    "complex_essentiality = df.groupby(['A1_entrez','A2_entrez','complex_id'])\\\n",
    "                         .agg({'essential_percent':[any_broadly, 'mean'], 'avg_ceres_score':'mean'})\n",
    "\n",
    "complex_essentiality.columns = ['essential_complex', 'mean_essentiality', 'mean_ceres_score']\n",
    "complex_essentiality = complex_essentiality.reset_index()\n",
    "complex_essentiality[:2]"
   ]
  },
  {
   "cell_type": "code",
   "execution_count": 32,
   "metadata": {
    "tags": []
   },
   "outputs": [
    {
     "name": "stdout",
     "output_type": "stream",
     "text": [
      "N either in essential complex: 2487 / 7980\n",
      "N missing scores: 60\n"
     ]
    },
    {
     "data": {
      "text/html": [
       "<div>\n",
       "<style scoped>\n",
       "    .dataframe tbody tr th:only-of-type {\n",
       "        vertical-align: middle;\n",
       "    }\n",
       "\n",
       "    .dataframe tbody tr th {\n",
       "        vertical-align: top;\n",
       "    }\n",
       "\n",
       "    .dataframe thead th {\n",
       "        text-align: right;\n",
       "    }\n",
       "</style>\n",
       "<table border=\"1\" class=\"dataframe\">\n",
       "  <thead>\n",
       "    <tr style=\"text-align: right;\">\n",
       "      <th></th>\n",
       "      <th>A1_entrez</th>\n",
       "      <th>A2_entrez</th>\n",
       "      <th>either_in_essential_complex</th>\n",
       "      <th>mean_complex_essentiality</th>\n",
       "      <th>flag_missing_scores</th>\n",
       "    </tr>\n",
       "  </thead>\n",
       "  <tbody>\n",
       "    <tr>\n",
       "      <th>0</th>\n",
       "      <td>2</td>\n",
       "      <td>718</td>\n",
       "      <td>False</td>\n",
       "      <td>0.004551</td>\n",
       "      <td>False</td>\n",
       "    </tr>\n",
       "    <tr>\n",
       "      <th>1</th>\n",
       "      <td>2</td>\n",
       "      <td>720</td>\n",
       "      <td>False</td>\n",
       "      <td>0.009753</td>\n",
       "      <td>False</td>\n",
       "    </tr>\n",
       "  </tbody>\n",
       "</table>\n",
       "</div>"
      ],
      "text/plain": [
       "   A1_entrez  A2_entrez  either_in_essential_complex  \\\n",
       "0          2        718                        False   \n",
       "1          2        720                        False   \n",
       "\n",
       "   mean_complex_essentiality  flag_missing_scores  \n",
       "0                   0.004551                False  \n",
       "1                   0.009753                False  "
      ]
     },
     "execution_count": 32,
     "metadata": {},
     "output_type": "execute_result"
    }
   ],
   "source": [
    "# Compute essentiality scores for each (A1, A2) pair\n",
    "avg_complex_essentiality = complex_essentiality.groupby(['A1_entrez','A2_entrez']).agg({'essential_complex':'max', \n",
    "                                                                                         'mean_essentiality':'mean'})\n",
    "avg_complex_essentiality.columns = ['either_in_essential_complex', 'mean_complex_essentiality']\n",
    "avg_complex_essentiality = avg_complex_essentiality.reset_index()\n",
    "avg_complex_essentiality['flag_missing_scores'] = avg_complex_essentiality.mean_complex_essentiality.isna()\n",
    "    \n",
    "print('N either in essential complex:', sum(avg_complex_essentiality.either_in_essential_complex),'/',\n",
    "      avg_complex_essentiality.shape[0]) \n",
    "print('N missing scores:', avg_complex_essentiality[avg_complex_essentiality.flag_missing_scores].shape[0])\n",
    "avg_complex_essentiality[:2]"
   ]
  },
  {
   "cell_type": "markdown",
   "metadata": {},
   "source": [
    "### Export all protein complex features for paralog pairs"
   ]
  },
  {
   "cell_type": "code",
   "execution_count": 33,
   "metadata": {
    "tags": []
   },
   "outputs": [
    {
     "name": "stdout",
     "output_type": "stream",
     "text": [
      "Either in complex: 8060 / 36648\n",
      "Same complex: 402\n",
      "Either in essential complex: 2487\n",
      "Complex members without scores b/c of missing gene scores (CERES): 60\n"
     ]
    },
    {
     "data": {
      "text/html": [
       "<div>\n",
       "<style scoped>\n",
       "    .dataframe tbody tr th:only-of-type {\n",
       "        vertical-align: middle;\n",
       "    }\n",
       "\n",
       "    .dataframe tbody tr th {\n",
       "        vertical-align: top;\n",
       "    }\n",
       "\n",
       "    .dataframe thead th {\n",
       "        text-align: right;\n",
       "    }\n",
       "</style>\n",
       "<table border=\"1\" class=\"dataframe\">\n",
       "  <thead>\n",
       "    <tr style=\"text-align: right;\">\n",
       "      <th></th>\n",
       "      <th>A1_entrez</th>\n",
       "      <th>A2_entrez</th>\n",
       "      <th>either_in_complex</th>\n",
       "      <th>in_same_complex</th>\n",
       "      <th>either_in_essential_complex</th>\n",
       "      <th>mean_complex_essentiality</th>\n",
       "      <th>flag_missing_scores</th>\n",
       "    </tr>\n",
       "  </thead>\n",
       "  <tbody>\n",
       "    <tr>\n",
       "      <th>0</th>\n",
       "      <td>1</td>\n",
       "      <td>126014</td>\n",
       "      <td>False</td>\n",
       "      <td>False</td>\n",
       "      <td>False</td>\n",
       "      <td>NaN</td>\n",
       "      <td>False</td>\n",
       "    </tr>\n",
       "  </tbody>\n",
       "</table>\n",
       "</div>"
      ],
      "text/plain": [
       "   A1_entrez  A2_entrez  either_in_complex  in_same_complex  \\\n",
       "0          1     126014              False            False   \n",
       "\n",
       "   either_in_essential_complex  mean_complex_essentiality  flag_missing_scores  \n",
       "0                        False                        NaN                False  "
      ]
     },
     "execution_count": 33,
     "metadata": {},
     "output_type": "execute_result"
    }
   ],
   "source": [
    "# Merge with all pairs (NaNs for pairs not in any complexes)\n",
    "complex_features = pd.merge(\n",
    "    complex_membership[['A1_entrez', 'A2_entrez', 'either_in_complex', 'in_same_complex']], \n",
    "    avg_complex_essentiality, how='left')\n",
    "complex_features = complex_features.fillna({'either_in_essential_complex':False, 'flag_missing_scores':False})\n",
    "\n",
    "print('Either in complex:', sum(complex_features.either_in_complex),'/',complex_features.shape[0])\n",
    "print('Same complex:', sum(complex_features.in_same_complex))\n",
    "print('Either in essential complex:', sum(complex_features.either_in_essential_complex))\n",
    "\n",
    "print('Complex members without scores b/c of missing gene scores (CERES):', \n",
    "       complex_features[complex_features.flag_missing_scores].shape[0])\n",
    "\n",
    "assert(complex_features.shape[0] == pairs.shape[0])\n",
    "complex_features[:1]"
   ]
  },
  {
   "cell_type": "code",
   "execution_count": 20,
   "metadata": {},
   "outputs": [],
   "source": [
    "complex_features.to_csv(file_complex_features, index=0)"
   ]
  },
  {
   "cell_type": "markdown",
   "metadata": {},
   "source": [
    "### Complex membership and essentiality for ASF1A/ASF1B"
   ]
  },
  {
   "cell_type": "code",
   "execution_count": 28,
   "metadata": {},
   "outputs": [
    {
     "data": {
      "text/html": [
       "<div>\n",
       "<style scoped>\n",
       "    .dataframe tbody tr th:only-of-type {\n",
       "        vertical-align: middle;\n",
       "    }\n",
       "\n",
       "    .dataframe tbody tr th {\n",
       "        vertical-align: top;\n",
       "    }\n",
       "\n",
       "    .dataframe thead th {\n",
       "        text-align: right;\n",
       "    }\n",
       "</style>\n",
       "<table border=\"1\" class=\"dataframe\">\n",
       "  <thead>\n",
       "    <tr style=\"text-align: right;\">\n",
       "      <th></th>\n",
       "      <th>A1</th>\n",
       "      <th>A2</th>\n",
       "      <th>A1_entrez</th>\n",
       "      <th>A2_entrez</th>\n",
       "      <th>A1_complex_ids</th>\n",
       "      <th>A2_complex_ids</th>\n",
       "      <th>complex_intersection</th>\n",
       "      <th>complex_union</th>\n",
       "      <th>either_in_complex</th>\n",
       "      <th>in_same_complex</th>\n",
       "    </tr>\n",
       "  </thead>\n",
       "  <tbody>\n",
       "    <tr>\n",
       "      <th>0</th>\n",
       "      <td>ASF1A</td>\n",
       "      <td>ASF1B</td>\n",
       "      <td>25842</td>\n",
       "      <td>55723</td>\n",
       "      <td>{6149, 2235, 2236, 1149, 1150}</td>\n",
       "      <td>{2235, 2236, 1149, 1150}</td>\n",
       "      <td>{2235, 2236, 1149, 1150}</td>\n",
       "      <td>{6149, 2235, 2236, 1149, 1150}</td>\n",
       "      <td>True</td>\n",
       "      <td>True</td>\n",
       "    </tr>\n",
       "  </tbody>\n",
       "</table>\n",
       "</div>"
      ],
      "text/plain": [
       "      A1     A2  A1_entrez  A2_entrez                  A1_complex_ids  \\\n",
       "0  ASF1A  ASF1B      25842      55723  {6149, 2235, 2236, 1149, 1150}   \n",
       "\n",
       "             A2_complex_ids      complex_intersection  \\\n",
       "0  {2235, 2236, 1149, 1150}  {2235, 2236, 1149, 1150}   \n",
       "\n",
       "                    complex_union  either_in_complex  in_same_complex  \n",
       "0  {6149, 2235, 2236, 1149, 1150}               True             True  "
      ]
     },
     "metadata": {},
     "output_type": "display_data"
    },
    {
     "data": {
      "text/html": [
       "<div>\n",
       "<style scoped>\n",
       "    .dataframe tbody tr th:only-of-type {\n",
       "        vertical-align: middle;\n",
       "    }\n",
       "\n",
       "    .dataframe tbody tr th {\n",
       "        vertical-align: top;\n",
       "    }\n",
       "\n",
       "    .dataframe thead th {\n",
       "        text-align: right;\n",
       "    }\n",
       "</style>\n",
       "<table border=\"1\" class=\"dataframe\">\n",
       "  <thead>\n",
       "    <tr style=\"text-align: right;\">\n",
       "      <th></th>\n",
       "      <th>A1</th>\n",
       "      <th>A2</th>\n",
       "      <th>A1_entrez</th>\n",
       "      <th>A2_entrez</th>\n",
       "      <th>complex_id</th>\n",
       "      <th>essential_complex</th>\n",
       "      <th>mean_essentiality</th>\n",
       "      <th>mean_ceres_score</th>\n",
       "      <th>n_subunits</th>\n",
       "    </tr>\n",
       "  </thead>\n",
       "  <tbody>\n",
       "    <tr>\n",
       "      <th>0</th>\n",
       "      <td>ASF1A</td>\n",
       "      <td>ASF1B</td>\n",
       "      <td>25842</td>\n",
       "      <td>55723</td>\n",
       "      <td>1149</td>\n",
       "      <td>True</td>\n",
       "      <td>0.553316</td>\n",
       "      <td>-0.810206</td>\n",
       "      <td>8</td>\n",
       "    </tr>\n",
       "    <tr>\n",
       "      <th>1</th>\n",
       "      <td>ASF1A</td>\n",
       "      <td>ASF1B</td>\n",
       "      <td>25842</td>\n",
       "      <td>55723</td>\n",
       "      <td>1150</td>\n",
       "      <td>True</td>\n",
       "      <td>0.439012</td>\n",
       "      <td>-0.530151</td>\n",
       "      <td>7</td>\n",
       "    </tr>\n",
       "    <tr>\n",
       "      <th>2</th>\n",
       "      <td>ASF1A</td>\n",
       "      <td>ASF1B</td>\n",
       "      <td>25842</td>\n",
       "      <td>55723</td>\n",
       "      <td>2235</td>\n",
       "      <td>True</td>\n",
       "      <td>0.957521</td>\n",
       "      <td>-1.361864</td>\n",
       "      <td>5</td>\n",
       "    </tr>\n",
       "    <tr>\n",
       "      <th>3</th>\n",
       "      <td>ASF1A</td>\n",
       "      <td>ASF1B</td>\n",
       "      <td>25842</td>\n",
       "      <td>55723</td>\n",
       "      <td>2236</td>\n",
       "      <td>True</td>\n",
       "      <td>0.355332</td>\n",
       "      <td>-0.641094</td>\n",
       "      <td>6</td>\n",
       "    </tr>\n",
       "    <tr>\n",
       "      <th>4</th>\n",
       "      <td>ASF1A</td>\n",
       "      <td>ASF1B</td>\n",
       "      <td>25842</td>\n",
       "      <td>55723</td>\n",
       "      <td>6149</td>\n",
       "      <td>False</td>\n",
       "      <td>0.425228</td>\n",
       "      <td>-0.631730</td>\n",
       "      <td>3</td>\n",
       "    </tr>\n",
       "  </tbody>\n",
       "</table>\n",
       "</div>"
      ],
      "text/plain": [
       "      A1     A2  A1_entrez  A2_entrez  complex_id  essential_complex  \\\n",
       "0  ASF1A  ASF1B      25842      55723        1149               True   \n",
       "1  ASF1A  ASF1B      25842      55723        1150               True   \n",
       "2  ASF1A  ASF1B      25842      55723        2235               True   \n",
       "3  ASF1A  ASF1B      25842      55723        2236               True   \n",
       "4  ASF1A  ASF1B      25842      55723        6149              False   \n",
       "\n",
       "   mean_essentiality  mean_ceres_score  n_subunits  \n",
       "0           0.553316         -0.810206           8  \n",
       "1           0.439012         -0.530151           7  \n",
       "2           0.957521         -1.361864           5  \n",
       "3           0.355332         -0.641094           6  \n",
       "4           0.425228         -0.631730           3  "
      ]
     },
     "metadata": {},
     "output_type": "display_data"
    }
   ],
   "source": [
    "display(pd.merge(pairs[(pairs.A1=='ASF1A') & (pairs.A2=='ASF1B')], complex_membership))\n",
    "display(pd.merge(pd.merge(pairs[(pairs.A1=='ASF1A') & (pairs.A2=='ASF1B')], complex_essentiality),\n",
    "                 complex_map.groupby('complex_id').count().rename(columns={'entrez_id':'n_subunits'}).reset_index()))"
   ]
  },
  {
   "cell_type": "markdown",
   "metadata": {},
   "source": [
    "### Distribution"
   ]
  },
  {
   "cell_type": "code",
   "execution_count": 9,
   "metadata": {},
   "outputs": [],
   "source": [
    "complex_features = pd.read_csv(file_complex_features)"
   ]
  },
  {
   "cell_type": "code",
   "execution_count": 26,
   "metadata": {},
   "outputs": [
    {
     "data": {
      "text/plain": [
       "<AxesSubplot:xlabel='mean_complex_essentiality'>"
      ]
     },
     "execution_count": 26,
     "metadata": {},
     "output_type": "execute_result"
    },
    {
     "data": {
      "image/png": "[encoded data removed]",
      "text/plain": [
       "<Figure size 288x180 with 1 Axes>"
      ]
     },
     "metadata": {
      "needs_background": "light"
     },
     "output_type": "display_data"
    }
   ],
   "source": [
    "f, ax = plt.subplots(1, 1, figsize=(4,2.5))\n",
    "sns.distplot(complex_features.mean_complex_essentiality.dropna(), kde=False)"
   ]
  }
 ],
 "metadata": {
  "kernelspec": {
   "display_name": "Python 3.7.9 64-bit ('paralogSL': conda)",
   "language": "python",
   "name": "python37964bitparalogslconda0f0e77de73d34c52b743edfe8868363d"
  },
  "language_info": {
   "codemirror_mode": {
    "name": "ipython",
    "version": 3
   },
   "file_extension": ".py",
   "mimetype": "text/x-python",
   "name": "python",
   "nbconvert_exporter": "python",
   "pygments_lexer": "ipython3",
   "version": "3.7.1"
  }
 },
 "nbformat": 4,
 "nbformat_minor": 2
}
