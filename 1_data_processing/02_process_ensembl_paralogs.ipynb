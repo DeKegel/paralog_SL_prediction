{
 "cells": [
  {
   "cell_type": "markdown",
   "metadata": {},
   "source": [
    "## Obtain protein-coding paralog pairs set from Ensembl v.93\n",
    "\n",
    "**Input:** \n",
    "- Ensembl list of paralogs\n",
    "- Gene CDS length from Ensembl\n",
    "- WGD data\n",
    "- processed HGNC annotations\n",
    "\n",
    "**Output:** All protein coding paralog pairs with some basic annotations - SORTED ON A1, A2\n",
    "\n",
    "Ensembl release 93: http://jul2018.archive.ensembl.org/index.html\n",
    "\n",
    "Notes:  \n",
    "- ENSEMBL paralog data is listed as symmetric paralog pairs.\n",
    "- The sequence identity of a paralog pair is not symmetric because the paralogs may have different lengths. \n",
    "\n",
    "Ensembl Filters: \n",
    "- Paralogous Human Genes: Only\n",
    "- Gene type: protein_coding"
   ]
  },
  {
   "cell_type": "code",
   "execution_count": 2,
   "metadata": {},
   "outputs": [],
   "source": [
    "import pandas as pd\n",
    "import numpy as np\n",
    "import scipy.stats as stats\n",
    "import networkx as nx\n",
    "import os\n",
    "import re\n",
    "import seaborn as sns\n",
    "import matplotlib.pyplot as plt\n",
    "import matplotlib as mpl\n",
    "\n",
    "get_data_path = lambda folders, fname: os.path.normpath(os.environ['3RD_PARTY_DIR']+'/'+'/'.join(folders) +'/'+ fname)\n",
    "get_local_data_path = lambda folders, fname: os.path.normpath('../local_data/' +'/'.join(folders) +'/'+ fname)\n",
    "\n",
    "ensembl_version = '93'\n",
    "\n",
    "# Inputs\n",
    "file_ensembl_data = get_data_path(['ensembl', ensembl_version], 'paralog_pairs.txt')\n",
    "file_cds_length = get_data_path(['ensembl', ensembl_version], 'gene_cds_length.txt')\n",
    "file_singh_wgds = get_data_path(['WGD_sources','singh_2019'], 'hsapiens.Pairs.Strict.2R.txt')\n",
    "file_makino_wgds = get_data_path(['WGD_sources'], 'makino_2010_ohnologs.xls')\n",
    "file_id_map = get_local_data_path(['processed'], 'HGNC_gene_id_map.csv')\n",
    "\n",
    "# Outputs\n",
    "file_all_pairs = get_local_data_path(['processed', 'ensembl'+ensembl_version], 'all_pairs.csv')\n",
    "file_unique_pairs = get_local_data_path(['processed', 'ensembl'+ensembl_version], 'unique_pairs.csv')"
   ]
  },
  {
   "cell_type": "markdown",
   "metadata": {},
   "source": [
    "### Protein-coding paralog pairs w/ sequence identity"
   ]
  },
  {
   "cell_type": "code",
   "execution_count": 3,
   "metadata": {},
   "outputs": [
    {
     "data": {
      "text/html": [
       "<div>\n",
       "<style scoped>\n",
       "    .dataframe tbody tr th:only-of-type {\n",
       "        vertical-align: middle;\n",
       "    }\n",
       "\n",
       "    .dataframe tbody tr th {\n",
       "        vertical-align: top;\n",
       "    }\n",
       "\n",
       "    .dataframe thead th {\n",
       "        text-align: right;\n",
       "    }\n",
       "</style>\n",
       "<table border=\"1\" class=\"dataframe\">\n",
       "  <thead>\n",
       "    <tr style=\"text-align: right;\">\n",
       "      <th></th>\n",
       "      <th>Gene stable ID</th>\n",
       "      <th>Human paralogue gene stable ID</th>\n",
       "      <th>Paralogue %id. target Human gene identical to query gene</th>\n",
       "      <th>Paralogue last common ancestor with Human</th>\n",
       "    </tr>\n",
       "  </thead>\n",
       "  <tbody>\n",
       "    <tr>\n",
       "      <th>0</th>\n",
       "      <td>ENSG00000276256</td>\n",
       "      <td>ENSG00000278198</td>\n",
       "      <td>83.3333</td>\n",
       "      <td>Homininae</td>\n",
       "    </tr>\n",
       "  </tbody>\n",
       "</table>\n",
       "</div>"
      ],
      "text/plain": [
       "    Gene stable ID Human paralogue gene stable ID  \\\n",
       "0  ENSG00000276256                ENSG00000278198   \n",
       "\n",
       "   Paralogue %id. target Human gene identical to query gene  \\\n",
       "0                                            83.3333          \n",
       "\n",
       "  Paralogue last common ancestor with Human  \n",
       "0                                 Homininae  "
      ]
     },
     "execution_count": 3,
     "metadata": {},
     "output_type": "execute_result"
    }
   ],
   "source": [
    "raw_data = pd.read_csv(file_ensembl_data)\n",
    "raw_data[:1]"
   ]
  },
  {
   "cell_type": "code",
   "execution_count": 4,
   "metadata": {
    "tags": []
   },
   "outputs": [
    {
     "name": "stdout",
     "output_type": "stream",
     "text": [
      "N: 91190\n"
     ]
    },
    {
     "data": {
      "text/html": [
       "<div>\n",
       "<style scoped>\n",
       "    .dataframe tbody tr th:only-of-type {\n",
       "        vertical-align: middle;\n",
       "    }\n",
       "\n",
       "    .dataframe tbody tr th {\n",
       "        vertical-align: top;\n",
       "    }\n",
       "\n",
       "    .dataframe thead th {\n",
       "        text-align: right;\n",
       "    }\n",
       "</style>\n",
       "<table border=\"1\" class=\"dataframe\">\n",
       "  <thead>\n",
       "    <tr style=\"text-align: right;\">\n",
       "      <th></th>\n",
       "      <th>A1_ensembl</th>\n",
       "      <th>A2_ensembl</th>\n",
       "      <th>sequence_identity</th>\n",
       "    </tr>\n",
       "  </thead>\n",
       "  <tbody>\n",
       "    <tr>\n",
       "      <th>0</th>\n",
       "      <td>ENSG00000276256</td>\n",
       "      <td>ENSG00000278198</td>\n",
       "      <td>0.833333</td>\n",
       "    </tr>\n",
       "    <tr>\n",
       "      <th>1</th>\n",
       "      <td>ENSG00000276256</td>\n",
       "      <td>ENSG00000273496</td>\n",
       "      <td>0.833333</td>\n",
       "    </tr>\n",
       "  </tbody>\n",
       "</table>\n",
       "</div>"
      ],
      "text/plain": [
       "        A1_ensembl       A2_ensembl  sequence_identity\n",
       "0  ENSG00000276256  ENSG00000278198           0.833333\n",
       "1  ENSG00000276256  ENSG00000273496           0.833333"
      ]
     },
     "execution_count": 4,
     "metadata": {},
     "output_type": "execute_result"
    }
   ],
   "source": [
    "# Clean up column names\n",
    "data = raw_data.rename(columns={\n",
    "    'Gene stable ID': 'A1_ensembl',\n",
    "    'Human paralogue gene stable ID': 'A2_ensembl',\n",
    "    'Paralogue %id. target Human gene identical to query gene': 'sequence_identity'\n",
    "})\n",
    "data = data[['A1_ensembl','A2_ensembl', 'sequence_identity']].drop_duplicates().reset_index(drop=True)\n",
    "data.sequence_identity = data.sequence_identity / 100\n",
    "\n",
    "# Drop non-symmetric pairs - i.e. cases where A2 is non-protein-coding in Ensembl\n",
    "data = data[data.A2_ensembl.isin(data.A1_ensembl)].reset_index(drop=True)\n",
    "\n",
    "print('N:', data.shape[0])\n",
    "data[:2]"
   ]
  },
  {
   "cell_type": "markdown",
   "metadata": {},
   "source": [
    "#### Filter on protein-coding"
   ]
  },
  {
   "cell_type": "code",
   "execution_count": 5,
   "metadata": {
    "tags": []
   },
   "outputs": [
    {
     "name": "stdout",
     "output_type": "stream",
     "text": [
      "N pairs in HGNC: 86918\n"
     ]
    },
    {
     "data": {
      "text/html": [
       "<div>\n",
       "<style scoped>\n",
       "    .dataframe tbody tr th:only-of-type {\n",
       "        vertical-align: middle;\n",
       "    }\n",
       "\n",
       "    .dataframe tbody tr th {\n",
       "        vertical-align: top;\n",
       "    }\n",
       "\n",
       "    .dataframe thead th {\n",
       "        text-align: right;\n",
       "    }\n",
       "</style>\n",
       "<table border=\"1\" class=\"dataframe\">\n",
       "  <thead>\n",
       "    <tr style=\"text-align: right;\">\n",
       "      <th></th>\n",
       "      <th>A1_ensembl</th>\n",
       "      <th>A2_ensembl</th>\n",
       "      <th>sequence_identity</th>\n",
       "      <th>locus_type_x</th>\n",
       "      <th>locus_type_y</th>\n",
       "    </tr>\n",
       "  </thead>\n",
       "  <tbody>\n",
       "    <tr>\n",
       "      <th>0</th>\n",
       "      <td>ENSG00000274847</td>\n",
       "      <td>ENSG00000163060</td>\n",
       "      <td>0.79845</td>\n",
       "      <td>pseudogene</td>\n",
       "      <td>gene with protein product</td>\n",
       "    </tr>\n",
       "  </tbody>\n",
       "</table>\n",
       "</div>"
      ],
      "text/plain": [
       "        A1_ensembl       A2_ensembl  sequence_identity locus_type_x  \\\n",
       "0  ENSG00000274847  ENSG00000163060            0.79845   pseudogene   \n",
       "\n",
       "                locus_type_y  \n",
       "0  gene with protein product  "
      ]
     },
     "metadata": {},
     "output_type": "display_data"
    },
    {
     "name": "stdout",
     "output_type": "stream",
     "text": [
      "N pairs HGNC coding (symmetric): 83404\n",
      "Protein coding genes w/ a paralog in Ensembl: 13663\n"
     ]
    },
    {
     "data": {
      "text/html": [
       "<div>\n",
       "<style scoped>\n",
       "    .dataframe tbody tr th:only-of-type {\n",
       "        vertical-align: middle;\n",
       "    }\n",
       "\n",
       "    .dataframe tbody tr th {\n",
       "        vertical-align: top;\n",
       "    }\n",
       "\n",
       "    .dataframe thead th {\n",
       "        text-align: right;\n",
       "    }\n",
       "</style>\n",
       "<table border=\"1\" class=\"dataframe\">\n",
       "  <thead>\n",
       "    <tr style=\"text-align: right;\">\n",
       "      <th></th>\n",
       "      <th>A1_ensembl</th>\n",
       "      <th>A2_ensembl</th>\n",
       "      <th>sequence_identity</th>\n",
       "    </tr>\n",
       "  </thead>\n",
       "  <tbody>\n",
       "    <tr>\n",
       "      <th>0</th>\n",
       "      <td>ENSG00000092850</td>\n",
       "      <td>ENSG00000163060</td>\n",
       "      <td>0.293023</td>\n",
       "    </tr>\n",
       "  </tbody>\n",
       "</table>\n",
       "</div>"
      ],
      "text/plain": [
       "        A1_ensembl       A2_ensembl  sequence_identity\n",
       "0  ENSG00000092850  ENSG00000163060           0.293023"
      ]
     },
     "metadata": {},
     "output_type": "display_data"
    }
   ],
   "source": [
    "# Annotate with HGNC locus type - merge on Ensembl ID\n",
    "id_map = pd.read_csv(file_id_map).dropna(subset=['ensembl_id'])[['locus_type', 'ensembl_id']]\n",
    "df = pd.merge(data, id_map.rename(columns={'ensembl_id':'A1_ensembl'}), on=['A1_ensembl'])\n",
    "df = pd.merge(df, id_map.rename(columns={'ensembl_id':'A2_ensembl'}), on=['A2_ensembl'])\n",
    "print('N pairs in HGNC:', df.shape[0])\n",
    "display(df[:1])\n",
    "\n",
    "# Only keep pairs where A1 and A2 are both protein-coding in HGNC\n",
    "coding_pairs = df[(df.locus_type_x == 'gene with protein product') & (df.locus_type_y == 'gene with protein product')]\n",
    "coding_pairs = coding_pairs.drop(columns=['locus_type_x', 'locus_type_y']).drop_duplicates().reset_index(drop=True)\n",
    "print('N pairs HGNC coding (symmetric):', coding_pairs.shape[0])\n",
    "print('Protein coding genes w/ a paralog in Ensembl:', coding_pairs.A1_ensembl.nunique())\n",
    "display(coding_pairs[:1])"
   ]
  },
  {
   "cell_type": "markdown",
   "metadata": {},
   "source": [
    "#### Filter on sequence identity"
   ]
  },
  {
   "cell_type": "code",
   "execution_count": 6,
   "metadata": {
    "tags": []
   },
   "outputs": [
    {
     "name": "stdout",
     "output_type": "stream",
     "text": [
      "Protein coding pairs w/ >=20% sequence identity (unique): 36648\n"
     ]
    },
    {
     "data": {
      "text/html": [
       "<div>\n",
       "<style scoped>\n",
       "    .dataframe tbody tr th:only-of-type {\n",
       "        vertical-align: middle;\n",
       "    }\n",
       "\n",
       "    .dataframe tbody tr th {\n",
       "        vertical-align: top;\n",
       "    }\n",
       "\n",
       "    .dataframe thead th {\n",
       "        text-align: right;\n",
       "    }\n",
       "</style>\n",
       "<table border=\"1\" class=\"dataframe\">\n",
       "  <thead>\n",
       "    <tr style=\"text-align: right;\">\n",
       "      <th></th>\n",
       "      <th>A1_ensembl</th>\n",
       "      <th>A2_ensembl</th>\n",
       "      <th>sequence_identity</th>\n",
       "      <th>min_seq_id</th>\n",
       "      <th>max_seq_id</th>\n",
       "    </tr>\n",
       "  </thead>\n",
       "  <tbody>\n",
       "    <tr>\n",
       "      <th>0</th>\n",
       "      <td>ENSG00000092850</td>\n",
       "      <td>ENSG00000163060</td>\n",
       "      <td>0.293023</td>\n",
       "      <td>0.289655</td>\n",
       "      <td>0.293023</td>\n",
       "    </tr>\n",
       "  </tbody>\n",
       "</table>\n",
       "</div>"
      ],
      "text/plain": [
       "        A1_ensembl       A2_ensembl  sequence_identity  min_seq_id  max_seq_id\n",
       "0  ENSG00000092850  ENSG00000163060           0.293023    0.289655    0.293023"
      ]
     },
     "metadata": {},
     "output_type": "display_data"
    }
   ],
   "source": [
    "# Sort coding pairs ids to determine min/max sequence identity\n",
    "sorted_pairs = pd.concat([pd.DataFrame(np.sort(coding_pairs[['A1_ensembl','A2_ensembl']]), columns=['A1_sorted','A2_sorted']), \n",
    "                          coding_pairs[['A1_ensembl','A2_ensembl','sequence_identity']]], axis=1)\n",
    "# Expect each pair to be in the list twice\n",
    "assert(sorted_pairs.duplicated(subset=['A1_sorted','A2_sorted']).sum() * 2 == coding_pairs.shape[0])\n",
    "\n",
    "# Get min/max sequence identity for each pair\n",
    "sorted_pairs['min_seq_id'] = sorted_pairs.groupby(['A1_sorted','A2_sorted']).sequence_identity.transform('min')\n",
    "sorted_pairs['max_seq_id'] = sorted_pairs.groupby(['A1_sorted','A2_sorted']).sequence_identity.transform('max')\n",
    "\n",
    "# Drop pairs with max_seq_id < 20%\n",
    "sorted_pairs_min20 = sorted_pairs[sorted_pairs.max_seq_id>=0.2].reset_index(drop=True)\n",
    "\n",
    "print('Protein coding pairs w/ >=20% sequence identity (unique):', \n",
    "      sorted_pairs_min20.drop_duplicates(subset=['A1_sorted','A2_sorted']).shape[0])\n",
    "\n",
    "# Go back to full (symmetric) list\n",
    "all_pairs = sorted_pairs_min20.drop(columns=['A1_sorted','A2_sorted'])\n",
    "display(all_pairs[:1])"
   ]
  },
  {
   "cell_type": "markdown",
   "metadata": {},
   "source": [
    "### Add annotations"
   ]
  },
  {
   "cell_type": "markdown",
   "metadata": {},
   "source": [
    "#### 1. Duplication mode - union of WGDs from two sources"
   ]
  },
  {
   "cell_type": "code",
   "execution_count": 7,
   "metadata": {
    "tags": []
   },
   "outputs": [
    {
     "data": {
      "text/html": [
       "<div>\n",
       "<style scoped>\n",
       "    .dataframe tbody tr th:only-of-type {\n",
       "        vertical-align: middle;\n",
       "    }\n",
       "\n",
       "    .dataframe tbody tr th {\n",
       "        vertical-align: top;\n",
       "    }\n",
       "\n",
       "    .dataframe thead th {\n",
       "        text-align: right;\n",
       "    }\n",
       "</style>\n",
       "<table border=\"1\" class=\"dataframe\">\n",
       "  <thead>\n",
       "    <tr style=\"text-align: right;\">\n",
       "      <th></th>\n",
       "      <th>Ohno1</th>\n",
       "      <th>Ohno2</th>\n",
       "      <th>Symbol1</th>\n",
       "      <th>Symbol2</th>\n",
       "      <th>Og weighted global mean</th>\n",
       "      <th>Self weighted global mean</th>\n",
       "      <th>Outgroup Support</th>\n",
       "      <th>Duplication time</th>\n",
       "      <th>Gene type</th>\n",
       "    </tr>\n",
       "  </thead>\n",
       "  <tbody>\n",
       "    <tr>\n",
       "      <th>0</th>\n",
       "      <td>ENSG00000164236</td>\n",
       "      <td>ENSG00000167612</td>\n",
       "      <td>ANKRD33B</td>\n",
       "      <td>ANKRD33</td>\n",
       "      <td>0.000159</td>\n",
       "      <td>1.329170e-08</td>\n",
       "      <td>2.0</td>\n",
       "      <td>Vertebrata</td>\n",
       "      <td>protein_coding</td>\n",
       "    </tr>\n",
       "  </tbody>\n",
       "</table>\n",
       "</div>"
      ],
      "text/plain": [
       "             Ohno1            Ohno2   Symbol1  Symbol2  \\\n",
       "0  ENSG00000164236  ENSG00000167612  ANKRD33B  ANKRD33   \n",
       "\n",
       "   Og weighted global mean  Self weighted global mean  Outgroup Support  \\\n",
       "0                 0.000159               1.329170e-08               2.0   \n",
       "\n",
       "  Duplication time       Gene type  \n",
       "0       Vertebrata  protein_coding  "
      ]
     },
     "metadata": {},
     "output_type": "display_data"
    },
    {
     "name": "stdout",
     "output_type": "stream",
     "text": [
      "N Singh WGDs: 4254\n"
     ]
    },
    {
     "data": {
      "text/html": [
       "<div>\n",
       "<style scoped>\n",
       "    .dataframe tbody tr th:only-of-type {\n",
       "        vertical-align: middle;\n",
       "    }\n",
       "\n",
       "    .dataframe tbody tr th {\n",
       "        vertical-align: top;\n",
       "    }\n",
       "\n",
       "    .dataframe thead th {\n",
       "        text-align: right;\n",
       "    }\n",
       "</style>\n",
       "<table border=\"1\" class=\"dataframe\">\n",
       "  <thead>\n",
       "    <tr style=\"text-align: right;\">\n",
       "      <th></th>\n",
       "      <th>A1_ensembl</th>\n",
       "      <th>A2_ensembl</th>\n",
       "    </tr>\n",
       "  </thead>\n",
       "  <tbody>\n",
       "    <tr>\n",
       "      <th>0</th>\n",
       "      <td>ENSG00000164236</td>\n",
       "      <td>ENSG00000167612</td>\n",
       "    </tr>\n",
       "  </tbody>\n",
       "</table>\n",
       "</div>"
      ],
      "text/plain": [
       "        A1_ensembl       A2_ensembl\n",
       "0  ENSG00000164236  ENSG00000167612"
      ]
     },
     "metadata": {},
     "output_type": "display_data"
    }
   ],
   "source": [
    "singh_wgd_raw = pd.read_csv(file_singh_wgds, sep='\\t')\n",
    "display(singh_wgd_raw[:1])\n",
    "\n",
    "# Make list symmetric for merging with all pairs\n",
    "singh_wgd = pd.DataFrame(np.sort(singh_wgd_raw[['Ohno1', 'Ohno2']]), columns=['Ohno1','Ohno2']).drop_duplicates()\n",
    "print('N Singh WGDs:', singh_wgd.shape[0])\n",
    "singh_wgd = pd.concat([singh_wgd, singh_wgd.rename(columns={'Ohno1':'Ohno2','Ohno2':'Ohno1'})])\n",
    "singh_wgd = singh_wgd.rename(columns={'Ohno1':'A1_ensembl', 'Ohno2':'A2_ensembl'})\n",
    "display(singh_wgd[:1])"
   ]
  },
  {
   "cell_type": "code",
   "execution_count": 8,
   "metadata": {
    "tags": []
   },
   "outputs": [
    {
     "data": {
      "text/html": [
       "<div>\n",
       "<style scoped>\n",
       "    .dataframe tbody tr th:only-of-type {\n",
       "        vertical-align: middle;\n",
       "    }\n",
       "\n",
       "    .dataframe tbody tr th {\n",
       "        vertical-align: top;\n",
       "    }\n",
       "\n",
       "    .dataframe thead th {\n",
       "        text-align: right;\n",
       "    }\n",
       "</style>\n",
       "<table border=\"1\" class=\"dataframe\">\n",
       "  <thead>\n",
       "    <tr style=\"text-align: right;\">\n",
       "      <th></th>\n",
       "      <th>Ohnolog1</th>\n",
       "      <th>chr_ohno1</th>\n",
       "      <th>Position1</th>\n",
       "      <th>Ohnolog2</th>\n",
       "      <th>chr_ohno2</th>\n",
       "      <th>Position2</th>\n",
       "      <th>C_int</th>\n",
       "      <th>C_sav</th>\n",
       "      <th>Amphi</th>\n",
       "      <th>Sea_u</th>\n",
       "      <th>Fly</th>\n",
       "      <th>Worm</th>\n",
       "    </tr>\n",
       "  </thead>\n",
       "  <tbody>\n",
       "    <tr>\n",
       "      <th>0</th>\n",
       "      <td>ENSG00000130762</td>\n",
       "      <td>1</td>\n",
       "      <td>3361100</td>\n",
       "      <td>ENSG00000142632</td>\n",
       "      <td>1</td>\n",
       "      <td>16411691</td>\n",
       "      <td>None</td>\n",
       "      <td>None</td>\n",
       "      <td>None</td>\n",
       "      <td>Ohno</td>\n",
       "      <td>Ohno</td>\n",
       "      <td>None</td>\n",
       "    </tr>\n",
       "  </tbody>\n",
       "</table>\n",
       "</div>"
      ],
      "text/plain": [
       "          Ohnolog1 chr_ohno1  Position1         Ohnolog2 chr_ohno2  Position2  \\\n",
       "0  ENSG00000130762         1    3361100  ENSG00000142632         1   16411691   \n",
       "\n",
       "  C_int C_sav Amphi Sea_u   Fly  Worm  \n",
       "0  None  None  None  Ohno  Ohno  None  "
      ]
     },
     "metadata": {},
     "output_type": "display_data"
    },
    {
     "name": "stdout",
     "output_type": "stream",
     "text": [
      "N Makino WGDs: 9057\n"
     ]
    },
    {
     "data": {
      "text/html": [
       "<div>\n",
       "<style scoped>\n",
       "    .dataframe tbody tr th:only-of-type {\n",
       "        vertical-align: middle;\n",
       "    }\n",
       "\n",
       "    .dataframe tbody tr th {\n",
       "        vertical-align: top;\n",
       "    }\n",
       "\n",
       "    .dataframe thead th {\n",
       "        text-align: right;\n",
       "    }\n",
       "</style>\n",
       "<table border=\"1\" class=\"dataframe\">\n",
       "  <thead>\n",
       "    <tr style=\"text-align: right;\">\n",
       "      <th></th>\n",
       "      <th>A1_ensembl</th>\n",
       "      <th>A2_ensembl</th>\n",
       "    </tr>\n",
       "  </thead>\n",
       "  <tbody>\n",
       "    <tr>\n",
       "      <th>0</th>\n",
       "      <td>ENSG00000130762</td>\n",
       "      <td>ENSG00000142632</td>\n",
       "    </tr>\n",
       "  </tbody>\n",
       "</table>\n",
       "</div>"
      ],
      "text/plain": [
       "        A1_ensembl       A2_ensembl\n",
       "0  ENSG00000130762  ENSG00000142632"
      ]
     },
     "metadata": {},
     "output_type": "display_data"
    }
   ],
   "source": [
    "makino_wgd_raw = pd.read_excel(file_makino_wgds, skiprows=1, skipfooter=3, sheet_name='Table S7')\n",
    "display(makino_wgd_raw[:1])\n",
    "makino_wgd = makino_wgd_raw.rename(columns={'Ohnolog1':'Ohno1','Ohnolog2':'Ohno2'})\n",
    "\n",
    "# Make list symmetric for merging with all pairs\n",
    "makino_wgd = pd.DataFrame(np.sort(makino_wgd[['Ohno1', 'Ohno2']]), columns=['Ohno1', 'Ohno2']).drop_duplicates()\n",
    "print('N Makino WGDs:', makino_wgd.shape[0])\n",
    "makino_wgd = pd.concat([makino_wgd, makino_wgd.rename(columns={'Ohno1':'Ohno2','Ohno2':'Ohno1'})])\n",
    "makino_wgd = makino_wgd.rename(columns={'Ohno1':'A1_ensembl', 'Ohno2':'A2_ensembl'})\n",
    "display(makino_wgd[:1])"
   ]
  },
  {
   "cell_type": "code",
   "execution_count": 9,
   "metadata": {},
   "outputs": [
    {
     "name": "stdout",
     "output_type": "stream",
     "text": [
      "N Singh WGD: 3895\n",
      "N Makino WGD: 6117\n",
      "N either WGD: 7036\n"
     ]
    },
    {
     "data": {
      "text/html": [
       "<div>\n",
       "<style scoped>\n",
       "    .dataframe tbody tr th:only-of-type {\n",
       "        vertical-align: middle;\n",
       "    }\n",
       "\n",
       "    .dataframe tbody tr th {\n",
       "        vertical-align: top;\n",
       "    }\n",
       "\n",
       "    .dataframe thead th {\n",
       "        text-align: right;\n",
       "    }\n",
       "</style>\n",
       "<table border=\"1\" class=\"dataframe\">\n",
       "  <thead>\n",
       "    <tr style=\"text-align: right;\">\n",
       "      <th></th>\n",
       "      <th>A1_ensembl</th>\n",
       "      <th>A2_ensembl</th>\n",
       "      <th>sequence_identity</th>\n",
       "      <th>min_seq_id</th>\n",
       "      <th>max_seq_id</th>\n",
       "      <th>singh_wgd</th>\n",
       "      <th>makino_wgd</th>\n",
       "      <th>WGD</th>\n",
       "    </tr>\n",
       "  </thead>\n",
       "  <tbody>\n",
       "    <tr>\n",
       "      <th>0</th>\n",
       "      <td>ENSG00000092850</td>\n",
       "      <td>ENSG00000163060</td>\n",
       "      <td>0.293023</td>\n",
       "      <td>0.289655</td>\n",
       "      <td>0.293023</td>\n",
       "      <td>False</td>\n",
       "      <td>True</td>\n",
       "      <td>True</td>\n",
       "    </tr>\n",
       "  </tbody>\n",
       "</table>\n",
       "</div>"
      ],
      "text/plain": [
       "        A1_ensembl       A2_ensembl  sequence_identity  min_seq_id  \\\n",
       "0  ENSG00000092850  ENSG00000163060           0.293023    0.289655   \n",
       "\n",
       "   max_seq_id  singh_wgd  makino_wgd   WGD  \n",
       "0    0.293023      False        True  True  "
      ]
     },
     "execution_count": 9,
     "metadata": {},
     "output_type": "execute_result"
    }
   ],
   "source": [
    "# Merge both WGD sets with all pairs\n",
    "pairs_annot = pd.merge(all_pairs, singh_wgd, how='left', indicator='singh_wgd')\n",
    "pairs_annot = pd.merge(pairs_annot, makino_wgd, how='left', indicator='makino_wgd')\n",
    "pairs_annot.singh_wgd = pairs_annot.singh_wgd=='both'\n",
    "pairs_annot.makino_wgd = pairs_annot.makino_wgd == 'both'\n",
    "pairs_annot['WGD'] = (pairs_annot.singh_wgd | pairs_annot.makino_wgd)\n",
    "\n",
    "print('N Singh WGD:', int(pairs_annot[pairs_annot.singh_wgd].shape[0]/2))\n",
    "print('N Makino WGD:', int(pairs_annot[pairs_annot.makino_wgd].shape[0]/2))\n",
    "print('N either WGD:', int(pairs_annot[pairs_annot.WGD].shape[0]/2))\n",
    "pairs_annot[:1]"
   ]
  },
  {
   "cell_type": "markdown",
   "metadata": {},
   "source": [
    "#### 2. Location (Chromosome)"
   ]
  },
  {
   "cell_type": "code",
   "execution_count": 10,
   "metadata": {},
   "outputs": [
    {
     "data": {
      "text/html": [
       "<div>\n",
       "<style scoped>\n",
       "    .dataframe tbody tr th:only-of-type {\n",
       "        vertical-align: middle;\n",
       "    }\n",
       "\n",
       "    .dataframe tbody tr th {\n",
       "        vertical-align: top;\n",
       "    }\n",
       "\n",
       "    .dataframe thead th {\n",
       "        text-align: right;\n",
       "    }\n",
       "</style>\n",
       "<table border=\"1\" class=\"dataframe\">\n",
       "  <thead>\n",
       "    <tr style=\"text-align: right;\">\n",
       "      <th></th>\n",
       "      <th>A1_ensembl</th>\n",
       "      <th>A2_ensembl</th>\n",
       "      <th>sequence_identity</th>\n",
       "      <th>min_seq_id</th>\n",
       "      <th>max_seq_id</th>\n",
       "      <th>singh_wgd</th>\n",
       "      <th>makino_wgd</th>\n",
       "      <th>WGD</th>\n",
       "      <th>same_chr</th>\n",
       "    </tr>\n",
       "  </thead>\n",
       "  <tbody>\n",
       "    <tr>\n",
       "      <th>0</th>\n",
       "      <td>ENSG00000092850</td>\n",
       "      <td>ENSG00000163060</td>\n",
       "      <td>0.293023</td>\n",
       "      <td>0.289655</td>\n",
       "      <td>0.293023</td>\n",
       "      <td>False</td>\n",
       "      <td>True</td>\n",
       "      <td>True</td>\n",
       "      <td>False</td>\n",
       "    </tr>\n",
       "    <tr>\n",
       "      <th>1</th>\n",
       "      <td>ENSG00000167858</td>\n",
       "      <td>ENSG00000163060</td>\n",
       "      <td>0.375598</td>\n",
       "      <td>0.360920</td>\n",
       "      <td>0.375598</td>\n",
       "      <td>False</td>\n",
       "      <td>True</td>\n",
       "      <td>True</td>\n",
       "      <td>False</td>\n",
       "    </tr>\n",
       "  </tbody>\n",
       "</table>\n",
       "</div>"
      ],
      "text/plain": [
       "        A1_ensembl       A2_ensembl  sequence_identity  min_seq_id  \\\n",
       "0  ENSG00000092850  ENSG00000163060           0.293023    0.289655   \n",
       "1  ENSG00000167858  ENSG00000163060           0.375598    0.360920   \n",
       "\n",
       "   max_seq_id  singh_wgd  makino_wgd   WGD  same_chr  \n",
       "0    0.293023      False        True  True     False  \n",
       "1    0.375598      False        True  True     False  "
      ]
     },
     "execution_count": 10,
     "metadata": {},
     "output_type": "execute_result"
    }
   ],
   "source": [
    "# Get gene location from HGNC\n",
    "id_map = pd.read_csv(file_id_map).dropna(subset=['ensembl_id'])[['ensembl_id', 'location']]\n",
    "\n",
    "pairs_annot2 = pd.merge(pairs_annot, id_map.rename(columns={'ensembl_id':'A1_ensembl', 'location':'A1_chr'}))\n",
    "pairs_annot2 = pd.merge(pairs_annot2, id_map.rename(columns={'ensembl_id':'A2_ensembl','location':'A2_chr'}))\n",
    "\n",
    "# Reduce location to chr number (if possible)\n",
    "def get_chr(x):\n",
    "    if str(x) == 'nan': return 'NA'\n",
    "    res = re.search('([\\dXY]+)[qp]', x)\n",
    "    if not res: return x\n",
    "    return res.group(1)\n",
    "\n",
    "pairs_annot2.A1_chr = pairs_annot2.A1_chr.apply(get_chr)\n",
    "pairs_annot2.A2_chr = pairs_annot2.A2_chr.apply(get_chr)\n",
    "\n",
    "# Whether genes in pair are on same chromosome\n",
    "pairs_annot2 = pairs_annot2.assign(same_chr = (pairs_annot2.A1_chr == pairs_annot2.A2_chr)).drop(columns=['A1_chr','A2_chr'])\n",
    "pairs_annot2[:2]"
   ]
  },
  {
   "cell_type": "markdown",
   "metadata": {},
   "source": [
    "#### 3. Closest pair (highest sequence identity)"
   ]
  },
  {
   "cell_type": "code",
   "execution_count": 11,
   "metadata": {},
   "outputs": [
    {
     "data": {
      "text/html": [
       "<div>\n",
       "<style scoped>\n",
       "    .dataframe tbody tr th:only-of-type {\n",
       "        vertical-align: middle;\n",
       "    }\n",
       "\n",
       "    .dataframe tbody tr th {\n",
       "        vertical-align: top;\n",
       "    }\n",
       "\n",
       "    .dataframe thead th {\n",
       "        text-align: right;\n",
       "    }\n",
       "</style>\n",
       "<table border=\"1\" class=\"dataframe\">\n",
       "  <thead>\n",
       "    <tr style=\"text-align: right;\">\n",
       "      <th></th>\n",
       "      <th>A1_ensembl</th>\n",
       "      <th>A2_ensembl</th>\n",
       "      <th>sequence_identity</th>\n",
       "      <th>min_seq_id</th>\n",
       "      <th>max_seq_id</th>\n",
       "      <th>singh_wgd</th>\n",
       "      <th>makino_wgd</th>\n",
       "      <th>WGD</th>\n",
       "      <th>same_chr</th>\n",
       "      <th>closest</th>\n",
       "    </tr>\n",
       "  </thead>\n",
       "  <tbody>\n",
       "    <tr>\n",
       "      <th>0</th>\n",
       "      <td>ENSG00000092850</td>\n",
       "      <td>ENSG00000163060</td>\n",
       "      <td>0.293023</td>\n",
       "      <td>0.289655</td>\n",
       "      <td>0.293023</td>\n",
       "      <td>False</td>\n",
       "      <td>True</td>\n",
       "      <td>True</td>\n",
       "      <td>False</td>\n",
       "      <td>False</td>\n",
       "    </tr>\n",
       "    <tr>\n",
       "      <th>1</th>\n",
       "      <td>ENSG00000167858</td>\n",
       "      <td>ENSG00000163060</td>\n",
       "      <td>0.375598</td>\n",
       "      <td>0.360920</td>\n",
       "      <td>0.375598</td>\n",
       "      <td>False</td>\n",
       "      <td>True</td>\n",
       "      <td>True</td>\n",
       "      <td>False</td>\n",
       "      <td>True</td>\n",
       "    </tr>\n",
       "  </tbody>\n",
       "</table>\n",
       "</div>"
      ],
      "text/plain": [
       "        A1_ensembl       A2_ensembl  sequence_identity  min_seq_id  \\\n",
       "0  ENSG00000092850  ENSG00000163060           0.293023    0.289655   \n",
       "1  ENSG00000167858  ENSG00000163060           0.375598    0.360920   \n",
       "\n",
       "   max_seq_id  singh_wgd  makino_wgd   WGD  same_chr  closest  \n",
       "0    0.293023      False        True  True     False    False  \n",
       "1    0.375598      False        True  True     False     True  "
      ]
     },
     "execution_count": 11,
     "metadata": {},
     "output_type": "execute_result"
    }
   ],
   "source": [
    "# Find closest A2 for each A1\n",
    "max_per_A1 = pairs_annot2.groupby('A1_ensembl').sequence_identity.max().reset_index()\n",
    "pairs_annot3 = pd.merge(pairs_annot2, max_per_A1, how='left', indicator='closest')\n",
    "\n",
    "# Annotate pairs as closest if A2 is A1's closest paralog (in terms of sequence identity)\n",
    "pairs_annot3['closest'] = pairs_annot3['closest'] == 'both'\n",
    "pairs_annot3[:2]"
   ]
  },
  {
   "cell_type": "markdown",
   "metadata": {},
   "source": [
    "#### 4. Family size"
   ]
  },
  {
   "cell_type": "code",
   "execution_count": 12,
   "metadata": {},
   "outputs": [
    {
     "data": {
      "text/html": [
       "<div>\n",
       "<style scoped>\n",
       "    .dataframe tbody tr th:only-of-type {\n",
       "        vertical-align: middle;\n",
       "    }\n",
       "\n",
       "    .dataframe tbody tr th {\n",
       "        vertical-align: top;\n",
       "    }\n",
       "\n",
       "    .dataframe thead th {\n",
       "        text-align: right;\n",
       "    }\n",
       "</style>\n",
       "<table border=\"1\" class=\"dataframe\">\n",
       "  <thead>\n",
       "    <tr style=\"text-align: right;\">\n",
       "      <th></th>\n",
       "      <th>gene</th>\n",
       "      <th>paralogs</th>\n",
       "    </tr>\n",
       "  </thead>\n",
       "  <tbody>\n",
       "    <tr>\n",
       "      <th>0</th>\n",
       "      <td>ENSG00000000003</td>\n",
       "      <td>{ENSG00000140391, ENSG00000158457, ENSG0000009...</td>\n",
       "    </tr>\n",
       "  </tbody>\n",
       "</table>\n",
       "</div>"
      ],
      "text/plain": [
       "              gene                                           paralogs\n",
       "0  ENSG00000000003  {ENSG00000140391, ENSG00000158457, ENSG0000009..."
      ]
     },
     "metadata": {},
     "output_type": "display_data"
    },
    {
     "name": "stdout",
     "output_type": "stream",
     "text": [
      "N unique families: 4341\n"
     ]
    },
    {
     "data": {
      "text/html": [
       "<div>\n",
       "<style scoped>\n",
       "    .dataframe tbody tr th:only-of-type {\n",
       "        vertical-align: middle;\n",
       "    }\n",
       "\n",
       "    .dataframe tbody tr th {\n",
       "        vertical-align: top;\n",
       "    }\n",
       "\n",
       "    .dataframe thead th {\n",
       "        text-align: right;\n",
       "    }\n",
       "</style>\n",
       "<table border=\"1\" class=\"dataframe\">\n",
       "  <thead>\n",
       "    <tr style=\"text-align: right;\">\n",
       "      <th></th>\n",
       "      <th>A1_ensembl</th>\n",
       "      <th>A2_ensembl</th>\n",
       "      <th>family</th>\n",
       "      <th>family_size</th>\n",
       "      <th>family_id</th>\n",
       "    </tr>\n",
       "  </thead>\n",
       "  <tbody>\n",
       "    <tr>\n",
       "      <th>0</th>\n",
       "      <td>ENSG00000092850</td>\n",
       "      <td>ENSG00000163060</td>\n",
       "      <td>(ENSG00000092850, ENSG00000167858, ENSG0000012...</td>\n",
       "      <td>5</td>\n",
       "      <td>0</td>\n",
       "    </tr>\n",
       "  </tbody>\n",
       "</table>\n",
       "</div>"
      ],
      "text/plain": [
       "        A1_ensembl       A2_ensembl  \\\n",
       "0  ENSG00000092850  ENSG00000163060   \n",
       "\n",
       "                                              family  family_size  family_id  \n",
       "0  (ENSG00000092850, ENSG00000167858, ENSG0000012...            5          0  "
      ]
     },
     "metadata": {},
     "output_type": "display_data"
    },
    {
     "data": {
      "text/html": [
       "<div>\n",
       "<style scoped>\n",
       "    .dataframe tbody tr th:only-of-type {\n",
       "        vertical-align: middle;\n",
       "    }\n",
       "\n",
       "    .dataframe tbody tr th {\n",
       "        vertical-align: top;\n",
       "    }\n",
       "\n",
       "    .dataframe thead th {\n",
       "        text-align: right;\n",
       "    }\n",
       "</style>\n",
       "<table border=\"1\" class=\"dataframe\">\n",
       "  <thead>\n",
       "    <tr style=\"text-align: right;\">\n",
       "      <th></th>\n",
       "      <th>A1_ensembl</th>\n",
       "      <th>A2_ensembl</th>\n",
       "      <th>sequence_identity</th>\n",
       "      <th>min_seq_id</th>\n",
       "      <th>max_seq_id</th>\n",
       "      <th>singh_wgd</th>\n",
       "      <th>makino_wgd</th>\n",
       "      <th>WGD</th>\n",
       "      <th>same_chr</th>\n",
       "      <th>closest</th>\n",
       "      <th>family_size</th>\n",
       "      <th>family_id</th>\n",
       "    </tr>\n",
       "  </thead>\n",
       "  <tbody>\n",
       "    <tr>\n",
       "      <th>0</th>\n",
       "      <td>ENSG00000092850</td>\n",
       "      <td>ENSG00000163060</td>\n",
       "      <td>0.293023</td>\n",
       "      <td>0.289655</td>\n",
       "      <td>0.293023</td>\n",
       "      <td>False</td>\n",
       "      <td>True</td>\n",
       "      <td>True</td>\n",
       "      <td>False</td>\n",
       "      <td>False</td>\n",
       "      <td>5</td>\n",
       "      <td>0</td>\n",
       "    </tr>\n",
       "  </tbody>\n",
       "</table>\n",
       "</div>"
      ],
      "text/plain": [
       "        A1_ensembl       A2_ensembl  sequence_identity  min_seq_id  \\\n",
       "0  ENSG00000092850  ENSG00000163060           0.293023    0.289655   \n",
       "\n",
       "   max_seq_id  singh_wgd  makino_wgd   WGD  same_chr  closest  family_size  \\\n",
       "0    0.293023      False        True  True     False    False            5   \n",
       "\n",
       "   family_id  \n",
       "0          0  "
      ]
     },
     "metadata": {},
     "output_type": "display_data"
    }
   ],
   "source": [
    "# Set of all paralogs for each A1\n",
    "paralog_families = pairs_annot3.groupby('A1_ensembl').agg({'A2_ensembl':set}).reset_index()\n",
    "paralog_families = paralog_families.rename(columns={'A1_ensembl':'gene', 'A2_ensembl':'paralogs'})\n",
    "display(paralog_families[:1])\n",
    "\n",
    "# Family size = union of all A1 and all A2 paralogs\n",
    "df = pd.merge(pairs_annot3[['A1_ensembl','A2_ensembl']], paralog_families.rename(columns={'gene':'A1_ensembl'}))\n",
    "df = pd.merge(df, paralog_families.rename(columns={'gene':'A2_ensembl'}), on=['A2_ensembl'])\n",
    "df['family'] = df.apply(lambda x: frozenset(x.paralogs_x.union(x.paralogs_y)), axis=1)\n",
    "df['family_size'] = df.apply(lambda x: len(x.paralogs_x.union(x.paralogs_y)), axis=1)\n",
    "df = df.drop(columns=['paralogs_x','paralogs_y'])\n",
    "\n",
    "# Identify the unique families - assign an id to each\n",
    "families = pd.DataFrame(df.family.unique(), columns=['family']).reset_index().rename(columns={'index':'family_id'})\n",
    "print('N unique families:', families.shape[0])\n",
    "df = pd.merge(df, families)\n",
    "display(df[:1])\n",
    "\n",
    "pairs_annot4 = pd.merge(pairs_annot3, df.drop(columns=['family']), how='left')\n",
    "display(pairs_annot4[:1])"
   ]
  },
  {
   "cell_type": "markdown",
   "metadata": {},
   "source": [
    "#### 5. CDS length"
   ]
  },
  {
   "cell_type": "code",
   "execution_count": 13,
   "metadata": {
    "tags": []
   },
   "outputs": [
    {
     "data": {
      "text/html": [
       "<div>\n",
       "<style scoped>\n",
       "    .dataframe tbody tr th:only-of-type {\n",
       "        vertical-align: middle;\n",
       "    }\n",
       "\n",
       "    .dataframe tbody tr th {\n",
       "        vertical-align: top;\n",
       "    }\n",
       "\n",
       "    .dataframe thead th {\n",
       "        text-align: right;\n",
       "    }\n",
       "</style>\n",
       "<table border=\"1\" class=\"dataframe\">\n",
       "  <thead>\n",
       "    <tr style=\"text-align: right;\">\n",
       "      <th></th>\n",
       "      <th>Gene stable ID</th>\n",
       "      <th>cds_length</th>\n",
       "    </tr>\n",
       "  </thead>\n",
       "  <tbody>\n",
       "    <tr>\n",
       "      <th>0</th>\n",
       "      <td>ENSG00000276256</td>\n",
       "      <td>363.0</td>\n",
       "    </tr>\n",
       "  </tbody>\n",
       "</table>\n",
       "</div>"
      ],
      "text/plain": [
       "    Gene stable ID  cds_length\n",
       "0  ENSG00000276256       363.0"
      ]
     },
     "metadata": {},
     "output_type": "display_data"
    },
    {
     "data": {
      "text/html": [
       "<div>\n",
       "<style scoped>\n",
       "    .dataframe tbody tr th:only-of-type {\n",
       "        vertical-align: middle;\n",
       "    }\n",
       "\n",
       "    .dataframe tbody tr th {\n",
       "        vertical-align: top;\n",
       "    }\n",
       "\n",
       "    .dataframe thead th {\n",
       "        text-align: right;\n",
       "    }\n",
       "</style>\n",
       "<table border=\"1\" class=\"dataframe\">\n",
       "  <thead>\n",
       "    <tr style=\"text-align: right;\">\n",
       "      <th></th>\n",
       "      <th>A1_ensembl</th>\n",
       "      <th>A2_ensembl</th>\n",
       "      <th>sequence_identity</th>\n",
       "      <th>min_seq_id</th>\n",
       "      <th>max_seq_id</th>\n",
       "      <th>singh_wgd</th>\n",
       "      <th>makino_wgd</th>\n",
       "      <th>WGD</th>\n",
       "      <th>same_chr</th>\n",
       "      <th>closest</th>\n",
       "      <th>family_size</th>\n",
       "      <th>family_id</th>\n",
       "      <th>cds_length_ratio</th>\n",
       "    </tr>\n",
       "  </thead>\n",
       "  <tbody>\n",
       "    <tr>\n",
       "      <th>0</th>\n",
       "      <td>ENSG00000092850</td>\n",
       "      <td>ENSG00000163060</td>\n",
       "      <td>0.293023</td>\n",
       "      <td>0.289655</td>\n",
       "      <td>0.293023</td>\n",
       "      <td>False</td>\n",
       "      <td>True</td>\n",
       "      <td>True</td>\n",
       "      <td>False</td>\n",
       "      <td>False</td>\n",
       "      <td>5</td>\n",
       "      <td>0</td>\n",
       "      <td>0.988532</td>\n",
       "    </tr>\n",
       "  </tbody>\n",
       "</table>\n",
       "</div>"
      ],
      "text/plain": [
       "        A1_ensembl       A2_ensembl  sequence_identity  min_seq_id  \\\n",
       "0  ENSG00000092850  ENSG00000163060           0.293023    0.289655   \n",
       "\n",
       "   max_seq_id  singh_wgd  makino_wgd   WGD  same_chr  closest  family_size  \\\n",
       "0    0.293023      False        True  True     False    False            5   \n",
       "\n",
       "   family_id  cds_length_ratio  \n",
       "0          0          0.988532  "
      ]
     },
     "metadata": {},
     "output_type": "display_data"
    }
   ],
   "source": [
    "cds_length = pd.read_csv(file_cds_length).rename(columns={'CDS Length':'cds_length'}).dropna(subset=['cds_length'])\n",
    "assert(pairs_annot4[~pairs_annot4.A1_ensembl.isin(cds_length['Gene stable ID'])].A1_ensembl.nunique() == 0)\n",
    "display(cds_length[:1])\n",
    "\n",
    "# Filter and consider CDS length to be that of longest transcript\n",
    "cds_length = cds_length[cds_length['Gene stable ID'].isin(pairs_annot4.A1_ensembl)].reset_index(drop=True)\n",
    "cds_length = cds_length.groupby('Gene stable ID').cds_length.max().reset_index()\n",
    "\n",
    "# Get length of each gene and compute ratio min/max\n",
    "df = pd.merge(pairs_annot4, cds_length.rename(columns={'Gene stable ID':'A1_ensembl', 'cds_length':'A1_length'}))\n",
    "df = pd.merge(df, cds_length.rename(columns={'Gene stable ID':'A2_ensembl', 'cds_length':'A2_length'}))\n",
    "df['cds_length_ratio'] = df.apply(lambda x: min(x.A1_length, x.A2_length) / max(x.A1_length, x.A2_length), axis=1)\n",
    "\n",
    "pairs_annot5 = df.drop(columns=['A1_length','A2_length'])\n",
    "display(pairs_annot5[:1])"
   ]
  },
  {
   "cell_type": "markdown",
   "metadata": {},
   "source": [
    "#### 6. Add symbols and entrez id from HGNC"
   ]
  },
  {
   "cell_type": "code",
   "execution_count": 14,
   "metadata": {
    "tags": []
   },
   "outputs": [
    {
     "name": "stdout",
     "output_type": "stream",
     "text": [
      "Num pairs min. 20%: 36648\n",
      "Num paralog genes min. 20%: 13320\n"
     ]
    },
    {
     "data": {
      "text/html": [
       "<div>\n",
       "<style scoped>\n",
       "    .dataframe tbody tr th:only-of-type {\n",
       "        vertical-align: middle;\n",
       "    }\n",
       "\n",
       "    .dataframe tbody tr th {\n",
       "        vertical-align: top;\n",
       "    }\n",
       "\n",
       "    .dataframe thead th {\n",
       "        text-align: right;\n",
       "    }\n",
       "</style>\n",
       "<table border=\"1\" class=\"dataframe\">\n",
       "  <thead>\n",
       "    <tr style=\"text-align: right;\">\n",
       "      <th></th>\n",
       "      <th>A1_ensembl</th>\n",
       "      <th>A2_ensembl</th>\n",
       "      <th>sequence_identity</th>\n",
       "      <th>min_seq_id</th>\n",
       "      <th>max_seq_id</th>\n",
       "      <th>singh_wgd</th>\n",
       "      <th>makino_wgd</th>\n",
       "      <th>WGD</th>\n",
       "      <th>same_chr</th>\n",
       "      <th>closest</th>\n",
       "      <th>family_size</th>\n",
       "      <th>family_id</th>\n",
       "      <th>cds_length_ratio</th>\n",
       "      <th>A1</th>\n",
       "      <th>A1_entrez</th>\n",
       "      <th>A2</th>\n",
       "      <th>A2_entrez</th>\n",
       "    </tr>\n",
       "  </thead>\n",
       "  <tbody>\n",
       "    <tr>\n",
       "      <th>0</th>\n",
       "      <td>ENSG00000092850</td>\n",
       "      <td>ENSG00000163060</td>\n",
       "      <td>0.293023</td>\n",
       "      <td>0.289655</td>\n",
       "      <td>0.293023</td>\n",
       "      <td>False</td>\n",
       "      <td>True</td>\n",
       "      <td>True</td>\n",
       "      <td>False</td>\n",
       "      <td>False</td>\n",
       "      <td>5</td>\n",
       "      <td>0</td>\n",
       "      <td>0.988532</td>\n",
       "      <td>TEKT2</td>\n",
       "      <td>27285</td>\n",
       "      <td>TEKT4</td>\n",
       "      <td>150483</td>\n",
       "    </tr>\n",
       "    <tr>\n",
       "      <th>1</th>\n",
       "      <td>ENSG00000167858</td>\n",
       "      <td>ENSG00000163060</td>\n",
       "      <td>0.375598</td>\n",
       "      <td>0.360920</td>\n",
       "      <td>0.375598</td>\n",
       "      <td>False</td>\n",
       "      <td>True</td>\n",
       "      <td>True</td>\n",
       "      <td>False</td>\n",
       "      <td>True</td>\n",
       "      <td>5</td>\n",
       "      <td>0</td>\n",
       "      <td>0.961009</td>\n",
       "      <td>TEKT1</td>\n",
       "      <td>83659</td>\n",
       "      <td>TEKT4</td>\n",
       "      <td>150483</td>\n",
       "    </tr>\n",
       "  </tbody>\n",
       "</table>\n",
       "</div>"
      ],
      "text/plain": [
       "        A1_ensembl       A2_ensembl  sequence_identity  min_seq_id  \\\n",
       "0  ENSG00000092850  ENSG00000163060           0.293023    0.289655   \n",
       "1  ENSG00000167858  ENSG00000163060           0.375598    0.360920   \n",
       "\n",
       "   max_seq_id  singh_wgd  makino_wgd   WGD  same_chr  closest  family_size  \\\n",
       "0    0.293023      False        True  True     False    False            5   \n",
       "1    0.375598      False        True  True     False     True            5   \n",
       "\n",
       "   family_id  cds_length_ratio     A1  A1_entrez     A2  A2_entrez  \n",
       "0          0          0.988532  TEKT2      27285  TEKT4     150483  \n",
       "1          0          0.961009  TEKT1      83659  TEKT4     150483  "
      ]
     },
     "metadata": {},
     "output_type": "display_data"
    }
   ],
   "source": [
    "id_map = pd.read_csv(file_id_map).dropna(subset=['ensembl_id'])[['symbol','entrez_id','ensembl_id']]\n",
    "\n",
    "# Merge symbols + entrez\n",
    "df = pd.merge(pairs_annot5, id_map.rename(columns={'symbol':'A1','ensembl_id':'A1_ensembl','entrez_id':'A1_entrez'}))\n",
    "df = pd.merge(df, id_map.rename(columns={'symbol':'A2','ensembl_id':'A2_ensembl','entrez_id':'A2_entrez'}))\n",
    "all_pairs_annot = df.astype({'A1_entrez':'int', 'A2_entrez':'int'})\n",
    "\n",
    "print('Num pairs min. 20%:', int(all_pairs_annot.shape[0]/2))\n",
    "print('Num paralog genes min. 20%:', pd.concat([all_pairs_annot.A1, all_pairs_annot.A2]).nunique())\n",
    "display(all_pairs_annot[:2])"
   ]
  },
  {
   "cell_type": "markdown",
   "metadata": {},
   "source": [
    "### Export data sets"
   ]
  },
  {
   "cell_type": "code",
   "execution_count": 15,
   "metadata": {},
   "outputs": [],
   "source": [
    "all_pairs_annot.to_csv(file_all_pairs, index=0)"
   ]
  },
  {
   "cell_type": "code",
   "execution_count": 16,
   "metadata": {
    "tags": []
   },
   "outputs": [
    {
     "name": "stdout",
     "output_type": "stream",
     "text": [
      "N unique pairs: 36648\n"
     ]
    },
    {
     "data": {
      "text/html": [
       "<div>\n",
       "<style scoped>\n",
       "    .dataframe tbody tr th:only-of-type {\n",
       "        vertical-align: middle;\n",
       "    }\n",
       "\n",
       "    .dataframe tbody tr th {\n",
       "        vertical-align: top;\n",
       "    }\n",
       "\n",
       "    .dataframe thead th {\n",
       "        text-align: right;\n",
       "    }\n",
       "</style>\n",
       "<table border=\"1\" class=\"dataframe\">\n",
       "  <thead>\n",
       "    <tr style=\"text-align: right;\">\n",
       "      <th></th>\n",
       "      <th>A1</th>\n",
       "      <th>A2</th>\n",
       "      <th>min_seq_id</th>\n",
       "      <th>max_seq_id</th>\n",
       "      <th>singh_wgd</th>\n",
       "      <th>makino_wgd</th>\n",
       "      <th>WGD</th>\n",
       "      <th>same_chr</th>\n",
       "      <th>closest</th>\n",
       "      <th>family_size</th>\n",
       "      <th>family_id</th>\n",
       "      <th>cds_length_ratio</th>\n",
       "      <th>A1_entrez</th>\n",
       "      <th>A1_ensembl</th>\n",
       "      <th>A2_entrez</th>\n",
       "      <th>A2_ensembl</th>\n",
       "    </tr>\n",
       "  </thead>\n",
       "  <tbody>\n",
       "    <tr>\n",
       "      <th>0</th>\n",
       "      <td>A1BG</td>\n",
       "      <td>OSCAR</td>\n",
       "      <td>0.127273</td>\n",
       "      <td>0.220280</td>\n",
       "      <td>False</td>\n",
       "      <td>False</td>\n",
       "      <td>False</td>\n",
       "      <td>True</td>\n",
       "      <td>False</td>\n",
       "      <td>3</td>\n",
       "      <td>3046</td>\n",
       "      <td>0.578629</td>\n",
       "      <td>1</td>\n",
       "      <td>ENSG00000121410</td>\n",
       "      <td>126014</td>\n",
       "      <td>ENSG00000170909</td>\n",
       "    </tr>\n",
       "    <tr>\n",
       "      <th>1</th>\n",
       "      <td>A1BG</td>\n",
       "      <td>TARM1</td>\n",
       "      <td>0.149495</td>\n",
       "      <td>0.265233</td>\n",
       "      <td>False</td>\n",
       "      <td>False</td>\n",
       "      <td>False</td>\n",
       "      <td>True</td>\n",
       "      <td>False</td>\n",
       "      <td>3</td>\n",
       "      <td>3046</td>\n",
       "      <td>0.564516</td>\n",
       "      <td>1</td>\n",
       "      <td>ENSG00000121410</td>\n",
       "      <td>441864</td>\n",
       "      <td>ENSG00000248385</td>\n",
       "    </tr>\n",
       "  </tbody>\n",
       "</table>\n",
       "</div>"
      ],
      "text/plain": [
       "     A1     A2  min_seq_id  max_seq_id  singh_wgd  makino_wgd    WGD  \\\n",
       "0  A1BG  OSCAR    0.127273    0.220280      False       False  False   \n",
       "1  A1BG  TARM1    0.149495    0.265233      False       False  False   \n",
       "\n",
       "   same_chr  closest  family_size  family_id  cds_length_ratio  A1_entrez  \\\n",
       "0      True    False            3       3046          0.578629          1   \n",
       "1      True    False            3       3046          0.564516          1   \n",
       "\n",
       "        A1_ensembl  A2_entrez       A2_ensembl  \n",
       "0  ENSG00000121410     126014  ENSG00000170909  \n",
       "1  ENSG00000121410     441864  ENSG00000248385  "
      ]
     },
     "metadata": {},
     "output_type": "display_data"
    }
   ],
   "source": [
    "# Unique pairs (not symmetric)\n",
    "df = pd.concat([pd.DataFrame(np.sort(all_pairs_annot[['A1','A2']]), columns=['A1','A2']),\n",
    "                all_pairs_annot.drop(columns=['A1','A2','A1_ensembl','A2_ensembl','A1_entrez',\n",
    "                                              'A2_entrez','sequence_identity'])], axis=1)\n",
    "\n",
    "# All properties are symmetric/the same except for \"closest\"\n",
    "# Closest if closest for both genes (min of bool)\n",
    "unique_pairs = df.groupby(['A1','A2']).min().reset_index()\n",
    "print('N unique pairs:', unique_pairs.shape[0])\n",
    "\n",
    "# Add back other ids\n",
    "unique_pairs = pd.merge(unique_pairs, id_map.rename(columns={'symbol':'A1','ensembl_id':'A1_ensembl','entrez_id':'A1_entrez'}))\n",
    "unique_pairs = pd.merge(unique_pairs, id_map.rename(columns={'symbol':'A2','ensembl_id':'A2_ensembl','entrez_id':'A2_entrez'}))\n",
    "unique_pairs = unique_pairs.astype({'A1_entrez':'int', 'A2_entrez':'int'})\n",
    "\n",
    "assert(unique_pairs[(unique_pairs.family_size.isna()) & (unique_pairs.max_seq_id>=0.2)].shape[0]==0)\n",
    "\n",
    "display(unique_pairs[:2])"
   ]
  },
  {
   "cell_type": "code",
   "execution_count": 17,
   "metadata": {},
   "outputs": [],
   "source": [
    "unique_pairs.to_csv(file_unique_pairs)"
   ]
  },
  {
   "cell_type": "markdown",
   "metadata": {},
   "source": [
    "### Families"
   ]
  },
  {
   "cell_type": "code",
   "execution_count": 18,
   "metadata": {
    "tags": []
   },
   "outputs": [],
   "source": [
    "# Check that all families are fully connected (need unfiltered on seq id data)\n",
    "G = nx.Graph()\n",
    "G.add_edges_from(coding_pairs[['A1_ensembl','A2_ensembl']].values)"
   ]
  },
  {
   "cell_type": "code",
   "execution_count": 19,
   "metadata": {},
   "outputs": [],
   "source": [
    "def draw_family_network_for_gene(gene, G, ax):\n",
    "    fam = paralog_families[paralog_families.gene==all_pairs_annot[all_pairs_annot.A1==gene].A1_ensembl.values[0]]\n",
    "    fam_pairs = all_pairs_annot[all_pairs_annot.A1_ensembl.isin(fam.paralogs.values[0])]\n",
    "    G = nx.Graph()\n",
    "    G.add_edges_from(fam_pairs[['A1','A2']].values)\n",
    "    nx.draw_networkx(G, node_color='silver', node_size=2000, ax=ax)\n",
    "    ax.axis('off')\n",
    "    ax.set_xlim([1.3*x for x in ax.get_xlim()])\n",
    "    ax.set_ylim([1.3*y for y in ax.get_ylim()])"
   ]
  },
  {
   "cell_type": "code",
   "execution_count": 20,
   "metadata": {},
   "outputs": [
    {
     "data": {
      "image/png": "[encoded data removed]",
      "text/plain": [
       "<Figure size 648x288 with 2 Axes>"
      ]
     },
     "metadata": {},
     "output_type": "display_data"
    }
   ],
   "source": [
    "f, ax = plt.subplots(1, 2, figsize=(9,4))\n",
    "draw_family_network_for_gene(\"RB1\", G, ax[0])\n",
    "draw_family_network_for_gene(\"STAG1\", G, ax[1])"
   ]
  }
 ],
 "metadata": {
  "kernelspec": {
   "display_name": "Python 3.7.9 64-bit ('paralogSL': conda)",
   "language": "python",
   "name": "python37964bitparalogslconda0f0e77de73d34c52b743edfe8868363d"
  },
  "language_info": {
   "codemirror_mode": {
    "name": "ipython",
    "version": 3
   },
   "file_extension": ".py",
   "mimetype": "text/x-python",
   "name": "python",
   "nbconvert_exporter": "python",
   "pygments_lexer": "ipython3",
   "version": "3.7.1"
  }
 },
 "nbformat": 4,
 "nbformat_minor": 2
}
