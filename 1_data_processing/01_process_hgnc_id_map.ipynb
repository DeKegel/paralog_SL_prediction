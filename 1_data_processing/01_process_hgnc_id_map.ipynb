{
 "cells": [
  {
   "cell_type": "markdown",
   "metadata": {},
   "source": [
    "## Generate genome-wide gene id list\n",
    "\n",
    "**Input**: approved symbols from HGNC  \n",
    "\n",
    "**Output:** gene id map w/ locus type + map of current to prev symbol\n",
    "\n",
    "Notes:\n",
    "- Data downloaded from HGNC, all genes in the downloaded file have status \"Approved\"\n",
    "- The `locus_type` column indicates whether the gene is a *gene with protein product* or a different category, such as *readthrough*\n",
    "- Some genes might be missing an entrez or ensembl id"
   ]
  },
  {
   "cell_type": "code",
   "execution_count": 1,
   "metadata": {},
   "outputs": [],
   "source": [
    "import pandas as pd\n",
    "import os\n",
    "import re\n",
    "\n",
    "get_data_path = lambda folders, fname: os.path.normpath(os.environ['3RD_PARTY_DIR']+'/'+'/'.join(folders) +'/'+ fname)\n",
    "get_local_data_path = lambda folders, fname: os.path.normpath('../local_data/' +'/'.join(folders) +'/'+ fname)\n",
    "\n",
    "file_hgnc_all = get_data_path(['hgnc'], 'non_alt_loci_set_20_05_20.txt')\n",
    "file_map = get_local_data_path(['processed'], 'HGNC_gene_id_map.csv')"
   ]
  },
  {
   "cell_type": "code",
   "execution_count": 2,
   "metadata": {},
   "outputs": [],
   "source": [
    "hgnc_all = pd.read_csv(file_hgnc_all, sep='\\t', low_memory=False)\n",
    "assert(hgnc_all[hgnc_all.status=='Approved'].shape[0]==hgnc_all.shape[0])"
   ]
  },
  {
   "cell_type": "code",
   "execution_count": 3,
   "metadata": {},
   "outputs": [
    {
     "data": {
      "text/html": [
       "<div>\n",
       "<style scoped>\n",
       "    .dataframe tbody tr th:only-of-type {\n",
       "        vertical-align: middle;\n",
       "    }\n",
       "\n",
       "    .dataframe tbody tr th {\n",
       "        vertical-align: top;\n",
       "    }\n",
       "\n",
       "    .dataframe thead th {\n",
       "        text-align: right;\n",
       "    }\n",
       "</style>\n",
       "<table border=\"1\" class=\"dataframe\">\n",
       "  <thead>\n",
       "    <tr style=\"text-align: right;\">\n",
       "      <th></th>\n",
       "      <th>hgnc_id</th>\n",
       "      <th>symbol</th>\n",
       "      <th>name</th>\n",
       "      <th>locus_group</th>\n",
       "      <th>locus_type</th>\n",
       "      <th>status</th>\n",
       "      <th>location</th>\n",
       "      <th>location_sortable</th>\n",
       "      <th>alias_symbol</th>\n",
       "      <th>alias_name</th>\n",
       "      <th>...</th>\n",
       "      <th>kznf_gene_catalog</th>\n",
       "      <th>mamit-trnadb</th>\n",
       "      <th>cd</th>\n",
       "      <th>lncrnadb</th>\n",
       "      <th>enzyme_id</th>\n",
       "      <th>intermediate_filament_db</th>\n",
       "      <th>rna_central_ids</th>\n",
       "      <th>lncipedia</th>\n",
       "      <th>gtrnadb</th>\n",
       "      <th>agr</th>\n",
       "    </tr>\n",
       "  </thead>\n",
       "  <tbody>\n",
       "    <tr>\n",
       "      <th>0</th>\n",
       "      <td>HGNC:5</td>\n",
       "      <td>A1BG</td>\n",
       "      <td>alpha-1-B glycoprotein</td>\n",
       "      <td>protein-coding gene</td>\n",
       "      <td>gene with protein product</td>\n",
       "      <td>Approved</td>\n",
       "      <td>19q13.43</td>\n",
       "      <td>19q13.43</td>\n",
       "      <td>NaN</td>\n",
       "      <td>NaN</td>\n",
       "      <td>...</td>\n",
       "      <td>NaN</td>\n",
       "      <td>NaN</td>\n",
       "      <td>NaN</td>\n",
       "      <td>NaN</td>\n",
       "      <td>NaN</td>\n",
       "      <td>NaN</td>\n",
       "      <td>NaN</td>\n",
       "      <td>NaN</td>\n",
       "      <td>NaN</td>\n",
       "      <td>HGNC:5</td>\n",
       "    </tr>\n",
       "  </tbody>\n",
       "</table>\n",
       "<p>1 rows × 52 columns</p>\n",
       "</div>"
      ],
      "text/plain": [
       "  hgnc_id symbol                    name          locus_group  \\\n",
       "0  HGNC:5   A1BG  alpha-1-B glycoprotein  protein-coding gene   \n",
       "\n",
       "                  locus_type    status  location location_sortable  \\\n",
       "0  gene with protein product  Approved  19q13.43          19q13.43   \n",
       "\n",
       "  alias_symbol alias_name  ... kznf_gene_catalog mamit-trnadb   cd  lncrnadb  \\\n",
       "0          NaN        NaN  ...               NaN          NaN  NaN       NaN   \n",
       "\n",
       "  enzyme_id intermediate_filament_db rna_central_ids lncipedia  gtrnadb  \\\n",
       "0       NaN                      NaN             NaN       NaN      NaN   \n",
       "\n",
       "      agr  \n",
       "0  HGNC:5  \n",
       "\n",
       "[1 rows x 52 columns]"
      ]
     },
     "execution_count": 3,
     "metadata": {},
     "output_type": "execute_result"
    }
   ],
   "source": [
    "hgnc_all[:1]"
   ]
  },
  {
   "cell_type": "code",
   "execution_count": 4,
   "metadata": {},
   "outputs": [],
   "source": [
    "# hgnc_all.columns"
   ]
  },
  {
   "cell_type": "code",
   "execution_count": 4,
   "metadata": {
    "tags": []
   },
   "outputs": [
    {
     "name": "stdout",
     "output_type": "stream",
     "text": [
      "Num genes:  41950\n",
      "Protein coding genes: 19199\n",
      "Protein coding genes w/out entrez_id: 0\n",
      "Protein coding genes w/out ensembl_id: 38\n"
     ]
    },
    {
     "data": {
      "text/html": [
       "<div>\n",
       "<style scoped>\n",
       "    .dataframe tbody tr th:only-of-type {\n",
       "        vertical-align: middle;\n",
       "    }\n",
       "\n",
       "    .dataframe tbody tr th {\n",
       "        vertical-align: top;\n",
       "    }\n",
       "\n",
       "    .dataframe thead th {\n",
       "        text-align: right;\n",
       "    }\n",
       "</style>\n",
       "<table border=\"1\" class=\"dataframe\">\n",
       "  <thead>\n",
       "    <tr style=\"text-align: right;\">\n",
       "      <th></th>\n",
       "      <th>hgnc_id</th>\n",
       "      <th>symbol</th>\n",
       "      <th>entrez_id</th>\n",
       "      <th>ensembl_id</th>\n",
       "      <th>prev_symbol</th>\n",
       "      <th>ccds_id</th>\n",
       "      <th>locus_type</th>\n",
       "      <th>location</th>\n",
       "    </tr>\n",
       "  </thead>\n",
       "  <tbody>\n",
       "    <tr>\n",
       "      <th>0</th>\n",
       "      <td>5</td>\n",
       "      <td>A1BG</td>\n",
       "      <td>1.0</td>\n",
       "      <td>ENSG00000121410</td>\n",
       "      <td>NaN</td>\n",
       "      <td>CCDS12976</td>\n",
       "      <td>gene with protein product</td>\n",
       "      <td>19q13.43</td>\n",
       "    </tr>\n",
       "    <tr>\n",
       "      <th>1</th>\n",
       "      <td>37133</td>\n",
       "      <td>A1BG-AS1</td>\n",
       "      <td>503538.0</td>\n",
       "      <td>ENSG00000268895</td>\n",
       "      <td>NCRNA00181|A1BGAS|A1BG-AS</td>\n",
       "      <td>NaN</td>\n",
       "      <td>RNA, long non-coding</td>\n",
       "      <td>19q13.43</td>\n",
       "    </tr>\n",
       "  </tbody>\n",
       "</table>\n",
       "</div>"
      ],
      "text/plain": [
       "  hgnc_id    symbol  entrez_id       ensembl_id                prev_symbol  \\\n",
       "0       5      A1BG        1.0  ENSG00000121410                        NaN   \n",
       "1   37133  A1BG-AS1   503538.0  ENSG00000268895  NCRNA00181|A1BGAS|A1BG-AS   \n",
       "\n",
       "     ccds_id                 locus_type  location  \n",
       "0  CCDS12976  gene with protein product  19q13.43  \n",
       "1        NaN       RNA, long non-coding  19q13.43  "
      ]
     },
     "execution_count": 4,
     "metadata": {},
     "output_type": "execute_result"
    }
   ],
   "source": [
    "# Clean and print stats\n",
    "id_map = hgnc_all[['hgnc_id', 'symbol', 'entrez_id', 'ensembl_gene_id', 'prev_symbol', 'ccds_id', 'locus_type', 'location']]\n",
    "id_map = id_map.rename(columns={'ensembl_gene_id':'ensembl_id'})\n",
    "id_map.hgnc_id = id_map.hgnc_id.apply(lambda x: x.split(':')[1])\n",
    "\n",
    "print('Num genes: ', id_map.shape[0])\n",
    "protein_coding = id_map[id_map.locus_type == 'gene with protein product']\n",
    "print('Protein coding genes: ' + str(protein_coding.shape[0]))\n",
    "print('Protein coding genes w/out entrez_id:', protein_coding[protein_coding.entrez_id.isna()].shape[0])\n",
    "print('Protein coding genes w/out ensembl_id:', protein_coding[protein_coding.ensembl_id.isna()].shape[0])\n",
    "id_map[:2]"
   ]
  },
  {
   "cell_type": "code",
   "execution_count": 5,
   "metadata": {},
   "outputs": [],
   "source": [
    "id_map.to_csv(file_map, index=0)"
   ]
  }
 ],
 "metadata": {
  "kernelspec": {
   "display_name": "Python 3.7.9 64-bit ('paralogSL': conda)",
   "language": "python",
   "name": "python37964bitparalogslconda0f0e77de73d34c52b743edfe8868363d"
  },
  "language_info": {
   "codemirror_mode": {
    "name": "ipython",
    "version": 3
   },
   "file_extension": ".py",
   "mimetype": "text/x-python",
   "name": "python",
   "nbconvert_exporter": "python",
   "pygments_lexer": "ipython3",
   "version": "3.7.1"
  }
 },
 "nbformat": 4,
 "nbformat_minor": 2
}
