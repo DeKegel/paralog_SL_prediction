{
 "cells": [
  {
   "cell_type": "markdown",
   "metadata": {},
   "source": [
    "## Gonatopoulos-Pournatzis et al (2020) double perturbation screens (CHyMErA screens)\n",
    "\n",
    "**Genetic interaction mapping and exon-resolution functional genomics with a hybrid Cas9–Cas12a platform**  \n",
    "https://www.nature.com/articles/s41587-020-0437-z  \n",
    "\n",
    "Notes:\n",
    "- Target 1,344 genes that represent paralog pairs\n",
    "- HAP1 and RPE1 cells\n",
    "- Effect size represents mean difference in expected and observed LFC at early (T12 for HAP1, T18 for RPE1) or late (T18 for HAP1, T24 for RPE1) time points\n",
    "\n",
    "**Input**: Supplemental Table 8 - contains several sheets of interest: Summary, HAP1.T12, HAP1.T18, RPE1.T18, RPE1.T24\n",
    "\n",
    "**Output**: Paralog pairs from screen annotated with negative GI hits and observed LFC"
   ]
  },
  {
   "cell_type": "code",
   "execution_count": 13,
   "metadata": {},
   "outputs": [],
   "source": [
    "import pandas as pd\n",
    "import seaborn as sns\n",
    "import numpy as np\n",
    "import matplotlib.pyplot as plt\n",
    "import scipy.stats as stats\n",
    "from matplotlib_venn import venn2\n",
    "import re\n",
    "import os\n",
    "\n",
    "get_data_path = lambda folders, fname: os.path.normpath(os.environ['3RD_PARTY_DIR']+'/'+'/'.join(folders) +'/'+ fname)\n",
    "get_local_data_path = lambda folders, fname: os.path.normpath('../../local_data/' +'/'.join(folders) +'/'+ fname)\n",
    "\n",
    "file_data = get_data_path(['GI_screens', 'gonatopoulus_2020'], 'Table_S8.xlsx')\n",
    "file_all_pairs = lambda ens_v: get_local_data_path(['processed', 'ensembl'+ens_v], 'all_pairs.csv')\n",
    "\n",
    "# Output\n",
    "file_chymera_pairs_orig = get_local_data_path(['processed','screen_pairs'], 'chymera_pairs_orig.csv')"
   ]
  },
  {
   "cell_type": "markdown",
   "metadata": {},
   "source": [
    "### Process Table S8 from paper"
   ]
  },
  {
   "cell_type": "code",
   "execution_count": 14,
   "metadata": {},
   "outputs": [
    {
     "name": "stdout",
     "output_type": "stream",
     "text": [
      "N pairs: 688\n",
      "N w/ GI: 219 122\n",
      "N w/ GI in either: 290\n"
     ]
    },
    {
     "data": {
      "text/html": [
       "<div>\n",
       "<style scoped>\n",
       "    .dataframe tbody tr th:only-of-type {\n",
       "        vertical-align: middle;\n",
       "    }\n",
       "\n",
       "    .dataframe tbody tr th {\n",
       "        vertical-align: top;\n",
       "    }\n",
       "\n",
       "    .dataframe thead th {\n",
       "        text-align: right;\n",
       "    }\n",
       "</style>\n",
       "<table border=\"1\" class=\"dataframe\">\n",
       "  <thead>\n",
       "    <tr style=\"text-align: right;\">\n",
       "      <th></th>\n",
       "      <th>gene1</th>\n",
       "      <th>gene2</th>\n",
       "      <th>hap1_gi_type</th>\n",
       "      <th>rpe1_gi_type</th>\n",
       "      <th>hap1_early_effect_size</th>\n",
       "      <th>hap1_late_effect_size</th>\n",
       "      <th>rpe1_early_effect_size</th>\n",
       "      <th>rpe1_late_effect_size</th>\n",
       "    </tr>\n",
       "  </thead>\n",
       "  <tbody>\n",
       "    <tr>\n",
       "      <th>0</th>\n",
       "      <td>SEC23A</td>\n",
       "      <td>SEC23B</td>\n",
       "      <td>shared</td>\n",
       "      <td>shared</td>\n",
       "      <td>-3.028953</td>\n",
       "      <td>-3.424526</td>\n",
       "      <td>-2.306238</td>\n",
       "      <td>-2.103825</td>\n",
       "    </tr>\n",
       "    <tr>\n",
       "      <th>1</th>\n",
       "      <td>CUL4A</td>\n",
       "      <td>CUL4B</td>\n",
       "      <td>shared</td>\n",
       "      <td>shared</td>\n",
       "      <td>-2.842330</td>\n",
       "      <td>-3.439328</td>\n",
       "      <td>-1.826966</td>\n",
       "      <td>-1.543943</td>\n",
       "    </tr>\n",
       "  </tbody>\n",
       "</table>\n",
       "</div>"
      ],
      "text/plain": [
       "    gene1   gene2 hap1_gi_type rpe1_gi_type  hap1_early_effect_size  \\\n",
       "0  SEC23A  SEC23B       shared       shared               -3.028953   \n",
       "1   CUL4A   CUL4B       shared       shared               -2.842330   \n",
       "\n",
       "   hap1_late_effect_size  rpe1_early_effect_size  rpe1_late_effect_size  \n",
       "0              -3.424526               -2.306238              -2.103825  \n",
       "1              -3.439328               -1.826966              -1.543943  "
      ]
     },
     "execution_count": 14,
     "metadata": {},
     "output_type": "execute_result"
    }
   ],
   "source": [
    "summary = pd.read_excel(file_data, sheet_name=\"Summary\", skiprows=1)\n",
    "summary = summary.drop(columns=['torin_gi_type', 'torin_early_effect_size', 'torin_late_effect_size', 'HAP1 +/- Torin'])\n",
    "print('N pairs:', summary.shape[0])\n",
    "print('N w/ GI:', summary[summary.hap1_gi_type!='none'].shape[0], summary[summary.rpe1_gi_type!='none'].shape[0])\n",
    "print('N w/ GI in either:', summary[(summary.hap1_gi_type!='none')|(summary.rpe1_gi_type!='none')].shape[0])\n",
    "summary[:2]"
   ]
  },
  {
   "cell_type": "markdown",
   "metadata": {},
   "source": [
    "#### Assign original hit calls"
   ]
  },
  {
   "cell_type": "code",
   "execution_count": 40,
   "metadata": {},
   "outputs": [
    {
     "name": "stdout",
     "output_type": "stream",
     "text": [
      "Num HAP1 SL: 214 / 688\n",
      "Num RPE1 SL: 107 / 688\n",
      "SL in either cell line: 271 = 39.39%\n",
      "SL in both cell lines: 50 = 7.27%\n"
     ]
    },
    {
     "data": {
      "text/html": [
       "<div>\n",
       "<style scoped>\n",
       "    .dataframe tbody tr th:only-of-type {\n",
       "        vertical-align: middle;\n",
       "    }\n",
       "\n",
       "    .dataframe tbody tr th {\n",
       "        vertical-align: top;\n",
       "    }\n",
       "\n",
       "    .dataframe thead th {\n",
       "        text-align: right;\n",
       "    }\n",
       "</style>\n",
       "<table border=\"1\" class=\"dataframe\">\n",
       "  <thead>\n",
       "    <tr style=\"text-align: right;\">\n",
       "      <th></th>\n",
       "      <th>A1</th>\n",
       "      <th>A2</th>\n",
       "      <th>hap1_hit</th>\n",
       "      <th>rpe1_hit</th>\n",
       "      <th>n_hits</th>\n",
       "    </tr>\n",
       "  </thead>\n",
       "  <tbody>\n",
       "    <tr>\n",
       "      <th>0</th>\n",
       "      <td>SEC23A</td>\n",
       "      <td>SEC23B</td>\n",
       "      <td>True</td>\n",
       "      <td>True</td>\n",
       "      <td>2</td>\n",
       "    </tr>\n",
       "  </tbody>\n",
       "</table>\n",
       "</div>"
      ],
      "text/plain": [
       "       A1      A2  hap1_hit  rpe1_hit  n_hits\n",
       "0  SEC23A  SEC23B      True      True       2"
      ]
     },
     "execution_count": 40,
     "metadata": {},
     "output_type": "execute_result"
    }
   ],
   "source": [
    "# Call negative GI if the effect is seen at either time point (shared), and effect size is negative at both time points\n",
    "screen_hits = summary.assign(\n",
    "    hap1_hit = summary.apply(lambda x: ((x.hap1_gi_type!='none') \n",
    "                                        and (x.hap1_late_effect_size < 0) and (x.hap1_early_effect_size < 0)), axis=1),\n",
    "    rpe1_hit = summary.apply(lambda x: ((x.rpe1_gi_type!='none')\n",
    "                                        and (x.rpe1_late_effect_size < 0) and (x.rpe1_early_effect_size < 0)), axis=1))\n",
    "\n",
    "print('Num HAP1 SL:', sum(screen_hits.hap1_hit), '/', screen_hits.shape[0])\n",
    "print('Num RPE1 SL:', sum(screen_hits.rpe1_hit), '/', screen_hits.shape[0])\n",
    "print('SL in either cell line: %d = %.2f%%' % (sum(screen_hits.hap1_hit | screen_hits.rpe1_hit),\n",
    "                                               sum(screen_hits.hap1_hit | screen_hits.rpe1_hit)/screen_hits.shape[0]*100))\n",
    "print('SL in both cell lines: %d = %.2f%%' % (sum(screen_hits.hap1_hit & screen_hits.rpe1_hit),\n",
    "                                              sum(screen_hits.hap1_hit & screen_hits.rpe1_hit)/screen_hits.shape[0]*100))\n",
    "\n",
    "# Count num cell lines in which pairs are SL\n",
    "screen_hits['n_hits'] = screen_hits[['hap1_hit', 'rpe1_hit']].sum(axis=1)\n",
    "screen_hits = screen_hits[['gene1','gene2','hap1_hit','rpe1_hit','n_hits']].rename(columns={'gene1':'A1','gene2':'A2'})\n",
    "screen_hits = screen_hits.rename(columns={'gene1':'A1','gene2':'A2'})\n",
    "screen_hits[:1]"
   ]
  },
  {
   "cell_type": "markdown",
   "metadata": {},
   "source": [
    "#### Merge with ensembl"
   ]
  },
  {
   "cell_type": "code",
   "execution_count": 41,
   "metadata": {},
   "outputs": [
    {
     "name": "stdout",
     "output_type": "stream",
     "text": [
      "N= 73296\n",
      "N= 179968\n"
     ]
    }
   ],
   "source": [
    "all_pairs_93 = pd.read_csv(file_all_pairs('93'))[['A1','A2']]\n",
    "print('N=', all_pairs_93.shape[0])\n",
    "all_pairs_102 = pd.read_csv(file_all_pairs('102'))[['A1','A2']]\n",
    "print('N=', all_pairs_102.shape[0])"
   ]
  },
  {
   "cell_type": "code",
   "execution_count": 42,
   "metadata": {},
   "outputs": [
    {
     "name": "stdout",
     "output_type": "stream",
     "text": [
      "Overlap w/ Ens.93: 658\n",
      "Overlap w/ Ens.102: 642\n"
     ]
    },
    {
     "data": {
      "text/html": [
       "<div>\n",
       "<style scoped>\n",
       "    .dataframe tbody tr th:only-of-type {\n",
       "        vertical-align: middle;\n",
       "    }\n",
       "\n",
       "    .dataframe tbody tr th {\n",
       "        vertical-align: top;\n",
       "    }\n",
       "\n",
       "    .dataframe thead th {\n",
       "        text-align: right;\n",
       "    }\n",
       "</style>\n",
       "<table border=\"1\" class=\"dataframe\">\n",
       "  <thead>\n",
       "    <tr style=\"text-align: right;\">\n",
       "      <th></th>\n",
       "      <th>sorted_gene_pair</th>\n",
       "      <th>hap1_hit</th>\n",
       "      <th>rpe1_hit</th>\n",
       "      <th>n_hits</th>\n",
       "      <th>in_93</th>\n",
       "      <th>in_102</th>\n",
       "    </tr>\n",
       "  </thead>\n",
       "  <tbody>\n",
       "    <tr>\n",
       "      <th>0</th>\n",
       "      <td>SEC23A_SEC23B</td>\n",
       "      <td>True</td>\n",
       "      <td>True</td>\n",
       "      <td>2</td>\n",
       "      <td>True</td>\n",
       "      <td>True</td>\n",
       "    </tr>\n",
       "    <tr>\n",
       "      <th>1</th>\n",
       "      <td>CUL4A_CUL4B</td>\n",
       "      <td>True</td>\n",
       "      <td>True</td>\n",
       "      <td>2</td>\n",
       "      <td>True</td>\n",
       "      <td>True</td>\n",
       "    </tr>\n",
       "  </tbody>\n",
       "</table>\n",
       "</div>"
      ],
      "text/plain": [
       "  sorted_gene_pair  hap1_hit  rpe1_hit  n_hits  in_93  in_102\n",
       "0    SEC23A_SEC23B      True      True       2   True    True\n",
       "1      CUL4A_CUL4B      True      True       2   True    True"
      ]
     },
     "execution_count": 42,
     "metadata": {},
     "output_type": "execute_result"
    }
   ],
   "source": [
    "# Merge with our Ensembl list of paralog pairs\n",
    "screen_pairs = pd.merge(screen_hits, all_pairs_93, how='left', indicator='in_93')\n",
    "screen_pairs = pd.merge(screen_pairs, all_pairs_102, how='left', indicator='in_102')\n",
    "screen_pairs['in_93'] = screen_pairs['in_93'] == 'both'\n",
    "screen_pairs['in_102'] = screen_pairs['in_102'] == 'both'\n",
    "assert(screen_hits.shape[0] == screen_pairs.shape[0])\n",
    "print('Overlap w/ Ens.93:', sum(screen_pairs.in_93))\n",
    "print('Overlap w/ Ens.102:', sum(screen_pairs.in_102))\n",
    "assert(screen_hits.shape[0] == screen_pairs.shape[0])\n",
    "\n",
    "# Sorted gene pair column\n",
    "screen_pairs.insert(0, 'sorted_gene_pair', screen_pairs.apply(lambda x: '_'.join(sorted([x.A1, x.A2])), axis=1))\n",
    "screen_pairs = screen_pairs.drop(columns=['A1','A2'])\n",
    "screen_pairs[:2]"
   ]
  },
  {
   "cell_type": "code",
   "execution_count": 43,
   "metadata": {},
   "outputs": [
    {
     "data": {
      "image/png": "[encoded data removed]",
      "text/plain": [
       "<Figure size 216x216 with 1 Axes>"
      ]
     },
     "metadata": {},
     "output_type": "display_data"
    }
   ],
   "source": [
    "f, ax = plt.subplots(figsize=(3,3))\n",
    "v = venn2([set(screen_pairs[screen_pairs.hap1_hit]['sorted_gene_pair']), \n",
    "           set(screen_pairs[screen_pairs.rpe1_hit]['sorted_gene_pair'])], ['HAP1','RPE1'], ax=ax, set_colors=['skyblue','red'])\n",
    "for text in v.set_labels: text.set_fontsize(10)"
   ]
  },
  {
   "cell_type": "markdown",
   "metadata": {},
   "source": [
    "### Merge screen pairs with observed LFC"
   ]
  },
  {
   "cell_type": "markdown",
   "metadata": {},
   "source": [
    "#### Load observed LFC values"
   ]
  },
  {
   "cell_type": "code",
   "execution_count": 44,
   "metadata": {},
   "outputs": [],
   "source": [
    "def load_observed_lfc(sheet_name,col_name,new_col_name):\n",
    "    obs_lfc = pd.read_excel(file_data, sheet_name=sheet_name).drop_duplicates() # there are duplicate rows\n",
    "    obs_lfc = obs_lfc.rename(columns={col_name:new_col_name}).reset_index(drop=True)\n",
    "    obs_lfc['sorted_gene_pair'] = obs_lfc.apply(lambda x: '_'.join(sorted([x.gene1, x.gene2])), axis=1)\n",
    "    obs_lfc = obs_lfc[['sorted_gene_pair', new_col_name]]\n",
    "    return obs_lfc"
   ]
  },
  {
   "cell_type": "code",
   "execution_count": 45,
   "metadata": {},
   "outputs": [
    {
     "data": {
      "text/html": [
       "<div>\n",
       "<style scoped>\n",
       "    .dataframe tbody tr th:only-of-type {\n",
       "        vertical-align: middle;\n",
       "    }\n",
       "\n",
       "    .dataframe tbody tr th {\n",
       "        vertical-align: top;\n",
       "    }\n",
       "\n",
       "    .dataframe thead th {\n",
       "        text-align: right;\n",
       "    }\n",
       "</style>\n",
       "<table border=\"1\" class=\"dataframe\">\n",
       "  <thead>\n",
       "    <tr style=\"text-align: right;\">\n",
       "      <th></th>\n",
       "      <th>sorted_gene_pair</th>\n",
       "      <th>hap1_early_obs_LFC</th>\n",
       "    </tr>\n",
       "  </thead>\n",
       "  <tbody>\n",
       "    <tr>\n",
       "      <th>0</th>\n",
       "      <td>ABHD12_ABHD12B</td>\n",
       "      <td>-0.067548</td>\n",
       "    </tr>\n",
       "  </tbody>\n",
       "</table>\n",
       "</div>"
      ],
      "text/plain": [
       "  sorted_gene_pair  hap1_early_obs_LFC\n",
       "0   ABHD12_ABHD12B           -0.067548"
      ]
     },
     "execution_count": 45,
     "metadata": {},
     "output_type": "execute_result"
    }
   ],
   "source": [
    "hap1_t1 = load_observed_lfc('HAP1.T12','early_mean_observed_LFC','hap1_early_obs_LFC')\n",
    "hap1_t1[:1]"
   ]
  },
  {
   "cell_type": "code",
   "execution_count": 46,
   "metadata": {},
   "outputs": [
    {
     "data": {
      "text/html": [
       "<div>\n",
       "<style scoped>\n",
       "    .dataframe tbody tr th:only-of-type {\n",
       "        vertical-align: middle;\n",
       "    }\n",
       "\n",
       "    .dataframe tbody tr th {\n",
       "        vertical-align: top;\n",
       "    }\n",
       "\n",
       "    .dataframe thead th {\n",
       "        text-align: right;\n",
       "    }\n",
       "</style>\n",
       "<table border=\"1\" class=\"dataframe\">\n",
       "  <thead>\n",
       "    <tr style=\"text-align: right;\">\n",
       "      <th></th>\n",
       "      <th>sorted_gene_pair</th>\n",
       "      <th>hap1_late_obs_LFC</th>\n",
       "    </tr>\n",
       "  </thead>\n",
       "  <tbody>\n",
       "    <tr>\n",
       "      <th>0</th>\n",
       "      <td>ABHD12_ABHD12B</td>\n",
       "      <td>-0.130963</td>\n",
       "    </tr>\n",
       "  </tbody>\n",
       "</table>\n",
       "</div>"
      ],
      "text/plain": [
       "  sorted_gene_pair  hap1_late_obs_LFC\n",
       "0   ABHD12_ABHD12B          -0.130963"
      ]
     },
     "execution_count": 46,
     "metadata": {},
     "output_type": "execute_result"
    }
   ],
   "source": [
    "hap1_t2 = load_observed_lfc('HAP1.T18','late_mean_observed_LFC','hap1_late_obs_LFC')\n",
    "hap1_t2[:1]"
   ]
  },
  {
   "cell_type": "code",
   "execution_count": 47,
   "metadata": {},
   "outputs": [
    {
     "data": {
      "text/html": [
       "<div>\n",
       "<style scoped>\n",
       "    .dataframe tbody tr th:only-of-type {\n",
       "        vertical-align: middle;\n",
       "    }\n",
       "\n",
       "    .dataframe tbody tr th {\n",
       "        vertical-align: top;\n",
       "    }\n",
       "\n",
       "    .dataframe thead th {\n",
       "        text-align: right;\n",
       "    }\n",
       "</style>\n",
       "<table border=\"1\" class=\"dataframe\">\n",
       "  <thead>\n",
       "    <tr style=\"text-align: right;\">\n",
       "      <th></th>\n",
       "      <th>sorted_gene_pair</th>\n",
       "      <th>rpe1_early_obs_LFC</th>\n",
       "    </tr>\n",
       "  </thead>\n",
       "  <tbody>\n",
       "    <tr>\n",
       "      <th>0</th>\n",
       "      <td>ABHD12_ABHD12B</td>\n",
       "      <td>-0.288012</td>\n",
       "    </tr>\n",
       "  </tbody>\n",
       "</table>\n",
       "</div>"
      ],
      "text/plain": [
       "  sorted_gene_pair  rpe1_early_obs_LFC\n",
       "0   ABHD12_ABHD12B           -0.288012"
      ]
     },
     "execution_count": 47,
     "metadata": {},
     "output_type": "execute_result"
    }
   ],
   "source": [
    "rpe1_t1 = load_observed_lfc('RPE1.T18','early_mean_observed_LFC','rpe1_early_obs_LFC')\n",
    "rpe1_t1[:1]"
   ]
  },
  {
   "cell_type": "code",
   "execution_count": 48,
   "metadata": {},
   "outputs": [
    {
     "data": {
      "text/html": [
       "<div>\n",
       "<style scoped>\n",
       "    .dataframe tbody tr th:only-of-type {\n",
       "        vertical-align: middle;\n",
       "    }\n",
       "\n",
       "    .dataframe tbody tr th {\n",
       "        vertical-align: top;\n",
       "    }\n",
       "\n",
       "    .dataframe thead th {\n",
       "        text-align: right;\n",
       "    }\n",
       "</style>\n",
       "<table border=\"1\" class=\"dataframe\">\n",
       "  <thead>\n",
       "    <tr style=\"text-align: right;\">\n",
       "      <th></th>\n",
       "      <th>sorted_gene_pair</th>\n",
       "      <th>rpe1_late_obs_LFC</th>\n",
       "    </tr>\n",
       "  </thead>\n",
       "  <tbody>\n",
       "    <tr>\n",
       "      <th>0</th>\n",
       "      <td>ABHD12_ABHD12B</td>\n",
       "      <td>-0.300921</td>\n",
       "    </tr>\n",
       "  </tbody>\n",
       "</table>\n",
       "</div>"
      ],
      "text/plain": [
       "  sorted_gene_pair  rpe1_late_obs_LFC\n",
       "0   ABHD12_ABHD12B          -0.300921"
      ]
     },
     "execution_count": 48,
     "metadata": {},
     "output_type": "execute_result"
    }
   ],
   "source": [
    "rpe1_t2 = load_observed_lfc('RPE1.T24','late_mean_observed_LFC','rpe1_late_obs_LFC')\n",
    "rpe1_t2[:1]"
   ]
  },
  {
   "cell_type": "markdown",
   "metadata": {},
   "source": [
    "#### Merge observed LFC values with screen hits"
   ]
  },
  {
   "cell_type": "code",
   "execution_count": 51,
   "metadata": {},
   "outputs": [
    {
     "data": {
      "text/html": [
       "<div>\n",
       "<style scoped>\n",
       "    .dataframe tbody tr th:only-of-type {\n",
       "        vertical-align: middle;\n",
       "    }\n",
       "\n",
       "    .dataframe tbody tr th {\n",
       "        vertical-align: top;\n",
       "    }\n",
       "\n",
       "    .dataframe thead th {\n",
       "        text-align: right;\n",
       "    }\n",
       "</style>\n",
       "<table border=\"1\" class=\"dataframe\">\n",
       "  <thead>\n",
       "    <tr style=\"text-align: right;\">\n",
       "      <th></th>\n",
       "      <th>sorted_gene_pair</th>\n",
       "      <th>hap1_hit</th>\n",
       "      <th>rpe1_hit</th>\n",
       "      <th>n_hits</th>\n",
       "      <th>in_93</th>\n",
       "      <th>in_102</th>\n",
       "      <th>hap1_early_obs_LFC</th>\n",
       "      <th>hap1_late_obs_LFC</th>\n",
       "      <th>rpe1_early_obs_LFC</th>\n",
       "      <th>rpe1_late_obs_LFC</th>\n",
       "    </tr>\n",
       "  </thead>\n",
       "  <tbody>\n",
       "    <tr>\n",
       "      <th>0</th>\n",
       "      <td>SEC23A_SEC23B</td>\n",
       "      <td>True</td>\n",
       "      <td>True</td>\n",
       "      <td>2</td>\n",
       "      <td>True</td>\n",
       "      <td>True</td>\n",
       "      <td>-1.896861</td>\n",
       "      <td>-2.079895</td>\n",
       "      <td>-1.644239</td>\n",
       "      <td>-1.96918</td>\n",
       "    </tr>\n",
       "  </tbody>\n",
       "</table>\n",
       "</div>"
      ],
      "text/plain": [
       "  sorted_gene_pair  hap1_hit  rpe1_hit  n_hits  in_93  in_102  \\\n",
       "0    SEC23A_SEC23B      True      True       2   True    True   \n",
       "\n",
       "   hap1_early_obs_LFC  hap1_late_obs_LFC  rpe1_early_obs_LFC  \\\n",
       "0           -1.896861          -2.079895           -1.644239   \n",
       "\n",
       "   rpe1_late_obs_LFC  \n",
       "0           -1.96918  "
      ]
     },
     "metadata": {},
     "output_type": "display_data"
    },
    {
     "data": {
      "text/html": [
       "<div>\n",
       "<style scoped>\n",
       "    .dataframe tbody tr th:only-of-type {\n",
       "        vertical-align: middle;\n",
       "    }\n",
       "\n",
       "    .dataframe tbody tr th {\n",
       "        vertical-align: top;\n",
       "    }\n",
       "\n",
       "    .dataframe thead th {\n",
       "        text-align: right;\n",
       "    }\n",
       "</style>\n",
       "<table border=\"1\" class=\"dataframe\">\n",
       "  <thead>\n",
       "    <tr style=\"text-align: right;\">\n",
       "      <th></th>\n",
       "      <th>sorted_gene_pair</th>\n",
       "      <th>hap1_hit</th>\n",
       "      <th>rpe1_hit</th>\n",
       "      <th>n_hits</th>\n",
       "      <th>min_hap1_lfc</th>\n",
       "      <th>min_rpe1_lfc</th>\n",
       "      <th>in_93</th>\n",
       "      <th>in_102</th>\n",
       "    </tr>\n",
       "  </thead>\n",
       "  <tbody>\n",
       "    <tr>\n",
       "      <th>0</th>\n",
       "      <td>SEC23A_SEC23B</td>\n",
       "      <td>True</td>\n",
       "      <td>True</td>\n",
       "      <td>2</td>\n",
       "      <td>-2.079895</td>\n",
       "      <td>-1.96918</td>\n",
       "      <td>True</td>\n",
       "      <td>True</td>\n",
       "    </tr>\n",
       "  </tbody>\n",
       "</table>\n",
       "</div>"
      ],
      "text/plain": [
       "  sorted_gene_pair  hap1_hit  rpe1_hit  n_hits  min_hap1_lfc  min_rpe1_lfc  \\\n",
       "0    SEC23A_SEC23B      True      True       2     -2.079895      -1.96918   \n",
       "\n",
       "   in_93  in_102  \n",
       "0   True    True  "
      ]
     },
     "execution_count": 51,
     "metadata": {},
     "output_type": "execute_result"
    }
   ],
   "source": [
    "screen_pairs_w_lfc = pd.merge(screen_pairs, hap1_t1)\n",
    "screen_pairs_w_lfc = pd.merge(screen_pairs_w_lfc, hap1_t2)\n",
    "screen_pairs_w_lfc = pd.merge(screen_pairs_w_lfc, rpe1_t1)\n",
    "screen_pairs_w_lfc = pd.merge(screen_pairs_w_lfc, rpe1_t2)\n",
    "display(screen_pairs_w_lfc[:1])\n",
    "\n",
    "screen_pairs_w_lfc = screen_pairs_w_lfc.assign(\n",
    "    min_hap1_lfc = screen_pairs_w_lfc.apply(lambda x: min(x.hap1_early_obs_LFC, x.hap1_late_obs_LFC), axis=1),\n",
    "    min_rpe1_lfc = screen_pairs_w_lfc.apply(lambda x: min(x.rpe1_early_obs_LFC, x.rpe1_late_obs_LFC), axis=1))\n",
    "\n",
    "screen_pairs_w_lfc = screen_pairs_w_lfc[['sorted_gene_pair','hap1_hit','rpe1_hit','n_hits','min_hap1_lfc','min_rpe1_lfc',\n",
    "                                         'in_93','in_102']]\n",
    "# Num hits should be the same as seen earlier\n",
    "assert((sum(screen_pairs_w_lfc.hap1_hit)==sum(screen_pairs.hap1_hit)) & \n",
    "       (sum(screen_pairs_w_lfc.rpe1_hit)==sum(screen_pairs.rpe1_hit)))\n",
    "screen_pairs_w_lfc[:1]"
   ]
  },
  {
   "cell_type": "code",
   "execution_count": 52,
   "metadata": {},
   "outputs": [],
   "source": [
    "screen_pairs_w_lfc.to_csv(file_chymera_pairs_orig)"
   ]
  }
 ],
 "metadata": {
  "kernelspec": {
   "display_name": "Python 3",
   "language": "python",
   "name": "python3"
  },
  "language_info": {
   "codemirror_mode": {
    "name": "ipython",
    "version": 3
   },
   "file_extension": ".py",
   "mimetype": "text/x-python",
   "name": "python",
   "nbconvert_exporter": "python",
   "pygments_lexer": "ipython3",
   "version": "3.7.1"
  }
 },
 "nbformat": 4,
 "nbformat_minor": 4
}
