{
 "cells": [
  {
   "cell_type": "markdown",
   "metadata": {},
   "source": [
    "## Parrish et al paralog GI screen\n",
    "\n",
    "**Discovery of synthetic lethal and tumor suppressive paralog pairs in the human genome**\n",
    "\n",
    "https://www.biorxiv.org/content/10.1101/2020.12.20.423710v1\n",
    "\n",
    "**Input**: Supplemental Table 3. PC9 and HeLa screen paralog genetic interaction (GI) scores and other relevant paralog annotations.\n",
    "\n",
    "**Output**: Paralog pairs from screen annotated with SL status"
   ]
  },
  {
   "cell_type": "code",
   "execution_count": 1,
   "metadata": {},
   "outputs": [],
   "source": [
    "import pandas as pd\n",
    "import numpy as np\n",
    "import scipy.stats as stats\n",
    "from matplotlib_venn import venn2\n",
    "import matplotlib.pyplot as plt\n",
    "import os\n",
    "\n",
    "get_data_path = lambda folders, fname: os.path.normpath(os.environ['3RD_PARTY_DIR']+'/'+'/'.join(folders) +'/'+ fname)\n",
    "get_local_data_path = lambda folders, fname: os.path.normpath('../../local_data/' +'/'.join(folders) +'/'+ fname)\n",
    "\n",
    "# Supplementary Table 3: PC9 and HeLa screen paralog genetic interaction (GI) scores and other relevant paralog annotations.\n",
    "file_data = get_data_path(['GI_screens', 'parrish_2020'], 'media-1.xlsx')\n",
    "file_all_pairs = lambda ens_v: get_local_data_path(['processed', 'ensembl'+ens_v], 'all_pairs.csv')\n",
    "\n",
    "# Output\n",
    "file_parrish_pairs = get_local_data_path(['processed','screen_pairs'], 'parrish_pairs.csv')"
   ]
  },
  {
   "cell_type": "markdown",
   "metadata": {},
   "source": [
    "### Process data from supplement Table 3"
   ]
  },
  {
   "cell_type": "code",
   "execution_count": 2,
   "metadata": {},
   "outputs": [],
   "source": [
    "raw_data = pd.read_excel(file_data, sheet_name='Table_3', skiprows=1)"
   ]
  },
  {
   "cell_type": "code",
   "execution_count": 3,
   "metadata": {},
   "outputs": [
    {
     "data": {
      "text/html": [
       "<div>\n",
       "<style scoped>\n",
       "    .dataframe tbody tr th:only-of-type {\n",
       "        vertical-align: middle;\n",
       "    }\n",
       "\n",
       "    .dataframe tbody tr th {\n",
       "        vertical-align: top;\n",
       "    }\n",
       "\n",
       "    .dataframe thead th {\n",
       "        text-align: right;\n",
       "    }\n",
       "</style>\n",
       "<table border=\"1\" class=\"dataframe\">\n",
       "  <thead>\n",
       "    <tr style=\"text-align: right;\">\n",
       "      <th></th>\n",
       "      <th>paralog_pair</th>\n",
       "      <th>PC9_GI_score_rank</th>\n",
       "      <th>PC9_GI_score</th>\n",
       "      <th>PC9_GI_fdr</th>\n",
       "      <th>HeLa_GI_score_rank</th>\n",
       "      <th>HeLa_GI_score</th>\n",
       "      <th>HeLa_GI_fdr</th>\n",
       "      <th>target1</th>\n",
       "      <th>target2</th>\n",
       "      <th>target1_ensembl_id</th>\n",
       "      <th>...</th>\n",
       "      <th>HeLa_target2_cn</th>\n",
       "      <th>HeLa_DKO_expected_CS</th>\n",
       "      <th>HeLa_DKO_observed_CS</th>\n",
       "      <th>HeLa_GI_pval</th>\n",
       "      <th>PC9_GI_flag</th>\n",
       "      <th>HeLa_GI_flag</th>\n",
       "      <th>GI_flag</th>\n",
       "      <th>same_chr</th>\n",
       "      <th>same_chr_dist</th>\n",
       "      <th>proximity</th>\n",
       "    </tr>\n",
       "  </thead>\n",
       "  <tbody>\n",
       "    <tr>\n",
       "      <th>0</th>\n",
       "      <td>CCNL2|CCNL1</td>\n",
       "      <td>1</td>\n",
       "      <td>-2.313788</td>\n",
       "      <td>0.000165</td>\n",
       "      <td>10</td>\n",
       "      <td>-1.261084</td>\n",
       "      <td>0.026168</td>\n",
       "      <td>CCNL2</td>\n",
       "      <td>CCNL1</td>\n",
       "      <td>ENSG00000221978</td>\n",
       "      <td>...</td>\n",
       "      <td>1.870128</td>\n",
       "      <td>-0.099315</td>\n",
       "      <td>-1.332104</td>\n",
       "      <td>0.001626</td>\n",
       "      <td>SL_in_PC9</td>\n",
       "      <td>SL_in_HeLa</td>\n",
       "      <td>synthetic_lethal</td>\n",
       "      <td>False</td>\n",
       "      <td>NaN</td>\n",
       "      <td>diff_chr</td>\n",
       "    </tr>\n",
       "    <tr>\n",
       "      <th>1</th>\n",
       "      <td>CDK6|CDK4</td>\n",
       "      <td>2</td>\n",
       "      <td>-1.537568</td>\n",
       "      <td>0.000340</td>\n",
       "      <td>210</td>\n",
       "      <td>-0.251834</td>\n",
       "      <td>0.307389</td>\n",
       "      <td>CDK6</td>\n",
       "      <td>CDK4</td>\n",
       "      <td>ENSG00000105810</td>\n",
       "      <td>...</td>\n",
       "      <td>1.854469</td>\n",
       "      <td>-0.451694</td>\n",
       "      <td>-0.632285</td>\n",
       "      <td>0.119673</td>\n",
       "      <td>SL_in_PC9</td>\n",
       "      <td>neither_in_HeLa</td>\n",
       "      <td>synthetic_lethal</td>\n",
       "      <td>False</td>\n",
       "      <td>NaN</td>\n",
       "      <td>diff_chr</td>\n",
       "    </tr>\n",
       "  </tbody>\n",
       "</table>\n",
       "<p>2 rows × 38 columns</p>\n",
       "</div>"
      ],
      "text/plain": [
       "  paralog_pair  PC9_GI_score_rank  PC9_GI_score  PC9_GI_fdr  \\\n",
       "0  CCNL2|CCNL1                  1     -2.313788    0.000165   \n",
       "1    CDK6|CDK4                  2     -1.537568    0.000340   \n",
       "\n",
       "   HeLa_GI_score_rank  HeLa_GI_score  HeLa_GI_fdr target1 target2  \\\n",
       "0                  10      -1.261084     0.026168   CCNL2   CCNL1   \n",
       "1                 210      -0.251834     0.307389    CDK6    CDK4   \n",
       "\n",
       "  target1_ensembl_id  ... HeLa_target2_cn  HeLa_DKO_expected_CS  \\\n",
       "0    ENSG00000221978  ...        1.870128             -0.099315   \n",
       "1    ENSG00000105810  ...        1.854469             -0.451694   \n",
       "\n",
       "  HeLa_DKO_observed_CS HeLa_GI_pval PC9_GI_flag     HeLa_GI_flag  \\\n",
       "0            -1.332104     0.001626   SL_in_PC9       SL_in_HeLa   \n",
       "1            -0.632285     0.119673   SL_in_PC9  neither_in_HeLa   \n",
       "\n",
       "            GI_flag  same_chr  same_chr_dist  proximity  \n",
       "0  synthetic_lethal     False            NaN   diff_chr  \n",
       "1  synthetic_lethal     False            NaN   diff_chr  \n",
       "\n",
       "[2 rows x 38 columns]"
      ]
     },
     "execution_count": 3,
     "metadata": {},
     "output_type": "execute_result"
    }
   ],
   "source": [
    "raw_data[:2]"
   ]
  },
  {
   "cell_type": "code",
   "execution_count": 4,
   "metadata": {},
   "outputs": [
    {
     "name": "stdout",
     "output_type": "stream",
     "text": [
      "N SL in PC9: 87 / 1030\n",
      "N SL in HeLa: 70 / 1030\n"
     ]
    }
   ],
   "source": [
    "# SL interactions are called for: GI < -0.5 and FDR <0.1\n",
    "# Preprint says 87 SLs in PC9 and 70 SLs in HeLa, 122 SL in at least 1 context\n",
    "print('N SL in PC9:', raw_data[(raw_data.PC9_GI_score < -0.5) & (raw_data.PC9_GI_fdr < 0.1)].shape[0], '/', raw_data.shape[0])\n",
    "print('N SL in HeLa:', raw_data[(raw_data.HeLa_GI_score < -0.5) & (raw_data.HeLa_GI_fdr < 0.1)].shape[0], \n",
    "      '/', raw_data.shape[0])"
   ]
  },
  {
   "cell_type": "markdown",
   "metadata": {},
   "source": [
    "#### Identify hits"
   ]
  },
  {
   "cell_type": "code",
   "execution_count": 5,
   "metadata": {},
   "outputs": [
    {
     "name": "stdout",
     "output_type": "stream",
     "text": [
      "N pairs with SL flag: 122\n"
     ]
    },
    {
     "data": {
      "text/html": [
       "<div>\n",
       "<style scoped>\n",
       "    .dataframe tbody tr th:only-of-type {\n",
       "        vertical-align: middle;\n",
       "    }\n",
       "\n",
       "    .dataframe tbody tr th {\n",
       "        vertical-align: top;\n",
       "    }\n",
       "\n",
       "    .dataframe thead th {\n",
       "        text-align: right;\n",
       "    }\n",
       "</style>\n",
       "<table border=\"1\" class=\"dataframe\">\n",
       "  <thead>\n",
       "    <tr style=\"text-align: right;\">\n",
       "      <th></th>\n",
       "      <th>paralog_pair</th>\n",
       "      <th>PC9_GI_score_rank</th>\n",
       "      <th>PC9_GI_score</th>\n",
       "      <th>PC9_GI_fdr</th>\n",
       "      <th>HeLa_GI_score_rank</th>\n",
       "      <th>HeLa_GI_score</th>\n",
       "      <th>HeLa_GI_fdr</th>\n",
       "      <th>target1</th>\n",
       "      <th>target2</th>\n",
       "      <th>A1_ensembl</th>\n",
       "      <th>...</th>\n",
       "      <th>HeLa_GI_pval</th>\n",
       "      <th>PC9_GI_flag</th>\n",
       "      <th>HeLa_GI_flag</th>\n",
       "      <th>GI_flag</th>\n",
       "      <th>same_chr</th>\n",
       "      <th>same_chr_dist</th>\n",
       "      <th>proximity</th>\n",
       "      <th>PC9_SL</th>\n",
       "      <th>HeLa_SL</th>\n",
       "      <th>n_SL</th>\n",
       "    </tr>\n",
       "  </thead>\n",
       "  <tbody>\n",
       "    <tr>\n",
       "      <th>0</th>\n",
       "      <td>CCNL2|CCNL1</td>\n",
       "      <td>1</td>\n",
       "      <td>-2.313788</td>\n",
       "      <td>0.000165</td>\n",
       "      <td>10</td>\n",
       "      <td>-1.261084</td>\n",
       "      <td>0.026168</td>\n",
       "      <td>CCNL2</td>\n",
       "      <td>CCNL1</td>\n",
       "      <td>ENSG00000221978</td>\n",
       "      <td>...</td>\n",
       "      <td>0.001626</td>\n",
       "      <td>SL_in_PC9</td>\n",
       "      <td>SL_in_HeLa</td>\n",
       "      <td>synthetic_lethal</td>\n",
       "      <td>False</td>\n",
       "      <td>NaN</td>\n",
       "      <td>diff_chr</td>\n",
       "      <td>True</td>\n",
       "      <td>True</td>\n",
       "      <td>2</td>\n",
       "    </tr>\n",
       "    <tr>\n",
       "      <th>1</th>\n",
       "      <td>CDK6|CDK4</td>\n",
       "      <td>2</td>\n",
       "      <td>-1.537568</td>\n",
       "      <td>0.000340</td>\n",
       "      <td>210</td>\n",
       "      <td>-0.251834</td>\n",
       "      <td>0.307389</td>\n",
       "      <td>CDK6</td>\n",
       "      <td>CDK4</td>\n",
       "      <td>ENSG00000105810</td>\n",
       "      <td>...</td>\n",
       "      <td>0.119673</td>\n",
       "      <td>SL_in_PC9</td>\n",
       "      <td>neither_in_HeLa</td>\n",
       "      <td>synthetic_lethal</td>\n",
       "      <td>False</td>\n",
       "      <td>NaN</td>\n",
       "      <td>diff_chr</td>\n",
       "      <td>True</td>\n",
       "      <td>False</td>\n",
       "      <td>1</td>\n",
       "    </tr>\n",
       "  </tbody>\n",
       "</table>\n",
       "<p>2 rows × 41 columns</p>\n",
       "</div>"
      ],
      "text/plain": [
       "  paralog_pair  PC9_GI_score_rank  PC9_GI_score  PC9_GI_fdr  \\\n",
       "0  CCNL2|CCNL1                  1     -2.313788    0.000165   \n",
       "1    CDK6|CDK4                  2     -1.537568    0.000340   \n",
       "\n",
       "   HeLa_GI_score_rank  HeLa_GI_score  HeLa_GI_fdr target1 target2  \\\n",
       "0                  10      -1.261084     0.026168   CCNL2   CCNL1   \n",
       "1                 210      -0.251834     0.307389    CDK6    CDK4   \n",
       "\n",
       "        A1_ensembl  ... HeLa_GI_pval  PC9_GI_flag     HeLa_GI_flag  \\\n",
       "0  ENSG00000221978  ...     0.001626    SL_in_PC9       SL_in_HeLa   \n",
       "1  ENSG00000105810  ...     0.119673    SL_in_PC9  neither_in_HeLa   \n",
       "\n",
       "            GI_flag same_chr  same_chr_dist  proximity  PC9_SL  HeLa_SL  n_SL  \n",
       "0  synthetic_lethal    False            NaN   diff_chr    True     True     2  \n",
       "1  synthetic_lethal    False            NaN   diff_chr    True    False     1  \n",
       "\n",
       "[2 rows x 41 columns]"
      ]
     },
     "execution_count": 5,
     "metadata": {},
     "output_type": "execute_result"
    }
   ],
   "source": [
    "# Call pair SL on a cell line specific basis\n",
    "all_screen_pairs = raw_data.assign(PC9_SL = (raw_data.PC9_GI_score < -0.5) & (raw_data.PC9_GI_fdr < 0.1),\n",
    "                                   HeLa_SL = (raw_data.HeLa_GI_score < -0.5) & (raw_data.HeLa_GI_fdr < 0.1))\n",
    "all_screen_pairs['n_SL'] = all_screen_pairs[['PC9_SL','HeLa_SL']].sum(axis=1)\n",
    "\n",
    "# Check that this matches with annotations\n",
    "assert(all_screen_pairs[all_screen_pairs.PC9_GI_flag=='SL_in_PC9'].shape[0] == sum(all_screen_pairs.PC9_SL))\n",
    "assert(all_screen_pairs[all_screen_pairs.HeLa_GI_flag=='SL_in_HeLa'].shape[0] == sum(all_screen_pairs.HeLa_SL))\n",
    "print('N pairs with SL flag:', all_screen_pairs[all_screen_pairs.GI_flag=='synthetic_lethal'].shape[0])\n",
    "\n",
    "# Rename for merging with our Ensembl list\n",
    "all_screen_pairs = all_screen_pairs.rename(columns={'target1_ensembl_id':'A1_ensembl', 'target2_ensembl_id':'A2_ensembl'})\n",
    "\n",
    "all_screen_pairs[:2]"
   ]
  },
  {
   "cell_type": "markdown",
   "metadata": {},
   "source": [
    "#### Merge with our Ensembl pairs"
   ]
  },
  {
   "cell_type": "code",
   "execution_count": 6,
   "metadata": {},
   "outputs": [
    {
     "name": "stdout",
     "output_type": "stream",
     "text": [
      "N= 73296\n",
      "N= 179968\n"
     ]
    }
   ],
   "source": [
    "all_pairs_93 = pd.read_csv(file_all_pairs('93'))[['A1','A2','A1_ensembl','A2_ensembl']]\n",
    "print('N=', all_pairs_93.shape[0])\n",
    "all_pairs_102 = pd.read_csv(file_all_pairs('102'))[['A1','A2','A1_ensembl','A2_ensembl']]\n",
    "print('N=', all_pairs_102.shape[0])"
   ]
  },
  {
   "cell_type": "code",
   "execution_count": 7,
   "metadata": {},
   "outputs": [
    {
     "name": "stdout",
     "output_type": "stream",
     "text": [
      "Overlap w/ Ens.93: 1027\n",
      "Overlap w/ Ens.102: 1015\n"
     ]
    },
    {
     "data": {
      "text/html": [
       "<div>\n",
       "<style scoped>\n",
       "    .dataframe tbody tr th:only-of-type {\n",
       "        vertical-align: middle;\n",
       "    }\n",
       "\n",
       "    .dataframe tbody tr th {\n",
       "        vertical-align: top;\n",
       "    }\n",
       "\n",
       "    .dataframe thead th {\n",
       "        text-align: right;\n",
       "    }\n",
       "</style>\n",
       "<table border=\"1\" class=\"dataframe\">\n",
       "  <thead>\n",
       "    <tr style=\"text-align: right;\">\n",
       "      <th></th>\n",
       "      <th>sorted_gene_pair</th>\n",
       "      <th>A1</th>\n",
       "      <th>A2</th>\n",
       "      <th>PC9_SL</th>\n",
       "      <th>HeLa_SL</th>\n",
       "      <th>n_SL</th>\n",
       "      <th>in_93</th>\n",
       "      <th>in_102</th>\n",
       "    </tr>\n",
       "  </thead>\n",
       "  <tbody>\n",
       "    <tr>\n",
       "      <th>0</th>\n",
       "      <td>A2M_PZP</td>\n",
       "      <td>A2M</td>\n",
       "      <td>PZP</td>\n",
       "      <td>False</td>\n",
       "      <td>False</td>\n",
       "      <td>0</td>\n",
       "      <td>True</td>\n",
       "      <td>True</td>\n",
       "    </tr>\n",
       "  </tbody>\n",
       "</table>\n",
       "</div>"
      ],
      "text/plain": [
       "  sorted_gene_pair   A1   A2 PC9_SL HeLa_SL  n_SL  in_93  in_102\n",
       "0          A2M_PZP  A2M  PZP  False   False     0   True    True"
      ]
     },
     "execution_count": 7,
     "metadata": {},
     "output_type": "execute_result"
    }
   ],
   "source": [
    "# Merge with Ensembl list of paralog pairs (both versions), on Ensembl ID\n",
    "overlap_93 = pd.merge(all_pairs_93[['A1','A2','A1_ensembl','A2_ensembl']], all_screen_pairs)\n",
    "overlap_102 = pd.merge(all_pairs_102[['A1','A2','A1_ensembl','A2_ensembl']], all_screen_pairs)\n",
    "print('Overlap w/ Ens.93:', overlap_93.shape[0])\n",
    "print('Overlap w/ Ens.102:', overlap_102.shape[0])\n",
    "\n",
    "# Combine both merges to get pairs in either Ensembl version\n",
    "screen_pairs = pd.merge(overlap_93, overlap_102, how='outer', indicator='in_version')\n",
    "screen_pairs = screen_pairs.assign(in_93 = ((screen_pairs.in_version=='both') | (screen_pairs.in_version=='left_only')),\n",
    "                                   in_102 = ((screen_pairs.in_version=='both') | (screen_pairs.in_version=='right_only')))\n",
    "\n",
    "screen_pairs['sorted_gene_pair'] = screen_pairs.apply(lambda x: '_'.join(sorted([x.A1, x.A2])), axis=1)\n",
    "screen_pairs = screen_pairs[['sorted_gene_pair','A1','A2','PC9_SL','HeLa_SL','n_SL','in_93','in_102']]\n",
    "screen_pairs[:1]"
   ]
  },
  {
   "cell_type": "markdown",
   "metadata": {},
   "source": [
    "#### Num hits"
   ]
  },
  {
   "cell_type": "code",
   "execution_count": 10,
   "metadata": {},
   "outputs": [
    {
     "name": "stdout",
     "output_type": "stream",
     "text": [
      "SL in 1+: 122 = 11.87%\n",
      "SL in 2: 35 = 3.40%\n"
     ]
    },
    {
     "data": {
      "text/html": [
       "<div>\n",
       "<style scoped>\n",
       "    .dataframe tbody tr th:only-of-type {\n",
       "        vertical-align: middle;\n",
       "    }\n",
       "\n",
       "    .dataframe tbody tr th {\n",
       "        vertical-align: top;\n",
       "    }\n",
       "\n",
       "    .dataframe thead th {\n",
       "        text-align: right;\n",
       "    }\n",
       "</style>\n",
       "<table border=\"1\" class=\"dataframe\">\n",
       "  <thead>\n",
       "    <tr style=\"text-align: right;\">\n",
       "      <th></th>\n",
       "      <th>sorted_gene_pair</th>\n",
       "      <th>A1</th>\n",
       "      <th>A2</th>\n",
       "      <th>PC9_SL</th>\n",
       "      <th>HeLa_SL</th>\n",
       "      <th>n_SL</th>\n",
       "      <th>in_93</th>\n",
       "      <th>in_102</th>\n",
       "    </tr>\n",
       "  </thead>\n",
       "  <tbody>\n",
       "    <tr>\n",
       "      <th>0</th>\n",
       "      <td>A2M_PZP</td>\n",
       "      <td>A2M</td>\n",
       "      <td>PZP</td>\n",
       "      <td>False</td>\n",
       "      <td>False</td>\n",
       "      <td>0</td>\n",
       "      <td>True</td>\n",
       "      <td>True</td>\n",
       "    </tr>\n",
       "    <tr>\n",
       "      <th>1</th>\n",
       "      <td>F11_KLKB1</td>\n",
       "      <td>F11</td>\n",
       "      <td>KLKB1</td>\n",
       "      <td>True</td>\n",
       "      <td>False</td>\n",
       "      <td>1</td>\n",
       "      <td>True</td>\n",
       "      <td>True</td>\n",
       "    </tr>\n",
       "  </tbody>\n",
       "</table>\n",
       "</div>"
      ],
      "text/plain": [
       "  sorted_gene_pair   A1     A2 PC9_SL HeLa_SL  n_SL  in_93  in_102\n",
       "0          A2M_PZP  A2M    PZP  False   False     0   True    True\n",
       "1        F11_KLKB1  F11  KLKB1   True   False     1   True    True"
      ]
     },
     "execution_count": 10,
     "metadata": {},
     "output_type": "execute_result"
    }
   ],
   "source": [
    "print('SL in 1+: %d = %.2f%%' % (sum(screen_pairs.n_SL >= 1), sum(screen_pairs.n_SL >= 1)/screen_pairs.shape[0]*100))\n",
    "print('SL in 2: %d = %.2f%%' % (sum(screen_pairs.n_SL == 2), sum(screen_pairs.n_SL == 2)/screen_pairs.shape[0]*100))\n",
    "screen_pairs[:2]"
   ]
  },
  {
   "cell_type": "code",
   "execution_count": 11,
   "metadata": {},
   "outputs": [
    {
     "data": {
      "image/png": "[encoded data removed]",
      "text/plain": [
       "<Figure size 216x216 with 1 Axes>"
      ]
     },
     "metadata": {},
     "output_type": "display_data"
    }
   ],
   "source": [
    "f, ax = plt.subplots(figsize=(3,3))\n",
    "v = venn2([set(screen_pairs[screen_pairs.PC9_SL]['sorted_gene_pair']), \n",
    "           set(screen_pairs[screen_pairs.HeLa_SL]['sorted_gene_pair'])], ['PC9','HeLa'], ax=ax, set_colors=['skyblue','red'])\n",
    "for text in v.set_labels: text.set_fontsize(10)"
   ]
  },
  {
   "cell_type": "code",
   "execution_count": 14,
   "metadata": {},
   "outputs": [],
   "source": [
    "screen_pairs.drop(columns=['A1','A2']).to_csv(file_parrish_pairs, index=0)"
   ]
  }
 ],
 "metadata": {
  "kernelspec": {
   "display_name": "Python 3.7.9 64-bit ('paralogSL': conda)",
   "language": "python",
   "name": "python37964bitparalogslconda0f0e77de73d34c52b743edfe8868363d"
  },
  "language_info": {
   "codemirror_mode": {
    "name": "ipython",
    "version": 3
   },
   "file_extension": ".py",
   "mimetype": "text/x-python",
   "name": "python",
   "nbconvert_exporter": "python",
   "pygments_lexer": "ipython3",
   "version": "3.7.1"
  }
 },
 "nbformat": 4,
 "nbformat_minor": 4
}
