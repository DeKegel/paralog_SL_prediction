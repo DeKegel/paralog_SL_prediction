{
 "cells": [
  {
   "cell_type": "markdown",
   "metadata": {},
   "source": [
    "## Dede et al (2020) double perturbation screens\n",
    "\n",
    "#### Multiplex enCas12a screens detect functional buffering among paralogs otherwise masked in monogenic Cas9 knockout screens\n",
    "Merve Dede, Megan McLaughlin, Eiru Kim & Traver Hart\n",
    "\n",
    "https://genomebiology.biomedcentral.com/articles/10.1186/s13059-020-02173-2#Sec17\n",
    "\n",
    "**Input**: Table S2 from the paper\n",
    "\n",
    "**Output**: Paralog pairs from screen annotated with SL status"
   ]
  },
  {
   "cell_type": "code",
   "execution_count": 1,
   "metadata": {},
   "outputs": [],
   "source": [
    "import pandas as pd\n",
    "import numpy as np\n",
    "import scipy.stats as stats\n",
    "import os\n",
    "\n",
    "get_data_path = lambda folders, fname: os.path.normpath(os.environ['3RD_PARTY_DIR']+'/'+'/'.join(folders) +'/'+ fname)\n",
    "get_local_data_path = lambda folders, fname: os.path.normpath('../../local_data/' +'/'.join(folders) +'/'+ fname)\n",
    "\n",
    "# Supplementary Table 2: Table of zdLFC scores from the paralog screen.\n",
    "file_table_s2 = get_data_path(['GI_screens', 'dede_2020'], 'Table_S2.txt')\n",
    "file_all_pairs = lambda ens_v: get_local_data_path(['processed', 'ensembl'+ens_v], 'all_pairs.csv')\n",
    "\n",
    "# Output\n",
    "file_dede_pairs = get_local_data_path(['processed','screen_pairs'], 'dede_pairs.csv')"
   ]
  },
  {
   "cell_type": "markdown",
   "metadata": {},
   "source": [
    "### Process Table S2 from paper\n",
    "Add SL calls based on score < -3"
   ]
  },
  {
   "cell_type": "code",
   "execution_count": 2,
   "metadata": {
    "tags": []
   },
   "outputs": [
    {
     "name": "stdout",
     "output_type": "stream",
     "text": [
      "N pairs: 403\n"
     ]
    },
    {
     "data": {
      "text/html": [
       "<div>\n",
       "<style scoped>\n",
       "    .dataframe tbody tr th:only-of-type {\n",
       "        vertical-align: middle;\n",
       "    }\n",
       "\n",
       "    .dataframe tbody tr th {\n",
       "        vertical-align: top;\n",
       "    }\n",
       "\n",
       "    .dataframe thead th {\n",
       "        text-align: right;\n",
       "    }\n",
       "</style>\n",
       "<table border=\"1\" class=\"dataframe\">\n",
       "  <thead>\n",
       "    <tr style=\"text-align: right;\">\n",
       "      <th></th>\n",
       "      <th>pair</th>\n",
       "      <th>A549</th>\n",
       "      <th>HT29</th>\n",
       "      <th>OVCAR8</th>\n",
       "      <th>A1</th>\n",
       "      <th>A2</th>\n",
       "    </tr>\n",
       "  </thead>\n",
       "  <tbody>\n",
       "    <tr>\n",
       "      <th>0</th>\n",
       "      <td>ABHD4_ABHD5</td>\n",
       "      <td>-0.609</td>\n",
       "      <td>-0.036</td>\n",
       "      <td>-0.046</td>\n",
       "      <td>ABHD4</td>\n",
       "      <td>ABHD5</td>\n",
       "    </tr>\n",
       "    <tr>\n",
       "      <th>1</th>\n",
       "      <td>ABL1_ABL2</td>\n",
       "      <td>0.088</td>\n",
       "      <td>0.887</td>\n",
       "      <td>0.080</td>\n",
       "      <td>ABL1</td>\n",
       "      <td>ABL2</td>\n",
       "    </tr>\n",
       "  </tbody>\n",
       "</table>\n",
       "</div>"
      ],
      "text/plain": [
       "          pair   A549   HT29  OVCAR8     A1     A2\n",
       "0  ABHD4_ABHD5 -0.609 -0.036  -0.046  ABHD4  ABHD5\n",
       "1    ABL1_ABL2  0.088  0.887   0.080   ABL1   ABL2"
      ]
     },
     "execution_count": 2,
     "metadata": {},
     "output_type": "execute_result"
    }
   ],
   "source": [
    "# Table S2 has all pairs with score in each of the three screened cell lines\n",
    "table_s2 = pd.read_csv(file_table_s2, sep='\\t')\n",
    "table_s2 = table_s2.rename(columns={'Unnamed: 0':'pair'})\n",
    "print('N pairs:', table_s2.shape[0])\n",
    "table_s2['A1'] = table_s2.pair.apply(lambda x: x.split('_')[0])\n",
    "table_s2['A2'] = table_s2.pair.apply(lambda x: x.split('_')[1])\n",
    "table_s2[:2]"
   ]
  },
  {
   "cell_type": "markdown",
   "metadata": {},
   "source": [
    "#### Label SL gene pairs"
   ]
  },
  {
   "cell_type": "code",
   "execution_count": 3,
   "metadata": {
    "tags": []
   },
   "outputs": [
    {
     "data": {
      "text/html": [
       "<div>\n",
       "<style scoped>\n",
       "    .dataframe tbody tr th:only-of-type {\n",
       "        vertical-align: middle;\n",
       "    }\n",
       "\n",
       "    .dataframe tbody tr th {\n",
       "        vertical-align: top;\n",
       "    }\n",
       "\n",
       "    .dataframe thead th {\n",
       "        text-align: right;\n",
       "    }\n",
       "</style>\n",
       "<table border=\"1\" class=\"dataframe\">\n",
       "  <thead>\n",
       "    <tr style=\"text-align: right;\">\n",
       "      <th></th>\n",
       "      <th>pair</th>\n",
       "      <th>A549</th>\n",
       "      <th>HT29</th>\n",
       "      <th>OVCAR8</th>\n",
       "      <th>A1</th>\n",
       "      <th>A2</th>\n",
       "      <th>A549_SL</th>\n",
       "      <th>HT29_SL</th>\n",
       "      <th>OVCAR8_SL</th>\n",
       "      <th>n_SL</th>\n",
       "    </tr>\n",
       "  </thead>\n",
       "  <tbody>\n",
       "    <tr>\n",
       "      <th>0</th>\n",
       "      <td>ABHD4_ABHD5</td>\n",
       "      <td>-0.609</td>\n",
       "      <td>-0.036</td>\n",
       "      <td>-0.046</td>\n",
       "      <td>ABHD4</td>\n",
       "      <td>ABHD5</td>\n",
       "      <td>False</td>\n",
       "      <td>False</td>\n",
       "      <td>False</td>\n",
       "      <td>0</td>\n",
       "    </tr>\n",
       "  </tbody>\n",
       "</table>\n",
       "</div>"
      ],
      "text/plain": [
       "          pair   A549   HT29  OVCAR8     A1     A2  A549_SL  HT29_SL  \\\n",
       "0  ABHD4_ABHD5 -0.609 -0.036  -0.046  ABHD4  ABHD5    False    False   \n",
       "\n",
       "   OVCAR8_SL  n_SL  \n",
       "0      False     0  "
      ]
     },
     "execution_count": 3,
     "metadata": {},
     "output_type": "execute_result"
    }
   ],
   "source": [
    "# Call pair SL in cell line if score < -3\n",
    "screen_hits = table_s2.assign(A549_SL = table_s2.A549 < -3, \n",
    "                              HT29_SL = table_s2.HT29 < -3, \n",
    "                              OVCAR8_SL = table_s2.OVCAR8 < -3)\n",
    "screen_hits['n_SL'] = screen_hits[['A549_SL','HT29_SL','OVCAR8_SL']].sum(axis=1)\n",
    "screen_hits[:1]"
   ]
  },
  {
   "cell_type": "markdown",
   "metadata": {},
   "source": [
    "#### Merge with Ensembl paralogs"
   ]
  },
  {
   "cell_type": "code",
   "execution_count": 4,
   "metadata": {
    "tags": []
   },
   "outputs": [],
   "source": [
    "# Check overlap with different Ensembl versions\n",
    "all_pairs_93 = pd.read_csv(file_all_pairs('93'))[['A1','A2']]\n",
    "all_pairs_102 = pd.read_csv(file_all_pairs('102'))[['A1','A2']]"
   ]
  },
  {
   "cell_type": "code",
   "execution_count": 5,
   "metadata": {
    "tags": []
   },
   "outputs": [
    {
     "name": "stdout",
     "output_type": "stream",
     "text": [
      "Overlap w/ Ens.93: 393\n",
      "Overlap w/ Ens.102: 396\n",
      "SL in 1+: 24\n",
      "SL in 2+: 19\n",
      "SL in all 3: 14\n",
      "% SL 2+: 4.71%\n"
     ]
    },
    {
     "data": {
      "text/html": [
       "<div>\n",
       "<style scoped>\n",
       "    .dataframe tbody tr th:only-of-type {\n",
       "        vertical-align: middle;\n",
       "    }\n",
       "\n",
       "    .dataframe tbody tr th {\n",
       "        vertical-align: top;\n",
       "    }\n",
       "\n",
       "    .dataframe thead th {\n",
       "        text-align: right;\n",
       "    }\n",
       "</style>\n",
       "<table border=\"1\" class=\"dataframe\">\n",
       "  <thead>\n",
       "    <tr style=\"text-align: right;\">\n",
       "      <th></th>\n",
       "      <th>sorted_gene_pair</th>\n",
       "      <th>A549</th>\n",
       "      <th>HT29</th>\n",
       "      <th>OVCAR8</th>\n",
       "      <th>A1</th>\n",
       "      <th>A2</th>\n",
       "      <th>A549_SL</th>\n",
       "      <th>HT29_SL</th>\n",
       "      <th>OVCAR8_SL</th>\n",
       "      <th>n_SL</th>\n",
       "      <th>in_93</th>\n",
       "      <th>in_102</th>\n",
       "    </tr>\n",
       "  </thead>\n",
       "  <tbody>\n",
       "    <tr>\n",
       "      <th>0</th>\n",
       "      <td>ABHD4_ABHD5</td>\n",
       "      <td>-0.609</td>\n",
       "      <td>-0.036</td>\n",
       "      <td>-0.046</td>\n",
       "      <td>ABHD4</td>\n",
       "      <td>ABHD5</td>\n",
       "      <td>False</td>\n",
       "      <td>False</td>\n",
       "      <td>False</td>\n",
       "      <td>0</td>\n",
       "      <td>True</td>\n",
       "      <td>True</td>\n",
       "    </tr>\n",
       "    <tr>\n",
       "      <th>1</th>\n",
       "      <td>ABL1_ABL2</td>\n",
       "      <td>0.088</td>\n",
       "      <td>0.887</td>\n",
       "      <td>0.080</td>\n",
       "      <td>ABL1</td>\n",
       "      <td>ABL2</td>\n",
       "      <td>False</td>\n",
       "      <td>False</td>\n",
       "      <td>False</td>\n",
       "      <td>0</td>\n",
       "      <td>True</td>\n",
       "      <td>True</td>\n",
       "    </tr>\n",
       "  </tbody>\n",
       "</table>\n",
       "</div>"
      ],
      "text/plain": [
       "  sorted_gene_pair   A549   HT29  OVCAR8     A1     A2  A549_SL  HT29_SL  \\\n",
       "0      ABHD4_ABHD5 -0.609 -0.036  -0.046  ABHD4  ABHD5    False    False   \n",
       "1        ABL1_ABL2  0.088  0.887   0.080   ABL1   ABL2    False    False   \n",
       "\n",
       "   OVCAR8_SL  n_SL  in_93  in_102  \n",
       "0      False     0   True    True  \n",
       "1      False     0   True    True  "
      ]
     },
     "execution_count": 5,
     "metadata": {},
     "output_type": "execute_result"
    }
   ],
   "source": [
    "# Merge with our Ensembl list of paralog pairs\n",
    "screen_pairs = pd.merge(screen_hits, all_pairs_93, how='left', indicator='in_93')\n",
    "screen_pairs = pd.merge(screen_pairs, all_pairs_102, how='left', indicator='in_102')\n",
    "screen_pairs['in_93'] = screen_pairs['in_93'] == 'both'\n",
    "screen_pairs['in_102'] = screen_pairs['in_102'] == 'both'\n",
    "assert(screen_hits.shape[0] == screen_pairs.shape[0])\n",
    "print('Overlap w/ Ens.93:', sum(screen_pairs.in_93))\n",
    "print('Overlap w/ Ens.102:', sum(screen_pairs.in_102))\n",
    "\n",
    "# Sorted gene pair column\n",
    "screen_pairs = screen_pairs.drop(columns=['pair'])\n",
    "screen_pairs.insert(0, 'sorted_gene_pair', screen_pairs.apply(lambda x: '_'.join(sorted([x.A1, x.A2])), axis=1))\n",
    "\n",
    "# Summary numbers\n",
    "print('SL in 1+:', screen_pairs[screen_pairs.n_SL >= 1].shape[0])\n",
    "print('SL in 2+:', screen_pairs[screen_pairs.n_SL >= 2].shape[0])\n",
    "print('SL in all 3:', screen_pairs[screen_pairs.n_SL == 3].shape[0])\n",
    "print('%% SL 2+: %.2f%%' % (screen_pairs[screen_pairs.n_SL>=2].shape[0]/screen_pairs.shape[0]*100))\n",
    "screen_pairs[:2]"
   ]
  },
  {
   "cell_type": "code",
   "execution_count": 8,
   "metadata": {},
   "outputs": [],
   "source": [
    "screen_pairs.drop(columns=['A1','A2']).to_csv(file_dede_pairs, index=0)"
   ]
  }
 ],
 "metadata": {
  "kernelspec": {
   "display_name": "Python 3",
   "language": "python",
   "name": "python3"
  },
  "language_info": {
   "codemirror_mode": {
    "name": "ipython",
    "version": 3
   },
   "file_extension": ".py",
   "mimetype": "text/x-python",
   "name": "python",
   "nbconvert_exporter": "python",
   "pygments_lexer": "ipython3",
   "version": "3.7.1"
  }
 },
 "nbformat": 4,
 "nbformat_minor": 4
}
