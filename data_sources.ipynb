{
 "cells": [
  {
   "cell_type": "markdown",
   "metadata": {},
   "source": [
    "## 3rd party data files \n",
    "\n",
    "For notebooks in `1_data_processing` and `2_data_analysis` (nbs 1,6,8 in analysis)"
   ]
  },
  {
   "cell_type": "markdown",
   "metadata": {},
   "source": [
    "### Ensembl Biomart (v. 93)\n",
    "\n",
    "For all Biomart queries below (except the last):\n",
    "* Dataset: Human genes (GRCh38.p12)  \n",
    "* Filters:\n",
    "    * Gene type: protein_coding\n",
    "    * Paralogous Human Genes: Only  \n",
    "\n",
    "*ensembl/93/paralog_pairs.txt*\n",
    "\n",
    "* URL: http://jul2018.archive.ensembl.org/biomart/martview/2b42ece4d3c406c0f0c4a45971d50b3e?VIRTUALSCHEMANAME=default&ATTRIBUTES=hsapiens_gene_ensembl.default.homologs.ensembl_gene_id|hsapiens_gene_ensembl.default.homologs.hsapiens_paralog_ensembl_gene|hsapiens_gene_ensembl.default.homologs.hsapiens_paralog_perc_id|hsapiens_gene_ensembl.default.homologs.hsapiens_paralog_subtype&FILTERS=hsapiens_gene_ensembl.default.filters.biotype.\"protein_coding\"|hsapiens_gene_ensembl.default.filters.with_hsapiens_paralog.only&VISIBLEPANEL=resultspanel\n",
    " \n",
    "* Attributes:\n",
    "    * Gene stable ID\n",
    "    * Human paralogue gene stable ID\n",
    "    * Paralogue %id. target Human gene identical to query gene\n",
    "    * Paralogue last common ancestor with Human\n",
    "\n",
    "\n",
    "*ensembl/93/gene_cds_length.txt*\n",
    "\n",
    "* URL: http://jul2018.archive.ensembl.org/biomart/martview/2b42ece4d3c406c0f0c4a45971d50b3e?VIRTUALSCHEMANAME=default&ATTRIBUTES=hsapiens_gene_ensembl.default.structure.ensembl_gene_id|hsapiens_gene_ensembl.default.structure.cds_length|hsapiens_gene_ensembl.default.structure.ensembl_peptide_id&FILTERS=hsapiens_gene_ensembl.default.filters.biotype.\"protein_coding\"|hsapiens_gene_ensembl.default.filters.with_hsapiens_paralog.only&VISIBLEPANEL=resultspanel\n",
    "\n",
    "* Attributes:\n",
    "    * Gene stable ID\n",
    "    * CDS Length\n",
    "    * Protein stable ID\n",
    " \n",
    "\n",
    "*ensembl/93/cerevisiae_orthologs.txt*\n",
    "\n",
    "* URL: http://jul2018.archive.ensembl.org/biomart/martview/2b42ece4d3c406c0f0c4a45971d50b3e?VIRTUALSCHEMANAME=default&ATTRIBUTES=hsapiens_gene_ensembl.default.homologs.ensembl_gene_id|hsapiens_gene_ensembl.default.homologs.scerevisiae_homolog_ensembl_gene|hsapiens_gene_ensembl.default.homologs.scerevisiae_homolog_orthology_type&FILTERS=hsapiens_gene_ensembl.default.filters.biotype.\"protein_coding\"|hsapiens_gene_ensembl.default.filters.with_hsapiens_paralog.only&VISIBLEPANEL=resultspanel\n",
    "\n",
    "* Attributes:\n",
    "    * Gene stable ID\n",
    "    * Saccharomyces cerevisiae gene stable ID\n",
    "    * Saccharomyces cerevisiae homology type\n",
    "\n",
    "\n",
    "*ensembl/93/six_species_orthologs.txt*\n",
    "\n",
    "* URL: http://jul2018.archive.ensembl.org/biomart/martview/2b42ece4d3c406c0f0c4a45971d50b3e?VIRTUALSCHEMANAME=default&ATTRIBUTES=hsapiens_gene_ensembl.default.homologs.ensembl_gene_id|hsapiens_gene_ensembl.default.homologs.celegans_homolog_ensembl_gene|hsapiens_gene_ensembl.default.homologs.dmelanogaster_homolog_ensembl_gene|hsapiens_gene_ensembl.default.homologs.mmusculus_homolog_ensembl_gene|hsapiens_gene_ensembl.default.homologs.rnorvegicus_homolog_ensembl_gene|hsapiens_gene_ensembl.default.homologs.xtropicalis_homolog_ensembl_gene|hsapiens_gene_ensembl.default.homologs.drerio_homolog_ensembl_gene&FILTERS=hsapiens_gene_ensembl.default.filters.with_hsapiens_paralog.only|hsapiens_gene_ensembl.default.filters.biotype.\"protein_coding\"&VISIBLEPANEL=resultspanel\n",
    "\n",
    "* Attributes:\n",
    "    * Gene stable ID\n",
    "    * Caenorhabditis elegans gene stable ID\n",
    "    * Fruitfly gene stable ID\n",
    "    * Mouse gene stable ID\n",
    "    * Rat gene stable ID\n",
    "    * Xenopus gene stable ID\n",
    "    * Zebrafish gene stable ID\n",
    "\n",
    "\n",
    "*ensembl/93/paralog_uniprot_ids.txt*\n",
    "\n",
    "* URL: http://jul2018.archive.ensembl.org/biomart/martview/2b42ece4d3c406c0f0c4a45971d50b3e?VIRTUALSCHEMANAME=default&ATTRIBUTES=hsapiens_gene_ensembl.default.feature_page.ensembl_gene_id|hsapiens_gene_ensembl.default.feature_page.uniprot_gn&FILTERS=hsapiens_gene_ensembl.default.filters.biotype.\"protein_coding\"|hsapiens_gene_ensembl.default.filters.with_hsapiens_paralog.only&VISIBLEPANEL=resultspanel\n",
    "\n",
    "* Attributes:\n",
    "    * Gene stable ID\n",
    "    * UniProtKB Gene Name ID\n",
    "    \n",
    "ensembl/93/paralog_pfam_domain_ids.txt\n",
    "\n",
    "* URL: http://jul2018.archive.ensembl.org/biomart/martview/2b42ece4d3c406c0f0c4a45971d50b3e?VIRTUALSCHEMANAME=default&ATTRIBUTES=hsapiens_gene_ensembl.default.feature_page.ensembl_gene_id|hsapiens_gene_ensembl.default.feature_page.pfam&FILTERS=hsapiens_gene_ensembl.default.filters.biotype.\"protein_coding\"|hsapiens_gene_ensembl.default.filters.with_hsapiens_paralog.only&VISIBLEPANEL=resultspanel\n",
    "\n",
    "* Attributes:\n",
    "    * Gene stable ID\n",
    "    * Pfam domain ID\n",
    "\n",
    "\n",
    "*ensembl/93/cerevisiae_paralogs.txt*\n",
    "\n",
    "* URL: http://jul2018.archive.ensembl.org/biomart/martview/b3ecaa6a02d1d1c03ac961092c21d6e4?VIRTUALSCHEMANAME=default&ATTRIBUTES=scerevisiae_gene_ensembl.default.homologs.ensembl_gene_id|scerevisiae_gene_ensembl.default.homologs.scerevisiae_paralog_ensembl_gene|scerevisiae_gene_ensembl.default.homologs.scerevisiae_paralog_perc_id|scerevisiae_gene_ensembl.default.homologs.scerevisiae_paralog_perc_id_r1&FILTERS=scerevisiae_gene_ensembl.default.filters.with_scerevisiae_paralog.only|scerevisiae_gene_ensembl.default.filters.biotype.\"protein_coding\"&VISIBLEPANEL=resultspanel\n",
    "\n",
    "* Dataset: Saccharomyces cerevisiae genes (R64-1-1)\n",
    "* Filters: \n",
    "    * Paralogous Saccharomyces cerevisiae Genes: Only\n",
    "    * Gene type: protein_coding\n",
    "* Attributes\n",
    "    * Gene stable ID\n",
    "    * Saccharomyces cerevisiae paralogue gene stable ID\n",
    "    * Paralogue %id. target Saccharomyces cerevisiae gene identical to query gene\n",
    "    * Paralogue %id. query gene identical to target Saccharomyces cerevisiae gene"
   ]
  },
  {
   "cell_type": "markdown",
   "metadata": {},
   "source": [
    "### DEPMAP (20Q2)\n",
    "Files from DepMap Public 20Q2: https://depmap.org/portal/download/\n",
    "\n",
    "*depmap\\20Q2\\CCLE_expression.csv*\n",
    " - NOTE: v1 no longer accessible from portal, this link is for version 2 of the file: https://ndownloader.figshare.com/files/22897979\n",
    "\n",
    "*depmap\\20Q2\\CCLE_gene_cn.csv*\n",
    "- File: https://ndownloader.figshare.com/files/22629107\n",
    "\n",
    "*depmap\\20Q2\\CCLE_mutations.csv*\n",
    "- File: https://ndownloader.figshare.com/files/22629110\n",
    "\n",
    "*depmap\\20Q2\\sample_info.csv*\n",
    "- File: https://ndownloader.figshare.com/files/22629137"
   ]
  },
  {
   "cell_type": "markdown",
   "metadata": {},
   "source": [
    "### HGNC\n",
    "\n",
    "*HGNC\\non_alt_loci_set_20_05_20.txt*\n",
    "- Downloaded from https://www.genenames.org/download/statistics-and-files/ on 20/05/20 (not versioned)"
   ]
  },
  {
   "cell_type": "markdown",
   "metadata": {},
   "source": [
    "### WGD sources\n",
    "\n",
    "*WGD_sources\\singh_2019\\hsapiens.Pairs.Strict.2R.txt*\n",
    "    \n",
    "- Strict pairs from Ohnologs DB: http://ohnologs.curie.fr/cgi-bin/BrowsePage.cgi?org=hsapiens\n",
    "- File: http://ohnologs.curie.fr/cgi-bin/DownloadBrowse.cgi?crit=[0]&org=hsapiens&opt=pairs&wgd=2R\n",
    "\n",
    "*WGD_sources\\makino_2010_ohnologs.xls*\n",
    "- Table S7 from Makino and McLysaght (2010) - https://www.pnas.org/content/107/20/9270\n",
    "- File: http://www.pnas.org/lookup/suppl/doi:10.1073/pnas.0914697107/-/DCSupplemental/st01.xls"
   ]
  },
  {
   "cell_type": "markdown",
   "metadata": {},
   "source": [
    "### Ortholog sources (non-Ensembl)\n",
    "\n",
    "*OGEE\\gene_essentiality.txt.gz*\n",
    "- Used for cerevisiae gene essentiality\n",
    "- File: http://ogee.medgenius.info/file_download/gene_essentiality.txt.gz\n",
    "\n",
    "*pombase\\pombase-2020-07-02.human-orthologs.txt.gz*\n",
    "- Pombe orthologs from Pombase\n",
    "- File: ftp://ftp.pombase.org/pombe/releases/pombase-2020-07-02/pombase-2020-07-02.human-orthologs.txt.gz\n",
    "\n",
    "*kim_2010\\pombe_gene_deletions.xls*\n",
    "- Pombe essentiality from Kim et al. https://www.nature.com/articles/nbt.1628\n",
    "- File: https://static-content.springer.com/esm/art%3A10.1038%2Fnbt.1628/MediaObjects/41587_2010_BFnbt1628_MOESM3_ESM.xls\n",
    "\n",
    "*InParanoid\\E.coli\\sqltable.E.coli-H.sapiens*\n",
    "- Downloaded from InParanoid Version 8 http://inparanoid.sbc.su.se/cgi-bin/index.cgi\n",
    "- Zip file: http://inparanoid.sbc.su.se/download/8.0_current/Orthologs_other_formats/E.coli/InParanoid.E.coli-H.sapiens.tgz\n",
    "\n",
    "*InParanoid\\A.thaliana\\sqltable.A.thaliana-H.sapiens*\n",
    "- Downloaded from InParanoid Version 8 http://inparanoid.sbc.su.se/cgi-bin/index.cgi\n",
    "- Zip file: http://inparanoid.sbc.su.se/download/8.0_current/Orthologs_other_formats/A.thaliana/InParanoid.A.thaliana-H.sapiens.tgz"
   ]
  },
  {
   "cell_type": "markdown",
   "metadata": {},
   "source": [
    "### Protein Historian\n",
    "\n",
    "*protein_historian\\HUMAN_PPODv4_PTHR7-OrthoMCL_wagner1.0_ages.txt*\n",
    "- From https://proteinhistorian.docpollard.org/\n",
    "- Run with default age estimation options: \n",
    "    - Family Database: PPODv4_PTHR7-OrthoMCL\n",
    "    - Reconstruction Algorithm: wagner1.0\n",
    "- Upload list of Ensembl ids for all paralogs"
   ]
  },
  {
   "cell_type": "markdown",
   "metadata": {},
   "source": [
    "### Protein Atlas\n",
    "\n",
    "Files downloaded from: https://www.proteinatlas.org/about/download\n",
    "\n",
    "*protein_atlas\\subcellular_location_v19.3.tsv*\n",
    "- File: https://www.proteinatlas.org/download/subcellular_location.tsv.zip\n",
    "\n",
    "*protein_atlas\\proteinatlas_v19.3.tsv*\n",
    "- File: https://www.proteinatlas.org/download/proteinatlas.tsv.zip\n",
    "- For Tissue Specificity and Tissue Distribution"
   ]
  },
  {
   "cell_type": "markdown",
   "metadata": {},
   "source": [
    "### GTeX"
   ]
  },
  {
   "cell_type": "markdown",
   "metadata": {},
   "source": [
    "*GTEx\\GTEx_Analysis_2017-06-05_v8_RNASeQCv1.1.9_gene_tpm.gct.gz*\n",
    "- url: https://storage.googleapis.com/gtex_analysis_v8/rna_seq_data/GTEx_Analysis_2017-06-05_v8_RNASeQCv1.1.9_gene_tpm.gct.gz\n",
    "- a subset of this file for Ensembl 93 paralogs is saved as GTEx_2017-06-05_v8_paralogs.csv"
   ]
  },
  {
   "cell_type": "markdown",
   "metadata": {},
   "source": [
    "### BioGRID\n",
    "\n",
    "*biogrid\\BIOGRID-ORGANISM-Homo_sapiens-3.5.187.tab3.txt*\n",
    "- File: https://downloads.thebiogrid.org/Download/BioGRID/Release-Archive/BIOGRID-3.5.187/BIOGRID-ORGANISM-3.5.187.tab3.zip"
   ]
  },
  {
   "cell_type": "markdown",
   "metadata": {},
   "source": [
    "### CORUM\n",
    "\n",
    "*CORUM\\allComplexes.txt*\n",
    "- File: http://mips.helmholtz-muenchen.de/corum/download/allComplexes.txt.zip\n",
    "- 03.09.2018 Corum 3.0 current release"
   ]
  },
  {
   "cell_type": "markdown",
   "metadata": {},
   "source": [
    "### SLant/Slorth\n",
    "\n",
    "Slorth DB: http://slorth.biochem.sussex.ac.uk/\n",
    "\n",
    "*Slorth/human_predictions.csv*\n",
    "- Obtained from Graeme Benstead-Hume (1st author)\n",
    "- Full, un-filtered version of the predictions file that is available through the Slorth DB (linked below)\n",
    "- File from Slorth DB: http://slorth.biochem.sussex.ac.uk/download/h.sapiens_ssl_predictions.csv"
   ]
  },
  {
   "cell_type": "markdown",
   "metadata": {},
   "source": [
    "### GI screens\n",
    "\n",
    "*GI_screens/thompson_2020/thompson_2020.xlsx*\n",
    "- Unpublished data from Nicola Thompson and David Adams\n",
    "\n",
    "*GI_screens/dede_2020/Table_S2.txt*\n",
    "- Paper: https://genomebiology.biomedcentral.com/articles/10.1186/s13059-020-02173-2\n",
    "- File: https://static-content.springer.com/esm/art%3A10.1186%2Fs13059-020-02173-2/MediaObjects/13059_2020_2173_MOESM3_ESM.txt"
   ]
  }
 ],
 "metadata": {
  "kernelspec": {
   "display_name": "Python 3.7.9 64-bit ('paralogSL': conda)",
   "language": "python",
   "name": "python37964bitparalogslconda0f0e77de73d34c52b743edfe8868363d"
  },
  "language_info": {
   "codemirror_mode": {
    "name": "ipython",
    "version": 3
   },
   "file_extension": ".py",
   "mimetype": "text/x-python",
   "name": "python",
   "nbconvert_exporter": "python",
   "pygments_lexer": "ipython3",
   "version": "3.7.1"
  }
 },
 "nbformat": 4,
 "nbformat_minor": 4
}
