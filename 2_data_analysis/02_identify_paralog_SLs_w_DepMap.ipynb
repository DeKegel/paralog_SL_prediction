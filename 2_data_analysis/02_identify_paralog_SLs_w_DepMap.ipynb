{
 "cells": [
  {
   "cell_type": "markdown",
   "metadata": {},
   "source": [
    "## Identifying SL paralog pairs with DepMap genome-wide CRISPR screens\n",
    "\n",
    "**Input:**\n",
    "* gene scores processed with CERES\n",
    "* gene expression and mutation from the DepMap portal (20Q2)\n",
    "* processed (confident) homozygous deletions + cell lines that had copy number data\n",
    "* paralogs pairs from Ensembl annotated with seq id and family size\n",
    "* cell line lineage from DepMap\n",
    "* protein atlas tissue distribution + specificity\n",
    "\n",
    "**Output:**\n",
    "* (non-)synthetic lethal paralog pairs (our training dataset)\n",
    "* Table S3: binary matrix to indicate A2 loss in each of 762 cell lines\n",
    "* Table S4: full results of testing candidate paralog pairs for association between A1 dependency and A2 loss"
   ]
  },
  {
   "cell_type": "code",
   "execution_count": 50,
   "metadata": {},
   "outputs": [
    {
     "name": "stdout",
     "output_type": "stream",
     "text": [
      "The autoreload extension is already loaded. To reload it, use:\n",
      "  %reload_ext autoreload\n"
     ]
    }
   ],
   "source": [
    "import numpy as np\n",
    "import pandas as pd\n",
    "import scipy.stats as stats\n",
    "from statsmodels.stats.multitest import fdrcorrection\n",
    "import statsmodels.formula.api as smf\n",
    "import os\n",
    "import re\n",
    "import itertools\n",
    "import seaborn as sns\n",
    "import matplotlib.pyplot as plt\n",
    "import matplotlib as mpl\n",
    "from matplotlib_venn import venn2\n",
    "\n",
    "import graphing_params as gp\n",
    "%load_ext autoreload\n",
    "%autoreload 1\n",
    "%aimport graphing_params\n",
    "\n",
    "get_data_path = lambda folders, fname: os.path.normpath(os.environ['3RD_PARTY_DIR']+'/'+'/'.join(folders) +'/'+fname)\n",
    "get_local_data_path = lambda folders, fname: os.path.normpath('../local_data/' +'/'.join(folders) +'/'+ fname)\n",
    "\n",
    "# DepMap/CCLE Inputs\n",
    "file_gene_scores = get_local_data_path(['processed', 'depmap20Q2'], 'gene_scores_16_04_21.csv')\n",
    "file_expression = get_data_path(['depmap', '20Q2'], 'CCLE_expression.csv')\n",
    "file_mutations = get_data_path(['depmap', '20Q2'], 'CCLE_mutations.csv')\n",
    "file_cell_lines_w_cn = get_local_data_path(['processed', 'depmap20Q2'], 'ccle_gene_cn_cell_lines.csv')\n",
    "file_ccle_homdels = lambda x: get_local_data_path(['processed', 'depmap20Q2'], 'ccle_homdels_w_confidence_t='+x+'.csv')\n",
    "file_sample_info = get_data_path(['depmap', '20Q2'], 'sample_info.csv')\n",
    "file_sanger_gene_scores = get_local_data_path(['processed', 'sanger'], 'gene_scores_16_04_21.csv')\n",
    "\n",
    "# Other intputs\n",
    "file_protein_atlas = get_data_path(['protein_atlas'], 'proteinatlas_v19.3.tsv')\n",
    "file_validate_SLs = get_local_data_path([], 'validated_SLs.txt')\n",
    "\n",
    "# Initial input pairs to test\n",
    "file_all_paralog_pairs = get_local_data_path(['processed', 'ensembl93'], 'all_pairs.csv')\n",
    "\n",
    "# OUTPUT\n",
    "file_depmap_pairs = get_local_data_path(['results'], 'depmap_pairs.csv')\n",
    "file_gene_loss = get_local_data_path(['results'], 'gene_loss_df.csv')\n",
    "file_full_results = get_local_data_path(['results'], 'depmap_pairs_full_results.csv')\n",
    "file_table_s3 = get_local_data_path(['supplemental_files'], 'Table_S3.csv')\n",
    "file_table_s4 = get_local_data_path(['supplemental_files'], 'Table_S4.csv')"
   ]
  },
  {
   "cell_type": "markdown",
   "metadata": {},
   "source": [
    "### Load Data"
   ]
  },
  {
   "cell_type": "markdown",
   "metadata": {},
   "source": [
    "#### CERES processed dependency scores"
   ]
  },
  {
   "cell_type": "code",
   "execution_count": 2,
   "metadata": {},
   "outputs": [],
   "source": [
    "all_scores = pd.read_csv(file_gene_scores, index_col=0)"
   ]
  },
  {
   "cell_type": "code",
   "execution_count": 3,
   "metadata": {},
   "outputs": [
    {
     "data": {
      "text/html": [
       "<div>\n",
       "<style scoped>\n",
       "    .dataframe tbody tr th:only-of-type {\n",
       "        vertical-align: middle;\n",
       "    }\n",
       "\n",
       "    .dataframe tbody tr th {\n",
       "        vertical-align: top;\n",
       "    }\n",
       "\n",
       "    .dataframe thead th {\n",
       "        text-align: right;\n",
       "    }\n",
       "</style>\n",
       "<table border=\"1\" class=\"dataframe\">\n",
       "  <thead>\n",
       "    <tr style=\"text-align: right;\">\n",
       "      <th></th>\n",
       "      <th>1</th>\n",
       "      <th>29974</th>\n",
       "      <th>2</th>\n",
       "      <th>144568</th>\n",
       "      <th>127550</th>\n",
       "      <th>53947</th>\n",
       "      <th>51146</th>\n",
       "      <th>8086</th>\n",
       "      <th>65985</th>\n",
       "      <th>13</th>\n",
       "      <th>...</th>\n",
       "      <th>221302</th>\n",
       "      <th>9183</th>\n",
       "      <th>55055</th>\n",
       "      <th>11130</th>\n",
       "      <th>79364</th>\n",
       "      <th>440590</th>\n",
       "      <th>79699</th>\n",
       "      <th>7791</th>\n",
       "      <th>23140</th>\n",
       "      <th>26009</th>\n",
       "    </tr>\n",
       "  </thead>\n",
       "  <tbody>\n",
       "    <tr>\n",
       "      <th>ACH-000004</th>\n",
       "      <td>0.153</td>\n",
       "      <td>0.0372</td>\n",
       "      <td>-0.2442</td>\n",
       "      <td>-0.0256</td>\n",
       "      <td>-0.0196</td>\n",
       "      <td>-0.208</td>\n",
       "      <td>0.3096</td>\n",
       "      <td>-0.4438</td>\n",
       "      <td>0.2257</td>\n",
       "      <td>0.1447</td>\n",
       "      <td>...</td>\n",
       "      <td>-0.24</td>\n",
       "      <td>-0.1982</td>\n",
       "      <td>-0.132</td>\n",
       "      <td>-0.4609</td>\n",
       "      <td>0.1545</td>\n",
       "      <td>0.17</td>\n",
       "      <td>-0.4775</td>\n",
       "      <td>0.2669</td>\n",
       "      <td>0.1061</td>\n",
       "      <td>-0.2168</td>\n",
       "    </tr>\n",
       "  </tbody>\n",
       "</table>\n",
       "<p>1 rows × 16438 columns</p>\n",
       "</div>"
      ],
      "text/plain": [
       "                1   29974       2  144568  127550  53947   51146    8086  \\\n",
       "ACH-000004  0.153  0.0372 -0.2442 -0.0256 -0.0196 -0.208  0.3096 -0.4438   \n",
       "\n",
       "             65985      13  ...  221302    9183  55055   11130   79364  \\\n",
       "ACH-000004  0.2257  0.1447  ...   -0.24 -0.1982 -0.132 -0.4609  0.1545   \n",
       "\n",
       "            440590   79699    7791   23140   26009  \n",
       "ACH-000004    0.17 -0.4775  0.2669  0.1061 -0.2168  \n",
       "\n",
       "[1 rows x 16438 columns]"
      ]
     },
     "execution_count": 3,
     "metadata": {},
     "output_type": "execute_result"
    }
   ],
   "source": [
    "all_scores[:1]"
   ]
  },
  {
   "cell_type": "markdown",
   "metadata": {},
   "source": [
    "#### Cell line lineage"
   ]
  },
  {
   "cell_type": "code",
   "execution_count": 9,
   "metadata": {
    "scrolled": false
   },
   "outputs": [
    {
     "name": "stdout",
     "output_type": "stream",
     "text": [
      "N unique lineages: 26\n"
     ]
    },
    {
     "data": {
      "text/html": [
       "<div>\n",
       "<style scoped>\n",
       "    .dataframe tbody tr th:only-of-type {\n",
       "        vertical-align: middle;\n",
       "    }\n",
       "\n",
       "    .dataframe tbody tr th {\n",
       "        vertical-align: top;\n",
       "    }\n",
       "\n",
       "    .dataframe thead th {\n",
       "        text-align: right;\n",
       "    }\n",
       "</style>\n",
       "<table border=\"1\" class=\"dataframe\">\n",
       "  <thead>\n",
       "    <tr style=\"text-align: right;\">\n",
       "      <th></th>\n",
       "      <th>cell_line</th>\n",
       "      <th>lineage</th>\n",
       "    </tr>\n",
       "  </thead>\n",
       "  <tbody>\n",
       "    <tr>\n",
       "      <th>0</th>\n",
       "      <td>ACH-000001</td>\n",
       "      <td>ovary</td>\n",
       "    </tr>\n",
       "  </tbody>\n",
       "</table>\n",
       "</div>"
      ],
      "text/plain": [
       "    cell_line lineage\n",
       "0  ACH-000001   ovary"
      ]
     },
     "execution_count": 9,
     "metadata": {},
     "output_type": "execute_result"
    }
   ],
   "source": [
    "sample_info = pd.read_csv(file_sample_info)\n",
    "sample_info = sample_info[['DepMap_ID','lineage']].rename(columns={'DepMap_ID':'cell_line'})\n",
    "print('N unique lineages:', sample_info[sample_info.cell_line.isin(all_scores.index)].lineage.nunique())\n",
    "sample_info[:1]"
   ]
  },
  {
   "cell_type": "markdown",
   "metadata": {},
   "source": [
    "#### Gene Expression"
   ]
  },
  {
   "cell_type": "code",
   "execution_count": 7,
   "metadata": {},
   "outputs": [],
   "source": [
    "all_expr_raw = pd.read_csv(file_expression, index_col=0, sep='\\t')"
   ]
  },
  {
   "cell_type": "code",
   "execution_count": 8,
   "metadata": {},
   "outputs": [
    {
     "data": {
      "text/html": [
       "<div>\n",
       "<style scoped>\n",
       "    .dataframe tbody tr th:only-of-type {\n",
       "        vertical-align: middle;\n",
       "    }\n",
       "\n",
       "    .dataframe tbody tr th {\n",
       "        vertical-align: top;\n",
       "    }\n",
       "\n",
       "    .dataframe thead th {\n",
       "        text-align: right;\n",
       "    }\n",
       "</style>\n",
       "<table border=\"1\" class=\"dataframe\">\n",
       "  <thead>\n",
       "    <tr style=\"text-align: right;\">\n",
       "      <th></th>\n",
       "      <th>7105</th>\n",
       "      <th>64102</th>\n",
       "      <th>8813</th>\n",
       "      <th>57147</th>\n",
       "      <th>55732</th>\n",
       "      <th>2268</th>\n",
       "      <th>3075</th>\n",
       "      <th>2519</th>\n",
       "      <th>2729</th>\n",
       "      <th>4800</th>\n",
       "      <th>...</th>\n",
       "      <th>112441429</th>\n",
       "      <th>112441438</th>\n",
       "      <th>341568</th>\n",
       "      <th>112441431</th>\n",
       "      <th>729759</th>\n",
       "      <th>110599564</th>\n",
       "      <th>6905</th>\n",
       "      <th>112577462</th>\n",
       "      <th>89839</th>\n",
       "      <th>112577461</th>\n",
       "    </tr>\n",
       "  </thead>\n",
       "  <tbody>\n",
       "    <tr>\n",
       "      <th>ACH-001097</th>\n",
       "      <td>0.0</td>\n",
       "      <td>0.0</td>\n",
       "      <td>4.667324</td>\n",
       "      <td>1.761285</td>\n",
       "      <td>3.554589</td>\n",
       "      <td>4.358959</td>\n",
       "      <td>0.641546</td>\n",
       "      <td>2.201634</td>\n",
       "      <td>1.941106</td>\n",
       "      <td>2.15056</td>\n",
       "      <td>...</td>\n",
       "      <td>0.0</td>\n",
       "      <td>0.0</td>\n",
       "      <td>0.0</td>\n",
       "      <td>0.0</td>\n",
       "      <td>0.0</td>\n",
       "      <td>2.980025</td>\n",
       "      <td>5.132988</td>\n",
       "      <td>0.0</td>\n",
       "      <td>0.443607</td>\n",
       "      <td>0.0</td>\n",
       "    </tr>\n",
       "  </tbody>\n",
       "</table>\n",
       "<p>1 rows × 19144 columns</p>\n",
       "</div>"
      ],
      "text/plain": [
       "            7105  64102      8813     57147     55732      2268      3075  \\\n",
       "ACH-001097   0.0    0.0  4.667324  1.761285  3.554589  4.358959  0.641546   \n",
       "\n",
       "                2519      2729     4800  ...  112441429  112441438  341568  \\\n",
       "ACH-001097  2.201634  1.941106  2.15056  ...        0.0        0.0     0.0   \n",
       "\n",
       "            112441431  729759  110599564      6905  112577462     89839  \\\n",
       "ACH-001097        0.0     0.0   2.980025  5.132988        0.0  0.443607   \n",
       "\n",
       "            112577461  \n",
       "ACH-001097        0.0  \n",
       "\n",
       "[1 rows x 19144 columns]"
      ]
     },
     "execution_count": 8,
     "metadata": {},
     "output_type": "execute_result"
    }
   ],
   "source": [
    "get_gene_id = lambda x: re.search('[\\w-]+\\s\\((\\w+)\\)', x).group(1)\n",
    "all_expr = all_expr_raw.rename(columns=get_gene_id)\n",
    "all_expr[:1]"
   ]
  },
  {
   "cell_type": "code",
   "execution_count": 10,
   "metadata": {},
   "outputs": [
    {
     "data": {
      "text/html": [
       "<div>\n",
       "<style scoped>\n",
       "    .dataframe tbody tr th:only-of-type {\n",
       "        vertical-align: middle;\n",
       "    }\n",
       "\n",
       "    .dataframe tbody tr th {\n",
       "        vertical-align: top;\n",
       "    }\n",
       "\n",
       "    .dataframe thead th {\n",
       "        text-align: right;\n",
       "    }\n",
       "</style>\n",
       "<table border=\"1\" class=\"dataframe\">\n",
       "  <thead>\n",
       "    <tr style=\"text-align: right;\">\n",
       "      <th></th>\n",
       "      <th>7105</th>\n",
       "      <th>64102</th>\n",
       "      <th>8813</th>\n",
       "      <th>57147</th>\n",
       "      <th>55732</th>\n",
       "      <th>2268</th>\n",
       "      <th>3075</th>\n",
       "      <th>2519</th>\n",
       "      <th>2729</th>\n",
       "      <th>4800</th>\n",
       "      <th>...</th>\n",
       "      <th>112441429</th>\n",
       "      <th>112441438</th>\n",
       "      <th>341568</th>\n",
       "      <th>112441431</th>\n",
       "      <th>729759</th>\n",
       "      <th>110599564</th>\n",
       "      <th>6905</th>\n",
       "      <th>112577462</th>\n",
       "      <th>89839</th>\n",
       "      <th>112577461</th>\n",
       "    </tr>\n",
       "  </thead>\n",
       "  <tbody>\n",
       "    <tr>\n",
       "      <th>ACH-001097</th>\n",
       "      <td>-2.098497</td>\n",
       "      <td>-0.198894</td>\n",
       "      <td>-2.659021</td>\n",
       "      <td>-1.111848</td>\n",
       "      <td>-0.22196</td>\n",
       "      <td>3.173235</td>\n",
       "      <td>-0.68515</td>\n",
       "      <td>-1.59882</td>\n",
       "      <td>-2.367321</td>\n",
       "      <td>-3.015304</td>\n",
       "      <td>...</td>\n",
       "      <td>-0.027703</td>\n",
       "      <td>0</td>\n",
       "      <td>-0.167573</td>\n",
       "      <td>-0.052889</td>\n",
       "      <td>-0.452706</td>\n",
       "      <td>-0.305474</td>\n",
       "      <td>0.598535</td>\n",
       "      <td>-0.1728</td>\n",
       "      <td>-1.805753</td>\n",
       "      <td>-0.498198</td>\n",
       "    </tr>\n",
       "  </tbody>\n",
       "</table>\n",
       "<p>1 rows × 19144 columns</p>\n",
       "</div>"
      ],
      "text/plain": [
       "                7105     64102      8813     57147    55732      2268  \\\n",
       "ACH-001097 -2.098497 -0.198894 -2.659021 -1.111848 -0.22196  3.173235   \n",
       "\n",
       "               3075     2519      2729      4800  ...  112441429  112441438  \\\n",
       "ACH-001097 -0.68515 -1.59882 -2.367321 -3.015304  ...  -0.027703          0   \n",
       "\n",
       "              341568  112441431    729759  110599564      6905  112577462  \\\n",
       "ACH-001097 -0.167573  -0.052889 -0.452706  -0.305474  0.598535    -0.1728   \n",
       "\n",
       "               89839  112577461  \n",
       "ACH-001097 -1.805753  -0.498198  \n",
       "\n",
       "[1 rows x 19144 columns]"
      ]
     },
     "execution_count": 10,
     "metadata": {},
     "output_type": "execute_result"
    }
   ],
   "source": [
    "all_expr_zscored = all_expr.apply(lambda x: stats.zscore(x) if not (x==0).all() else 0)\n",
    "all_expr_zscored[:1]"
   ]
  },
  {
   "cell_type": "markdown",
   "metadata": {},
   "source": [
    "#### Mutations"
   ]
  },
  {
   "cell_type": "code",
   "execution_count": 11,
   "metadata": {},
   "outputs": [],
   "source": [
    "all_mutations_raw = pd.read_csv(file_mutations, low_memory=False, sep='\\t')"
   ]
  },
  {
   "cell_type": "code",
   "execution_count": 12,
   "metadata": {},
   "outputs": [
    {
     "data": {
      "text/html": [
       "<div>\n",
       "<style scoped>\n",
       "    .dataframe tbody tr th:only-of-type {\n",
       "        vertical-align: middle;\n",
       "    }\n",
       "\n",
       "    .dataframe tbody tr th {\n",
       "        vertical-align: top;\n",
       "    }\n",
       "\n",
       "    .dataframe thead th {\n",
       "        text-align: right;\n",
       "    }\n",
       "</style>\n",
       "<table border=\"1\" class=\"dataframe\">\n",
       "  <thead>\n",
       "    <tr style=\"text-align: right;\">\n",
       "      <th></th>\n",
       "      <th>Hugo_Symbol</th>\n",
       "      <th>Entrez_Gene_Id</th>\n",
       "      <th>NCBI_Build</th>\n",
       "      <th>Chromosome</th>\n",
       "      <th>Start_position</th>\n",
       "      <th>End_position</th>\n",
       "      <th>Strand</th>\n",
       "      <th>Variant_Classification</th>\n",
       "      <th>Variant_Type</th>\n",
       "      <th>Reference_Allele</th>\n",
       "      <th>...</th>\n",
       "      <th>ExAC_AF</th>\n",
       "      <th>CGA_WES_AC</th>\n",
       "      <th>SangerWES_AC</th>\n",
       "      <th>SangerRecalibWES_AC</th>\n",
       "      <th>RNAseq_AC</th>\n",
       "      <th>HC_AC</th>\n",
       "      <th>RD_AC</th>\n",
       "      <th>WGS_AC</th>\n",
       "      <th>Variant_annotation</th>\n",
       "      <th>DepMap_ID</th>\n",
       "    </tr>\n",
       "  </thead>\n",
       "  <tbody>\n",
       "    <tr>\n",
       "      <th>0</th>\n",
       "      <td>A1BG</td>\n",
       "      <td>1</td>\n",
       "      <td>37</td>\n",
       "      <td>19</td>\n",
       "      <td>58858743</td>\n",
       "      <td>58858743</td>\n",
       "      <td>+</td>\n",
       "      <td>Missense_Mutation</td>\n",
       "      <td>SNP</td>\n",
       "      <td>C</td>\n",
       "      <td>...</td>\n",
       "      <td>NaN</td>\n",
       "      <td>NaN</td>\n",
       "      <td>20:16</td>\n",
       "      <td>20:16</td>\n",
       "      <td>NaN</td>\n",
       "      <td>NaN</td>\n",
       "      <td>NaN</td>\n",
       "      <td>NaN</td>\n",
       "      <td>other non-conserving</td>\n",
       "      <td>ACH-000986</td>\n",
       "    </tr>\n",
       "  </tbody>\n",
       "</table>\n",
       "<p>1 rows × 34 columns</p>\n",
       "</div>"
      ],
      "text/plain": [
       "  Hugo_Symbol  Entrez_Gene_Id  NCBI_Build Chromosome  Start_position  \\\n",
       "0        A1BG               1          37         19        58858743   \n",
       "\n",
       "   End_position Strand Variant_Classification Variant_Type Reference_Allele  \\\n",
       "0      58858743      +      Missense_Mutation          SNP                C   \n",
       "\n",
       "   ... ExAC_AF CGA_WES_AC SangerWES_AC SangerRecalibWES_AC RNAseq_AC HC_AC  \\\n",
       "0  ...     NaN        NaN        20:16               20:16       NaN   NaN   \n",
       "\n",
       "  RD_AC WGS_AC    Variant_annotation   DepMap_ID  \n",
       "0   NaN    NaN  other non-conserving  ACH-000986  \n",
       "\n",
       "[1 rows x 34 columns]"
      ]
     },
     "execution_count": 12,
     "metadata": {},
     "output_type": "execute_result"
    }
   ],
   "source": [
    "all_mutations_raw[:1]"
   ]
  },
  {
   "cell_type": "code",
   "execution_count": 13,
   "metadata": {},
   "outputs": [
    {
     "data": {
      "text/plain": [
       "Splice_Site                 43468\n",
       "Frame_Shift_Del             42362\n",
       "Nonsense_Mutation           40796\n",
       "Frame_Shift_Ins             24744\n",
       "De_novo_Start_OutOfFrame     4565\n",
       "Name: Variant_Classification, dtype: int64"
      ]
     },
     "metadata": {},
     "output_type": "display_data"
    },
    {
     "data": {
      "text/html": [
       "<div>\n",
       "<style scoped>\n",
       "    .dataframe tbody tr th:only-of-type {\n",
       "        vertical-align: middle;\n",
       "    }\n",
       "\n",
       "    .dataframe tbody tr th {\n",
       "        vertical-align: top;\n",
       "    }\n",
       "\n",
       "    .dataframe thead th {\n",
       "        text-align: right;\n",
       "    }\n",
       "</style>\n",
       "<table border=\"1\" class=\"dataframe\">\n",
       "  <thead>\n",
       "    <tr style=\"text-align: right;\">\n",
       "      <th></th>\n",
       "      <th>entrez_id</th>\n",
       "      <th>Hugo_Symbol</th>\n",
       "      <th>Variant_Classification</th>\n",
       "      <th>cell_line</th>\n",
       "    </tr>\n",
       "  </thead>\n",
       "  <tbody>\n",
       "    <tr>\n",
       "      <th>32</th>\n",
       "      <td>1</td>\n",
       "      <td>A1BG</td>\n",
       "      <td>Nonsense_Mutation</td>\n",
       "      <td>ACH-000983</td>\n",
       "    </tr>\n",
       "  </tbody>\n",
       "</table>\n",
       "</div>"
      ],
      "text/plain": [
       "   entrez_id Hugo_Symbol Variant_Classification   cell_line\n",
       "32         1        A1BG      Nonsense_Mutation  ACH-000983"
      ]
     },
     "execution_count": 13,
     "metadata": {},
     "output_type": "execute_result"
    }
   ],
   "source": [
    "mut_cell_lines = all_mutations_raw.DepMap_ID.unique()\n",
    "lof_vars = ['Splice_Site', 'Nonsense_Mutation', 'Frame_Shift_Del', 'Frame_Shift_Ins', 'De_novo_Start_OutOfFrame']\n",
    "lof_mutations = all_mutations_raw[all_mutations_raw.Variant_Classification.isin(lof_vars)]\n",
    "lof_mutations = lof_mutations.rename(columns={'Entrez_Gene_Id':'entrez_id','DepMap_ID':'cell_line'})\n",
    "lof_mutations = lof_mutations[['entrez_id','Hugo_Symbol','Variant_Classification','cell_line']].astype({'entrez_id':'str'})\n",
    "display(lof_mutations.Variant_Classification.value_counts())\n",
    "lof_mutations[:1]"
   ]
  },
  {
   "cell_type": "markdown",
   "metadata": {},
   "source": [
    "#### Homozygous Deletions\n",
    "Restrict to confident HDs - those supported by change in expression"
   ]
  },
  {
   "cell_type": "code",
   "execution_count": 14,
   "metadata": {},
   "outputs": [
    {
     "data": {
      "text/html": [
       "<div>\n",
       "<style scoped>\n",
       "    .dataframe tbody tr th:only-of-type {\n",
       "        vertical-align: middle;\n",
       "    }\n",
       "\n",
       "    .dataframe tbody tr th {\n",
       "        vertical-align: top;\n",
       "    }\n",
       "\n",
       "    .dataframe thead th {\n",
       "        text-align: right;\n",
       "    }\n",
       "</style>\n",
       "<table border=\"1\" class=\"dataframe\">\n",
       "  <thead>\n",
       "    <tr style=\"text-align: right;\">\n",
       "      <th></th>\n",
       "      <th>cell_line</th>\n",
       "    </tr>\n",
       "  </thead>\n",
       "  <tbody>\n",
       "    <tr>\n",
       "      <th>0</th>\n",
       "      <td>ACH-000001</td>\n",
       "    </tr>\n",
       "  </tbody>\n",
       "</table>\n",
       "</div>"
      ],
      "text/plain": [
       "    cell_line\n",
       "0  ACH-000001"
      ]
     },
     "metadata": {},
     "output_type": "display_data"
    }
   ],
   "source": [
    "# Get copy number data to compute overlapping cell lines\n",
    "copy_num_cell_lines = pd.read_csv(file_cell_lines_w_cn)\n",
    "display(copy_num_cell_lines[:1])"
   ]
  },
  {
   "cell_type": "code",
   "execution_count": 15,
   "metadata": {},
   "outputs": [
    {
     "name": "stdout",
     "output_type": "stream",
     "text": [
      "Genes with confident HDs, t=-1.28: 3131\n",
      "Genes with confident HDs, t=-1.5: 1668\n"
     ]
    },
    {
     "data": {
      "text/html": [
       "<div>\n",
       "<style scoped>\n",
       "    .dataframe tbody tr th:only-of-type {\n",
       "        vertical-align: middle;\n",
       "    }\n",
       "\n",
       "    .dataframe tbody tr th {\n",
       "        vertical-align: top;\n",
       "    }\n",
       "\n",
       "    .dataframe thead th {\n",
       "        text-align: right;\n",
       "    }\n",
       "</style>\n",
       "<table border=\"1\" class=\"dataframe\">\n",
       "  <thead>\n",
       "    <tr style=\"text-align: right;\">\n",
       "      <th></th>\n",
       "      <th>index</th>\n",
       "      <th>cell_line</th>\n",
       "      <th>entrez_id</th>\n",
       "      <th>pval</th>\n",
       "      <th>tstat</th>\n",
       "      <th>del_expr</th>\n",
       "      <th>other_expr</th>\n",
       "      <th>num_homdels</th>\n",
       "      <th>confident</th>\n",
       "    </tr>\n",
       "  </thead>\n",
       "  <tbody>\n",
       "    <tr>\n",
       "      <th>0</th>\n",
       "      <td>0</td>\n",
       "      <td>ACH-000001</td>\n",
       "      <td>101060226</td>\n",
       "      <td>0.00049</td>\n",
       "      <td>-3.495222</td>\n",
       "      <td>2.015343</td>\n",
       "      <td>2.611616</td>\n",
       "      <td>22</td>\n",
       "      <td>True</td>\n",
       "    </tr>\n",
       "  </tbody>\n",
       "</table>\n",
       "</div>"
      ],
      "text/plain": [
       "   index   cell_line  entrez_id     pval     tstat  del_expr  other_expr  \\\n",
       "0      0  ACH-000001  101060226  0.00049 -3.495222  2.015343    2.611616   \n",
       "\n",
       "   num_homdels  confident  \n",
       "0           22       True  "
      ]
     },
     "execution_count": 15,
     "metadata": {},
     "output_type": "execute_result"
    }
   ],
   "source": [
    "homdels = {}\n",
    "for t in ['-1.28','-1.5']:\n",
    "    df = pd.read_csv(file_ccle_homdels(t))\n",
    "    df = df[df.confident].reset_index().rename(columns={'depMapID':'cell_line'}).astype({'entrez_id':'str'})\n",
    "    homdels[t] = df\n",
    "    print('Genes with confident HDs, t=%s: %d'% (t, df.entrez_id.nunique()))\n",
    "homdels['-1.28'][:1]"
   ]
  },
  {
   "cell_type": "markdown",
   "metadata": {},
   "source": [
    "#### Protein atlas tissue specificity + distribution"
   ]
  },
  {
   "cell_type": "code",
   "execution_count": 16,
   "metadata": {},
   "outputs": [
    {
     "data": {
      "text/html": [
       "<div>\n",
       "<style scoped>\n",
       "    .dataframe tbody tr th:only-of-type {\n",
       "        vertical-align: middle;\n",
       "    }\n",
       "\n",
       "    .dataframe tbody tr th {\n",
       "        vertical-align: top;\n",
       "    }\n",
       "\n",
       "    .dataframe thead th {\n",
       "        text-align: right;\n",
       "    }\n",
       "</style>\n",
       "<table border=\"1\" class=\"dataframe\">\n",
       "  <thead>\n",
       "    <tr style=\"text-align: right;\">\n",
       "      <th></th>\n",
       "      <th>Ensembl</th>\n",
       "      <th>Gene</th>\n",
       "      <th>RNA tissue specificity</th>\n",
       "      <th>RNA tissue distribution</th>\n",
       "    </tr>\n",
       "  </thead>\n",
       "  <tbody>\n",
       "    <tr>\n",
       "      <th>0</th>\n",
       "      <td>ENSG00000000003</td>\n",
       "      <td>TSPAN6</td>\n",
       "      <td>Tissue enhanced</td>\n",
       "      <td>Detected in many</td>\n",
       "    </tr>\n",
       "    <tr>\n",
       "      <th>1</th>\n",
       "      <td>ENSG00000000005</td>\n",
       "      <td>TNMD</td>\n",
       "      <td>Tissue enhanced</td>\n",
       "      <td>Detected in many</td>\n",
       "    </tr>\n",
       "  </tbody>\n",
       "</table>\n",
       "</div>"
      ],
      "text/plain": [
       "           Ensembl    Gene RNA tissue specificity RNA tissue distribution\n",
       "0  ENSG00000000003  TSPAN6        Tissue enhanced        Detected in many\n",
       "1  ENSG00000000005    TNMD        Tissue enhanced        Detected in many"
      ]
     },
     "execution_count": 16,
     "metadata": {},
     "output_type": "execute_result"
    }
   ],
   "source": [
    "protein_atlas = pd.read_csv(file_protein_atlas, sep='\\t')\n",
    "protein_atlas = protein_atlas[['Ensembl', 'Gene', 'RNA tissue specificity', 'RNA tissue distribution']]\n",
    "protein_atlas[:2]"
   ]
  },
  {
   "cell_type": "markdown",
   "metadata": {},
   "source": [
    "### Load all paralog pairs"
   ]
  },
  {
   "cell_type": "code",
   "execution_count": 17,
   "metadata": {},
   "outputs": [],
   "source": [
    "# Load all paralog pairs from Ensembl\n",
    "def load_all_paralog_pair(fname):\n",
    "    all_pairs = pd.read_csv(fname)\n",
    "    all_pairs = all_pairs.astype({'A1_entrez':'str', 'A2_entrez':'str'})\n",
    "    all_pairs['sorted_gene_pair'] = all_pairs.apply(lambda x: '_'.join(sorted([x.A1, x.A2])), axis=1)\n",
    "    print('Protein coding pairs:', all_pairs.sorted_gene_pair.nunique())\n",
    "    print('Protein coding pairs min. 20% (reciprocal) & family size < 20:', \n",
    "          all_pairs[(all_pairs.min_seq_id>=0.2) & (all_pairs.family_size<20)].sorted_gene_pair.nunique())\n",
    "    # Just keep relevent columns for this analysis\n",
    "    all_pairs = all_pairs[['sorted_gene_pair','A1','A2','A1_ensembl','A2_ensembl','A1_entrez','A2_entrez',\n",
    "                                           'min_seq_id', 'family_size']]\n",
    "    return all_pairs"
   ]
  },
  {
   "cell_type": "code",
   "execution_count": 18,
   "metadata": {},
   "outputs": [
    {
     "name": "stdout",
     "output_type": "stream",
     "text": [
      "Protein coding pairs: 36648\n",
      "Protein coding pairs min. 20% (reciprocal) & family size < 20: 23332\n"
     ]
    },
    {
     "data": {
      "text/html": [
       "<div>\n",
       "<style scoped>\n",
       "    .dataframe tbody tr th:only-of-type {\n",
       "        vertical-align: middle;\n",
       "    }\n",
       "\n",
       "    .dataframe tbody tr th {\n",
       "        vertical-align: top;\n",
       "    }\n",
       "\n",
       "    .dataframe thead th {\n",
       "        text-align: right;\n",
       "    }\n",
       "</style>\n",
       "<table border=\"1\" class=\"dataframe\">\n",
       "  <thead>\n",
       "    <tr style=\"text-align: right;\">\n",
       "      <th></th>\n",
       "      <th>sorted_gene_pair</th>\n",
       "      <th>A1</th>\n",
       "      <th>A2</th>\n",
       "      <th>A1_ensembl</th>\n",
       "      <th>A2_ensembl</th>\n",
       "      <th>A1_entrez</th>\n",
       "      <th>A2_entrez</th>\n",
       "      <th>min_seq_id</th>\n",
       "      <th>family_size</th>\n",
       "    </tr>\n",
       "  </thead>\n",
       "  <tbody>\n",
       "    <tr>\n",
       "      <th>0</th>\n",
       "      <td>TEKT2_TEKT4</td>\n",
       "      <td>TEKT2</td>\n",
       "      <td>TEKT4</td>\n",
       "      <td>ENSG00000092850</td>\n",
       "      <td>ENSG00000163060</td>\n",
       "      <td>27285</td>\n",
       "      <td>150483</td>\n",
       "      <td>0.289655</td>\n",
       "      <td>5</td>\n",
       "    </tr>\n",
       "  </tbody>\n",
       "</table>\n",
       "</div>"
      ],
      "text/plain": [
       "  sorted_gene_pair     A1     A2       A1_ensembl       A2_ensembl A1_entrez  \\\n",
       "0      TEKT2_TEKT4  TEKT2  TEKT4  ENSG00000092850  ENSG00000163060     27285   \n",
       "\n",
       "  A2_entrez  min_seq_id  family_size  \n",
       "0    150483    0.289655            5  "
      ]
     },
     "execution_count": 18,
     "metadata": {},
     "output_type": "execute_result"
    }
   ],
   "source": [
    "all_paralog_pairs = load_all_paralog_pair(file_all_paralog_pairs)\n",
    "all_paralog_pairs[:1]"
   ]
  },
  {
   "cell_type": "markdown",
   "metadata": {},
   "source": [
    "### Identify gene pairs where loss of 1 results in significant increase/decrease of essentiality of the other\n",
    "\n",
    "\n",
    "Candidate pairs to test:\n",
    "* Min seq id >= 20%\n",
    "* Family size <= 20\n",
    "* A1 and A2 are broadly expressed:\n",
    "    - RNA tissue distribution = 'Detected in all' OR\n",
    "    - RNA tissue distribution = 'Detected in many' AND RNA tissue specificity = Low specificity', 'Not detected'\n",
    "* A1 is in CERES scores data frame\n",
    "* A2 lost in min. 10 (max 90%) cell lines\n",
    "\n",
    "A2 loss:\n",
    "* gene expression log(TPM+1) < 1\n",
    "* gene expression z-score < -4\n",
    "* LOF mutation\n",
    "* homozygous deletion supported by change in expression"
   ]
  },
  {
   "cell_type": "code",
   "execution_count": 19,
   "metadata": {},
   "outputs": [],
   "source": [
    "# Filter on data availability, seq id, family size and protein atlas filter\n",
    "def apply_first_filter(all_pairs, scores, protein_atlas_filter):\n",
    "    pairs_to_test = all_pairs[(all_pairs.min_seq_id >= 0.2) & (all_pairs.family_size <= 20) &\n",
    "                              all_pairs.A1_entrez.isin(scores.columns) & \n",
    "                              all_pairs.A2_entrez.isin(all_expr.columns) & \n",
    "                              all_pairs.A1_ensembl.isin(protein_atlas_filter.Ensembl) &\n",
    "                              all_pairs.A2_ensembl.isin(protein_atlas_filter.Ensembl)].reset_index(drop=True)\n",
    "    print('Num pairs to test: %d/%d -> unique: %d/%d' % (pairs_to_test.shape[0], all_pairs.shape[0],\n",
    "          pairs_to_test.sorted_gene_pair.nunique(), all_pairs.sorted_gene_pair.nunique()))\n",
    "    return pairs_to_test\n",
    "\n",
    "expr_func = lambda x, t: x < t if t>0 else x==t\n",
    "\n",
    "# Call gene loss for 1 gene based on expr, mutation and homdels, called by apply_second_filter \n",
    "def call_gene_loss(gene, homdels, expr_t, exprz_t):\n",
    "    A2_expr = all_expr.loc[:, gene.name]\n",
    "    A2_expr_z = all_expr_zscored.loc[:, gene.name]\n",
    "    return pd.Series(gene.index.isin(A2_expr[expr_func(A2_expr, expr_t)].index) |\n",
    "                     gene.index.isin(A2_expr_z[A2_expr_z < exprz_t].index) |\n",
    "                     gene.index.isin(lof_mutations[lof_mutations.entrez_id==gene.name].cell_line) |\n",
    "                     gene.index.isin(homdels[homdels.entrez_id==gene.name].cell_line), index=gene.index)\n",
    "\n",
    "# Filter to pairs lost in at least 10 and max 90% of cell lines\n",
    "def apply_second_filter(all_pairs, scores, homdels, expr_t, exprz_t):\n",
    "    # Create empty df to fill in\n",
    "    A2_loss_df = pd.DataFrame(index=all_pairs.A2_entrez.unique(), columns=sorted(scores.index.values))\n",
    "    # Binary matrix for gene loss in each cell line (1=loss, 0=WT)\n",
    "    A2_loss_df = A2_loss_df.apply(call_gene_loss, args=(homdels, expr_t, exprz_t), axis=1)\n",
    "    # Only test pairs where A2 is lost in min. 10 and max 90% of cell lines\n",
    "    A2_loss_summary = A2_loss_df.sum(axis=1).reset_index().rename(columns={'index':'A2_entrez', 0:'n_A2_lost'})\n",
    "    pairs = pd.merge(all_pairs, A2_loss_summary)\n",
    "    # Filter\n",
    "    pairs_to_test = pairs[(pairs.n_A2_lost >= 10) & (pairs.n_A2_lost <= (scores.shape[0]*0.9))] \n",
    "    print('Num pairs to test after loss filter: %d/%d -> unique: %d/%d' % (pairs_to_test.shape[0], all_pairs.shape[0],\n",
    "          pairs_to_test.sorted_gene_pair.nunique(), all_pairs.sorted_gene_pair.nunique()))\n",
    "    return pairs_to_test, A2_loss_df\n",
    "\n",
    "# Test whether there is a significant difference in dependency score of A1 when A2 is/is not lost\n",
    "def test_A1_score_for_A2_loss_vs_wt(pair, scores, gene_loss_df):\n",
    "    # A1 score for each cell line\n",
    "    A1_scores = scores.loc[:, pair.A1_entrez].reset_index().rename(columns={pair.A1_entrez:'A1_score'})\n",
    "    # A2 loss (T/F) for each cell line\n",
    "    A2_loss = gene_loss_df.loc[pair.A2_entrez,:].reset_index().rename(columns={'index':'cell_line', pair.A2_entrez:'A2_loss'})\n",
    "    # Merge score, loss status, cell line lineage\n",
    "    df = pd.merge(pd.merge(A1_scores, A2_loss), sample_info)\n",
    "    # Linear model\n",
    "    ols_results = smf.ols('A1_score ~ C(lineage) + C(A2_loss)', data=df).fit()\n",
    "    ols_pval = ols_results.pvalues['C(A2_loss)[T.True]']\n",
    "    ols_coef = ols_results.params['C(A2_loss)[T.True]']\n",
    "    result = pd.Series([ols_pval, ols_coef, df[df.A2_loss].A1_score.mean(), df[~df.A2_loss].A1_score.mean()], \n",
    "                       index=['ols_p', 'ols_coef','A2_loss_mean_score', 'A2_wt_mean_score'])\n",
    "    return pair.append(result)\n",
    "\n",
    "# This function returns the raw regression results (not FDR corrected)\n",
    "def run_depmap_pipeline(all_candidates, scores_filtered, protein_atlas_filter, homdels, expr_t, exprz_t):\n",
    "    candidates = apply_first_filter(all_candidates, scores_filtered, protein_atlas_filter)\n",
    "    candidates, gene_loss_df = apply_second_filter(candidates, scores_filtered, homdels, expr_t, exprz_t)\n",
    "    raw_results = candidates.apply(test_A1_score_for_A2_loss_vs_wt, args=(scores_filtered, gene_loss_df), axis=1)\n",
    "    return raw_results, gene_loss_df"
   ]
  },
  {
   "cell_type": "markdown",
   "metadata": {},
   "source": [
    "#### General pipeline inputs"
   ]
  },
  {
   "cell_type": "code",
   "execution_count": 20,
   "metadata": {},
   "outputs": [
    {
     "name": "stdout",
     "output_type": "stream",
     "text": [
      "Cell lines to use: 762 / 769\n"
     ]
    }
   ],
   "source": [
    "# Use scores for cell lines that were included in expr + mutation + copy number data sets\n",
    "scores_filtered = all_scores.loc[all_scores.index.isin(all_expr.index) & all_scores.index.isin(mut_cell_lines) &\n",
    "                                 all_scores.index.isin(copy_num_cell_lines.cell_line), :]\n",
    "scores_filtered.index.name = 'cell_line'\n",
    "print('Cell lines to use:', scores_filtered.shape[0], '/', all_scores.shape[0])\n",
    "\n",
    "# Filter for genes that are broadly expressed (not tissue specific)\n",
    "protein_atlas_filter = protein_atlas[protein_atlas['RNA tissue distribution'].isin(['Detected in all']) |\n",
    "                                     (protein_atlas['RNA tissue distribution'].isin(['Detected in many']) &\n",
    "                                      protein_atlas['RNA tissue specificity'].isin(['Low tissue specificity','Not detected']))]"
   ]
  },
  {
   "cell_type": "markdown",
   "metadata": {},
   "source": [
    "#### Run pipeline"
   ]
  },
  {
   "cell_type": "code",
   "execution_count": 21,
   "metadata": {},
   "outputs": [
    {
     "name": "stdout",
     "output_type": "stream",
     "text": [
      "Num pairs to test: 9633/73296 -> unique: 5270/36648\n",
      "Num pairs to test after loss filter: 5205/9633 -> unique: 3810/5270\n"
     ]
    }
   ],
   "source": [
    "raw_results, gene_loss_df = run_depmap_pipeline(all_paralog_pairs, scores_filtered, protein_atlas_filter,\n",
    "                                                homdels['-1.28'], expr_t=1, exprz_t=-4)"
   ]
  },
  {
   "cell_type": "code",
   "execution_count": 24,
   "metadata": {},
   "outputs": [
    {
     "data": {
      "image/png": "[encoded data removed]",
      "text/plain": [
       "<Figure size 200x170 with 1 Axes>"
      ]
     },
     "metadata": {},
     "output_type": "display_data"
    }
   ],
   "source": [
    "# Plot distribution of p-values\n",
    "f, ax = plt.subplots(1, 1, figsize=(2,1.7), sharey=False)\n",
    "sns.histplot(x=raw_results.ols_p, ax=ax, bins=25); ax.set_xlabel('A2 loss p-value')\n",
    "plt.tight_layout()"
   ]
  },
  {
   "cell_type": "code",
   "execution_count": 25,
   "metadata": {},
   "outputs": [],
   "source": [
    "# Save A2 loss binary matrix\n",
    "gene_loss_df.to_csv(file_gene_loss)"
   ]
  },
  {
   "cell_type": "markdown",
   "metadata": {},
   "source": [
    "#### Supplemental table for paper (gene loss df)"
   ]
  },
  {
   "cell_type": "code",
   "execution_count": 26,
   "metadata": {},
   "outputs": [
    {
     "name": "stdout",
     "output_type": "stream",
     "text": [
      "N. unique A2s: 2331\n"
     ]
    },
    {
     "data": {
      "text/html": [
       "<div>\n",
       "<style scoped>\n",
       "    .dataframe tbody tr th:only-of-type {\n",
       "        vertical-align: middle;\n",
       "    }\n",
       "\n",
       "    .dataframe tbody tr th {\n",
       "        vertical-align: top;\n",
       "    }\n",
       "\n",
       "    .dataframe thead th {\n",
       "        text-align: right;\n",
       "    }\n",
       "</style>\n",
       "<table border=\"1\" class=\"dataframe\">\n",
       "  <thead>\n",
       "    <tr style=\"text-align: right;\">\n",
       "      <th></th>\n",
       "      <th>ACH-000004</th>\n",
       "      <th>ACH-000005</th>\n",
       "      <th>ACH-000007</th>\n",
       "      <th>ACH-000009</th>\n",
       "      <th>ACH-000011</th>\n",
       "      <th>ACH-000012</th>\n",
       "      <th>ACH-000013</th>\n",
       "      <th>ACH-000014</th>\n",
       "      <th>ACH-000015</th>\n",
       "      <th>ACH-000017</th>\n",
       "      <th>...</th>\n",
       "      <th>ACH-001960</th>\n",
       "      <th>ACH-001997</th>\n",
       "      <th>ACH-001999</th>\n",
       "      <th>ACH-002001</th>\n",
       "      <th>ACH-002002</th>\n",
       "      <th>ACH-002003</th>\n",
       "      <th>ACH-002004</th>\n",
       "      <th>ACH-002005</th>\n",
       "      <th>ACH-002015</th>\n",
       "      <th>ACH-002016</th>\n",
       "    </tr>\n",
       "  </thead>\n",
       "  <tbody>\n",
       "    <tr>\n",
       "      <th>5431</th>\n",
       "      <td>0</td>\n",
       "      <td>0</td>\n",
       "      <td>0</td>\n",
       "      <td>0</td>\n",
       "      <td>0</td>\n",
       "      <td>0</td>\n",
       "      <td>0</td>\n",
       "      <td>1</td>\n",
       "      <td>0</td>\n",
       "      <td>0</td>\n",
       "      <td>...</td>\n",
       "      <td>0</td>\n",
       "      <td>0</td>\n",
       "      <td>0</td>\n",
       "      <td>0</td>\n",
       "      <td>0</td>\n",
       "      <td>0</td>\n",
       "      <td>0</td>\n",
       "      <td>0</td>\n",
       "      <td>0</td>\n",
       "      <td>0</td>\n",
       "    </tr>\n",
       "  </tbody>\n",
       "</table>\n",
       "<p>1 rows × 762 columns</p>\n",
       "</div>"
      ],
      "text/plain": [
       "      ACH-000004  ACH-000005  ACH-000007  ACH-000009  ACH-000011  ACH-000012  \\\n",
       "5431           0           0           0           0           0           0   \n",
       "\n",
       "      ACH-000013  ACH-000014  ACH-000015  ACH-000017  ...  ACH-001960  \\\n",
       "5431           0           1           0           0  ...           0   \n",
       "\n",
       "      ACH-001997  ACH-001999  ACH-002001  ACH-002002  ACH-002003  ACH-002004  \\\n",
       "5431           0           0           0           0           0           0   \n",
       "\n",
       "      ACH-002005  ACH-002015  ACH-002016  \n",
       "5431           0           0           0  \n",
       "\n",
       "[1 rows x 762 columns]"
      ]
     },
     "metadata": {},
     "output_type": "display_data"
    }
   ],
   "source": [
    "# Save A2 lost dataframe, for just the final set of candidate pairs, as binary matrix table S3\n",
    "table_s3 = gene_loss_df[gene_loss_df.index.isin(raw_results.A2_entrez)].astype(int)\n",
    "print('N. unique A2s:', table_s3.shape[0])\n",
    "assert(table_s3.shape[0] == raw_results.A2_entrez.nunique())\n",
    "display(table_s3[:1])\n",
    "table_s3.to_csv(file_table_s3)"
   ]
  },
  {
   "cell_type": "markdown",
   "metadata": {},
   "source": [
    "#### Process raw results: FDR correction + calling SLs"
   ]
  },
  {
   "cell_type": "code",
   "execution_count": 27,
   "metadata": {},
   "outputs": [
    {
     "name": "stdout",
     "output_type": "stream",
     "text": [
      "N. previously validated SL paralog pairs: 12\n"
     ]
    }
   ],
   "source": [
    "# Check how many potential SL pairs there are, and whether they include previously validated SL pairs\n",
    "validated_SLs = pd.read_csv(file_validate_SLs)\n",
    "validated_SLs['sorted_gene_pair'] = validated_SLs.apply(lambda x: '_'.join(sorted([x.A1, x.A2])), axis=1)\n",
    "print('N. previously validated SL paralog pairs:', validated_SLs.shape[0])\n",
    "\n",
    "def check_SLs(results, verbose=False):\n",
    "    if results.shape[0] != results.sorted_gene_pair.nunique():\n",
    "        print('All SL pairs: %d / %d = %.2f%%' % \n",
    "              (results[results.SL].shape[0], results.shape[0], (results[results.SL].shape[0] / results.shape[0]*100)))\n",
    "    print('Unique SL pairs: %d / %d = %.2f%%' % \n",
    "          (results[results.SL].sorted_gene_pair.nunique(), results.sorted_gene_pair.nunique(), \n",
    "           (results[results.SL].sorted_gene_pair.nunique() / results.sorted_gene_pair.nunique()*100)))\n",
    "    # Merge with known SLs (nan if not tested)\n",
    "    overlap = pd.merge(results.groupby('sorted_gene_pair').SL.max().reset_index(), validated_SLs, how='right')\n",
    "    print('Known SLs retrieved:', sum(overlap.SL==True))\n",
    "    if verbose:\n",
    "        for i, row in overlap.iterrows():\n",
    "            if row.SL==True: continue\n",
    "            if row.SL==False: print(row.sorted_gene_pair,': not SL', sep='')\n",
    "            else: print(row.sorted_gene_pair,': not tested', sep='')"
   ]
  },
  {
   "cell_type": "code",
   "execution_count": 28,
   "metadata": {},
   "outputs": [],
   "source": [
    "def process_results(raw_results, scores, score_t):\n",
    "    A1_essentiality = ((scores < score_t).sum() > 0).reset_index().rename(columns={'index':'A1_entrez', 0:'A1_ess'})\n",
    "    df = pd.merge(raw_results, A1_essentiality)\n",
    "    sometimes_essential = df[df.A1_ess].reset_index(drop=True)\n",
    "    never_essential = df[df.A1_ess==False].reset_index(drop=True)\n",
    "    \n",
    "    # FDR correction for pairs that are essential in at least 1 cell line\n",
    "    results = sometimes_essential.assign(p_adj = fdrcorrection(sometimes_essential.ols_p.values)[1])\n",
    "    \n",
    "    # SL if FDR < 10% + A2_loss coefficient is negative (associated with decrease in CERES score)\n",
    "    results = results.assign(\n",
    "        SL = results.apply(lambda x: ((x.p_adj < 0.1) & (x.ols_coef < 0)), axis=1),\n",
    "        nearly_SL = results.apply(lambda x: ((x.ols_p < 0.05) & (x.p_adj > 0.1) & (x.ols_coef < 0)), axis=1))\n",
    "    \n",
    "    # Directly mark pairs that are never essential as not SL\n",
    "    results = pd.concat([results, never_essential]).reset_index(drop=True).fillna({'SL':False, 'nearly_SL':False})\n",
    "    \n",
    "    # Re-order columns + sort\n",
    "    results = results[['A1','A2','sorted_gene_pair','SL','nearly_SL','ols_p','ols_coef','p_adj','n_A2_lost',\n",
    "                       'A2_loss_mean_score','A2_wt_mean_score','A1_ess','A1_entrez','A2_entrez']]\n",
    "    results = results.sort_values('p_adj').reset_index(drop=True)\n",
    "    assert(results.shape[0]==raw_results.shape[0])\n",
    "    \n",
    "    # Unique results (call a pair SL if it was SL in either direction)\n",
    "    unique_pairs = results.groupby('sorted_gene_pair').agg({'SL':'max', 'nearly_SL':'max'}).reset_index()\n",
    "    # Drop nearly SL pairs (p<0.05)\n",
    "    unique_pairs = unique_pairs[(unique_pairs.SL)|(~unique_pairs.nearly_SL)].reset_index(drop=True).drop(columns=['nearly_SL'])\n",
    "    \n",
    "    return results, unique_pairs"
   ]
  },
  {
   "cell_type": "code",
   "execution_count": 29,
   "metadata": {},
   "outputs": [
    {
     "name": "stdout",
     "output_type": "stream",
     "text": [
      "All SL pairs: 131 / 5205 = 2.52%\n",
      "Unique SL pairs: 126 / 3810 = 3.31%\n",
      "Known SLs retrieved: 6\n"
     ]
    },
    {
     "data": {
      "text/html": [
       "<div>\n",
       "<style scoped>\n",
       "    .dataframe tbody tr th:only-of-type {\n",
       "        vertical-align: middle;\n",
       "    }\n",
       "\n",
       "    .dataframe tbody tr th {\n",
       "        vertical-align: top;\n",
       "    }\n",
       "\n",
       "    .dataframe thead th {\n",
       "        text-align: right;\n",
       "    }\n",
       "</style>\n",
       "<table border=\"1\" class=\"dataframe\">\n",
       "  <thead>\n",
       "    <tr style=\"text-align: right;\">\n",
       "      <th></th>\n",
       "      <th>A1</th>\n",
       "      <th>A2</th>\n",
       "      <th>sorted_gene_pair</th>\n",
       "      <th>SL</th>\n",
       "      <th>nearly_SL</th>\n",
       "      <th>ols_p</th>\n",
       "      <th>ols_coef</th>\n",
       "      <th>p_adj</th>\n",
       "      <th>n_A2_lost</th>\n",
       "      <th>A2_loss_mean_score</th>\n",
       "      <th>A2_wt_mean_score</th>\n",
       "      <th>A1_ess</th>\n",
       "      <th>A1_entrez</th>\n",
       "      <th>A2_entrez</th>\n",
       "    </tr>\n",
       "  </thead>\n",
       "  <tbody>\n",
       "    <tr>\n",
       "      <th>0</th>\n",
       "      <td>RPP25L</td>\n",
       "      <td>RPP25</td>\n",
       "      <td>RPP25_RPP25L</td>\n",
       "      <td>True</td>\n",
       "      <td>False</td>\n",
       "      <td>5.610660e-116</td>\n",
       "      <td>-0.661964</td>\n",
       "      <td>2.093898e-112</td>\n",
       "      <td>166</td>\n",
       "      <td>-0.876807</td>\n",
       "      <td>-0.135491</td>\n",
       "      <td>True</td>\n",
       "      <td>138716</td>\n",
       "      <td>54913</td>\n",
       "    </tr>\n",
       "  </tbody>\n",
       "</table>\n",
       "</div>"
      ],
      "text/plain": [
       "       A1     A2 sorted_gene_pair    SL  nearly_SL          ols_p  ols_coef  \\\n",
       "0  RPP25L  RPP25     RPP25_RPP25L  True      False  5.610660e-116 -0.661964   \n",
       "\n",
       "           p_adj  n_A2_lost  A2_loss_mean_score  A2_wt_mean_score  A1_ess  \\\n",
       "0  2.093898e-112        166           -0.876807         -0.135491    True   \n",
       "\n",
       "  A1_entrez A2_entrez  \n",
       "0    138716     54913  "
      ]
     },
     "execution_count": 29,
     "metadata": {},
     "output_type": "execute_result"
    }
   ],
   "source": [
    "results, depmap_pairs = process_results(raw_results, scores_filtered, score_t=-0.6)\n",
    "check_SLs(results)\n",
    "results[:1]"
   ]
  },
  {
   "cell_type": "code",
   "execution_count": 30,
   "metadata": {},
   "outputs": [],
   "source": [
    "results.to_csv(file_full_results, index=0)"
   ]
  },
  {
   "cell_type": "code",
   "execution_count": 31,
   "metadata": {},
   "outputs": [
    {
     "name": "stdout",
     "output_type": "stream",
     "text": [
      "Unique SL pairs: 126 / 3634 = 3.47%\n",
      "Known SLs retrieved: 6\n"
     ]
    }
   ],
   "source": [
    "check_SLs(depmap_pairs)"
   ]
  },
  {
   "cell_type": "code",
   "execution_count": 32,
   "metadata": {},
   "outputs": [],
   "source": [
    "depmap_pairs.to_csv(file_depmap_pairs, index=0)"
   ]
  },
  {
   "cell_type": "code",
   "execution_count": 33,
   "metadata": {},
   "outputs": [
    {
     "data": {
      "text/html": [
       "<div>\n",
       "<style scoped>\n",
       "    .dataframe tbody tr th:only-of-type {\n",
       "        vertical-align: middle;\n",
       "    }\n",
       "\n",
       "    .dataframe tbody tr th {\n",
       "        vertical-align: top;\n",
       "    }\n",
       "\n",
       "    .dataframe thead th {\n",
       "        text-align: right;\n",
       "    }\n",
       "</style>\n",
       "<table border=\"1\" class=\"dataframe\">\n",
       "  <thead>\n",
       "    <tr style=\"text-align: right;\">\n",
       "      <th></th>\n",
       "      <th>sorted_gene_pair</th>\n",
       "      <th>A1</th>\n",
       "      <th>A2</th>\n",
       "      <th>A2_status_coef</th>\n",
       "      <th>A2_status_p</th>\n",
       "      <th>A2_status_p_adj</th>\n",
       "      <th>SL</th>\n",
       "      <th>A1_entrez</th>\n",
       "      <th>A2_entrez</th>\n",
       "      <th>A1_ensembl</th>\n",
       "      <th>A2_ensembl</th>\n",
       "    </tr>\n",
       "  </thead>\n",
       "  <tbody>\n",
       "    <tr>\n",
       "      <th>0</th>\n",
       "      <td>AAK1_BMP2K</td>\n",
       "      <td>AAK1</td>\n",
       "      <td>BMP2K</td>\n",
       "      <td>-0.033329</td>\n",
       "      <td>0.445594</td>\n",
       "      <td>0.873493</td>\n",
       "      <td>False</td>\n",
       "      <td>22848</td>\n",
       "      <td>55589</td>\n",
       "      <td>ENSG00000115977</td>\n",
       "      <td>ENSG00000138756</td>\n",
       "    </tr>\n",
       "    <tr>\n",
       "      <th>1</th>\n",
       "      <td>AAK1_BMP2K</td>\n",
       "      <td>BMP2K</td>\n",
       "      <td>AAK1</td>\n",
       "      <td>-0.059093</td>\n",
       "      <td>0.083675</td>\n",
       "      <td>NaN</td>\n",
       "      <td>False</td>\n",
       "      <td>55589</td>\n",
       "      <td>22848</td>\n",
       "      <td>ENSG00000138756</td>\n",
       "      <td>ENSG00000115977</td>\n",
       "    </tr>\n",
       "    <tr>\n",
       "      <th>2</th>\n",
       "      <td>ABCA1_ABCA7</td>\n",
       "      <td>ABCA1</td>\n",
       "      <td>ABCA7</td>\n",
       "      <td>-0.000183</td>\n",
       "      <td>0.995204</td>\n",
       "      <td>0.998303</td>\n",
       "      <td>False</td>\n",
       "      <td>19</td>\n",
       "      <td>10347</td>\n",
       "      <td>ENSG00000165029</td>\n",
       "      <td>ENSG00000064687</td>\n",
       "    </tr>\n",
       "  </tbody>\n",
       "</table>\n",
       "</div>"
      ],
      "text/plain": [
       "  sorted_gene_pair     A1     A2  A2_status_coef  A2_status_p  \\\n",
       "0       AAK1_BMP2K   AAK1  BMP2K       -0.033329     0.445594   \n",
       "1       AAK1_BMP2K  BMP2K   AAK1       -0.059093     0.083675   \n",
       "2      ABCA1_ABCA7  ABCA1  ABCA7       -0.000183     0.995204   \n",
       "\n",
       "   A2_status_p_adj     SL A1_entrez A2_entrez       A1_ensembl  \\\n",
       "0         0.873493  False     22848     55589  ENSG00000115977   \n",
       "1              NaN  False     55589     22848  ENSG00000138756   \n",
       "2         0.998303  False        19     10347  ENSG00000165029   \n",
       "\n",
       "        A2_ensembl  \n",
       "0  ENSG00000138756  \n",
       "1  ENSG00000115977  \n",
       "2  ENSG00000064687  "
      ]
     },
     "metadata": {},
     "output_type": "display_data"
    }
   ],
   "source": [
    "# Save full results as Table S4\n",
    "table_s4 = results[['sorted_gene_pair','A1','A2','ols_coef','ols_p','p_adj','SL','nearly_SL','A1_entrez','A2_entrez']]\n",
    "table_s4 = table_s4.rename(columns={'ols_coef':'A2_status_coef', 'ols_p':'A2_status_p', 'p_adj':'A2_status_p_adj'})\n",
    "\n",
    "# Set SL to NA if pair is nearly_SL\n",
    "table_s4['SL'] = table_s4.apply(lambda x: float('nan') if x.nearly_SL else x.SL, axis=1)\n",
    "# Add in ensembl ids\n",
    "table_s4 = pd.merge(table_s4, all_paralog_pairs[['A1','A2','A1_ensembl','A2_ensembl']])\n",
    "table_s4 = table_s4.sort_values(['sorted_gene_pair']).drop(columns=['nearly_SL']).reset_index(drop=True)\n",
    "\n",
    "assert(table_s4.shape[0] == results.shape[0])\n",
    "assert(sum(table_s4.SL==True) == sum(results.SL==True))\n",
    "assert(table_s4.shape[0]==5205)\n",
    "display(table_s4[:3])\n",
    "table_s4.to_csv(file_table_s4, index=0)"
   ]
  },
  {
   "cell_type": "markdown",
   "metadata": {},
   "source": [
    "### Validate with Sanger CRISPR scores\n",
    "Re-test SL and non-SL pairs identified in the DepMap Broad analysis.  "
   ]
  },
  {
   "cell_type": "code",
   "execution_count": 35,
   "metadata": {},
   "outputs": [],
   "source": [
    "# Load sanger scores\n",
    "all_sanger_scores = pd.read_csv(file_sanger_gene_scores, index_col=0)"
   ]
  },
  {
   "cell_type": "code",
   "execution_count": 36,
   "metadata": {},
   "outputs": [
    {
     "name": "stdout",
     "output_type": "stream",
     "text": [
      "N cell lines: 318\n",
      "Cell lines that can be used: 242 / 318\n",
      "N unique cell lines: 66\n"
     ]
    },
    {
     "data": {
      "text/html": [
       "<div>\n",
       "<style scoped>\n",
       "    .dataframe tbody tr th:only-of-type {\n",
       "        vertical-align: middle;\n",
       "    }\n",
       "\n",
       "    .dataframe tbody tr th {\n",
       "        vertical-align: top;\n",
       "    }\n",
       "\n",
       "    .dataframe thead th {\n",
       "        text-align: right;\n",
       "    }\n",
       "</style>\n",
       "<table border=\"1\" class=\"dataframe\">\n",
       "  <thead>\n",
       "    <tr style=\"text-align: right;\">\n",
       "      <th></th>\n",
       "      <th>1</th>\n",
       "      <th>29974</th>\n",
       "      <th>2</th>\n",
       "      <th>144568</th>\n",
       "      <th>127550</th>\n",
       "      <th>53947</th>\n",
       "      <th>51146</th>\n",
       "      <th>8086</th>\n",
       "      <th>65985</th>\n",
       "      <th>13</th>\n",
       "      <th>...</th>\n",
       "      <th>221302</th>\n",
       "      <th>9183</th>\n",
       "      <th>55055</th>\n",
       "      <th>11130</th>\n",
       "      <th>79364</th>\n",
       "      <th>440590</th>\n",
       "      <th>79699</th>\n",
       "      <th>7791</th>\n",
       "      <th>23140</th>\n",
       "      <th>26009</th>\n",
       "    </tr>\n",
       "    <tr>\n",
       "      <th>cell_line</th>\n",
       "      <th></th>\n",
       "      <th></th>\n",
       "      <th></th>\n",
       "      <th></th>\n",
       "      <th></th>\n",
       "      <th></th>\n",
       "      <th></th>\n",
       "      <th></th>\n",
       "      <th></th>\n",
       "      <th></th>\n",
       "      <th></th>\n",
       "      <th></th>\n",
       "      <th></th>\n",
       "      <th></th>\n",
       "      <th></th>\n",
       "      <th></th>\n",
       "      <th></th>\n",
       "      <th></th>\n",
       "      <th></th>\n",
       "      <th></th>\n",
       "      <th></th>\n",
       "    </tr>\n",
       "  </thead>\n",
       "  <tbody>\n",
       "    <tr>\n",
       "      <th>ACH-000001</th>\n",
       "      <td>-0.4023</td>\n",
       "      <td>-0.2299</td>\n",
       "      <td>0.0824</td>\n",
       "      <td>-0.1455</td>\n",
       "      <td>-0.2633</td>\n",
       "      <td>0.0796</td>\n",
       "      <td>-0.2734</td>\n",
       "      <td>-0.1899</td>\n",
       "      <td>0.0009</td>\n",
       "      <td>0.1111</td>\n",
       "      <td>...</td>\n",
       "      <td>-0.008</td>\n",
       "      <td>-0.2627</td>\n",
       "      <td>-0.2008</td>\n",
       "      <td>-0.3151</td>\n",
       "      <td>0.1414</td>\n",
       "      <td>-0.2695</td>\n",
       "      <td>-0.0225</td>\n",
       "      <td>0.134</td>\n",
       "      <td>0.1329</td>\n",
       "      <td>-0.5369</td>\n",
       "    </tr>\n",
       "  </tbody>\n",
       "</table>\n",
       "<p>1 rows × 16267 columns</p>\n",
       "</div>"
      ],
      "text/plain": [
       "                 1   29974       2  144568  127550   53947   51146    8086  \\\n",
       "cell_line                                                                    \n",
       "ACH-000001 -0.4023 -0.2299  0.0824 -0.1455 -0.2633  0.0796 -0.2734 -0.1899   \n",
       "\n",
       "             65985      13  ...  221302    9183   55055   11130   79364  \\\n",
       "cell_line                   ...                                           \n",
       "ACH-000001  0.0009  0.1111  ...  -0.008 -0.2627 -0.2008 -0.3151  0.1414   \n",
       "\n",
       "            440590   79699   7791   23140   26009  \n",
       "cell_line                                          \n",
       "ACH-000001 -0.2695 -0.0225  0.134  0.1329 -0.5369  \n",
       "\n",
       "[1 rows x 16267 columns]"
      ]
     },
     "execution_count": 36,
     "metadata": {},
     "output_type": "execute_result"
    }
   ],
   "source": [
    "print('N cell lines:', all_sanger_scores.shape[0])\n",
    "# Use scores for cell lines that were included in expr + mutation + copy number data sets\n",
    "sanger_scores = all_sanger_scores.loc[all_sanger_scores.index.isin(all_expr.index) & \n",
    "                                      all_sanger_scores.index.isin(mut_cell_lines) &\n",
    "                                      all_sanger_scores.index.isin(copy_num_cell_lines.cell_line), :]\n",
    "sanger_scores.index.name = 'cell_line'\n",
    "print('Cell lines that can be used:', sanger_scores.shape[0], '/', all_sanger_scores.shape[0])\n",
    "print('N unique cell lines:', sanger_scores.loc[~sanger_scores.index.isin(all_scores.index), :].shape[0])\n",
    "sanger_scores[:1]"
   ]
  },
  {
   "cell_type": "code",
   "execution_count": 37,
   "metadata": {},
   "outputs": [
    {
     "name": "stdout",
     "output_type": "stream",
     "text": [
      "N SL to test (symmetric): 252\n",
      "N non-SL to test (symmetric): 7016\n"
     ]
    }
   ],
   "source": [
    "# Test DepMap Broad SLs and non-SL pairs symmetrically\n",
    "SL_pairs = all_paralog_pairs[all_paralog_pairs.sorted_gene_pair.isin(depmap_pairs[depmap_pairs.SL].sorted_gene_pair)]\n",
    "assert(SL_pairs.shape[0] == sum(depmap_pairs.SL)*2)\n",
    "print('N SL to test (symmetric):', SL_pairs.shape[0])\n",
    "nSL_pairs = all_paralog_pairs[all_paralog_pairs.sorted_gene_pair.isin(depmap_pairs[~depmap_pairs.SL].sorted_gene_pair)]\n",
    "print('N non-SL to test (symmetric):', nSL_pairs.shape[0])"
   ]
  },
  {
   "cell_type": "code",
   "execution_count": 38,
   "metadata": {},
   "outputs": [
    {
     "name": "stdout",
     "output_type": "stream",
     "text": [
      "Num pairs to test: 230/252 -> unique: 126/126\n",
      "Num pairs to test after loss filter: 108/230 -> unique: 93/126\n",
      "All SL pairs: 47 / 108 = 43.52%\n",
      "Unique SL pairs: 44 / 93 = 47.31%\n",
      "Known SLs retrieved: 5\n"
     ]
    }
   ],
   "source": [
    "raw_results_SL,_ = run_depmap_pipeline(SL_pairs, sanger_scores, protein_atlas_filter, homdels['-1.28'], expr_t=1, exprz_t=-4)\n",
    "results_SL,_ = process_results(raw_results_SL, sanger_scores, score_t=-0.6)\n",
    "check_SLs(results_SL)"
   ]
  },
  {
   "cell_type": "code",
   "execution_count": 39,
   "metadata": {},
   "outputs": [
    {
     "name": "stdout",
     "output_type": "stream",
     "text": [
      "Num pairs to test: 6483/7016 -> unique: 3493/3508\n",
      "Num pairs to test after loss filter: 3279/6483 -> unique: 2580/3493\n",
      "All SL pairs: 0 / 3279 = 0.00%\n",
      "Unique SL pairs: 0 / 2580 = 0.00%\n",
      "Known SLs retrieved: 0\n"
     ]
    }
   ],
   "source": [
    "raw_results_nSL,_ = run_depmap_pipeline(nSL_pairs, sanger_scores, protein_atlas_filter, homdels['-1.28'], expr_t=1, exprz_t=-4)\n",
    "results_nSL,_ = process_results(raw_results_nSL, sanger_scores, score_t=-0.6)\n",
    "check_SLs(results_nSL)"
   ]
  },
  {
   "cell_type": "code",
   "execution_count": 62,
   "metadata": {},
   "outputs": [
    {
     "data": {
      "image/png": "[encoded data removed]",
      "text/plain": [
       "<Figure size 330x160 with 2 Axes>"
      ]
     },
     "metadata": {},
     "output_type": "display_data"
    }
   ],
   "source": [
    "# Plot distribution of raw p-values\n",
    "f, ax = plt.subplots(1, 2, figsize=(3.3,1.6))\n",
    "histkws = {'edgecolor':'#aaa', 'alpha':1, 'linewidth':0.5, 'bins':25, 'color':'#aaa'}\n",
    "sns.histplot(raw_results_SL.ols_p, ax=ax[0], **histkws)\n",
    "sns.histplot(raw_results_nSL.ols_p, ax=ax[1], **histkws)\n",
    "ax[0].set_title('SL pairs', fontsize=9); ax[1].set_title('Non-SL pairs', fontsize=9)\n",
    "ax[0].set_ylabel('Num. pairs', fontsize=9); ax[1].set_ylabel('')\n",
    "ax[0].set_xlabel(''); ax[1].set_xlabel('')\n",
    "f.text(0.15,0, \"p-value based on Behan et al. dependency data\")\n",
    "for i in ax[0].get_yticklabels(): i.set_fontsize(7)\n",
    "for i in ax[1].get_yticklabels(): i.set_fontsize(7)\n",
    "plt.tight_layout(w_pad=0.1)\n",
    "#f.savefig('../figures/for_paper/sanger_pvals.svg', bbox_inches='tight', dpi=300)"
   ]
  },
  {
   "cell_type": "markdown",
   "metadata": {},
   "source": [
    "### Visualization of Individual Pairs\n",
    "Requires scores + A2_lost df + full results"
   ]
  },
  {
   "cell_type": "code",
   "execution_count": 40,
   "metadata": {},
   "outputs": [],
   "source": [
    "# gene_loss_df = pd.read_csv(file_gene_loss, index_col=0)\n",
    "# gene_loss_df.index = gene_loss_df.index.astype('str')"
   ]
  },
  {
   "cell_type": "code",
   "execution_count": 41,
   "metadata": {},
   "outputs": [],
   "source": [
    "# scores_filtered = all_scores[all_scores.index.isin(gene_loss_df.columns)]"
   ]
  },
  {
   "cell_type": "code",
   "execution_count": 42,
   "metadata": {},
   "outputs": [],
   "source": [
    "results = pd.read_csv(file_full_results).astype({'A1_entrez':'str', 'A2_entrez':'str'})"
   ]
  },
  {
   "cell_type": "code",
   "execution_count": 43,
   "metadata": {},
   "outputs": [],
   "source": [
    "def box_plot_for_pair(A1, A2, ax, scores=scores_filtered, gene_loss=gene_loss_df, show_points=True):\n",
    "    pair = results.loc[(results.A1==A1) & (results.A2==A2),:].iloc[0]\n",
    "    df = scores.loc[:, pair.A1_entrez].reset_index().rename(columns={'index':'cell_line', pair.A1_entrez:'A1_score'})\n",
    "    A2_status = gene_loss.loc[pair.A2_entrez,:].reset_index().rename(columns={'index':'cell_line', pair.A2_entrez:'A2_loss'})\n",
    "    df = pd.merge(df, A2_status)\n",
    "    df.A2_loss = df.A2_loss.apply(lambda x: ('Loss' if x else 'WT'))\n",
    "    df = df.sort_values('A2_loss', ascending=False)\n",
    "    sns.boxplot(y='A1_score', x='A2_loss', data=df, palette=['white', \"#56B4E9\"], ax=ax, linewidth=0.98, \n",
    "                showfliers=False, showmeans=False, saturation=1, boxprops=dict(alpha=0.5, edgecolor='black'), \n",
    "                medianprops=dict(linewidth=1, color='black'))\n",
    "    if show_points:\n",
    "        sns.stripplot(y='A1_score', x='A2_loss', data=df, color='grey', ax=ax, alpha=0.7, size=2, zorder=0)\n",
    "        ax.set_xlabel(pair.A2, fontstyle='italic'); ax.set_ylabel(A1+ ' dependency')\n",
    "        draw_signif_line(ax, 0, 1, df.A1_score.max()+0.05, pair.p_adj)\n",
    "    gp.set_axis_props(ax, show_top_spine=False, show_right_spine=False, show_xticks=False, show_yticks=False,\n",
    "                      xtick_fontsize=9, ytick_fontsize=8)\n",
    "    \n",
    "def draw_signif_line(ax, x0, x1, y, pval, hd=20):\n",
    "    h = y/hd\n",
    "    if pval < 0.0001: txt = '$p$=%.1e' % pval \n",
    "    else: txt = '$p$=%.4f' % pval \n",
    "    ax.plot([x0, x0, x1, x1], [y+h, y+2*h, y+2*h, y+h], lw=1, c='#666')\n",
    "    ax.text((x0+x1)*.5, y+2.5*h, txt, ha='center', va='bottom', color='#666', fontsize=8)"
   ]
  },
  {
   "cell_type": "code",
   "execution_count": 45,
   "metadata": {},
   "outputs": [
    {
     "data": {
      "image/png": "[encoded data removed]",
      "text/plain": [
       "<Figure size 125x195 with 1 Axes>"
      ]
     },
     "metadata": {},
     "output_type": "display_data"
    }
   ],
   "source": [
    "f, ax = plt.subplots(1, 1, figsize=(1.25,1.95))\n",
    "box_plot_for_pair('RPP25L', 'RPP25', ax, show_points=False)\n",
    "gp.set_axis_props(ax, show_xticks=False, xtick_fontsize=9, xlabel='A2', ylabel='A1 dependency', show_yticklabels=False,\n",
    "                  show_top_spine=True, show_right_spine=True)\n",
    "plt.tight_layout()\n",
    "f.savefig('../figures/for_paper/boxplot_example.svg', bbox_inches='tight', dpi=300, transparent=True)"
   ]
  },
  {
   "cell_type": "code",
   "execution_count": 46,
   "metadata": {},
   "outputs": [
    {
     "data": {
      "image/png": "[encoded data removed]",
      "text/plain": [
       "<Figure size 350x670 with 6 Axes>"
      ]
     },
     "metadata": {},
     "output_type": "display_data"
    }
   ],
   "source": [
    "f, ax = plt.subplots(3, 2, figsize=(3.5,6.7))\n",
    "ax = ax.flatten()\n",
    "box_plot_for_pair('ARID1B', 'ARID1A', ax[0])\n",
    "box_plot_for_pair('STAG1', 'STAG2', ax[1])\n",
    "box_plot_for_pair('SMARCA4', 'SMARCA2', ax[2])\n",
    "box_plot_for_pair('SEC24C', 'SEC24D', ax[3])\n",
    "box_plot_for_pair('VPS26A', 'VPS26B', ax[4])\n",
    "box_plot_for_pair('HSPA4', 'HSPH1', ax[5])\n",
    "plt.tight_layout(h_pad=1, w_pad=2)\n",
    "f.savefig('../figures/for_paper/boxplot_example_SLs.svg', bbox_inches='tight', dpi=300)"
   ]
  },
  {
   "cell_type": "markdown",
   "metadata": {},
   "source": [
    "### Re-run pipeline with alternative thresholds for gene loss / essentiality"
   ]
  },
  {
   "cell_type": "code",
   "execution_count": 47,
   "metadata": {},
   "outputs": [],
   "source": [
    "file_alt_depmap_pairs = lambda expr_t, exprz_t, hdt, ess: get_local_data_path(['results','alt_params'], \n",
    "                                'depmap_pairs_expr='+str(expr_t)+'_exprz='+str(exprz_t)+'_hd='+str(hdt)+'_ess='+str(ess))"
   ]
  },
  {
   "cell_type": "code",
   "execution_count": 48,
   "metadata": {},
   "outputs": [],
   "source": [
    "# Thresholds for expression, expression z-score and copy number (HD)\n",
    "thresholds = [[0.17,1],[-3,-4,-6],[-1.28,-1.5]]"
   ]
  },
  {
   "cell_type": "code",
   "execution_count": 52,
   "metadata": {
    "scrolled": true
   },
   "outputs": [
    {
     "name": "stdout",
     "output_type": "stream",
     "text": [
      "(0.17, -3, -1.28)\n",
      "Num pairs to test: 9633/73296 -> unique: 5270/36648\n",
      "Num pairs to test after loss filter: 4731/9633 -> unique: 3600/5270\n",
      "Unique SL pairs: 88 / 3411 = 2.58%\n",
      "Known SLs retrieved: 6\n",
      "Unique SL pairs: 91 / 3429 = 2.65%\n",
      "Known SLs retrieved: 6\n",
      "Unique SL pairs: 91 / 3456 = 2.63%\n",
      "Known SLs retrieved: 6\n",
      "(0.17, -3, -1.5)\n",
      "Num pairs to test: 9633/73296 -> unique: 5270/36648\n",
      "Num pairs to test after loss filter: 4410/9633 -> unique: 3371/5270\n",
      "Unique SL pairs: 79 / 3201 = 2.47%\n",
      "Known SLs retrieved: 6\n",
      "Unique SL pairs: 82 / 3218 = 2.55%\n",
      "Known SLs retrieved: 6\n",
      "Unique SL pairs: 86 / 3240 = 2.65%\n",
      "Known SLs retrieved: 6\n",
      "(0.17, -4, -1.28)\n",
      "Num pairs to test: 9633/73296 -> unique: 5270/36648\n",
      "Num pairs to test after loss filter: 4116/9633 -> unique: 3213/5270\n",
      "Unique SL pairs: 66 / 3055 = 2.16%\n",
      "Known SLs retrieved: 6\n",
      "Unique SL pairs: 66 / 3069 = 2.15%\n",
      "Known SLs retrieved: 6\n",
      "Unique SL pairs: 70 / 3090 = 2.27%\n",
      "Known SLs retrieved: 6\n",
      "(0.17, -4, -1.5)\n",
      "Num pairs to test: 9633/73296 -> unique: 5270/36648\n",
      "Num pairs to test after loss filter: 3809/9633 -> unique: 2979/5270\n",
      "Unique SL pairs: 59 / 2835 = 2.08%\n",
      "Known SLs retrieved: 6\n",
      "Unique SL pairs: 59 / 2848 = 2.07%\n",
      "Known SLs retrieved: 6\n",
      "Unique SL pairs: 61 / 2863 = 2.13%\n",
      "Known SLs retrieved: 6\n",
      "(0.17, -6, -1.28)\n",
      "Num pairs to test: 9633/73296 -> unique: 5270/36648\n",
      "Num pairs to test after loss filter: 4038/9633 -> unique: 3158/5270\n",
      "Unique SL pairs: 64 / 3002 = 2.13%\n",
      "Known SLs retrieved: 6\n",
      "Unique SL pairs: 65 / 3016 = 2.16%\n",
      "Known SLs retrieved: 6\n",
      "Unique SL pairs: 70 / 3038 = 2.30%\n",
      "Known SLs retrieved: 6\n",
      "(0.17, -6, -1.5)\n",
      "Num pairs to test: 9633/73296 -> unique: 5270/36648\n",
      "Num pairs to test after loss filter: 3752/9633 -> unique: 2941/5270\n",
      "Unique SL pairs: 58 / 2799 = 2.07%\n",
      "Known SLs retrieved: 6\n",
      "Unique SL pairs: 59 / 2812 = 2.10%\n",
      "Known SLs retrieved: 6\n",
      "Unique SL pairs: 61 / 2827 = 2.16%\n",
      "Known SLs retrieved: 6\n",
      "(1, -3, -1.28)\n",
      "Num pairs to test: 9633/73296 -> unique: 5270/36648\n",
      "Num pairs to test after loss filter: 5624/9633 -> unique: 4046/5270\n",
      "Unique SL pairs: 133 / 3824 = 3.48%\n",
      "Known SLs retrieved: 6\n",
      "Unique SL pairs: 136 / 3852 = 3.53%\n",
      "Known SLs retrieved: 6\n",
      "Unique SL pairs: 133 / 3885 = 3.42%\n",
      "Known SLs retrieved: 6\n",
      "(1, -3, -1.5)\n",
      "Num pairs to test: 9633/73296 -> unique: 5270/36648\n",
      "Num pairs to test after loss filter: 5324/9633 -> unique: 3861/5270\n",
      "Unique SL pairs: 125 / 3656 = 3.42%\n",
      "Known SLs retrieved: 6\n",
      "Unique SL pairs: 129 / 3684 = 3.50%\n",
      "Known SLs retrieved: 6\n",
      "Unique SL pairs: 126 / 3709 = 3.40%\n",
      "Known SLs retrieved: 6\n",
      "(1, -4, -1.28)\n",
      "Num pairs to test: 9633/73296 -> unique: 5270/36648\n",
      "Num pairs to test after loss filter: 5205/9633 -> unique: 3810/5270\n",
      "Unique SL pairs: 125 / 3609 = 3.46%\n",
      "Known SLs retrieved: 6\n",
      "Unique SL pairs: 126 / 3634 = 3.47%\n",
      "Known SLs retrieved: 6\n",
      "Unique SL pairs: 124 / 3661 = 3.39%\n",
      "Known SLs retrieved: 6\n",
      "(1, -4, -1.5)\n",
      "Num pairs to test: 9633/73296 -> unique: 5270/36648\n",
      "Num pairs to test after loss filter: 4934/9633 -> unique: 3635/5270\n",
      "Unique SL pairs: 120 / 3449 = 3.48%\n",
      "Known SLs retrieved: 6\n",
      "Unique SL pairs: 120 / 3472 = 3.46%\n",
      "Known SLs retrieved: 6\n",
      "Unique SL pairs: 117 / 3495 = 3.35%\n",
      "Known SLs retrieved: 6\n",
      "(1, -6, -1.28)\n",
      "Num pairs to test: 9633/73296 -> unique: 5270/36648\n",
      "Num pairs to test after loss filter: 5159/9633 -> unique: 3779/5270\n",
      "Unique SL pairs: 124 / 3579 = 3.46%\n",
      "Known SLs retrieved: 6\n",
      "Unique SL pairs: 126 / 3604 = 3.50%\n",
      "Known SLs retrieved: 6\n",
      "Unique SL pairs: 124 / 3631 = 3.42%\n",
      "Known SLs retrieved: 6\n",
      "(1, -6, -1.5)\n",
      "Num pairs to test: 9633/73296 -> unique: 5270/36648\n",
      "Num pairs to test after loss filter: 4906/9633 -> unique: 3617/5270\n",
      "Unique SL pairs: 119 / 3431 = 3.47%\n",
      "Known SLs retrieved: 6\n",
      "Unique SL pairs: 120 / 3454 = 3.47%\n",
      "Known SLs retrieved: 6\n",
      "Unique SL pairs: 117 / 3477 = 3.36%\n",
      "Known SLs retrieved: 6\n"
     ]
    }
   ],
   "source": [
    "for params in list(itertools.product(*thresholds)):\n",
    "    print(params)\n",
    "    raw_results_, _ = run_depmap_pipeline(all_paralog_pairs, scores_filtered, protein_atlas_filter,\n",
    "                                          homdels[str(params[2])], expr_t=params[0], exprz_t=params[1])\n",
    "    # Thresholds for essentiality\n",
    "    for score_t in [-0.5,-0.6,-0.7]:\n",
    "        results_, unique_results_ = process_results(raw_results_, scores_filtered, score_t=score_t)\n",
    "        check_SLs(unique_results_)\n",
    "        unique_results_.to_csv(file_alt_depmap_pairs(params[0],params[1],params[2],score_t), index=0)"
   ]
  }
 ],
 "metadata": {
  "kernelspec": {
   "display_name": "Python 3.7.9 64-bit ('paralogSL': conda)",
   "language": "python",
   "name": "python37964bitparalogslconda0f0e77de73d34c52b743edfe8868363d"
  },
  "language_info": {
   "codemirror_mode": {
    "name": "ipython",
    "version": 3
   },
   "file_extension": ".py",
   "mimetype": "text/x-python",
   "name": "python",
   "nbconvert_exporter": "python",
   "pygments_lexer": "ipython3",
   "version": "3.7.1"
  }
 },
 "nbformat": 4,
 "nbformat_minor": 5
}
