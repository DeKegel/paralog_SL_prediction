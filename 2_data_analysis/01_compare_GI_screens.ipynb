{
 "cells": [
  {
   "cell_type": "markdown",
   "metadata": {},
   "source": [
    "## Compare pairs screened + hits identified in each GI screen\n",
    "\n",
    "Combinatorial screens: Thompson et al., Dede et al., Parrish et al., Gonatopoulos-Pournatzis (CHyMErA)"
   ]
  },
  {
   "cell_type": "code",
   "execution_count": 1,
   "metadata": {},
   "outputs": [],
   "source": [
    "import pandas as pd\n",
    "import numpy as np\n",
    "import scipy.stats as stats\n",
    "from matplotlib_venn import venn2, venn2_circles\n",
    "import seaborn as sns\n",
    "import matplotlib.pyplot as plt\n",
    "import itertools\n",
    "\n",
    "import graphing_params as gp\n",
    "%load_ext autoreload\n",
    "%autoreload 1\n",
    "%aimport graphing_params\n",
    "\n",
    "import os\n",
    "\n",
    "get_local_data_path = lambda folders, fname: os.path.normpath('../local_data/' +'/'.join(folders) +'/'+ fname)\n",
    "\n",
    "# Input\n",
    "file_annot_pairs = get_local_data_path(['processed','paralog_features'], 'all_features.csv')\n",
    "file_depmap_pairs = get_local_data_path(['results'], 'depmap_pairs.csv')\n",
    "\n",
    "file_thompson_pairs = get_local_data_path(['processed', 'screen_pairs'], 'thompson_pairs.csv')\n",
    "file_dede_pairs = get_local_data_path(['processed', 'screen_pairs'], 'dede_pairs.csv')\n",
    "file_chymera_orig = get_local_data_path(['processed','screen_pairs'], 'chymera_pairs_orig.csv')\n",
    "file_parrish_pairs = get_local_data_path(['processed','screen_pairs'], 'parrish_pairs.csv')\n",
    "\n",
    "\n",
    "# Output\n",
    "file_chymera_new = get_local_data_path(['processed','screen_pairs'], 'chymera_pairs_filtered.csv')\n",
    "file_all_screened_pairs = get_local_data_path(['processed', 'screen_pairs'], 'all_screened_pairs.csv')\n",
    "file_consensus_pairs = get_local_data_path(['processed', 'screen_pairs'], 'consensus_pairs.csv')"
   ]
  },
  {
   "cell_type": "markdown",
   "metadata": {},
   "source": [
    "### Load data sets"
   ]
  },
  {
   "cell_type": "code",
   "execution_count": 2,
   "metadata": {},
   "outputs": [
    {
     "name": "stdout",
     "output_type": "stream",
     "text": [
      "N= 36648\n"
     ]
    },
    {
     "data": {
      "text/html": [
       "<div>\n",
       "<style scoped>\n",
       "    .dataframe tbody tr th:only-of-type {\n",
       "        vertical-align: middle;\n",
       "    }\n",
       "\n",
       "    .dataframe tbody tr th {\n",
       "        vertical-align: top;\n",
       "    }\n",
       "\n",
       "    .dataframe thead th {\n",
       "        text-align: right;\n",
       "    }\n",
       "</style>\n",
       "<table border=\"1\" class=\"dataframe\">\n",
       "  <thead>\n",
       "    <tr style=\"text-align: right;\">\n",
       "      <th></th>\n",
       "      <th>sorted_gene_pair</th>\n",
       "      <th>min_sequence_identity</th>\n",
       "      <th>family_size</th>\n",
       "      <th>WGD</th>\n",
       "      <th>closest</th>\n",
       "    </tr>\n",
       "  </thead>\n",
       "  <tbody>\n",
       "    <tr>\n",
       "      <th>0</th>\n",
       "      <td>A1BG_OSCAR</td>\n",
       "      <td>12.7273</td>\n",
       "      <td>3</td>\n",
       "      <td>False</td>\n",
       "      <td>False</td>\n",
       "    </tr>\n",
       "  </tbody>\n",
       "</table>\n",
       "</div>"
      ],
      "text/plain": [
       "  sorted_gene_pair  min_sequence_identity  family_size    WGD  closest\n",
       "0       A1BG_OSCAR                12.7273            3  False    False"
      ]
     },
     "execution_count": 2,
     "metadata": {},
     "output_type": "execute_result"
    }
   ],
   "source": [
    "annot = pd.read_csv(file_annot_pairs)[['sorted_gene_pair','min_sequence_identity','family_size','WGD','closest']]\n",
    "annot.min_sequence_identity = annot.min_sequence_identity * 100\n",
    "print('N=', annot.shape[0])\n",
    "annot[:1]"
   ]
  },
  {
   "cell_type": "code",
   "execution_count": 3,
   "metadata": {},
   "outputs": [
    {
     "name": "stdout",
     "output_type": "stream",
     "text": [
      "N: 3634\n"
     ]
    },
    {
     "data": {
      "text/html": [
       "<div>\n",
       "<style scoped>\n",
       "    .dataframe tbody tr th:only-of-type {\n",
       "        vertical-align: middle;\n",
       "    }\n",
       "\n",
       "    .dataframe tbody tr th {\n",
       "        vertical-align: top;\n",
       "    }\n",
       "\n",
       "    .dataframe thead th {\n",
       "        text-align: right;\n",
       "    }\n",
       "</style>\n",
       "<table border=\"1\" class=\"dataframe\">\n",
       "  <thead>\n",
       "    <tr style=\"text-align: right;\">\n",
       "      <th></th>\n",
       "      <th>sorted_gene_pair</th>\n",
       "      <th>SL</th>\n",
       "      <th>min_sequence_identity</th>\n",
       "      <th>family_size</th>\n",
       "      <th>WGD</th>\n",
       "      <th>closest</th>\n",
       "    </tr>\n",
       "  </thead>\n",
       "  <tbody>\n",
       "    <tr>\n",
       "      <th>0</th>\n",
       "      <td>AAK1_BMP2K</td>\n",
       "      <td>False</td>\n",
       "      <td>34.1947</td>\n",
       "      <td>2</td>\n",
       "      <td>False</td>\n",
       "      <td>True</td>\n",
       "    </tr>\n",
       "  </tbody>\n",
       "</table>\n",
       "</div>"
      ],
      "text/plain": [
       "  sorted_gene_pair     SL  min_sequence_identity  family_size    WGD  closest\n",
       "0       AAK1_BMP2K  False                34.1947            2  False     True"
      ]
     },
     "execution_count": 3,
     "metadata": {},
     "output_type": "execute_result"
    }
   ],
   "source": [
    "depmap_pairs = pd.read_csv(file_depmap_pairs)\n",
    "depmap_pairs = pd.merge(depmap_pairs, annot)\n",
    "print('N:', depmap_pairs.shape[0])\n",
    "depmap_pairs[:1]"
   ]
  },
  {
   "cell_type": "code",
   "execution_count": 4,
   "metadata": {},
   "outputs": [
    {
     "name": "stdout",
     "output_type": "stream",
     "text": [
      "N full: 592\n",
      "N w/ essential gene: 117\n",
      "N after filtering: 475\n",
      "SL 1+: 71 = 14.9%\n",
      "SL 2+: 4.8%\n"
     ]
    }
   ],
   "source": [
    "all_thompson_pairs = pd.read_csv(file_thompson_pairs)\n",
    "thompson_pairs_full = pd.merge(all_thompson_pairs, annot)\n",
    "print('N full:', thompson_pairs_full.shape[0])\n",
    "print('N w/ essential gene:', thompson_pairs_full[thompson_pairs_full.passes_min_1_filter==False].shape[0])\n",
    "thompson_pairs = thompson_pairs_full[thompson_pairs_full.passes_min_1_filter].reset_index(drop=True)\n",
    "print('N after filtering:', thompson_pairs.shape[0])\n",
    "print('SL 1+: %d = %.1f%%' % (sum(thompson_pairs.n_SL>=1), sum(thompson_pairs.n_SL>=1)/thompson_pairs.shape[0]*100))\n",
    "print('SL 2+: %.1f%%' % (sum(thompson_pairs.n_SL>=2)/thompson_pairs.shape[0]*100))"
   ]
  },
  {
   "cell_type": "code",
   "execution_count": 5,
   "metadata": {},
   "outputs": [
    {
     "name": "stdout",
     "output_type": "stream",
     "text": [
      "N: 393\n",
      "SL 1+: 24 = 6.1%\n",
      "SL 2+: 4.8%\n"
     ]
    }
   ],
   "source": [
    "all_dede_pairs = pd.read_csv(file_dede_pairs)\n",
    "dede_pairs = pd.merge(all_dede_pairs, annot)\n",
    "print('N:', dede_pairs.shape[0])\n",
    "print('SL 1+: %d = %.1f%%' % (sum(dede_pairs.n_SL>=1), sum(dede_pairs.n_SL>=1)/dede_pairs.shape[0]*100))\n",
    "print('SL 2+: %.1f%%' % (sum(dede_pairs.n_SL>=2)/dede_pairs.shape[0]*100))"
   ]
  },
  {
   "cell_type": "code",
   "execution_count": 6,
   "metadata": {},
   "outputs": [
    {
     "name": "stdout",
     "output_type": "stream",
     "text": [
      "N: 1027\n",
      "SL 1+: 122 = 11.9%\n",
      "SL 2: 3.4%\n"
     ]
    }
   ],
   "source": [
    "all_parrish_pairs = pd.read_csv(file_parrish_pairs)\n",
    "parrish_pairs = pd.merge(all_parrish_pairs, annot)\n",
    "print('N:', parrish_pairs.shape[0])\n",
    "print('SL 1+: %d = %.1f%%' % (sum(parrish_pairs.n_SL>=1), sum(parrish_pairs.n_SL>=1)/parrish_pairs.shape[0]*100))\n",
    "print('SL 2: %.1f%%' % (sum(parrish_pairs.n_SL==2)/parrish_pairs.shape[0]*100))"
   ]
  },
  {
   "cell_type": "code",
   "execution_count": 7,
   "metadata": {},
   "outputs": [
    {
     "name": "stdout",
     "output_type": "stream",
     "text": [
      "N: 658\n",
      "SL 1+: 267 = 40.6%\n",
      "SL 2: 7.6%\n"
     ]
    }
   ],
   "source": [
    "all_chymera_pairs_orig = pd.read_csv(file_chymera_orig, index_col=0)\n",
    "chymera_pairs_orig = pd.merge(all_chymera_pairs_orig, annot)\n",
    "print('N:', chymera_pairs_orig.shape[0])\n",
    "print('SL 1+: %d = %.1f%%' % (sum(chymera_pairs_orig.n_hits>=1), \n",
    "                              sum(chymera_pairs_orig.n_hits>=1)/chymera_pairs_orig.shape[0]*100))\n",
    "print('SL 2: %.1f%%' % (sum(chymera_pairs_orig.n_hits==2)/chymera_pairs_orig.shape[0]*100))\n",
    "# Rename hit column for easier comparison\n",
    "chymera_pairs_orig = chymera_pairs_orig.rename(columns={'n_hits':'n_SL'})"
   ]
  },
  {
   "cell_type": "markdown",
   "metadata": {},
   "source": [
    "### Ensembl version comparison\n",
    "Check which Ensembl version covers more of the screened paralog pairs."
   ]
  },
  {
   "cell_type": "code",
   "execution_count": 8,
   "metadata": {},
   "outputs": [
    {
     "name": "stdout",
     "output_type": "stream",
     "text": [
      "All pairs screened in at least 1 study, Ensembl 93: 1915\n",
      "All pairs screened in at least 1 study, Ensembl 102: 1874\n"
     ]
    }
   ],
   "source": [
    "cols = ['sorted_gene_pair','in_93','in_102']\n",
    "df = pd.merge(all_thompson_pairs[cols], all_dede_pairs[cols], how='outer')\n",
    "df = pd.merge(df, all_parrish_pairs[cols], how='outer')\n",
    "df = pd.merge(df, all_chymera_pairs_orig[cols], how='outer')\n",
    "print('All pairs screened in at least 1 study, Ensembl 93:', df[df.in_93].shape[0])\n",
    "print('All pairs screened in at least 1 study, Ensembl 102:', df[df.in_102].shape[0])"
   ]
  },
  {
   "cell_type": "markdown",
   "metadata": {},
   "source": [
    "### Bias in screened paralog pairs"
   ]
  },
  {
   "cell_type": "code",
   "execution_count": 9,
   "metadata": {},
   "outputs": [
    {
     "name": "stdout",
     "output_type": "stream",
     "text": [
      "N= 42952\n"
     ]
    },
    {
     "data": {
      "text/html": [
       "<div>\n",
       "<style scoped>\n",
       "    .dataframe tbody tr th:only-of-type {\n",
       "        vertical-align: middle;\n",
       "    }\n",
       "\n",
       "    .dataframe tbody tr th {\n",
       "        vertical-align: top;\n",
       "    }\n",
       "\n",
       "    .dataframe thead th {\n",
       "        text-align: right;\n",
       "    }\n",
       "</style>\n",
       "<table border=\"1\" class=\"dataframe\">\n",
       "  <thead>\n",
       "    <tr style=\"text-align: right;\">\n",
       "      <th></th>\n",
       "      <th>sorted_gene_pair</th>\n",
       "      <th>min_sequence_identity</th>\n",
       "      <th>family_size</th>\n",
       "      <th>WGD</th>\n",
       "      <th>closest</th>\n",
       "      <th>screen</th>\n",
       "    </tr>\n",
       "  </thead>\n",
       "  <tbody>\n",
       "    <tr>\n",
       "      <th>0</th>\n",
       "      <td>A1BG_OSCAR</td>\n",
       "      <td>12.7273</td>\n",
       "      <td>3</td>\n",
       "      <td>False</td>\n",
       "      <td>False</td>\n",
       "      <td>All paralog\\npairs</td>\n",
       "    </tr>\n",
       "  </tbody>\n",
       "</table>\n",
       "</div>"
      ],
      "text/plain": [
       "  sorted_gene_pair  min_sequence_identity  family_size    WGD  closest  \\\n",
       "0       A1BG_OSCAR                12.7273            3  False    False   \n",
       "\n",
       "               screen  \n",
       "0  All paralog\\npairs  "
      ]
     },
     "execution_count": 9,
     "metadata": {},
     "output_type": "execute_result"
    }
   ],
   "source": [
    "# All datasets: all pairs in all screens + our depmap set + reference (all paralog pairs)\n",
    "cols = ['sorted_gene_pair','min_sequence_identity','family_size', 'WGD', 'closest']\n",
    "all_datasets = pd.concat([annot[cols].assign(screen='All paralog\\npairs'), depmap_pairs[cols].assign(screen='Our dataset'),\n",
    "                         thompson_pairs_full[cols].assign(screen='Thompson'), dede_pairs[cols].assign(screen='Dede'), \n",
    "                         parrish_pairs[cols].assign(screen='Parrish'), chymera_pairs_orig[cols].assign(screen='CHyMErA')])\n",
    "print('N=', all_datasets.shape[0])\n",
    "all_datasets[:1]"
   ]
  },
  {
   "cell_type": "code",
   "execution_count": 10,
   "metadata": {},
   "outputs": [],
   "source": [
    "data_order = ['All paralog\\npairs','Our dataset','Thompson','Dede','Parrish','CHyMErA']\n",
    "data_palette = ['grey','silver'] + gp.get_palette('okabe-ito-2')[:4]"
   ]
  },
  {
   "cell_type": "code",
   "execution_count": 11,
   "metadata": {},
   "outputs": [
    {
     "data": {
      "image/png": "[encoded data removed]",
      "text/plain": [
       "<Figure size 600x240 with 2 Axes>"
      ]
     },
     "metadata": {},
     "output_type": "display_data"
    }
   ],
   "source": [
    "f, ax = plt.subplots(1, 2, figsize=(6,2.4), sharey=True, gridspec_kw={'width_ratios':[1.4,1]})\n",
    "\n",
    "# 1/ Seq id plot\n",
    "sns.boxplot(x='min_sequence_identity', y='screen', data=all_datasets, showfliers=False, ax=ax[0], \n",
    "            palette=data_palette, saturation=1, linewidth=0.98, medianprops=dict(linewidth=0.98, color='black'))\n",
    "gp.set_axis_props(ax[0], xlabel='Min. sequence identity %', ylabel='', ytick_fontsize=9)\n",
    "ax[0].set_xlim([0,100])  \n",
    "\n",
    "# Annotate graph with medians\n",
    "medians = all_datasets.groupby(['screen'])['min_sequence_identity'].median()[data_order]\n",
    "labels = [\"%.f%%\" % i for i in medians.values]\n",
    "for tick in ax[0].get_yticks():\n",
    "    ax[0].text(medians[tick]+5, tick+0.15, labels[tick], ha='center', size=8, color='black')\n",
    "\n",
    "\n",
    "# 2/ Family plot\n",
    "sns.boxplot(x='family_size', y='screen', data=all_datasets, showfliers=False, ax=ax[1], \n",
    "            palette=data_palette, saturation=1, linewidth=0.98, medianprops=dict(linewidth=0.98, color='black'))\n",
    "gp.set_axis_props(ax[1], xlabel='Family size', ylabel='', show_yticks=False)\n",
    "\n",
    "# Annotate graphs with medians\n",
    "medians = all_datasets.groupby(['screen'])['family_size'].median()[data_order]\n",
    "labels = [\"%d\" % i for i in medians.values]\n",
    "for tick in ax[1].get_yticks():\n",
    "    if tick == 2:\n",
    "            ax[1].text(medians[tick]+3.2, tick+0.45, labels[tick], ha='center', size=8)\n",
    "            ax[1].annotate(\"\", xy=(medians[tick], tick+0.2), xytext=(medians[tick]+2.8, tick+0.35), \n",
    "                           arrowprops=dict(arrowstyle=\"-\"))\n",
    "    else:\n",
    "        ax[1].text(medians[tick]+1.2, tick+0.15, labels[tick], ha='center', size=8, color='black')\n",
    "\n",
    "plt.tight_layout()\n",
    "f.savefig(\"../figures/for_paper/bias_seq_id_family_size.svg\", bbox_inches=\"tight\", dpi=300)"
   ]
  },
  {
   "cell_type": "code",
   "execution_count": 12,
   "metadata": {
    "scrolled": true
   },
   "outputs": [
    {
     "data": {
      "image/png": "[encoded data removed]",
      "text/plain": [
       "<Figure size 600x240 with 2 Axes>"
      ]
     },
     "metadata": {},
     "output_type": "display_data"
    }
   ],
   "source": [
    "f, ax = plt.subplots(1,2,figsize=(6,2.4), sharey=True)\n",
    "\n",
    "# 1/ WGD\n",
    "ctab = pd.crosstab(all_datasets.WGD, all_datasets.screen)\n",
    "ctab = ctab.div(ctab.sum(axis=0)).multiply(100).loc[:, data_order[::-1]]\n",
    "ctab.iloc[1].plot.barh(ax=ax[0], width=0.85, rot=0, color=data_palette[::-1])\n",
    "gp.set_axis_props(ax[0], ytick_fontsize=9, ylabel='', xlabel='% of pairs that are WGDs')\n",
    "\n",
    "# Annotations\n",
    "labels = [\"%.f%%\" % i for i in ctab.iloc[1].values]\n",
    "for rect, label in zip(ax[0].patches, labels):\n",
    "    xoffset = rect.get_width()-(ctab.values.max()*0.023*len(label))\n",
    "    ax[0].text(rect.get_x()+xoffset, rect.get_y()+rect.get_height()/2-0.05, label, ha='center', va='center')\n",
    "    \n",
    "# 2/ closest  \n",
    "ctab = pd.crosstab(all_datasets.closest, all_datasets.screen)\n",
    "ctab = ctab.div(ctab.sum(axis=0)).multiply(100).loc[:, data_order[::-1]]\n",
    "ctab.iloc[1].plot.barh(ax=ax[1], width=0.85, rot=0, color=data_palette[::-1])\n",
    "gp.set_axis_props(ax[1], ytick_fontsize=9, show_yticks=False, ylabel='', xlabel='% of pairs that are closest paralogs')\n",
    "\n",
    "# Annotations\n",
    "labels = [\"%.f%%\" % i for i in ctab.iloc[1].values]\n",
    "for rect, label in zip(ax[1].patches, labels):\n",
    "    xoffset = rect.get_width()-(ctab.values.max()*0.023*len(label))\n",
    "    ax[1].text(rect.get_x()+xoffset, rect.get_y()+rect.get_height()/2-0.05, label, ha='center', va='center')\n",
    "\n",
    "plt.tight_layout()\n",
    "f.savefig(\"../figures/for_paper/bias_wgd_closest.svg\", bbox_inches=\"tight\", dpi=300)"
   ]
  },
  {
   "cell_type": "code",
   "execution_count": 13,
   "metadata": {},
   "outputs": [
    {
     "name": "stdout",
     "output_type": "stream",
     "text": [
      "Median seq. id. all: 32%, screened: 54%\n",
      "Median family size all: 11, screened: 3\n",
      "% WGDs all: 19%, screened: 73%\n",
      "% closest all: 13%, screened: 89%\n"
     ]
    }
   ],
   "source": [
    "# Identify unique list of screened pairs (from the four studies)\n",
    "all_screened = all_datasets[all_datasets.screen.isin(['Thompson','Dede','Parrish','CHyMErA'])]\n",
    "all_screened = all_screened.drop(columns=['screen']).drop_duplicates()\n",
    "\n",
    "print('Median seq. id. all: %.f%%, screened: %.f%%' % \n",
    "      (annot.min_sequence_identity.median(), all_screened.min_sequence_identity.median()))\n",
    "print('Median family size all: %d, screened: %d' % (annot.family_size.median(), all_screened.family_size.median()))\n",
    "print('%% WGDs all: %.f%%, screened: %.f%%' % \n",
    "      (sum(annot.WGD)/annot.shape[0]*100, sum(all_screened.WGD)/all_screened.shape[0]*100))\n",
    "print('%% closest all: %.f%%, screened: %.f%%' % \n",
    "      (sum(annot.closest)/annot.shape[0]*100, sum(all_screened.closest)/all_screened.shape[0]*100))"
   ]
  },
  {
   "cell_type": "markdown",
   "metadata": {},
   "source": [
    "### Pick threshold for Chymera pairs\n",
    "Based on overlap with the three other screens"
   ]
  },
  {
   "cell_type": "code",
   "execution_count": 14,
   "metadata": {},
   "outputs": [
    {
     "data": {
      "text/html": [
       "<div>\n",
       "<style scoped>\n",
       "    .dataframe tbody tr th:only-of-type {\n",
       "        vertical-align: middle;\n",
       "    }\n",
       "\n",
       "    .dataframe tbody tr th {\n",
       "        vertical-align: top;\n",
       "    }\n",
       "\n",
       "    .dataframe thead th {\n",
       "        text-align: right;\n",
       "    }\n",
       "</style>\n",
       "<table border=\"1\" class=\"dataframe\">\n",
       "  <thead>\n",
       "    <tr style=\"text-align: right;\">\n",
       "      <th></th>\n",
       "      <th>sorted_gene_pair</th>\n",
       "      <th>hap1_hit</th>\n",
       "      <th>rpe1_hit</th>\n",
       "      <th>n_SL</th>\n",
       "      <th>min_hap1_lfc</th>\n",
       "      <th>min_rpe1_lfc</th>\n",
       "      <th>in_93</th>\n",
       "      <th>in_102</th>\n",
       "      <th>min_sequence_identity</th>\n",
       "      <th>family_size</th>\n",
       "      <th>WGD</th>\n",
       "      <th>closest</th>\n",
       "    </tr>\n",
       "  </thead>\n",
       "  <tbody>\n",
       "    <tr>\n",
       "      <th>0</th>\n",
       "      <td>SEC23A_SEC23B</td>\n",
       "      <td>True</td>\n",
       "      <td>True</td>\n",
       "      <td>2</td>\n",
       "      <td>-2.079895</td>\n",
       "      <td>-1.96918</td>\n",
       "      <td>True</td>\n",
       "      <td>True</td>\n",
       "      <td>84.6154</td>\n",
       "      <td>2</td>\n",
       "      <td>True</td>\n",
       "      <td>True</td>\n",
       "    </tr>\n",
       "  </tbody>\n",
       "</table>\n",
       "</div>"
      ],
      "text/plain": [
       "  sorted_gene_pair  hap1_hit  rpe1_hit  n_SL  min_hap1_lfc  min_rpe1_lfc  \\\n",
       "0    SEC23A_SEC23B      True      True     2     -2.079895      -1.96918   \n",
       "\n",
       "   in_93  in_102  min_sequence_identity  family_size   WGD  closest  \n",
       "0   True    True                84.6154            2  True     True  "
      ]
     },
     "execution_count": 14,
     "metadata": {},
     "output_type": "execute_result"
    }
   ],
   "source": [
    "chymera_pairs_orig[:1]"
   ]
  },
  {
   "cell_type": "code",
   "execution_count": 15,
   "metadata": {},
   "outputs": [
    {
     "data": {
      "text/html": [
       "<div>\n",
       "<style scoped>\n",
       "    .dataframe tbody tr th:only-of-type {\n",
       "        vertical-align: middle;\n",
       "    }\n",
       "\n",
       "    .dataframe tbody tr th {\n",
       "        vertical-align: top;\n",
       "    }\n",
       "\n",
       "    .dataframe thead th {\n",
       "        text-align: right;\n",
       "    }\n",
       "</style>\n",
       "<table border=\"1\" class=\"dataframe\">\n",
       "  <thead>\n",
       "    <tr style=\"text-align: right;\">\n",
       "      <th></th>\n",
       "      <th>lfc_threshold</th>\n",
       "      <th>screen</th>\n",
       "      <th>-log10(p)</th>\n",
       "      <th>OR</th>\n",
       "    </tr>\n",
       "  </thead>\n",
       "  <tbody>\n",
       "    <tr>\n",
       "      <th>0</th>\n",
       "      <td>-0.6</td>\n",
       "      <td>Thompson</td>\n",
       "      <td>5.805529</td>\n",
       "      <td>4.017751</td>\n",
       "    </tr>\n",
       "    <tr>\n",
       "      <th>1</th>\n",
       "      <td>-0.6</td>\n",
       "      <td>Dede</td>\n",
       "      <td>7.219934</td>\n",
       "      <td>9.411765</td>\n",
       "    </tr>\n",
       "  </tbody>\n",
       "</table>\n",
       "</div>"
      ],
      "text/plain": [
       "   lfc_threshold    screen  -log10(p)        OR\n",
       "0           -0.6  Thompson   5.805529  4.017751\n",
       "1           -0.6      Dede   7.219934  9.411765"
      ]
     },
     "execution_count": 15,
     "metadata": {},
     "output_type": "execute_result"
    }
   ],
   "source": [
    "# Try different observed LFC thresholds and check FET overlap with the three other screens\n",
    "thresholds = np.arange(-0.6, -1.3, -0.1)\n",
    "screen_names = ['Thompson','Dede','Parrish']\n",
    "fet_results = pd.DataFrame(columns=['lfc_threshold','screen','-log10(p)','OR'])\n",
    "idx = 0\n",
    "for t in thresholds:\n",
    "    df = chymera_pairs_orig.assign(hap1_SL = chymera_pairs_orig.apply(lambda x: x.hap1_hit and (x.min_hap1_lfc <= t), axis=1),\n",
    "                                   rpe1_SL = chymera_pairs_orig.apply(lambda x: x.rpe1_hit and (x.min_rpe1_lfc <= t), axis=1))\n",
    "    df['n_SL'] = df[['hap1_SL','rpe1_SL']].sum(axis=1)\n",
    "    for i, screen in enumerate([thompson_pairs, dede_pairs, parrish_pairs]):\n",
    "        overlap = pd.merge(df[['sorted_gene_pair','n_SL']], screen[['sorted_gene_pair','n_SL']], on=['sorted_gene_pair'])\n",
    "        ctab = pd.crosstab(overlap.n_SL_x > 0, overlap.n_SL_y > 0)\n",
    "        fet_results.loc[idx] = [t, screen_names[i], -np.log(stats.fisher_exact(ctab)[1]), stats.fisher_exact(ctab)[0]]\n",
    "        idx += 1\n",
    "fet_results[:2]"
   ]
  },
  {
   "cell_type": "code",
   "execution_count": 16,
   "metadata": {},
   "outputs": [
    {
     "data": {
      "image/png": "[encoded data removed]",
      "text/plain": [
       "<Figure size 340x260 with 1 Axes>"
      ]
     },
     "metadata": {},
     "output_type": "display_data"
    }
   ],
   "source": [
    "f, ax = plt.subplots(1,1,figsize=(3.4,2.6))\n",
    "tab = fet_results.pivot_table(\"-log10(p)\", \"lfc_threshold\", \"screen\").loc[:, data_order[2:5]]\n",
    "tab.plot(marker=\"o\", ax=ax, color=data_palette[2:5], linewidth=1.5)\n",
    "ax.legend(loc='lower left', bbox_to_anchor=(0,0), ncol=3, columnspacing=0.8, handletextpad=0.5, fontsize=9)\n",
    "gp.set_axis_props(ax, ytick_fontsize=9, xtick_fontsize=9, ylabel='FET -log10(p)', xlabel='Observed LFC threshold')\n",
    "ax.set_ylim([0,20])\n",
    "plt.tight_layout()\n",
    "f.savefig(\"../figures/for_paper/chymera_overlap_fet.svg\", bbox_inches=\"tight\", dpi=300)"
   ]
  },
  {
   "cell_type": "code",
   "execution_count": 17,
   "metadata": {},
   "outputs": [
    {
     "name": "stdout",
     "output_type": "stream",
     "text": [
      "N: 658\n",
      "SL 1+: 72, 10.94%\n",
      "SL 2: 10, 1.52%\n"
     ]
    },
    {
     "data": {
      "text/html": [
       "<div>\n",
       "<style scoped>\n",
       "    .dataframe tbody tr th:only-of-type {\n",
       "        vertical-align: middle;\n",
       "    }\n",
       "\n",
       "    .dataframe tbody tr th {\n",
       "        vertical-align: top;\n",
       "    }\n",
       "\n",
       "    .dataframe thead th {\n",
       "        text-align: right;\n",
       "    }\n",
       "</style>\n",
       "<table border=\"1\" class=\"dataframe\">\n",
       "  <thead>\n",
       "    <tr style=\"text-align: right;\">\n",
       "      <th></th>\n",
       "      <th>sorted_gene_pair</th>\n",
       "      <th>hap1_SL</th>\n",
       "      <th>rpe1_SL</th>\n",
       "      <th>n_SL</th>\n",
       "    </tr>\n",
       "  </thead>\n",
       "  <tbody>\n",
       "    <tr>\n",
       "      <th>0</th>\n",
       "      <td>SEC23A_SEC23B</td>\n",
       "      <td>True</td>\n",
       "      <td>True</td>\n",
       "      <td>2</td>\n",
       "    </tr>\n",
       "  </tbody>\n",
       "</table>\n",
       "</div>"
      ],
      "text/plain": [
       "  sorted_gene_pair  hap1_SL  rpe1_SL  n_SL\n",
       "0    SEC23A_SEC23B     True     True     2"
      ]
     },
     "metadata": {},
     "output_type": "display_data"
    }
   ],
   "source": [
    "# Make and save the filtered Chymera dataset based on the best threshold\n",
    "#[['sorted_gene_pair','hap1_SL','rpe1_SL','min_hap1_lfc','min_rpe1_lfc']]\n",
    "threshold = -0.9\n",
    "chymera_pairs = chymera_pairs_orig.assign(\n",
    "    hap1_SL = chymera_pairs_orig.apply(lambda x: x.hap1_hit and (x.min_hap1_lfc <= threshold), axis=1),\n",
    "    rpe1_SL = chymera_pairs_orig.apply(lambda x: x.rpe1_hit and (x.min_rpe1_lfc <= threshold), axis=1))\n",
    "\n",
    "chymera_pairs['n_SL'] = chymera_pairs[['hap1_SL','rpe1_SL']].sum(axis=1)\n",
    "chymera_pairs = chymera_pairs[['sorted_gene_pair','hap1_SL','rpe1_SL','n_SL']]\n",
    "print('N:', chymera_pairs.shape[0])\n",
    "print('SL 1+: %d, %.2f%%' % (sum(chymera_pairs.n_SL>=1), sum(chymera_pairs.n_SL>=1)/chymera_pairs.shape[0]*100))\n",
    "print('SL 2: %d, %.2f%%' % (sum(chymera_pairs.n_SL==2), sum(chymera_pairs.n_SL==2)/chymera_pairs.shape[0]*100))\n",
    "chymera_pairs.to_csv(file_chymera_new, index=0)\n",
    "display(chymera_pairs[:1])\n",
    "chymera_pairs = pd.merge(chymera_pairs, annot)"
   ]
  },
  {
   "cell_type": "markdown",
   "metadata": {},
   "source": [
    "### Screen hit rates"
   ]
  },
  {
   "cell_type": "code",
   "execution_count": 18,
   "metadata": {},
   "outputs": [
    {
     "data": {
      "text/html": [
       "<div>\n",
       "<style scoped>\n",
       "    .dataframe tbody tr th:only-of-type {\n",
       "        vertical-align: middle;\n",
       "    }\n",
       "\n",
       "    .dataframe tbody tr th {\n",
       "        vertical-align: top;\n",
       "    }\n",
       "\n",
       "    .dataframe thead th {\n",
       "        text-align: right;\n",
       "    }\n",
       "</style>\n",
       "<table border=\"1\" class=\"dataframe\">\n",
       "  <thead>\n",
       "    <tr style=\"text-align: right;\">\n",
       "      <th></th>\n",
       "      <th>hit_rate</th>\n",
       "    </tr>\n",
       "  </thead>\n",
       "  <tbody>\n",
       "    <tr>\n",
       "      <th>Thompson</th>\n",
       "      <td>14.947368</td>\n",
       "    </tr>\n",
       "    <tr>\n",
       "      <th>Dede</th>\n",
       "      <td>6.106870</td>\n",
       "    </tr>\n",
       "    <tr>\n",
       "      <th>Parrish</th>\n",
       "      <td>11.879260</td>\n",
       "    </tr>\n",
       "    <tr>\n",
       "      <th>CHyMErA\\n(unfiltered)</th>\n",
       "      <td>40.577508</td>\n",
       "    </tr>\n",
       "    <tr>\n",
       "      <th>CHyMErA\\n(filtered)</th>\n",
       "      <td>10.942249</td>\n",
       "    </tr>\n",
       "  </tbody>\n",
       "</table>\n",
       "</div>"
      ],
      "text/plain": [
       "                        hit_rate\n",
       "Thompson               14.947368\n",
       "Dede                    6.106870\n",
       "Parrish                11.879260\n",
       "CHyMErA\\n(unfiltered)  40.577508\n",
       "CHyMErA\\n(filtered)    10.942249"
      ]
     },
     "metadata": {},
     "output_type": "display_data"
    },
    {
     "data": {
      "image/png": "[encoded data removed]",
      "text/plain": [
       "<Figure size 340x240 with 1 Axes>"
      ]
     },
     "metadata": {},
     "output_type": "display_data"
    }
   ],
   "source": [
    "hit_rates = pd.DataFrame()\n",
    "screen_names = ['Thompson', 'Dede', 'Parrish', 'CHyMErA\\n(unfiltered)', 'CHyMErA\\n(filtered)']\n",
    "for i, pairs in enumerate([thompson_pairs, dede_pairs, parrish_pairs, chymera_pairs_orig, chymera_pairs]):\n",
    "    hit_rates = pd.concat([hit_rates, pd.DataFrame({'hit_rate':sum(pairs.n_SL>=1)/pairs.shape[0]*100},\n",
    "                                                   index=[screen_names[i]])])\n",
    "display(hit_rates)\n",
    "\n",
    "f, ax = plt.subplots(1, 1, figsize=(3.4,2.4))\n",
    "pal = data_palette[5:6]+data_palette[::-1]\n",
    "hit_rates[::-1].hit_rate.plot.barh(ax=ax, rot=0, width=0.85, color=pal, alpha=0.95)\n",
    "gp.set_axis_props(ax, xlabel='Hit rate (%)', ytick_fontsize=9, xtick_fontsize=9)\n",
    "\n",
    "labels = [\"%.1f%%\" % i for i in hit_rates[::-1].hit_rate.values]\n",
    "for rect, label in zip(ax.patches, labels):\n",
    "    ax.text(rect.get_x()+(rect.get_width())-0.4, rect.get_y()+(rect.get_height()/2), label, ha='right', va='center')\n",
    "f.savefig(\"../figures/for_paper/hit_rates.svg\", bbox_inches=\"tight\", dpi=300)"
   ]
  },
  {
   "cell_type": "markdown",
   "metadata": {},
   "source": [
    "### All screened pairs & screen consensus pairs"
   ]
  },
  {
   "cell_type": "code",
   "execution_count": 19,
   "metadata": {},
   "outputs": [
    {
     "name": "stdout",
     "output_type": "stream",
     "text": [
      "N pairs screened in at least 1 study: 1845\n",
      "N pairs a hit in at least 1 study: 224\n"
     ]
    },
    {
     "data": {
      "text/html": [
       "<div>\n",
       "<style scoped>\n",
       "    .dataframe tbody tr th:only-of-type {\n",
       "        vertical-align: middle;\n",
       "    }\n",
       "\n",
       "    .dataframe tbody tr th {\n",
       "        vertical-align: top;\n",
       "    }\n",
       "\n",
       "    .dataframe thead th {\n",
       "        text-align: right;\n",
       "    }\n",
       "</style>\n",
       "<table border=\"1\" class=\"dataframe\">\n",
       "  <thead>\n",
       "    <tr style=\"text-align: right;\">\n",
       "      <th></th>\n",
       "      <th>sorted_gene_pair</th>\n",
       "      <th>n_SL_thompson</th>\n",
       "      <th>n_SL_dede</th>\n",
       "      <th>n_SL_parrish</th>\n",
       "      <th>n_SL_chymera</th>\n",
       "      <th>n_screens</th>\n",
       "      <th>n_screens_SL</th>\n",
       "    </tr>\n",
       "  </thead>\n",
       "  <tbody>\n",
       "    <tr>\n",
       "      <th>0</th>\n",
       "      <td>CASKIN1_CASKIN2</td>\n",
       "      <td>0.0</td>\n",
       "      <td>NaN</td>\n",
       "      <td>NaN</td>\n",
       "      <td>0.0</td>\n",
       "      <td>2</td>\n",
       "      <td>0</td>\n",
       "    </tr>\n",
       "    <tr>\n",
       "      <th>1</th>\n",
       "      <td>MIB1_MIB2</td>\n",
       "      <td>0.0</td>\n",
       "      <td>NaN</td>\n",
       "      <td>NaN</td>\n",
       "      <td>NaN</td>\n",
       "      <td>1</td>\n",
       "      <td>0</td>\n",
       "    </tr>\n",
       "  </tbody>\n",
       "</table>\n",
       "</div>"
      ],
      "text/plain": [
       "  sorted_gene_pair  n_SL_thompson  n_SL_dede  n_SL_parrish  n_SL_chymera  \\\n",
       "0  CASKIN1_CASKIN2            0.0        NaN           NaN           0.0   \n",
       "1        MIB1_MIB2            0.0        NaN           NaN           NaN   \n",
       "\n",
       "   n_screens  n_screens_SL  \n",
       "0          2             0  \n",
       "1          1             0  "
      ]
     },
     "execution_count": 19,
     "metadata": {},
     "output_type": "execute_result"
    }
   ],
   "source": [
    "# Merge all pairs screened in at least 1 study\n",
    "cols = ['sorted_gene_pair','n_SL']\n",
    "all_screened_pairs = pd.merge(thompson_pairs[cols].rename(columns={'n_SL':'n_SL_thompson'}), \n",
    "                              dede_pairs[cols].rename(columns={'n_SL':'n_SL_dede'}), how='outer')\n",
    "all_screened_pairs = pd.merge(all_screened_pairs, parrish_pairs[cols].rename(columns={'n_SL':'n_SL_parrish'}), how='outer')\n",
    "all_screened_pairs = pd.merge(all_screened_pairs, chymera_pairs[cols].rename(columns={'n_SL':'n_SL_chymera'}), how='outer')\n",
    "\n",
    "# Check n SL\n",
    "assert(sum(all_screened_pairs.n_SL_thompson>0) == sum(thompson_pairs.n_SL>0))\n",
    "assert(sum(all_screened_pairs.n_SL_parrish>0) == sum(parrish_pairs.n_SL>0))\n",
    "\n",
    "# Count screens in which pair was tested (4 - NA cols) and was found to be a hit\n",
    "cols = ['n_SL_thompson','n_SL_dede','n_SL_parrish','n_SL_chymera']\n",
    "all_screened_pairs['n_screens'] = 4 - all_screened_pairs[cols].isna().sum(axis=1)\n",
    "all_screened_pairs['n_screens_SL'] = all_screened_pairs.apply(lambda x: ((x.n_SL_thompson>=1)+(x.n_SL_dede>=1)+\n",
    "                                                                         (x.n_SL_parrish>=1)+(x.n_SL_chymera>=1)), axis=1)\n",
    "\n",
    "print('N pairs screened in at least 1 study:', all_screened_pairs.shape[0])\n",
    "print('N pairs a hit in at least 1 study:', sum(all_screened_pairs.n_screens_SL>0))\n",
    "\n",
    "# Save\n",
    "all_screened_pairs.to_csv(file_all_screened_pairs, index=0)\n",
    "all_screened_pairs[:2]"
   ]
  },
  {
   "cell_type": "code",
   "execution_count": 20,
   "metadata": {},
   "outputs": [
    {
     "name": "stdout",
     "output_type": "stream",
     "text": [
      "N pairs screened in at least 1 study (Thompson unfiltered): 1915\n",
      "% of all paralog pairs screened in at least 1 study (Thompson unfiltered): 5.23%\n"
     ]
    }
   ],
   "source": [
    "df = pd.merge(all_screened_pairs, thompson_pairs_full, how='outer')\n",
    "print('N pairs screened in at least 1 study (Thompson unfiltered):', df.shape[0])\n",
    "print('%% of all paralog pairs screened in at least 1 study (Thompson unfiltered): %.2f%%' % (df.shape[0]/annot.shape[0]*100))"
   ]
  },
  {
   "cell_type": "code",
   "execution_count": 21,
   "metadata": {},
   "outputs": [
    {
     "name": "stdout",
     "output_type": "stream",
     "text": [
      "N paralog pairs screened in at least 2 studies: 545\n",
      "n TP: 50\n",
      "n TN: 407\n",
      "Consensus dataset: 50/457 = 10.94%\n"
     ]
    },
    {
     "data": {
      "text/html": [
       "<div>\n",
       "<style scoped>\n",
       "    .dataframe tbody tr th:only-of-type {\n",
       "        vertical-align: middle;\n",
       "    }\n",
       "\n",
       "    .dataframe tbody tr th {\n",
       "        vertical-align: top;\n",
       "    }\n",
       "\n",
       "    .dataframe thead th {\n",
       "        text-align: right;\n",
       "    }\n",
       "</style>\n",
       "<table border=\"1\" class=\"dataframe\">\n",
       "  <thead>\n",
       "    <tr style=\"text-align: right;\">\n",
       "      <th></th>\n",
       "      <th>sorted_gene_pair</th>\n",
       "      <th>n_SL_thompson</th>\n",
       "      <th>n_SL_dede</th>\n",
       "      <th>n_SL_parrish</th>\n",
       "      <th>n_SL_chymera</th>\n",
       "      <th>n_screens</th>\n",
       "      <th>n_screens_SL</th>\n",
       "      <th>SL</th>\n",
       "    </tr>\n",
       "  </thead>\n",
       "  <tbody>\n",
       "    <tr>\n",
       "      <th>0</th>\n",
       "      <td>CASKIN1_CASKIN2</td>\n",
       "      <td>0.0</td>\n",
       "      <td>NaN</td>\n",
       "      <td>NaN</td>\n",
       "      <td>0.0</td>\n",
       "      <td>2</td>\n",
       "      <td>0</td>\n",
       "      <td>False</td>\n",
       "    </tr>\n",
       "  </tbody>\n",
       "</table>\n",
       "</div>"
      ],
      "text/plain": [
       "  sorted_gene_pair  n_SL_thompson  n_SL_dede  n_SL_parrish  n_SL_chymera  \\\n",
       "0  CASKIN1_CASKIN2            0.0        NaN           NaN           0.0   \n",
       "\n",
       "   n_screens  n_screens_SL     SL  \n",
       "0          2             0  False  "
      ]
     },
     "execution_count": 21,
     "metadata": {},
     "output_type": "execute_result"
    }
   ],
   "source": [
    "# Filter to pairs screened in at least two studies (NA in less than two studies)\n",
    "consensus_pairs = all_screened_pairs[all_screened_pairs.n_screens >= 2].reset_index(drop=True)\n",
    "print('N paralog pairs screened in at least 2 studies:', consensus_pairs.shape[0])\n",
    "\n",
    "# Find pairs SL in at least 2 studies vs. pairs that were not hits in any studies (but screened in at least two)\n",
    "consensus_pairs = consensus_pairs.assign(SL = (consensus_pairs.n_screens_SL >= 2),\n",
    "                                         non_SL = (consensus_pairs.n_screens_SL == 0))\n",
    "print('n TP:', sum(consensus_pairs.SL))\n",
    "print('n TN:', sum(consensus_pairs.non_SL))\n",
    "\n",
    "# Only keep the TP and TN\n",
    "consensus_pairs = consensus_pairs[consensus_pairs.SL | consensus_pairs.non_SL].reset_index(drop=True)\n",
    "assert(sum(consensus_pairs.non_SL)==sum(consensus_pairs.SL==False))\n",
    "consensus_pairs = consensus_pairs.drop(columns=['non_SL'])\n",
    "\n",
    "# Save\n",
    "consensus_pairs.to_csv(file_consensus_pairs, index=0)\n",
    "\n",
    "print('Consensus dataset: %d/%d = %.2f%%' % (sum(consensus_pairs.SL), consensus_pairs.shape[0], \n",
    "                                              sum(consensus_pairs.SL)/consensus_pairs.shape[0]*100))\n",
    "consensus_pairs[:1]"
   ]
  },
  {
   "cell_type": "markdown",
   "metadata": {},
   "source": [
    "### Number of hits shared across cell lines in each screen"
   ]
  },
  {
   "cell_type": "code",
   "execution_count": 22,
   "metadata": {},
   "outputs": [
    {
     "name": "stdout",
     "output_type": "stream",
     "text": [
      "Median hit rate: 11.41%\n"
     ]
    },
    {
     "data": {
      "text/html": [
       "<div>\n",
       "<style scoped>\n",
       "    .dataframe tbody tr th:only-of-type {\n",
       "        vertical-align: middle;\n",
       "    }\n",
       "\n",
       "    .dataframe tbody tr th {\n",
       "        vertical-align: top;\n",
       "    }\n",
       "\n",
       "    .dataframe thead th {\n",
       "        text-align: right;\n",
       "    }\n",
       "</style>\n",
       "<table border=\"1\" class=\"dataframe\">\n",
       "  <thead>\n",
       "    <tr style=\"text-align: right;\">\n",
       "      <th></th>\n",
       "      <th>hit_rate</th>\n",
       "      <th>num_hits</th>\n",
       "      <th>1</th>\n",
       "      <th>2</th>\n",
       "      <th>3</th>\n",
       "      <th>2-3</th>\n",
       "    </tr>\n",
       "  </thead>\n",
       "  <tbody>\n",
       "    <tr>\n",
       "      <th>Thompson</th>\n",
       "      <td>14.947368</td>\n",
       "      <td>71</td>\n",
       "      <td>67.605634</td>\n",
       "      <td>19.718310</td>\n",
       "      <td>12.676056</td>\n",
       "      <td>32.394366</td>\n",
       "    </tr>\n",
       "    <tr>\n",
       "      <th>Dede</th>\n",
       "      <td>6.106870</td>\n",
       "      <td>24</td>\n",
       "      <td>20.833333</td>\n",
       "      <td>20.833333</td>\n",
       "      <td>58.333333</td>\n",
       "      <td>79.166667</td>\n",
       "    </tr>\n",
       "    <tr>\n",
       "      <th>Parrish</th>\n",
       "      <td>11.879260</td>\n",
       "      <td>122</td>\n",
       "      <td>71.311475</td>\n",
       "      <td>28.688525</td>\n",
       "      <td>0.000000</td>\n",
       "      <td>28.688525</td>\n",
       "    </tr>\n",
       "    <tr>\n",
       "      <th>Chymera</th>\n",
       "      <td>10.942249</td>\n",
       "      <td>72</td>\n",
       "      <td>86.111111</td>\n",
       "      <td>13.888889</td>\n",
       "      <td>0.000000</td>\n",
       "      <td>13.888889</td>\n",
       "    </tr>\n",
       "  </tbody>\n",
       "</table>\n",
       "</div>"
      ],
      "text/plain": [
       "           hit_rate  num_hits          1          2          3        2-3\n",
       "Thompson  14.947368        71  67.605634  19.718310  12.676056  32.394366\n",
       "Dede       6.106870        24  20.833333  20.833333  58.333333  79.166667\n",
       "Parrish   11.879260       122  71.311475  28.688525   0.000000  28.688525\n",
       "Chymera   10.942249        72  86.111111  13.888889   0.000000  13.888889"
      ]
     },
     "metadata": {},
     "output_type": "display_data"
    }
   ],
   "source": [
    "hits_df = pd.DataFrame()\n",
    "for screen in ['Thompson', 'Dede', 'Parrish', 'Chymera']:\n",
    "    n_SL_col = 'n_SL_'+screen.lower()\n",
    "    hits_df = pd.concat([hits_df, pd.DataFrame({\n",
    "        'hit_rate':sum(all_screened_pairs[n_SL_col]>=1)/sum(~all_screened_pairs[n_SL_col].isna())*100,\n",
    "        'num_hits':sum(all_screened_pairs[n_SL_col]>=1),\n",
    "        '1':sum(all_screened_pairs[n_SL_col]==1)/sum(all_screened_pairs[n_SL_col]>=1)*100,\n",
    "        '2':sum(all_screened_pairs[n_SL_col]==2)/sum(all_screened_pairs[n_SL_col]>=1)*100,\n",
    "        '3':sum(all_screened_pairs[n_SL_col]==3)/sum(all_screened_pairs[n_SL_col]>=1)*100,\n",
    "        '2-3':sum(all_screened_pairs[n_SL_col]>=2)/sum(all_screened_pairs[n_SL_col]>=1)*100}, index=[screen])])\n",
    "    \n",
    "print('Median hit rate: %.2f%%' % (hits_df.hit_rate.median()))\n",
    "display(hits_df)"
   ]
  },
  {
   "cell_type": "code",
   "execution_count": 23,
   "metadata": {},
   "outputs": [
    {
     "data": {
      "image/png": "[encoded data removed]",
      "text/plain": [
       "<Figure size 270x460 with 3 Axes>"
      ]
     },
     "metadata": {},
     "output_type": "display_data"
    }
   ],
   "source": [
    "f, ax = plt.subplots(3, 1, figsize=(2.7,4.6), gridspec_kw={'height_ratios':[1,1,2]}, sharex=True)\n",
    "\n",
    "# Num hits\n",
    "hits_df.num_hits.plot(kind='bar', stacked=True, ax=ax[0], color='#ccc', rot=0, width=0.85)\n",
    "gp.set_axis_props(ax[0], ylabel='Num. hits', show_xticks=False)\n",
    "\n",
    "# Percent of screened pairs that are hits (hit rate)\n",
    "hits_df.hit_rate.plot(kind='bar', stacked=True, ax=ax[1], color=\"#777\", alpha=0.7, rot=0, width=0.85)\n",
    "gp.set_axis_props(ax[1], ylabel='Hit rate (%)', show_xticks=False)\n",
    "\n",
    "# Breakdown of hits\n",
    "blues_pal = [b for i, b in enumerate(sns.color_palette(\"Blues\", n_colors=9)) if i==2 or i==4]\n",
    "hits_df.loc[:,['1','2-3']].plot(kind='bar', stacked=True, ax=ax[2], color=blues_pal, rot=0, width=0.85)\n",
    "gp.set_axis_props(ax[2], ylabel='% of all hits in screen', xtick_fontsize=9)\n",
    "ax[2].legend(loc=\"lower center\", bbox_to_anchor=(0.4,-0.5), labels=['Hit in 1 cell line', 'Hit in 2-3 cell lines'], fontsize=9)\n",
    "#_ = ax[2].set_xticklabels(['Thompson   ', ' Dede', 'Parrish ', '   CHyMErA'])\n",
    "\n",
    "plt.tight_layout()\n",
    "f.savefig(\"../figures/for_paper/cell_line_specific_hits.svg\", bbox_inches=\"tight\", dpi=300)"
   ]
  },
  {
   "cell_type": "markdown",
   "metadata": {},
   "source": [
    "### Screen to screen overlap"
   ]
  },
  {
   "cell_type": "code",
   "execution_count": 24,
   "metadata": {},
   "outputs": [
    {
     "name": "stdout",
     "output_type": "stream",
     "text": [
      "Mean % shared hits: 31.13 %\n"
     ]
    },
    {
     "data": {
      "text/html": [
       "<div>\n",
       "<style scoped>\n",
       "    .dataframe tbody tr th:only-of-type {\n",
       "        vertical-align: middle;\n",
       "    }\n",
       "\n",
       "    .dataframe tbody tr th {\n",
       "        vertical-align: top;\n",
       "    }\n",
       "\n",
       "    .dataframe thead th {\n",
       "        text-align: right;\n",
       "    }\n",
       "</style>\n",
       "<table border=\"1\" class=\"dataframe\">\n",
       "  <thead>\n",
       "    <tr style=\"text-align: right;\">\n",
       "      <th></th>\n",
       "      <th>Shared hits</th>\n",
       "      <th>Unique hits</th>\n",
       "    </tr>\n",
       "  </thead>\n",
       "  <tbody>\n",
       "    <tr>\n",
       "      <th>ThompsonDede</th>\n",
       "      <td>18.750000</td>\n",
       "      <td>81.250000</td>\n",
       "    </tr>\n",
       "    <tr>\n",
       "      <th>ThompsonParrish</th>\n",
       "      <td>43.859649</td>\n",
       "      <td>56.140351</td>\n",
       "    </tr>\n",
       "    <tr>\n",
       "      <th>ThompsonCHyMErA</th>\n",
       "      <td>31.111111</td>\n",
       "      <td>68.888889</td>\n",
       "    </tr>\n",
       "    <tr>\n",
       "      <th>DedeParrish</th>\n",
       "      <td>27.777778</td>\n",
       "      <td>72.222222</td>\n",
       "    </tr>\n",
       "    <tr>\n",
       "      <th>DedeCHyMErA</th>\n",
       "      <td>33.333333</td>\n",
       "      <td>66.666667</td>\n",
       "    </tr>\n",
       "    <tr>\n",
       "      <th>ParrishCHyMErA</th>\n",
       "      <td>31.944444</td>\n",
       "      <td>68.055556</td>\n",
       "    </tr>\n",
       "  </tbody>\n",
       "</table>\n",
       "</div>"
      ],
      "text/plain": [
       "                 Shared hits  Unique hits\n",
       "ThompsonDede       18.750000    81.250000\n",
       "ThompsonParrish    43.859649    56.140351\n",
       "ThompsonCHyMErA    31.111111    68.888889\n",
       "DedeParrish        27.777778    72.222222\n",
       "DedeCHyMErA        33.333333    66.666667\n",
       "ParrishCHyMErA     31.944444    68.055556"
      ]
     },
     "metadata": {},
     "output_type": "display_data"
    }
   ],
   "source": [
    "screen_names = ['Thompson','Dede','Parrish','CHyMErA']\n",
    "screen_colors = gp.get_palette('okabe-ito-2')\n",
    "# All pairwise screens combos\n",
    "screen_pairs = [pair for pair in itertools.combinations(screen_names, r=2)]\n",
    "\n",
    "hits_overlap_df = pd.DataFrame()\n",
    "for p in screen_pairs:\n",
    "    col1 = 'n_SL_'+p[0].lower(); col2 = 'n_SL_'+p[1].lower()\n",
    "    df = all_screened_pairs[(~all_screened_pairs[col1].isna()) & (~all_screened_pairs[col2].isna())]\n",
    "    hits_overlap_df = pd.concat([hits_overlap_df, pd.DataFrame(\n",
    "        {'Shared hits': sum((df[col1]>0)&(df[col2]>0)) / sum((df[col1]>0)|(df[col2]>0))*100,\n",
    "         'Unique hits': sum((df[col1]>0)^(df[col2]>0)) / sum((df[col1]>0)|(df[col2]>0))*100}, index=[p[0]+p[1]])])\n",
    "\n",
    "print('Mean %% shared hits: %.2f %%' % (hits_overlap_df['Shared hits'].mean()))\n",
    "display(hits_overlap_df)"
   ]
  },
  {
   "cell_type": "code",
   "execution_count": 26,
   "metadata": {
    "scrolled": false
   },
   "outputs": [
    {
     "data": {
      "image/png": "[encoded data removed]",
      "text/plain": [
       "<Figure size 300x320 with 2 Axes>"
      ]
     },
     "metadata": {},
     "output_type": "display_data"
    }
   ],
   "source": [
    "# Compute index pairs to color in - set circles to light grey unless in idx\n",
    "idx = np.array([[screen_names.index(p[0])+(i*4), screen_names.index(p[1])+(i*4)] for i,p in enumerate(screen_pairs)]).flatten()\n",
    "c = np.array(['#ddd'] * len(screen_pairs) * len(screen_names), dtype='O')\n",
    "c[idx] = [screen_colors[i%4] for i in idx]\n",
    "# Set circle border color\n",
    "c_border = np.array(['#ddd'] * len(screen_pairs) * len(screen_names), dtype='O')\n",
    "c_border[idx] = ['grey' for i in idx]\n",
    "# x-y grid is screen pairs by screens\n",
    "x = np.repeat(np.arange(len(screen_pairs)), len(screen_names))\n",
    "y = np.tile(np.arange(len(screen_names)), len(screen_pairs))\n",
    "\n",
    "f, (ax1,ax2) = plt.subplots(2, 1, figsize=(3,3.2), gridspec_kw={'height_ratios': [1.8, 1]}, sharex=True)\n",
    "# Grid for overlaps\n",
    "ax2.scatter(x, y, c=c.tolist(), edgecolor=c_border.tolist(), linewidth=1.4, s=150, zorder=1)\n",
    "# Draw lines between the circles\n",
    "line_data = (pd.Series(y[idx], index=x[idx]).groupby(level=0).aggregate(['min', 'max']))\n",
    "ax2.vlines(line_data.index.values, line_data['min']+0.32, line_data['max']-0.32, lw=1.4, colors='grey')\n",
    "\n",
    "# Set ticks\n",
    "ax2.yaxis.set_ticks(np.arange(len(screen_names)))\n",
    "ax2.yaxis.set_ticklabels(screen_names, rotation=0, fontsize=9)\n",
    "ax2.xaxis.set_visible(False)\n",
    "ax2.tick_params(axis='both', which='both', length=0)\n",
    "ax2.set_frame_on(False)\n",
    "ax2.set_xlim([-0.5,len(screen_pairs)]); ax2.set_ylim([-0.5, len(screen_names)])\n",
    "\n",
    "# Color background\n",
    "for i in range(0, 4, 2):\n",
    "    rect = plt.Rectangle([-0.5,-0.5+i], 6, 1, facecolor='#f5f5f5', lw=0, zorder=0)\n",
    "    ax2.add_patch(rect)\n",
    "\n",
    "# Plot top part of graph\n",
    "hits_overlap_df.plot.bar(ax=ax1, color=['#999','#dfdfdf'], width=0.83, stacked=True)\n",
    "gp.set_axis_props(ax1, show_xticks=False, ylabel='% of hits in overlapping pairs')\n",
    "ax1.legend(loc='upper right', framealpha=1, bbox_to_anchor=(0.96,0.94))\n",
    "# Draw stars for significant overlaps (all but the first are p<0.05, see below)\n",
    "for rect in ax1.patches[7:]:\n",
    "    ax1.text(rect.get_x()+rect.get_width()/2, rect.get_y()+rect.get_height()+2, '*', ha='center', va='center', fontsize=11)\n",
    "\n",
    "plt.tight_layout(pad=0.2)\n",
    "f.savefig(\"../figures/for_paper/screen_overlaps.svg\", bbox_inches=\"tight\", dpi=300)"
   ]
  },
  {
   "cell_type": "code",
   "execution_count": 27,
   "metadata": {},
   "outputs": [
    {
     "name": "stdout",
     "output_type": "stream",
     "text": [
      "Thompson/Dede - FET: OR=6.5455, p=0.06530936\n",
      "Thompson/Parrish - FET: OR=9.4118, p=0.00000003\n",
      "Thompson/Chymera - FET: OR=6.2821, p=0.00008856\n",
      "Dede/Parrish - FET: OR=18.4058, p=0.00000617\n",
      "Dede/Chymera - FET: OR=14.1667, p=0.00010448\n",
      "Parrish/Chymera - FET: OR=7.6949, p=0.00000005\n"
     ]
    },
    {
     "data": {
      "image/png": "[encoded data removed]",
      "text/plain": [
       "<Figure size 400x600 with 6 Axes>"
      ]
     },
     "metadata": {},
     "output_type": "display_data"
    }
   ],
   "source": [
    "f, ax = plt.subplots(3, 2, figsize=(4,6))\n",
    "ax = ax.flatten()\n",
    "\n",
    "screen_tuples = [t for t in itertools.combinations(['Thompson','Dede','Parrish','Chymera'], r=2)]\n",
    "screen_color_dict = {'Thompson':'#56b4e9', 'Dede':'#e69f00', 'Parrish':'#f0e442', 'Chymera':'#009e73'}\n",
    "\n",
    "for i, t in enumerate(screen_tuples):\n",
    "    col1='n_SL_'+t[0].lower(); col2='n_SL_'+t[1].lower()\n",
    "    df = all_screened_pairs[~all_screened_pairs[col1].isna() & ~all_screened_pairs[col2].isna()]\n",
    "    ctab = pd.crosstab(df[col1] > 0, df[col2] > 0)\n",
    "    print(t[0]+'/'+t[1]+' - FET: OR=%.4f, p=%.8f' % (stats.fisher_exact(ctab)))\n",
    "    \n",
    "    v = venn2([set(df[df[col1]>0].sorted_gene_pair), set(df[df[col2]>0].sorted_gene_pair)], [t[0],t[1]], ax=ax[i], \n",
    "          set_colors=[screen_color_dict[t[0]], screen_color_dict[t[1]]], alpha=0.8)\n",
    "    v.get_patch_by_id('11').set_color('#ddd')\n",
    "    for text in v.set_labels: text.set_fontsize(9)"
   ]
  },
  {
   "cell_type": "markdown",
   "metadata": {},
   "source": [
    "### RPE-1 Overlap"
   ]
  },
  {
   "cell_type": "code",
   "execution_count": 29,
   "metadata": {
    "scrolled": false
   },
   "outputs": [
    {
     "name": "stdout",
     "output_type": "stream",
     "text": [
      "Chymera pairs new - FET: OR=1.8370, p=0.36115\n",
      "Shared: 2 = 7.69%\n"
     ]
    },
    {
     "data": {
      "image/png": "[encoded data removed]",
      "text/plain": [
       "<Figure size 250x180 with 1 Axes>"
      ]
     },
     "metadata": {},
     "output_type": "display_data"
    }
   ],
   "source": [
    "f, ax = plt.subplots(1, 1, figsize=(2.5,1.8))\n",
    "\n",
    "df = pd.merge(thompson_pairs[['sorted_gene_pair','RPE_SL']], chymera_pairs[['sorted_gene_pair','rpe1_SL']])\n",
    "ctab = pd.crosstab(df.RPE_SL, df.rpe1_SL)\n",
    "OR, pval = stats.fisher_exact(ctab)\n",
    "print('Chymera pairs new - FET: OR=%.4f, p=%.5f' % (OR, pval))\n",
    "print('Shared: %d = %.2f%%' % (df[df.RPE_SL & df.rpe1_SL].shape[0], \n",
    "                               df[df.RPE_SL & df.rpe1_SL].shape[0]/df[df.RPE_SL|df.rpe1_SL].shape[0]*100))\n",
    "    \n",
    "v = venn2([set(df[df.RPE_SL].sorted_gene_pair), set(df[df.rpe1_SL].sorted_gene_pair)], ['Thompson','CHyMErA'], ax=ax, \n",
    "          alpha=0.9, set_colors=[data_palette[2], data_palette[5]])\n",
    "v.get_patch_by_id('11').set_color('#ddd')\n",
    "for text in v.set_labels: text.set_fontsize(9)\n",
    "_=ax.set_title('RPE-1 hits among pairs tested\\nin both screens (FET $p$=%.2f)' % (pval), fontsize=9)\n",
    "\n",
    "f.savefig(\"../figures/for_paper/rpe1_overlap_venn.svg\", bbox_inches=\"tight\", dpi=300)"
   ]
  },
  {
   "cell_type": "markdown",
   "metadata": {},
   "source": [
    "### Overlap of each screen with our DepMap pairs"
   ]
  },
  {
   "cell_type": "code",
   "execution_count": 30,
   "metadata": {},
   "outputs": [
    {
     "data": {
      "text/html": [
       "<div>\n",
       "<style scoped>\n",
       "    .dataframe tbody tr th:only-of-type {\n",
       "        vertical-align: middle;\n",
       "    }\n",
       "\n",
       "    .dataframe tbody tr th {\n",
       "        vertical-align: top;\n",
       "    }\n",
       "\n",
       "    .dataframe thead th {\n",
       "        text-align: right;\n",
       "    }\n",
       "</style>\n",
       "<table border=\"1\" class=\"dataframe\">\n",
       "  <thead>\n",
       "    <tr style=\"text-align: right;\">\n",
       "      <th></th>\n",
       "      <th>Shared hits</th>\n",
       "      <th>Unique hits</th>\n",
       "    </tr>\n",
       "  </thead>\n",
       "  <tbody>\n",
       "    <tr>\n",
       "      <th>Thompson</th>\n",
       "      <td>31.111111</td>\n",
       "      <td>68.888889</td>\n",
       "    </tr>\n",
       "    <tr>\n",
       "      <th>Dede</th>\n",
       "      <td>25.000000</td>\n",
       "      <td>75.000000</td>\n",
       "    </tr>\n",
       "    <tr>\n",
       "      <th>Parrish</th>\n",
       "      <td>43.636364</td>\n",
       "      <td>56.363636</td>\n",
       "    </tr>\n",
       "    <tr>\n",
       "      <th>CHyMErA</th>\n",
       "      <td>28.000000</td>\n",
       "      <td>72.000000</td>\n",
       "    </tr>\n",
       "  </tbody>\n",
       "</table>\n",
       "</div>"
      ],
      "text/plain": [
       "          Shared hits  Unique hits\n",
       "Thompson    31.111111    68.888889\n",
       "Dede        25.000000    75.000000\n",
       "Parrish     43.636364    56.363636\n",
       "CHyMErA     28.000000    72.000000"
      ]
     },
     "metadata": {},
     "output_type": "display_data"
    },
    {
     "name": "stdout",
     "output_type": "stream",
     "text": [
      "Mean shared hits: 31.94 %\n"
     ]
    }
   ],
   "source": [
    "depmap_overlap_df = pd.DataFrame()\n",
    "for i, pairs in enumerate([thompson_pairs, dede_pairs, parrish_pairs, chymera_pairs]):\n",
    "    overlap = pd.merge(pairs[['sorted_gene_pair','n_SL']], depmap_pairs[['sorted_gene_pair','SL']])\n",
    "    depmap_overlap_df = pd.concat([depmap_overlap_df, pd.DataFrame(\n",
    "        {'Shared hits': sum((overlap.n_SL>0) & (overlap.SL)) / sum((overlap.n_SL>0) | (overlap.SL))*100,\n",
    "         'Unique hits': sum((overlap.n_SL>0) ^ (overlap.SL)) / sum((overlap.n_SL>0) | (overlap.SL))*100}, \n",
    "        index=[data_order[i+2]])])   \n",
    "display(depmap_overlap_df)\n",
    "print('Mean shared hits: %.2f %%' % (depmap_overlap_df['Shared hits'].mean()))"
   ]
  },
  {
   "cell_type": "code",
   "execution_count": 32,
   "metadata": {},
   "outputs": [
    {
     "data": {
      "image/png": "[encoded data removed]",
      "text/plain": [
       "<Figure size 250x250 with 1 Axes>"
      ]
     },
     "metadata": {},
     "output_type": "display_data"
    }
   ],
   "source": [
    "f, ax = plt.subplots(1, 1, figsize=(2.5,2.5))\n",
    "depmap_overlap_df.plot(kind='bar', stacked=True, ax=ax, rot=0, width=0.85, color=['#999','#dfdfdf'])\n",
    "gp.set_axis_props(ax, ylabel='% of hits in overlapping pairs\\n(our dataset & screen)')\n",
    "ax.set_xticklabels(['Thompson   ', '  Dede', 'Parrish ', '   CHyMErA'], fontsize=9)\n",
    "_ = ax.legend(loc='upper right', framealpha=1, bbox_to_anchor=(0.96,0.94), handletextpad=0.5)\n",
    "# Draw stars for significant overlaps (see below)\n",
    "for rect in ax.patches[4:]:\n",
    "    ax.text(rect.get_x()+rect.get_width()/2, rect.get_y()+rect.get_height()+2, '*', ha='center', va='center', fontsize=11)\n",
    "f.savefig(\"../figures/for_paper/screen_depmap_overlaps.svg\", bbox_inches=\"tight\", dpi=300)"
   ]
  },
  {
   "cell_type": "code",
   "execution_count": 31,
   "metadata": {},
   "outputs": [
    {
     "name": "stdout",
     "output_type": "stream",
     "text": [
      "Screened by Thompson and in DepMap panel:\n",
      "FET: OR=5.6583, p=1.98e-04\n",
      "Screened by Dede and in DepMap panel:\n",
      "FET: OR=28.0000, p=5.68e-04\n",
      "Screened by Parrish and in DepMap panel:\n",
      "FET: OR=19.3613, p=3.63e-13\n",
      "Screened by CHyMErA and in DepMap panel:\n",
      "FET: OR=7.9506, p=4.44e-06\n"
     ]
    },
    {
     "data": {
      "image/png": "[encoded data removed]",
      "text/plain": [
       "<Figure size 900x200 with 4 Axes>"
      ]
     },
     "metadata": {},
     "output_type": "display_data"
    }
   ],
   "source": [
    "f, ax = plt.subplots(1, 4, figsize=(9,2))\n",
    "for i, pairs in enumerate([thompson_pairs, dede_pairs, parrish_pairs, chymera_pairs]):\n",
    "    depmap_overlap = pd.merge(pairs[['sorted_gene_pair','n_SL']], depmap_pairs[['sorted_gene_pair','SL']])\n",
    "    print('Screened by '+data_order[i+2]+' and in DepMap panel:')\n",
    "    ctab = pd.crosstab(depmap_overlap.n_SL>0, depmap_overlap.SL)\n",
    "    print('FET: OR=%.4f, p=%.2e' % (stats.fisher_exact(ctab)))\n",
    "    # Pairs screened in both that are hits in either or both\n",
    "    v = venn2([set(depmap_overlap[depmap_overlap.SL].sorted_gene_pair), \n",
    "               set(depmap_overlap[depmap_overlap.n_SL>0].sorted_gene_pair)],\n",
    "              ['Our dataset', data_order[i+2]], ax=ax[i], set_colors=[data_palette[1],data_palette[i+2]], alpha=0.7)\n",
    "    for text in v.set_labels: text.set_fontsize(9)"
   ]
  },
  {
   "cell_type": "markdown",
   "metadata": {},
   "source": [
    "### Hits unique to our dataset or the screen consensus pairs"
   ]
  },
  {
   "cell_type": "code",
   "execution_count": 33,
   "metadata": {},
   "outputs": [
    {
     "name": "stdout",
     "output_type": "stream",
     "text": [
      "FET: OR=29.8909, p=1.05e-08\n"
     ]
    },
    {
     "data": {
      "image/png": "[encoded data removed]",
      "text/plain": [
       "<Figure size 200x200 with 1 Axes>"
      ]
     },
     "metadata": {},
     "output_type": "display_data"
    }
   ],
   "source": [
    "depmap_overlap = pd.merge(consensus_pairs[['sorted_gene_pair','SL']].rename(columns={'SL':'consensus_hit'}),\n",
    "                          depmap_pairs[['sorted_gene_pair','SL']].rename(columns={'SL':'depmap_hit'}))\n",
    "\n",
    "ctab = pd.crosstab(depmap_overlap.consensus_hit, depmap_overlap.depmap_hit)\n",
    "print('FET: OR=%.4f, p=%.2e' % (stats.fisher_exact(ctab)))\n",
    "\n",
    "# Pairs screened in both that are hits in either or both\n",
    "f, ax = plt.subplots(1, 1, figsize=(2,2))\n",
    "v = venn2([set(depmap_overlap[depmap_overlap.depmap_hit].sorted_gene_pair), \n",
    "           set(depmap_overlap[depmap_overlap.consensus_hit].sorted_gene_pair)],\n",
    "          ['Our dataset', 'Screen\\nconsensus'], ax=ax, set_colors=[data_palette[1],gp.get_color('dark-orange')], alpha=0.8)\n",
    "for text in v.set_labels: text.set_fontsize(9)\n",
    "_=ax.set_title('Hits among paralog pairs\\ntested in both datasets', fontsize=9)"
   ]
  },
  {
   "cell_type": "code",
   "execution_count": null,
   "metadata": {},
   "outputs": [],
   "source": []
  }
 ],
 "metadata": {
  "kernelspec": {
   "display_name": "Python 3.7.9 64-bit ('paralogSL': conda)",
   "language": "python",
   "name": "python37964bitparalogslconda0f0e77de73d34c52b743edfe8868363d"
  },
  "language_info": {
   "codemirror_mode": {
    "name": "ipython",
    "version": 3
   },
   "file_extension": ".py",
   "mimetype": "text/x-python",
   "name": "python",
   "nbconvert_exporter": "python",
   "pygments_lexer": "ipython3",
   "version": "3.7.1"
  }
 },
 "nbformat": 4,
 "nbformat_minor": 4
}
