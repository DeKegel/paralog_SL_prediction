{
 "cells": [
  {
   "cell_type": "markdown",
   "metadata": {},
   "source": [
    "## Compare yeast and human paralog family sizes\n",
    "\n",
    "Use Cerevisiae paralogs from Ensembl"
   ]
  },
  {
   "cell_type": "code",
   "execution_count": 1,
   "metadata": {},
   "outputs": [],
   "source": [
    "import pandas as pd\n",
    "import numpy as np\n",
    "import scipy.stats as stats\n",
    "import os\n",
    "import re\n",
    "import seaborn as sns\n",
    "import matplotlib.pyplot as plt\n",
    "import matplotlib as mpl\n",
    "from matplotlib.ticker import MaxNLocator\n",
    "\n",
    "%load_ext autoreload\n",
    "%autoreload 1\n",
    "%aimport graphing_params\n",
    "\n",
    "get_data_path = lambda folders, fname: os.path.normpath(os.environ['3RD_PARTY_DIR']+'/'+'/'.join(folders) +'/'+ fname)\n",
    "get_local_data_path = lambda folders, fname: os.path.normpath('../local_data/' +'/'.join(folders) +'/'+ fname)\n",
    "\n",
    "file_yeast_paralogs = get_data_path(['ensembl', '93'], 'cerevisiae_paralogs.txt')\n",
    "file_human_pairs = get_local_data_path(['processed','ensembl93'], 'all_pairs.csv')"
   ]
  },
  {
   "cell_type": "markdown",
   "metadata": {},
   "source": [
    "### Yeast paralog families"
   ]
  },
  {
   "cell_type": "code",
   "execution_count": 2,
   "metadata": {},
   "outputs": [],
   "source": [
    "raw_data = pd.read_csv(file_yeast_paralogs)"
   ]
  },
  {
   "cell_type": "code",
   "execution_count": 3,
   "metadata": {},
   "outputs": [
    {
     "data": {
      "text/html": [
       "<div>\n",
       "<style scoped>\n",
       "    .dataframe tbody tr th:only-of-type {\n",
       "        vertical-align: middle;\n",
       "    }\n",
       "\n",
       "    .dataframe tbody tr th {\n",
       "        vertical-align: top;\n",
       "    }\n",
       "\n",
       "    .dataframe thead th {\n",
       "        text-align: right;\n",
       "    }\n",
       "</style>\n",
       "<table border=\"1\" class=\"dataframe\">\n",
       "  <thead>\n",
       "    <tr style=\"text-align: right;\">\n",
       "      <th></th>\n",
       "      <th>Gene stable ID</th>\n",
       "      <th>Saccharomyces cerevisiae paralogue gene stable ID</th>\n",
       "      <th>Paralogue %id. target Saccharomyces cerevisiae gene identical to query gene</th>\n",
       "      <th>Paralogue %id. query gene identical to target Saccharomyces cerevisiae gene</th>\n",
       "    </tr>\n",
       "  </thead>\n",
       "  <tbody>\n",
       "    <tr>\n",
       "      <th>0</th>\n",
       "      <td>YHR055C</td>\n",
       "      <td>YHR053C</td>\n",
       "      <td>100.0</td>\n",
       "      <td>100.0</td>\n",
       "    </tr>\n",
       "  </tbody>\n",
       "</table>\n",
       "</div>"
      ],
      "text/plain": [
       "  Gene stable ID Saccharomyces cerevisiae paralogue gene stable ID  \\\n",
       "0        YHR055C                                           YHR053C   \n",
       "\n",
       "   Paralogue %id. target Saccharomyces cerevisiae gene identical to query gene  \\\n",
       "0                                              100.0                             \n",
       "\n",
       "   Paralogue %id. query gene identical to target Saccharomyces cerevisiae gene  \n",
       "0                                              100.0                            "
      ]
     },
     "execution_count": 3,
     "metadata": {},
     "output_type": "execute_result"
    }
   ],
   "source": [
    "raw_data[:1]"
   ]
  },
  {
   "cell_type": "code",
   "execution_count": 5,
   "metadata": {},
   "outputs": [
    {
     "name": "stdout",
     "output_type": "stream",
     "text": [
      "N pairs: 11898\n"
     ]
    },
    {
     "data": {
      "text/html": [
       "<div>\n",
       "<style scoped>\n",
       "    .dataframe tbody tr th:only-of-type {\n",
       "        vertical-align: middle;\n",
       "    }\n",
       "\n",
       "    .dataframe tbody tr th {\n",
       "        vertical-align: top;\n",
       "    }\n",
       "\n",
       "    .dataframe thead th {\n",
       "        text-align: right;\n",
       "    }\n",
       "</style>\n",
       "<table border=\"1\" class=\"dataframe\">\n",
       "  <thead>\n",
       "    <tr style=\"text-align: right;\">\n",
       "      <th></th>\n",
       "      <th>A1_gene_id</th>\n",
       "      <th>A2_gene_id</th>\n",
       "      <th>sequence_identity</th>\n",
       "      <th>sequence_identity_reverse</th>\n",
       "    </tr>\n",
       "  </thead>\n",
       "  <tbody>\n",
       "    <tr>\n",
       "      <th>0</th>\n",
       "      <td>YHR055C</td>\n",
       "      <td>YHR053C</td>\n",
       "      <td>100.0</td>\n",
       "      <td>100.0</td>\n",
       "    </tr>\n",
       "  </tbody>\n",
       "</table>\n",
       "</div>"
      ],
      "text/plain": [
       "  A1_gene_id A2_gene_id  sequence_identity  sequence_identity_reverse\n",
       "0    YHR055C    YHR053C              100.0                      100.0"
      ]
     },
     "execution_count": 5,
     "metadata": {},
     "output_type": "execute_result"
    }
   ],
   "source": [
    "data = raw_data.rename(columns={\n",
    "    'Gene stable ID': 'A1_gene_id',\n",
    "    'Saccharomyces cerevisiae paralogue gene stable ID': 'A2_gene_id',\n",
    "    'Paralogue %id. target Saccharomyces cerevisiae gene identical to query gene': 'sequence_identity',\n",
    "    'Paralogue %id. query gene identical to target Saccharomyces cerevisiae gene': 'sequence_identity_reverse'})\n",
    "# Drop A2 genes that do not appear in A1 column (these would be non-protein coding)\n",
    "# Data should be symmetric\n",
    "all_yeast_paralog_pairs = data[data.A2_gene_id.isin(data.A1_gene_id)].reset_index(drop=True)\n",
    "print('N pairs:', all_yeast_paralog_pairs.shape[0])\n",
    "all_yeast_paralog_pairs[:1]"
   ]
  },
  {
   "cell_type": "code",
   "execution_count": 6,
   "metadata": {},
   "outputs": [
    {
     "name": "stdout",
     "output_type": "stream",
     "text": [
      "N yeast paralog pairs (min. 20% seq id): 10838\n"
     ]
    }
   ],
   "source": [
    "# Restrict to min. 20% sequence identity (either direction)\n",
    "yeast_paralog_pairs = all_yeast_paralog_pairs[(all_yeast_paralog_pairs.sequence_identity >= 20) | \n",
    "                                              (all_yeast_paralog_pairs.sequence_identity_reverse >= 20)]\n",
    "print('N yeast paralog pairs (min. 20% seq id):', yeast_paralog_pairs.shape[0])"
   ]
  },
  {
   "cell_type": "code",
   "execution_count": 7,
   "metadata": {},
   "outputs": [],
   "source": [
    "def compute_family_sizes(paralog_pairs, A1_id, A2_id):\n",
    "    # Set of all paralogs for each A1\n",
    "    paralog_families = paralog_pairs.groupby(A1_id).agg({A2_id:set}).reset_index()\n",
    "    paralog_families = paralog_families.rename(columns={A1_id:'gene', A2_id:'paralogs'})\n",
    "    display(paralog_families[:1])\n",
    "\n",
    "    # Family = union of all A1 and all A2 paralogs\n",
    "    df = pd.merge(paralog_pairs[[A1_id,A2_id]], paralog_families.rename(columns={'gene':A1_id}))\n",
    "    df = pd.merge(df, paralog_families.rename(columns={'gene':A2_id}), on=[A2_id])\n",
    "    df['family'] = df.apply(lambda x: x.paralogs_x.union(x.paralogs_y), axis=1)\n",
    "    \n",
    "    # Turn each family into a frozenset to compute the number of unique sets (families)\n",
    "    unique_families = set(df.family.apply(lambda x: frozenset(x)).values)\n",
    "    return unique_families"
   ]
  },
  {
   "cell_type": "code",
   "execution_count": 8,
   "metadata": {},
   "outputs": [
    {
     "data": {
      "text/html": [
       "<div>\n",
       "<style scoped>\n",
       "    .dataframe tbody tr th:only-of-type {\n",
       "        vertical-align: middle;\n",
       "    }\n",
       "\n",
       "    .dataframe tbody tr th {\n",
       "        vertical-align: top;\n",
       "    }\n",
       "\n",
       "    .dataframe thead th {\n",
       "        text-align: right;\n",
       "    }\n",
       "</style>\n",
       "<table border=\"1\" class=\"dataframe\">\n",
       "  <thead>\n",
       "    <tr style=\"text-align: right;\">\n",
       "      <th></th>\n",
       "      <th>gene</th>\n",
       "      <th>paralogs</th>\n",
       "    </tr>\n",
       "  </thead>\n",
       "  <tbody>\n",
       "    <tr>\n",
       "      <th>0</th>\n",
       "      <td>Q0050</td>\n",
       "      <td>{Q0060, Q0070, Q0055, Q0065}</td>\n",
       "    </tr>\n",
       "  </tbody>\n",
       "</table>\n",
       "</div>"
      ],
      "text/plain": [
       "    gene                      paralogs\n",
       "0  Q0050  {Q0060, Q0070, Q0055, Q0065}"
      ]
     },
     "metadata": {},
     "output_type": "display_data"
    },
    {
     "name": "stdout",
     "output_type": "stream",
     "text": [
      "N unique families: 726\n"
     ]
    }
   ],
   "source": [
    "unique_yeast_families = compute_family_sizes(yeast_paralog_pairs, 'A1_gene_id', 'A2_gene_id')\n",
    "print('N unique families:', len(unique_yeast_families))\n",
    "yeast_family_sizes = [len(x) for x in unique_yeast_families]"
   ]
  },
  {
   "cell_type": "markdown",
   "metadata": {},
   "source": [
    "### Human paralog families"
   ]
  },
  {
   "cell_type": "code",
   "execution_count": 10,
   "metadata": {},
   "outputs": [
    {
     "name": "stdout",
     "output_type": "stream",
     "text": [
      "N human paralog pairs: 73296\n"
     ]
    },
    {
     "data": {
      "text/html": [
       "<div>\n",
       "<style scoped>\n",
       "    .dataframe tbody tr th:only-of-type {\n",
       "        vertical-align: middle;\n",
       "    }\n",
       "\n",
       "    .dataframe tbody tr th {\n",
       "        vertical-align: top;\n",
       "    }\n",
       "\n",
       "    .dataframe thead th {\n",
       "        text-align: right;\n",
       "    }\n",
       "</style>\n",
       "<table border=\"1\" class=\"dataframe\">\n",
       "  <thead>\n",
       "    <tr style=\"text-align: right;\">\n",
       "      <th></th>\n",
       "      <th>A1_ensembl</th>\n",
       "      <th>A2_ensembl</th>\n",
       "      <th>sequence_identity</th>\n",
       "      <th>min_seq_id</th>\n",
       "      <th>max_seq_id</th>\n",
       "      <th>singh_wgd</th>\n",
       "      <th>makino_wgd</th>\n",
       "      <th>WGD</th>\n",
       "      <th>same_chr</th>\n",
       "      <th>closest</th>\n",
       "      <th>family_size</th>\n",
       "      <th>cds_length_ratio</th>\n",
       "      <th>A1</th>\n",
       "      <th>A1_entrez</th>\n",
       "      <th>A2</th>\n",
       "      <th>A2_entrez</th>\n",
       "    </tr>\n",
       "  </thead>\n",
       "  <tbody>\n",
       "    <tr>\n",
       "      <th>0</th>\n",
       "      <td>ENSG00000092850</td>\n",
       "      <td>ENSG00000163060</td>\n",
       "      <td>0.293023</td>\n",
       "      <td>0.289655</td>\n",
       "      <td>0.293023</td>\n",
       "      <td>False</td>\n",
       "      <td>True</td>\n",
       "      <td>True</td>\n",
       "      <td>False</td>\n",
       "      <td>False</td>\n",
       "      <td>5</td>\n",
       "      <td>0.988532</td>\n",
       "      <td>TEKT2</td>\n",
       "      <td>27285</td>\n",
       "      <td>TEKT4</td>\n",
       "      <td>150483</td>\n",
       "    </tr>\n",
       "  </tbody>\n",
       "</table>\n",
       "</div>"
      ],
      "text/plain": [
       "        A1_ensembl       A2_ensembl  sequence_identity  min_seq_id  \\\n",
       "0  ENSG00000092850  ENSG00000163060           0.293023    0.289655   \n",
       "\n",
       "   max_seq_id  singh_wgd  makino_wgd   WGD  same_chr  closest  family_size  \\\n",
       "0    0.293023      False        True  True     False    False            5   \n",
       "\n",
       "   cds_length_ratio     A1  A1_entrez     A2  A2_entrez  \n",
       "0          0.988532  TEKT2      27285  TEKT4     150483  "
      ]
     },
     "execution_count": 10,
     "metadata": {},
     "output_type": "execute_result"
    }
   ],
   "source": [
    "all_human_paralogs = pd.read_csv(file_human_pairs)\n",
    "human_paralogs = all_human_paralogs[all_human_paralogs.max_seq_id >= 0.2].reset_index(drop=True)\n",
    "print('N human paralog pairs:', human_paralogs.shape[0])\n",
    "human_paralogs[:1]"
   ]
  },
  {
   "cell_type": "code",
   "execution_count": 11,
   "metadata": {},
   "outputs": [
    {
     "data": {
      "text/html": [
       "<div>\n",
       "<style scoped>\n",
       "    .dataframe tbody tr th:only-of-type {\n",
       "        vertical-align: middle;\n",
       "    }\n",
       "\n",
       "    .dataframe tbody tr th {\n",
       "        vertical-align: top;\n",
       "    }\n",
       "\n",
       "    .dataframe thead th {\n",
       "        text-align: right;\n",
       "    }\n",
       "</style>\n",
       "<table border=\"1\" class=\"dataframe\">\n",
       "  <thead>\n",
       "    <tr style=\"text-align: right;\">\n",
       "      <th></th>\n",
       "      <th>gene</th>\n",
       "      <th>paralogs</th>\n",
       "    </tr>\n",
       "  </thead>\n",
       "  <tbody>\n",
       "    <tr>\n",
       "      <th>0</th>\n",
       "      <td>ENSG00000000003</td>\n",
       "      <td>{ENSG00000048140, ENSG00000135404, ENSG0000015...</td>\n",
       "    </tr>\n",
       "  </tbody>\n",
       "</table>\n",
       "</div>"
      ],
      "text/plain": [
       "              gene                                           paralogs\n",
       "0  ENSG00000000003  {ENSG00000048140, ENSG00000135404, ENSG0000015..."
      ]
     },
     "metadata": {},
     "output_type": "display_data"
    },
    {
     "name": "stdout",
     "output_type": "stream",
     "text": [
      "N unique families: 4341\n"
     ]
    }
   ],
   "source": [
    "unique_human_families = compute_family_sizes(human_paralogs, 'A1_ensembl', 'A2_ensembl')\n",
    "print('N unique families:', len(unique_human_families))\n",
    "human_family_sizes = [len(x) for x in unique_human_families]"
   ]
  },
  {
   "cell_type": "markdown",
   "metadata": {},
   "source": [
    "### Compare family sizes"
   ]
  },
  {
   "cell_type": "code",
   "execution_count": 13,
   "metadata": {},
   "outputs": [
    {
     "name": "stdout",
     "output_type": "stream",
     "text": [
      "Median yeast family size: 2.0\n",
      "Mean yeast family size: 3.760330578512397\n",
      "Median human family size: 4.0\n",
      "Mean human family size: 5.167472932504031\n"
     ]
    },
    {
     "data": {
      "text/html": [
       "<div>\n",
       "<style scoped>\n",
       "    .dataframe tbody tr th:only-of-type {\n",
       "        vertical-align: middle;\n",
       "    }\n",
       "\n",
       "    .dataframe tbody tr th {\n",
       "        vertical-align: top;\n",
       "    }\n",
       "\n",
       "    .dataframe thead th {\n",
       "        text-align: right;\n",
       "    }\n",
       "</style>\n",
       "<table border=\"1\" class=\"dataframe\">\n",
       "  <thead>\n",
       "    <tr style=\"text-align: right;\">\n",
       "      <th></th>\n",
       "      <th>fam_size</th>\n",
       "      <th>species</th>\n",
       "    </tr>\n",
       "  </thead>\n",
       "  <tbody>\n",
       "    <tr>\n",
       "      <th>0</th>\n",
       "      <td>2</td>\n",
       "      <td>Human</td>\n",
       "    </tr>\n",
       "  </tbody>\n",
       "</table>\n",
       "</div>"
      ],
      "text/plain": [
       "   fam_size species\n",
       "0         2   Human"
      ]
     },
     "execution_count": 13,
     "metadata": {},
     "output_type": "execute_result"
    }
   ],
   "source": [
    "family_sizes = pd.concat([pd.DataFrame({'fam_size':human_family_sizes, 'species':'Human'}),\n",
    "                          pd.DataFrame({'fam_size':yeast_family_sizes, 'species':'Yeast'})])\n",
    "print('Median yeast family size:', family_sizes[family_sizes.species=='Yeast'].fam_size.median())\n",
    "print('Mean yeast family size:', family_sizes[family_sizes.species=='Yeast'].fam_size.mean())\n",
    "print('Median human family size:', family_sizes[family_sizes.species=='Human'].fam_size.median())\n",
    "print('Mean human family size:', family_sizes[family_sizes.species=='Human'].fam_size.mean())\n",
    "family_sizes[:1]"
   ]
  },
  {
   "cell_type": "code",
   "execution_count": 27,
   "metadata": {},
   "outputs": [
    {
     "data": {
      "image/png": "[encoded data removed]",
      "text/plain": [
       "<Figure size 150x200 with 1 Axes>"
      ]
     },
     "metadata": {},
     "output_type": "display_data"
    }
   ],
   "source": [
    "f, ax = plt.subplots(1, 1, figsize=(1.5,2))\n",
    "sns.boxplot(data=family_sizes, y='fam_size', x='species', ax=ax, showfliers=False, linewidth=1, \n",
    "            palette=sns.color_palette('Oranges',2), medianprops=dict(linewidth=1.5, color='black'))\n",
    "ax.set_xlabel('Species')\n",
    "ax.yaxis.set_major_locator(MaxNLocator(integer=True))\n",
    "ax.set_ylabel('Family size')\n",
    "plt.tight_layout()"
   ]
  }
 ],
 "metadata": {
  "kernelspec": {
   "display_name": "Python 3",
   "language": "python",
   "name": "python3"
  },
  "language_info": {
   "codemirror_mode": {
    "name": "ipython",
    "version": 3
   },
   "file_extension": ".py",
   "mimetype": "text/x-python",
   "name": "python",
   "nbconvert_exporter": "python",
   "pygments_lexer": "ipython3",
   "version": "3.7.1"
  }
 },
 "nbformat": 4,
 "nbformat_minor": 4
}
