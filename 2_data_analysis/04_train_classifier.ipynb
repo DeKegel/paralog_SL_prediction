{
 "cells": [
  {
   "cell_type": "markdown",
   "metadata": {},
   "source": [
    "## Random Forest Classifier: cross-validation\n",
    "\n",
    "**Input**: Our training dataset of (non-)SL paralog pairs + all paralog pair features"
   ]
  },
  {
   "cell_type": "code",
   "execution_count": 1,
   "metadata": {
    "tags": []
   },
   "outputs": [],
   "source": [
    "import pandas as pd\n",
    "import numpy as np\n",
    "\n",
    "import sklearn\n",
    "from sklearn.model_selection import GridSearchCV, RepeatedStratifiedKFold, StratifiedKFold, cross_val_score, cross_validate\n",
    "from sklearn.ensemble import RandomForestClassifier\n",
    "from sklearn.metrics import roc_curve, auc, precision_recall_curve, average_precision_score, roc_auc_score\n",
    "\n",
    "import scipy.stats as stats\n",
    "\n",
    "import seaborn as sns\n",
    "import matplotlib as mpl\n",
    "import matplotlib.pyplot as plt\n",
    "from matplotlib.colors import ListedColormap\n",
    "\n",
    "import graphing_params as gp\n",
    "%load_ext autoreload\n",
    "%autoreload 1\n",
    "%aimport graphing_params\n",
    "\n",
    "import itertools\n",
    "import os, sys\n",
    "\n",
    "get_local_data_path = lambda folders, fname: os.path.normpath('../local_data/' +'/'.join(folders) +'/'+ fname)\n",
    "\n",
    "file_annot_pairs = get_local_data_path(['processed','paralog_features'], 'all_features.csv')\n",
    "file_depmap_pairs = get_local_data_path(['results'], 'depmap_pairs.csv')\n",
    "file_feature_list = get_local_data_path([], 'feature_list.txt')"
   ]
  },
  {
   "cell_type": "markdown",
   "metadata": {},
   "source": [
    "### Data"
   ]
  },
  {
   "cell_type": "code",
   "execution_count": 13,
   "metadata": {
    "tags": []
   },
   "outputs": [
    {
     "name": "stdout",
     "output_type": "stream",
     "text": [
      "Num annotated pairs: 36648\n",
      "Num SL: 126 / 3634\n"
     ]
    },
    {
     "data": {
      "text/html": [
       "<div>\n",
       "<style scoped>\n",
       "    .dataframe tbody tr th:only-of-type {\n",
       "        vertical-align: middle;\n",
       "    }\n",
       "\n",
       "    .dataframe tbody tr th {\n",
       "        vertical-align: top;\n",
       "    }\n",
       "\n",
       "    .dataframe thead th {\n",
       "        text-align: right;\n",
       "    }\n",
       "</style>\n",
       "<table border=\"1\" class=\"dataframe\">\n",
       "  <thead>\n",
       "    <tr style=\"text-align: right;\">\n",
       "      <th></th>\n",
       "      <th>sorted_gene_pair</th>\n",
       "      <th>SL</th>\n",
       "      <th>A1</th>\n",
       "      <th>A2</th>\n",
       "      <th>A1_ensembl</th>\n",
       "      <th>A2_ensembl</th>\n",
       "      <th>A1_entrez</th>\n",
       "      <th>A2_entrez</th>\n",
       "      <th>closest</th>\n",
       "      <th>min_sequence_identity</th>\n",
       "      <th>...</th>\n",
       "      <th>has_cerevisiae_ortholog_ip</th>\n",
       "      <th>has_pombe_ortholog</th>\n",
       "      <th>has_essential_pombe_ortholog</th>\n",
       "      <th>has_pombe_ortholog_ip</th>\n",
       "      <th>has_single_essential_pombe_ortholog</th>\n",
       "      <th>has_ecoli_ortholog</th>\n",
       "      <th>conservation_score</th>\n",
       "      <th>mean_age</th>\n",
       "      <th>colocalisation</th>\n",
       "      <th>same_subcell_loc</th>\n",
       "    </tr>\n",
       "  </thead>\n",
       "  <tbody>\n",
       "    <tr>\n",
       "      <th>0</th>\n",
       "      <td>AAK1_BMP2K</td>\n",
       "      <td>False</td>\n",
       "      <td>AAK1</td>\n",
       "      <td>BMP2K</td>\n",
       "      <td>ENSG00000115977</td>\n",
       "      <td>ENSG00000138756</td>\n",
       "      <td>22848</td>\n",
       "      <td>55589</td>\n",
       "      <td>True</td>\n",
       "      <td>0.341947</td>\n",
       "      <td>...</td>\n",
       "      <td>True</td>\n",
       "      <td>True</td>\n",
       "      <td>False</td>\n",
       "      <td>False</td>\n",
       "      <td>False</td>\n",
       "      <td>False</td>\n",
       "      <td>7</td>\n",
       "      <td>976.25</td>\n",
       "      <td>0.0</td>\n",
       "      <td>False</td>\n",
       "    </tr>\n",
       "    <tr>\n",
       "      <th>1</th>\n",
       "      <td>ABCA1_ABCA7</td>\n",
       "      <td>False</td>\n",
       "      <td>ABCA1</td>\n",
       "      <td>ABCA7</td>\n",
       "      <td>ENSG00000165029</td>\n",
       "      <td>ENSG00000064687</td>\n",
       "      <td>19</td>\n",
       "      <td>10347</td>\n",
       "      <td>False</td>\n",
       "      <td>0.498894</td>\n",
       "      <td>...</td>\n",
       "      <td>True</td>\n",
       "      <td>False</td>\n",
       "      <td>False</td>\n",
       "      <td>False</td>\n",
       "      <td>False</td>\n",
       "      <td>False</td>\n",
       "      <td>5</td>\n",
       "      <td>4200.00</td>\n",
       "      <td>0.0</td>\n",
       "      <td>False</td>\n",
       "    </tr>\n",
       "  </tbody>\n",
       "</table>\n",
       "<p>2 rows × 47 columns</p>\n",
       "</div>"
      ],
      "text/plain": [
       "  sorted_gene_pair     SL     A1     A2       A1_ensembl       A2_ensembl  \\\n",
       "0       AAK1_BMP2K  False   AAK1  BMP2K  ENSG00000115977  ENSG00000138756   \n",
       "1      ABCA1_ABCA7  False  ABCA1  ABCA7  ENSG00000165029  ENSG00000064687   \n",
       "\n",
       "   A1_entrez  A2_entrez  closest  min_sequence_identity  ...  \\\n",
       "0      22848      55589     True               0.341947  ...   \n",
       "1         19      10347    False               0.498894  ...   \n",
       "\n",
       "   has_cerevisiae_ortholog_ip  has_pombe_ortholog  \\\n",
       "0                        True                True   \n",
       "1                        True               False   \n",
       "\n",
       "   has_essential_pombe_ortholog  has_pombe_ortholog_ip  \\\n",
       "0                         False                  False   \n",
       "1                         False                  False   \n",
       "\n",
       "   has_single_essential_pombe_ortholog  has_ecoli_ortholog  \\\n",
       "0                                False               False   \n",
       "1                                False               False   \n",
       "\n",
       "   conservation_score  mean_age  colocalisation  same_subcell_loc  \n",
       "0                   7    976.25             0.0             False  \n",
       "1                   5   4200.00             0.0             False  \n",
       "\n",
       "[2 rows x 47 columns]"
      ]
     },
     "execution_count": 13,
     "metadata": {},
     "output_type": "execute_result"
    }
   ],
   "source": [
    "paralog_annotations = pd.read_csv(file_annot_pairs)\n",
    "print('Num annotated pairs:', paralog_annotations.shape[0])\n",
    "depmap_pairs = pd.read_csv(file_depmap_pairs)\n",
    "# Training data rows need to be in the same order for exact reproducibility\n",
    "depmap_pairs = pd.merge(depmap_pairs, paralog_annotations).sort_values(['A1','A2'])\n",
    "print('Num SL:', depmap_pairs[depmap_pairs.SL].shape[0], '/', depmap_pairs.shape[0])\n",
    "depmap_pairs[:2]"
   ]
  },
  {
   "cell_type": "code",
   "execution_count": 8,
   "metadata": {
    "tags": []
   },
   "outputs": [
    {
     "name": "stdout",
     "output_type": "stream",
     "text": [
      "N features 22\n",
      "['min_sequence_identity' 'closest' 'WGD' 'family_size' 'cds_length_ratio'\n",
      " 'shared_domains' 'has_pombe_ortholog' 'has_essential_pombe_ortholog'\n",
      " 'has_cerevisiae_ortholog' 'has_essential_cerevisiae_ortholog'\n",
      " 'conservation_score' 'mean_age' 'either_in_complex'\n",
      " 'mean_complex_essentiality' 'colocalisation' 'interact' 'n_total_ppi'\n",
      " 'fet_ppi_overlap' 'shared_ppi_mean_essentiality' 'gtex_spearman_corr'\n",
      " 'gtex_min_mean_expr' 'gtex_max_mean_expr']\n"
     ]
    }
   ],
   "source": [
    "features = pd.read_csv(file_feature_list).feature.values\n",
    "print('N features', len(features))\n",
    "print(features)"
   ]
  },
  {
   "cell_type": "markdown",
   "metadata": {},
   "source": [
    "### Random Forest CV with Training Data"
   ]
  },
  {
   "cell_type": "code",
   "execution_count": 9,
   "metadata": {},
   "outputs": [],
   "source": [
    "def run_cross_validation(classifier, X, y, nfolds=4):\n",
    "    tprs = []\n",
    "    mean_fpr = np.linspace(0, 1, 100)\n",
    "    aucs = []\n",
    "    seq_aucs = []\n",
    "    \n",
    "    y_real = []\n",
    "    y_proba = []\n",
    "    aps = []\n",
    "    seq_aps = []\n",
    "    \n",
    "    k_fold = StratifiedKFold(n_splits=nfolds, shuffle=True, random_state=3)\n",
    "    \n",
    "    for train, test in k_fold.split(X, y):\n",
    "        ypred = classifier.fit(X.iloc[train], y.iloc[train]).predict_proba(X.iloc[test])\n",
    "\n",
    "        fpr, tpr, _ = roc_curve(y.iloc[test], ypred[:, 1])\n",
    "        tprs.append(np.interp(mean_fpr, fpr, tpr))\n",
    "        tprs[-1][0] = 0.0\n",
    "        aucs.append(roc_auc_score(y.iloc[test], ypred[:, 1]))\n",
    "        seq_aucs.append(roc_auc_score(y.iloc[test], X.iloc[test].min_sequence_identity))\n",
    "        \n",
    "        aps.append(average_precision_score(y.iloc[test], ypred[:, 1]))\n",
    "        seq_aps.append(average_precision_score(y.iloc[test], X.iloc[test].min_sequence_identity))\n",
    "        y_real.append(y.iloc[test].values)\n",
    "        y_proba.append(ypred[:, 1])\n",
    "        \n",
    "    mean_tpr = np.mean(tprs, axis=0)\n",
    "    mean_tpr[-1] = 1.0\n",
    "    mean_auc = auc(mean_fpr, mean_tpr)\n",
    "    std_auc = np.std(aucs)\n",
    "    \n",
    "    # Concatenate all the arrays into 1 array\n",
    "    y_real = np.concatenate(y_real)\n",
    "    y_proba = np.concatenate(y_proba)\n",
    "    precision, recall, _ = precision_recall_curve(y_real, y_proba)\n",
    "    \n",
    "    return {'tpr':mean_tpr, 'fpr':mean_fpr, 'auc':mean_auc, 'std_auc':std_auc, \n",
    "            'seq_auc':np.mean(seq_aucs), 'seq_std_auc':np.std(seq_aucs),\n",
    "            'precision':precision, 'recall':recall, 'ap':np.mean(aps), 'std_ap':np.std(aps),\n",
    "            'seq_ap':np.mean(seq_aps), 'seq_std_ap':np.std(seq_aps)}"
   ]
  },
  {
   "cell_type": "code",
   "execution_count": 10,
   "metadata": {},
   "outputs": [],
   "source": [
    "def draw_cv_roc_curve(cv_results, ax, label, color=\"black\"):    \n",
    "    ax.step(cv_results['fpr'], cv_results['tpr'], \n",
    "            label=label+'(%.2f $\\pm$%.2f)' % (cv_results['auc'], cv_results['std_auc']), color=color, zorder=10)\n",
    "\n",
    "    ax.set_xlim([-0.05, 1.02])\n",
    "    ax.set_ylim([-0.05, 1.02])\n",
    "    ax.set_xlabel('False Positive Rate', fontsize=9)\n",
    "    ax.set_ylabel('True Positive Rate', fontsize=9)\n",
    "    \n",
    "def draw_cv_pr_curve(cv_results, ax, label, color=\"black\"):\n",
    "    line_kwargs = {\"drawstyle\": \"steps-post\"}\n",
    "    precision = cv_results['precision'][:-1]; recall = cv_results['recall'][:-1]\n",
    "    ax.step(recall, precision, label=label+'(%.2f $\\pm$%.2f)' % (cv_results['ap'], cv_results['std_ap']), \n",
    "            color=color, zorder=10, **line_kwargs)\n",
    "\n",
    "    ax.set_xlim([-0.05, 1.02])\n",
    "    ax.set_ylim([-0.05, 1.02])\n",
    "    ax.set_xlabel('Recall', fontsize=9)\n",
    "    ax.set_ylabel('Precision', fontsize=9)\n",
    "    \n",
    "def draw_seq_id_curves(axes, cv_results, data):\n",
    "    fpr, tpr, _ = roc_curve(data.SL, data.min_sequence_identity)\n",
    "    ax[0].step(fpr, tpr, label='Seq. Id. (%.2f$\\pm$%.2f)' % (cv_results['seq_auc'], cv_results['seq_std_auc']), \n",
    "               color='#e69f00')\n",
    "    \n",
    "    precision, recall, _ = precision_recall_curve(data.SL, data.min_sequence_identity)\n",
    "    recall = recall[:-1]; precision = precision[:-1]\n",
    "    line_kwargs = {\"drawstyle\": \"steps-post\"}\n",
    "    ax[1].plot(recall, precision, label='Seq. Id. (%.2f $\\pm$%.2f)' % (cv_results['seq_ap'], cv_results['seq_std_ap']), \n",
    "               color='#e69f00', **line_kwargs)\n",
    "    \n",
    "def draw_chance_lines(axes, data):\n",
    "    axes[0].plot([0, 1], [0, 1], linestyle='--', color='black', label='Chance (0.50)')\n",
    "    no_skill = sum(data.SL) / (data.SL).count()\n",
    "    axes[1].plot([0, 1], [no_skill, no_skill], linestyle='--', color='black', label='Chance (%.2f)' % (no_skill))\n",
    "    axes[0].legend(loc='lower right', bbox_to_anchor=(1.05,0), fontsize=9)\n",
    "    axes[1].legend(loc='upper left', bbox_to_anchor=(0,1),fontsize=9)"
   ]
  },
  {
   "cell_type": "code",
   "execution_count": 14,
   "metadata": {
    "scrolled": false
   },
   "outputs": [],
   "source": [
    "RF = RandomForestClassifier(n_estimators=600, random_state=8, max_features=0.5, max_depth=3, min_samples_leaf=8)\n",
    "cv_results = run_cross_validation(RF, depmap_pairs[features], depmap_pairs.SL)"
   ]
  },
  {
   "cell_type": "code",
   "execution_count": 15,
   "metadata": {},
   "outputs": [
    {
     "data": {
      "image/png": "[encoded data removed]",
      "text/plain": [
       "<Figure size 500x245 with 2 Axes>"
      ]
     },
     "metadata": {},
     "output_type": "display_data"
    }
   ],
   "source": [
    "f, ax = plt.subplots(1, 2, figsize=(5,2.45))\n",
    "draw_cv_roc_curve(cv_results, ax[0], label='RF ')\n",
    "draw_cv_pr_curve(cv_results, ax[1], label='RF ')\n",
    "draw_seq_id_curves(ax, cv_results, depmap_pairs)\n",
    "draw_chance_lines(ax, depmap_pairs)\n",
    "ax[0].legend(loc=\"lower right\", bbox_to_anchor=(1.08,0), fontsize=9)\n",
    "plt.tight_layout()\n",
    "plt.savefig(\"../figures/for_paper/RF_curves.svg\", bbox_inches=\"tight\", dpi=300)"
   ]
  },
  {
   "cell_type": "code",
   "execution_count": 18,
   "metadata": {},
   "outputs": [
    {
     "name": "stdout",
     "output_type": "stream",
     "text": [
      "Max recall where precision is >35%: 0.21\n",
      "Max recall where precision is >40%: 0.19\n"
     ]
    }
   ],
   "source": [
    "# Find recall at which precision is above 35-40%\n",
    "idx = np.where(cv_results['precision'] > 0.35)\n",
    "print('Max recall where precision is >35%%: %.2f' % (np.max(cv_results['recall'][idx])))\n",
    "idx = np.where(cv_results['precision'] > 0.4)\n",
    "print('Max recall where precision is >40%%: %.2f' % (np.max(cv_results['recall'][idx])))"
   ]
  }
 ],
 "metadata": {
  "kernelspec": {
   "display_name": "Python 3.7.9 64-bit ('paralogSL': conda)",
   "language": "python",
   "name": "python37964bitparalogslconda0f0e77de73d34c52b743edfe8868363d"
  },
  "language_info": {
   "codemirror_mode": {
    "name": "ipython",
    "version": 3
   },
   "file_extension": ".py",
   "mimetype": "text/x-python",
   "name": "python",
   "nbconvert_exporter": "python",
   "pygments_lexer": "ipython3",
   "version": "3.7.1"
  }
 },
 "nbformat": 4,
 "nbformat_minor": 2
}
