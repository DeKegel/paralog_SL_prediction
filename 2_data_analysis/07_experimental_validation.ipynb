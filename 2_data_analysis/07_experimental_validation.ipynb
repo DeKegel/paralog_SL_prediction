{
 "cells": [
  {
   "cell_type": "markdown",
   "metadata": {},
   "source": [
    "## Experimental validation of *ASF1A/B* and *COPS7A/B*\n",
    "\n",
    "Experiments performed by Niall Quinn\n",
    "\n",
    "- Sheet 1: COPS7A/B Raw Viability\n",
    "- Sheet 2: COPS7A/B Normalized Viability\n",
    "- Sheet 3: ASF1A/B Raw Viability\n",
    "- Sheet 4: ASF1A/B Normalized Viability"
   ]
  },
  {
   "cell_type": "code",
   "execution_count": 1,
   "metadata": {},
   "outputs": [],
   "source": [
    "import pandas as pd\n",
    "import numpy as np\n",
    "import scipy.stats as stats\n",
    "import seaborn as sns\n",
    "import matplotlib as mpl\n",
    "import matplotlib.pyplot as plt\n",
    "import os\n",
    "\n",
    "%load_ext autoreload\n",
    "%autoreload 1\n",
    "%aimport graphing_params\n",
    "\n",
    "get_local_data_path = lambda folders, fname: os.path.normpath('../local_data/' +'/'.join(folders) +'/'+ fname)\n",
    "\n",
    "file_validation = get_local_data_path(['results'], 'ASF1AB_COPS7AB_validation_data.xlsx')"
   ]
  },
  {
   "cell_type": "markdown",
   "metadata": {},
   "source": [
    "### *ASF1A/ASF1B*"
   ]
  },
  {
   "cell_type": "code",
   "execution_count": 2,
   "metadata": {},
   "outputs": [],
   "source": [
    "asf1ab_data = pd.read_excel(file_validation, sheet_name=3)"
   ]
  },
  {
   "cell_type": "code",
   "execution_count": 3,
   "metadata": {},
   "outputs": [
    {
     "data": {
      "text/html": [
       "<div>\n",
       "<style scoped>\n",
       "    .dataframe tbody tr th:only-of-type {\n",
       "        vertical-align: middle;\n",
       "    }\n",
       "\n",
       "    .dataframe tbody tr th {\n",
       "        vertical-align: top;\n",
       "    }\n",
       "\n",
       "    .dataframe thead th {\n",
       "        text-align: right;\n",
       "    }\n",
       "</style>\n",
       "<table border=\"1\" class=\"dataframe\">\n",
       "  <thead>\n",
       "    <tr style=\"text-align: right;\">\n",
       "      <th></th>\n",
       "      <th>CellLine</th>\n",
       "      <th>siRNA</th>\n",
       "      <th>NPI</th>\n",
       "    </tr>\n",
       "  </thead>\n",
       "  <tbody>\n",
       "    <tr>\n",
       "      <th>0</th>\n",
       "      <td>ASF1A_KO_C5</td>\n",
       "      <td>ASF1A</td>\n",
       "      <td>0.933457</td>\n",
       "    </tr>\n",
       "  </tbody>\n",
       "</table>\n",
       "</div>"
      ],
      "text/plain": [
       "      CellLine  siRNA       NPI\n",
       "0  ASF1A_KO_C5  ASF1A  0.933457"
      ]
     },
     "execution_count": 3,
     "metadata": {},
     "output_type": "execute_result"
    }
   ],
   "source": [
    "asf1ab_data[:1]"
   ]
  },
  {
   "cell_type": "code",
   "execution_count": 4,
   "metadata": {},
   "outputs": [
    {
     "data": {
      "image/png": "[encoded data removed]",
      "text/plain": [
       "<Figure size 210x240 with 1 Axes>"
      ]
     },
     "metadata": {},
     "output_type": "display_data"
    }
   ],
   "source": [
    "with plt.rc_context({'xtick.labelsize':9, 'xtick.bottom': False}):\n",
    "    f, ax = plt.subplots(1, 1, figsize=(2.1,2.4))\n",
    "    sns.barplot(x='siRNA', y='NPI', hue='CellLine', data=asf1ab_data, hue_order=['WT','ASF1A_KO_C5', 'ASF1B_KO'], \n",
    "                palette=['#71b6a1', '#e99575', '#95a3c3'], saturation=1, ci=None, ax=ax, zorder=0, linewidth=0)\n",
    "    sns.stripplot(x='siRNA', y='NPI', hue='CellLine', data=asf1ab_data, hue_order=['WT','ASF1A_KO_C5', 'ASF1B_KO'], \n",
    "                  ax=ax, zorder=10, color='#333', jitter=True, dodge=True, size=2.5)\n",
    "    ax.set_ylabel('Normalized Viability')\n",
    "    ax.set_ylim([0,1.2])\n",
    "    plt.tight_layout()\n",
    "    handles, labels = ax.get_legend_handles_labels()\n",
    "    _ = plt.legend(handles[3:], ['WT','ASF1A_KO', 'ASF1B_KO'], bbox_to_anchor=(1.05, 0.7), borderaxespad=0., title='Cell line')\n",
    "    #f.savefig(\"../figures/for_paper/asf1ab_validation.svg\", bbox_inches=\"tight\", dpi=300)"
   ]
  },
  {
   "cell_type": "markdown",
   "metadata": {},
   "source": [
    "### *COPS7A/COPS7B*"
   ]
  },
  {
   "cell_type": "code",
   "execution_count": 5,
   "metadata": {},
   "outputs": [],
   "source": [
    "cops7ab_data = pd.read_excel(file_validation, sheet_name=1)"
   ]
  },
  {
   "cell_type": "code",
   "execution_count": 6,
   "metadata": {},
   "outputs": [
    {
     "data": {
      "text/html": [
       "<div>\n",
       "<style scoped>\n",
       "    .dataframe tbody tr th:only-of-type {\n",
       "        vertical-align: middle;\n",
       "    }\n",
       "\n",
       "    .dataframe tbody tr th {\n",
       "        vertical-align: top;\n",
       "    }\n",
       "\n",
       "    .dataframe thead th {\n",
       "        text-align: right;\n",
       "    }\n",
       "</style>\n",
       "<table border=\"1\" class=\"dataframe\">\n",
       "  <thead>\n",
       "    <tr style=\"text-align: right;\">\n",
       "      <th></th>\n",
       "      <th>CellLine</th>\n",
       "      <th>siRNA</th>\n",
       "      <th>NPI</th>\n",
       "    </tr>\n",
       "  </thead>\n",
       "  <tbody>\n",
       "    <tr>\n",
       "      <th>0</th>\n",
       "      <td>COPS7A_KO</td>\n",
       "      <td>COPS7A</td>\n",
       "      <td>0.85275</td>\n",
       "    </tr>\n",
       "  </tbody>\n",
       "</table>\n",
       "</div>"
      ],
      "text/plain": [
       "    CellLine   siRNA      NPI\n",
       "0  COPS7A_KO  COPS7A  0.85275"
      ]
     },
     "execution_count": 6,
     "metadata": {},
     "output_type": "execute_result"
    }
   ],
   "source": [
    "cops7ab_data[:1]"
   ]
  },
  {
   "cell_type": "code",
   "execution_count": 7,
   "metadata": {},
   "outputs": [
    {
     "data": {
      "image/png": "[encoded data removed]",
      "text/plain": [
       "<Figure size 210x240 with 1 Axes>"
      ]
     },
     "metadata": {},
     "output_type": "display_data"
    }
   ],
   "source": [
    "with plt.rc_context({'xtick.labelsize':9, 'xtick.bottom': False}):\n",
    "    f, ax = plt.subplots(1, 1, figsize=(2.1,2.4))\n",
    "    sns.barplot(x='siRNA', y='NPI', hue='CellLine', data=cops7ab_data, hue_order=['WT','COPS7A_KO', 'COPS7B_KO'], \n",
    "                palette=['#71b6a1', '#e99575', '#95a3c3'], saturation=1, ci=None, ax=ax, zorder=0, linewidth=0)\n",
    "    sns.stripplot(x='siRNA', y='NPI', hue='CellLine', data=cops7ab_data, hue_order=['WT','COPS7A_KO', 'COPS7B_KO'], \n",
    "                  ax=ax, zorder=10, color='#333', jitter=True, dodge=True, size=2.5)\n",
    "    ax.set_ylabel('Normalized Viability')\n",
    "    ax.set_ylim([0,1.4])\n",
    "    plt.tight_layout()\n",
    "    handles, labels = ax.get_legend_handles_labels()\n",
    "    _ = plt.legend(handles[3:], labels[3:], bbox_to_anchor=(1.05, 0.7), borderaxespad=0., title='Cell line')\n",
    "    #f.savefig(\"../figures/for_paper/cops7ab_validation.svg\", bbox_inches=\"tight\", dpi=300)"
   ]
  },
  {
   "cell_type": "code",
   "execution_count": null,
   "metadata": {},
   "outputs": [],
   "source": []
  }
 ],
 "metadata": {
  "kernelspec": {
   "display_name": "Python 3.7.9 64-bit ('paralogSL': conda)",
   "language": "python",
   "name": "python37964bitparalogslconda0f0e77de73d34c52b743edfe8868363d"
  },
  "language_info": {
   "codemirror_mode": {
    "name": "ipython",
    "version": 3
   },
   "file_extension": ".py",
   "mimetype": "text/x-python",
   "name": "python",
   "nbconvert_exporter": "python",
   "pygments_lexer": "ipython3",
   "version": "3.7.1"
  }
 },
 "nbformat": 4,
 "nbformat_minor": 4
}
