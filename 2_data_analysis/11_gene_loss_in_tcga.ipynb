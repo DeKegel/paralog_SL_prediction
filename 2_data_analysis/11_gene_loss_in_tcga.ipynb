{
 "cells": [
  {
   "cell_type": "markdown",
   "metadata": {},
   "source": [
    "## *ASF1A* and *COPS7B* gene loss in tumour samples\n",
    "\n",
    "*ASF1A* and *COPS7B* CNA (Copy-number Alterations) data downloaded from cBioPortal  \n",
    "ASF1A: https://www.cbioportal.org/results/download?case_set_id=all&gene_list=ASF1A&cancer_study_list=5c8a7d55e4b046111fee2296  \n",
    "COPS7B: https://www.cbioportal.org/results/download?case_set_id=all&gene_list=COPS7B&cancer_study_list=5c8a7d55e4b046111fee2296\n",
    "\n",
    "TCGA study abbreviations from: https://gdc.cancer.gov/resources-tcga-users/tcga-code-tables/tcga-study-abbreviations"
   ]
  },
  {
   "cell_type": "code",
   "execution_count": 1,
   "metadata": {},
   "outputs": [],
   "source": [
    "import pandas as pd\n",
    "import numpy as np\n",
    "import scipy.stats as stats\n",
    "import seaborn as sns\n",
    "import matplotlib as mpl\n",
    "import matplotlib.pyplot as plt\n",
    "import os\n",
    "\n",
    "import graphing_params as gp\n",
    "%load_ext autoreload\n",
    "%autoreload 1\n",
    "%aimport graphing_params\n",
    "\n",
    "get_data_path = lambda folders, fname: os.path.normpath(os.environ['3RD_PARTY_DIR']+'/'+'/'.join(folders) +'/'+ fname)\n",
    "\n",
    "file_cops7b_loss = get_data_path(['cBioPortal','TCGA_PanCancer'], 'COPS7B_CNA.txt')\n",
    "file_asf1a_loss = get_data_path(['cBioPortal','TCGA_PanCancer'], 'ASF1A_CNA.txt')\n",
    "file_tcga_study_codes = get_data_path(['cBioPortal','TCGA_PanCancer'], 'tcga_study_abbreviations.txt')"
   ]
  },
  {
   "cell_type": "code",
   "execution_count": 2,
   "metadata": {},
   "outputs": [
    {
     "name": "stdout",
     "output_type": "stream",
     "text": [
      "N studies: 37\n"
     ]
    },
    {
     "data": {
      "text/html": [
       "<div>\n",
       "<style scoped>\n",
       "    .dataframe tbody tr th:only-of-type {\n",
       "        vertical-align: middle;\n",
       "    }\n",
       "\n",
       "    .dataframe tbody tr th {\n",
       "        vertical-align: top;\n",
       "    }\n",
       "\n",
       "    .dataframe thead th {\n",
       "        text-align: right;\n",
       "    }\n",
       "</style>\n",
       "<table border=\"1\" class=\"dataframe\">\n",
       "  <thead>\n",
       "    <tr style=\"text-align: right;\">\n",
       "      <th></th>\n",
       "      <th>Study Abbreviation</th>\n",
       "      <th>Study Name</th>\n",
       "    </tr>\n",
       "  </thead>\n",
       "  <tbody>\n",
       "    <tr>\n",
       "      <th>0</th>\n",
       "      <td>LAML</td>\n",
       "      <td>Acute Myeloid Leukemia</td>\n",
       "    </tr>\n",
       "  </tbody>\n",
       "</table>\n",
       "</div>"
      ],
      "text/plain": [
       "  Study Abbreviation              Study Name\n",
       "0               LAML  Acute Myeloid Leukemia"
      ]
     },
     "execution_count": 2,
     "metadata": {},
     "output_type": "execute_result"
    }
   ],
   "source": [
    "study_codes = pd.read_csv(file_tcga_study_codes, sep='\\t')\n",
    "print('N studies:', study_codes.shape[0])\n",
    "# Add code for Colorectal Adenocarcinoma\n",
    "study_codes.loc[37] = ['COADREAD','Colorectal Adenocarcinoma']\n",
    "study_codes[:1]"
   ]
  },
  {
   "cell_type": "code",
   "execution_count": 3,
   "metadata": {},
   "outputs": [
    {
     "data": {
      "text/html": [
       "<div>\n",
       "<style scoped>\n",
       "    .dataframe tbody tr th:only-of-type {\n",
       "        vertical-align: middle;\n",
       "    }\n",
       "\n",
       "    .dataframe tbody tr th {\n",
       "        vertical-align: top;\n",
       "    }\n",
       "\n",
       "    .dataframe thead th {\n",
       "        text-align: right;\n",
       "    }\n",
       "</style>\n",
       "<table border=\"1\" class=\"dataframe\">\n",
       "  <thead>\n",
       "    <tr style=\"text-align: right;\">\n",
       "      <th></th>\n",
       "      <th>Study Abbreviation</th>\n",
       "      <th>Study Name</th>\n",
       "      <th>COPS7B</th>\n",
       "    </tr>\n",
       "  </thead>\n",
       "  <tbody>\n",
       "    <tr>\n",
       "      <th>23</th>\n",
       "      <td>SARC</td>\n",
       "      <td>Sarcoma</td>\n",
       "      <td>5.490196</td>\n",
       "    </tr>\n",
       "    <tr>\n",
       "      <th>14</th>\n",
       "      <td>LGG</td>\n",
       "      <td>Brain Lower Grade Glioma</td>\n",
       "      <td>2.529183</td>\n",
       "    </tr>\n",
       "  </tbody>\n",
       "</table>\n",
       "</div>"
      ],
      "text/plain": [
       "   Study Abbreviation                Study Name    COPS7B\n",
       "23               SARC                   Sarcoma  5.490196\n",
       "14                LGG  Brain Lower Grade Glioma  2.529183"
      ]
     },
     "execution_count": 3,
     "metadata": {},
     "output_type": "execute_result"
    }
   ],
   "source": [
    "cops7b_loss = pd.read_csv(file_cops7b_loss, sep='\\t')\n",
    "cops7b_loss['Study Abbreviation'] = cops7b_loss['STUDY_ID'].apply(lambda x: x.split('_')[0].upper())\n",
    "cops7b_loss = pd.merge(cops7b_loss, study_codes)\n",
    "calc_gene_loss_percent = lambda x: sum(x==\"-2\")/x.count()*100\n",
    "cops7b_loss = cops7b_loss.groupby(['Study Abbreviation','Study Name']).agg({'COPS7B':calc_gene_loss_percent}).reset_index()\n",
    "cops7b_loss.sort_values('COPS7B', ascending=False)[:2]"
   ]
  },
  {
   "cell_type": "code",
   "execution_count": 4,
   "metadata": {},
   "outputs": [
    {
     "data": {
      "text/html": [
       "<div>\n",
       "<style scoped>\n",
       "    .dataframe tbody tr th:only-of-type {\n",
       "        vertical-align: middle;\n",
       "    }\n",
       "\n",
       "    .dataframe tbody tr th {\n",
       "        vertical-align: top;\n",
       "    }\n",
       "\n",
       "    .dataframe thead th {\n",
       "        text-align: right;\n",
       "    }\n",
       "</style>\n",
       "<table border=\"1\" class=\"dataframe\">\n",
       "  <thead>\n",
       "    <tr style=\"text-align: right;\">\n",
       "      <th></th>\n",
       "      <th>Study Abbreviation</th>\n",
       "      <th>Study Name</th>\n",
       "      <th>ASF1A</th>\n",
       "    </tr>\n",
       "  </thead>\n",
       "  <tbody>\n",
       "    <tr>\n",
       "      <th>6</th>\n",
       "      <td>DLBC</td>\n",
       "      <td>Lymphoid Neoplasm Diffuse Large B-cell Lymphoma</td>\n",
       "      <td>10.416667</td>\n",
       "    </tr>\n",
       "    <tr>\n",
       "      <th>22</th>\n",
       "      <td>PRAD</td>\n",
       "      <td>Prostate adenocarcinoma</td>\n",
       "      <td>6.275304</td>\n",
       "    </tr>\n",
       "    <tr>\n",
       "      <th>31</th>\n",
       "      <td>UVM</td>\n",
       "      <td>Uveal Melanoma</td>\n",
       "      <td>6.250000</td>\n",
       "    </tr>\n",
       "    <tr>\n",
       "      <th>1</th>\n",
       "      <td>BLCA</td>\n",
       "      <td>Bladder Urothelial Carcinoma</td>\n",
       "      <td>1.459854</td>\n",
       "    </tr>\n",
       "  </tbody>\n",
       "</table>\n",
       "</div>"
      ],
      "text/plain": [
       "   Study Abbreviation                                       Study Name  \\\n",
       "6                DLBC  Lymphoid Neoplasm Diffuse Large B-cell Lymphoma   \n",
       "22               PRAD                          Prostate adenocarcinoma   \n",
       "31                UVM                                   Uveal Melanoma   \n",
       "1                BLCA                     Bladder Urothelial Carcinoma   \n",
       "\n",
       "        ASF1A  \n",
       "6   10.416667  \n",
       "22   6.275304  \n",
       "31   6.250000  \n",
       "1    1.459854  "
      ]
     },
     "execution_count": 4,
     "metadata": {},
     "output_type": "execute_result"
    }
   ],
   "source": [
    "asf1a_loss = pd.read_csv(file_asf1a_loss, sep='\\t')\n",
    "asf1a_loss['Study Abbreviation'] = asf1a_loss['STUDY_ID'].apply(lambda x: x.split('_')[0].upper())\n",
    "asf1a_loss = pd.merge(asf1a_loss, study_codes)\n",
    "asf1a_loss = asf1a_loss.groupby(['Study Abbreviation','Study Name']).agg({'ASF1A':calc_gene_loss_percent}).reset_index()\n",
    "asf1a_loss.sort_values('ASF1A', ascending=False)[:4]"
   ]
  },
  {
   "cell_type": "code",
   "execution_count": 6,
   "metadata": {},
   "outputs": [
    {
     "data": {
      "text/html": [
       "<div>\n",
       "<style scoped>\n",
       "    .dataframe tbody tr th:only-of-type {\n",
       "        vertical-align: middle;\n",
       "    }\n",
       "\n",
       "    .dataframe tbody tr th {\n",
       "        vertical-align: top;\n",
       "    }\n",
       "\n",
       "    .dataframe thead th {\n",
       "        text-align: right;\n",
       "    }\n",
       "</style>\n",
       "<table border=\"1\" class=\"dataframe\">\n",
       "  <thead>\n",
       "    <tr style=\"text-align: right;\">\n",
       "      <th></th>\n",
       "      <th>Study Abbreviation</th>\n",
       "      <th>Study Name</th>\n",
       "      <th>gene</th>\n",
       "      <th>deletion</th>\n",
       "    </tr>\n",
       "  </thead>\n",
       "  <tbody>\n",
       "    <tr>\n",
       "      <th>0</th>\n",
       "      <td>SARC</td>\n",
       "      <td>Sarcoma</td>\n",
       "      <td>COPS7B</td>\n",
       "      <td>5.490196</td>\n",
       "    </tr>\n",
       "    <tr>\n",
       "      <th>5</th>\n",
       "      <td>DLBC</td>\n",
       "      <td>Lymphoid Neoplasm Diffuse Large B-cell Lymphoma</td>\n",
       "      <td>ASF1A</td>\n",
       "      <td>10.416667</td>\n",
       "    </tr>\n",
       "    <tr>\n",
       "      <th>6</th>\n",
       "      <td>PRAD</td>\n",
       "      <td>Prostate adenocarcinoma</td>\n",
       "      <td>ASF1A</td>\n",
       "      <td>6.275304</td>\n",
       "    </tr>\n",
       "    <tr>\n",
       "      <th>7</th>\n",
       "      <td>UVM</td>\n",
       "      <td>Uveal Melanoma</td>\n",
       "      <td>ASF1A</td>\n",
       "      <td>6.250000</td>\n",
       "    </tr>\n",
       "  </tbody>\n",
       "</table>\n",
       "</div>"
      ],
      "text/plain": [
       "  Study Abbreviation                                       Study Name    gene  \\\n",
       "0               SARC                                          Sarcoma  COPS7B   \n",
       "5               DLBC  Lymphoid Neoplasm Diffuse Large B-cell Lymphoma   ASF1A   \n",
       "6               PRAD                          Prostate adenocarcinoma   ASF1A   \n",
       "7                UVM                                   Uveal Melanoma   ASF1A   \n",
       "\n",
       "    deletion  \n",
       "0   5.490196  \n",
       "5  10.416667  \n",
       "6   6.275304  \n",
       "7   6.250000  "
      ]
     },
     "execution_count": 6,
     "metadata": {},
     "output_type": "execute_result"
    }
   ],
   "source": [
    "# Cancer types in which COPS7B/ASF1A are deleted in >5% of samples\n",
    "df = pd.concat([cops7b_loss[cops7b_loss.COPS7B>=5], asf1a_loss[asf1a_loss.ASF1A>=5]])\n",
    "df = pd.melt(df, id_vars=['Study Abbreviation','Study Name'], var_name='gene', value_name='deletion').dropna()\n",
    "df"
   ]
  },
  {
   "cell_type": "code",
   "execution_count": 46,
   "metadata": {},
   "outputs": [
    {
     "data": {
      "image/png": "[encoded data removed]",
      "text/plain": [
       "<Figure size 270x172 with 2 Axes>"
      ]
     },
     "metadata": {},
     "output_type": "display_data"
    }
   ],
   "source": [
    "f, ax = plt.subplots(2, 1, figsize=(2.7,1.72), sharex=True, gridspec_kw={'height_ratios': [1, 3]})\n",
    "ax = ax.flatten()\n",
    "\n",
    "def draw_bars(df, ax):\n",
    "    sns.barplot(y='gene', x='deletion', hue='Study Name', data=df, ax=ax, palette=[\"#b7d4ea\"],\n",
    "                saturation=1, edgecolor='#427dbd', lw=0.5)\n",
    "    ax.legend().remove()\n",
    "    \n",
    "draw_bars(df[df.gene=='COPS7B'],ax[0])\n",
    "draw_bars(df[df.gene=='ASF1A'],ax[1])\n",
    "gp.set_axis_props(ax[0], show_xticks=False, xlabel='', ylabel='', show_xaxis=False)\n",
    "gp.set_axis_props(ax[1], ylabel='', xlabel='Homozygous deletion frequency (%)')\n",
    "\n",
    "# Annotate the bars with the cancer type\n",
    "c = '#144375'\n",
    "ax[0].text(0.4, 0.04, 'Sarcoma', fontsize=8, va='center', color=c)\n",
    "ax[1].text(0.4, -0.25, 'Diffuse Large B-cell Lymphoma', fontsize=8, va='center', color=c)\n",
    "ax[1].text(0.4, 0.015, 'Prostate AdCa', fontsize=8, va='center', color=c)\n",
    "ax[1].text(0.4, 0.275, 'Uveal Melanoma', fontsize=8, va='center', color=c)\n",
    "plt.tight_layout(h_pad=0)\n",
    "\n",
    "f.savefig(\"../figures/for_paper/del_freq.svg\", bbox_inches=\"tight\", dpi=300)"
   ]
  }
 ],
 "metadata": {
  "kernelspec": {
   "display_name": "Python 3.7.9 64-bit ('paralogSL': conda)",
   "language": "python",
   "name": "python37964bitparalogslconda0f0e77de73d34c52b743edfe8868363d"
  },
  "language_info": {
   "codemirror_mode": {
    "name": "ipython",
    "version": 3
   },
   "file_extension": ".py",
   "mimetype": "text/x-python",
   "name": "python",
   "nbconvert_exporter": "python",
   "pygments_lexer": "ipython3",
   "version": "3.7.1"
  }
 },
 "nbformat": 4,
 "nbformat_minor": 4
}
