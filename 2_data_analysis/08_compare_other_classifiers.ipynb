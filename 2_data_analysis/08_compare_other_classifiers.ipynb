{
 "cells": [
  {
   "cell_type": "markdown",
   "metadata": {},
   "source": [
    "## Compare our classifier to other SL classifiers\n",
    "\n",
    "Comparisons to three other SL classifiers:\n",
    "* SINaTRA (Jacunski et al. 2015): https://doi.org/10.1371/journal.pcbi.1004506  \n",
    "* SLant (Benstead-Hume et al. 2019): https://journals.plos.org/ploscompbiol/article?id=10.1371/journal.pcbi.1006888   \n",
    "* Dual-DropoutGCN (Cai et al. 2020): https://doi.org/10.1093/bioinformatics/btaa211 / https://github.com/CXX1113/Dual-DropoutGCN\n",
    "\n",
    "**Output**: Table S7: ROC AUC and avg. precision values for four test datasets for the three other classifiers and ours"
   ]
  },
  {
   "cell_type": "code",
   "execution_count": 1,
   "metadata": {
    "tags": []
   },
   "outputs": [],
   "source": [
    "import pandas as pd\n",
    "import numpy as np\n",
    "import scipy.stats as stats\n",
    "from sklearn.metrics import roc_curve, auc, precision_recall_curve, average_precision_score, roc_auc_score\n",
    "from sklearn.ensemble import RandomForestClassifier\n",
    "import os\n",
    "import pickle\n",
    "import seaborn as sns\n",
    "import matplotlib as mpl\n",
    "import matplotlib.pyplot as plt\n",
    "\n",
    "import graphing_params as gp\n",
    "%load_ext autoreload\n",
    "%autoreload 1\n",
    "%aimport graphing_params\n",
    "\n",
    "get_data_path = lambda folders, fname: os.path.normpath(os.environ['3RD_PARTY_DIR']+'/'+'/'.join(folders) +'/'+ fname)\n",
    "get_local_data_path = lambda folders, fname: os.path.normpath('../local_data/' +'/'.join(folders) +'/'+ fname)\n",
    "\n",
    "file_features = get_local_data_path([], 'feature_list.txt')\n",
    "file_RF_model = get_local_data_path(['results'], 'RF_model.pickle')\n",
    "file_all_pairs = get_local_data_path(['processed','ensembl93'], 'all_pairs.csv')\n",
    "file_annot_pairs = get_local_data_path(['processed','paralog_features'], 'all_features.csv')\n",
    "file_depmap_pairs = get_local_data_path(['results'], 'depmap_pairs.csv')\n",
    "file_consensus_pairs = get_local_data_path(['processed', 'screen_pairs'], 'consensus_pairs.csv')\n",
    "file_all_screened_pairs = get_local_data_path(['processed', 'screen_pairs'], 'all_screened_pairs.csv')\n",
    "\n",
    "# Predictions from other classifiers\n",
    "file_sinatra_preds = lambda n: get_data_path(['sinatra'], 'JacunskiEtAl_SINaTRA_Human_Filtered_Predictions_'+str(n)+'.txt.gz')\n",
    "# From Graeme - full, un-filtered version of the predictions file that is in the Slorth DB\n",
    "file_slant_full = get_data_path(['SLant'], 'human_predictions.csv')\n",
    "file_cai_pred = get_data_path(['cai_2020'], 'case_study_k=all.csv')\n",
    "file_cai_training = get_data_path(['cai_2020'], 'SL_Human_Approved.txt')\n",
    "\n",
    "# Output\n",
    "file_table_s7 = get_local_data_path(['supplemental_files'], 'Table_S7.xlsx')"
   ]
  },
  {
   "cell_type": "markdown",
   "metadata": {},
   "source": [
    "### Load data + our RF model"
   ]
  },
  {
   "cell_type": "code",
   "execution_count": 2,
   "metadata": {
    "tags": []
   },
   "outputs": [
    {
     "name": "stdout",
     "output_type": "stream",
     "text": [
      "Num annotated pairs: 36648\n"
     ]
    },
    {
     "data": {
      "text/html": [
       "<div>\n",
       "<style scoped>\n",
       "    .dataframe tbody tr th:only-of-type {\n",
       "        vertical-align: middle;\n",
       "    }\n",
       "\n",
       "    .dataframe tbody tr th {\n",
       "        vertical-align: top;\n",
       "    }\n",
       "\n",
       "    .dataframe thead th {\n",
       "        text-align: right;\n",
       "    }\n",
       "</style>\n",
       "<table border=\"1\" class=\"dataframe\">\n",
       "  <thead>\n",
       "    <tr style=\"text-align: right;\">\n",
       "      <th></th>\n",
       "      <th>sorted_gene_pair</th>\n",
       "      <th>A1</th>\n",
       "      <th>A2</th>\n",
       "      <th>A1_ensembl</th>\n",
       "      <th>A2_ensembl</th>\n",
       "      <th>A1_entrez</th>\n",
       "      <th>A2_entrez</th>\n",
       "      <th>closest</th>\n",
       "      <th>min_sequence_identity</th>\n",
       "      <th>max_sequence_identity</th>\n",
       "      <th>...</th>\n",
       "      <th>has_cerevisiae_ortholog_ip</th>\n",
       "      <th>has_pombe_ortholog</th>\n",
       "      <th>has_essential_pombe_ortholog</th>\n",
       "      <th>has_pombe_ortholog_ip</th>\n",
       "      <th>has_single_essential_pombe_ortholog</th>\n",
       "      <th>has_ecoli_ortholog</th>\n",
       "      <th>conservation_score</th>\n",
       "      <th>mean_age</th>\n",
       "      <th>colocalisation</th>\n",
       "      <th>same_subcell_loc</th>\n",
       "    </tr>\n",
       "  </thead>\n",
       "  <tbody>\n",
       "    <tr>\n",
       "      <th>0</th>\n",
       "      <td>A1BG_OSCAR</td>\n",
       "      <td>A1BG</td>\n",
       "      <td>OSCAR</td>\n",
       "      <td>ENSG00000121410</td>\n",
       "      <td>ENSG00000170909</td>\n",
       "      <td>1</td>\n",
       "      <td>126014</td>\n",
       "      <td>False</td>\n",
       "      <td>0.127273</td>\n",
       "      <td>0.22028</td>\n",
       "      <td>...</td>\n",
       "      <td>False</td>\n",
       "      <td>False</td>\n",
       "      <td>False</td>\n",
       "      <td>False</td>\n",
       "      <td>False</td>\n",
       "      <td>False</td>\n",
       "      <td>3</td>\n",
       "      <td>210.95</td>\n",
       "      <td>0.0</td>\n",
       "      <td>False</td>\n",
       "    </tr>\n",
       "  </tbody>\n",
       "</table>\n",
       "<p>1 rows × 46 columns</p>\n",
       "</div>"
      ],
      "text/plain": [
       "  sorted_gene_pair    A1     A2       A1_ensembl       A2_ensembl  A1_entrez  \\\n",
       "0       A1BG_OSCAR  A1BG  OSCAR  ENSG00000121410  ENSG00000170909          1   \n",
       "\n",
       "   A2_entrez  closest  min_sequence_identity  max_sequence_identity  ...  \\\n",
       "0     126014    False               0.127273                0.22028  ...   \n",
       "\n",
       "   has_cerevisiae_ortholog_ip  has_pombe_ortholog  \\\n",
       "0                       False               False   \n",
       "\n",
       "   has_essential_pombe_ortholog  has_pombe_ortholog_ip  \\\n",
       "0                         False                  False   \n",
       "\n",
       "   has_single_essential_pombe_ortholog  has_ecoli_ortholog  \\\n",
       "0                                False               False   \n",
       "\n",
       "   conservation_score  mean_age  colocalisation  same_subcell_loc  \n",
       "0                   3    210.95             0.0             False  \n",
       "\n",
       "[1 rows x 46 columns]"
      ]
     },
     "execution_count": 2,
     "metadata": {},
     "output_type": "execute_result"
    }
   ],
   "source": [
    "paralog_annot = pd.read_csv(file_annot_pairs)\n",
    "print('Num annotated pairs:', paralog_annot.shape[0])\n",
    "paralog_annot[:1]"
   ]
  },
  {
   "cell_type": "code",
   "execution_count": 18,
   "metadata": {},
   "outputs": [
    {
     "name": "stdout",
     "output_type": "stream",
     "text": [
      "N: 73296\n"
     ]
    },
    {
     "data": {
      "text/html": [
       "<div>\n",
       "<style scoped>\n",
       "    .dataframe tbody tr th:only-of-type {\n",
       "        vertical-align: middle;\n",
       "    }\n",
       "\n",
       "    .dataframe tbody tr th {\n",
       "        vertical-align: top;\n",
       "    }\n",
       "\n",
       "    .dataframe thead th {\n",
       "        text-align: right;\n",
       "    }\n",
       "</style>\n",
       "<table border=\"1\" class=\"dataframe\">\n",
       "  <thead>\n",
       "    <tr style=\"text-align: right;\">\n",
       "      <th></th>\n",
       "      <th>sorted_gene_pair</th>\n",
       "      <th>A1_ensembl</th>\n",
       "      <th>A2_ensembl</th>\n",
       "      <th>sequence_identity</th>\n",
       "      <th>min_seq_id</th>\n",
       "      <th>max_seq_id</th>\n",
       "      <th>singh_wgd</th>\n",
       "      <th>makino_wgd</th>\n",
       "      <th>WGD</th>\n",
       "      <th>same_chr</th>\n",
       "      <th>closest</th>\n",
       "      <th>family_size</th>\n",
       "      <th>family_id</th>\n",
       "      <th>cds_length_ratio</th>\n",
       "      <th>A1</th>\n",
       "      <th>A1_entrez</th>\n",
       "      <th>A2</th>\n",
       "      <th>A2_entrez</th>\n",
       "    </tr>\n",
       "  </thead>\n",
       "  <tbody>\n",
       "    <tr>\n",
       "      <th>0</th>\n",
       "      <td>TEKT2_TEKT4</td>\n",
       "      <td>ENSG00000092850</td>\n",
       "      <td>ENSG00000163060</td>\n",
       "      <td>0.293023</td>\n",
       "      <td>0.289655</td>\n",
       "      <td>0.293023</td>\n",
       "      <td>False</td>\n",
       "      <td>True</td>\n",
       "      <td>True</td>\n",
       "      <td>False</td>\n",
       "      <td>False</td>\n",
       "      <td>5</td>\n",
       "      <td>0</td>\n",
       "      <td>0.988532</td>\n",
       "      <td>TEKT2</td>\n",
       "      <td>27285</td>\n",
       "      <td>TEKT4</td>\n",
       "      <td>150483</td>\n",
       "    </tr>\n",
       "  </tbody>\n",
       "</table>\n",
       "</div>"
      ],
      "text/plain": [
       "  sorted_gene_pair       A1_ensembl       A2_ensembl  sequence_identity  \\\n",
       "0      TEKT2_TEKT4  ENSG00000092850  ENSG00000163060           0.293023   \n",
       "\n",
       "   min_seq_id  max_seq_id  singh_wgd  makino_wgd   WGD  same_chr  closest  \\\n",
       "0    0.289655    0.293023      False        True  True     False    False   \n",
       "\n",
       "   family_size  family_id  cds_length_ratio     A1  A1_entrez     A2  \\\n",
       "0            5          0          0.988532  TEKT2      27285  TEKT4   \n",
       "\n",
       "   A2_entrez  \n",
       "0     150483  "
      ]
     },
     "execution_count": 18,
     "metadata": {},
     "output_type": "execute_result"
    }
   ],
   "source": [
    "all_pairs = pd.read_csv(file_all_pairs)\n",
    "all_pairs.insert(0, 'sorted_gene_pair', all_pairs.apply(lambda x: '_'.join(sorted([x.A1,x.A2])), axis=1))\n",
    "print('N:', all_pairs.shape[0])\n",
    "all_pairs[:1]"
   ]
  },
  {
   "cell_type": "code",
   "execution_count": 4,
   "metadata": {
    "tags": []
   },
   "outputs": [
    {
     "name": "stdout",
     "output_type": "stream",
     "text": [
      "N features: 22\n"
     ]
    }
   ],
   "source": [
    "features = pd.read_csv(file_features).feature.values.tolist()\n",
    "print('N features:', len(features))"
   ]
  },
  {
   "cell_type": "code",
   "execution_count": 5,
   "metadata": {},
   "outputs": [],
   "source": [
    "with open(file_RF_model, 'rb') as f:\n",
    "    RF = pickle.load(f)"
   ]
  },
  {
   "cell_type": "code",
   "execution_count": 6,
   "metadata": {},
   "outputs": [
    {
     "name": "stdout",
     "output_type": "stream",
     "text": [
      "N SL: 126 / 3634\n"
     ]
    },
    {
     "data": {
      "text/html": [
       "<div>\n",
       "<style scoped>\n",
       "    .dataframe tbody tr th:only-of-type {\n",
       "        vertical-align: middle;\n",
       "    }\n",
       "\n",
       "    .dataframe tbody tr th {\n",
       "        vertical-align: top;\n",
       "    }\n",
       "\n",
       "    .dataframe thead th {\n",
       "        text-align: right;\n",
       "    }\n",
       "</style>\n",
       "<table border=\"1\" class=\"dataframe\">\n",
       "  <thead>\n",
       "    <tr style=\"text-align: right;\">\n",
       "      <th></th>\n",
       "      <th>sorted_gene_pair</th>\n",
       "      <th>SL</th>\n",
       "      <th>A1</th>\n",
       "      <th>A2</th>\n",
       "      <th>A1_ensembl</th>\n",
       "      <th>A2_ensembl</th>\n",
       "      <th>A1_entrez</th>\n",
       "      <th>A2_entrez</th>\n",
       "      <th>closest</th>\n",
       "      <th>min_sequence_identity</th>\n",
       "      <th>...</th>\n",
       "      <th>has_cerevisiae_ortholog_ip</th>\n",
       "      <th>has_pombe_ortholog</th>\n",
       "      <th>has_essential_pombe_ortholog</th>\n",
       "      <th>has_pombe_ortholog_ip</th>\n",
       "      <th>has_single_essential_pombe_ortholog</th>\n",
       "      <th>has_ecoli_ortholog</th>\n",
       "      <th>conservation_score</th>\n",
       "      <th>mean_age</th>\n",
       "      <th>colocalisation</th>\n",
       "      <th>same_subcell_loc</th>\n",
       "    </tr>\n",
       "  </thead>\n",
       "  <tbody>\n",
       "    <tr>\n",
       "      <th>0</th>\n",
       "      <td>AAK1_BMP2K</td>\n",
       "      <td>False</td>\n",
       "      <td>AAK1</td>\n",
       "      <td>BMP2K</td>\n",
       "      <td>ENSG00000115977</td>\n",
       "      <td>ENSG00000138756</td>\n",
       "      <td>22848</td>\n",
       "      <td>55589</td>\n",
       "      <td>True</td>\n",
       "      <td>0.341947</td>\n",
       "      <td>...</td>\n",
       "      <td>True</td>\n",
       "      <td>True</td>\n",
       "      <td>False</td>\n",
       "      <td>False</td>\n",
       "      <td>False</td>\n",
       "      <td>False</td>\n",
       "      <td>7</td>\n",
       "      <td>976.25</td>\n",
       "      <td>0.0</td>\n",
       "      <td>False</td>\n",
       "    </tr>\n",
       "  </tbody>\n",
       "</table>\n",
       "<p>1 rows × 47 columns</p>\n",
       "</div>"
      ],
      "text/plain": [
       "  sorted_gene_pair     SL    A1     A2       A1_ensembl       A2_ensembl  \\\n",
       "0       AAK1_BMP2K  False  AAK1  BMP2K  ENSG00000115977  ENSG00000138756   \n",
       "\n",
       "   A1_entrez  A2_entrez  closest  min_sequence_identity  ...  \\\n",
       "0      22848      55589     True               0.341947  ...   \n",
       "\n",
       "   has_cerevisiae_ortholog_ip  has_pombe_ortholog  \\\n",
       "0                        True                True   \n",
       "\n",
       "   has_essential_pombe_ortholog  has_pombe_ortholog_ip  \\\n",
       "0                         False                  False   \n",
       "\n",
       "   has_single_essential_pombe_ortholog  has_ecoli_ortholog  \\\n",
       "0                                False               False   \n",
       "\n",
       "   conservation_score  mean_age  colocalisation  same_subcell_loc  \n",
       "0                   7    976.25             0.0             False  \n",
       "\n",
       "[1 rows x 47 columns]"
      ]
     },
     "execution_count": 6,
     "metadata": {},
     "output_type": "execute_result"
    }
   ],
   "source": [
    "depmap_pairs = pd.read_csv(file_depmap_pairs)\n",
    "depmap_pairs = pd.merge(depmap_pairs, paralog_annot)\n",
    "print('N SL:', sum(depmap_pairs.SL), '/', depmap_pairs.shape[0])\n",
    "depmap_pairs[:1]"
   ]
  },
  {
   "cell_type": "markdown",
   "metadata": {},
   "source": [
    "#### Test data"
   ]
  },
  {
   "cell_type": "code",
   "execution_count": 8,
   "metadata": {},
   "outputs": [
    {
     "name": "stdout",
     "output_type": "stream",
     "text": [
      "Screen consensus: 50 / 457\n"
     ]
    },
    {
     "data": {
      "text/html": [
       "<div>\n",
       "<style scoped>\n",
       "    .dataframe tbody tr th:only-of-type {\n",
       "        vertical-align: middle;\n",
       "    }\n",
       "\n",
       "    .dataframe tbody tr th {\n",
       "        vertical-align: top;\n",
       "    }\n",
       "\n",
       "    .dataframe thead th {\n",
       "        text-align: right;\n",
       "    }\n",
       "</style>\n",
       "<table border=\"1\" class=\"dataframe\">\n",
       "  <thead>\n",
       "    <tr style=\"text-align: right;\">\n",
       "      <th></th>\n",
       "      <th>sorted_gene_pair</th>\n",
       "      <th>n_SL_thompson</th>\n",
       "      <th>n_SL_dede</th>\n",
       "      <th>n_SL_parrish</th>\n",
       "      <th>n_SL_chymera</th>\n",
       "      <th>n_screens</th>\n",
       "      <th>n_screens_SL</th>\n",
       "      <th>SL</th>\n",
       "      <th>A1</th>\n",
       "      <th>A2</th>\n",
       "      <th>...</th>\n",
       "      <th>has_cerevisiae_ortholog_ip</th>\n",
       "      <th>has_pombe_ortholog</th>\n",
       "      <th>has_essential_pombe_ortholog</th>\n",
       "      <th>has_pombe_ortholog_ip</th>\n",
       "      <th>has_single_essential_pombe_ortholog</th>\n",
       "      <th>has_ecoli_ortholog</th>\n",
       "      <th>conservation_score</th>\n",
       "      <th>mean_age</th>\n",
       "      <th>colocalisation</th>\n",
       "      <th>same_subcell_loc</th>\n",
       "    </tr>\n",
       "  </thead>\n",
       "  <tbody>\n",
       "    <tr>\n",
       "      <th>0</th>\n",
       "      <td>CASKIN1_CASKIN2</td>\n",
       "      <td>0.0</td>\n",
       "      <td>NaN</td>\n",
       "      <td>NaN</td>\n",
       "      <td>0.0</td>\n",
       "      <td>2</td>\n",
       "      <td>0</td>\n",
       "      <td>False</td>\n",
       "      <td>CASKIN1</td>\n",
       "      <td>CASKIN2</td>\n",
       "      <td>...</td>\n",
       "      <td>False</td>\n",
       "      <td>False</td>\n",
       "      <td>False</td>\n",
       "      <td>False</td>\n",
       "      <td>False</td>\n",
       "      <td>False</td>\n",
       "      <td>6</td>\n",
       "      <td>842.0</td>\n",
       "      <td>0.0</td>\n",
       "      <td>False</td>\n",
       "    </tr>\n",
       "    <tr>\n",
       "      <th>1</th>\n",
       "      <td>DUOX1_DUOX2</td>\n",
       "      <td>0.0</td>\n",
       "      <td>NaN</td>\n",
       "      <td>0.0</td>\n",
       "      <td>NaN</td>\n",
       "      <td>2</td>\n",
       "      <td>0</td>\n",
       "      <td>False</td>\n",
       "      <td>DUOX1</td>\n",
       "      <td>DUOX2</td>\n",
       "      <td>...</td>\n",
       "      <td>False</td>\n",
       "      <td>False</td>\n",
       "      <td>False</td>\n",
       "      <td>False</td>\n",
       "      <td>False</td>\n",
       "      <td>False</td>\n",
       "      <td>6</td>\n",
       "      <td>910.0</td>\n",
       "      <td>0.0</td>\n",
       "      <td>False</td>\n",
       "    </tr>\n",
       "  </tbody>\n",
       "</table>\n",
       "<p>2 rows × 53 columns</p>\n",
       "</div>"
      ],
      "text/plain": [
       "  sorted_gene_pair  n_SL_thompson  n_SL_dede  n_SL_parrish  n_SL_chymera  \\\n",
       "0  CASKIN1_CASKIN2            0.0        NaN           NaN           0.0   \n",
       "1      DUOX1_DUOX2            0.0        NaN           0.0           NaN   \n",
       "\n",
       "   n_screens  n_screens_SL     SL       A1       A2  ...  \\\n",
       "0          2             0  False  CASKIN1  CASKIN2  ...   \n",
       "1          2             0  False    DUOX1    DUOX2  ...   \n",
       "\n",
       "  has_cerevisiae_ortholog_ip has_pombe_ortholog  has_essential_pombe_ortholog  \\\n",
       "0                      False              False                         False   \n",
       "1                      False              False                         False   \n",
       "\n",
       "   has_pombe_ortholog_ip  has_single_essential_pombe_ortholog  \\\n",
       "0                  False                                False   \n",
       "1                  False                                False   \n",
       "\n",
       "   has_ecoli_ortholog  conservation_score  mean_age  colocalisation  \\\n",
       "0               False                   6     842.0             0.0   \n",
       "1               False                   6     910.0             0.0   \n",
       "\n",
       "   same_subcell_loc  \n",
       "0             False  \n",
       "1             False  \n",
       "\n",
       "[2 rows x 53 columns]"
      ]
     },
     "execution_count": 8,
     "metadata": {},
     "output_type": "execute_result"
    }
   ],
   "source": [
    "consensus_pairs = pd.read_csv(file_consensus_pairs)\n",
    "consensus_pairs = pd.merge(consensus_pairs, paralog_annot)\n",
    "print('Screen consensus:', sum(consensus_pairs.SL), '/', consensus_pairs.shape[0])\n",
    "consensus_pairs[:2]"
   ]
  },
  {
   "cell_type": "code",
   "execution_count": 9,
   "metadata": {},
   "outputs": [
    {
     "name": "stdout",
     "output_type": "stream",
     "text": [
      "Screen consensus (unseen): 38 / 308\n"
     ]
    }
   ],
   "source": [
    "unseen_consensus_pairs = pd.merge(consensus_pairs, depmap_pairs, indicator='in_training', how='left')\n",
    "unseen_consensus_pairs = unseen_consensus_pairs[unseen_consensus_pairs.in_training!='both'].reset_index(drop=True)\n",
    "print('Screen consensus (unseen):', sum(unseen_consensus_pairs.SL), '/', unseen_consensus_pairs.shape[0])"
   ]
  },
  {
   "cell_type": "code",
   "execution_count": 10,
   "metadata": {
    "tags": []
   },
   "outputs": [
    {
     "name": "stdout",
     "output_type": "stream",
     "text": [
      "Screen hits: 224 / 1845\n"
     ]
    },
    {
     "data": {
      "text/html": [
       "<div>\n",
       "<style scoped>\n",
       "    .dataframe tbody tr th:only-of-type {\n",
       "        vertical-align: middle;\n",
       "    }\n",
       "\n",
       "    .dataframe tbody tr th {\n",
       "        vertical-align: top;\n",
       "    }\n",
       "\n",
       "    .dataframe thead th {\n",
       "        text-align: right;\n",
       "    }\n",
       "</style>\n",
       "<table border=\"1\" class=\"dataframe\">\n",
       "  <thead>\n",
       "    <tr style=\"text-align: right;\">\n",
       "      <th></th>\n",
       "      <th>sorted_gene_pair</th>\n",
       "      <th>n_SL_thompson</th>\n",
       "      <th>n_SL_dede</th>\n",
       "      <th>n_SL_parrish</th>\n",
       "      <th>n_SL_chymera</th>\n",
       "      <th>n_screens</th>\n",
       "      <th>n_screens_SL</th>\n",
       "      <th>A1</th>\n",
       "      <th>A2</th>\n",
       "      <th>A1_ensembl</th>\n",
       "      <th>...</th>\n",
       "      <th>has_pombe_ortholog</th>\n",
       "      <th>has_essential_pombe_ortholog</th>\n",
       "      <th>has_pombe_ortholog_ip</th>\n",
       "      <th>has_single_essential_pombe_ortholog</th>\n",
       "      <th>has_ecoli_ortholog</th>\n",
       "      <th>conservation_score</th>\n",
       "      <th>mean_age</th>\n",
       "      <th>colocalisation</th>\n",
       "      <th>same_subcell_loc</th>\n",
       "      <th>SL</th>\n",
       "    </tr>\n",
       "  </thead>\n",
       "  <tbody>\n",
       "    <tr>\n",
       "      <th>0</th>\n",
       "      <td>CASKIN1_CASKIN2</td>\n",
       "      <td>0.0</td>\n",
       "      <td>NaN</td>\n",
       "      <td>NaN</td>\n",
       "      <td>0.0</td>\n",
       "      <td>2</td>\n",
       "      <td>0</td>\n",
       "      <td>CASKIN1</td>\n",
       "      <td>CASKIN2</td>\n",
       "      <td>ENSG00000167971</td>\n",
       "      <td>...</td>\n",
       "      <td>False</td>\n",
       "      <td>False</td>\n",
       "      <td>False</td>\n",
       "      <td>False</td>\n",
       "      <td>False</td>\n",
       "      <td>6</td>\n",
       "      <td>842.0</td>\n",
       "      <td>0.0</td>\n",
       "      <td>False</td>\n",
       "      <td>False</td>\n",
       "    </tr>\n",
       "  </tbody>\n",
       "</table>\n",
       "<p>1 rows × 53 columns</p>\n",
       "</div>"
      ],
      "text/plain": [
       "  sorted_gene_pair  n_SL_thompson  n_SL_dede  n_SL_parrish  n_SL_chymera  \\\n",
       "0  CASKIN1_CASKIN2            0.0        NaN           NaN           0.0   \n",
       "\n",
       "   n_screens  n_screens_SL       A1       A2       A1_ensembl  ...  \\\n",
       "0          2             0  CASKIN1  CASKIN2  ENSG00000167971  ...   \n",
       "\n",
       "  has_pombe_ortholog  has_essential_pombe_ortholog  has_pombe_ortholog_ip  \\\n",
       "0              False                         False                  False   \n",
       "\n",
       "   has_single_essential_pombe_ortholog  has_ecoli_ortholog  \\\n",
       "0                                False               False   \n",
       "\n",
       "   conservation_score  mean_age  colocalisation  same_subcell_loc     SL  \n",
       "0                   6     842.0             0.0             False  False  \n",
       "\n",
       "[1 rows x 53 columns]"
      ]
     },
     "execution_count": 10,
     "metadata": {},
     "output_type": "execute_result"
    }
   ],
   "source": [
    "all_screened_pairs = pd.read_csv(file_all_screened_pairs)\n",
    "all_screened_pairs = pd.merge(all_screened_pairs, paralog_annot)\n",
    "all_screened_pairs['SL'] = all_screened_pairs.n_screens_SL >= 1\n",
    "print('Screen hits:', sum(all_screened_pairs.SL), '/', all_screened_pairs.shape[0])\n",
    "all_screened_pairs[:1]"
   ]
  },
  {
   "cell_type": "code",
   "execution_count": 11,
   "metadata": {},
   "outputs": [
    {
     "name": "stdout",
     "output_type": "stream",
     "text": [
      "Screen hits (unseen): 185 / 1399\n"
     ]
    }
   ],
   "source": [
    "unseen_screened_pairs = pd.merge(all_screened_pairs, depmap_pairs, indicator='in_training', how='left')\n",
    "unseen_screened_pairs = unseen_screened_pairs[unseen_screened_pairs.in_training!='both'].reset_index(drop=True)\n",
    "print('Screen hits (unseen):', sum(unseen_screened_pairs.SL), '/', unseen_screened_pairs.shape[0])"
   ]
  },
  {
   "cell_type": "markdown",
   "metadata": {},
   "source": [
    "### Graphing functions"
   ]
  },
  {
   "cell_type": "code",
   "execution_count": 12,
   "metadata": {},
   "outputs": [],
   "source": [
    "other_color = gp.get_color('sky-blue')\n",
    "\n",
    "def draw_roc_curve(data, ypred, ax, label='', color='black', w_seq=True, w_chance=True):\n",
    "    fpr, tpr, _ = roc_curve(data.SL, ypred)\n",
    "    ax.step(fpr, tpr, label=label+'(%.2f) ' % (auc(fpr, tpr)), color=color, zorder=10)    \n",
    "    if w_seq:\n",
    "        fpr_seq_id, tpr_seq_id, _ = roc_curve(data.SL, data.min_sequence_identity)\n",
    "        ax.step(fpr_seq_id, tpr_seq_id, label='Seq. Id. (%.2f) ' % (auc(fpr_seq_id, tpr_seq_id)), color='#E69F00')\n",
    "    if w_chance:\n",
    "        ax.plot([0, 1], [0, 1], linestyle='--', color='black', lw=mpl.rcParams['lines.linewidth'], label='Chance (0.50)')\n",
    "        ax.legend(loc=\"lower right\", bbox_to_anchor=(1.05,0), fontsize=8) \n",
    "    ax.set_xlabel('False Positive Rate'); ax.set_ylabel('True Positive Rate')\n",
    "    ax.set_ylim([-0.05,1.02]); ax.set_xlim([-0.05,1.02])\n",
    "    \n",
    "def draw_pr_curve(data, ypred, ax, label='', color='black', w_seq=True, w_chance=True, trim=False):\n",
    "    precision, recall, _ = precision_recall_curve(data.SL, ypred)\n",
    "    if trim: precision = precision[:-1]; recall = recall[:-1]\n",
    "    avg_precision = average_precision_score(data.SL, ypred)\n",
    "    line_kwargs = {\"drawstyle\": \"steps-post\"}\n",
    "    ax.plot(recall, precision, label=label+'(%.2f) ' % (avg_precision), color=color, **line_kwargs, zorder=10)\n",
    "    \n",
    "    if w_seq:\n",
    "        precision_seq_id, recall_seq_id, _ = precision_recall_curve(data.SL, data.min_sequence_identity)\n",
    "        recall_seq_id = recall_seq_id[:-1]; precision_seq_id = precision_seq_id[:-1]\n",
    "        ap_seq_id = average_precision_score(data.SL,  data.min_sequence_identity)\n",
    "        ax.plot(recall_seq_id, precision_seq_id, label='Seq. Id. (%.2f) ' % (ap_seq_id), color='#E69F00', **line_kwargs)\n",
    "    if w_chance:\n",
    "        no_skill = sum(data.SL) / (data.SL).count()\n",
    "        ax.plot([0, 1], [no_skill, no_skill], linestyle='--', color='black', label='Chance (%.2f)' % (no_skill),\n",
    "                lw=mpl.rcParams['lines.linewidth']-0.2)\n",
    "        ax.legend(loc=\"upper right\", bbox_to_anchor=(1.1,1), fontsize=8)\n",
    "    ax.set_xlabel('Recall'); ax.set_ylabel('Precision')\n",
    "    ax.set_ylim([-0.05,1.02]); ax.set_xlim([-0.05,1.02])   \n",
    "\n",
    "def draw_curves(testing_data, ypred, ypred2, ax, title, label):\n",
    "    draw_roc_curve(testing_data, ypred, ax[0], label='RF ', w_seq=False, w_chance=False)\n",
    "    draw_roc_curve(testing_data, ypred2, ax[0], label=label, color=other_color)\n",
    "    draw_pr_curve(testing_data, ypred, ax[1], label='RF ', w_seq=False, w_chance=False, trim=True)\n",
    "    draw_pr_curve(testing_data, ypred2, ax[1], label=label, color=other_color, trim=True)\n",
    "    f.suptitle(title+' (SL='+str(sum(testing_data.SL))+', non-SL='+str(sum(~testing_data.SL))+')', \n",
    "               fontsize=9, fontweight='bold', ha='center', va='baseline')"
   ]
  },
  {
   "cell_type": "code",
   "execution_count": 31,
   "metadata": {},
   "outputs": [],
   "source": [
    "def compute_metrics_for(classifier_preds, score_col, label):\n",
    "    idx = ['Unseen consensus','All screen hits', 'Unseen screen hits']\n",
    "    res_roc = pd.DataFrame(columns=['Seq. Id.', label,'RF'], index=idx)\n",
    "    res_pr = pd.DataFrame(columns=['Seq. Id.', label,'RF'], index=idx)\n",
    "    for i, pairs in enumerate([unseen_consensus_pairs, all_screened_pairs, unseen_screened_pairs]):\n",
    "        test_pairs = pd.merge(classifier_preds, pairs)\n",
    "        ypred = RF.predict_proba(test_pairs[features])[:,1]\n",
    "        res_roc.iloc[i] = [roc_auc_score(test_pairs.SL, test_pairs.min_sequence_identity),\n",
    "                           roc_auc_score(test_pairs.SL, test_pairs[score_col]), \n",
    "                           roc_auc_score(test_pairs.SL, ypred)]\n",
    "        res_pr.iloc[i] = [average_precision_score(test_pairs.SL, test_pairs.min_sequence_identity),\n",
    "                          average_precision_score(test_pairs.SL, test_pairs[score_col]),\n",
    "                          average_precision_score(test_pairs.SL, ypred)]\n",
    "    return res_roc, res_pr\n",
    "\n",
    "def draw_metrics_dot_plot(ax, res_roc, res_pr):\n",
    "    sns.pointplot(data=res_roc.reset_index().melt(id_vars='index'), x='value', y='index', hue='variable', ci=False, join=False,\n",
    "                  scale=1.1, ax=ax[0], palette=[gp.get_color('orange'), gp.get_color('sky-blue'), 'black'])\n",
    "    sns.pointplot(data=res_pr.reset_index().melt(id_vars='index'), x='value', y='index', hue='variable', ci=False, join=False,\n",
    "                  scale=1.1, ax=ax[1], palette=[gp.get_color('orange'), gp.get_color('sky-blue'), 'black'])\n",
    "    gp.set_axis_props(ax[0], xlabel='ROC AUC', ytick_fontsize=9, ylabel='')\n",
    "    gp.set_axis_props(ax[1], xlabel='Avg. precision', ylabel='', show_yticks=False)\n",
    "    ax[0].legend().remove()\n",
    "    handles, labels = ax[1].get_legend_handles_labels()\n",
    "    ax[1].legend(handles=handles[::-1], labels=labels[::-1], bbox_to_anchor=(1.1,1), facecolor='#eee', handletextpad=0.3)\n",
    "    plt.tight_layout()"
   ]
  },
  {
   "cell_type": "markdown",
   "metadata": {},
   "source": [
    "### SINaTRA"
   ]
  },
  {
   "cell_type": "code",
   "execution_count": 13,
   "metadata": {},
   "outputs": [],
   "source": [
    "sinatra_raw_1 = pd.read_csv(file_sinatra_preds(1), sep='\\t', names=['Gene_ID_1', 'Gene_ID_2', 'SINaTRA_Score'])"
   ]
  },
  {
   "cell_type": "code",
   "execution_count": 14,
   "metadata": {},
   "outputs": [],
   "source": [
    "sinatra_raw_2 = pd.read_csv(file_sinatra_preds(2), sep='\\t', names=['Gene_ID_1', 'Gene_ID_2', 'SINaTRA_Score'])"
   ]
  },
  {
   "cell_type": "code",
   "execution_count": 15,
   "metadata": {},
   "outputs": [],
   "source": [
    "sinatra_raw_3 = pd.read_csv(file_sinatra_preds(3), sep='\\t', names=['Gene_ID_1', 'Gene_ID_2', 'SINaTRA_Score'])"
   ]
  },
  {
   "cell_type": "code",
   "execution_count": 16,
   "metadata": {},
   "outputs": [
    {
     "name": "stdout",
     "output_type": "stream",
     "text": [
      "N gene pairs combined: 109358780\n"
     ]
    },
    {
     "data": {
      "text/html": [
       "<div>\n",
       "<style scoped>\n",
       "    .dataframe tbody tr th:only-of-type {\n",
       "        vertical-align: middle;\n",
       "    }\n",
       "\n",
       "    .dataframe tbody tr th {\n",
       "        vertical-align: top;\n",
       "    }\n",
       "\n",
       "    .dataframe thead th {\n",
       "        text-align: right;\n",
       "    }\n",
       "</style>\n",
       "<table border=\"1\" class=\"dataframe\">\n",
       "  <thead>\n",
       "    <tr style=\"text-align: right;\">\n",
       "      <th></th>\n",
       "      <th>Gene_ID_1</th>\n",
       "      <th>Gene_ID_2</th>\n",
       "      <th>SINaTRA_Score</th>\n",
       "    </tr>\n",
       "  </thead>\n",
       "  <tbody>\n",
       "    <tr>\n",
       "      <th>0</th>\n",
       "      <td>114785</td>\n",
       "      <td>114783</td>\n",
       "      <td>0.074</td>\n",
       "    </tr>\n",
       "  </tbody>\n",
       "</table>\n",
       "</div>"
      ],
      "text/plain": [
       "   Gene_ID_1  Gene_ID_2  SINaTRA_Score\n",
       "0     114785     114783          0.074"
      ]
     },
     "execution_count": 16,
     "metadata": {},
     "output_type": "execute_result"
    }
   ],
   "source": [
    "print('N gene pairs combined:', sinatra_raw_1.shape[0]+sinatra_raw_2.shape[0]+sinatra_raw_3.shape[0])\n",
    "sinatra_raw_1[:1]"
   ]
  },
  {
   "cell_type": "code",
   "execution_count": 19,
   "metadata": {},
   "outputs": [
    {
     "data": {
      "text/html": [
       "<div>\n",
       "<style scoped>\n",
       "    .dataframe tbody tr th:only-of-type {\n",
       "        vertical-align: middle;\n",
       "    }\n",
       "\n",
       "    .dataframe tbody tr th {\n",
       "        vertical-align: top;\n",
       "    }\n",
       "\n",
       "    .dataframe thead th {\n",
       "        text-align: right;\n",
       "    }\n",
       "</style>\n",
       "<table border=\"1\" class=\"dataframe\">\n",
       "  <thead>\n",
       "    <tr style=\"text-align: right;\">\n",
       "      <th></th>\n",
       "      <th>A1_entrez</th>\n",
       "      <th>A2_entrez</th>\n",
       "      <th>SINaTRA_Score</th>\n",
       "      <th>sorted_gene_pair</th>\n",
       "    </tr>\n",
       "  </thead>\n",
       "  <tbody>\n",
       "    <tr>\n",
       "      <th>0</th>\n",
       "      <td>114785</td>\n",
       "      <td>55777</td>\n",
       "      <td>0.068</td>\n",
       "      <td>MBD5_MBD6</td>\n",
       "    </tr>\n",
       "  </tbody>\n",
       "</table>\n",
       "</div>"
      ],
      "text/plain": [
       "   A1_entrez  A2_entrez  SINaTRA_Score sorted_gene_pair\n",
       "0     114785      55777          0.068        MBD5_MBD6"
      ]
     },
     "execution_count": 19,
     "metadata": {},
     "output_type": "execute_result"
    }
   ],
   "source": [
    "# Only keep pairs that are paralogs\n",
    "sinatra_1 = pd.merge(sinatra_raw_1.rename(columns={'Gene_ID_1':'A1_entrez', 'Gene_ID_2':'A2_entrez'}), \n",
    "                     all_pairs[['A1_entrez','A2_entrez','sorted_gene_pair']])\n",
    "sinatra_2 = pd.merge(sinatra_raw_2.rename(columns={'Gene_ID_1':'A1_entrez', 'Gene_ID_2':'A2_entrez'}), \n",
    "                     all_pairs[['A1_entrez','A2_entrez','sorted_gene_pair']])\n",
    "sinatra_3 = pd.merge(sinatra_raw_3.rename(columns={'Gene_ID_1':'A1_entrez', 'Gene_ID_2':'A2_entrez'}), \n",
    "                     all_pairs[['A1_entrez','A2_entrez','sorted_gene_pair']])\n",
    "sinatra_1[:1]"
   ]
  },
  {
   "cell_type": "code",
   "execution_count": 24,
   "metadata": {},
   "outputs": [
    {
     "name": "stdout",
     "output_type": "stream",
     "text": [
      "N paralog pairs: 20701 = 56.486%\n"
     ]
    },
    {
     "data": {
      "text/html": [
       "<div>\n",
       "<style scoped>\n",
       "    .dataframe tbody tr th:only-of-type {\n",
       "        vertical-align: middle;\n",
       "    }\n",
       "\n",
       "    .dataframe tbody tr th {\n",
       "        vertical-align: top;\n",
       "    }\n",
       "\n",
       "    .dataframe thead th {\n",
       "        text-align: right;\n",
       "    }\n",
       "</style>\n",
       "<table border=\"1\" class=\"dataframe\">\n",
       "  <thead>\n",
       "    <tr style=\"text-align: right;\">\n",
       "      <th></th>\n",
       "      <th>SINaTRA_Score</th>\n",
       "      <th>sorted_gene_pair</th>\n",
       "    </tr>\n",
       "  </thead>\n",
       "  <tbody>\n",
       "    <tr>\n",
       "      <th>0</th>\n",
       "      <td>0.068</td>\n",
       "      <td>MBD5_MBD6</td>\n",
       "    </tr>\n",
       "  </tbody>\n",
       "</table>\n",
       "</div>"
      ],
      "text/plain": [
       "   SINaTRA_Score sorted_gene_pair\n",
       "0          0.068        MBD5_MBD6"
      ]
     },
     "execution_count": 24,
     "metadata": {},
     "output_type": "execute_result"
    }
   ],
   "source": [
    "# Combine the three data sets and sort A1, A2\n",
    "sinatra_preds = pd.concat([sinatra_1, sinatra_2, sinatra_3]).drop(columns=['A1_entrez','A2_entrez']).drop_duplicates()\n",
    "print('N paralog pairs: %d = %.3f%%' % (sinatra_preds.shape[0], (sinatra_preds.shape[0]/(all_pairs.shape[0]/2))*100))\n",
    "sinatra_preds[:1]"
   ]
  },
  {
   "cell_type": "code",
   "execution_count": 51,
   "metadata": {},
   "outputs": [
    {
     "name": "stdout",
     "output_type": "stream",
     "text": [
      "Screen consensus pairs w/ SINaTRA predictions: 388 / 457\n"
     ]
    },
    {
     "data": {
      "image/png": "[encoded data removed]",
      "text/plain": [
       "<Figure size 510x260 with 2 Axes>"
      ]
     },
     "metadata": {},
     "output_type": "display_data"
    }
   ],
   "source": [
    "test_pairs = pd.merge(sinatra_preds, consensus_pairs)\n",
    "print('Screen consensus pairs w/ SINaTRA predictions:', test_pairs.shape[0], '/', consensus_pairs.shape[0])\n",
    "ypred = RF.predict_proba(test_pairs[features])[:,1]\n",
    "\n",
    "f, ax = plt.subplots(1, 2, figsize=(5.1,2.6))\n",
    "draw_curves(test_pairs, ypred, test_pairs['SINaTRA_Score'], ax, 'Screen consensus, SL in 2+ vs. 0 screens', 'SINaTRA ')\n",
    "plt.tight_layout()\n",
    "ax[1].legend(loc='upper right', bbox_to_anchor=(1.05,1.05), fontsize=8)\n",
    "f.savefig(\"../figures/for_paper/sinatra_metrics_2+.svg\", dpi=300, bbox_inches=\"tight\")"
   ]
  },
  {
   "cell_type": "code",
   "execution_count": 32,
   "metadata": {
    "scrolled": true
   },
   "outputs": [
    {
     "data": {
      "image/png": "[encoded data removed]",
      "text/plain": [
       "<Figure size 510x130 with 2 Axes>"
      ]
     },
     "metadata": {},
     "output_type": "display_data"
    }
   ],
   "source": [
    "res_roc, res_pr = compute_metrics_for(sinatra_preds, score_col='SINaTRA_Score', label='SINaTRA')\n",
    "f, ax = plt.subplots(1,2, figsize=(5.1,1.3), sharey=True)\n",
    "draw_metrics_dot_plot(ax, res_roc, res_pr)"
   ]
  },
  {
   "cell_type": "markdown",
   "metadata": {},
   "source": [
    "### SLANT"
   ]
  },
  {
   "cell_type": "code",
   "execution_count": 34,
   "metadata": {},
   "outputs": [],
   "source": [
    "slant_preds = pd.read_csv(file_slant_full, sep=' ')"
   ]
  },
  {
   "cell_type": "code",
   "execution_count": 44,
   "metadata": {},
   "outputs": [
    {
     "name": "stdout",
     "output_type": "stream",
     "text": [
      "N pairs: 6455807\n",
      "N paralog pairs: 3385 = 9.237%\n"
     ]
    },
    {
     "data": {
      "text/html": [
       "<div>\n",
       "<style scoped>\n",
       "    .dataframe tbody tr th:only-of-type {\n",
       "        vertical-align: middle;\n",
       "    }\n",
       "\n",
       "    .dataframe tbody tr th {\n",
       "        vertical-align: top;\n",
       "    }\n",
       "\n",
       "    .dataframe thead th {\n",
       "        text-align: right;\n",
       "    }\n",
       "</style>\n",
       "<table border=\"1\" class=\"dataframe\">\n",
       "  <thead>\n",
       "    <tr style=\"text-align: right;\">\n",
       "      <th></th>\n",
       "      <th>sorted_gene_pair</th>\n",
       "      <th>consensus</th>\n",
       "    </tr>\n",
       "  </thead>\n",
       "  <tbody>\n",
       "    <tr>\n",
       "      <th>0</th>\n",
       "      <td>EZR_MYLIP</td>\n",
       "      <td>0.629569</td>\n",
       "    </tr>\n",
       "  </tbody>\n",
       "</table>\n",
       "</div>"
      ],
      "text/plain": [
       "  sorted_gene_pair  consensus\n",
       "0        EZR_MYLIP   0.629569"
      ]
     },
     "execution_count": 44,
     "metadata": {},
     "output_type": "execute_result"
    }
   ],
   "source": [
    "print('N pairs:', slant_preds.shape[0])\n",
    "slant_paralog_preds = pd.merge(slant_preds.rename(columns={'gene1':'A2_ensembl','gene2':'A1_ensembl'}), all_pairs)\n",
    "slant_paralog_preds = slant_paralog_preds[['sorted_gene_pair','consensus']].drop_duplicates()\n",
    "print('N paralog pairs: %d = %.3f%%' % (slant_paralog_preds.shape[0], slant_paralog_preds.shape[0]/(all_pairs.shape[0]/2)*100))\n",
    "slant_paralog_preds[:1]"
   ]
  },
  {
   "cell_type": "code",
   "execution_count": 38,
   "metadata": {},
   "outputs": [
    {
     "name": "stdout",
     "output_type": "stream",
     "text": [
      "Screen consensus pairs w/ SLant predictions: 141 / 457\n"
     ]
    },
    {
     "data": {
      "image/png": "[encoded data removed]",
      "text/plain": [
       "<Figure size 510x260 with 2 Axes>"
      ]
     },
     "metadata": {},
     "output_type": "display_data"
    }
   ],
   "source": [
    "# Distinguishing pairs SL in 2+ vs. 0 screens\n",
    "test_pairs = pd.merge(slant_paralog_preds, consensus_pairs)\n",
    "print('Screen consensus pairs w/ SLant predictions:', test_pairs.shape[0], '/', consensus_pairs.shape[0])\n",
    "ypred = RF.predict_proba(test_pairs[features])[:,1]\n",
    "\n",
    "f, ax = plt.subplots(1, 2, figsize=(5.1,2.6))\n",
    "draw_curves(test_pairs, ypred, test_pairs['consensus'], ax, 'Screen consensus, SL in 2+ vs. 0 screens', 'SLant ')\n",
    "ax[1].legend(loc='upper right', bbox_to_anchor=(1.05,1.05), fontsize=8)\n",
    "plt.tight_layout()\n",
    "f.savefig(\"../figures/for_paper/slant_metrics_2+.svg\", dpi=300, bbox_inches=\"tight\")"
   ]
  },
  {
   "cell_type": "code",
   "execution_count": 39,
   "metadata": {},
   "outputs": [
    {
     "data": {
      "image/png": "[encoded data removed]",
      "text/plain": [
       "<Figure size 510x130 with 2 Axes>"
      ]
     },
     "metadata": {},
     "output_type": "display_data"
    }
   ],
   "source": [
    "res_roc, res_pr = compute_metrics_for(slant_paralog_preds, score_col='consensus', label='SLant')\n",
    "f, ax = plt.subplots(1,2, figsize=(5.1,1.3), sharey=True)\n",
    "draw_metrics_dot_plot(ax, res_roc, res_pr)"
   ]
  },
  {
   "cell_type": "markdown",
   "metadata": {},
   "source": [
    "### Dual-DropoutGCN (Cai et al. 2020)"
   ]
  },
  {
   "cell_type": "code",
   "execution_count": 40,
   "metadata": {},
   "outputs": [],
   "source": [
    "cai_pred_raw = pd.read_csv(file_cai_pred)"
   ]
  },
  {
   "cell_type": "code",
   "execution_count": 41,
   "metadata": {},
   "outputs": [
    {
     "name": "stdout",
     "output_type": "stream",
     "text": [
      "N gene pairs: 20297457\n"
     ]
    },
    {
     "data": {
      "text/html": [
       "<div>\n",
       "<style scoped>\n",
       "    .dataframe tbody tr th:only-of-type {\n",
       "        vertical-align: middle;\n",
       "    }\n",
       "\n",
       "    .dataframe tbody tr th {\n",
       "        vertical-align: top;\n",
       "    }\n",
       "\n",
       "    .dataframe thead th {\n",
       "        text-align: right;\n",
       "    }\n",
       "</style>\n",
       "<table border=\"1\" class=\"dataframe\">\n",
       "  <thead>\n",
       "    <tr style=\"text-align: right;\">\n",
       "      <th></th>\n",
       "      <th>Rank</th>\n",
       "      <th>Gene 1</th>\n",
       "      <th>Gene 1 Degree</th>\n",
       "      <th>Gene 2</th>\n",
       "      <th>Gene 2 Degree</th>\n",
       "      <th>Predicted likelihood</th>\n",
       "    </tr>\n",
       "  </thead>\n",
       "  <tbody>\n",
       "    <tr>\n",
       "      <th>0</th>\n",
       "      <td>1</td>\n",
       "      <td>HRAS</td>\n",
       "      <td>1458.0</td>\n",
       "      <td>NRAS</td>\n",
       "      <td>1457.0</td>\n",
       "      <td>1.0</td>\n",
       "    </tr>\n",
       "  </tbody>\n",
       "</table>\n",
       "</div>"
      ],
      "text/plain": [
       "   Rank Gene 1  Gene 1 Degree Gene 2  Gene 2 Degree  Predicted likelihood\n",
       "0     1   HRAS         1458.0   NRAS         1457.0                   1.0"
      ]
     },
     "execution_count": 41,
     "metadata": {},
     "output_type": "execute_result"
    }
   ],
   "source": [
    "print('N gene pairs:', cai_pred_raw.shape[0])\n",
    "cai_pred_raw[:1]"
   ]
  },
  {
   "cell_type": "code",
   "execution_count": 50,
   "metadata": {},
   "outputs": [
    {
     "name": "stdout",
     "output_type": "stream",
     "text": [
      "Cai et al. preds for pairs with genes not in training data: 0\n"
     ]
    }
   ],
   "source": [
    "# Check assumption that only predictions for pairs with genes in training data can be made\n",
    "cai_training = pd.read_csv(file_cai_training, sep='\\t', names=['gene1','gene2','score'])\n",
    "cai_training_genes = pd.concat([cai_training.gene1, cai_training.gene2]).drop_duplicates()\n",
    "print('Cai et al. preds for pairs with genes not in training data:',\n",
    "      cai_pred_raw[(~cai_pred_raw['Gene 1'].isin(cai_training_genes)) | \n",
    "                   (~cai_pred_raw['Gene 2'].isin(cai_training_genes))].shape[0])"
   ]
  },
  {
   "cell_type": "code",
   "execution_count": 43,
   "metadata": {},
   "outputs": [
    {
     "name": "stdout",
     "output_type": "stream",
     "text": [
      "N paralog pairs: 3672 = 10.020%\n"
     ]
    },
    {
     "data": {
      "text/html": [
       "<div>\n",
       "<style scoped>\n",
       "    .dataframe tbody tr th:only-of-type {\n",
       "        vertical-align: middle;\n",
       "    }\n",
       "\n",
       "    .dataframe tbody tr th {\n",
       "        vertical-align: top;\n",
       "    }\n",
       "\n",
       "    .dataframe thead th {\n",
       "        text-align: right;\n",
       "    }\n",
       "</style>\n",
       "<table border=\"1\" class=\"dataframe\">\n",
       "  <thead>\n",
       "    <tr style=\"text-align: right;\">\n",
       "      <th></th>\n",
       "      <th>sorted_gene_pair</th>\n",
       "      <th>Predicted likelihood</th>\n",
       "    </tr>\n",
       "  </thead>\n",
       "  <tbody>\n",
       "    <tr>\n",
       "      <th>0</th>\n",
       "      <td>HRAS_NRAS</td>\n",
       "      <td>1.0</td>\n",
       "    </tr>\n",
       "  </tbody>\n",
       "</table>\n",
       "</div>"
      ],
      "text/plain": [
       "  sorted_gene_pair  Predicted likelihood\n",
       "0        HRAS_NRAS                   1.0"
      ]
     },
     "execution_count": 43,
     "metadata": {},
     "output_type": "execute_result"
    }
   ],
   "source": [
    "cai_preds = pd.merge(cai_pred_raw.rename(columns={'Gene 1':'A1', 'Gene 2':'A2'}), all_pairs[['A1','A2','sorted_gene_pair']])\n",
    "cai_preds = cai_preds[['sorted_gene_pair','Predicted likelihood']].drop_duplicates()\n",
    "print('N paralog pairs: %d = %.3f%%' % (cai_preds.shape[0], cai_preds.shape[0]/(all_pairs.shape[0]/2)*100))\n",
    "cai_preds[:1]"
   ]
  },
  {
   "cell_type": "code",
   "execution_count": 52,
   "metadata": {},
   "outputs": [
    {
     "name": "stdout",
     "output_type": "stream",
     "text": [
      "Screen consensus pairs w/ Cai et al. predictions: 98 / 457\n"
     ]
    },
    {
     "data": {
      "image/png": "[encoded data removed]",
      "text/plain": [
       "<Figure size 510x260 with 2 Axes>"
      ]
     },
     "metadata": {},
     "output_type": "display_data"
    }
   ],
   "source": [
    "test_pairs = pd.merge(cai_preds, consensus_pairs)\n",
    "print('Screen consensus pairs w/ Cai et al. predictions:', test_pairs.shape[0], '/', consensus_pairs.shape[0])\n",
    "ypred = RF.predict_proba(test_pairs[features])[:,1]\n",
    "\n",
    "f, ax = plt.subplots(1, 2, figsize=(5.1,2.6))\n",
    "draw_curves(test_pairs, ypred, test_pairs['Predicted likelihood'], ax,'Screen consensus, SL in 2+ vs. 0 screens','Cai et al. ')\n",
    "ax[1].legend(loc='upper right', bbox_to_anchor=(1.05,1.05), fontsize=8)\n",
    "plt.tight_layout()\n",
    "f.savefig(\"../figures/for_paper/cai_metrics_2+.svg\", dpi=300, bbox_inches=\"tight\")"
   ]
  },
  {
   "cell_type": "code",
   "execution_count": 53,
   "metadata": {},
   "outputs": [
    {
     "data": {
      "image/png": "[encoded data removed]",
      "text/plain": [
       "<Figure size 510x130 with 2 Axes>"
      ]
     },
     "metadata": {},
     "output_type": "display_data"
    }
   ],
   "source": [
    "res_roc, res_pr = compute_metrics_for(cai_preds, score_col='Predicted likelihood', label='Cai et al.')\n",
    "f, ax = plt.subplots(1,2, figsize=(5.1,1.3), sharey=True)\n",
    "draw_metrics_dot_plot(ax, res_roc, res_pr)"
   ]
  },
  {
   "cell_type": "markdown",
   "metadata": {},
   "source": [
    "### Summary stats for all classifiers (Table S7)"
   ]
  },
  {
   "cell_type": "code",
   "execution_count": 54,
   "metadata": {},
   "outputs": [],
   "source": [
    "test_datasets = [consensus_pairs, all_screened_pairs, unseen_consensus_pairs, unseen_screened_pairs]\n",
    "test_dataset_labels = [\"Screen consensus\", \"All screen hits\", \"Unseen screen consensus\", \"Unseen screen hits\"]\n",
    "\n",
    "df = pd.DataFrame(columns=[\"Other_classifier\",\"Test dataset\", \"n_SL\", \"n_non_SL\",\n",
    "                           \"RF_ROC_AUC\", \"Other_ROC_AUC\", \"Seq_id_ROC_AUC\", \"RF_AP\", \"Other_AP\", \"Seq_id_AP\"])\n",
    "\n",
    "other_classifier_preds = sinatra_preds, slant_paralog_preds, cai_preds\n",
    "other_classifier_labels = ['SINaTRA', 'SLant', 'Cai et al.']\n",
    "score_cols = ['SINaTRA_Score', 'consensus', 'Predicted likelihood']\n",
    "\n",
    "for i, classifier_preds in enumerate(other_classifier_preds):\n",
    "    for j, test_data in enumerate(test_datasets):\n",
    "        test_pairs = pd.merge(classifier_preds, test_data)\n",
    "        ypred = RF.predict_proba(test_pairs[features])[:,1]\n",
    "        score_col=score_cols[i]\n",
    "        df.loc[(i*4)+j] = [other_classifier_labels[i], test_dataset_labels[j],\n",
    "                           sum(test_pairs.SL), sum(test_pairs.SL==False),\n",
    "                           roc_auc_score(test_pairs.SL, ypred),\n",
    "                           roc_auc_score(test_pairs.SL, test_pairs[score_col]),\n",
    "                           roc_auc_score(test_pairs.SL, test_pairs.min_sequence_identity),\n",
    "                           average_precision_score(test_pairs.SL, ypred),\n",
    "                           average_precision_score(test_pairs.SL, test_pairs[score_col]),\n",
    "                           average_precision_score(test_pairs.SL, test_pairs.min_sequence_identity)]\n",
    "df = df.round(decimals=2)"
   ]
  },
  {
   "cell_type": "code",
   "execution_count": 55,
   "metadata": {},
   "outputs": [
    {
     "data": {
      "text/html": [
       "<div>\n",
       "<style scoped>\n",
       "    .dataframe tbody tr th:only-of-type {\n",
       "        vertical-align: middle;\n",
       "    }\n",
       "\n",
       "    .dataframe tbody tr th {\n",
       "        vertical-align: top;\n",
       "    }\n",
       "\n",
       "    .dataframe thead th {\n",
       "        text-align: right;\n",
       "    }\n",
       "</style>\n",
       "<table border=\"1\" class=\"dataframe\">\n",
       "  <thead>\n",
       "    <tr style=\"text-align: right;\">\n",
       "      <th></th>\n",
       "      <th>Other_classifier</th>\n",
       "      <th>Test dataset</th>\n",
       "      <th>n_SL</th>\n",
       "      <th>n_non_SL</th>\n",
       "      <th>RF_ROC_AUC</th>\n",
       "      <th>Other_ROC_AUC</th>\n",
       "      <th>Seq_id_ROC_AUC</th>\n",
       "      <th>RF_AP</th>\n",
       "      <th>Other_AP</th>\n",
       "      <th>Seq_id_AP</th>\n",
       "    </tr>\n",
       "  </thead>\n",
       "  <tbody>\n",
       "    <tr>\n",
       "      <th>0</th>\n",
       "      <td>SINaTRA</td>\n",
       "      <td>Screen consensus</td>\n",
       "      <td>46</td>\n",
       "      <td>342</td>\n",
       "      <td>0.87</td>\n",
       "      <td>0.67</td>\n",
       "      <td>0.70</td>\n",
       "      <td>0.52</td>\n",
       "      <td>0.20</td>\n",
       "      <td>0.23</td>\n",
       "    </tr>\n",
       "    <tr>\n",
       "      <th>1</th>\n",
       "      <td>SINaTRA</td>\n",
       "      <td>All screen hits</td>\n",
       "      <td>202</td>\n",
       "      <td>1204</td>\n",
       "      <td>0.77</td>\n",
       "      <td>0.62</td>\n",
       "      <td>0.65</td>\n",
       "      <td>0.40</td>\n",
       "      <td>0.20</td>\n",
       "      <td>0.24</td>\n",
       "    </tr>\n",
       "    <tr>\n",
       "      <th>2</th>\n",
       "      <td>SINaTRA</td>\n",
       "      <td>Unseen screen consensus</td>\n",
       "      <td>35</td>\n",
       "      <td>229</td>\n",
       "      <td>0.84</td>\n",
       "      <td>0.67</td>\n",
       "      <td>0.69</td>\n",
       "      <td>0.49</td>\n",
       "      <td>0.22</td>\n",
       "      <td>0.24</td>\n",
       "    </tr>\n",
       "    <tr>\n",
       "      <th>3</th>\n",
       "      <td>SINaTRA</td>\n",
       "      <td>Unseen screen hits</td>\n",
       "      <td>167</td>\n",
       "      <td>876</td>\n",
       "      <td>0.73</td>\n",
       "      <td>0.62</td>\n",
       "      <td>0.62</td>\n",
       "      <td>0.36</td>\n",
       "      <td>0.22</td>\n",
       "      <td>0.25</td>\n",
       "    </tr>\n",
       "    <tr>\n",
       "      <th>4</th>\n",
       "      <td>SLant</td>\n",
       "      <td>Screen consensus</td>\n",
       "      <td>27</td>\n",
       "      <td>114</td>\n",
       "      <td>0.87</td>\n",
       "      <td>0.75</td>\n",
       "      <td>0.74</td>\n",
       "      <td>0.63</td>\n",
       "      <td>0.40</td>\n",
       "      <td>0.34</td>\n",
       "    </tr>\n",
       "    <tr>\n",
       "      <th>5</th>\n",
       "      <td>SLant</td>\n",
       "      <td>All screen hits</td>\n",
       "      <td>96</td>\n",
       "      <td>347</td>\n",
       "      <td>0.76</td>\n",
       "      <td>0.62</td>\n",
       "      <td>0.66</td>\n",
       "      <td>0.48</td>\n",
       "      <td>0.28</td>\n",
       "      <td>0.33</td>\n",
       "    </tr>\n",
       "    <tr>\n",
       "      <th>6</th>\n",
       "      <td>SLant</td>\n",
       "      <td>Unseen screen consensus</td>\n",
       "      <td>20</td>\n",
       "      <td>72</td>\n",
       "      <td>0.83</td>\n",
       "      <td>0.76</td>\n",
       "      <td>0.73</td>\n",
       "      <td>0.60</td>\n",
       "      <td>0.48</td>\n",
       "      <td>0.39</td>\n",
       "    </tr>\n",
       "    <tr>\n",
       "      <th>7</th>\n",
       "      <td>SLant</td>\n",
       "      <td>Unseen screen hits</td>\n",
       "      <td>76</td>\n",
       "      <td>236</td>\n",
       "      <td>0.70</td>\n",
       "      <td>0.62</td>\n",
       "      <td>0.62</td>\n",
       "      <td>0.41</td>\n",
       "      <td>0.33</td>\n",
       "      <td>0.34</td>\n",
       "    </tr>\n",
       "    <tr>\n",
       "      <th>8</th>\n",
       "      <td>Cai et al.</td>\n",
       "      <td>Screen consensus</td>\n",
       "      <td>22</td>\n",
       "      <td>76</td>\n",
       "      <td>0.83</td>\n",
       "      <td>0.51</td>\n",
       "      <td>0.67</td>\n",
       "      <td>0.59</td>\n",
       "      <td>0.26</td>\n",
       "      <td>0.33</td>\n",
       "    </tr>\n",
       "    <tr>\n",
       "      <th>9</th>\n",
       "      <td>Cai et al.</td>\n",
       "      <td>All screen hits</td>\n",
       "      <td>70</td>\n",
       "      <td>229</td>\n",
       "      <td>0.79</td>\n",
       "      <td>0.50</td>\n",
       "      <td>0.69</td>\n",
       "      <td>0.58</td>\n",
       "      <td>0.23</td>\n",
       "      <td>0.37</td>\n",
       "    </tr>\n",
       "    <tr>\n",
       "      <th>10</th>\n",
       "      <td>Cai et al.</td>\n",
       "      <td>Unseen screen consensus</td>\n",
       "      <td>16</td>\n",
       "      <td>47</td>\n",
       "      <td>0.78</td>\n",
       "      <td>0.60</td>\n",
       "      <td>0.64</td>\n",
       "      <td>0.57</td>\n",
       "      <td>0.34</td>\n",
       "      <td>0.35</td>\n",
       "    </tr>\n",
       "    <tr>\n",
       "      <th>11</th>\n",
       "      <td>Cai et al.</td>\n",
       "      <td>Unseen screen hits</td>\n",
       "      <td>57</td>\n",
       "      <td>155</td>\n",
       "      <td>0.76</td>\n",
       "      <td>0.52</td>\n",
       "      <td>0.67</td>\n",
       "      <td>0.56</td>\n",
       "      <td>0.27</td>\n",
       "      <td>0.41</td>\n",
       "    </tr>\n",
       "  </tbody>\n",
       "</table>\n",
       "</div>"
      ],
      "text/plain": [
       "   Other_classifier             Test dataset n_SL n_non_SL  RF_ROC_AUC  \\\n",
       "0           SINaTRA         Screen consensus   46      342        0.87   \n",
       "1           SINaTRA          All screen hits  202     1204        0.77   \n",
       "2           SINaTRA  Unseen screen consensus   35      229        0.84   \n",
       "3           SINaTRA       Unseen screen hits  167      876        0.73   \n",
       "4             SLant         Screen consensus   27      114        0.87   \n",
       "5             SLant          All screen hits   96      347        0.76   \n",
       "6             SLant  Unseen screen consensus   20       72        0.83   \n",
       "7             SLant       Unseen screen hits   76      236        0.70   \n",
       "8        Cai et al.         Screen consensus   22       76        0.83   \n",
       "9        Cai et al.          All screen hits   70      229        0.79   \n",
       "10       Cai et al.  Unseen screen consensus   16       47        0.78   \n",
       "11       Cai et al.       Unseen screen hits   57      155        0.76   \n",
       "\n",
       "    Other_ROC_AUC  Seq_id_ROC_AUC  RF_AP  Other_AP  Seq_id_AP  \n",
       "0            0.67            0.70   0.52      0.20       0.23  \n",
       "1            0.62            0.65   0.40      0.20       0.24  \n",
       "2            0.67            0.69   0.49      0.22       0.24  \n",
       "3            0.62            0.62   0.36      0.22       0.25  \n",
       "4            0.75            0.74   0.63      0.40       0.34  \n",
       "5            0.62            0.66   0.48      0.28       0.33  \n",
       "6            0.76            0.73   0.60      0.48       0.39  \n",
       "7            0.62            0.62   0.41      0.33       0.34  \n",
       "8            0.51            0.67   0.59      0.26       0.33  \n",
       "9            0.50            0.69   0.58      0.23       0.37  \n",
       "10           0.60            0.64   0.57      0.34       0.35  \n",
       "11           0.52            0.67   0.56      0.27       0.41  "
      ]
     },
     "execution_count": 55,
     "metadata": {},
     "output_type": "execute_result"
    }
   ],
   "source": [
    "df"
   ]
  },
  {
   "cell_type": "code",
   "execution_count": 56,
   "metadata": {},
   "outputs": [],
   "source": [
    "df.to_excel(file_table_s7, index=0)"
   ]
  }
 ],
 "metadata": {
  "kernelspec": {
   "display_name": "Python 3.7.9 64-bit ('paralogSL': conda)",
   "language": "python",
   "name": "python37964bitparalogslconda0f0e77de73d34c52b743edfe8868363d"
  },
  "language_info": {
   "codemirror_mode": {
    "name": "ipython",
    "version": 3
   },
   "file_extension": ".py",
   "mimetype": "text/x-python",
   "name": "python",
   "nbconvert_exporter": "python",
   "pygments_lexer": "ipython3",
   "version": "3.7.1"
  }
 },
 "nbformat": 4,
 "nbformat_minor": 4
}
