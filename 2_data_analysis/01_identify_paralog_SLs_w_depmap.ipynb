{
 "cells": [
  {
   "cell_type": "markdown",
   "metadata": {},
   "source": [
    "## Identifying putative synthetic lethal pairs using DepMap CRISPR screens\n",
    "\n",
    "**Input:**\n",
    "- gene scores processed with CERES\n",
    "- gene expression and gene mutations from the DepMap portal (20Q2)\n",
    "- processed homozygous deletions + cell lines that had copy number data\n",
    "- annotated paralogs pairs from Ensembl\n",
    "- cell line lineage annotations from DepMap\n",
    "- protein atlas annotations of tissue distribution + specificity\n",
    "\n",
    "**Output:** \n",
    "- putative (non-) synthetic lethal paralog pairs (bronze standard set)\n",
    "- Table S3: binary matrix to indicate A2 loss in each of 762 cell lines\n",
    "- Table S4: full results of testing candidate paralog pairs for association between A1 dependency and A2 loss\n",
    "\n",
    "Method: compare A1 dependency where its paralog A2 is/is not lost, using multiple regression with cell line lineage covariate.\n",
    "\n",
    "A2 lost:\n",
    "- gene expression < 1 log(TPM)\n",
    "- gene expression z-score < -4\n",
    "- LOF mutation\n",
    "- homozygous deletion supported by change in expression"
   ]
  },
  {
   "cell_type": "code",
   "execution_count": 1,
   "metadata": {},
   "outputs": [],
   "source": [
    "import numpy as np\n",
    "import pandas as pd\n",
    "import scipy.stats as stats\n",
    "from statsmodels.stats.multitest import fdrcorrection\n",
    "import statsmodels.formula.api as smf\n",
    "import os\n",
    "import re\n",
    "import seaborn as sns\n",
    "import matplotlib.pyplot as plt\n",
    "import matplotlib as mpl\n",
    "\n",
    "%load_ext autoreload\n",
    "%autoreload 1\n",
    "%aimport graphing_params\n",
    "\n",
    "get_data_path = lambda folders, fname: os.path.normpath(os.environ['3RD_PARTY_DIR']+'/'+'/'.join(folders) +'/'+fname)\n",
    "get_local_data_path = lambda folders, fname: os.path.normpath('../local_data/' +'/'.join(folders) +'/'+ fname)\n",
    "\n",
    "# Inputs\n",
    "file_gene_scores = get_local_data_path(['processed', 'depmap20Q2'], 'gene_scores_26_05_20.csv')\n",
    "file_expression = get_data_path(['depmap', '20Q2'], 'CCLE_expression.csv')\n",
    "file_mutations = get_data_path(['depmap', '20Q2'], 'CCLE_mutations.csv')\n",
    "file_cell_lines_w_cn = get_local_data_path(['processed', 'depmap20Q2'], 'ccle_gene_cn_cell_lines.csv')\n",
    "file_ccle_homdels = get_local_data_path(['processed', 'depmap20Q2'], 'ccle_homdels_w_confidence.csv')\n",
    "file_all_pairs = get_local_data_path(['processed', 'ensembl93'], 'all_pairs.csv')\n",
    "file_protein_atlas = get_data_path(['protein_atlas'], 'proteinatlas_v19.3.tsv')\n",
    "file_lineage = get_data_path(['depmap', '20Q2'], 'sample_info.csv')\n",
    "file_validate_SLs = get_local_data_path([], 'validated_SLs.txt')\n",
    "\n",
    "# Outputs\n",
    "file_A2_lost = get_local_data_path(['results'], 'A2_gene_loss_24_09_20.csv')\n",
    "file_bronze_standard = get_local_data_path(['results'], 'bronze_standard_SL_pairs_24_09_20.csv')\n",
    "file_full_tested_pairs = get_local_data_path(['results'], 'full_SL_pairs_results_24_09_20.csv')\n",
    "file_table_s3 = get_local_data_path(['supplemental_files'], 'Table_S3.csv')\n",
    "file_table_s4 = get_local_data_path(['supplemental_files'], 'Table_S4.csv')"
   ]
  },
  {
   "cell_type": "markdown",
   "metadata": {},
   "source": [
    "### Data sources"
   ]
  },
  {
   "cell_type": "markdown",
   "metadata": {},
   "source": [
    "#### CERES gene scores"
   ]
  },
  {
   "cell_type": "code",
   "execution_count": 2,
   "metadata": {},
   "outputs": [],
   "source": [
    "all_scores = pd.read_csv(file_gene_scores, index_col=0)"
   ]
  },
  {
   "cell_type": "code",
   "execution_count": 3,
   "metadata": {
    "tags": []
   },
   "outputs": [
    {
     "name": "stdout",
     "output_type": "stream",
     "text": [
      "(769, 16445)\n"
     ]
    },
    {
     "data": {
      "text/html": [
       "<div>\n",
       "<style scoped>\n",
       "    .dataframe tbody tr th:only-of-type {\n",
       "        vertical-align: middle;\n",
       "    }\n",
       "\n",
       "    .dataframe tbody tr th {\n",
       "        vertical-align: top;\n",
       "    }\n",
       "\n",
       "    .dataframe thead th {\n",
       "        text-align: right;\n",
       "    }\n",
       "</style>\n",
       "<table border=\"1\" class=\"dataframe\">\n",
       "  <thead>\n",
       "    <tr style=\"text-align: right;\">\n",
       "      <th></th>\n",
       "      <th>1</th>\n",
       "      <th>29974</th>\n",
       "      <th>2</th>\n",
       "      <th>144568</th>\n",
       "      <th>127550</th>\n",
       "      <th>53947</th>\n",
       "      <th>51146</th>\n",
       "      <th>8086</th>\n",
       "      <th>65985</th>\n",
       "      <th>13</th>\n",
       "      <th>...</th>\n",
       "      <th>221302</th>\n",
       "      <th>9183</th>\n",
       "      <th>55055</th>\n",
       "      <th>11130</th>\n",
       "      <th>79364</th>\n",
       "      <th>440590</th>\n",
       "      <th>79699</th>\n",
       "      <th>7791</th>\n",
       "      <th>23140</th>\n",
       "      <th>26009</th>\n",
       "    </tr>\n",
       "  </thead>\n",
       "  <tbody>\n",
       "    <tr>\n",
       "      <th>ACH-001382</th>\n",
       "      <td>0.652347</td>\n",
       "      <td>-0.020793</td>\n",
       "      <td>-0.270112</td>\n",
       "      <td>-0.211408</td>\n",
       "      <td>0.06271</td>\n",
       "      <td>-0.081674</td>\n",
       "      <td>0.37684</td>\n",
       "      <td>-0.767385</td>\n",
       "      <td>0.166991</td>\n",
       "      <td>0.112045</td>\n",
       "      <td>...</td>\n",
       "      <td>0.182055</td>\n",
       "      <td>-0.724872</td>\n",
       "      <td>0.499652</td>\n",
       "      <td>-0.141164</td>\n",
       "      <td>-0.336501</td>\n",
       "      <td>0.250665</td>\n",
       "      <td>-0.676302</td>\n",
       "      <td>-0.098001</td>\n",
       "      <td>-0.677497</td>\n",
       "      <td>-0.506629</td>\n",
       "    </tr>\n",
       "  </tbody>\n",
       "</table>\n",
       "<p>1 rows × 16445 columns</p>\n",
       "</div>"
      ],
      "text/plain": [
       "                   1     29974         2    144568   127550     53947  \\\n",
       "ACH-001382  0.652347 -0.020793 -0.270112 -0.211408  0.06271 -0.081674   \n",
       "\n",
       "              51146      8086     65985        13  ...    221302      9183  \\\n",
       "ACH-001382  0.37684 -0.767385  0.166991  0.112045  ...  0.182055 -0.724872   \n",
       "\n",
       "               55055     11130     79364    440590     79699      7791  \\\n",
       "ACH-001382  0.499652 -0.141164 -0.336501  0.250665 -0.676302 -0.098001   \n",
       "\n",
       "               23140     26009  \n",
       "ACH-001382 -0.677497 -0.506629  \n",
       "\n",
       "[1 rows x 16445 columns]"
      ]
     },
     "execution_count": 3,
     "metadata": {},
     "output_type": "execute_result"
    }
   ],
   "source": [
    "print(all_scores.shape)\n",
    "all_scores[:1]"
   ]
  },
  {
   "cell_type": "markdown",
   "metadata": {},
   "source": [
    "#### Gene Expression"
   ]
  },
  {
   "cell_type": "code",
   "execution_count": 5,
   "metadata": {},
   "outputs": [],
   "source": [
    "all_expr_raw = pd.read_csv(file_expression, index_col=0, sep='\\t')"
   ]
  },
  {
   "cell_type": "code",
   "execution_count": 6,
   "metadata": {},
   "outputs": [
    {
     "data": {
      "text/html": [
       "<div>\n",
       "<style scoped>\n",
       "    .dataframe tbody tr th:only-of-type {\n",
       "        vertical-align: middle;\n",
       "    }\n",
       "\n",
       "    .dataframe tbody tr th {\n",
       "        vertical-align: top;\n",
       "    }\n",
       "\n",
       "    .dataframe thead th {\n",
       "        text-align: right;\n",
       "    }\n",
       "</style>\n",
       "<table border=\"1\" class=\"dataframe\">\n",
       "  <thead>\n",
       "    <tr style=\"text-align: right;\">\n",
       "      <th></th>\n",
       "      <th>7105</th>\n",
       "      <th>64102</th>\n",
       "      <th>8813</th>\n",
       "      <th>57147</th>\n",
       "      <th>55732</th>\n",
       "      <th>2268</th>\n",
       "      <th>3075</th>\n",
       "      <th>2519</th>\n",
       "      <th>2729</th>\n",
       "      <th>4800</th>\n",
       "      <th>...</th>\n",
       "      <th>112441429</th>\n",
       "      <th>112441438</th>\n",
       "      <th>341568</th>\n",
       "      <th>112441431</th>\n",
       "      <th>729759</th>\n",
       "      <th>110599564</th>\n",
       "      <th>6905</th>\n",
       "      <th>112577462</th>\n",
       "      <th>89839</th>\n",
       "      <th>112577461</th>\n",
       "    </tr>\n",
       "  </thead>\n",
       "  <tbody>\n",
       "    <tr>\n",
       "      <th>ACH-001097</th>\n",
       "      <td>0.0</td>\n",
       "      <td>0.0</td>\n",
       "      <td>4.667324</td>\n",
       "      <td>1.761285</td>\n",
       "      <td>3.554589</td>\n",
       "      <td>4.358959</td>\n",
       "      <td>0.641546</td>\n",
       "      <td>2.201634</td>\n",
       "      <td>1.941106</td>\n",
       "      <td>2.15056</td>\n",
       "      <td>...</td>\n",
       "      <td>0.0</td>\n",
       "      <td>0.0</td>\n",
       "      <td>0.0</td>\n",
       "      <td>0.0</td>\n",
       "      <td>0.0</td>\n",
       "      <td>2.980025</td>\n",
       "      <td>5.132988</td>\n",
       "      <td>0.0</td>\n",
       "      <td>0.443607</td>\n",
       "      <td>0.0</td>\n",
       "    </tr>\n",
       "  </tbody>\n",
       "</table>\n",
       "<p>1 rows × 19144 columns</p>\n",
       "</div>"
      ],
      "text/plain": [
       "            7105  64102      8813     57147     55732      2268      3075  \\\n",
       "ACH-001097   0.0    0.0  4.667324  1.761285  3.554589  4.358959  0.641546   \n",
       "\n",
       "                2519      2729     4800  ...  112441429  112441438  341568  \\\n",
       "ACH-001097  2.201634  1.941106  2.15056  ...        0.0        0.0     0.0   \n",
       "\n",
       "            112441431  729759  110599564      6905  112577462     89839  \\\n",
       "ACH-001097        0.0     0.0   2.980025  5.132988        0.0  0.443607   \n",
       "\n",
       "            112577461  \n",
       "ACH-001097        0.0  \n",
       "\n",
       "[1 rows x 19144 columns]"
      ]
     },
     "execution_count": 6,
     "metadata": {},
     "output_type": "execute_result"
    }
   ],
   "source": [
    "get_gene_id = lambda x: re.search('[\\w-]+\\s\\((\\w+)\\)', x).group(1)\n",
    "all_expr = all_expr_raw.rename(columns=get_gene_id)\n",
    "all_expr[:1]"
   ]
  },
  {
   "cell_type": "code",
   "execution_count": 7,
   "metadata": {},
   "outputs": [
    {
     "data": {
      "text/html": [
       "<div>\n",
       "<style scoped>\n",
       "    .dataframe tbody tr th:only-of-type {\n",
       "        vertical-align: middle;\n",
       "    }\n",
       "\n",
       "    .dataframe tbody tr th {\n",
       "        vertical-align: top;\n",
       "    }\n",
       "\n",
       "    .dataframe thead th {\n",
       "        text-align: right;\n",
       "    }\n",
       "</style>\n",
       "<table border=\"1\" class=\"dataframe\">\n",
       "  <thead>\n",
       "    <tr style=\"text-align: right;\">\n",
       "      <th></th>\n",
       "      <th>7105</th>\n",
       "      <th>64102</th>\n",
       "      <th>8813</th>\n",
       "      <th>57147</th>\n",
       "      <th>55732</th>\n",
       "      <th>2268</th>\n",
       "      <th>3075</th>\n",
       "      <th>2519</th>\n",
       "      <th>2729</th>\n",
       "      <th>4800</th>\n",
       "      <th>...</th>\n",
       "      <th>112441429</th>\n",
       "      <th>112441438</th>\n",
       "      <th>341568</th>\n",
       "      <th>112441431</th>\n",
       "      <th>729759</th>\n",
       "      <th>110599564</th>\n",
       "      <th>6905</th>\n",
       "      <th>112577462</th>\n",
       "      <th>89839</th>\n",
       "      <th>112577461</th>\n",
       "    </tr>\n",
       "  </thead>\n",
       "  <tbody>\n",
       "    <tr>\n",
       "      <th>ACH-001097</th>\n",
       "      <td>-2.098497</td>\n",
       "      <td>-0.198894</td>\n",
       "      <td>-2.659021</td>\n",
       "      <td>-1.111848</td>\n",
       "      <td>-0.22196</td>\n",
       "      <td>3.173235</td>\n",
       "      <td>-0.68515</td>\n",
       "      <td>-1.59882</td>\n",
       "      <td>-2.367321</td>\n",
       "      <td>-3.015304</td>\n",
       "      <td>...</td>\n",
       "      <td>-0.027703</td>\n",
       "      <td>0</td>\n",
       "      <td>-0.167573</td>\n",
       "      <td>-0.052889</td>\n",
       "      <td>-0.452706</td>\n",
       "      <td>-0.305474</td>\n",
       "      <td>0.598535</td>\n",
       "      <td>-0.1728</td>\n",
       "      <td>-1.805753</td>\n",
       "      <td>-0.498198</td>\n",
       "    </tr>\n",
       "  </tbody>\n",
       "</table>\n",
       "<p>1 rows × 19144 columns</p>\n",
       "</div>"
      ],
      "text/plain": [
       "                7105     64102      8813     57147    55732      2268  \\\n",
       "ACH-001097 -2.098497 -0.198894 -2.659021 -1.111848 -0.22196  3.173235   \n",
       "\n",
       "               3075     2519      2729      4800  ...  112441429  112441438  \\\n",
       "ACH-001097 -0.68515 -1.59882 -2.367321 -3.015304  ...  -0.027703          0   \n",
       "\n",
       "              341568  112441431    729759  110599564      6905  112577462  \\\n",
       "ACH-001097 -0.167573  -0.052889 -0.452706  -0.305474  0.598535    -0.1728   \n",
       "\n",
       "               89839  112577461  \n",
       "ACH-001097 -1.805753  -0.498198  \n",
       "\n",
       "[1 rows x 19144 columns]"
      ]
     },
     "execution_count": 7,
     "metadata": {},
     "output_type": "execute_result"
    }
   ],
   "source": [
    "all_expr_zscored = all_expr.apply(lambda x: stats.zscore(x) if not (x==0).all() else 0)\n",
    "all_expr_zscored[:1]"
   ]
  },
  {
   "cell_type": "code",
   "execution_count": 8,
   "metadata": {
    "tags": []
   },
   "outputs": [
    {
     "name": "stdout",
     "output_type": "stream",
     "text": [
      "Overlapping cell lines fitness/expr: 763 / 769\n"
     ]
    }
   ],
   "source": [
    "print('Overlapping cell lines fitness/expr:', all_expr[all_expr.index.isin(all_scores.index)].shape[0],'/',all_scores.shape[0])"
   ]
  },
  {
   "cell_type": "markdown",
   "metadata": {},
   "source": [
    "#### Mutations"
   ]
  },
  {
   "cell_type": "code",
   "execution_count": 9,
   "metadata": {},
   "outputs": [],
   "source": [
    "all_mutations_raw = pd.read_csv(file_mutations, low_memory=False, sep='\\t')"
   ]
  },
  {
   "cell_type": "code",
   "execution_count": 10,
   "metadata": {},
   "outputs": [
    {
     "data": {
      "text/html": [
       "<div>\n",
       "<style scoped>\n",
       "    .dataframe tbody tr th:only-of-type {\n",
       "        vertical-align: middle;\n",
       "    }\n",
       "\n",
       "    .dataframe tbody tr th {\n",
       "        vertical-align: top;\n",
       "    }\n",
       "\n",
       "    .dataframe thead th {\n",
       "        text-align: right;\n",
       "    }\n",
       "</style>\n",
       "<table border=\"1\" class=\"dataframe\">\n",
       "  <thead>\n",
       "    <tr style=\"text-align: right;\">\n",
       "      <th></th>\n",
       "      <th>Hugo_Symbol</th>\n",
       "      <th>Entrez_Gene_Id</th>\n",
       "      <th>NCBI_Build</th>\n",
       "      <th>Chromosome</th>\n",
       "      <th>Start_position</th>\n",
       "      <th>End_position</th>\n",
       "      <th>Strand</th>\n",
       "      <th>Variant_Classification</th>\n",
       "      <th>Variant_Type</th>\n",
       "      <th>Reference_Allele</th>\n",
       "      <th>...</th>\n",
       "      <th>ExAC_AF</th>\n",
       "      <th>CGA_WES_AC</th>\n",
       "      <th>SangerWES_AC</th>\n",
       "      <th>SangerRecalibWES_AC</th>\n",
       "      <th>RNAseq_AC</th>\n",
       "      <th>HC_AC</th>\n",
       "      <th>RD_AC</th>\n",
       "      <th>WGS_AC</th>\n",
       "      <th>Variant_annotation</th>\n",
       "      <th>DepMap_ID</th>\n",
       "    </tr>\n",
       "  </thead>\n",
       "  <tbody>\n",
       "    <tr>\n",
       "      <th>0</th>\n",
       "      <td>A1BG</td>\n",
       "      <td>1</td>\n",
       "      <td>37</td>\n",
       "      <td>19</td>\n",
       "      <td>58858743</td>\n",
       "      <td>58858743</td>\n",
       "      <td>+</td>\n",
       "      <td>Missense_Mutation</td>\n",
       "      <td>SNP</td>\n",
       "      <td>C</td>\n",
       "      <td>...</td>\n",
       "      <td>NaN</td>\n",
       "      <td>NaN</td>\n",
       "      <td>20:16</td>\n",
       "      <td>20:16</td>\n",
       "      <td>NaN</td>\n",
       "      <td>NaN</td>\n",
       "      <td>NaN</td>\n",
       "      <td>NaN</td>\n",
       "      <td>other non-conserving</td>\n",
       "      <td>ACH-000986</td>\n",
       "    </tr>\n",
       "  </tbody>\n",
       "</table>\n",
       "<p>1 rows × 34 columns</p>\n",
       "</div>"
      ],
      "text/plain": [
       "  Hugo_Symbol  Entrez_Gene_Id  NCBI_Build Chromosome  Start_position  \\\n",
       "0        A1BG               1          37         19        58858743   \n",
       "\n",
       "   End_position Strand Variant_Classification Variant_Type Reference_Allele  \\\n",
       "0      58858743      +      Missense_Mutation          SNP                C   \n",
       "\n",
       "   ... ExAC_AF CGA_WES_AC SangerWES_AC SangerRecalibWES_AC RNAseq_AC HC_AC  \\\n",
       "0  ...     NaN        NaN        20:16               20:16       NaN   NaN   \n",
       "\n",
       "  RD_AC WGS_AC    Variant_annotation   DepMap_ID  \n",
       "0   NaN    NaN  other non-conserving  ACH-000986  \n",
       "\n",
       "[1 rows x 34 columns]"
      ]
     },
     "execution_count": 10,
     "metadata": {},
     "output_type": "execute_result"
    }
   ],
   "source": [
    "all_mutations_raw[:1]"
   ]
  },
  {
   "cell_type": "code",
   "execution_count": 11,
   "metadata": {
    "tags": []
   },
   "outputs": [
    {
     "name": "stdout",
     "output_type": "stream",
     "text": [
      "Overlapping cell lines: 767 / 769\n",
      "Any not annotated as deleterious? 0\n"
     ]
    },
    {
     "data": {
      "text/plain": [
       "Splice_Site                 43468\n",
       "Frame_Shift_Del             42362\n",
       "Nonsense_Mutation           40796\n",
       "Frame_Shift_Ins             24744\n",
       "De_novo_Start_OutOfFrame     4565\n",
       "Name: Variant_Classification, dtype: int64"
      ]
     },
     "metadata": {},
     "output_type": "display_data"
    },
    {
     "data": {
      "text/html": [
       "<div>\n",
       "<style scoped>\n",
       "    .dataframe tbody tr th:only-of-type {\n",
       "        vertical-align: middle;\n",
       "    }\n",
       "\n",
       "    .dataframe tbody tr th {\n",
       "        vertical-align: top;\n",
       "    }\n",
       "\n",
       "    .dataframe thead th {\n",
       "        text-align: right;\n",
       "    }\n",
       "</style>\n",
       "<table border=\"1\" class=\"dataframe\">\n",
       "  <thead>\n",
       "    <tr style=\"text-align: right;\">\n",
       "      <th></th>\n",
       "      <th>entrez_id</th>\n",
       "      <th>symbol</th>\n",
       "      <th>Variant_Classification</th>\n",
       "      <th>cell_line</th>\n",
       "      <th>isDeleterious</th>\n",
       "    </tr>\n",
       "  </thead>\n",
       "  <tbody>\n",
       "    <tr>\n",
       "      <th>32</th>\n",
       "      <td>1</td>\n",
       "      <td>A1BG</td>\n",
       "      <td>Nonsense_Mutation</td>\n",
       "      <td>ACH-000983</td>\n",
       "      <td>True</td>\n",
       "    </tr>\n",
       "  </tbody>\n",
       "</table>\n",
       "</div>"
      ],
      "text/plain": [
       "   entrez_id symbol Variant_Classification   cell_line isDeleterious\n",
       "32         1   A1BG      Nonsense_Mutation  ACH-000983          True"
      ]
     },
     "execution_count": 11,
     "metadata": {},
     "output_type": "execute_result"
    }
   ],
   "source": [
    "all_mutations = all_mutations_raw.rename(columns={'Entrez_Gene_Id':'entrez_id','DepMap_ID':'cell_line', 'Hugo_Symbol':'symbol'})\n",
    "all_mutations = all_mutations[['entrez_id', 'symbol', 'Variant_Classification', 'cell_line', 'isDeleterious']]\n",
    "all_mutations = all_mutations.astype({'entrez_id':'str'})\n",
    "print('Overlapping cell lines:', all_mutations[all_mutations.cell_line.isin(all_scores.index)].cell_line.nunique(), \n",
    "      '/', all_scores.shape[0])\n",
    "\n",
    "# Mutation types to consider\n",
    "lof_mutations = ['Splice_Site', 'Nonsense_Mutation', 'Frame_Shift_Del', 'Frame_Shift_Ins', 'De_novo_Start_OutOfFrame']\n",
    "mutations = all_mutations[all_mutations.Variant_Classification.isin(lof_mutations)]\n",
    "\n",
    "print('Any not annotated as deleterious?', mutations[mutations.isDeleterious==False].shape[0])\n",
    "display(mutations.Variant_Classification.value_counts())\n",
    "mutations[:1]"
   ]
  },
  {
   "cell_type": "markdown",
   "metadata": {},
   "source": [
    "#### Homozygous deletions"
   ]
  },
  {
   "cell_type": "code",
   "execution_count": 12,
   "metadata": {},
   "outputs": [
    {
     "data": {
      "text/html": [
       "<div>\n",
       "<style scoped>\n",
       "    .dataframe tbody tr th:only-of-type {\n",
       "        vertical-align: middle;\n",
       "    }\n",
       "\n",
       "    .dataframe tbody tr th {\n",
       "        vertical-align: top;\n",
       "    }\n",
       "\n",
       "    .dataframe thead th {\n",
       "        text-align: right;\n",
       "    }\n",
       "</style>\n",
       "<table border=\"1\" class=\"dataframe\">\n",
       "  <thead>\n",
       "    <tr style=\"text-align: right;\">\n",
       "      <th></th>\n",
       "      <th>cell_line</th>\n",
       "    </tr>\n",
       "  </thead>\n",
       "  <tbody>\n",
       "    <tr>\n",
       "      <th>0</th>\n",
       "      <td>ACH-000001</td>\n",
       "    </tr>\n",
       "  </tbody>\n",
       "</table>\n",
       "</div>"
      ],
      "text/plain": [
       "    cell_line\n",
       "0  ACH-000001"
      ]
     },
     "execution_count": 12,
     "metadata": {},
     "output_type": "execute_result"
    }
   ],
   "source": [
    "# Get copy number data to compute overlapping cell lines\n",
    "copy_num_cell_lines = pd.read_csv(file_cell_lines_w_cn)\n",
    "copy_num_cell_lines[:1]"
   ]
  },
  {
   "cell_type": "code",
   "execution_count": 13,
   "metadata": {
    "tags": []
   },
   "outputs": [
    {
     "name": "stdout",
     "output_type": "stream",
     "text": [
      "Overlap with score cell lines: 768 / 769\n",
      "Genes with confident HDs: 3131\n"
     ]
    },
    {
     "data": {
      "text/html": [
       "<div>\n",
       "<style scoped>\n",
       "    .dataframe tbody tr th:only-of-type {\n",
       "        vertical-align: middle;\n",
       "    }\n",
       "\n",
       "    .dataframe tbody tr th {\n",
       "        vertical-align: top;\n",
       "    }\n",
       "\n",
       "    .dataframe thead th {\n",
       "        text-align: right;\n",
       "    }\n",
       "</style>\n",
       "<table border=\"1\" class=\"dataframe\">\n",
       "  <thead>\n",
       "    <tr style=\"text-align: right;\">\n",
       "      <th></th>\n",
       "      <th>index</th>\n",
       "      <th>entrez_id</th>\n",
       "      <th>pval</th>\n",
       "      <th>tstat</th>\n",
       "      <th>del_expr</th>\n",
       "      <th>other_expr</th>\n",
       "      <th>num_homdels</th>\n",
       "      <th>confident</th>\n",
       "      <th>cell_line</th>\n",
       "    </tr>\n",
       "  </thead>\n",
       "  <tbody>\n",
       "    <tr>\n",
       "      <th>0</th>\n",
       "      <td>32</td>\n",
       "      <td>1000</td>\n",
       "      <td>0.006649</td>\n",
       "      <td>-2.718353</td>\n",
       "      <td>1.862278</td>\n",
       "      <td>3.064374</td>\n",
       "      <td>36</td>\n",
       "      <td>True</td>\n",
       "      <td>ACH-000109</td>\n",
       "    </tr>\n",
       "  </tbody>\n",
       "</table>\n",
       "</div>"
      ],
      "text/plain": [
       "   index entrez_id      pval     tstat  del_expr  other_expr  num_homdels  \\\n",
       "0     32      1000  0.006649 -2.718353  1.862278    3.064374           36   \n",
       "\n",
       "   confident   cell_line  \n",
       "0       True  ACH-000109  "
      ]
     },
     "execution_count": 13,
     "metadata": {},
     "output_type": "execute_result"
    }
   ],
   "source": [
    "all_ccle_homdels = pd.read_csv(file_ccle_homdels)\n",
    "all_ccle_homdels = all_ccle_homdels.rename(columns={'depMapID':'cell_line'}).astype({'entrez_id':'str'})\n",
    "print('Overlap with score cell lines:', all_scores.loc[all_scores.index.isin(all_ccle_homdels.cell_line),:].shape[0], '/',\n",
    "      all_scores.shape[0])\n",
    "\n",
    "# Restrict to confident homdels aka homdels supported by change in expression\n",
    "ccle_homdels = all_ccle_homdels[all_ccle_homdels.confident].reset_index()\n",
    "print('Genes with confident HDs:', ccle_homdels.entrez_id.nunique())\n",
    "ccle_homdels[:1]"
   ]
  },
  {
   "cell_type": "markdown",
   "metadata": {},
   "source": [
    "#### Paralog pairs"
   ]
  },
  {
   "cell_type": "code",
   "execution_count": 14,
   "metadata": {
    "tags": []
   },
   "outputs": [
    {
     "name": "stdout",
     "output_type": "stream",
     "text": [
      "Protein coding paralog pairs from Ensembl: 73296\n",
      "Protein coding pairs min. 20% (reciprocal) 56870\n"
     ]
    },
    {
     "data": {
      "text/html": [
       "<div>\n",
       "<style scoped>\n",
       "    .dataframe tbody tr th:only-of-type {\n",
       "        vertical-align: middle;\n",
       "    }\n",
       "\n",
       "    .dataframe tbody tr th {\n",
       "        vertical-align: top;\n",
       "    }\n",
       "\n",
       "    .dataframe thead th {\n",
       "        text-align: right;\n",
       "    }\n",
       "</style>\n",
       "<table border=\"1\" class=\"dataframe\">\n",
       "  <thead>\n",
       "    <tr style=\"text-align: right;\">\n",
       "      <th></th>\n",
       "      <th>A1_ensembl</th>\n",
       "      <th>A2_ensembl</th>\n",
       "      <th>sequence_identity</th>\n",
       "      <th>min_seq_id</th>\n",
       "      <th>max_seq_id</th>\n",
       "      <th>singh_wgd</th>\n",
       "      <th>makino_wgd</th>\n",
       "      <th>WGD</th>\n",
       "      <th>same_chr</th>\n",
       "      <th>closest</th>\n",
       "      <th>family_size</th>\n",
       "      <th>cds_length_ratio</th>\n",
       "      <th>A1</th>\n",
       "      <th>A1_entrez</th>\n",
       "      <th>A2</th>\n",
       "      <th>A2_entrez</th>\n",
       "    </tr>\n",
       "  </thead>\n",
       "  <tbody>\n",
       "    <tr>\n",
       "      <th>0</th>\n",
       "      <td>ENSG00000092850</td>\n",
       "      <td>ENSG00000163060</td>\n",
       "      <td>0.293023</td>\n",
       "      <td>0.289655</td>\n",
       "      <td>0.293023</td>\n",
       "      <td>False</td>\n",
       "      <td>True</td>\n",
       "      <td>True</td>\n",
       "      <td>False</td>\n",
       "      <td>False</td>\n",
       "      <td>5</td>\n",
       "      <td>0.988532</td>\n",
       "      <td>TEKT2</td>\n",
       "      <td>27285</td>\n",
       "      <td>TEKT4</td>\n",
       "      <td>150483</td>\n",
       "    </tr>\n",
       "  </tbody>\n",
       "</table>\n",
       "</div>"
      ],
      "text/plain": [
       "        A1_ensembl       A2_ensembl  sequence_identity  min_seq_id  \\\n",
       "0  ENSG00000092850  ENSG00000163060           0.293023    0.289655   \n",
       "\n",
       "   max_seq_id  singh_wgd  makino_wgd   WGD  same_chr  closest  family_size  \\\n",
       "0    0.293023      False        True  True     False    False            5   \n",
       "\n",
       "   cds_length_ratio     A1 A1_entrez     A2 A2_entrez  \n",
       "0          0.988532  TEKT2     27285  TEKT4    150483  "
      ]
     },
     "execution_count": 14,
     "metadata": {},
     "output_type": "execute_result"
    }
   ],
   "source": [
    "# Load all paralog pairs from Ensembl\n",
    "all_pairs = pd.read_csv(file_all_pairs)\n",
    "all_pairs = all_pairs.astype({'A1_entrez':'str', 'A2_entrez':'str'})\n",
    "print('Protein coding paralog pairs from Ensembl:', int(all_pairs.shape[0]))\n",
    "print('Protein coding pairs min. 20% (reciprocal)', int(all_pairs[all_pairs.min_seq_id>=0.2].shape[0]))\n",
    "all_pairs[:1]"
   ]
  },
  {
   "cell_type": "code",
   "execution_count": 15,
   "metadata": {
    "scrolled": false
   },
   "outputs": [
    {
     "data": {
      "text/plain": [
       "array(['TEKT2', 'TEKT1', 'TEKT5', ..., 'CLCNKB', 'CLCN1', 'CLCN7'],\n",
       "      dtype=object)"
      ]
     },
     "execution_count": 15,
     "metadata": {},
     "output_type": "execute_result"
    }
   ],
   "source": [
    "pd.concat([all_pairs.A1, all_pairs.A2]).unique()[:2000]"
   ]
  },
  {
   "cell_type": "markdown",
   "metadata": {},
   "source": [
    "#### Protein atlas tissue specificity + distribution"
   ]
  },
  {
   "cell_type": "code",
   "execution_count": 16,
   "metadata": {},
   "outputs": [],
   "source": [
    "protein_atlas_all = pd.read_csv(file_protein_atlas, sep='\\t')"
   ]
  },
  {
   "cell_type": "code",
   "execution_count": 17,
   "metadata": {
    "tags": []
   },
   "outputs": [
    {
     "name": "stdout",
     "output_type": "stream",
     "text": [
      "Pairs in atlas: 73296 / 73296\n"
     ]
    }
   ],
   "source": [
    "protein_atlas = protein_atlas_all[['Ensembl', 'Gene', 'RNA tissue specificity', 'RNA tissue distribution']]\n",
    "print('Pairs in atlas:', all_pairs[all_pairs.A1_ensembl.isin(protein_atlas.Ensembl) & \n",
    "                                   all_pairs.A2_ensembl.isin(protein_atlas.Ensembl)].shape[0], '/', all_pairs.shape[0])"
   ]
  },
  {
   "cell_type": "markdown",
   "metadata": {},
   "source": [
    "#### Cell line lineage"
   ]
  },
  {
   "cell_type": "code",
   "execution_count": 18,
   "metadata": {
    "tags": []
   },
   "outputs": [
    {
     "name": "stdout",
     "output_type": "stream",
     "text": [
      "769 / 769\n"
     ]
    },
    {
     "data": {
      "text/html": [
       "<div>\n",
       "<style scoped>\n",
       "    .dataframe tbody tr th:only-of-type {\n",
       "        vertical-align: middle;\n",
       "    }\n",
       "\n",
       "    .dataframe tbody tr th {\n",
       "        vertical-align: top;\n",
       "    }\n",
       "\n",
       "    .dataframe thead th {\n",
       "        text-align: right;\n",
       "    }\n",
       "</style>\n",
       "<table border=\"1\" class=\"dataframe\">\n",
       "  <thead>\n",
       "    <tr style=\"text-align: right;\">\n",
       "      <th></th>\n",
       "      <th>cell_line</th>\n",
       "      <th>lineage</th>\n",
       "    </tr>\n",
       "  </thead>\n",
       "  <tbody>\n",
       "    <tr>\n",
       "      <th>0</th>\n",
       "      <td>ACH-000001</td>\n",
       "      <td>ovary</td>\n",
       "    </tr>\n",
       "    <tr>\n",
       "      <th>1</th>\n",
       "      <td>ACH-000002</td>\n",
       "      <td>blood</td>\n",
       "    </tr>\n",
       "  </tbody>\n",
       "</table>\n",
       "</div>"
      ],
      "text/plain": [
       "    cell_line lineage\n",
       "0  ACH-000001   ovary\n",
       "1  ACH-000002   blood"
      ]
     },
     "execution_count": 18,
     "metadata": {},
     "output_type": "execute_result"
    }
   ],
   "source": [
    "cell_line_lineage = pd.read_csv(file_lineage)\n",
    "cell_line_lineage = cell_line_lineage[['DepMap_ID', 'lineage']].rename(columns={'DepMap_ID':'cell_line'})\n",
    "print(cell_line_lineage[cell_line_lineage.cell_line.isin(all_scores.index)].shape[0], '/', all_scores.shape[0])\n",
    "cell_line_lineage[:2]"
   ]
  },
  {
   "cell_type": "code",
   "execution_count": 19,
   "metadata": {},
   "outputs": [
    {
     "data": {
      "text/plain": [
       "Text(0.5, 0, 'Count')"
      ]
     },
     "execution_count": 19,
     "metadata": {},
     "output_type": "execute_result"
    },
    {
     "data": {
      "image/png": "[encoded data removed]",
      "text/plain": [
       "<Figure size 300x400 with 1 Axes>"
      ]
     },
     "metadata": {},
     "output_type": "display_data"
    }
   ],
   "source": [
    "f, ax = plt.subplots(1, 1, figsize=(3,4))\n",
    "sns.barplot(x='lineage', y='index', ax=ax, color=sns.color_palette('Blues')[3],\n",
    "            data=cell_line_lineage[cell_line_lineage.cell_line.isin(all_scores.index)].lineage.value_counts().reset_index())\n",
    "ax.set_ylabel(''); ax.set_xlabel('Count')"
   ]
  },
  {
   "cell_type": "markdown",
   "metadata": {},
   "source": [
    "### Derive candidate paralog pairs\n",
    "\n",
    "- Min seq id >= 20%\n",
    "- Family size <= 20\n",
    "- A1 and A2 are broadly expressed:\n",
    "    - RNA tissue distribution = 'Detected in all' OR\n",
    "    - RNA tissue distribution = 'Detected in many' AND RNA tissue specificity = Low specificity', 'Not detected'\n",
    "- A1 is in CERES scores data frame\n",
    "- A2 lost in min. 10 (max 90%) cell lines"
   ]
  },
  {
   "cell_type": "code",
   "execution_count": 20,
   "metadata": {
    "tags": []
   },
   "outputs": [
    {
     "name": "stdout",
     "output_type": "stream",
     "text": [
      "Cell lines to use: 762 / 769\n"
     ]
    }
   ],
   "source": [
    "# Use scores for cell lines that were included in expr + mutation + copy number data sets\n",
    "scores = all_scores.loc[all_scores.index.isin(all_expr.index) & all_scores.index.isin(all_mutations.cell_line) &\n",
    "                        all_scores.index.isin(copy_num_cell_lines.cell_line), :]\n",
    "print('Cell lines to use:', scores.shape[0], '/', all_scores.shape[0])"
   ]
  },
  {
   "cell_type": "code",
   "execution_count": 21,
   "metadata": {
    "tags": []
   },
   "outputs": [
    {
     "name": "stdout",
     "output_type": "stream",
     "text": [
      "Num pairs to test after first filtering applied: 9638 -- unique: 5271\n",
      "Num A2s in this list: 4468\n"
     ]
    },
    {
     "data": {
      "text/html": [
       "<div>\n",
       "<style scoped>\n",
       "    .dataframe tbody tr th:only-of-type {\n",
       "        vertical-align: middle;\n",
       "    }\n",
       "\n",
       "    .dataframe tbody tr th {\n",
       "        vertical-align: top;\n",
       "    }\n",
       "\n",
       "    .dataframe thead th {\n",
       "        text-align: right;\n",
       "    }\n",
       "</style>\n",
       "<table border=\"1\" class=\"dataframe\">\n",
       "  <thead>\n",
       "    <tr style=\"text-align: right;\">\n",
       "      <th></th>\n",
       "      <th>A1_ensembl</th>\n",
       "      <th>A2_ensembl</th>\n",
       "      <th>sequence_identity</th>\n",
       "      <th>min_seq_id</th>\n",
       "      <th>max_seq_id</th>\n",
       "      <th>singh_wgd</th>\n",
       "      <th>makino_wgd</th>\n",
       "      <th>WGD</th>\n",
       "      <th>same_chr</th>\n",
       "      <th>closest</th>\n",
       "      <th>family_size</th>\n",
       "      <th>cds_length_ratio</th>\n",
       "      <th>A1</th>\n",
       "      <th>A1_entrez</th>\n",
       "      <th>A2</th>\n",
       "      <th>A2_entrez</th>\n",
       "    </tr>\n",
       "  </thead>\n",
       "  <tbody>\n",
       "    <tr>\n",
       "      <th>0</th>\n",
       "      <td>ENSG00000013503</td>\n",
       "      <td>ENSG00000047315</td>\n",
       "      <td>0.394528</td>\n",
       "      <td>0.38075</td>\n",
       "      <td>0.394528</td>\n",
       "      <td>False</td>\n",
       "      <td>False</td>\n",
       "      <td>False</td>\n",
       "      <td>False</td>\n",
       "      <td>True</td>\n",
       "      <td>2</td>\n",
       "      <td>0.965106</td>\n",
       "      <td>POLR3B</td>\n",
       "      <td>55703</td>\n",
       "      <td>POLR2B</td>\n",
       "      <td>5431</td>\n",
       "    </tr>\n",
       "  </tbody>\n",
       "</table>\n",
       "</div>"
      ],
      "text/plain": [
       "        A1_ensembl       A2_ensembl  sequence_identity  min_seq_id  \\\n",
       "0  ENSG00000013503  ENSG00000047315           0.394528     0.38075   \n",
       "\n",
       "   max_seq_id  singh_wgd  makino_wgd    WGD  same_chr  closest  family_size  \\\n",
       "0    0.394528      False       False  False     False     True            2   \n",
       "\n",
       "   cds_length_ratio      A1 A1_entrez      A2 A2_entrez  \n",
       "0          0.965106  POLR3B     55703  POLR2B      5431  "
      ]
     },
     "execution_count": 21,
     "metadata": {},
     "output_type": "execute_result"
    }
   ],
   "source": [
    "# Filter for genes that are broadly expressed (not tissue specific)\n",
    "protein_atlas_filter = protein_atlas[protein_atlas['RNA tissue distribution'].isin(['Detected in all']) |\n",
    "                                     (protein_atlas['RNA tissue distribution'].isin(['Detected in many']) &\n",
    "                                      protein_atlas['RNA tissue specificity'].isin(['Low tissue specificity','Not detected']))]\n",
    "\n",
    "pairs_to_test = all_pairs[(all_pairs.min_seq_id >= 0.2) & (all_pairs.family_size <= 20) &\n",
    "                          all_pairs.A1_entrez.isin(scores.columns) &\n",
    "                          all_pairs.A1_ensembl.isin(protein_atlas_filter.Ensembl) &\n",
    "                          all_pairs.A2_ensembl.isin(protein_atlas_filter.Ensembl)].reset_index(drop=True)\n",
    "\n",
    "print('Num pairs to test after first filtering applied:', pairs_to_test.shape[0], '-- unique:',\n",
    "      pd.DataFrame(np.sort(pairs_to_test[['A1','A2']])).drop_duplicates().shape[0])\n",
    "print('Num A2s in this list:', pairs_to_test.A2.nunique())\n",
    "pairs_to_test[:1]"
   ]
  },
  {
   "cell_type": "markdown",
   "metadata": {},
   "source": [
    "#### Call A2 gene loss\n",
    "Output is saved, so no need to re-run"
   ]
  },
  {
   "cell_type": "code",
   "execution_count": 23,
   "metadata": {},
   "outputs": [],
   "source": [
    "# Compute gene loss for an individual gene, cell lines should be a Series, gene_id = entrez id\n",
    "def call_gene_loss(gene_id, cell_lines):\n",
    "    A2_expr = all_expr.loc[:, gene_id]\n",
    "    A2_expr_z = all_expr_zscored.loc[:, gene_id]\n",
    "    results = pd.Series(cell_lines.isin(mutations[mutations.entrez_id==gene_id].cell_line) | \n",
    "                        cell_lines.isin(ccle_homdels[ccle_homdels.entrez_id==gene_id].cell_line) |\n",
    "                        cell_lines.isin(A2_expr[A2_expr < 1].index) |\n",
    "                        cell_lines.isin(A2_expr_z[A2_expr_z < -4].index))\n",
    "    results.index = list(cell_lines)\n",
    "    return results\n",
    "\n",
    "# Only consider the 762 cell lines for which there is data from all 4 sources\n",
    "cell_lines = pd.Series(sorted(scores.index.values))\n",
    "\n",
    "# Compute loss (T/F) across all cell lines for all unique A2 genes in the candidate pairs\n",
    "unique_A2s = pairs_to_test[['A2_entrez']].drop_duplicates().A2_entrez\n",
    "A2_lost_df = unique_A2s.apply(call_gene_loss, args=(cell_lines,))\n",
    "A2_lost_df.index = unique_A2s.values"
   ]
  },
  {
   "cell_type": "code",
   "execution_count": 67,
   "metadata": {},
   "outputs": [
    {
     "data": {
      "text/html": [
       "<div>\n",
       "<style scoped>\n",
       "    .dataframe tbody tr th:only-of-type {\n",
       "        vertical-align: middle;\n",
       "    }\n",
       "\n",
       "    .dataframe tbody tr th {\n",
       "        vertical-align: top;\n",
       "    }\n",
       "\n",
       "    .dataframe thead th {\n",
       "        text-align: right;\n",
       "    }\n",
       "</style>\n",
       "<table border=\"1\" class=\"dataframe\">\n",
       "  <thead>\n",
       "    <tr style=\"text-align: right;\">\n",
       "      <th></th>\n",
       "      <th>ACH-000004</th>\n",
       "      <th>ACH-000005</th>\n",
       "      <th>ACH-000007</th>\n",
       "      <th>ACH-000009</th>\n",
       "      <th>ACH-000011</th>\n",
       "      <th>ACH-000012</th>\n",
       "      <th>ACH-000013</th>\n",
       "      <th>ACH-000014</th>\n",
       "      <th>ACH-000015</th>\n",
       "      <th>ACH-000017</th>\n",
       "      <th>...</th>\n",
       "      <th>ACH-001960</th>\n",
       "      <th>ACH-001997</th>\n",
       "      <th>ACH-001999</th>\n",
       "      <th>ACH-002001</th>\n",
       "      <th>ACH-002002</th>\n",
       "      <th>ACH-002003</th>\n",
       "      <th>ACH-002004</th>\n",
       "      <th>ACH-002005</th>\n",
       "      <th>ACH-002015</th>\n",
       "      <th>ACH-002016</th>\n",
       "    </tr>\n",
       "  </thead>\n",
       "  <tbody>\n",
       "    <tr>\n",
       "      <th>5431</th>\n",
       "      <td>False</td>\n",
       "      <td>False</td>\n",
       "      <td>False</td>\n",
       "      <td>False</td>\n",
       "      <td>False</td>\n",
       "      <td>False</td>\n",
       "      <td>False</td>\n",
       "      <td>True</td>\n",
       "      <td>False</td>\n",
       "      <td>False</td>\n",
       "      <td>...</td>\n",
       "      <td>False</td>\n",
       "      <td>False</td>\n",
       "      <td>False</td>\n",
       "      <td>False</td>\n",
       "      <td>False</td>\n",
       "      <td>False</td>\n",
       "      <td>False</td>\n",
       "      <td>False</td>\n",
       "      <td>False</td>\n",
       "      <td>False</td>\n",
       "    </tr>\n",
       "  </tbody>\n",
       "</table>\n",
       "<p>1 rows × 762 columns</p>\n",
       "</div>"
      ],
      "text/plain": [
       "      ACH-000004  ACH-000005  ACH-000007  ACH-000009  ACH-000011  ACH-000012  \\\n",
       "5431       False       False       False       False       False       False   \n",
       "\n",
       "      ACH-000013  ACH-000014  ACH-000015  ACH-000017  ...  ACH-001960  \\\n",
       "5431       False        True       False       False  ...       False   \n",
       "\n",
       "      ACH-001997  ACH-001999  ACH-002001  ACH-002002  ACH-002003  ACH-002004  \\\n",
       "5431       False       False       False       False       False       False   \n",
       "\n",
       "      ACH-002005  ACH-002015  ACH-002016  \n",
       "5431       False       False       False  \n",
       "\n",
       "[1 rows x 762 columns]"
      ]
     },
     "execution_count": 67,
     "metadata": {},
     "output_type": "execute_result"
    }
   ],
   "source": [
    "assert(A2_lost_df.shape[1] == scores.shape[0])\n",
    "assert(A2_lost_df.shape[0] == pairs_to_test.A2.nunique())\n",
    "A2_lost_df.to_csv(file_A2_lost)\n",
    "A2_lost_df[:1]"
   ]
  },
  {
   "cell_type": "code",
   "execution_count": 29,
   "metadata": {
    "tags": []
   },
   "outputs": [
    {
     "data": {
      "text/html": [
       "<div>\n",
       "<style scoped>\n",
       "    .dataframe tbody tr th:only-of-type {\n",
       "        vertical-align: middle;\n",
       "    }\n",
       "\n",
       "    .dataframe tbody tr th {\n",
       "        vertical-align: top;\n",
       "    }\n",
       "\n",
       "    .dataframe thead th {\n",
       "        text-align: right;\n",
       "    }\n",
       "</style>\n",
       "<table border=\"1\" class=\"dataframe\">\n",
       "  <thead>\n",
       "    <tr style=\"text-align: right;\">\n",
       "      <th></th>\n",
       "      <th>A2</th>\n",
       "      <th>A2_entrez</th>\n",
       "      <th>n_A2_lost</th>\n",
       "    </tr>\n",
       "  </thead>\n",
       "  <tbody>\n",
       "    <tr>\n",
       "      <th>0</th>\n",
       "      <td>POLR2B</td>\n",
       "      <td>5431</td>\n",
       "      <td>18</td>\n",
       "    </tr>\n",
       "  </tbody>\n",
       "</table>\n",
       "</div>"
      ],
      "text/plain": [
       "       A2 A2_entrez  n_A2_lost\n",
       "0  POLR2B      5431         18"
      ]
     },
     "metadata": {},
     "output_type": "display_data"
    }
   ],
   "source": [
    "# Create summary table from A2 lost dataframe\n",
    "A2_lost = A2_lost_df.sum(axis=1).reset_index().rename(columns={'index':'A2_entrez', 0:'n_A2_lost'})\n",
    "A2_lost = pd.merge(pairs_to_test[['A2','A2_entrez']], A2_lost)\n",
    "display(A2_lost[:1])"
   ]
  },
  {
   "cell_type": "code",
   "execution_count": 30,
   "metadata": {
    "tags": []
   },
   "outputs": [
    {
     "name": "stdout",
     "output_type": "stream",
     "text": [
      "Num pairs to test after second filtering applied: 5209 -- unique: 3813\n"
     ]
    }
   ],
   "source": [
    "# Only test pairs where A2 is lost in min. 10 and max 90% of cell lines\n",
    "A2_lost_filter = A2_lost[(A2_lost.n_A2_lost >= 10) & (A2_lost.n_A2_lost <= (scores.shape[0]*0.9))]\n",
    "pairs_to_test_2 = pairs_to_test[pairs_to_test.A2_entrez.isin(A2_lost_filter.A2_entrez)].reset_index(drop=True)\n",
    "\n",
    "print('Num pairs to test after second filtering applied:', pairs_to_test_2.shape[0], '-- unique:', \n",
    "      pd.DataFrame(np.sort(pairs_to_test_2[['A1','A2']]), columns=['A1', 'A2']).drop_duplicates().shape[0])"
   ]
  },
  {
   "cell_type": "code",
   "execution_count": 31,
   "metadata": {},
   "outputs": [
    {
     "name": "stdout",
     "output_type": "stream",
     "text": [
      "N. unique A2s: 2333\n"
     ]
    },
    {
     "data": {
      "text/html": [
       "<div>\n",
       "<style scoped>\n",
       "    .dataframe tbody tr th:only-of-type {\n",
       "        vertical-align: middle;\n",
       "    }\n",
       "\n",
       "    .dataframe tbody tr th {\n",
       "        vertical-align: top;\n",
       "    }\n",
       "\n",
       "    .dataframe thead th {\n",
       "        text-align: right;\n",
       "    }\n",
       "</style>\n",
       "<table border=\"1\" class=\"dataframe\">\n",
       "  <thead>\n",
       "    <tr style=\"text-align: right;\">\n",
       "      <th></th>\n",
       "      <th>ACH-000004</th>\n",
       "      <th>ACH-000005</th>\n",
       "      <th>ACH-000007</th>\n",
       "      <th>ACH-000009</th>\n",
       "      <th>ACH-000011</th>\n",
       "      <th>ACH-000012</th>\n",
       "      <th>ACH-000013</th>\n",
       "      <th>ACH-000014</th>\n",
       "      <th>ACH-000015</th>\n",
       "      <th>ACH-000017</th>\n",
       "      <th>...</th>\n",
       "      <th>ACH-001960</th>\n",
       "      <th>ACH-001997</th>\n",
       "      <th>ACH-001999</th>\n",
       "      <th>ACH-002001</th>\n",
       "      <th>ACH-002002</th>\n",
       "      <th>ACH-002003</th>\n",
       "      <th>ACH-002004</th>\n",
       "      <th>ACH-002005</th>\n",
       "      <th>ACH-002015</th>\n",
       "      <th>ACH-002016</th>\n",
       "    </tr>\n",
       "  </thead>\n",
       "  <tbody>\n",
       "    <tr>\n",
       "      <th>5431</th>\n",
       "      <td>0</td>\n",
       "      <td>0</td>\n",
       "      <td>0</td>\n",
       "      <td>0</td>\n",
       "      <td>0</td>\n",
       "      <td>0</td>\n",
       "      <td>0</td>\n",
       "      <td>1</td>\n",
       "      <td>0</td>\n",
       "      <td>0</td>\n",
       "      <td>...</td>\n",
       "      <td>0</td>\n",
       "      <td>0</td>\n",
       "      <td>0</td>\n",
       "      <td>0</td>\n",
       "      <td>0</td>\n",
       "      <td>0</td>\n",
       "      <td>0</td>\n",
       "      <td>0</td>\n",
       "      <td>0</td>\n",
       "      <td>0</td>\n",
       "    </tr>\n",
       "  </tbody>\n",
       "</table>\n",
       "<p>1 rows × 762 columns</p>\n",
       "</div>"
      ],
      "text/plain": [
       "      ACH-000004  ACH-000005  ACH-000007  ACH-000009  ACH-000011  ACH-000012  \\\n",
       "5431           0           0           0           0           0           0   \n",
       "\n",
       "      ACH-000013  ACH-000014  ACH-000015  ACH-000017  ...  ACH-001960  \\\n",
       "5431           0           1           0           0  ...           0   \n",
       "\n",
       "      ACH-001997  ACH-001999  ACH-002001  ACH-002002  ACH-002003  ACH-002004  \\\n",
       "5431           0           0           0           0           0           0   \n",
       "\n",
       "      ACH-002005  ACH-002015  ACH-002016  \n",
       "5431           0           0           0  \n",
       "\n",
       "[1 rows x 762 columns]"
      ]
     },
     "metadata": {},
     "output_type": "display_data"
    }
   ],
   "source": [
    "# Save A2 lost dataframe, for just the final candidate pairs, as a binary matrix for table S3\n",
    "tab_s3 = A2_lost_df[A2_lost_df.index.isin(pairs_to_test_2.A2_entrez)].astype(int)\n",
    "print('N. unique A2s:', tab_s3.shape[0])\n",
    "assert(tab_s3.shape[0] == pairs_to_test_2.A2_entrez.nunique())\n",
    "display(tab_s3[:1])\n",
    "tab_s3.to_csv(file_table_s3)"
   ]
  },
  {
   "cell_type": "markdown",
   "metadata": {},
   "source": [
    "### Compare A1 CERES score for A2 WT vs. A2 ALT\n",
    "Using a linear model with cell line lineage as a covariate"
   ]
  },
  {
   "cell_type": "code",
   "execution_count": 32,
   "metadata": {},
   "outputs": [],
   "source": [
    "# Test whether there is a significant difference in fitness score of A1 when A2 is/is not lost\n",
    "def test_A1_score_for_A2_loss_vs_wt(pair):\n",
    "    # A1 score for each cell line\n",
    "    A1_scores = scores.loc[:, pair.A1_entrez].reset_index().rename(columns={'index':'cell_line', pair.A1_entrez:'A1_score'})\n",
    "    # A2 lost (T/F) for each cell line\n",
    "    A2_info = A2_lost_df.loc[pair.A2_entrez,:].reset_index().rename(columns={'index':'cell_line', pair.A2_entrez:'A2_lost'})\n",
    "    # Merge score, loss status, cell line lineage\n",
    "    df = pd.merge(pd.merge(A1_scores, A2_info), cell_line_lineage).dropna(subset=['A1_score'])\n",
    "    # Linear model\n",
    "    ols_results = smf.ols('A1_score ~ C(lineage) + C(A2_lost)', data=df).fit()\n",
    "    ols_pval = ols_results.pvalues['C(A2_lost)[T.True]']\n",
    "    ols_coef = ols_results.params['C(A2_lost)[T.True]']\n",
    "    return pd.Series([pair.A1, pair.A2, ols_pval, ols_coef, df[df.A2_lost].shape[0], \n",
    "                      df[df.A2_lost].A1_score.mean(), df[~df.A2_lost].A1_score.mean()], \n",
    "                      index=['A1', 'A2', 'ols_p', 'ols_coef', 'n_A2_lost', 'A2_lost_mean_score', 'A2_other_mean_score'])"
   ]
  },
  {
   "cell_type": "code",
   "execution_count": 33,
   "metadata": {},
   "outputs": [],
   "source": [
    "raw_results = pairs_to_test_2.apply(test_A1_score_for_A2_loss_vs_wt, axis=1)"
   ]
  },
  {
   "cell_type": "code",
   "execution_count": 34,
   "metadata": {},
   "outputs": [
    {
     "data": {
      "text/plain": [
       "Text(0.5, 0, 'A2 lost p-value')"
      ]
     },
     "execution_count": 34,
     "metadata": {},
     "output_type": "execute_result"
    },
    {
     "data": {
      "image/png": "[encoded data removed]",
      "text/plain": [
       "<Figure size 200x200 with 1 Axes>"
      ]
     },
     "metadata": {},
     "output_type": "display_data"
    }
   ],
   "source": [
    "# Plot distribution of p-values\n",
    "f, ax = plt.subplots(1, 1, figsize=(2,2), sharey=True)\n",
    "sns.distplot(raw_results.ols_p, kde=False, ax=ax, bins=50)\n",
    "ax.set_xlabel('A2 lost p-value')"
   ]
  },
  {
   "cell_type": "markdown",
   "metadata": {},
   "source": [
    "### Process Raw Results\n",
    "Benjamini-Hochberg multiple testing correction"
   ]
  },
  {
   "cell_type": "code",
   "execution_count": 35,
   "metadata": {},
   "outputs": [
    {
     "data": {
      "text/html": [
       "<div>\n",
       "<style scoped>\n",
       "    .dataframe tbody tr th:only-of-type {\n",
       "        vertical-align: middle;\n",
       "    }\n",
       "\n",
       "    .dataframe tbody tr th {\n",
       "        vertical-align: top;\n",
       "    }\n",
       "\n",
       "    .dataframe thead th {\n",
       "        text-align: right;\n",
       "    }\n",
       "</style>\n",
       "<table border=\"1\" class=\"dataframe\">\n",
       "  <thead>\n",
       "    <tr style=\"text-align: right;\">\n",
       "      <th></th>\n",
       "      <th>A1_entrez</th>\n",
       "      <th>percent_essential</th>\n",
       "    </tr>\n",
       "  </thead>\n",
       "  <tbody>\n",
       "    <tr>\n",
       "      <th>0</th>\n",
       "      <td>1</td>\n",
       "      <td>0.0</td>\n",
       "    </tr>\n",
       "  </tbody>\n",
       "</table>\n",
       "</div>"
      ],
      "text/plain": [
       "  A1_entrez  percent_essential\n",
       "0         1                0.0"
      ]
     },
     "execution_count": 35,
     "metadata": {},
     "output_type": "execute_result"
    }
   ],
   "source": [
    "# Compute percent of cell lines in which each gene is essential\n",
    "percent_essential = ((scores < -0.6).sum()/scores.shape[0])\n",
    "percent_essential = percent_essential.reset_index().rename(columns={'index':'A1_entrez',0:'percent_essential'})\n",
    "percent_essential[:1]"
   ]
  },
  {
   "cell_type": "code",
   "execution_count": 36,
   "metadata": {},
   "outputs": [],
   "source": [
    "def process_results(raw_results):\n",
    "    \n",
    "    # Merge percent of cell lines in which A1 is essential\n",
    "    df = pd.merge(raw_results, pairs_to_test[['A1', 'A2', 'A1_entrez', 'A2_entrez']])\n",
    "    df = pd.merge(df, percent_essential)\n",
    "    print('N sometimes essential:', df[df.percent_essential>0].shape[0])\n",
    "    \n",
    "    # FDR correction for pairs that are essential in at least 1 cell line\n",
    "    results = df[df.percent_essential>0].reset_index(drop=True)\n",
    "    results = results.assign(p_adj = fdrcorrection(results.ols_p.values)[1])\n",
    "    \n",
    "    # SL if FDR < 10% + A2_lost coefficient is negative (associated with decrease in CERES score)\n",
    "    results = results.assign(SL = results.apply(lambda x: ((x.p_adj < 0.1) & (x.ols_coef < 0)), axis=1))\n",
    "    \n",
    "    # Directly mark pairs that are never essential is not SL\n",
    "    never_essential = df[df.percent_essential==0].reset_index(drop=True)\n",
    "    results = pd.concat([results, never_essential]).reset_index(drop=True).fillna({'SL':False})\n",
    "    \n",
    "    # Annotate nearly SLs that will be dropped: nominal p-value < 0.05\n",
    "    results = results.assign(nearly_SL = ((results.ols_p < 0.05) & (results.ols_coef < 0) & \n",
    "                                          (results.percent_essential > 0) & (results.SL==False)))   \n",
    "    return results"
   ]
  },
  {
   "cell_type": "code",
   "execution_count": 37,
   "metadata": {},
   "outputs": [
    {
     "name": "stdout",
     "output_type": "stream",
     "text": [
      "N sometimes essential: 3735\n"
     ]
    },
    {
     "data": {
      "text/html": [
       "<div>\n",
       "<style scoped>\n",
       "    .dataframe tbody tr th:only-of-type {\n",
       "        vertical-align: middle;\n",
       "    }\n",
       "\n",
       "    .dataframe tbody tr th {\n",
       "        vertical-align: top;\n",
       "    }\n",
       "\n",
       "    .dataframe thead th {\n",
       "        text-align: right;\n",
       "    }\n",
       "</style>\n",
       "<table border=\"1\" class=\"dataframe\">\n",
       "  <thead>\n",
       "    <tr style=\"text-align: right;\">\n",
       "      <th></th>\n",
       "      <th>A1</th>\n",
       "      <th>A2</th>\n",
       "      <th>ols_p</th>\n",
       "      <th>ols_coef</th>\n",
       "      <th>n_A2_lost</th>\n",
       "      <th>A2_lost_mean_score</th>\n",
       "      <th>A2_other_mean_score</th>\n",
       "      <th>A1_entrez</th>\n",
       "      <th>A2_entrez</th>\n",
       "      <th>percent_essential</th>\n",
       "      <th>p_adj</th>\n",
       "      <th>SL</th>\n",
       "      <th>nearly_SL</th>\n",
       "    </tr>\n",
       "  </thead>\n",
       "  <tbody>\n",
       "    <tr>\n",
       "      <th>0</th>\n",
       "      <td>POLR3B</td>\n",
       "      <td>POLR2B</td>\n",
       "      <td>0.009881</td>\n",
       "      <td>0.156941</td>\n",
       "      <td>18</td>\n",
       "      <td>-1.395492</td>\n",
       "      <td>-1.513881</td>\n",
       "      <td>55703</td>\n",
       "      <td>5431</td>\n",
       "      <td>0.998688</td>\n",
       "      <td>0.171498</td>\n",
       "      <td>False</td>\n",
       "      <td>False</td>\n",
       "    </tr>\n",
       "    <tr>\n",
       "      <th>1</th>\n",
       "      <td>ID3</td>\n",
       "      <td>ID2</td>\n",
       "      <td>0.835119</td>\n",
       "      <td>0.007488</td>\n",
       "      <td>24</td>\n",
       "      <td>-0.017086</td>\n",
       "      <td>-0.019212</td>\n",
       "      <td>3399</td>\n",
       "      <td>3398</td>\n",
       "      <td>0.006562</td>\n",
       "      <td>0.969890</td>\n",
       "      <td>False</td>\n",
       "      <td>False</td>\n",
       "    </tr>\n",
       "  </tbody>\n",
       "</table>\n",
       "</div>"
      ],
      "text/plain": [
       "       A1      A2     ols_p  ols_coef  n_A2_lost  A2_lost_mean_score  \\\n",
       "0  POLR3B  POLR2B  0.009881  0.156941         18           -1.395492   \n",
       "1     ID3     ID2  0.835119  0.007488         24           -0.017086   \n",
       "\n",
       "   A2_other_mean_score A1_entrez A2_entrez  percent_essential     p_adj  \\\n",
       "0            -1.513881     55703      5431           0.998688  0.171498   \n",
       "1            -0.019212      3399      3398           0.006562  0.969890   \n",
       "\n",
       "      SL  nearly_SL  \n",
       "0  False      False  \n",
       "1  False      False  "
      ]
     },
     "execution_count": 37,
     "metadata": {},
     "output_type": "execute_result"
    }
   ],
   "source": [
    "results = process_results(raw_results)\n",
    "results[:2]"
   ]
  },
  {
   "cell_type": "code",
   "execution_count": 63,
   "metadata": {},
   "outputs": [
    {
     "name": "stdout",
     "output_type": "stream",
     "text": [
      "N. previously validated SL paralog pairs: 12\n"
     ]
    }
   ],
   "source": [
    "# Check how many potential SL pairs there are, and whether they include previously validated SL pairs\n",
    "validated_SLs = pd.read_csv(file_validate_SLs)\n",
    "print('N. previously validated SL paralog pairs:', validated_SLs.shape[0])\n",
    "\n",
    "def check_SLs(results):\n",
    "    print('SL pairs: %d / %d --> %.2f%%' % (sum(results.SL), results.shape[0], (sum(results.SL) / results.shape[0])*100))\n",
    "    # Sort pairs to get non-duplicated list\n",
    "    df = pd.concat([pd.DataFrame(np.sort(results[['A1','A2']]), columns=['A1','A2']), results[['SL']]], axis=1)\n",
    "    df = df.groupby(['A1', 'A2']).SL.max().reset_index()\n",
    "    print('Unique pairs: %d / %d --> %.2f%%' % (sum(df.SL==True), df.shape[0], (sum(df.SL==True)/df.shape[0])*100))\n",
    "    # Merge with known SLs (Nan if not tested)\n",
    "    m1 = pd.merge(validated_SLs, df[['A1', 'A2', 'SL']], how='left')\n",
    "    m2 = pd.merge(validated_SLs, df[['A1', 'A2', 'SL']].rename(columns={'A1':'A2', 'A2':'A1'}), how='left')\n",
    "    overlap = pd.concat([m1, m2]).groupby(['A1', 'A2']).SL.max().reset_index()\n",
    "    print('Known SLs retrieved:', sum(overlap.SL==True))\n",
    "    for i, row in overlap.iterrows():\n",
    "        if row.SL==True: continue\n",
    "        if row.SL==False: print(row.A1,'-',row.A2, 'not SL')\n",
    "        else: print(row.A1,'-',row.A2, 'not tested')"
   ]
  },
  {
   "cell_type": "code",
   "execution_count": 64,
   "metadata": {},
   "outputs": [
    {
     "name": "stdout",
     "output_type": "stream",
     "text": [
      "SL pairs: 132 / 5209 --> 2.53%\n",
      "Unique pairs: 127 / 3813 --> 3.33%\n",
      "Known SLs retrieved: 7\n",
      "DDX17 - DDX5 not SL\n",
      "ENO1 - ENO2 not tested\n",
      "MAGOH - MAGOHB not tested\n",
      "ME2 - ME3 not SL\n",
      "SMARCC1 - SMARCC2 not SL\n"
     ]
    }
   ],
   "source": [
    "check_SLs(results)"
   ]
  },
  {
   "cell_type": "code",
   "execution_count": 45,
   "metadata": {},
   "outputs": [],
   "source": [
    "results.to_csv(file_full_tested_pairs, index=0)"
   ]
  },
  {
   "cell_type": "code",
   "execution_count": 44,
   "metadata": {},
   "outputs": [
    {
     "data": {
      "text/html": [
       "<div>\n",
       "<style scoped>\n",
       "    .dataframe tbody tr th:only-of-type {\n",
       "        vertical-align: middle;\n",
       "    }\n",
       "\n",
       "    .dataframe tbody tr th {\n",
       "        vertical-align: top;\n",
       "    }\n",
       "\n",
       "    .dataframe thead th {\n",
       "        text-align: right;\n",
       "    }\n",
       "</style>\n",
       "<table border=\"1\" class=\"dataframe\">\n",
       "  <thead>\n",
       "    <tr style=\"text-align: right;\">\n",
       "      <th></th>\n",
       "      <th>A1</th>\n",
       "      <th>A2</th>\n",
       "      <th>A1_ensembl</th>\n",
       "      <th>A2_ensembl</th>\n",
       "      <th>A1_entrez</th>\n",
       "      <th>A2_entrez</th>\n",
       "      <th>A2_status_coef</th>\n",
       "      <th>A2_status_p</th>\n",
       "      <th>p_adj</th>\n",
       "      <th>SL</th>\n",
       "    </tr>\n",
       "  </thead>\n",
       "  <tbody>\n",
       "    <tr>\n",
       "      <th>5099</th>\n",
       "      <td>AAK1</td>\n",
       "      <td>BMP2K</td>\n",
       "      <td>ENSG00000115977</td>\n",
       "      <td>ENSG00000138756</td>\n",
       "      <td>22848</td>\n",
       "      <td>55589</td>\n",
       "      <td>-0.033343</td>\n",
       "      <td>0.445352</td>\n",
       "      <td>0.872559</td>\n",
       "      <td>False</td>\n",
       "    </tr>\n",
       "    <tr>\n",
       "      <th>3680</th>\n",
       "      <td>ABCA1</td>\n",
       "      <td>ABCA7</td>\n",
       "      <td>ENSG00000165029</td>\n",
       "      <td>ENSG00000064687</td>\n",
       "      <td>19</td>\n",
       "      <td>10347</td>\n",
       "      <td>-0.000272</td>\n",
       "      <td>0.992886</td>\n",
       "      <td>0.998337</td>\n",
       "      <td>False</td>\n",
       "    </tr>\n",
       "    <tr>\n",
       "      <th>3679</th>\n",
       "      <td>ABCA7</td>\n",
       "      <td>ABCA1</td>\n",
       "      <td>ENSG00000064687</td>\n",
       "      <td>ENSG00000165029</td>\n",
       "      <td>10347</td>\n",
       "      <td>19</td>\n",
       "      <td>-0.016974</td>\n",
       "      <td>0.147058</td>\n",
       "      <td>0.647219</td>\n",
       "      <td>False</td>\n",
       "    </tr>\n",
       "  </tbody>\n",
       "</table>\n",
       "</div>"
      ],
      "text/plain": [
       "         A1     A2       A1_ensembl       A2_ensembl A1_entrez A2_entrez  \\\n",
       "5099   AAK1  BMP2K  ENSG00000115977  ENSG00000138756     22848     55589   \n",
       "3680  ABCA1  ABCA7  ENSG00000165029  ENSG00000064687        19     10347   \n",
       "3679  ABCA7  ABCA1  ENSG00000064687  ENSG00000165029     10347        19   \n",
       "\n",
       "      A2_status_coef  A2_status_p     p_adj     SL  \n",
       "5099       -0.033343     0.445352  0.872559  False  \n",
       "3680       -0.000272     0.992886  0.998337  False  \n",
       "3679       -0.016974     0.147058  0.647219  False  "
      ]
     },
     "metadata": {},
     "output_type": "display_data"
    }
   ],
   "source": [
    "tab_s4 = results[['A1','A2','A1_entrez','A2_entrez', 'ols_coef', 'ols_p', 'p_adj', 'SL', 'nearly_SL']]\n",
    "tab_s4 = tab_s4.rename(columns={'ols_coef':'A2_status_coef', 'ols_p':'A2_status_p', 'p_ajd':'A2_status_p_adj'})\n",
    "\n",
    "# Set SL to NA if pair will be dropped, i.e. if it is nearly_SL\n",
    "tab_s4.SL = tab_s4.apply(lambda x: float('nan') if x.nearly_SL else x.SL, axis=1)\n",
    "# Add in ensembl ids\n",
    "tab_s4 = pd.merge(all_pairs[['A1','A2','A1_ensembl','A2_ensembl']], tab_s4)\n",
    "tab_s4 = tab_s4.sort_values(['A1','A2']).drop(columns=['nearly_SL'])\n",
    "\n",
    "assert(tab_s4.shape[0] == results.shape[0])\n",
    "assert(tab_s4[tab_s4.SL==True].shape[0] == results[results.SL==True].shape[0])\n",
    "display(tab_s4[:3])\n",
    "tab_s4.to_csv(file_table_s4)"
   ]
  },
  {
   "cell_type": "markdown",
   "metadata": {},
   "source": [
    "### Bronze Standard Dataset\n",
    "This is a subset of the full results - discard 'nearly SL' pairs and only retain unique pairs"
   ]
  },
  {
   "cell_type": "code",
   "execution_count": 46,
   "metadata": {},
   "outputs": [
    {
     "name": "stdout",
     "output_type": "stream",
     "text": [
      "N: 5209\n"
     ]
    },
    {
     "data": {
      "text/html": [
       "<div>\n",
       "<style scoped>\n",
       "    .dataframe tbody tr th:only-of-type {\n",
       "        vertical-align: middle;\n",
       "    }\n",
       "\n",
       "    .dataframe tbody tr th {\n",
       "        vertical-align: top;\n",
       "    }\n",
       "\n",
       "    .dataframe thead th {\n",
       "        text-align: right;\n",
       "    }\n",
       "</style>\n",
       "<table border=\"1\" class=\"dataframe\">\n",
       "  <thead>\n",
       "    <tr style=\"text-align: right;\">\n",
       "      <th></th>\n",
       "      <th>A1</th>\n",
       "      <th>A2</th>\n",
       "      <th>ols_p</th>\n",
       "      <th>ols_coef</th>\n",
       "      <th>n_A2_lost</th>\n",
       "      <th>A2_lost_mean_score</th>\n",
       "      <th>A2_other_mean_score</th>\n",
       "      <th>A1_entrez</th>\n",
       "      <th>A2_entrez</th>\n",
       "      <th>percent_essential</th>\n",
       "      <th>p_adj</th>\n",
       "      <th>SL</th>\n",
       "      <th>nearly_SL</th>\n",
       "    </tr>\n",
       "  </thead>\n",
       "  <tbody>\n",
       "    <tr>\n",
       "      <th>0</th>\n",
       "      <td>POLR3B</td>\n",
       "      <td>POLR2B</td>\n",
       "      <td>0.009881</td>\n",
       "      <td>0.156941</td>\n",
       "      <td>18</td>\n",
       "      <td>-1.395492</td>\n",
       "      <td>-1.513881</td>\n",
       "      <td>55703</td>\n",
       "      <td>5431</td>\n",
       "      <td>0.998688</td>\n",
       "      <td>0.171498</td>\n",
       "      <td>False</td>\n",
       "      <td>False</td>\n",
       "    </tr>\n",
       "  </tbody>\n",
       "</table>\n",
       "</div>"
      ],
      "text/plain": [
       "       A1      A2     ols_p  ols_coef  n_A2_lost  A2_lost_mean_score  \\\n",
       "0  POLR3B  POLR2B  0.009881  0.156941         18           -1.395492   \n",
       "\n",
       "   A2_other_mean_score A1_entrez A2_entrez  percent_essential     p_adj  \\\n",
       "0            -1.513881     55703      5431           0.998688  0.171498   \n",
       "\n",
       "      SL  nearly_SL  \n",
       "0  False      False  "
      ]
     },
     "execution_count": 46,
     "metadata": {},
     "output_type": "execute_result"
    }
   ],
   "source": [
    "# Can load here - so no need to re-run above code\n",
    "results = pd.read_csv(file_full_tested_pairs).astype({'A1_entrez':'str','A2_entrez':'str'})\n",
    "print('N:', results.shape[0])\n",
    "results[:1]"
   ]
  },
  {
   "cell_type": "code",
   "execution_count": 58,
   "metadata": {},
   "outputs": [],
   "source": [
    "# Reduce paralog pairs to sorted list of unique pairs\n",
    "# Mark as SL if the pair is SL in either direction\n",
    "def reduce_to_unique_pairs(results):\n",
    "    # Sort A1, A2 to get unique pairs \n",
    "    sorted_pairs = pd.concat([pd.DataFrame(np.sort(results[['A1','A2']]), columns=['A1','A2']),\n",
    "                              results[['SL', 'ols_p', 'p_adj', 'nearly_SL', 'n_A2_lost', 'percent_essential']]], axis=1)\n",
    "    sorted_pairs = sorted_pairs.sort_values(['A1', 'A2'], ascending=True)\n",
    "    assert(sorted_pairs.shape[0] == results.shape[0])\n",
    "    \n",
    "    # Find pairs that were tested in both directions\n",
    "    duplicates = sorted_pairs[sorted_pairs.duplicated(subset=['A1','A2'], keep=False)]\n",
    "    print('Num duplicate pairs:', int(duplicates.shape[0]/2))\n",
    "    print('Assymetric SL:', int(duplicates[~duplicates.duplicated(subset=['A1','A2','SL'], keep=False)].shape[0]/2))\n",
    "    print('Symmetric SLs:')\n",
    "    print(sorted_pairs[sorted_pairs.SL & sorted_pairs.duplicated(subset=['A1','A2','SL'])][['A1','A2']])\n",
    "    \n",
    "    cols_agg = {'SL':'max', 'nearly_SL':'max'} \n",
    "    unique_pairs = sorted_pairs.groupby(['A1', 'A2']).agg(cols_agg).reset_index()\n",
    "    assert(unique_pairs.shape[0] == (results.shape[0] - (duplicates.shape[0] / 2)))\n",
    "    # Nearly SL was called assymetrically so resolve call\n",
    "    unique_pairs.nearly_SL = unique_pairs.apply(lambda x: False if x.SL==True else x.nearly_SL, axis=1)\n",
    "    print('Unique pairs: %d / %d' % (unique_pairs[unique_pairs.SL].shape[0], unique_pairs.shape[0]))\n",
    "    return unique_pairs\n",
    "\n",
    "def drop_nearly_SL_pairs(results):\n",
    "    print('Num nearly SL:', results[results.nearly_SL].shape[0])\n",
    "    # Drop nearly SL pairs\n",
    "    final_results = results[results.nearly_SL==False].reset_index(drop=True).drop(columns=['nearly_SL'])\n",
    "    print('Bronze standard pairs: %d / %d = %.2f%% SL' % (final_results[final_results.SL].shape[0], final_results.shape[0],\n",
    "          final_results[final_results.SL].shape[0] / final_results.shape[0] *100))\n",
    "    return final_results"
   ]
  },
  {
   "cell_type": "code",
   "execution_count": 68,
   "metadata": {},
   "outputs": [
    {
     "name": "stdout",
     "output_type": "stream",
     "text": [
      "Num duplicate pairs: 1396\n",
      "Assymetric SL: 32\n",
      "Symmetric SLs:\n",
      "           A1       A2\n",
      "3144   FERMT1   FERMT2\n",
      "1323    MYH10     MYH9\n",
      "1989  SLC16A1  SLC16A3\n",
      "3706  SMARCA2  SMARCA4\n",
      "1685    SNAI1    SNAI2\n",
      "Unique pairs: 127 / 3813\n",
      "Num nearly SL: 176\n",
      "Bronze standard pairs: 127 / 3637 = 3.49% SL\n"
     ]
    },
    {
     "data": {
      "text/html": [
       "<div>\n",
       "<style scoped>\n",
       "    .dataframe tbody tr th:only-of-type {\n",
       "        vertical-align: middle;\n",
       "    }\n",
       "\n",
       "    .dataframe tbody tr th {\n",
       "        vertical-align: top;\n",
       "    }\n",
       "\n",
       "    .dataframe thead th {\n",
       "        text-align: right;\n",
       "    }\n",
       "</style>\n",
       "<table border=\"1\" class=\"dataframe\">\n",
       "  <thead>\n",
       "    <tr style=\"text-align: right;\">\n",
       "      <th></th>\n",
       "      <th>A1</th>\n",
       "      <th>A2</th>\n",
       "      <th>SL</th>\n",
       "      <th>A1_ensembl</th>\n",
       "      <th>A2_ensembl</th>\n",
       "      <th>A1_entrez</th>\n",
       "      <th>A2_entrez</th>\n",
       "    </tr>\n",
       "  </thead>\n",
       "  <tbody>\n",
       "    <tr>\n",
       "      <th>0</th>\n",
       "      <td>AAK1</td>\n",
       "      <td>BMP2K</td>\n",
       "      <td>False</td>\n",
       "      <td>ENSG00000115977</td>\n",
       "      <td>ENSG00000138756</td>\n",
       "      <td>22848</td>\n",
       "      <td>55589</td>\n",
       "    </tr>\n",
       "    <tr>\n",
       "      <th>1</th>\n",
       "      <td>ABCA1</td>\n",
       "      <td>ABCA7</td>\n",
       "      <td>False</td>\n",
       "      <td>ENSG00000165029</td>\n",
       "      <td>ENSG00000064687</td>\n",
       "      <td>19</td>\n",
       "      <td>10347</td>\n",
       "    </tr>\n",
       "  </tbody>\n",
       "</table>\n",
       "</div>"
      ],
      "text/plain": [
       "      A1     A2     SL       A1_ensembl       A2_ensembl A1_entrez A2_entrez\n",
       "0   AAK1  BMP2K  False  ENSG00000115977  ENSG00000138756     22848     55589\n",
       "1  ABCA1  ABCA7  False  ENSG00000165029  ENSG00000064687        19     10347"
      ]
     },
     "execution_count": 68,
     "metadata": {},
     "output_type": "execute_result"
    }
   ],
   "source": [
    "unique_results = reduce_to_unique_pairs(results)\n",
    "bronze_standard = drop_nearly_SL_pairs(unique_results)\n",
    "# Merge back ensembl ids\n",
    "bronze_standard = pd.merge(bronze_standard, all_pairs[['A1','A2','A1_ensembl','A2_ensembl','A1_entrez','A2_entrez']])\n",
    "bronze_standard[:2]"
   ]
  },
  {
   "cell_type": "code",
   "execution_count": 69,
   "metadata": {},
   "outputs": [
    {
     "name": "stdout",
     "output_type": "stream",
     "text": [
      "SL pairs: 127 / 3637 --> 3.49%\n",
      "Unique pairs: 127 / 3637 --> 3.49%\n",
      "Known SLs retrieved: 7\n",
      "DDX17 - DDX5 not SL\n",
      "ENO1 - ENO2 not tested\n",
      "MAGOH - MAGOHB not tested\n",
      "ME2 - ME3 not SL\n",
      "SMARCC1 - SMARCC2 not SL\n"
     ]
    }
   ],
   "source": [
    "check_SLs(bronze_standard)"
   ]
  },
  {
   "cell_type": "code",
   "execution_count": 70,
   "metadata": {},
   "outputs": [],
   "source": [
    "bronze_standard.to_csv(file_bronze_standard, index=0)"
   ]
  },
  {
   "cell_type": "markdown",
   "metadata": {},
   "source": [
    "### Visualization of Individual Bronze Standard Pairs\n",
    "Requires scores + A2_lost df + full results"
   ]
  },
  {
   "cell_type": "code",
   "execution_count": 4,
   "metadata": {},
   "outputs": [
    {
     "data": {
      "text/html": [
       "<div>\n",
       "<style scoped>\n",
       "    .dataframe tbody tr th:only-of-type {\n",
       "        vertical-align: middle;\n",
       "    }\n",
       "\n",
       "    .dataframe tbody tr th {\n",
       "        vertical-align: top;\n",
       "    }\n",
       "\n",
       "    .dataframe thead th {\n",
       "        text-align: right;\n",
       "    }\n",
       "</style>\n",
       "<table border=\"1\" class=\"dataframe\">\n",
       "  <thead>\n",
       "    <tr style=\"text-align: right;\">\n",
       "      <th></th>\n",
       "      <th>ACH-000004</th>\n",
       "      <th>ACH-000005</th>\n",
       "      <th>ACH-000007</th>\n",
       "      <th>ACH-000009</th>\n",
       "      <th>ACH-000011</th>\n",
       "      <th>ACH-000012</th>\n",
       "      <th>ACH-000013</th>\n",
       "      <th>ACH-000014</th>\n",
       "      <th>ACH-000015</th>\n",
       "      <th>ACH-000017</th>\n",
       "      <th>...</th>\n",
       "      <th>ACH-001960</th>\n",
       "      <th>ACH-001997</th>\n",
       "      <th>ACH-001999</th>\n",
       "      <th>ACH-002001</th>\n",
       "      <th>ACH-002002</th>\n",
       "      <th>ACH-002003</th>\n",
       "      <th>ACH-002004</th>\n",
       "      <th>ACH-002005</th>\n",
       "      <th>ACH-002015</th>\n",
       "      <th>ACH-002016</th>\n",
       "    </tr>\n",
       "  </thead>\n",
       "  <tbody>\n",
       "    <tr>\n",
       "      <th>5431</th>\n",
       "      <td>False</td>\n",
       "      <td>False</td>\n",
       "      <td>False</td>\n",
       "      <td>False</td>\n",
       "      <td>False</td>\n",
       "      <td>False</td>\n",
       "      <td>False</td>\n",
       "      <td>True</td>\n",
       "      <td>False</td>\n",
       "      <td>False</td>\n",
       "      <td>...</td>\n",
       "      <td>False</td>\n",
       "      <td>False</td>\n",
       "      <td>False</td>\n",
       "      <td>False</td>\n",
       "      <td>False</td>\n",
       "      <td>False</td>\n",
       "      <td>False</td>\n",
       "      <td>False</td>\n",
       "      <td>False</td>\n",
       "      <td>False</td>\n",
       "    </tr>\n",
       "  </tbody>\n",
       "</table>\n",
       "<p>1 rows × 762 columns</p>\n",
       "</div>"
      ],
      "text/plain": [
       "      ACH-000004  ACH-000005  ACH-000007  ACH-000009  ACH-000011  ACH-000012  \\\n",
       "5431       False       False       False       False       False       False   \n",
       "\n",
       "      ACH-000013  ACH-000014  ACH-000015  ACH-000017  ...  ACH-001960  \\\n",
       "5431       False        True       False       False  ...       False   \n",
       "\n",
       "      ACH-001997  ACH-001999  ACH-002001  ACH-002002  ACH-002003  ACH-002004  \\\n",
       "5431       False       False       False       False       False       False   \n",
       "\n",
       "      ACH-002005  ACH-002015  ACH-002016  \n",
       "5431       False       False       False  \n",
       "\n",
       "[1 rows x 762 columns]"
      ]
     },
     "execution_count": 4,
     "metadata": {},
     "output_type": "execute_result"
    }
   ],
   "source": [
    "A2_lost_df = pd.read_csv(file_A2_lost, index_col=0)\n",
    "A2_lost_df.index = A2_lost_df.index.astype('str')\n",
    "A2_lost_df[:1]"
   ]
  },
  {
   "cell_type": "code",
   "execution_count": 5,
   "metadata": {},
   "outputs": [],
   "source": [
    "scores = all_scores[all_scores.index.isin(A2_lost_df.columns)]"
   ]
  },
  {
   "cell_type": "code",
   "execution_count": 11,
   "metadata": {},
   "outputs": [
    {
     "data": {
      "text/html": [
       "<div>\n",
       "<style scoped>\n",
       "    .dataframe tbody tr th:only-of-type {\n",
       "        vertical-align: middle;\n",
       "    }\n",
       "\n",
       "    .dataframe tbody tr th {\n",
       "        vertical-align: top;\n",
       "    }\n",
       "\n",
       "    .dataframe thead th {\n",
       "        text-align: right;\n",
       "    }\n",
       "</style>\n",
       "<table border=\"1\" class=\"dataframe\">\n",
       "  <thead>\n",
       "    <tr style=\"text-align: right;\">\n",
       "      <th></th>\n",
       "      <th>A1</th>\n",
       "      <th>A2</th>\n",
       "      <th>ols_p</th>\n",
       "      <th>ols_coef</th>\n",
       "      <th>n_A2_lost</th>\n",
       "      <th>A2_lost_mean_score</th>\n",
       "      <th>A2_other_mean_score</th>\n",
       "      <th>A1_entrez</th>\n",
       "      <th>A2_entrez</th>\n",
       "      <th>percent_essential</th>\n",
       "      <th>p_adj</th>\n",
       "      <th>SL</th>\n",
       "      <th>nearly_SL</th>\n",
       "    </tr>\n",
       "  </thead>\n",
       "  <tbody>\n",
       "    <tr>\n",
       "      <th>0</th>\n",
       "      <td>POLR3B</td>\n",
       "      <td>POLR2B</td>\n",
       "      <td>0.009881</td>\n",
       "      <td>0.156941</td>\n",
       "      <td>18</td>\n",
       "      <td>-1.395492</td>\n",
       "      <td>-1.513881</td>\n",
       "      <td>55703</td>\n",
       "      <td>5431</td>\n",
       "      <td>0.998688</td>\n",
       "      <td>0.171498</td>\n",
       "      <td>False</td>\n",
       "      <td>False</td>\n",
       "    </tr>\n",
       "  </tbody>\n",
       "</table>\n",
       "</div>"
      ],
      "text/plain": [
       "       A1      A2     ols_p  ols_coef  n_A2_lost  A2_lost_mean_score  \\\n",
       "0  POLR3B  POLR2B  0.009881  0.156941         18           -1.395492   \n",
       "\n",
       "   A2_other_mean_score A1_entrez A2_entrez  percent_essential     p_adj  \\\n",
       "0            -1.513881     55703      5431           0.998688  0.171498   \n",
       "\n",
       "      SL  nearly_SL  \n",
       "0  False      False  "
      ]
     },
     "execution_count": 11,
     "metadata": {},
     "output_type": "execute_result"
    }
   ],
   "source": [
    "results = pd.read_csv(file_full_tested_pairs).astype({'A1_entrez':'str','A2_entrez':'str'})\n",
    "results[:1]"
   ]
  },
  {
   "cell_type": "code",
   "execution_count": 25,
   "metadata": {},
   "outputs": [],
   "source": [
    "def box_plot_for_pair(A1, A2, ax, show_points=True):\n",
    "    pair = results.loc[(results.A1==A1) & (results.A2==A2),:].iloc[0]\n",
    "    if pair.SL == False: print('Pair %s-%s is not SL' % (A1, A2))\n",
    "    df = scores.loc[:, pair.A1_entrez].reset_index().rename(columns={'index':'cell_line', pair.A1_entrez:'A1_score'})\n",
    "    A2_info = A2_lost_df.loc[pair.A2_entrez,:].reset_index().rename(columns={'index':'cell_line', pair.A2_entrez:'A2_lost'})\n",
    "    df = pd.merge(df, A2_info)\n",
    "    df.A2_lost = df.A2_lost.apply(lambda x: ('Loss' if x else 'WT'))\n",
    "    df = df.sort_values('A2_lost', ascending=False)\n",
    "    sns.boxplot(y='A1_score', x='A2_lost', data=df, palette=['white', \"#56B4E9\"], ax=ax, linewidth=1, \n",
    "                showfliers=False, showmeans=False, saturation=1, boxprops=dict(alpha=0.5), \n",
    "                medianprops=dict(linewidth=1.2, color='black'))\n",
    "    if show_points:\n",
    "        sns.stripplot(y='A1_score', x='A2_lost', data=df, color='grey', ax=ax, alpha=0.7, size=2, zorder=0)\n",
    "    ax.set_xlabel(pair.A2, fontstyle='italic'); ax.set_ylabel('$\\it{'+pair.A1+'}$ dependency')"
   ]
  },
  {
   "cell_type": "code",
   "execution_count": 15,
   "metadata": {},
   "outputs": [
    {
     "data": {
      "image/png": "[encoded data removed]",
      "text/plain": [
       "<Figure size 130x210 with 1 Axes>"
      ]
     },
     "metadata": {},
     "output_type": "display_data"
    }
   ],
   "source": [
    "# Model of what we are testing\n",
    "with plt.rc_context({'axes.spines.top': True, 'axes.spines.right':True, 'font.size':10,\n",
    "                     'xtick.labelsize':10, 'xtick.bottom': False}):\n",
    "    f, ax = plt.subplots(1, 1, figsize=(1.3,2.1))\n",
    "    box_plot_for_pair('RPP25L', 'RPP25', ax, show_points=False)\n",
    "    ax.set_xlabel('A2'); ax.set_ylabel('A1 dependency')\n",
    "    ax.set_yticks([])\n",
    "    plt.tight_layout()\n",
    "    #f.savefig('../figures/for_paper/boxplot_example.svg', bbox_inches='tight', dpi=300)"
   ]
  },
  {
   "cell_type": "code",
   "execution_count": 26,
   "metadata": {},
   "outputs": [
    {
     "data": {
      "image/png": "[encoded data removed]",
      "text/plain": [
       "<Figure size 350x680 with 6 Axes>"
      ]
     },
     "metadata": {},
     "output_type": "display_data"
    }
   ],
   "source": [
    "with mpl.rc_context({'axes.spines.top': True, 'axes.spines.right':True, 'ytick.labelsize':8, 'xtick.labelsize':9,\n",
    "                     'xtick.bottom': False}):\n",
    "    f, ax = plt.subplots(3, 2, figsize=(3.5,6.8))\n",
    "    ax = ax.flatten()\n",
    "    box_plot_for_pair('ARID1B', 'ARID1A', ax[0])\n",
    "    box_plot_for_pair('STAG1', 'STAG2', ax[1])\n",
    "    box_plot_for_pair('SMARCA4', 'SMARCA2', ax[2])\n",
    "    box_plot_for_pair('SEC24C', 'SEC24D', ax[3])\n",
    "    box_plot_for_pair('VPS26A', 'VPS26B', ax[4])\n",
    "    box_plot_for_pair('HSPA4', 'HSPH1', ax[5])\n",
    "    plt.tight_layout(w_pad=1.8)\n",
    "    f.savefig('../figures/for_paper/boxplot_example_SLs.svg', bbox_inches='tight', dpi=300)"
   ]
  },
  {
   "cell_type": "markdown",
   "metadata": {},
   "source": [
    "### Pairs not tested in previous computational analyses"
   ]
  },
  {
   "cell_type": "code",
   "execution_count": 77,
   "metadata": {},
   "outputs": [],
   "source": [
    "file_hart_comp_pairs = get_data_path(['GI_screens', 'dede_2020'], 'Table_S1.xls')\n",
    "file_hahn_pairs1 = get_data_path(['viswanathan_2018'], 'Table_S1_paralog_dep_shrna.csv')\n",
    "file_hahn_pairs2 = get_data_path(['viswanathan_2018'], 'Table_S2_paralog_dep_crispr.csv')"
   ]
  },
  {
   "cell_type": "code",
   "execution_count": 78,
   "metadata": {},
   "outputs": [],
   "source": [
    "def get_pairs_not_in_bronze_standard(other_pairs):\n",
    "    df = pd.concat([pd.merge(bronze_standard, other_pairs),\n",
    "                    pd.merge(bronze_standard, other_pairs.rename(columns={'A1':'A2','A2':'A1'}))\n",
    "                   ])\n",
    "    df = pd.merge(bronze_standard, df.drop_duplicates(), how='left', indicator='overlap')\n",
    "    not_overlap = df[df.overlap=='left_only'].drop(columns=['overlap'])\n",
    "    return not_overlap"
   ]
  },
  {
   "cell_type": "code",
   "execution_count": 80,
   "metadata": {},
   "outputs": [
    {
     "data": {
      "text/html": [
       "<div>\n",
       "<style scoped>\n",
       "    .dataframe tbody tr th:only-of-type {\n",
       "        vertical-align: middle;\n",
       "    }\n",
       "\n",
       "    .dataframe tbody tr th {\n",
       "        vertical-align: top;\n",
       "    }\n",
       "\n",
       "    .dataframe thead th {\n",
       "        text-align: right;\n",
       "    }\n",
       "</style>\n",
       "<table border=\"1\" class=\"dataframe\">\n",
       "  <thead>\n",
       "    <tr style=\"text-align: right;\">\n",
       "      <th></th>\n",
       "      <th>A1</th>\n",
       "      <th>A2</th>\n",
       "      <th>SL</th>\n",
       "      <th>A1_ensembl</th>\n",
       "      <th>A2_ensembl</th>\n",
       "      <th>A1_entrez</th>\n",
       "      <th>A2_entrez</th>\n",
       "    </tr>\n",
       "  </thead>\n",
       "  <tbody>\n",
       "    <tr>\n",
       "      <th>1</th>\n",
       "      <td>ABCA1</td>\n",
       "      <td>ABCA7</td>\n",
       "      <td>False</td>\n",
       "      <td>ENSG00000165029</td>\n",
       "      <td>ENSG00000064687</td>\n",
       "      <td>19</td>\n",
       "      <td>10347</td>\n",
       "    </tr>\n",
       "  </tbody>\n",
       "</table>\n",
       "</div>"
      ],
      "text/plain": [
       "      A1     A2     SL       A1_ensembl       A2_ensembl  A1_entrez  A2_entrez\n",
       "1  ABCA1  ABCA7  False  ENSG00000165029  ENSG00000064687         19      10347"
      ]
     },
     "execution_count": 80,
     "metadata": {},
     "output_type": "execute_result"
    }
   ],
   "source": [
    "hart_pairs = pd.read_excel(file_hart_comp_pairs)\n",
    "n_hart = get_pairs_not_in_bronze_standard(hart_pairs.rename(columns={'Gene_A':'A1','Gene_B':'A2'})[['A1','A2']])\n",
    "n_hart[:1]"
   ]
  },
  {
   "cell_type": "code",
   "execution_count": 82,
   "metadata": {},
   "outputs": [
    {
     "data": {
      "text/html": [
       "<div>\n",
       "<style scoped>\n",
       "    .dataframe tbody tr th:only-of-type {\n",
       "        vertical-align: middle;\n",
       "    }\n",
       "\n",
       "    .dataframe tbody tr th {\n",
       "        vertical-align: top;\n",
       "    }\n",
       "\n",
       "    .dataframe thead th {\n",
       "        text-align: right;\n",
       "    }\n",
       "</style>\n",
       "<table border=\"1\" class=\"dataframe\">\n",
       "  <thead>\n",
       "    <tr style=\"text-align: right;\">\n",
       "      <th></th>\n",
       "      <th>A1</th>\n",
       "      <th>A2</th>\n",
       "      <th>SL</th>\n",
       "      <th>A1_ensembl</th>\n",
       "      <th>A2_ensembl</th>\n",
       "      <th>A1_entrez</th>\n",
       "      <th>A2_entrez</th>\n",
       "    </tr>\n",
       "  </thead>\n",
       "  <tbody>\n",
       "    <tr>\n",
       "      <th>0</th>\n",
       "      <td>AAK1</td>\n",
       "      <td>BMP2K</td>\n",
       "      <td>False</td>\n",
       "      <td>ENSG00000115977</td>\n",
       "      <td>ENSG00000138756</td>\n",
       "      <td>22848</td>\n",
       "      <td>55589</td>\n",
       "    </tr>\n",
       "  </tbody>\n",
       "</table>\n",
       "</div>"
      ],
      "text/plain": [
       "     A1     A2     SL       A1_ensembl       A2_ensembl  A1_entrez  A2_entrez\n",
       "0  AAK1  BMP2K  False  ENSG00000115977  ENSG00000138756      22848      55589"
      ]
     },
     "execution_count": 82,
     "metadata": {},
     "output_type": "execute_result"
    }
   ],
   "source": [
    "hahn_pairs_shrna = pd.read_csv(file_hahn_pairs1)\n",
    "hahn_pairs_crispr = pd.read_csv(file_hahn_pairs2)\n",
    "n_hahn_1 = get_pairs_not_in_bronze_standard(hahn_pairs_shrna.rename(columns={'Dep_Gene':'A1','Loss_Gene':'A2'})[['A1','A2']])\n",
    "n_hahn_2 = get_pairs_not_in_bronze_standard(hahn_pairs_crispr.rename(columns={'Dep_Gene':'A1','Loss_Gene':'A2'})[['A1','A2']])\n",
    "n_hahn = pd.merge(n_hahn_1, n_hahn_2)\n",
    "n_hahn[:1]"
   ]
  },
  {
   "cell_type": "code",
   "execution_count": 83,
   "metadata": {},
   "outputs": [
    {
     "data": {
      "text/html": [
       "<div>\n",
       "<style scoped>\n",
       "    .dataframe tbody tr th:only-of-type {\n",
       "        vertical-align: middle;\n",
       "    }\n",
       "\n",
       "    .dataframe tbody tr th {\n",
       "        vertical-align: top;\n",
       "    }\n",
       "\n",
       "    .dataframe thead th {\n",
       "        text-align: right;\n",
       "    }\n",
       "</style>\n",
       "<table border=\"1\" class=\"dataframe\">\n",
       "  <thead>\n",
       "    <tr style=\"text-align: right;\">\n",
       "      <th></th>\n",
       "      <th>A1</th>\n",
       "      <th>A2</th>\n",
       "      <th>ols_p</th>\n",
       "      <th>ols_coef</th>\n",
       "      <th>p_adj</th>\n",
       "      <th>SL</th>\n",
       "    </tr>\n",
       "  </thead>\n",
       "  <tbody>\n",
       "    <tr>\n",
       "      <th>17</th>\n",
       "      <td>SEC24C</td>\n",
       "      <td>SEC24D</td>\n",
       "      <td>5.021426e-16</td>\n",
       "      <td>-0.415167</td>\n",
       "      <td>1.103237e-13</td>\n",
       "      <td>True</td>\n",
       "    </tr>\n",
       "    <tr>\n",
       "      <th>9</th>\n",
       "      <td>HSPA4</td>\n",
       "      <td>HSPH1</td>\n",
       "      <td>4.175154e-06</td>\n",
       "      <td>-0.271964</td>\n",
       "      <td>2.942302e-04</td>\n",
       "      <td>True</td>\n",
       "    </tr>\n",
       "    <tr>\n",
       "      <th>3</th>\n",
       "      <td>DIAPH1</td>\n",
       "      <td>INF2</td>\n",
       "      <td>5.238246e-04</td>\n",
       "      <td>-0.219949</td>\n",
       "      <td>2.081367e-02</td>\n",
       "      <td>True</td>\n",
       "    </tr>\n",
       "    <tr>\n",
       "      <th>10</th>\n",
       "      <td>LDHA</td>\n",
       "      <td>LDHB</td>\n",
       "      <td>2.629650e-05</td>\n",
       "      <td>-0.199090</td>\n",
       "      <td>1.693404e-03</td>\n",
       "      <td>True</td>\n",
       "    </tr>\n",
       "    <tr>\n",
       "      <th>20</th>\n",
       "      <td>VPS26A</td>\n",
       "      <td>VPS26B</td>\n",
       "      <td>1.095842e-04</td>\n",
       "      <td>-0.188909</td>\n",
       "      <td>5.385487e-03</td>\n",
       "      <td>True</td>\n",
       "    </tr>\n",
       "    <tr>\n",
       "      <th>10</th>\n",
       "      <td>TLE4</td>\n",
       "      <td>TLE3</td>\n",
       "      <td>3.797281e-05</td>\n",
       "      <td>-0.168721</td>\n",
       "      <td>2.325056e-03</td>\n",
       "      <td>True</td>\n",
       "    </tr>\n",
       "    <tr>\n",
       "      <th>11</th>\n",
       "      <td>ZNF746</td>\n",
       "      <td>ZNF398</td>\n",
       "      <td>4.343418e-05</td>\n",
       "      <td>-0.167133</td>\n",
       "      <td>2.575026e-03</td>\n",
       "      <td>True</td>\n",
       "    </tr>\n",
       "    <tr>\n",
       "      <th>9</th>\n",
       "      <td>UBP1</td>\n",
       "      <td>TFCP2</td>\n",
       "      <td>1.918005e-09</td>\n",
       "      <td>-0.161803</td>\n",
       "      <td>2.310887e-07</td>\n",
       "      <td>True</td>\n",
       "    </tr>\n",
       "    <tr>\n",
       "      <th>6</th>\n",
       "      <td>EXOC6</td>\n",
       "      <td>EXOC6B</td>\n",
       "      <td>8.386245e-09</td>\n",
       "      <td>-0.160700</td>\n",
       "      <td>9.212537e-07</td>\n",
       "      <td>True</td>\n",
       "    </tr>\n",
       "    <tr>\n",
       "      <th>5</th>\n",
       "      <td>ORAI3</td>\n",
       "      <td>ORAI2</td>\n",
       "      <td>5.467065e-04</td>\n",
       "      <td>-0.160258</td>\n",
       "      <td>2.105102e-02</td>\n",
       "      <td>True</td>\n",
       "    </tr>\n",
       "  </tbody>\n",
       "</table>\n",
       "</div>"
      ],
      "text/plain": [
       "        A1      A2         ols_p  ols_coef         p_adj    SL\n",
       "17  SEC24C  SEC24D  5.021426e-16 -0.415167  1.103237e-13  True\n",
       "9    HSPA4   HSPH1  4.175154e-06 -0.271964  2.942302e-04  True\n",
       "3   DIAPH1    INF2  5.238246e-04 -0.219949  2.081367e-02  True\n",
       "10    LDHA    LDHB  2.629650e-05 -0.199090  1.693404e-03  True\n",
       "20  VPS26A  VPS26B  1.095842e-04 -0.188909  5.385487e-03  True\n",
       "10    TLE4    TLE3  3.797281e-05 -0.168721  2.325056e-03  True\n",
       "11  ZNF746  ZNF398  4.343418e-05 -0.167133  2.575026e-03  True\n",
       "9     UBP1   TFCP2  1.918005e-09 -0.161803  2.310887e-07  True\n",
       "6    EXOC6  EXOC6B  8.386245e-09 -0.160700  9.212537e-07  True\n",
       "5    ORAI3   ORAI2  5.467065e-04 -0.160258  2.105102e-02  True"
      ]
     },
     "execution_count": 83,
     "metadata": {},
     "output_type": "execute_result"
    }
   ],
   "source": [
    "# SL pairs that were not previously tested in a computational analysis\n",
    "not_tested = pd.merge(n_hart, n_hahn)\n",
    "not_tested = pd.concat([pd.merge(not_tested[not_tested.SL][['A1','A2']], results),\n",
    "                        pd.merge(not_tested[not_tested.SL][['A1','A2']].rename(columns={'A1':'A2','A2':'A1'}), results)])\n",
    "not_tested[['A1','A2','ols_p','ols_coef','p_adj','SL']].sort_values('ols_coef')[:10]"
   ]
  }
 ],
 "metadata": {
  "kernelspec": {
   "display_name": "Python 3.7.9 64-bit ('paralogSL': conda)",
   "language": "python",
   "name": "python37964bitparalogslconda0f0e77de73d34c52b743edfe8868363d"
  },
  "language_info": {
   "codemirror_mode": {
    "name": "ipython",
    "version": 3
   },
   "file_extension": ".py",
   "mimetype": "text/x-python",
   "name": "python",
   "nbconvert_exporter": "python",
   "pygments_lexer": "ipython3",
   "version": "3.7.1"
  }
 },
 "nbformat": 4,
 "nbformat_minor": 2
}
