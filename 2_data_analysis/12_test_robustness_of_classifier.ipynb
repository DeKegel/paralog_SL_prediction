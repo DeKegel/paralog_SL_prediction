{
 "cells": [
  {
   "cell_type": "markdown",
   "metadata": {},
   "source": [
    "## Test robustness of classifier performance and rankings\n",
    "\n",
    "1. With alternate training datasets - based on permutations of gene loss thresholds\n",
    "2. With artificial missing data - fully imputing, in turn, the 6 features that are affected by imputation"
   ]
  },
  {
   "cell_type": "code",
   "execution_count": 8,
   "metadata": {},
   "outputs": [
    {
     "name": "stdout",
     "output_type": "stream",
     "text": [
      "The autoreload extension is already loaded. To reload it, use:\n",
      "  %reload_ext autoreload\n"
     ]
    }
   ],
   "source": [
    "import pandas as pd\n",
    "import numpy as np\n",
    "import scipy.stats as stats\n",
    "import sklearn\n",
    "from sklearn.metrics import roc_curve, auc, precision_recall_curve, average_precision_score, roc_auc_score\n",
    "from sklearn.ensemble import RandomForestClassifier, GradientBoostingClassifier\n",
    "from sklearn.model_selection import cross_validate, StratifiedKFold\n",
    "import pickle\n",
    "\n",
    "import statsmodels.api as sm\n",
    "import statsmodels.formula.api as smf\n",
    "\n",
    "import seaborn as sns\n",
    "import matplotlib as mpl\n",
    "import matplotlib.pyplot as plt\n",
    "import matplotlib.patches as mpatches\n",
    "from matplotlib_venn import venn2, venn3, venn3_circles\n",
    "\n",
    "import shap\n",
    "\n",
    "import graphing_params as gp\n",
    "%load_ext autoreload\n",
    "%autoreload 1\n",
    "%aimport graphing_params\n",
    "\n",
    "import itertools\n",
    "import os\n",
    "\n",
    "get_local_data_path = lambda folders, fname: os.path.normpath('../local_data/' +'/'.join(folders) +'/'+ fname)\n",
    "\n",
    "# Inputs (training data and features)\n",
    "file_features = get_local_data_path([],'feature_list.txt')\n",
    "file_feature_names = get_local_data_path([],'feature_names.txt')\n",
    "file_annot_pairs = get_local_data_path(['processed','paralog_features'], 'all_features.csv')\n",
    "file_RF_model = get_local_data_path(['results'], 'RF_model.pickle')\n",
    "\n",
    "# Alternate training data\n",
    "file_alt_depmap_pairs = lambda expr_t, exprz_t, hdt, ess: get_local_data_path(['results','alt_params'], \n",
    "                                'depmap_pairs_expr='+str(expr_t)+'_exprz='+str(exprz_t)+'_hd='+str(hdt)+'_ess='+str(ess))\n",
    "# For testing\n",
    "file_consensus_pairs = get_local_data_path(['processed', 'screen_pairs'], 'consensus_pairs.csv')\n",
    "file_all_predictions = get_local_data_path(['results'], 'all_predictions.csv')"
   ]
  },
  {
   "cell_type": "markdown",
   "metadata": {},
   "source": [
    "### Load Data"
   ]
  },
  {
   "cell_type": "code",
   "execution_count": 2,
   "metadata": {},
   "outputs": [
    {
     "name": "stdout",
     "output_type": "stream",
     "text": [
      "Num annotated paralog pairs: 36648\n"
     ]
    },
    {
     "data": {
      "text/html": [
       "<div>\n",
       "<style scoped>\n",
       "    .dataframe tbody tr th:only-of-type {\n",
       "        vertical-align: middle;\n",
       "    }\n",
       "\n",
       "    .dataframe tbody tr th {\n",
       "        vertical-align: top;\n",
       "    }\n",
       "\n",
       "    .dataframe thead th {\n",
       "        text-align: right;\n",
       "    }\n",
       "</style>\n",
       "<table border=\"1\" class=\"dataframe\">\n",
       "  <thead>\n",
       "    <tr style=\"text-align: right;\">\n",
       "      <th></th>\n",
       "      <th>sorted_gene_pair</th>\n",
       "      <th>A1</th>\n",
       "      <th>A2</th>\n",
       "      <th>A1_ensembl</th>\n",
       "      <th>A2_ensembl</th>\n",
       "      <th>A1_entrez</th>\n",
       "      <th>A2_entrez</th>\n",
       "      <th>closest</th>\n",
       "      <th>min_sequence_identity</th>\n",
       "      <th>max_sequence_identity</th>\n",
       "      <th>...</th>\n",
       "      <th>has_essential_pombe_ortholog</th>\n",
       "      <th>has_pombe_ortholog_ip</th>\n",
       "      <th>has_single_essential_pombe_ortholog</th>\n",
       "      <th>has_ecoli_ortholog</th>\n",
       "      <th>conservation_score</th>\n",
       "      <th>mean_age</th>\n",
       "      <th>colocalisation</th>\n",
       "      <th>same_subcell_loc</th>\n",
       "      <th>both_have_loc</th>\n",
       "      <th>has_imputed_val</th>\n",
       "    </tr>\n",
       "  </thead>\n",
       "  <tbody>\n",
       "    <tr>\n",
       "      <th>0</th>\n",
       "      <td>A1BG_OSCAR</td>\n",
       "      <td>A1BG</td>\n",
       "      <td>OSCAR</td>\n",
       "      <td>ENSG00000121410</td>\n",
       "      <td>ENSG00000170909</td>\n",
       "      <td>1</td>\n",
       "      <td>126014</td>\n",
       "      <td>False</td>\n",
       "      <td>0.127273</td>\n",
       "      <td>0.22028</td>\n",
       "      <td>...</td>\n",
       "      <td>False</td>\n",
       "      <td>False</td>\n",
       "      <td>False</td>\n",
       "      <td>False</td>\n",
       "      <td>3</td>\n",
       "      <td>210.95</td>\n",
       "      <td>0.0</td>\n",
       "      <td>False</td>\n",
       "      <td>False</td>\n",
       "      <td>False</td>\n",
       "    </tr>\n",
       "  </tbody>\n",
       "</table>\n",
       "<p>1 rows × 49 columns</p>\n",
       "</div>"
      ],
      "text/plain": [
       "  sorted_gene_pair    A1     A2       A1_ensembl       A2_ensembl  A1_entrez  \\\n",
       "0       A1BG_OSCAR  A1BG  OSCAR  ENSG00000121410  ENSG00000170909          1   \n",
       "\n",
       "   A2_entrez  closest  min_sequence_identity  max_sequence_identity  ...  \\\n",
       "0     126014    False               0.127273                0.22028  ...   \n",
       "\n",
       "   has_essential_pombe_ortholog  has_pombe_ortholog_ip  \\\n",
       "0                         False                  False   \n",
       "\n",
       "   has_single_essential_pombe_ortholog  has_ecoli_ortholog  \\\n",
       "0                                False               False   \n",
       "\n",
       "   conservation_score  mean_age  colocalisation  same_subcell_loc  \\\n",
       "0                   3    210.95             0.0             False   \n",
       "\n",
       "   both_have_loc  has_imputed_val  \n",
       "0          False            False  \n",
       "\n",
       "[1 rows x 49 columns]"
      ]
     },
     "execution_count": 2,
     "metadata": {},
     "output_type": "execute_result"
    }
   ],
   "source": [
    "all_paralog_annots = pd.read_csv(file_annot_pairs)\n",
    "print('Num annotated paralog pairs:', all_paralog_annots.shape[0])\n",
    "all_paralog_annots[:1]"
   ]
  },
  {
   "cell_type": "code",
   "execution_count": 3,
   "metadata": {},
   "outputs": [
    {
     "name": "stdout",
     "output_type": "stream",
     "text": [
      "N features: 22\n"
     ]
    }
   ],
   "source": [
    "features = pd.read_csv(file_features).feature.values\n",
    "print('N features:', len(features))"
   ]
  },
  {
   "cell_type": "code",
   "execution_count": 4,
   "metadata": {},
   "outputs": [
    {
     "data": {
      "text/html": [
       "<div>\n",
       "<style scoped>\n",
       "    .dataframe tbody tr th:only-of-type {\n",
       "        vertical-align: middle;\n",
       "    }\n",
       "\n",
       "    .dataframe tbody tr th {\n",
       "        vertical-align: top;\n",
       "    }\n",
       "\n",
       "    .dataframe thead th {\n",
       "        text-align: right;\n",
       "    }\n",
       "</style>\n",
       "<table border=\"1\" class=\"dataframe\">\n",
       "  <thead>\n",
       "    <tr style=\"text-align: right;\">\n",
       "      <th></th>\n",
       "      <th>simple_name</th>\n",
       "      <th>feature</th>\n",
       "      <th>category</th>\n",
       "    </tr>\n",
       "  </thead>\n",
       "  <tbody>\n",
       "    <tr>\n",
       "      <th>0</th>\n",
       "      <td>Sequence Identity</td>\n",
       "      <td>min_sequence_identity</td>\n",
       "      <td>Sequence</td>\n",
       "    </tr>\n",
       "  </tbody>\n",
       "</table>\n",
       "</div>"
      ],
      "text/plain": [
       "         simple_name                feature  category\n",
       "0  Sequence Identity  min_sequence_identity  Sequence"
      ]
     },
     "execution_count": 4,
     "metadata": {},
     "output_type": "execute_result"
    }
   ],
   "source": [
    "feature_labels = pd.read_csv(file_feature_names, sep='\\t')\n",
    "feature_labels.loc[feature_labels.feature=='mean_complex_essentiality', 'simple_name'] = ' Essentiality of Protein Complex(es)'\n",
    "feature_labels[:1]"
   ]
  },
  {
   "cell_type": "code",
   "execution_count": 5,
   "metadata": {},
   "outputs": [
    {
     "data": {
      "text/html": [
       "<div>\n",
       "<style scoped>\n",
       "    .dataframe tbody tr th:only-of-type {\n",
       "        vertical-align: middle;\n",
       "    }\n",
       "\n",
       "    .dataframe tbody tr th {\n",
       "        vertical-align: top;\n",
       "    }\n",
       "\n",
       "    .dataframe thead th {\n",
       "        text-align: right;\n",
       "    }\n",
       "</style>\n",
       "<table border=\"1\" class=\"dataframe\">\n",
       "  <thead>\n",
       "    <tr style=\"text-align: right;\">\n",
       "      <th></th>\n",
       "      <th>prediction_rank</th>\n",
       "      <th>sorted_gene_pair</th>\n",
       "      <th>prediction_score</th>\n",
       "    </tr>\n",
       "  </thead>\n",
       "  <tbody>\n",
       "    <tr>\n",
       "      <th>0</th>\n",
       "      <td>1</td>\n",
       "      <td>SMARCA2_SMARCA4</td>\n",
       "      <td>0.430886</td>\n",
       "    </tr>\n",
       "  </tbody>\n",
       "</table>\n",
       "</div>"
      ],
      "text/plain": [
       "   prediction_rank sorted_gene_pair  prediction_score\n",
       "0                1  SMARCA2_SMARCA4          0.430886"
      ]
     },
     "execution_count": 5,
     "metadata": {},
     "output_type": "execute_result"
    }
   ],
   "source": [
    "all_preds = pd.read_csv(file_all_predictions)[['prediction_rank','sorted_gene_pair','prediction_score']]\n",
    "all_preds[:1]"
   ]
  },
  {
   "cell_type": "code",
   "execution_count": 6,
   "metadata": {},
   "outputs": [
    {
     "name": "stdout",
     "output_type": "stream",
     "text": [
      "Consensus data set: 50/457 = 10.94%\n"
     ]
    },
    {
     "data": {
      "text/html": [
       "<div>\n",
       "<style scoped>\n",
       "    .dataframe tbody tr th:only-of-type {\n",
       "        vertical-align: middle;\n",
       "    }\n",
       "\n",
       "    .dataframe tbody tr th {\n",
       "        vertical-align: top;\n",
       "    }\n",
       "\n",
       "    .dataframe thead th {\n",
       "        text-align: right;\n",
       "    }\n",
       "</style>\n",
       "<table border=\"1\" class=\"dataframe\">\n",
       "  <thead>\n",
       "    <tr style=\"text-align: right;\">\n",
       "      <th></th>\n",
       "      <th>prediction_rank</th>\n",
       "      <th>sorted_gene_pair</th>\n",
       "      <th>prediction_score</th>\n",
       "      <th>n_SL_thompson</th>\n",
       "      <th>n_SL_dede</th>\n",
       "      <th>n_SL_parrish</th>\n",
       "      <th>n_SL_chymera</th>\n",
       "      <th>n_screens</th>\n",
       "      <th>n_screens_SL</th>\n",
       "      <th>SL</th>\n",
       "      <th>...</th>\n",
       "      <th>has_essential_pombe_ortholog</th>\n",
       "      <th>has_pombe_ortholog_ip</th>\n",
       "      <th>has_single_essential_pombe_ortholog</th>\n",
       "      <th>has_ecoli_ortholog</th>\n",
       "      <th>conservation_score</th>\n",
       "      <th>mean_age</th>\n",
       "      <th>colocalisation</th>\n",
       "      <th>same_subcell_loc</th>\n",
       "      <th>both_have_loc</th>\n",
       "      <th>has_imputed_val</th>\n",
       "    </tr>\n",
       "  </thead>\n",
       "  <tbody>\n",
       "    <tr>\n",
       "      <th>0</th>\n",
       "      <td>5</td>\n",
       "      <td>CNOT7_CNOT8</td>\n",
       "      <td>0.399963</td>\n",
       "      <td>3.0</td>\n",
       "      <td>3.0</td>\n",
       "      <td>2.0</td>\n",
       "      <td>1.0</td>\n",
       "      <td>4</td>\n",
       "      <td>4</td>\n",
       "      <td>True</td>\n",
       "      <td>...</td>\n",
       "      <td>False</td>\n",
       "      <td>True</td>\n",
       "      <td>False</td>\n",
       "      <td>False</td>\n",
       "      <td>8</td>\n",
       "      <td>1628.0</td>\n",
       "      <td>0.0</td>\n",
       "      <td>False</td>\n",
       "      <td>False</td>\n",
       "      <td>False</td>\n",
       "    </tr>\n",
       "  </tbody>\n",
       "</table>\n",
       "<p>1 rows × 58 columns</p>\n",
       "</div>"
      ],
      "text/plain": [
       "   prediction_rank sorted_gene_pair  prediction_score  n_SL_thompson  \\\n",
       "0                5      CNOT7_CNOT8          0.399963            3.0   \n",
       "\n",
       "   n_SL_dede  n_SL_parrish  n_SL_chymera  n_screens  n_screens_SL    SL  ...  \\\n",
       "0        3.0           2.0           1.0          4             4  True  ...   \n",
       "\n",
       "  has_essential_pombe_ortholog has_pombe_ortholog_ip  \\\n",
       "0                        False                  True   \n",
       "\n",
       "  has_single_essential_pombe_ortholog has_ecoli_ortholog  conservation_score  \\\n",
       "0                               False              False                   8   \n",
       "\n",
       "   mean_age  colocalisation  same_subcell_loc  both_have_loc  has_imputed_val  \n",
       "0    1628.0             0.0             False          False            False  \n",
       "\n",
       "[1 rows x 58 columns]"
      ]
     },
     "execution_count": 6,
     "metadata": {},
     "output_type": "execute_result"
    }
   ],
   "source": [
    "consensus = pd.read_csv(file_consensus_pairs)\n",
    "print('Consensus data set: %d/%d = %.2f%%' % (sum(consensus.SL), consensus.shape[0], sum(consensus.SL)/consensus.shape[0]*100))\n",
    "consensus = pd.merge(pd.merge(all_preds, consensus), all_paralog_annots)\n",
    "consensus[:1]"
   ]
  },
  {
   "cell_type": "markdown",
   "metadata": {},
   "source": [
    "### 1. Test alternate training data - threshold permutations\n",
    "Check:\n",
    "- ROC AUC and AP for screen consensus dataset\n",
    "- % of top 1000 predictions that are the same\n",
    "- Spearman's rank correlation between predictions from the permuted analysis and predictions from the original analysis"
   ]
  },
  {
   "cell_type": "code",
   "execution_count": 9,
   "metadata": {},
   "outputs": [],
   "source": [
    "# Test with screen consensus and compare top 1000\n",
    "def test_classifier(training_data, classifier, features):\n",
    "    training_data = pd.merge(training_data, all_paralog_annots).sort_values(['A1','A2']).reset_index(drop=True)\n",
    "    _ = classifier.fit(training_data[features], training_data.SL)\n",
    "    \n",
    "    ypred = classifier.predict_proba(consensus[features])[:,1]\n",
    "    ROCAUC = roc_auc_score(consensus.SL, ypred)\n",
    "    AP = average_precision_score(consensus.SL, ypred)\n",
    "    \n",
    "    newpreds = all_paralog_annots[['sorted_gene_pair']].assign(\n",
    "                    new_score = classifier.predict_proba(all_paralog_annots[features])[:,1])\n",
    "    newpreds = newpreds.sort_values('new_score', ascending=False).reset_index(drop=True)\n",
    "    newpreds = newpreds.assign(new_rank = newpreds.index+1)\n",
    "    df = pd.merge(all_preds, newpreds)\n",
    "    \n",
    "    top_1000_overlap = df[(df.new_rank<=1000) & (df.prediction_rank<=1000)].shape[0]\n",
    "    rank_corr = stats.spearmanr(df.new_rank, df.prediction_rank)[0]\n",
    "    \n",
    "    return ROCAUC, AP, top_1000_overlap, rank_corr"
   ]
  },
  {
   "cell_type": "code",
   "execution_count": 10,
   "metadata": {},
   "outputs": [],
   "source": [
    "thresholds = [[0.17,1],[-3,-4,-6],[-1.28,-1.5],[-0.5,-0.6,-0.7]]"
   ]
  },
  {
   "cell_type": "code",
   "execution_count": 11,
   "metadata": {},
   "outputs": [],
   "source": [
    "alt_metrics = pd.DataFrame(columns=['expr','exprz','cn','ceres','n','n_SL','ROC_AUC','AP','top_1000_overlap','rank_corr'])\n",
    "for i, params in enumerate(list(itertools.product(*thresholds))):\n",
    "    training_data = pd.read_csv(file_alt_depmap_pairs(params[0], params[1], params[2], params[3]))\n",
    "    RF = RandomForestClassifier(n_estimators=600, random_state=8, max_features=0.5, max_depth=3, min_samples_leaf=8)\n",
    "    res = test_classifier(training_data, RF, features)\n",
    "    alt_metrics.loc[i] = [params[0], params[1], params[2], params[3], training_data.shape[0], sum(training_data.SL)] + list(res)"
   ]
  },
  {
   "cell_type": "code",
   "execution_count": 13,
   "metadata": {},
   "outputs": [
    {
     "name": "stdout",
     "output_type": "stream",
     "text": [
      "N= 36\n"
     ]
    },
    {
     "data": {
      "image/png": "[encoded data removed]",
      "text/plain": [
       "<Figure size 650x330 with 4 Axes>"
      ]
     },
     "metadata": {},
     "output_type": "display_data"
    }
   ],
   "source": [
    "f, ax = plt.subplots(2, 2, figsize=(6.5,3.3)); ax=ax.flatten()\n",
    "print('N=', alt_metrics.shape[0])\n",
    "orig = alt_metrics[(alt_metrics.expr==1)&(alt_metrics.exprz==-4)&(alt_metrics.cn==-1.28)&(alt_metrics.ceres==-0.6)].iloc[0]\n",
    "\n",
    "histkws = {'edgecolor':'#aaa', 'linewidth':0.7, 'color':'#ccc'}\n",
    "sns.histplot(alt_metrics.ROC_AUC, ax=ax[0], **histkws, bins=4)\n",
    "sns.histplot(alt_metrics.AP, ax=ax[1], **histkws, bins=4)\n",
    "sns.histplot(alt_metrics.top_1000_overlap/1000*100, ax=ax[2], **histkws, bins=5)\n",
    "sns.histplot(alt_metrics.rank_corr, ax=ax[3], **histkws, bins=4)\n",
    "ax[0].set_xlabel('ROC AUC\\n(mean=%.2f)' % (alt_metrics.ROC_AUC.mean())); \n",
    "ax[1].set_xlabel('Avg. precision\\n(mean=%.2f)' % (alt_metrics.AP.mean()))\n",
    "ax[2].set_xlabel('%% top 1000 predictions retrieved\\n(mean=%.f%%)' % (alt_metrics.top_1000_overlap.mean()/1000*100)); \n",
    "ax[3].set_xlabel('Rank correlation\\n(mean=%.2f)' % (alt_metrics.rank_corr.mean()))\n",
    "for i in range(0,4): ax[i].set_ylabel('N. permutations', labelpad=2)\n",
    "\n",
    "linekws = {'linestyle':'-', 'color':gp.get_color('orange'), 'label':'Sequence identity', 'linewidth':1.1}\n",
    "ax[0].axvline(roc_auc_score(consensus.SL, consensus.min_sequence_identity), **linekws)\n",
    "ax[1].axvline(average_precision_score(consensus.SL, consensus.min_sequence_identity), **linekws)\n",
    "\n",
    "df = pd.merge(all_preds, all_paralog_annots[['sorted_gene_pair','min_sequence_identity']])\n",
    "df = df.sort_values('min_sequence_identity', ascending=False)\n",
    "ax[2].axvline(sum(df[:1000].prediction_rank<=1000)/1000*100, **linekws)\n",
    "ax[3].axvline(stats.spearmanr(-df.min_sequence_identity, df.prediction_rank)[0], **linekws)\n",
    "\n",
    "linekws = {'linestyle':'--', 'color':'black', 'label':'Original classifier'}\n",
    "ax[0].axvline(orig.ROC_AUC, **linekws); ax[1].axvline(orig.AP, **linekws)\n",
    "ax[0].set_xlim([0.65,0.88]); ax[1].set_xlim([0.1,0.5]); ax[2].set_xlim([0,101]); ax[3].set_xlim([-0.02,1.01])\n",
    "\n",
    "_=ax[1].legend(bbox_to_anchor=(1.1,1))\n",
    "plt.tight_layout()\n",
    "plt.savefig(\"../figures/for_paper/training_data_permutation.svg\", dpi=300)"
   ]
  },
  {
   "cell_type": "markdown",
   "metadata": {},
   "source": [
    "### 2. Test with artificial missing data (full imputation)"
   ]
  },
  {
   "cell_type": "code",
   "execution_count": 14,
   "metadata": {},
   "outputs": [],
   "source": [
    "# Load trained RF classifier from file\n",
    "with open(file_RF_model, 'rb') as f:\n",
    "    RF = pickle.load(f)"
   ]
  },
  {
   "cell_type": "code",
   "execution_count": 15,
   "metadata": {},
   "outputs": [],
   "source": [
    "def compute_stats(data, RF):\n",
    "    df = pd.merge(consensus[['sorted_gene_pair','SL']], data)\n",
    "    ypred = RF.predict_proba(df[features])[:,1]\n",
    "    ROCAUC = roc_auc_score(df.SL, ypred)\n",
    "    AP = average_precision_score(df.SL, ypred)\n",
    "    \n",
    "    df = data[['sorted_gene_pair']].assign(new_score=RF.predict_proba(data[features])[:,1])\n",
    "    df = df.sort_values('new_score', ascending=False).reset_index(drop=True)\n",
    "    df = df.assign(new_rank = df.index+1)\n",
    "    df = pd.merge(all_preds, df)\n",
    "    top_1000 = df[(df.new_rank<=1000) & (df.prediction_rank<=1000)].shape[0]\n",
    "    rank_corr = stats.spearmanr(df.new_rank, df.prediction_rank)[0]\n",
    "    \n",
    "    return ROCAUC, AP, top_1000, rank_corr"
   ]
  },
  {
   "cell_type": "code",
   "execution_count": 16,
   "metadata": {},
   "outputs": [
    {
     "name": "stdout",
     "output_type": "stream",
     "text": [
      "Mean val: 0.1986149116161616\n",
      "Mean val: 0.20604555888520595\n",
      "Mean val: 591.642738010096\n",
      "Mean val: 0.3022725057574765\n",
      "Mean val: 9.267410512851995\n",
      "Mean val: 48.22846885218839\n"
     ]
    }
   ],
   "source": [
    "impute_results = pd.DataFrame(columns=['ROCAUC', 'AP', 'top_1000_overlap','rank_corr'])\n",
    "\n",
    "# 1. Complex essentiality\n",
    "mean_val = all_paralog_annots[all_paralog_annots.either_in_complex & ~all_paralog_annots.self_complex_only &\n",
    "                              ~all_paralog_annots.flag_missing_scores].mean_complex_essentiality.mean()\n",
    "print('Mean val:', mean_val)\n",
    "data = all_paralog_annots.assign(\n",
    "    mean_complex_essentiality= all_paralog_annots.apply(\n",
    "        lambda x: mean_val if x.either_in_complex and not x.self_complex_only else 0, axis=1))\n",
    "res = compute_stats(data, RF)\n",
    "impute_results.loc['Essentiality of Protein Complex(es)'] = res\n",
    "\n",
    "# 2. Essentiality of shared PPIs\n",
    "mean_val = all_paralog_annots[all_paralog_annots.n_shared_ppi>0].shared_ppi_mean_essentiality.mean()\n",
    "print('Mean val:', mean_val)\n",
    "data = all_paralog_annots.assign(\n",
    "    shared_ppi_mean_essentiality = all_paralog_annots.apply(lambda x: mean_val if x.n_shared_ppi>0 else 0, axis=1))\n",
    "res = compute_stats(data, RF)\n",
    "impute_results.loc['Essentiality of Shared PPIs'] = res\n",
    "\n",
    "# 3. Mean age\n",
    "mean_val = all_paralog_annots.mean_age.mean()\n",
    "print('Mean val:', mean_val)\n",
    "data = all_paralog_annots.assign(mean_age = mean_val)\n",
    "res = compute_stats(data, RF)\n",
    "impute_results.loc['Gene Age'] = res\n",
    "\n",
    "# 4. Expr correlation\n",
    "mean_val = all_paralog_annots.gtex_spearman_corr.mean()\n",
    "print('Mean val:', mean_val)\n",
    "data = all_paralog_annots.assign(gtex_spearman_corr = mean_val)\n",
    "res = compute_stats(data, RF)\n",
    "impute_results.loc['Expression Correlation'] = res\n",
    "\n",
    "# 5. Min mean expr\n",
    "mean_val = all_paralog_annots.gtex_min_mean_expr.mean()\n",
    "print('Mean val:', mean_val)\n",
    "data = all_paralog_annots.assign(gtex_min_mean_expr = mean_val)\n",
    "res = compute_stats(data, RF)\n",
    "impute_results.loc['Mean expression (Lower)'] = res\n",
    "\n",
    "# 6. Max mean expr\n",
    "mean_val = all_paralog_annots.gtex_max_mean_expr.mean()\n",
    "print('Mean val:', mean_val)\n",
    "data = all_paralog_annots.assign(gtex_max_mean_expr = mean_val)\n",
    "res = compute_stats(data, RF)\n",
    "impute_results.loc['Mean expression (Higher)'] = res"
   ]
  },
  {
   "cell_type": "code",
   "execution_count": 18,
   "metadata": {},
   "outputs": [
    {
     "data": {
      "image/png": "[encoded data removed]",
      "text/plain": [
       "<Figure size 670x340 with 4 Axes>"
      ]
     },
     "metadata": {},
     "output_type": "display_data"
    }
   ],
   "source": [
    "f, ax = plt.subplots(2, 2, figsize=(6.7,3.4), sharey=True); ax=ax.flatten()\n",
    "df = impute_results.sort_values('top_1000_overlap', ascending=False)\n",
    "df['top_1000_overlap'] = df.top_1000_overlap/1000*100\n",
    "\n",
    "df.ROCAUC.plot.barh(ax=ax[0], width=0.8, color='#ddd')\n",
    "#df.AP.plot.barh(ax=ax[1], width=0.8, color='#ccc')\n",
    "sns.pointplot(y=df.index, x=df.AP, ax=ax[1], color='#bbb', join=False)\n",
    "df.top_1000_overlap.plot.barh(ax=ax[2], width=0.8, color='#ddd')\n",
    "sns.pointplot(y=df.index, x=df.rank_corr, ax=ax[3], color='#bbb', join=False)\n",
    "\n",
    "linekws = {'linestyle':'-', 'color':gp.get_color('orange'), 'label':'Sequence identity', 'linewidth':1.1}\n",
    "ax[0].axvline(roc_auc_score(consensus.SL, consensus.min_sequence_identity), **linekws)\n",
    "ax[1].axvline(average_precision_score(consensus.SL, consensus.min_sequence_identity), **linekws)\n",
    "linekws = {'linestyle':'--', 'color':'black', 'label':'With original data'}\n",
    "ax[0].axvline(roc_auc_score(consensus.SL, consensus.prediction_score), **linekws)\n",
    "ax[1].axvline(average_precision_score(consensus.SL, consensus.prediction_score), **linekws, zorder=0)\n",
    "\n",
    "df2 = pd.merge(all_preds, all_paralog_annots[['sorted_gene_pair','min_sequence_identity']])\n",
    "df2 = df2.sort_values('min_sequence_identity', ascending=False)\n",
    "linekws = {'linestyle':'-', 'color':gp.get_color('orange'), 'label':'Sequence identity', 'linewidth':1.1}\n",
    "ax[2].axvline(sum(df2[:1000].prediction_rank<=1000)/1000*100, **linekws)\n",
    "ax[3].axvline(stats.spearmanr(-df2.min_sequence_identity, df2.prediction_rank)[0], **linekws)\n",
    "\n",
    "gp.set_axis_props(ax[0], show_yticks=False, ytick_fontsize=9, xlabel='ROC AUC')\n",
    "gp.set_axis_props(ax[1], show_yticks=False, xlabel='Avg. precision')\n",
    "gp.set_axis_props(ax[2], show_yticks=False, ytick_fontsize=9, xlabel='% top 1000 predictions\\nretrieved')\n",
    "gp.set_axis_props(ax[3], show_yticks=False, xlabel='Rank correlation')\n",
    "ax[0].set_xlim([0.5,0.88]); ax[1].set_xlim([0.15,0.51])\n",
    "\n",
    "handles, labels = ax[1].get_legend_handles_labels()\n",
    "patch = mpatches.Patch(color='#ddd', label='With feature fully\\nimputed')\n",
    "handles.append(patch) \n",
    "_ = ax[1].legend(handles=handles, bbox_to_anchor=(1.1,1))\n",
    "plt.tight_layout()\n",
    "plt.savefig(\"../figures/for_paper/imputation_impact.svg\", dpi=300)"
   ]
  }
 ],
 "metadata": {
  "kernelspec": {
   "display_name": "Python 3.7.9 64-bit ('paralogSL': conda)",
   "language": "python",
   "name": "python37964bitparalogslconda0f0e77de73d34c52b743edfe8868363d"
  },
  "language_info": {
   "codemirror_mode": {
    "name": "ipython",
    "version": 3
   },
   "file_extension": ".py",
   "mimetype": "text/x-python",
   "name": "python",
   "nbconvert_exporter": "python",
   "pygments_lexer": "ipython3",
   "version": "3.7.1"
  }
 },
 "nbformat": 4,
 "nbformat_minor": 4
}
