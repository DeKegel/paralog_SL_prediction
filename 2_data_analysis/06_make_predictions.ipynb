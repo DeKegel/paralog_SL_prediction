{
 "cells": [
  {
   "cell_type": "markdown",
   "metadata": {},
   "source": [
    "## Make predictions with Random Forest Classifier\n",
    "\n",
    "**Input**:\n",
    "* All features for all paralog pairs\n",
    "* Independent data sets of (non-)SL paralog pairs from combinatorial screens\n",
    "* Random Forest Classifier (pickle)\n",
    "\n",
    "**Output**:\n",
    "* Predictions for all paralog pairs (>=20% sequence identity)\n",
    "* Table S8: Feature values and predictions for all paralog pairs"
   ]
  },
  {
   "cell_type": "code",
   "execution_count": 1,
   "metadata": {
    "tags": []
   },
   "outputs": [],
   "source": [
    "import pandas as pd\n",
    "import numpy as np\n",
    "import scipy.stats as stats\n",
    "from sklearn.ensemble import RandomForestClassifier\n",
    "import pickle\n",
    "import statsmodels.api as sm\n",
    "import statsmodels.formula.api as smf\n",
    "import seaborn as sns\n",
    "import matplotlib as mpl\n",
    "import matplotlib.pyplot as plt\n",
    "import math\n",
    "\n",
    "import graphing_params as gp\n",
    "%load_ext autoreload\n",
    "%autoreload 1\n",
    "%aimport graphing_params\n",
    "\n",
    "import itertools\n",
    "import os\n",
    "\n",
    "get_local_data_path = lambda folders, fname: os.path.normpath('../local_data/' +'/'.join(folders) +'/'+ fname)\n",
    "\n",
    "# Inputs\n",
    "file_feature_list = get_local_data_path([],'feature_list.txt')\n",
    "file_annot_pairs = get_local_data_path(['processed','paralog_features'], 'all_features.csv')\n",
    "file_RF_model = get_local_data_path(['results'], 'RF_model.pickle')\n",
    "\n",
    "file_thompson_pairs = get_local_data_path(['processed', 'screen_pairs'], 'thompson_pairs.csv')\n",
    "file_dede_pairs = get_local_data_path(['processed', 'screen_pairs'], 'dede_pairs.csv')\n",
    "file_chymera_pairs = get_local_data_path(['processed','screen_pairs'], 'chymera_pairs_filtered.csv')\n",
    "file_parrish_pairs = get_local_data_path(['processed','screen_pairs'], 'parrish_pairs.csv')\n",
    "file_all_screened_pairs = get_local_data_path(['processed', 'screen_pairs'], 'all_screened_pairs.csv')\n",
    "file_consensus_pairs = get_local_data_path(['processed', 'screen_pairs'], 'consensus_pairs.csv')\n",
    "\n",
    "# To annotate the predictions\n",
    "file_depmap_pairs = get_local_data_path(['results'], 'depmap_pairs.csv')\n",
    "file_validated_SLs = get_local_data_path([], 'validated_SLs.txt')\n",
    "\n",
    "# Outputs\n",
    "file_all_predictions = get_local_data_path(['results'], 'all_predictions.csv')\n",
    "file_table_s8 = get_local_data_path(['supplemental_files'], 'Table_S8.csv')"
   ]
  },
  {
   "cell_type": "markdown",
   "metadata": {},
   "source": [
    "### Load Data"
   ]
  },
  {
   "cell_type": "markdown",
   "metadata": {},
   "source": [
    "#### All paralog pairs with feature annotations"
   ]
  },
  {
   "cell_type": "code",
   "execution_count": 2,
   "metadata": {
    "tags": []
   },
   "outputs": [
    {
     "name": "stdout",
     "output_type": "stream",
     "text": [
      "Num annotated paralog pairs: 36648\n"
     ]
    },
    {
     "data": {
      "text/html": [
       "<div>\n",
       "<style scoped>\n",
       "    .dataframe tbody tr th:only-of-type {\n",
       "        vertical-align: middle;\n",
       "    }\n",
       "\n",
       "    .dataframe tbody tr th {\n",
       "        vertical-align: top;\n",
       "    }\n",
       "\n",
       "    .dataframe thead th {\n",
       "        text-align: right;\n",
       "    }\n",
       "</style>\n",
       "<table border=\"1\" class=\"dataframe\">\n",
       "  <thead>\n",
       "    <tr style=\"text-align: right;\">\n",
       "      <th></th>\n",
       "      <th>sorted_gene_pair</th>\n",
       "      <th>A1</th>\n",
       "      <th>A2</th>\n",
       "      <th>A1_ensembl</th>\n",
       "      <th>A2_ensembl</th>\n",
       "      <th>A1_entrez</th>\n",
       "      <th>A2_entrez</th>\n",
       "      <th>closest</th>\n",
       "      <th>min_sequence_identity</th>\n",
       "      <th>max_sequence_identity</th>\n",
       "      <th>...</th>\n",
       "      <th>has_cerevisiae_ortholog_ip</th>\n",
       "      <th>has_pombe_ortholog</th>\n",
       "      <th>has_essential_pombe_ortholog</th>\n",
       "      <th>has_pombe_ortholog_ip</th>\n",
       "      <th>has_single_essential_pombe_ortholog</th>\n",
       "      <th>has_ecoli_ortholog</th>\n",
       "      <th>conservation_score</th>\n",
       "      <th>mean_age</th>\n",
       "      <th>colocalisation</th>\n",
       "      <th>same_subcell_loc</th>\n",
       "    </tr>\n",
       "  </thead>\n",
       "  <tbody>\n",
       "    <tr>\n",
       "      <th>0</th>\n",
       "      <td>A1BG_OSCAR</td>\n",
       "      <td>A1BG</td>\n",
       "      <td>OSCAR</td>\n",
       "      <td>ENSG00000121410</td>\n",
       "      <td>ENSG00000170909</td>\n",
       "      <td>1</td>\n",
       "      <td>126014</td>\n",
       "      <td>False</td>\n",
       "      <td>0.127273</td>\n",
       "      <td>0.22028</td>\n",
       "      <td>...</td>\n",
       "      <td>False</td>\n",
       "      <td>False</td>\n",
       "      <td>False</td>\n",
       "      <td>False</td>\n",
       "      <td>False</td>\n",
       "      <td>False</td>\n",
       "      <td>3</td>\n",
       "      <td>210.95</td>\n",
       "      <td>0.0</td>\n",
       "      <td>False</td>\n",
       "    </tr>\n",
       "  </tbody>\n",
       "</table>\n",
       "<p>1 rows × 46 columns</p>\n",
       "</div>"
      ],
      "text/plain": [
       "  sorted_gene_pair    A1     A2       A1_ensembl       A2_ensembl  A1_entrez  \\\n",
       "0       A1BG_OSCAR  A1BG  OSCAR  ENSG00000121410  ENSG00000170909          1   \n",
       "\n",
       "   A2_entrez  closest  min_sequence_identity  max_sequence_identity  ...  \\\n",
       "0     126014    False               0.127273                0.22028  ...   \n",
       "\n",
       "   has_cerevisiae_ortholog_ip  has_pombe_ortholog  \\\n",
       "0                       False               False   \n",
       "\n",
       "   has_essential_pombe_ortholog  has_pombe_ortholog_ip  \\\n",
       "0                         False                  False   \n",
       "\n",
       "   has_single_essential_pombe_ortholog  has_ecoli_ortholog  \\\n",
       "0                                False               False   \n",
       "\n",
       "   conservation_score  mean_age  colocalisation  same_subcell_loc  \n",
       "0                   3    210.95             0.0             False  \n",
       "\n",
       "[1 rows x 46 columns]"
      ]
     },
     "execution_count": 2,
     "metadata": {},
     "output_type": "execute_result"
    }
   ],
   "source": [
    "all_paralog_annotations = pd.read_csv(file_annot_pairs)\n",
    "print('Num annotated paralog pairs:', all_paralog_annotations.shape[0])\n",
    "all_paralog_annotations[:1]"
   ]
  },
  {
   "cell_type": "code",
   "execution_count": 3,
   "metadata": {
    "tags": []
   },
   "outputs": [
    {
     "name": "stdout",
     "output_type": "stream",
     "text": [
      "N features 22\n"
     ]
    }
   ],
   "source": [
    "features = pd.read_csv(file_feature_list).feature.values\n",
    "print('N features', len(features))"
   ]
  },
  {
   "cell_type": "markdown",
   "metadata": {},
   "source": [
    "#### Results from combinatorial screens"
   ]
  },
  {
   "cell_type": "code",
   "execution_count": 6,
   "metadata": {
    "tags": []
   },
   "outputs": [
    {
     "name": "stdout",
     "output_type": "stream",
     "text": [
      "All: 71 / 475\n"
     ]
    }
   ],
   "source": [
    "all_thompson_pairs = pd.read_csv(file_thompson_pairs)\n",
    "all_thompson_pairs = all_thompson_pairs[all_thompson_pairs.passes_min_1_filter]\n",
    "all_thompson_pairs = pd.merge(all_thompson_pairs, all_paralog_annotations)\n",
    "print('All:', sum(all_thompson_pairs.n_SL>0), '/', all_thompson_pairs.shape[0])"
   ]
  },
  {
   "cell_type": "code",
   "execution_count": 7,
   "metadata": {
    "tags": []
   },
   "outputs": [
    {
     "name": "stdout",
     "output_type": "stream",
     "text": [
      "All: 24 / 393\n"
     ]
    }
   ],
   "source": [
    "all_dede_pairs = pd.read_csv(file_dede_pairs)\n",
    "all_dede_pairs = pd.merge(all_dede_pairs, all_paralog_annotations)\n",
    "print('All:', sum(all_dede_pairs.n_SL>0), '/', all_dede_pairs.shape[0])"
   ]
  },
  {
   "cell_type": "code",
   "execution_count": 8,
   "metadata": {
    "scrolled": true,
    "tags": []
   },
   "outputs": [
    {
     "name": "stdout",
     "output_type": "stream",
     "text": [
      "All: 122 / 1027\n"
     ]
    }
   ],
   "source": [
    "all_parrish_pairs = pd.read_csv(file_parrish_pairs)\n",
    "all_parrish_pairs = pd.merge(all_parrish_pairs, all_paralog_annotations)\n",
    "print('All:', sum(all_parrish_pairs.n_SL>0), '/', all_parrish_pairs.shape[0])"
   ]
  },
  {
   "cell_type": "code",
   "execution_count": 9,
   "metadata": {},
   "outputs": [
    {
     "name": "stdout",
     "output_type": "stream",
     "text": [
      "All: 72 / 658\n"
     ]
    }
   ],
   "source": [
    "all_chymera_pairs = pd.read_csv(file_chymera_pairs)\n",
    "all_chymera_pairs = pd.merge(all_chymera_pairs, all_paralog_annotations)\n",
    "print('All:', sum(all_chymera_pairs.n_SL>0), '/', all_chymera_pairs.shape[0])"
   ]
  },
  {
   "cell_type": "markdown",
   "metadata": {},
   "source": [
    "#### Consensus pairs\n",
    "TPs = Paralog pairs found to be hits in at least two studies (Dede/Thompson/Parrish/Chymera)  \n",
    "TNs = Pairs screened in at least two studies and not found to be hits in any study"
   ]
  },
  {
   "cell_type": "code",
   "execution_count": 12,
   "metadata": {},
   "outputs": [
    {
     "name": "stdout",
     "output_type": "stream",
     "text": [
      "N= 1845\n"
     ]
    },
    {
     "data": {
      "text/html": [
       "<div>\n",
       "<style scoped>\n",
       "    .dataframe tbody tr th:only-of-type {\n",
       "        vertical-align: middle;\n",
       "    }\n",
       "\n",
       "    .dataframe tbody tr th {\n",
       "        vertical-align: top;\n",
       "    }\n",
       "\n",
       "    .dataframe thead th {\n",
       "        text-align: right;\n",
       "    }\n",
       "</style>\n",
       "<table border=\"1\" class=\"dataframe\">\n",
       "  <thead>\n",
       "    <tr style=\"text-align: right;\">\n",
       "      <th></th>\n",
       "      <th>sorted_gene_pair</th>\n",
       "      <th>n_SL_thompson</th>\n",
       "      <th>n_SL_dede</th>\n",
       "      <th>n_SL_parrish</th>\n",
       "      <th>n_SL_chymera</th>\n",
       "      <th>n_screens</th>\n",
       "      <th>n_screens_SL</th>\n",
       "    </tr>\n",
       "  </thead>\n",
       "  <tbody>\n",
       "    <tr>\n",
       "      <th>0</th>\n",
       "      <td>CASKIN1_CASKIN2</td>\n",
       "      <td>0.0</td>\n",
       "      <td>NaN</td>\n",
       "      <td>NaN</td>\n",
       "      <td>0.0</td>\n",
       "      <td>2</td>\n",
       "      <td>0</td>\n",
       "    </tr>\n",
       "  </tbody>\n",
       "</table>\n",
       "</div>"
      ],
      "text/plain": [
       "  sorted_gene_pair  n_SL_thompson  n_SL_dede  n_SL_parrish  n_SL_chymera  \\\n",
       "0  CASKIN1_CASKIN2            0.0        NaN           NaN           0.0   \n",
       "\n",
       "   n_screens  n_screens_SL  \n",
       "0          2             0  "
      ]
     },
     "metadata": {},
     "output_type": "display_data"
    }
   ],
   "source": [
    "all_screened_pairs = pd.read_csv(file_all_screened_pairs)\n",
    "print('N=', all_screened_pairs.shape[0])\n",
    "display(all_screened_pairs[:1])\n",
    "all_screened_pairs = pd.merge(all_screened_pairs, all_paralog_annotations)"
   ]
  },
  {
   "cell_type": "code",
   "execution_count": 13,
   "metadata": {},
   "outputs": [
    {
     "name": "stdout",
     "output_type": "stream",
     "text": [
      "N= 457\n"
     ]
    },
    {
     "data": {
      "text/html": [
       "<div>\n",
       "<style scoped>\n",
       "    .dataframe tbody tr th:only-of-type {\n",
       "        vertical-align: middle;\n",
       "    }\n",
       "\n",
       "    .dataframe tbody tr th {\n",
       "        vertical-align: top;\n",
       "    }\n",
       "\n",
       "    .dataframe thead th {\n",
       "        text-align: right;\n",
       "    }\n",
       "</style>\n",
       "<table border=\"1\" class=\"dataframe\">\n",
       "  <thead>\n",
       "    <tr style=\"text-align: right;\">\n",
       "      <th></th>\n",
       "      <th>sorted_gene_pair</th>\n",
       "      <th>n_SL_thompson</th>\n",
       "      <th>n_SL_dede</th>\n",
       "      <th>n_SL_parrish</th>\n",
       "      <th>n_SL_chymera</th>\n",
       "      <th>n_screens</th>\n",
       "      <th>n_screens_SL</th>\n",
       "      <th>SL</th>\n",
       "    </tr>\n",
       "  </thead>\n",
       "  <tbody>\n",
       "    <tr>\n",
       "      <th>0</th>\n",
       "      <td>CASKIN1_CASKIN2</td>\n",
       "      <td>0.0</td>\n",
       "      <td>NaN</td>\n",
       "      <td>NaN</td>\n",
       "      <td>0.0</td>\n",
       "      <td>2</td>\n",
       "      <td>0</td>\n",
       "      <td>False</td>\n",
       "    </tr>\n",
       "  </tbody>\n",
       "</table>\n",
       "</div>"
      ],
      "text/plain": [
       "  sorted_gene_pair  n_SL_thompson  n_SL_dede  n_SL_parrish  n_SL_chymera  \\\n",
       "0  CASKIN1_CASKIN2            0.0        NaN           NaN           0.0   \n",
       "\n",
       "   n_screens  n_screens_SL     SL  \n",
       "0          2             0  False  "
      ]
     },
     "execution_count": 13,
     "metadata": {},
     "output_type": "execute_result"
    }
   ],
   "source": [
    "consensus_pairs = pd.read_csv(file_consensus_pairs)\n",
    "print('N=', consensus_pairs.shape[0])\n",
    "consensus_pairs[:1]"
   ]
  },
  {
   "cell_type": "markdown",
   "metadata": {},
   "source": [
    "### Classifier"
   ]
  },
  {
   "cell_type": "code",
   "execution_count": 14,
   "metadata": {},
   "outputs": [],
   "source": [
    "# Load RF classifier from file\n",
    "with open(file_RF_model, 'rb') as f:\n",
    "    RF = pickle.load(f)"
   ]
  },
  {
   "cell_type": "markdown",
   "metadata": {},
   "source": [
    "### Predictions for all sets of screened pairs"
   ]
  },
  {
   "cell_type": "code",
   "execution_count": 15,
   "metadata": {},
   "outputs": [],
   "source": [
    "thompson_predictions = all_thompson_pairs.assign(SL_pred=RF.predict_proba(all_thompson_pairs[features])[:,1])\n",
    "dede_predictions = all_dede_pairs.assign(SL_pred=RF.predict_proba(all_dede_pairs[features])[:,1])\n",
    "parrish_predictions = all_parrish_pairs.assign(SL_pred=RF.predict_proba(all_parrish_pairs[features])[:,1])\n",
    "chymera_predictions = all_chymera_pairs.assign(SL_pred=RF.predict_proba(all_chymera_pairs[features])[:,1])"
   ]
  },
  {
   "cell_type": "code",
   "execution_count": 16,
   "metadata": {},
   "outputs": [],
   "source": [
    "blue_palette = sns.color_palette(\"Blues\", n_colors=4)\n",
    "def draw_stripplot_w_medians(predictions, ax, screen_name, ylab='', two_plus=False):\n",
    "    if two_plus:\n",
    "        predictions['n_SL'] = predictions.n_SL.apply(lambda x: x if x<=2 else 2)\n",
    "    sns.stripplot(y='SL_pred', x='n_SL', data=predictions, palette=blue_palette, ax=ax, alpha=0.9, size=4, zorder=0, jitter=0.1)\n",
    "    for idx, (tick, text) in enumerate(zip(ax.get_xticks(), ax.get_xticklabels())):\n",
    "        n = text.get_text()\n",
    "        median_val = predictions[predictions['n_SL']==int(n)].SL_pred.median()\n",
    "        median_width = 0.8\n",
    "        ax.plot([tick-median_width/2, tick+median_width/2], [median_val, median_val], lw=1.2, color='black')\n",
    "    gp.set_axis_props(ax, xlabel='N. cell lines in which\\npair is a hit', ylabel=ylab, \n",
    "                      show_yticks=(False if ylab=='' else True))\n",
    "    ax.set_title(screen_name, fontsize=9.5)"
   ]
  },
  {
   "cell_type": "code",
   "execution_count": 17,
   "metadata": {},
   "outputs": [
    {
     "data": {
      "image/png": "[encoded data removed]",
      "text/plain": [
       "<Figure size 660x270 with 4 Axes>"
      ]
     },
     "metadata": {},
     "output_type": "display_data"
    }
   ],
   "source": [
    "f, ax = plt.subplots(1, 4, figsize=(6.6,2.7), gridspec_kw={'width_ratios':[1.2, 1.2, 1, 1]}, sharey=True)\n",
    "draw_stripplot_w_medians(thompson_predictions, ax[0], 'Thompson et al.', ylab='Prediction score')\n",
    "draw_stripplot_w_medians(dede_predictions, ax[1], 'Dede et al.')\n",
    "draw_stripplot_w_medians(parrish_predictions, ax[2], 'Parrish et al.')\n",
    "draw_stripplot_w_medians(chymera_predictions, ax[3], 'CHyMErA')\n",
    "plt.tight_layout()\n",
    "f.savefig(\"../figures/for_paper/screen_prediction_stripplots.svg\", bbox_inches=\"tight\", dpi=300)"
   ]
  },
  {
   "cell_type": "code",
   "execution_count": 18,
   "metadata": {},
   "outputs": [
    {
     "name": "stdout",
     "output_type": "stream",
     "text": [
      "1 v 2+ Mann-U stat=323.0, pval=0.0050\n",
      "1 v 2+ Mann-U stat=39.0, pval=0.5696\n",
      "1 v 2+ Mann-U stat=1288.0, pval=0.1853\n",
      "1 v 2+ Mann-U stat=168.0, pval=0.0212\n"
     ]
    }
   ],
   "source": [
    "for screen in [thompson_predictions, dede_predictions, parrish_predictions, chymera_predictions]:\n",
    "    print('1 v 2+ Mann-U', 'stat=%.1f, pval=%.4f' % \n",
    "          (stats.mannwhitneyu(screen[screen.n_SL==1].SL_pred, screen[screen.n_SL>1].SL_pred, alternative='two-sided')))"
   ]
  },
  {
   "cell_type": "code",
   "execution_count": 19,
   "metadata": {},
   "outputs": [
    {
     "name": "stdout",
     "output_type": "stream",
     "text": [
      "0 v 1 Mann-U stat=5382.0, pval=4.618898e-07\n",
      "0 v 1 Mann-U stat=297.0, pval=9.243998e-03\n",
      "0 v 1 Mann-U stat=17997.0, pval=5.658003e-17\n",
      "0 v 1 Mann-U stat=10324.0, pval=2.218919e-08\n"
     ]
    }
   ],
   "source": [
    "for screen in [thompson_predictions, dede_predictions, parrish_predictions, chymera_predictions]:\n",
    "    print('0 v 1 Mann-U', 'stat=%.1f, pval=%e' % \n",
    "          (stats.mannwhitneyu(screen[screen.n_SL==0].SL_pred, screen[screen.n_SL==1].SL_pred, alternative='two-sided')))"
   ]
  },
  {
   "cell_type": "markdown",
   "metadata": {},
   "source": [
    "### Predictions for all ~36.6k paralog pairs"
   ]
  },
  {
   "cell_type": "code",
   "execution_count": 20,
   "metadata": {
    "tags": []
   },
   "outputs": [
    {
     "name": "stdout",
     "output_type": "stream",
     "text": [
      "Mean prediction: 0.0278, median: 0.0202\n"
     ]
    },
    {
     "data": {
      "text/html": [
       "<div>\n",
       "<style scoped>\n",
       "    .dataframe tbody tr th:only-of-type {\n",
       "        vertical-align: middle;\n",
       "    }\n",
       "\n",
       "    .dataframe tbody tr th {\n",
       "        vertical-align: top;\n",
       "    }\n",
       "\n",
       "    .dataframe thead th {\n",
       "        text-align: right;\n",
       "    }\n",
       "</style>\n",
       "<table border=\"1\" class=\"dataframe\">\n",
       "  <thead>\n",
       "    <tr style=\"text-align: right;\">\n",
       "      <th></th>\n",
       "      <th>prediction_rank</th>\n",
       "      <th>prediction_percentile</th>\n",
       "      <th>sorted_gene_pair</th>\n",
       "      <th>A1</th>\n",
       "      <th>A2</th>\n",
       "      <th>A1_entrez</th>\n",
       "      <th>A2_entrez</th>\n",
       "      <th>A1_ensembl</th>\n",
       "      <th>A2_ensembl</th>\n",
       "      <th>prediction_score</th>\n",
       "      <th>validated_SL</th>\n",
       "      <th>n_SL_thompson</th>\n",
       "      <th>n_SL_dede</th>\n",
       "      <th>n_SL_parrish</th>\n",
       "      <th>n_SL_chymera</th>\n",
       "      <th>n_screens</th>\n",
       "      <th>n_screens_SL</th>\n",
       "      <th>depmap_hit</th>\n",
       "    </tr>\n",
       "  </thead>\n",
       "  <tbody>\n",
       "    <tr>\n",
       "      <th>0</th>\n",
       "      <td>1</td>\n",
       "      <td>0.1</td>\n",
       "      <td>SMARCA2_SMARCA4</td>\n",
       "      <td>SMARCA2</td>\n",
       "      <td>SMARCA4</td>\n",
       "      <td>6595</td>\n",
       "      <td>6597</td>\n",
       "      <td>ENSG00000080503</td>\n",
       "      <td>ENSG00000127616</td>\n",
       "      <td>0.430886</td>\n",
       "      <td>True</td>\n",
       "      <td>2.0</td>\n",
       "      <td>0.0</td>\n",
       "      <td>0.0</td>\n",
       "      <td>0.0</td>\n",
       "      <td>4</td>\n",
       "      <td>1</td>\n",
       "      <td>True</td>\n",
       "    </tr>\n",
       "    <tr>\n",
       "      <th>1</th>\n",
       "      <td>2</td>\n",
       "      <td>0.1</td>\n",
       "      <td>EXOC6_EXOC6B</td>\n",
       "      <td>EXOC6</td>\n",
       "      <td>EXOC6B</td>\n",
       "      <td>54536</td>\n",
       "      <td>23233</td>\n",
       "      <td>ENSG00000138190</td>\n",
       "      <td>ENSG00000144036</td>\n",
       "      <td>0.410447</td>\n",
       "      <td>False</td>\n",
       "      <td>0.0</td>\n",
       "      <td>NaN</td>\n",
       "      <td>0.0</td>\n",
       "      <td>1.0</td>\n",
       "      <td>3</td>\n",
       "      <td>1</td>\n",
       "      <td>True</td>\n",
       "    </tr>\n",
       "  </tbody>\n",
       "</table>\n",
       "</div>"
      ],
      "text/plain": [
       "   prediction_rank  prediction_percentile sorted_gene_pair       A1       A2  \\\n",
       "0                1                    0.1  SMARCA2_SMARCA4  SMARCA2  SMARCA4   \n",
       "1                2                    0.1     EXOC6_EXOC6B    EXOC6   EXOC6B   \n",
       "\n",
       "   A1_entrez  A2_entrez       A1_ensembl       A2_ensembl  prediction_score  \\\n",
       "0       6595       6597  ENSG00000080503  ENSG00000127616          0.430886   \n",
       "1      54536      23233  ENSG00000138190  ENSG00000144036          0.410447   \n",
       "\n",
       "   validated_SL  n_SL_thompson  n_SL_dede  n_SL_parrish  n_SL_chymera  \\\n",
       "0          True            2.0        0.0           0.0           0.0   \n",
       "1         False            0.0        NaN           0.0           1.0   \n",
       "\n",
       "   n_screens  n_screens_SL depmap_hit  \n",
       "0          4             1       True  \n",
       "1          3             1       True  "
      ]
     },
     "execution_count": 20,
     "metadata": {},
     "output_type": "execute_result"
    }
   ],
   "source": [
    "ypred = RF.predict_proba(all_paralog_annotations[features])[:,1]\n",
    "all_predictions = all_paralog_annotations[['sorted_gene_pair','A1','A2','A1_entrez','A2_entrez','A1_ensembl','A2_ensembl']]\n",
    "all_predictions = all_predictions.assign(prediction_score=ypred)\n",
    "all_predictions = all_predictions.sort_values('prediction_score', ascending=False)\n",
    "\n",
    "print('Mean prediction: %.4f, median: %.4f' % (all_predictions.prediction_score.mean(), \n",
    "                                               all_predictions.prediction_score.median()))\n",
    "\n",
    "# Annotate the predictions dataframe: note for each pair whether it was a previously validated SL \n",
    "validated_SLs = pd.read_csv(file_validated_SLs)\n",
    "all_predictions = pd.merge(all_predictions, validated_SLs, how='left', indicator='validated_SL')\n",
    "all_predictions['validated_SL'] = all_predictions['validated_SL'] == 'both'\n",
    "assert(all_predictions[all_predictions.validated_SL==True].shape[0] == 12)\n",
    "\n",
    "# Also note num screens in which it was SL and num screens in which it was included\n",
    "all_predictions = pd.merge(all_predictions, all_screened_pairs_raw, how='left')\n",
    "all_predictions = all_predictions.fillna({'n_screens':0,'n_screens_SL':0}).astype({'n_screens':'int','n_screens_SL':'int'})\n",
    "\n",
    "# And whether it was a Broad DepMap hit\n",
    "depmap_pairs = pd.read_csv(file_depmap_pairs)\n",
    "all_predictions = pd.merge(all_predictions, depmap_pairs.rename(columns={'SL':'depmap_hit'}), how='left')\n",
    "\n",
    "# Add column for prediction rank\n",
    "all_predictions = all_predictions.reset_index().rename(columns={'index':'prediction_rank'})\n",
    "all_predictions['prediction_rank'] = all_predictions['prediction_rank']+1\n",
    "assert(all_predictions.prediction_rank.max()==all_predictions.shape[0])\n",
    "\n",
    "# Add percentile of rank\n",
    "def round_up_to(num, decimals=1):\n",
    "    factor = 10 ** decimals\n",
    "    return math.ceil(num * factor) / factor\n",
    "\n",
    "all_predictions.insert(1, 'prediction_percentile', all_predictions.prediction_rank.rank(pct=True)*100)\n",
    "all_predictions.prediction_percentile = all_predictions.prediction_percentile.apply(lambda x: round_up_to(x))\n",
    "\n",
    "all_predictions[:2]"
   ]
  },
  {
   "cell_type": "code",
   "execution_count": 21,
   "metadata": {},
   "outputs": [],
   "source": [
    "# Save predictions\n",
    "all_predictions.to_csv(file_all_predictions, index=0)"
   ]
  },
  {
   "cell_type": "code",
   "execution_count": 23,
   "metadata": {},
   "outputs": [
    {
     "data": {
      "text/html": [
       "<div>\n",
       "<style scoped>\n",
       "    .dataframe tbody tr th:only-of-type {\n",
       "        vertical-align: middle;\n",
       "    }\n",
       "\n",
       "    .dataframe tbody tr th {\n",
       "        vertical-align: top;\n",
       "    }\n",
       "\n",
       "    .dataframe thead th {\n",
       "        text-align: right;\n",
       "    }\n",
       "</style>\n",
       "<table border=\"1\" class=\"dataframe\">\n",
       "  <thead>\n",
       "    <tr style=\"text-align: right;\">\n",
       "      <th></th>\n",
       "      <th>prediction_rank</th>\n",
       "      <th>prediction_percentile</th>\n",
       "      <th>sorted_gene_pair</th>\n",
       "      <th>A1</th>\n",
       "      <th>A2</th>\n",
       "      <th>A1_entrez</th>\n",
       "      <th>A2_entrez</th>\n",
       "      <th>A1_ensembl</th>\n",
       "      <th>A2_ensembl</th>\n",
       "      <th>prediction_score</th>\n",
       "      <th>...</th>\n",
       "      <th>either_in_complex</th>\n",
       "      <th>mean_complex_essentiality</th>\n",
       "      <th>colocalisation</th>\n",
       "      <th>interact</th>\n",
       "      <th>n_total_ppi</th>\n",
       "      <th>fet_ppi_overlap</th>\n",
       "      <th>shared_ppi_mean_essentiality</th>\n",
       "      <th>gtex_spearman_corr</th>\n",
       "      <th>gtex_min_mean_expr</th>\n",
       "      <th>gtex_max_mean_expr</th>\n",
       "    </tr>\n",
       "  </thead>\n",
       "  <tbody>\n",
       "    <tr>\n",
       "      <th>0</th>\n",
       "      <td>1</td>\n",
       "      <td>0.1</td>\n",
       "      <td>SMARCA2_SMARCA4</td>\n",
       "      <td>SMARCA2</td>\n",
       "      <td>SMARCA4</td>\n",
       "      <td>6595</td>\n",
       "      <td>6597</td>\n",
       "      <td>ENSG00000080503</td>\n",
       "      <td>ENSG00000127616</td>\n",
       "      <td>0.430886</td>\n",
       "      <td>...</td>\n",
       "      <td>True</td>\n",
       "      <td>0.387262</td>\n",
       "      <td>0.333333</td>\n",
       "      <td>True</td>\n",
       "      <td>302</td>\n",
       "      <td>114.614142</td>\n",
       "      <td>0.225382</td>\n",
       "      <td>0.627875</td>\n",
       "      <td>18.609973</td>\n",
       "      <td>34.302868</td>\n",
       "    </tr>\n",
       "    <tr>\n",
       "      <th>1</th>\n",
       "      <td>2</td>\n",
       "      <td>0.1</td>\n",
       "      <td>EXOC6_EXOC6B</td>\n",
       "      <td>EXOC6</td>\n",
       "      <td>EXOC6B</td>\n",
       "      <td>54536</td>\n",
       "      <td>23233</td>\n",
       "      <td>ENSG00000138190</td>\n",
       "      <td>ENSG00000144036</td>\n",
       "      <td>0.410447</td>\n",
       "      <td>...</td>\n",
       "      <td>True</td>\n",
       "      <td>0.486857</td>\n",
       "      <td>0.250000</td>\n",
       "      <td>True</td>\n",
       "      <td>53</td>\n",
       "      <td>29.782706</td>\n",
       "      <td>0.285886</td>\n",
       "      <td>0.069456</td>\n",
       "      <td>6.390812</td>\n",
       "      <td>11.168367</td>\n",
       "    </tr>\n",
       "  </tbody>\n",
       "</table>\n",
       "<p>2 rows × 36 columns</p>\n",
       "</div>"
      ],
      "text/plain": [
       "   prediction_rank  prediction_percentile sorted_gene_pair       A1       A2  \\\n",
       "0                1                    0.1  SMARCA2_SMARCA4  SMARCA2  SMARCA4   \n",
       "1                2                    0.1     EXOC6_EXOC6B    EXOC6   EXOC6B   \n",
       "\n",
       "   A1_entrez  A2_entrez       A1_ensembl       A2_ensembl  prediction_score  \\\n",
       "0       6595       6597  ENSG00000080503  ENSG00000127616          0.430886   \n",
       "1      54536      23233  ENSG00000138190  ENSG00000144036          0.410447   \n",
       "\n",
       "   ...  either_in_complex  mean_complex_essentiality  colocalisation interact  \\\n",
       "0  ...               True                   0.387262        0.333333     True   \n",
       "1  ...               True                   0.486857        0.250000     True   \n",
       "\n",
       "   n_total_ppi  fet_ppi_overlap  shared_ppi_mean_essentiality  \\\n",
       "0          302       114.614142                      0.225382   \n",
       "1           53        29.782706                      0.285886   \n",
       "\n",
       "   gtex_spearman_corr  gtex_min_mean_expr  gtex_max_mean_expr  \n",
       "0            0.627875           18.609973           34.302868  \n",
       "1            0.069456            6.390812           11.168367  \n",
       "\n",
       "[2 rows x 36 columns]"
      ]
     },
     "metadata": {},
     "output_type": "display_data"
    }
   ],
   "source": [
    "# Table S8: all predictions and all feature values\n",
    "tab_s8 = pd.merge(all_predictions.drop(columns=['n_SL_thompson','n_SL_dede','n_SL_parrish','n_SL_chymera']), \n",
    "                  all_paralog_annotations[['sorted_gene_pair']+list(features)])\n",
    "display(tab_s8[:2])\n",
    "tab_s8.to_csv(file_table_s8, index=0)"
   ]
  },
  {
   "cell_type": "markdown",
   "metadata": {},
   "source": [
    "### 'Waterfall' plot of all predictions"
   ]
  },
  {
   "cell_type": "code",
   "execution_count": 129,
   "metadata": {},
   "outputs": [
    {
     "data": {
      "text/html": [
       "<div>\n",
       "<style scoped>\n",
       "    .dataframe tbody tr th:only-of-type {\n",
       "        vertical-align: middle;\n",
       "    }\n",
       "\n",
       "    .dataframe tbody tr th {\n",
       "        vertical-align: top;\n",
       "    }\n",
       "\n",
       "    .dataframe thead th {\n",
       "        text-align: right;\n",
       "    }\n",
       "</style>\n",
       "<table border=\"1\" class=\"dataframe\">\n",
       "  <thead>\n",
       "    <tr style=\"text-align: right;\">\n",
       "      <th></th>\n",
       "      <th>prediction_rank</th>\n",
       "      <th>prediction_percentile</th>\n",
       "      <th>sorted_gene_pair</th>\n",
       "      <th>A1</th>\n",
       "      <th>A2</th>\n",
       "      <th>A1_entrez</th>\n",
       "      <th>A2_entrez</th>\n",
       "      <th>A1_ensembl</th>\n",
       "      <th>A2_ensembl</th>\n",
       "      <th>prediction_score</th>\n",
       "      <th>validated_SL</th>\n",
       "      <th>n_SL_thompson</th>\n",
       "      <th>n_SL_dede</th>\n",
       "      <th>n_SL_parrish</th>\n",
       "      <th>n_SL_chymera</th>\n",
       "      <th>n_screens</th>\n",
       "      <th>n_screens_SL</th>\n",
       "      <th>depmap_hit</th>\n",
       "    </tr>\n",
       "  </thead>\n",
       "  <tbody>\n",
       "    <tr>\n",
       "      <th>0</th>\n",
       "      <td>1</td>\n",
       "      <td>0.1</td>\n",
       "      <td>SMARCA2_SMARCA4</td>\n",
       "      <td>SMARCA2</td>\n",
       "      <td>SMARCA4</td>\n",
       "      <td>6595</td>\n",
       "      <td>6597</td>\n",
       "      <td>ENSG00000080503</td>\n",
       "      <td>ENSG00000127616</td>\n",
       "      <td>0.431303</td>\n",
       "      <td>True</td>\n",
       "      <td>2.0</td>\n",
       "      <td>0.0</td>\n",
       "      <td>0.0</td>\n",
       "      <td>0.0</td>\n",
       "      <td>4</td>\n",
       "      <td>1</td>\n",
       "      <td>True</td>\n",
       "    </tr>\n",
       "  </tbody>\n",
       "</table>\n",
       "</div>"
      ],
      "text/plain": [
       "   prediction_rank  prediction_percentile sorted_gene_pair       A1       A2  \\\n",
       "0                1                    0.1  SMARCA2_SMARCA4  SMARCA2  SMARCA4   \n",
       "\n",
       "   A1_entrez  A2_entrez       A1_ensembl       A2_ensembl  prediction_score  \\\n",
       "0       6595       6597  ENSG00000080503  ENSG00000127616          0.431303   \n",
       "\n",
       "   validated_SL  n_SL_thompson  n_SL_dede  n_SL_parrish  n_SL_chymera  \\\n",
       "0          True            2.0        0.0           0.0           0.0   \n",
       "\n",
       "   n_screens  n_screens_SL depmap_hit  \n",
       "0          4             1       True  "
      ]
     },
     "execution_count": 129,
     "metadata": {},
     "output_type": "execute_result"
    }
   ],
   "source": [
    "# Can load predictions here\n",
    "all_predictions = pd.read_csv(file_all_predictions)\n",
    "all_predictions[:1]"
   ]
  },
  {
   "cell_type": "code",
   "execution_count": 25,
   "metadata": {},
   "outputs": [
    {
     "data": {
      "image/png": "[encoded data removed]",
      "text/plain": [
       "<Figure size 600x250 with 1 Axes>"
      ]
     },
     "metadata": {},
     "output_type": "display_data"
    }
   ],
   "source": [
    "# Waterfall plot of all predictions, with validated and screen consensus SLs highlighted\n",
    "f, ax = plt.subplots(1, 1, figsize=(6,2.5))\n",
    "pal = sns.color_palette(\"Blues\", n_colors=9)\n",
    "df = all_predictions\n",
    "\n",
    "sns.lineplot(x=df.index, y=df.prediction_score, ax=ax, alpha=1, color='#ccc', label=\"All predictions\", zorder=1, lw=1)\n",
    "\n",
    "sns.scatterplot(x=df[df.n_screens_SL>=2].index, y=df[df.n_screens_SL>=2].prediction_score, ax=ax, linewidth=0, s=20, alpha=0.7,\n",
    "                color=pal[5], label=\"Screen consensus SL\", zorder=2)\n",
    "\n",
    "sns.scatterplot(x=df[df.validated_SL].index, y=df[df.validated_SL].prediction_score, ax=ax, linewidth=0, s=20, alpha=0.8,\n",
    "                color=pal[8], label=\"Literature curated SL\", zorder=3)\n",
    "\n",
    "example_df = all_predictions[(all_predictions.A1=='STAG2') | ((all_predictions.A1=='AKT1') & (all_predictions.A2=='AKT2'))]\n",
    "sns.scatterplot(x=example_df.index, y=example_df.prediction_score, ax=ax, linewidth=0, s=20, alpha=0.95,\n",
    "                color='#e7745b', label=\"Other featured pair\", zorder=4)\n",
    "\n",
    "ax.set_ylabel('Prediction score'); ax.set_xlabel('Prediction rank')\n",
    "\n",
    "# Draw line to show top 5%\n",
    "ax.axvline(int(0.05*df.shape[0]), linestyle='--', color='silver', zorder=1, lw=0.8)\n",
    "ax.text(int(0.05*df.shape[0]), 0.46, 'top 5%', fontsize=8, color='#999', ha='center')\n",
    "plt.tight_layout()\n",
    "\n",
    "# Paralog pair annotations: pair:[text_coords, line_start_coords, line_end_coords]\n",
    "annots = {'STAG1-STAG2':[(2300, 0.398), (400, 0.408), (2300, 0.408)],\n",
    "          'AKT1-AKT2': [(2300, 0.21), (700, 0.199), (2300, 0.22)],\n",
    "          'VPS4A-VPS4B': [(2300, 0.18), (750, 0.186), (2300, 0.19)],\n",
    "          'ARID1A-ARID1B': [(2300, 0.15), (800, 0.177), (2300, 0.16)],\n",
    "          'STAG2-STAG3': [(3000, 0.082), (1800, 0.085), (3100, 0.095)]}\n",
    "for key, val in annots.items():\n",
    "    ax.text(val[0][0], val[0][1], key, fontsize=8, fontstyle=\"italic\")\n",
    "    ax.annotate(\"\", xy=val[1], xycoords='data', xytext=val[2], textcoords='data', arrowprops=dict(arrowstyle=\"-\", lw=0.9))\n",
    "\n",
    "f.savefig(\"../figures/for_paper/waterfall_plot_full.svg\", bbox_inches=\"tight\", dpi=300)"
   ]
  },
  {
   "cell_type": "code",
   "execution_count": 26,
   "metadata": {},
   "outputs": [
    {
     "name": "stdout",
     "output_type": "stream",
     "text": [
      "N validated SLs in top 5%: 11/12\n"
     ]
    }
   ],
   "source": [
    "print('N validated SLs in top 5%%: %d/%d' %\n",
    "      (all_predictions[all_predictions.validated_SL & (all_predictions.prediction_percentile<=5)].shape[0],\n",
    "      all_predictions[all_predictions.validated_SL].shape[0]))"
   ]
  },
  {
   "cell_type": "code",
   "execution_count": 27,
   "metadata": {},
   "outputs": [
    {
     "name": "stdout",
     "output_type": "stream",
     "text": [
      "N screen consensus SLs in top 5%: 47/50\n"
     ]
    }
   ],
   "source": [
    "print('N screen consensus SLs in top 5%%: %d/%d' %\n",
    "      (all_predictions[(all_predictions.n_screens_SL>=2) & (all_predictions.prediction_percentile<=5)].shape[0],\n",
    "      all_predictions[(all_predictions.n_screens_SL>=2)].shape[0]))"
   ]
  },
  {
   "cell_type": "code",
   "execution_count": 28,
   "metadata": {},
   "outputs": [
    {
     "name": "stdout",
     "output_type": "stream",
     "text": [
      "UBB_UBC is in top 2.6%\n",
      "RAB1A_RAB1B is in top 0.6%\n",
      "ASF1A_ASF1B is in top 0.1%\n",
      "COPS7A_COPS7B is in top 1.2%\n"
     ]
    }
   ],
   "source": [
    "def print_pair_rank(pair):\n",
    "    print('%s is in top %.1f%%' % \n",
    "          (pair, all_predictions[all_predictions.sorted_gene_pair==pair].prediction_percentile.values[0]))\n",
    "    \n",
    "print_pair_rank('UBB_UBC')\n",
    "print_pair_rank('RAB1A_RAB1B')\n",
    "print_pair_rank('ASF1A_ASF1B')\n",
    "print_pair_rank('COPS7A_COPS7B')"
   ]
  }
 ],
 "metadata": {
  "kernelspec": {
   "display_name": "Python 3.7.9 64-bit ('paralogSL': conda)",
   "language": "python",
   "name": "python37964bitparalogslconda0f0e77de73d34c52b743edfe8868363d"
  },
  "language_info": {
   "codemirror_mode": {
    "name": "ipython",
    "version": 3
   },
   "file_extension": ".py",
   "mimetype": "text/x-python",
   "name": "python",
   "nbconvert_exporter": "python",
   "pygments_lexer": "ipython3",
   "version": "3.7.1"
  }
 },
 "nbformat": 4,
 "nbformat_minor": 2
}
