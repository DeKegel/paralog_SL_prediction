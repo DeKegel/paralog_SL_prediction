{
 "cells": [
  {
   "cell_type": "markdown",
   "metadata": {},
   "source": [
    "## Features individually predictive of SL among paralog pairs\n",
    "\n",
    "**Input**: \n",
    "* Bronze standard set of (non-)SL paralog pairs\n",
    "* All paralog pairs annoated with all features\n",
    "\n",
    "**Output**:\n",
    "* Indiv. feature AUCs + avg. precision\n",
    "* Table S5: bronze standard set of (non-)SL paralog pairs annotated with the 22 features\n",
    "* Table S6: all features with descriptions and their associated AUC + avg. precision"
   ]
  },
  {
   "cell_type": "code",
   "execution_count": 2,
   "metadata": {
    "tags": []
   },
   "outputs": [
    {
     "name": "stdout",
     "output_type": "stream",
     "text": [
      "The autoreload extension is already loaded. To reload it, use:\n",
      "  %reload_ext autoreload\n"
     ]
    }
   ],
   "source": [
    "import pandas as pd\n",
    "import numpy as np\n",
    "import sklearn\n",
    "from sklearn.model_selection import RepeatedStratifiedKFold\n",
    "from sklearn.metrics import roc_curve, auc, precision_recall_curve, average_precision_score, roc_auc_score\n",
    "import scipy.stats as stats\n",
    "\n",
    "import seaborn as sns\n",
    "import matplotlib as mpl\n",
    "import matplotlib.pyplot as plt\n",
    "import textwrap\n",
    "\n",
    "%load_ext autoreload\n",
    "%autoreload 1\n",
    "%aimport graphing_params\n",
    "\n",
    "import os\n",
    "\n",
    "get_local_data_path = lambda folders, fname: os.path.normpath('../local_data/' +'/'.join(folders) +'/'+ fname)\n",
    "\n",
    "# Input\n",
    "file_annot_pairs = get_local_data_path(['processed','paralog_features'], 'all_features.csv')\n",
    "file_depmap_pairs = get_local_data_path(['results'], 'bronze_standard_SL_pairs_24_09_20.csv')\n",
    "file_feature_table = get_local_data_path([], 'feature_table.xlsx')\n",
    "file_features = get_local_data_path([], 'feature_list.txt')\n",
    "file_feature_names = get_local_data_path([],'feature_names.txt')\n",
    "\n",
    "# Outputs\n",
    "file_feature_aucs = get_local_data_path(['results'], 'indiv_feature_aucs.csv')\n",
    "file_table_s5 = get_local_data_path(['supplemental_files'], 'Table_S5.csv')\n",
    "file_table_s6 = get_local_data_path(['supplemental_files'], 'Table_S6.xlsx')"
   ]
  },
  {
   "cell_type": "markdown",
   "metadata": {},
   "source": [
    "### Data"
   ]
  },
  {
   "cell_type": "code",
   "execution_count": 3,
   "metadata": {
    "tags": []
   },
   "outputs": [
    {
     "name": "stdout",
     "output_type": "stream",
     "text": [
      "Num annotated pairs: 36648\n"
     ]
    },
    {
     "data": {
      "text/html": [
       "<div>\n",
       "<style scoped>\n",
       "    .dataframe tbody tr th:only-of-type {\n",
       "        vertical-align: middle;\n",
       "    }\n",
       "\n",
       "    .dataframe tbody tr th {\n",
       "        vertical-align: top;\n",
       "    }\n",
       "\n",
       "    .dataframe thead th {\n",
       "        text-align: right;\n",
       "    }\n",
       "</style>\n",
       "<table border=\"1\" class=\"dataframe\">\n",
       "  <thead>\n",
       "    <tr style=\"text-align: right;\">\n",
       "      <th></th>\n",
       "      <th>A1</th>\n",
       "      <th>A2</th>\n",
       "      <th>A1_ensembl</th>\n",
       "      <th>A2_ensembl</th>\n",
       "      <th>A1_entrez</th>\n",
       "      <th>A2_entrez</th>\n",
       "      <th>closest</th>\n",
       "      <th>min_sequence_identity</th>\n",
       "      <th>max_sequence_identity</th>\n",
       "      <th>WGD</th>\n",
       "      <th>...</th>\n",
       "      <th>has_cerevisiae_ortholog</th>\n",
       "      <th>has_essential_cerevisiae_ortholog</th>\n",
       "      <th>has_single_essential_cerevisiae_ortholog</th>\n",
       "      <th>has_pombe_ortholog</th>\n",
       "      <th>has_essential_pombe_ortholog</th>\n",
       "      <th>has_single_essential_pombe_ortholog</th>\n",
       "      <th>conservation_score</th>\n",
       "      <th>mean_age</th>\n",
       "      <th>colocalisation</th>\n",
       "      <th>same_subcell_loc</th>\n",
       "    </tr>\n",
       "  </thead>\n",
       "  <tbody>\n",
       "    <tr>\n",
       "      <th>0</th>\n",
       "      <td>A1BG</td>\n",
       "      <td>OSCAR</td>\n",
       "      <td>ENSG00000121410</td>\n",
       "      <td>ENSG00000170909</td>\n",
       "      <td>1</td>\n",
       "      <td>126014</td>\n",
       "      <td>False</td>\n",
       "      <td>0.127273</td>\n",
       "      <td>0.22028</td>\n",
       "      <td>False</td>\n",
       "      <td>...</td>\n",
       "      <td>False</td>\n",
       "      <td>False</td>\n",
       "      <td>False</td>\n",
       "      <td>False</td>\n",
       "      <td>False</td>\n",
       "      <td>False</td>\n",
       "      <td>3</td>\n",
       "      <td>210.95</td>\n",
       "      <td>0.0</td>\n",
       "      <td>False</td>\n",
       "    </tr>\n",
       "  </tbody>\n",
       "</table>\n",
       "<p>1 rows × 42 columns</p>\n",
       "</div>"
      ],
      "text/plain": [
       "     A1     A2       A1_ensembl       A2_ensembl  A1_entrez  A2_entrez  \\\n",
       "0  A1BG  OSCAR  ENSG00000121410  ENSG00000170909          1     126014   \n",
       "\n",
       "   closest  min_sequence_identity  max_sequence_identity    WGD  ...  \\\n",
       "0    False               0.127273                0.22028  False  ...   \n",
       "\n",
       "   has_cerevisiae_ortholog  has_essential_cerevisiae_ortholog  \\\n",
       "0                    False                              False   \n",
       "\n",
       "   has_single_essential_cerevisiae_ortholog  has_pombe_ortholog  \\\n",
       "0                                     False               False   \n",
       "\n",
       "   has_essential_pombe_ortholog  has_single_essential_pombe_ortholog  \\\n",
       "0                         False                                False   \n",
       "\n",
       "   conservation_score  mean_age  colocalisation  same_subcell_loc  \n",
       "0                   3    210.95             0.0             False  \n",
       "\n",
       "[1 rows x 42 columns]"
      ]
     },
     "execution_count": 3,
     "metadata": {},
     "output_type": "execute_result"
    }
   ],
   "source": [
    "paralog_annotations = pd.read_csv(file_annot_pairs)\n",
    "print('Num annotated pairs:', paralog_annotations.shape[0])\n",
    "paralog_annotations[:1]"
   ]
  },
  {
   "cell_type": "code",
   "execution_count": 7,
   "metadata": {
    "tags": []
   },
   "outputs": [
    {
     "name": "stdout",
     "output_type": "stream",
     "text": [
      "Num SL: 127 / 3637\n"
     ]
    },
    {
     "data": {
      "text/html": [
       "<div>\n",
       "<style scoped>\n",
       "    .dataframe tbody tr th:only-of-type {\n",
       "        vertical-align: middle;\n",
       "    }\n",
       "\n",
       "    .dataframe tbody tr th {\n",
       "        vertical-align: top;\n",
       "    }\n",
       "\n",
       "    .dataframe thead th {\n",
       "        text-align: right;\n",
       "    }\n",
       "</style>\n",
       "<table border=\"1\" class=\"dataframe\">\n",
       "  <thead>\n",
       "    <tr style=\"text-align: right;\">\n",
       "      <th></th>\n",
       "      <th>A1</th>\n",
       "      <th>A2</th>\n",
       "      <th>SL</th>\n",
       "      <th>A1_ensembl</th>\n",
       "      <th>A2_ensembl</th>\n",
       "      <th>A1_entrez</th>\n",
       "      <th>A2_entrez</th>\n",
       "      <th>closest</th>\n",
       "      <th>min_sequence_identity</th>\n",
       "      <th>max_sequence_identity</th>\n",
       "      <th>...</th>\n",
       "      <th>has_cerevisiae_ortholog</th>\n",
       "      <th>has_essential_cerevisiae_ortholog</th>\n",
       "      <th>has_single_essential_cerevisiae_ortholog</th>\n",
       "      <th>has_pombe_ortholog</th>\n",
       "      <th>has_essential_pombe_ortholog</th>\n",
       "      <th>has_single_essential_pombe_ortholog</th>\n",
       "      <th>conservation_score</th>\n",
       "      <th>mean_age</th>\n",
       "      <th>colocalisation</th>\n",
       "      <th>same_subcell_loc</th>\n",
       "    </tr>\n",
       "  </thead>\n",
       "  <tbody>\n",
       "    <tr>\n",
       "      <th>0</th>\n",
       "      <td>AAK1</td>\n",
       "      <td>BMP2K</td>\n",
       "      <td>False</td>\n",
       "      <td>ENSG00000115977</td>\n",
       "      <td>ENSG00000138756</td>\n",
       "      <td>22848</td>\n",
       "      <td>55589</td>\n",
       "      <td>True</td>\n",
       "      <td>0.341947</td>\n",
       "      <td>0.413111</td>\n",
       "      <td>...</td>\n",
       "      <td>True</td>\n",
       "      <td>False</td>\n",
       "      <td>False</td>\n",
       "      <td>True</td>\n",
       "      <td>False</td>\n",
       "      <td>False</td>\n",
       "      <td>7</td>\n",
       "      <td>976.25</td>\n",
       "      <td>0.0</td>\n",
       "      <td>False</td>\n",
       "    </tr>\n",
       "  </tbody>\n",
       "</table>\n",
       "<p>1 rows × 43 columns</p>\n",
       "</div>"
      ],
      "text/plain": [
       "     A1     A2     SL       A1_ensembl       A2_ensembl  A1_entrez  A2_entrez  \\\n",
       "0  AAK1  BMP2K  False  ENSG00000115977  ENSG00000138756      22848      55589   \n",
       "\n",
       "   closest  min_sequence_identity  max_sequence_identity  ...  \\\n",
       "0     True               0.341947               0.413111  ...   \n",
       "\n",
       "   has_cerevisiae_ortholog  has_essential_cerevisiae_ortholog  \\\n",
       "0                     True                              False   \n",
       "\n",
       "   has_single_essential_cerevisiae_ortholog  has_pombe_ortholog  \\\n",
       "0                                     False                True   \n",
       "\n",
       "   has_essential_pombe_ortholog  has_single_essential_pombe_ortholog  \\\n",
       "0                         False                                False   \n",
       "\n",
       "   conservation_score  mean_age  colocalisation  same_subcell_loc  \n",
       "0                   7    976.25             0.0             False  \n",
       "\n",
       "[1 rows x 43 columns]"
      ]
     },
     "execution_count": 7,
     "metadata": {},
     "output_type": "execute_result"
    }
   ],
   "source": [
    "depmap_pairs = pd.read_csv(file_depmap_pairs, index_col=0)\n",
    "depmap_pairs = pd.merge(depmap_pairs.drop(columns=['A1_ensembl','A2_ensembl', 'A1_entrez', 'A2_entrez']), \n",
    "                        paralog_annotations, on=['A1', 'A2'])\n",
    "print('Num SL:', sum(depmap_pairs.SL), '/', depmap_pairs.shape[0])\n",
    "depmap_pairs[:1]"
   ]
  },
  {
   "cell_type": "markdown",
   "metadata": {},
   "source": [
    "#### Features"
   ]
  },
  {
   "cell_type": "code",
   "execution_count": 8,
   "metadata": {
    "tags": []
   },
   "outputs": [
    {
     "name": "stdout",
     "output_type": "stream",
     "text": [
      "Num features: 22\n"
     ]
    },
    {
     "data": {
      "text/html": [
       "<div>\n",
       "<style scoped>\n",
       "    .dataframe tbody tr th:only-of-type {\n",
       "        vertical-align: middle;\n",
       "    }\n",
       "\n",
       "    .dataframe tbody tr th {\n",
       "        vertical-align: top;\n",
       "    }\n",
       "\n",
       "    .dataframe thead th {\n",
       "        text-align: right;\n",
       "    }\n",
       "</style>\n",
       "<table border=\"1\" class=\"dataframe\">\n",
       "  <thead>\n",
       "    <tr style=\"text-align: right;\">\n",
       "      <th></th>\n",
       "      <th>feature</th>\n",
       "      <th>category</th>\n",
       "      <th>include</th>\n",
       "      <th>yeast</th>\n",
       "    </tr>\n",
       "  </thead>\n",
       "  <tbody>\n",
       "    <tr>\n",
       "      <th>0</th>\n",
       "      <td>min_sequence_identity</td>\n",
       "      <td>sequence</td>\n",
       "      <td>1</td>\n",
       "      <td>0</td>\n",
       "    </tr>\n",
       "  </tbody>\n",
       "</table>\n",
       "</div>"
      ],
      "text/plain": [
       "                 feature  category  include  yeast\n",
       "0  min_sequence_identity  sequence        1      0"
      ]
     },
     "execution_count": 8,
     "metadata": {},
     "output_type": "execute_result"
    }
   ],
   "source": [
    "all_features = pd.DataFrame([\n",
    "    ['min_sequence_identity',                  'sequence',              1,      0],\n",
    "    ['max_sequence_identity',                  'sequence',              0,      0],\n",
    "    ['closest',                                'sequence',              1,      0],  \n",
    "    ['WGD',                                    'sequence',              1,      0], \n",
    "    ['family_size',                            'sequence',              1,      0],          \n",
    "    ['cds_length_ratio',                       'sequence',              1,      0],\n",
    "    ['shared_domains',                         'sequence',              1,      0], \n",
    "    ['has_pombe_ortholog',                     'sequence',              1,      1], \n",
    "    ['has_essential_pombe_ortholog',           'sequence',              1,      1],\n",
    "    ['has_single_essential_pombe_ortholog',    'sequence',              0,      1],\n",
    "    ['has_cerevisiae_ortholog',                'sequence',              1,      1],   \n",
    "    ['has_essential_cerevisiae_ortholog',      'sequence',              1,      1],\n",
    "    ['has_single_essential_cerevisiae_ortholog','sequence',             0,      1],\n",
    "    ['has_ecoli_ortholog',                     'sequence',              0,      0],\n",
    "    ['conservation_score',                     'sequence',              1,      0],\n",
    "    ['mean_age',                               'sequence',              1,      0],\n",
    "    ['either_in_complex',                      'neighborhood',          1,      0],     \n",
    "    ['either_in_essential_complex',            'neighborhood',          0,      0],     \n",
    "    ['mean_complex_ceres_score',               'neighborhood',          0,      0],     \n",
    "    ['mean_complex_essentiality',              'neighborhood',          1,      0],     \n",
    "    ['mean_percent_essential_in_complex',      'neighborhood',          0,      0],         \n",
    "    ['colocalisation',                         'neighborhood',          1,      0],         \n",
    "    ['interact',                               'neighborhood',          1,      0],         \n",
    "    ['direct',                                 'neighborhood',          0,      0],     \n",
    "    ['n_total_ppi',                            'neighborhood',          1,      0],     \n",
    "    ['n_shared_ppi',                           'neighborhood',          0,      0],         \n",
    "    ['shared_ppi_jaccard_idx',                 'neighborhood',          0,      0],     \n",
    "    ['fet_ppi_overlap',                        'neighborhood',          1,      0],     \n",
    "    ['shared_ppi_percent_essential',           'neighborhood',          0,      0],             \n",
    "    ['shared_ppi_mean_essentiality',           'neighborhood',          1,      0],              \n",
    "    ['shared_ppi_mean_ceres_score',            'neighborhood',          0,      0],             \n",
    "    ['gtex_spearman_corr',                     'expression',            1,      0],\n",
    "    ['gtex_pearson_corr',                      'expression',            0,      0],     \n",
    "    ['gtex_min_mean_expr',                     'expression',            1,      0],     \n",
    "    ['gtex_max_mean_expr',                     'expression',            1,      0]  \n",
    "], columns=['feature','category', 'include', 'yeast'])\n",
    "\n",
    "print('Num features:', all_features[all_features.include==1].shape[0])\n",
    "all_features.to_csv(file_features, index=0)\n",
    "all_features[:1]"
   ]
  },
  {
   "cell_type": "code",
   "execution_count": 9,
   "metadata": {},
   "outputs": [
    {
     "data": {
      "text/html": [
       "<div>\n",
       "<style scoped>\n",
       "    .dataframe tbody tr th:only-of-type {\n",
       "        vertical-align: middle;\n",
       "    }\n",
       "\n",
       "    .dataframe tbody tr th {\n",
       "        vertical-align: top;\n",
       "    }\n",
       "\n",
       "    .dataframe thead th {\n",
       "        text-align: right;\n",
       "    }\n",
       "</style>\n",
       "<table border=\"1\" class=\"dataframe\">\n",
       "  <thead>\n",
       "    <tr style=\"text-align: right;\">\n",
       "      <th></th>\n",
       "      <th>A1</th>\n",
       "      <th>A2</th>\n",
       "      <th>A1_entrez</th>\n",
       "      <th>A2_entrez</th>\n",
       "      <th>SL</th>\n",
       "      <th>min_sequence_identity</th>\n",
       "      <th>closest</th>\n",
       "      <th>WGD</th>\n",
       "      <th>family_size</th>\n",
       "      <th>cds_length_ratio</th>\n",
       "      <th>...</th>\n",
       "      <th>either_in_complex</th>\n",
       "      <th>mean_complex_essentiality</th>\n",
       "      <th>colocalisation</th>\n",
       "      <th>interact</th>\n",
       "      <th>n_total_ppi</th>\n",
       "      <th>fet_ppi_overlap</th>\n",
       "      <th>shared_ppi_mean_essentiality</th>\n",
       "      <th>gtex_spearman_corr</th>\n",
       "      <th>gtex_min_mean_expr</th>\n",
       "      <th>gtex_max_mean_expr</th>\n",
       "    </tr>\n",
       "  </thead>\n",
       "  <tbody>\n",
       "    <tr>\n",
       "      <th>0</th>\n",
       "      <td>AAK1</td>\n",
       "      <td>BMP2K</td>\n",
       "      <td>22848</td>\n",
       "      <td>55589</td>\n",
       "      <td>False</td>\n",
       "      <td>0.341947</td>\n",
       "      <td>True</td>\n",
       "      <td>False</td>\n",
       "      <td>2</td>\n",
       "      <td>0.827883</td>\n",
       "      <td>...</td>\n",
       "      <td>False</td>\n",
       "      <td>0.0</td>\n",
       "      <td>0.0</td>\n",
       "      <td>False</td>\n",
       "      <td>77.0</td>\n",
       "      <td>21.870252</td>\n",
       "      <td>0.479952</td>\n",
       "      <td>0.261701</td>\n",
       "      <td>6.713555</td>\n",
       "      <td>6.761786</td>\n",
       "    </tr>\n",
       "    <tr>\n",
       "      <th>1</th>\n",
       "      <td>ABCA1</td>\n",
       "      <td>ABCA7</td>\n",
       "      <td>19</td>\n",
       "      <td>10347</td>\n",
       "      <td>False</td>\n",
       "      <td>0.498894</td>\n",
       "      <td>False</td>\n",
       "      <td>True</td>\n",
       "      <td>12</td>\n",
       "      <td>0.949160</td>\n",
       "      <td>...</td>\n",
       "      <td>False</td>\n",
       "      <td>0.0</td>\n",
       "      <td>0.0</td>\n",
       "      <td>False</td>\n",
       "      <td>31.0</td>\n",
       "      <td>0.000000</td>\n",
       "      <td>0.000000</td>\n",
       "      <td>0.027520</td>\n",
       "      <td>15.168588</td>\n",
       "      <td>15.825617</td>\n",
       "    </tr>\n",
       "  </tbody>\n",
       "</table>\n",
       "<p>2 rows × 27 columns</p>\n",
       "</div>"
      ],
      "text/plain": [
       "      A1     A2  A1_entrez  A2_entrez     SL  min_sequence_identity  closest  \\\n",
       "0   AAK1  BMP2K      22848      55589  False               0.341947     True   \n",
       "1  ABCA1  ABCA7         19      10347  False               0.498894    False   \n",
       "\n",
       "     WGD  family_size  cds_length_ratio  ...  either_in_complex  \\\n",
       "0  False            2          0.827883  ...              False   \n",
       "1   True           12          0.949160  ...              False   \n",
       "\n",
       "   mean_complex_essentiality  colocalisation  interact  n_total_ppi  \\\n",
       "0                        0.0             0.0     False         77.0   \n",
       "1                        0.0             0.0     False         31.0   \n",
       "\n",
       "   fet_ppi_overlap  shared_ppi_mean_essentiality  gtex_spearman_corr  \\\n",
       "0        21.870252                      0.479952            0.261701   \n",
       "1         0.000000                      0.000000            0.027520   \n",
       "\n",
       "   gtex_min_mean_expr  gtex_max_mean_expr  \n",
       "0            6.713555            6.761786  \n",
       "1           15.168588           15.825617  \n",
       "\n",
       "[2 rows x 27 columns]"
      ]
     },
     "metadata": {},
     "output_type": "display_data"
    }
   ],
   "source": [
    "# Save bronze standard data + feature annotations as Table S2\n",
    "features = list(all_features[all_features.include==1].feature)\n",
    "table_s5 = depmap_pairs[['A1','A2','A1_entrez','A2_entrez','SL'] + features]\n",
    "display(table_s5[:2])\n",
    "table_s5.to_csv(file_table_s5, index=0)"
   ]
  },
  {
   "cell_type": "code",
   "execution_count": 10,
   "metadata": {},
   "outputs": [
    {
     "data": {
      "text/html": [
       "<div>\n",
       "<style scoped>\n",
       "    .dataframe tbody tr th:only-of-type {\n",
       "        vertical-align: middle;\n",
       "    }\n",
       "\n",
       "    .dataframe tbody tr th {\n",
       "        vertical-align: top;\n",
       "    }\n",
       "\n",
       "    .dataframe thead th {\n",
       "        text-align: right;\n",
       "    }\n",
       "</style>\n",
       "<table border=\"1\" class=\"dataframe\">\n",
       "  <thead>\n",
       "    <tr style=\"text-align: right;\">\n",
       "      <th></th>\n",
       "      <th>simple_name</th>\n",
       "      <th>feature</th>\n",
       "      <th>category</th>\n",
       "    </tr>\n",
       "  </thead>\n",
       "  <tbody>\n",
       "    <tr>\n",
       "      <th>0</th>\n",
       "      <td>Sequence Identity</td>\n",
       "      <td>min_sequence_identity</td>\n",
       "      <td>Sequence</td>\n",
       "    </tr>\n",
       "    <tr>\n",
       "      <th>1</th>\n",
       "      <td>Max Sequence Identity</td>\n",
       "      <td>max_sequence_identity</td>\n",
       "      <td>Sequence</td>\n",
       "    </tr>\n",
       "  </tbody>\n",
       "</table>\n",
       "</div>"
      ],
      "text/plain": [
       "             simple_name                feature  category\n",
       "0      Sequence Identity  min_sequence_identity  Sequence\n",
       "1  Max Sequence Identity  max_sequence_identity  Sequence"
      ]
     },
     "execution_count": 10,
     "metadata": {},
     "output_type": "execute_result"
    }
   ],
   "source": [
    "# Nice labels for all features - for graphs\n",
    "feature_name_map = pd.read_csv(file_feature_names, sep='\\t')\n",
    "feature_name_map[:2]"
   ]
  },
  {
   "cell_type": "markdown",
   "metadata": {},
   "source": [
    "### ROC-AUC + Avg. Precision for indiv. features"
   ]
  },
  {
   "cell_type": "code",
   "execution_count": 11,
   "metadata": {},
   "outputs": [],
   "source": [
    "# Each feature tried as positive / negative, retaining the direction providing an AUC > 0.5\n",
    "def calc_feature_roc_aucs(pairs, features_df):\n",
    "    feature_aucs = pd.DataFrame(columns=['roc_auc','roc_auc_mean','roc_auc_sem', 'avg_precision',\n",
    "                                         'avg_precision_mean','avg_precision_sem','category','direction'])\n",
    "    for idx, row in features_df.iterrows():\n",
    "        feature = row.feature\n",
    "        \n",
    "        # ROCAUC for all pairs, for both pos/neg feature values\n",
    "        pos_score = roc_auc_score(pairs.SL, pairs[feature])\n",
    "        neg_score = roc_auc_score(pairs.SL, -pairs[feature])\n",
    "        \n",
    "        # Want to test 10 random splits of the data\n",
    "        cv = RepeatedStratifiedKFold(n_splits=4, n_repeats=10, random_state=11)\n",
    "        roc_aucs = []; APs = []\n",
    "        \n",
    "        # Use pos or neg feature values, depending on higher ROCAUC\n",
    "        if pos_score > neg_score:\n",
    "            roc_auc = pos_score\n",
    "            direction = '+'\n",
    "            avg_precision = average_precision_score(pairs.SL, pairs[feature])\n",
    "            for train_idx, test_idx in cv.split(pairs[feature], pairs.SL): \n",
    "                roc_aucs.append(roc_auc_score(pairs.iloc[test_idx].SL, pairs.iloc[test_idx][feature]))\n",
    "                APs.append(average_precision_score(pairs.iloc[test_idx].SL, pairs.iloc[test_idx][feature]))\n",
    "        else:\n",
    "            roc_auv = neg_score\n",
    "            direction = '-'\n",
    "            avg_precision = average_precision_score(pairs.SL, -pairs[feature])\n",
    "            for train_idx, test_idx in cv.split(pairs[feature], pairs.SL):\n",
    "                roc_aucs.append(roc_auc_score(pairs.iloc[test_idx].SL, -pairs.iloc[test_idx][feature]))\n",
    "                APs.append(average_precision_score(pairs.iloc[test_idx].SL, -pairs.iloc[test_idx][feature]))\n",
    "        \n",
    "        # Also calculate the standard error of the mean for ROCAUC and AP\n",
    "        feature_aucs.loc[feature] = [roc_auc, np.mean(roc_aucs), stats.sem(roc_aucs), \n",
    "                                     avg_precision, np.mean(APs), stats.sem(APs), row.category, direction]\n",
    "    \n",
    "    feature_aucs = feature_aucs.reset_index().rename(columns={'index':'feature'})\n",
    "    return feature_aucs"
   ]
  },
  {
   "cell_type": "code",
   "execution_count": 12,
   "metadata": {
    "tags": []
   },
   "outputs": [
    {
     "name": "stdout",
     "output_type": "stream",
     "text": [
      "Max AUC: 0.729, mean: 0.641\n"
     ]
    },
    {
     "data": {
      "text/html": [
       "<div>\n",
       "<style scoped>\n",
       "    .dataframe tbody tr th:only-of-type {\n",
       "        vertical-align: middle;\n",
       "    }\n",
       "\n",
       "    .dataframe tbody tr th {\n",
       "        vertical-align: top;\n",
       "    }\n",
       "\n",
       "    .dataframe thead th {\n",
       "        text-align: right;\n",
       "    }\n",
       "</style>\n",
       "<table border=\"1\" class=\"dataframe\">\n",
       "  <thead>\n",
       "    <tr style=\"text-align: right;\">\n",
       "      <th></th>\n",
       "      <th>feature</th>\n",
       "      <th>roc_auc</th>\n",
       "      <th>roc_auc_mean</th>\n",
       "      <th>roc_auc_sem</th>\n",
       "      <th>avg_precision</th>\n",
       "      <th>avg_precision_mean</th>\n",
       "      <th>avg_precision_sem</th>\n",
       "      <th>category</th>\n",
       "      <th>direction</th>\n",
       "    </tr>\n",
       "  </thead>\n",
       "  <tbody>\n",
       "    <tr>\n",
       "      <th>0</th>\n",
       "      <td>min_sequence_identity</td>\n",
       "      <td>0.729101</td>\n",
       "      <td>0.729271</td>\n",
       "      <td>0.007020</td>\n",
       "      <td>0.097406</td>\n",
       "      <td>0.106032</td>\n",
       "      <td>0.003374</td>\n",
       "      <td>sequence</td>\n",
       "      <td>+</td>\n",
       "    </tr>\n",
       "    <tr>\n",
       "      <th>1</th>\n",
       "      <td>closest</td>\n",
       "      <td>0.694254</td>\n",
       "      <td>0.694320</td>\n",
       "      <td>0.006346</td>\n",
       "      <td>0.066687</td>\n",
       "      <td>0.067501</td>\n",
       "      <td>0.001617</td>\n",
       "      <td>sequence</td>\n",
       "      <td>+</td>\n",
       "    </tr>\n",
       "  </tbody>\n",
       "</table>\n",
       "</div>"
      ],
      "text/plain": [
       "                 feature   roc_auc  roc_auc_mean  roc_auc_sem  avg_precision  \\\n",
       "0  min_sequence_identity  0.729101      0.729271     0.007020       0.097406   \n",
       "1                closest  0.694254      0.694320     0.006346       0.066687   \n",
       "\n",
       "   avg_precision_mean  avg_precision_sem  category direction  \n",
       "0            0.106032           0.003374  sequence         +  \n",
       "1            0.067501           0.001617  sequence         +  "
      ]
     },
     "execution_count": 12,
     "metadata": {},
     "output_type": "execute_result"
    }
   ],
   "source": [
    "feature_aucs = calc_feature_roc_aucs(depmap_pairs, all_features[(all_features.include==1) | (all_features.yeast==1)])\n",
    "print('Max AUC: %.3f, mean: %.3f' % (feature_aucs['roc_auc'].max(), feature_aucs['roc_auc'].mean()))\n",
    "feature_aucs[:2]"
   ]
  },
  {
   "cell_type": "code",
   "execution_count": 13,
   "metadata": {},
   "outputs": [],
   "source": [
    "feature_aucs.to_csv(file_feature_aucs)"
   ]
  },
  {
   "cell_type": "code",
   "execution_count": 14,
   "metadata": {},
   "outputs": [
    {
     "data": {
      "text/html": [
       "<div>\n",
       "<style scoped>\n",
       "    .dataframe tbody tr th:only-of-type {\n",
       "        vertical-align: middle;\n",
       "    }\n",
       "\n",
       "    .dataframe tbody tr th {\n",
       "        vertical-align: top;\n",
       "    }\n",
       "\n",
       "    .dataframe thead th {\n",
       "        text-align: right;\n",
       "    }\n",
       "</style>\n",
       "<table border=\"1\" class=\"dataframe\">\n",
       "  <thead>\n",
       "    <tr style=\"text-align: right;\">\n",
       "      <th></th>\n",
       "      <th>Simple Name</th>\n",
       "      <th>Feature</th>\n",
       "      <th>Category</th>\n",
       "      <th>Description</th>\n",
       "      <th>Source</th>\n",
       "      <th>ROC AUC</th>\n",
       "      <th>Avg. Precision</th>\n",
       "    </tr>\n",
       "  </thead>\n",
       "  <tbody>\n",
       "    <tr>\n",
       "      <th>0</th>\n",
       "      <td>Sequence Identity</td>\n",
       "      <td>min_sequence_identity</td>\n",
       "      <td>Sequence</td>\n",
       "      <td>The minimum of: the percent of A1's protein-co...</td>\n",
       "      <td>Ensembl</td>\n",
       "      <td>0.729101</td>\n",
       "      <td>0.097406</td>\n",
       "    </tr>\n",
       "    <tr>\n",
       "      <th>1</th>\n",
       "      <td>Closest Paralog</td>\n",
       "      <td>closest</td>\n",
       "      <td>Sequence</td>\n",
       "      <td>Whether A1 and A2 are each other's closest par...</td>\n",
       "      <td>Ensembl</td>\n",
       "      <td>0.694254</td>\n",
       "      <td>0.066687</td>\n",
       "    </tr>\n",
       "  </tbody>\n",
       "</table>\n",
       "</div>"
      ],
      "text/plain": [
       "         Simple Name                Feature  Category  \\\n",
       "0  Sequence Identity  min_sequence_identity  Sequence   \n",
       "1    Closest Paralog                closest  Sequence   \n",
       "\n",
       "                                         Description   Source   ROC AUC  \\\n",
       "0  The minimum of: the percent of A1's protein-co...  Ensembl  0.729101   \n",
       "1  Whether A1 and A2 are each other's closest par...  Ensembl  0.694254   \n",
       "\n",
       "   Avg. Precision  \n",
       "0        0.097406  \n",
       "1        0.066687  "
      ]
     },
     "metadata": {},
     "output_type": "display_data"
    }
   ],
   "source": [
    "# Save feature AUCs in feature table as Table S3\n",
    "feature_table = pd.read_excel(file_feature_table)\n",
    "df = pd.merge(feature_table, feature_aucs[['feature','roc_auc', 'avg_precision']].rename(columns={'feature':'Feature'}))\n",
    "table_s6 = df.rename(columns={'roc_auc':'ROC AUC', 'avg_precision':'Avg. Precision'})\n",
    "display(table_s6[:2])\n",
    "table_s6.to_excel(file_table_s6, index=0)"
   ]
  },
  {
   "cell_type": "markdown",
   "metadata": {},
   "source": [
    "#### Draw indiv feature AUC/AP graph"
   ]
  },
  {
   "cell_type": "code",
   "execution_count": 15,
   "metadata": {},
   "outputs": [],
   "source": [
    "def draw_feature_auc_chart(feature_aucs, axes, color_dict, with_error=True, xlim=0.752, xlim2=0.11):\n",
    "    # ROC-AUC\n",
    "    sns.barplot(x='roc_auc', y='feature', hue='category', data=feature_aucs, ax=axes[0], dodge=False,\n",
    "                palette=list(color_dict.values()), hue_order=list(color_dict.keys()), saturation=1)\n",
    "    if with_error:\n",
    "        axes[0].errorbar(y=feature_aucs.feature, x=feature_aucs.roc_auc, xerr=feature_aucs.roc_auc_sem, \n",
    "                         fmt='none', color='black', linewidth=0.8, capsize=0)\n",
    "    # AP\n",
    "    sns.pointplot(x='avg_precision', y='feature', hue='category', data=feature_aucs, ax=axes[1], dodge=False,\n",
    "                  join=False, palette=list(color_dict.values()), hue_order=list(color_dict.keys()), saturation=1, \n",
    "                  scale=1.1, ci=None)\n",
    "    if with_error:\n",
    "        axes[1].errorbar(y=feature_aucs.feature, x=feature_aucs.avg_precision, xerr=feature_aucs.avg_precision_sem, \n",
    "                         fmt='none', color=[color_dict[c] for c in feature_aucs.category], linewidth=0.8)\n",
    "    \n",
    "    axes[0].grid(axis='x'); axes[1].grid(axis='x')\n",
    "    axes[0].set_xlim([0.5, xlim])\n",
    "    axes[0].legend(loc='lower right', fontsize=9, bbox_to_anchor=(1.04,0), markerscale=0.5)\n",
    "    axes[0].tick_params(axis='y', which='both', length=0)\n",
    "    axes[0].set_xlabel('ROC AUC'); axes[0].set_ylabel('')\n",
    "    \n",
    "    axes[1].set_xlim([0.03, xlim2])\n",
    "    axes[1].set_ylim([feature_aucs.shape[0]-0.4, -0.6])\n",
    "    axes[1].legend().remove()\n",
    "    axes[1].tick_params(axis='y', which='both', length=0)\n",
    "    axes[1].set_xlabel('Avg. precision'); axes[1].set_ylabel('')"
   ]
  },
  {
   "cell_type": "code",
   "execution_count": 16,
   "metadata": {},
   "outputs": [
    {
     "data": {
      "image/png": "[encoded data removed]",
      "text/plain": [
       "<Figure size 550x430 with 2 Axes>"
      ]
     },
     "metadata": {},
     "output_type": "display_data"
    }
   ],
   "source": [
    "# Merge in feature labels\n",
    "df = pd.merge(feature_aucs[feature_aucs.feature.isin(all_features[all_features.include==1].feature)], \n",
    "              feature_name_map[['feature','simple_name']]).sort_values('roc_auc', ascending=False)\n",
    "df = df.assign(feature = df.simple_name)\n",
    "\n",
    "with plt.rc_context({'ytick.labelsize':9}):\n",
    "    f, axes = plt.subplots(1, 2, figsize=(5.5,4.3), sharey=True, gridspec_kw={'width_ratios': [2, 1]})\n",
    "    color_dict = {'sequence':'#E69F00', 'neighborhood':'#56B4E9', 'expression':'#248299'}\n",
    "    draw_feature_auc_chart(df, axes, color_dict)\n",
    "    plt.tight_layout()\n",
    "    plt.savefig(\"../figures/for_paper/feature_aucs.svg\", dpi=300)"
   ]
  },
  {
   "cell_type": "markdown",
   "metadata": {},
   "source": [
    "#### PPI & protein complex features"
   ]
  },
  {
   "cell_type": "code",
   "execution_count": 23,
   "metadata": {},
   "outputs": [
    {
     "name": "stdout",
     "output_type": "stream",
     "text": [
      "Protein complex essentiality AP=0.078\n",
      "Shared PPI essentiality AP=0.052\n",
      "Total PPI AP=0.060, AUC=0.647\n",
      "Shared PPI AP=0.099, AUC=0.729\n"
     ]
    }
   ],
   "source": [
    "# Some metrics related to the above graph\n",
    "print('Protein complex essentiality AP=%.3f' % (feature_aucs[feature_aucs.feature=='mean_complex_essentiality'].avg_precision))\n",
    "print('Shared PPI essentiality AP=%.3f' % (feature_aucs[feature_aucs.feature=='shared_ppi_mean_essentiality'].avg_precision))\n",
    "\n",
    "print('Total PPI AP=%.3f, AUC=%.3f' % (feature_aucs[feature_aucs.feature=='n_total_ppi'].avg_precision,\n",
    "                                       feature_aucs[feature_aucs.feature=='n_total_ppi'].roc_auc))\n",
    "print('Shared PPI AP=%.3f, AUC=%.3f' % (feature_aucs[feature_aucs.feature=='fet_ppi_overlap'].avg_precision,\n",
    "                                       feature_aucs[feature_aucs.feature=='fet_ppi_overlap'].roc_auc))"
   ]
  },
  {
   "cell_type": "markdown",
   "metadata": {},
   "source": [
    "#### Yeast ortholog features\n",
    "To compare single essential vs. any essential yeast ortholog"
   ]
  },
  {
   "cell_type": "code",
   "execution_count": 19,
   "metadata": {},
   "outputs": [
    {
     "name": "stdout",
     "output_type": "stream",
     "text": [
      "AP pombe ortholog=0.063 vs. essential pombe ortholog=0.053\n",
      "AP cerevisiae ortholog=0.049 vs. essential cerevisiae ortholog=0.045\n"
     ]
    }
   ],
   "source": [
    "print('AP pombe ortholog=%.3f' % (feature_aucs[feature_aucs.feature=='has_pombe_ortholog'].avg_precision),\n",
    "      'vs. essential pombe ortholog=%.3f' % (feature_aucs[feature_aucs.feature=='has_essential_pombe_ortholog'].avg_precision))\n",
    "\n",
    "print('AP cerevisiae ortholog=%.3f' % (feature_aucs[feature_aucs.feature=='has_cerevisiae_ortholog'].avg_precision),\n",
    "      'vs. essential cerevisiae ortholog=%.3f' % \n",
    "      (feature_aucs[feature_aucs.feature=='has_essential_cerevisiae_ortholog'].avg_precision))"
   ]
  },
  {
   "cell_type": "code",
   "execution_count": 20,
   "metadata": {},
   "outputs": [
    {
     "data": {
      "image/png": "[encoded data removed]",
      "text/plain": [
       "<Figure size 550x180 with 2 Axes>"
      ]
     },
     "metadata": {},
     "output_type": "display_data"
    }
   ],
   "source": [
    "# Filter and merge in feature labels\n",
    "df = pd.merge(feature_aucs[feature_aucs.feature.isin(all_features[all_features.yeast==1].feature)], \n",
    "              feature_name_map[['feature','simple_name']]).sort_values('roc_auc', ascending=False)\n",
    "df = df.assign(feature = df.simple_name)\n",
    "\n",
    "with plt.rc_context({'ytick.labelsize':9}):\n",
    "    f, axes = plt.subplots(1, 2, figsize=(5.5,1.8), sharey=True, gridspec_kw={'width_ratios': [2, 1]})\n",
    "    draw_feature_auc_chart(df, axes, color_dict={'sequence':'#E69F00'}, xlim=0.7, xlim2=0.075)\n",
    "    axes[0].legend().remove()\n",
    "    plt.tight_layout()\n",
    "    plt.savefig(\"../figures/for_paper/yeast_feature_aucs.svg\", bbox_inches=\"tight\", dpi=100)"
   ]
  },
  {
   "cell_type": "markdown",
   "metadata": {},
   "source": [
    "#### Paralog families"
   ]
  },
  {
   "cell_type": "code",
   "execution_count": 21,
   "metadata": {},
   "outputs": [
    {
     "name": "stdout",
     "output_type": "stream",
     "text": [
      "Median family size SL pairs: 5.0\n",
      "Median family size non-SL pairs: 8.0\n"
     ]
    },
    {
     "data": {
      "image/png": "[encoded data removed]",
      "text/plain": [
       "<Figure size 120x200 with 1 Axes>"
      ]
     },
     "metadata": {},
     "output_type": "display_data"
    }
   ],
   "source": [
    "print('Median family size SL pairs:', depmap_pairs[depmap_pairs.SL].family_size.median())\n",
    "print('Median family size non-SL pairs:', depmap_pairs[~depmap_pairs.SL].family_size.median())\n",
    "\n",
    "f, ax = plt.subplots(1, 1, figsize=(1.2,2))\n",
    "sns.boxplot(y=depmap_pairs.family_size, x=depmap_pairs.SL, ax=ax, fliersize=2, color='#E69F00', saturation=1)\n",
    "_ = ax.set_ylabel('Family size')"
   ]
  },
  {
   "cell_type": "markdown",
   "metadata": {},
   "source": [
    "### ROC / PR curves for indiv. features"
   ]
  },
  {
   "cell_type": "code",
   "execution_count": 24,
   "metadata": {},
   "outputs": [],
   "source": [
    "def draw_roc_pr_curves_for_feature(feature, ax1, ax2, color='black', textwidth=10, chance=True):\n",
    "    feature_values = depmap_pairs[feature]\n",
    "    if roc_auc_score(depmap_pairs.SL, -feature_values) > roc_auc_score(depmap_pairs.SL, feature_values):\n",
    "        feature_values = -feature_values\n",
    "    \n",
    "    fpr, tpr, _ = roc_curve(depmap_pairs.SL, feature_values)\n",
    "    precision, recall, _ = precision_recall_curve(depmap_pairs.SL, feature_values)\n",
    "    precision = precision[:-1]; recall = recall[:-1]\n",
    "\n",
    "    # Auto-wrap labels based on textwidth\n",
    "    label = feature_name_map[feature_name_map.feature==feature].simple_name.values[0]\n",
    "    \n",
    "    #label1 = label + ' (%.2f)' % (roc_auc_score(depmap_pairs.SL, feature_values))\n",
    "    label1 = ' \\n'.join(textwrap.wrap(label, textwidth, break_long_words=False))\n",
    "    \n",
    "    #label2 = label + ' (%.2f)' % (average_precision_score(depmap_pairs.SL, feature_values))\n",
    "    label2 = ' \\n'.join(textwrap.wrap(label, textwidth, break_long_words=False))\n",
    "    \n",
    "    ax1.plot(fpr, tpr, label=label1, color=color, lw=1.2)\n",
    "    ax1.set_ylim([-0.05,1.02]); ax1.set_xlim([-0.05,1.02])\n",
    "    ax1.set_xlabel('False Positive Rate'); ax1.set_ylabel('True Positive Rate')\n",
    "    \n",
    "    if chance:\n",
    "        ax1.plot([0, 1], [0, 1], linestyle='--', color='black', label='Chance (0.50)')    \n",
    "        \n",
    "    ax2.plot(recall, precision, label=label2, color=color, drawstyle=\"steps-post\")\n",
    "    ax2.set_xlabel('Recall'); ax2.set_ylabel('Precision')\n",
    "    ax2.set_ylim([-0.05,1.02]); ax2.set_xlim([-0.05,1.02])\n",
    "    \n",
    "    if chance:\n",
    "        no_skill = depmap_pairs[depmap_pairs.SL].shape[0] / depmap_pairs.shape[0]\n",
    "        ax2.plot([0, 1], [no_skill, no_skill], linestyle='--', color='black', label='Chance')\n",
    "        ax2.legend(loc=\"upper right\", bbox_to_anchor=(1,1.03))"
   ]
  },
  {
   "cell_type": "code",
   "execution_count": 25,
   "metadata": {},
   "outputs": [
    {
     "data": {
      "image/png": "[encoded data removed]",
      "text/plain": [
       "<Figure size 550x270 with 2 Axes>"
      ]
     },
     "metadata": {},
     "output_type": "display_data"
    }
   ],
   "source": [
    "f, (ax1, ax2) = plt.subplots(1, 2, figsize=(5.5,2.7))\n",
    "color_dict = {'sequence':'#E69F00', 'neighborhood':'#56B4E9', 'expression':'#248299'}\n",
    "draw_roc_pr_curves_for_feature('min_sequence_identity', ax1, ax2, color_dict['sequence'], textwidth=22, chance=False)\n",
    "draw_roc_pr_curves_for_feature('fet_ppi_overlap', ax1, ax2, color_dict['neighborhood'], textwidth=22, chance=False)\n",
    "draw_roc_pr_curves_for_feature('gtex_min_mean_expr', ax1, ax2, color_dict['expression'], textwidth=22)\n",
    "plt.tight_layout()"
   ]
  }
 ],
 "metadata": {
  "kernelspec": {
   "display_name": "Python 3.7.9 64-bit ('paralogSL': conda)",
   "language": "python",
   "name": "python37964bitparalogslconda0f0e77de73d34c52b743edfe8868363d"
  },
  "language_info": {
   "codemirror_mode": {
    "name": "ipython",
    "version": 3
   },
   "file_extension": ".py",
   "mimetype": "text/x-python",
   "name": "python",
   "nbconvert_exporter": "python",
   "pygments_lexer": "ipython3",
   "version": "3.7.1"
  }
 },
 "nbformat": 4,
 "nbformat_minor": 2
}
