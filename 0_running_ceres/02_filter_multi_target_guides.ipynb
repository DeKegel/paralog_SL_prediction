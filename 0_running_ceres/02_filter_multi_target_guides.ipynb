{
 "cells": [
  {
   "cell_type": "markdown",
   "metadata": {},
   "source": [
    "## Filter out guides that are multi-targeting\n",
    "\n",
    "Run this script after: `align_guides.R`\n",
    "\n",
    "**Input:**  \n",
    "- Guide alignment file computed in `align_guides.R`\n",
    "- Guide level log-fold changes file downloaded from DepMap\n",
    "- List of dropped guides from DepMap portal\n",
    "- HGNC gene ID map\n",
    "\n",
    "**Output:**  \n",
    "- Filtered version of the log-fold changes file\n",
    "\n",
    "Notes: \n",
    "- From 19Q3 DepMap does alignment to GRCh38, this is mentioned in Tsherniak et al (2019) https://www.biorxiv.org/content/10.1101/720243v1.full\n",
    "- Guides that have > 100 alignments are not used by CERES.  \n",
    "- Definitions of \"PAM-distal\" are taken from Fortin et al (2019): https://genomebiology.biomedcentral.com/articles/10.1186/s13059-019-1621-7"
   ]
  },
  {
   "cell_type": "code",
   "execution_count": 1,
   "metadata": {},
   "outputs": [],
   "source": [
    "import pandas as pd\n",
    "import numpy as np\n",
    "import scipy.stats as stats\n",
    "import os\n",
    "import re\n",
    "from random import randint\n",
    "import matplotlib.pyplot as plt\n",
    "import seaborn as sns\n",
    "import matplotlib.pyplot as plt\n",
    "import matplotlib as mpl\n",
    "mpl.rcParams.update({'font.size': 10, 'axes.spines.top': False, 'axes.spines.right': False})\n",
    "\n",
    "get_data_path = lambda folders, fname: os.path.normpath(os.environ['3RD_PARTY_DIR']+'/'+'/'.join(folders) +'/'+ fname)\n",
    "get_local_data_path = lambda folders, fname: os.path.normpath('../local_data/' +'/'.join(folders) +'/'+ fname)\n",
    "\n",
    "# Input from DepMap\n",
    "file_logfold_changes = lambda v: get_data_path(['depmap', v], ('Achilles_' if v=='20Q2' else '')+'logfold_change.csv')\n",
    "file_guide_map = lambda v: get_data_path(['depmap', v], 'Achilles_guide_map.csv' if v=='20Q2' else 'guide_gene_map.csv')\n",
    "file_dropped_guides = get_data_path(['depmap', '20Q2'], 'Achilles_dropped_guides.csv') # only for Broad\n",
    "\n",
    "# Input from R script\n",
    "file_alignments = lambda v: get_local_data_path(['processed', v], 'guide_alignments_hg38.csv')\n",
    "\n",
    "# Input from 1_data_processing\n",
    "file_id_map = get_local_data_path(['processed'], 'HGNC_gene_id_map.csv')\n",
    "\n",
    "# OUTPUT\n",
    "file_filtered_lfc = lambda v, d: get_local_data_path(['processed', v], 'filtered_lfc_'+d+'.csv')\n",
    "file_guides_per_gene = lambda v, d: get_local_data_path(['processed', v], 'guides_per_gene_'+d+'.csv')"
   ]
  },
  {
   "cell_type": "markdown",
   "metadata": {},
   "source": [
    "### Load guide-gene map from DepMap for comparisson"
   ]
  },
  {
   "cell_type": "code",
   "execution_count": 2,
   "metadata": {},
   "outputs": [],
   "source": [
    "# For comparison - note this would only include perfect alignments\n",
    "# From DepMap portal: n_alignments (integer number of perfect matches for that guide)\n",
    "def load_depmap_guide_map(fname):\n",
    "    depmap_guide_map = pd.read_csv(fname).dropna()\n",
    "    assert(depmap_guide_map[depmap_guide_map.gene.isna()].shape[0]==0)\n",
    "\n",
    "    # Extract Entrez ID and symbol\n",
    "    get_gene_id = lambda x: int(re.search('[\\w-]+\\s\\((\\w+)\\)', x).group(1))\n",
    "    get_gene_symbol = lambda x: re.search('([\\w-]+)\\s\\(\\w+\\)', x).group(1)\n",
    "    depmap_guide_map['symbol'] = depmap_guide_map.gene.apply(get_gene_symbol)\n",
    "    depmap_guide_map['entrez_id'] = depmap_guide_map.gene.apply(get_gene_id)\n",
    "\n",
    "    # Exclude X/Y chr genes - I didn't align to those\n",
    "    depmap_guide_map = depmap_guide_map[~depmap_guide_map.genome_alignment.str.startswith('chrX') & \n",
    "                                        ~depmap_guide_map.genome_alignment.str.startswith('chrY')]\n",
    "\n",
    "    # Add locus type info\n",
    "    id_map = pd.read_csv(file_id_map, index_col=0)[['locus_type','entrez_id']]\n",
    "    id_map = id_map.dropna(subset=['entrez_id']).astype({'entrez_id':'int'})\n",
    "    depmap_guide_map = pd.merge(depmap_guide_map, id_map, how='left')\n",
    "\n",
    "    print('# of guides:', depmap_guide_map.sgrna.nunique())\n",
    "    return depmap_guide_map"
   ]
  },
  {
   "cell_type": "code",
   "execution_count": 3,
   "metadata": {},
   "outputs": [
    {
     "name": "stdout",
     "output_type": "stream",
     "text": [
      "# of guides: 69259\n"
     ]
    },
    {
     "data": {
      "text/html": [
       "<div>\n",
       "<style scoped>\n",
       "    .dataframe tbody tr th:only-of-type {\n",
       "        vertical-align: middle;\n",
       "    }\n",
       "\n",
       "    .dataframe tbody tr th {\n",
       "        vertical-align: top;\n",
       "    }\n",
       "\n",
       "    .dataframe thead th {\n",
       "        text-align: right;\n",
       "    }\n",
       "</style>\n",
       "<table border=\"1\" class=\"dataframe\">\n",
       "  <thead>\n",
       "    <tr style=\"text-align: right;\">\n",
       "      <th></th>\n",
       "      <th>sgrna</th>\n",
       "      <th>genome_alignment</th>\n",
       "      <th>gene</th>\n",
       "      <th>n_alignments</th>\n",
       "      <th>symbol</th>\n",
       "      <th>entrez_id</th>\n",
       "      <th>locus_type</th>\n",
       "    </tr>\n",
       "  </thead>\n",
       "  <tbody>\n",
       "    <tr>\n",
       "      <th>0</th>\n",
       "      <td>AAAAAAATCCAGCAATGCAG</td>\n",
       "      <td>chr10_110964620_+</td>\n",
       "      <td>SHOC2 (8036)</td>\n",
       "      <td>1</td>\n",
       "      <td>SHOC2</td>\n",
       "      <td>8036</td>\n",
       "      <td>gene with protein product</td>\n",
       "    </tr>\n",
       "  </tbody>\n",
       "</table>\n",
       "</div>"
      ],
      "text/plain": [
       "                  sgrna   genome_alignment          gene  n_alignments symbol  \\\n",
       "0  AAAAAAATCCAGCAATGCAG  chr10_110964620_+  SHOC2 (8036)             1  SHOC2   \n",
       "\n",
       "   entrez_id                 locus_type  \n",
       "0       8036  gene with protein product  "
      ]
     },
     "metadata": {},
     "output_type": "display_data"
    }
   ],
   "source": [
    "depmap_guide_map = load_depmap_guide_map(file_guide_map('20Q2'))\n",
    "display(depmap_guide_map[:1])"
   ]
  },
  {
   "cell_type": "code",
   "execution_count": 4,
   "metadata": {},
   "outputs": [
    {
     "name": "stdout",
     "output_type": "stream",
     "text": [
      "# of guides: 84039\n"
     ]
    },
    {
     "data": {
      "text/html": [
       "<div>\n",
       "<style scoped>\n",
       "    .dataframe tbody tr th:only-of-type {\n",
       "        vertical-align: middle;\n",
       "    }\n",
       "\n",
       "    .dataframe tbody tr th {\n",
       "        vertical-align: top;\n",
       "    }\n",
       "\n",
       "    .dataframe thead th {\n",
       "        text-align: right;\n",
       "    }\n",
       "</style>\n",
       "<table border=\"1\" class=\"dataframe\">\n",
       "  <thead>\n",
       "    <tr style=\"text-align: right;\">\n",
       "      <th></th>\n",
       "      <th>sgrna</th>\n",
       "      <th>genome_alignment</th>\n",
       "      <th>gene</th>\n",
       "      <th>symbol</th>\n",
       "      <th>entrez_id</th>\n",
       "      <th>locus_type</th>\n",
       "    </tr>\n",
       "  </thead>\n",
       "  <tbody>\n",
       "    <tr>\n",
       "      <th>0</th>\n",
       "      <td>TGCTGACGGGTGACACCCA</td>\n",
       "      <td>chr19_58353007_-</td>\n",
       "      <td>A1BG (1)</td>\n",
       "      <td>A1BG</td>\n",
       "      <td>1</td>\n",
       "      <td>gene with protein product</td>\n",
       "    </tr>\n",
       "  </tbody>\n",
       "</table>\n",
       "</div>"
      ],
      "text/plain": [
       "                 sgrna  genome_alignment      gene symbol  entrez_id  \\\n",
       "0  TGCTGACGGGTGACACCCA  chr19_58353007_-  A1BG (1)   A1BG          1   \n",
       "\n",
       "                  locus_type  \n",
       "0  gene with protein product  "
      ]
     },
     "metadata": {},
     "output_type": "display_data"
    }
   ],
   "source": [
    "sanger_guide_map = load_depmap_guide_map(file_guide_map('sanger'))\n",
    "display(sanger_guide_map[:1])"
   ]
  },
  {
   "cell_type": "markdown",
   "metadata": {},
   "source": [
    "### Load alignments computed in R script + compute alignment type"
   ]
  },
  {
   "cell_type": "code",
   "execution_count": 5,
   "metadata": {
    "tags": []
   },
   "outputs": [],
   "source": [
    "# Calculate alignment type based on the 'alignment' encoding \n",
    "# PAM-distal = in the 10 nucleotides furthest from the PAM for single mismatch\n",
    "# PAM-distal = in the 2 nucleotides furthest from the PAM for double mismatch\n",
    "def get_alignment_type(row, perfect_alignment):\n",
    "    if row.alignment == str(perfect_alignment):\n",
    "        return 'perfect'\n",
    "    match = re.search('^(\\d+)[ATCG]\\d+$', row.alignment)\n",
    "    if match != None:\n",
    "        if ((row.strand == '+' and int(match.group(1)) <= 9) or \n",
    "            (row.strand == '-' and int(match.group(1)) >= (perfect_alignment-9))):\n",
    "            return 'pam_distal_single'\n",
    "        return 'single'\n",
    "    match = re.search('^(\\d+)[ATCG](\\d+)[ATCG](\\d+)$', row.alignment)\n",
    "    if match != None:\n",
    "        if ((row.strand == '+' and int(match.group(3)) == (perfect_alignment-2)) or \n",
    "            (row.strand == '-' and int(match.group(1)) == (perfect_alignment-2))):\n",
    "            return 'pam_distal_double'\n",
    "        return 'double'\n",
    "\n",
    "def load_alignments(fname, perfect_alignment):\n",
    "    # Load and clean the alignment file generated in R notebook\n",
    "    raw_alignments = pd.read_csv(fname)\n",
    "    display(raw_alignments[:1])\n",
    "    \n",
    "    # Duplicates: different CDS_start and CDS_end (multiple exons) - but only considering gene level\n",
    "    alignments = raw_alignments.drop_duplicates(subset=['sgrna', 'gene', 'geneID', 'alignment'])\n",
    "    alignments = alignments.rename(columns={'geneID':'entrez_id'})\n",
    "    alignments = alignments[['sgrna', 'alignment', 'entrez_id', 'gene', 'chr', 'strand', 'cut_pos']].sort_values('gene')\n",
    "    print('# of guides:', alignments.sgrna.nunique())\n",
    "\n",
    "    # Expect no alignment to X/Y chromosomes\n",
    "    assert(alignments[(alignments.chr == 'chrX') | (alignments.chr == 'chrY')].shape[0] == 0)\n",
    "    \n",
    "    # Arg perfect_alignment is length of guides: Broad=20, Sanger=19\n",
    "    alignments = alignments.assign(align_type = alignments.apply(get_alignment_type, args=[perfect_alignment], axis=1))\n",
    "    \n",
    "    return alignments"
   ]
  },
  {
   "cell_type": "code",
   "execution_count": 6,
   "metadata": {},
   "outputs": [
    {
     "data": {
      "text/html": [
       "<div>\n",
       "<style scoped>\n",
       "    .dataframe tbody tr th:only-of-type {\n",
       "        vertical-align: middle;\n",
       "    }\n",
       "\n",
       "    .dataframe tbody tr th {\n",
       "        vertical-align: top;\n",
       "    }\n",
       "\n",
       "    .dataframe thead th {\n",
       "        text-align: right;\n",
       "    }\n",
       "</style>\n",
       "<table border=\"1\" class=\"dataframe\">\n",
       "  <thead>\n",
       "    <tr style=\"text-align: right;\">\n",
       "      <th></th>\n",
       "      <th>sgrna</th>\n",
       "      <th>chr</th>\n",
       "      <th>cut_pos</th>\n",
       "      <th>strand</th>\n",
       "      <th>alignment</th>\n",
       "      <th>gene</th>\n",
       "      <th>geneID</th>\n",
       "      <th>CDS_strand</th>\n",
       "      <th>CDS_start</th>\n",
       "      <th>CDS_end</th>\n",
       "    </tr>\n",
       "  </thead>\n",
       "  <tbody>\n",
       "    <tr>\n",
       "      <th>0</th>\n",
       "      <td>AAAAAAATCCAGCAATGCAG</td>\n",
       "      <td>chr10</td>\n",
       "      <td>110964620</td>\n",
       "      <td>+</td>\n",
       "      <td>20</td>\n",
       "      <td>SHOC2</td>\n",
       "      <td>8036</td>\n",
       "      <td>+</td>\n",
       "      <td>110964358</td>\n",
       "      <td>110965060</td>\n",
       "    </tr>\n",
       "  </tbody>\n",
       "</table>\n",
       "</div>"
      ],
      "text/plain": [
       "                  sgrna    chr    cut_pos strand alignment   gene  geneID  \\\n",
       "0  AAAAAAATCCAGCAATGCAG  chr10  110964620      +        20  SHOC2    8036   \n",
       "\n",
       "  CDS_strand  CDS_start    CDS_end  \n",
       "0          +  110964358  110965060  "
      ]
     },
     "metadata": {},
     "output_type": "display_data"
    },
    {
     "name": "stdout",
     "output_type": "stream",
     "text": [
      "# of guides: 70509\n"
     ]
    },
    {
     "data": {
      "text/html": [
       "<div>\n",
       "<style scoped>\n",
       "    .dataframe tbody tr th:only-of-type {\n",
       "        vertical-align: middle;\n",
       "    }\n",
       "\n",
       "    .dataframe tbody tr th {\n",
       "        vertical-align: top;\n",
       "    }\n",
       "\n",
       "    .dataframe thead th {\n",
       "        text-align: right;\n",
       "    }\n",
       "</style>\n",
       "<table border=\"1\" class=\"dataframe\">\n",
       "  <thead>\n",
       "    <tr style=\"text-align: right;\">\n",
       "      <th></th>\n",
       "      <th>sgrna</th>\n",
       "      <th>alignment</th>\n",
       "      <th>entrez_id</th>\n",
       "      <th>gene</th>\n",
       "      <th>chr</th>\n",
       "      <th>strand</th>\n",
       "      <th>cut_pos</th>\n",
       "      <th>align_type</th>\n",
       "    </tr>\n",
       "  </thead>\n",
       "  <tbody>\n",
       "    <tr>\n",
       "      <th>83854</th>\n",
       "      <td>GTGTGCCGAGGTGTGCTGCG</td>\n",
       "      <td>20</td>\n",
       "      <td>1</td>\n",
       "      <td>A1BG</td>\n",
       "      <td>chr19</td>\n",
       "      <td>-</td>\n",
       "      <td>58352467</td>\n",
       "      <td>perfect</td>\n",
       "    </tr>\n",
       "  </tbody>\n",
       "</table>\n",
       "</div>"
      ],
      "text/plain": [
       "                      sgrna alignment  entrez_id  gene    chr strand  \\\n",
       "83854  GTGTGCCGAGGTGTGCTGCG        20          1  A1BG  chr19      -   \n",
       "\n",
       "        cut_pos align_type  \n",
       "83854  58352467    perfect  "
      ]
     },
     "metadata": {},
     "output_type": "display_data"
    }
   ],
   "source": [
    "all_alignments = load_alignments(file_alignments('depmap20Q2'), perfect_alignment=20)\n",
    "display(all_alignments[:1])"
   ]
  },
  {
   "cell_type": "code",
   "execution_count": 7,
   "metadata": {},
   "outputs": [
    {
     "data": {
      "text/html": [
       "<div>\n",
       "<style scoped>\n",
       "    .dataframe tbody tr th:only-of-type {\n",
       "        vertical-align: middle;\n",
       "    }\n",
       "\n",
       "    .dataframe tbody tr th {\n",
       "        vertical-align: top;\n",
       "    }\n",
       "\n",
       "    .dataframe thead th {\n",
       "        text-align: right;\n",
       "    }\n",
       "</style>\n",
       "<table border=\"1\" class=\"dataframe\">\n",
       "  <thead>\n",
       "    <tr style=\"text-align: right;\">\n",
       "      <th></th>\n",
       "      <th>sgrna</th>\n",
       "      <th>chr</th>\n",
       "      <th>cut_pos</th>\n",
       "      <th>strand</th>\n",
       "      <th>alignment</th>\n",
       "      <th>gene</th>\n",
       "      <th>geneID</th>\n",
       "      <th>CDS_strand</th>\n",
       "      <th>CDS_start</th>\n",
       "      <th>CDS_end</th>\n",
       "    </tr>\n",
       "  </thead>\n",
       "  <tbody>\n",
       "    <tr>\n",
       "      <th>0</th>\n",
       "      <td>TGCTGACGGGTGACACCCA</td>\n",
       "      <td>chr19</td>\n",
       "      <td>58353007</td>\n",
       "      <td>-</td>\n",
       "      <td>19</td>\n",
       "      <td>A1BG</td>\n",
       "      <td>1</td>\n",
       "      <td>-</td>\n",
       "      <td>58352927</td>\n",
       "      <td>58353196</td>\n",
       "    </tr>\n",
       "  </tbody>\n",
       "</table>\n",
       "</div>"
      ],
      "text/plain": [
       "                 sgrna    chr   cut_pos strand alignment  gene  geneID  \\\n",
       "0  TGCTGACGGGTGACACCCA  chr19  58353007      -        19  A1BG       1   \n",
       "\n",
       "  CDS_strand  CDS_start   CDS_end  \n",
       "0          -   58352927  58353196  "
      ]
     },
     "metadata": {},
     "output_type": "display_data"
    },
    {
     "name": "stdout",
     "output_type": "stream",
     "text": [
      "# of guides: 84621\n"
     ]
    },
    {
     "data": {
      "text/html": [
       "<div>\n",
       "<style scoped>\n",
       "    .dataframe tbody tr th:only-of-type {\n",
       "        vertical-align: middle;\n",
       "    }\n",
       "\n",
       "    .dataframe tbody tr th {\n",
       "        vertical-align: top;\n",
       "    }\n",
       "\n",
       "    .dataframe thead th {\n",
       "        text-align: right;\n",
       "    }\n",
       "</style>\n",
       "<table border=\"1\" class=\"dataframe\">\n",
       "  <thead>\n",
       "    <tr style=\"text-align: right;\">\n",
       "      <th></th>\n",
       "      <th>sgrna</th>\n",
       "      <th>alignment</th>\n",
       "      <th>entrez_id</th>\n",
       "      <th>gene</th>\n",
       "      <th>chr</th>\n",
       "      <th>strand</th>\n",
       "      <th>cut_pos</th>\n",
       "      <th>align_type</th>\n",
       "    </tr>\n",
       "  </thead>\n",
       "  <tbody>\n",
       "    <tr>\n",
       "      <th>0</th>\n",
       "      <td>TGCTGACGGGTGACACCCA</td>\n",
       "      <td>19</td>\n",
       "      <td>1</td>\n",
       "      <td>A1BG</td>\n",
       "      <td>chr19</td>\n",
       "      <td>-</td>\n",
       "      <td>58353007</td>\n",
       "      <td>perfect</td>\n",
       "    </tr>\n",
       "  </tbody>\n",
       "</table>\n",
       "</div>"
      ],
      "text/plain": [
       "                 sgrna alignment  entrez_id  gene    chr strand   cut_pos  \\\n",
       "0  TGCTGACGGGTGACACCCA        19          1  A1BG  chr19      -  58353007   \n",
       "\n",
       "  align_type  \n",
       "0    perfect  "
      ]
     },
     "metadata": {},
     "output_type": "display_data"
    }
   ],
   "source": [
    "all_alignments_sanger = load_alignments(file_alignments('sanger'), perfect_alignment=19)\n",
    "display(all_alignments_sanger[:1])"
   ]
  },
  {
   "cell_type": "markdown",
   "metadata": {},
   "source": [
    "### Filter guide-gene map\n",
    "1. Drop guides dropped by DepMap\n",
    "2. Drop guides that target readthrough genes\n",
    "3. Identify and drop multi-targeting guides"
   ]
  },
  {
   "cell_type": "code",
   "execution_count": 8,
   "metadata": {
    "tags": []
   },
   "outputs": [],
   "source": [
    "def filter_dropped_depmap_guides(fname, alignments, ax):\n",
    "    depmap_dropped_guides = pd.read_csv(fname).rename(columns={'Unnamed: 0':'sgrna'})\n",
    "    print('# of guides dropped by DepMap:', depmap_dropped_guides.sgrna.nunique(), '- # to drop here:', \n",
    "          alignments[alignments.sgrna.isin(depmap_dropped_guides.sgrna)].sgrna.nunique())\n",
    "\n",
    "    # Reasons for dropped guides, 'in_dropped_guides' => suspected off-target activity\n",
    "    df = depmap_dropped_guides[depmap_dropped_guides.sgrna.isin(alignments.sgrna)]\n",
    "    df = df.assign(fail_reason = df.fail_reason.apply(lambda x: 'off-target activity' if x=='in_dropped_guides' else x))\n",
    "    sns.countplot(data=df, y='fail_reason', ax=ax, color='#0072b2', order=df['fail_reason'].value_counts().index)\n",
    "    ax.set_title('DepMap guide fail reasons', fontsize=11); ax.set_ylabel('')\n",
    "\n",
    "    # Drop guides that were dropped in Depmap analysis\n",
    "    new_alignments = alignments[~alignments.sgrna.isin(depmap_dropped_guides.sgrna)].rename(columns={'gene':'symbol'})\n",
    "    \n",
    "    # Also don't count guides that map via non-PAM-distal double mismatch\n",
    "    new_alignments = new_alignments[(new_alignments.align_type != 'double')].reset_index(drop=True)\n",
    "    \n",
    "    print('# of guides left:', new_alignments.sgrna.nunique())\n",
    "    \n",
    "    # Check that sgRNAs are the same in this map and depmap guide map\n",
    "    assert(new_alignments[(new_alignments.align_type=='perfect') & \n",
    "                          ~new_alignments.sgrna.isin(depmap_guide_map.sgrna)].shape[0]==0)\n",
    "    assert(depmap_guide_map[~depmap_guide_map.sgrna.isin(new_alignments.sgrna)].shape[0]==0)\n",
    "    return new_alignments"
   ]
  },
  {
   "cell_type": "code",
   "execution_count": 9,
   "metadata": {},
   "outputs": [],
   "source": [
    "def filter_guides_targeting_readthroughs(alignments, ax):\n",
    "    # Add locus info, e.g. read-through gene\n",
    "    id_map = pd.read_csv(file_id_map, index_col=0)[['locus_type','entrez_id']]\n",
    "    id_map = id_map.dropna(subset=['entrez_id']).astype({'entrez_id':'int'})\n",
    "    alns = pd.merge(alignments, id_map, how='left')\n",
    "\n",
    "    # Manual curation - extra genes to mark as read-through\n",
    "    genes_to_mark_as_readthrough = ['LOC110117498-PIK3R3']\n",
    "    alns.loc[alns.symbol.isin(genes_to_mark_as_readthrough), 'locus_type'] = 'readthrough'\n",
    "\n",
    "    # Plot genes that are not classified as \"gene with protein product\"\n",
    "    df = alns[alns.locus_type!='gene with protein product']\n",
    "    _=sns.countplot(data=df, y='locus_type', ax=ax, color='#0072b2', order=df['locus_type'].value_counts().index)\n",
    "    ax.set_title('Non-protein-coding genes in alignments', fontsize=11); ax.set_ylabel('')\n",
    "\n",
    "    # Drop all guides targeting readthrough genes\n",
    "    readthrough_guides = alns[alns.locus_type=='readthrough'].sgrna.unique()\n",
    "    print('# of guides aligned to 1+ readthrough genes:', len(readthrough_guides))\n",
    "    new_alignments = alns[~alns.sgrna.isin(readthrough_guides)].reset_index(drop=True)\n",
    "    assert(new_alignments[new_alignments.locus_type=='readthrough'].shape[0]==0)\n",
    "    print('# of guides left:', new_alignments.sgrna.nunique())\n",
    "    \n",
    "    return new_alignments"
   ]
  },
  {
   "cell_type": "code",
   "execution_count": 10,
   "metadata": {},
   "outputs": [],
   "source": [
    "def filter_multi_targeting_guides(alignments, all_alignments):\n",
    "    # Drop alignments to non-protein-coding genes - don't want to consider these when counting num alignments\n",
    "    # Also won't use scores for non-protein coding genes post-ceres\n",
    "    guide_map = alignments[alignments.locus_type=='gene with protein product'].reset_index(drop=True)\n",
    "    guide_map = guide_map.drop(columns=['locus_type'])\n",
    "\n",
    "    # Annotate guides with number of genes they align to\n",
    "    # Only count 1 alignment per sgrna-gene pairs - guide could match to gene at multiple loci\n",
    "    num_alns = guide_map.groupby('sgrna').entrez_id.nunique().reset_index().rename(columns={'entrez_id':'n_aln'})\n",
    "    guide_map = pd.merge(guide_map, num_alns)\n",
    "    #display(guide_map[:1])\n",
    "    \n",
    "    # Filter out guides that align to more than one coding gene\n",
    "    guides_w_multiple_alns = guide_map[guide_map.n_aln > 1]\n",
    "    print('# of multi-targeting guides:', guides_w_multiple_alns[guides_w_multiple_alns.align_type=='perfect'].sgrna.nunique())\n",
    "    unique_alignments = guide_map[~guide_map.sgrna.isin(guides_w_multiple_alns.sgrna)].reset_index(drop=True)\n",
    "\n",
    "    dropped_guides = all_alignments[~all_alignments.sgrna.isin(unique_alignments.sgrna)].sgrna.unique()\n",
    "    print('Total # of dropped guides:', len(dropped_guides))\n",
    "\n",
    "    # For final alignment map only consider perfect alignments\n",
    "    unique_alignments = unique_alignments[unique_alignments.align_type=='perfect'].reset_index(drop=True)\n",
    "\n",
    "    return unique_alignments, dropped_guides"
   ]
  },
  {
   "cell_type": "markdown",
   "metadata": {},
   "source": [
    "#### Broad"
   ]
  },
  {
   "cell_type": "code",
   "execution_count": 12,
   "metadata": {},
   "outputs": [
    {
     "name": "stdout",
     "output_type": "stream",
     "text": [
      "# of guides dropped by DepMap: 2554 - # to drop here: 1006\n",
      "# of guides left: 69305\n"
     ]
    },
    {
     "data": {
      "text/html": [
       "<div>\n",
       "<style scoped>\n",
       "    .dataframe tbody tr th:only-of-type {\n",
       "        vertical-align: middle;\n",
       "    }\n",
       "\n",
       "    .dataframe tbody tr th {\n",
       "        vertical-align: top;\n",
       "    }\n",
       "\n",
       "    .dataframe thead th {\n",
       "        text-align: right;\n",
       "    }\n",
       "</style>\n",
       "<table border=\"1\" class=\"dataframe\">\n",
       "  <thead>\n",
       "    <tr style=\"text-align: right;\">\n",
       "      <th></th>\n",
       "      <th>sgrna</th>\n",
       "      <th>alignment</th>\n",
       "      <th>entrez_id</th>\n",
       "      <th>symbol</th>\n",
       "      <th>chr</th>\n",
       "      <th>strand</th>\n",
       "      <th>cut_pos</th>\n",
       "      <th>align_type</th>\n",
       "    </tr>\n",
       "  </thead>\n",
       "  <tbody>\n",
       "    <tr>\n",
       "      <th>0</th>\n",
       "      <td>GTGTGCCGAGGTGTGCTGCG</td>\n",
       "      <td>20</td>\n",
       "      <td>1</td>\n",
       "      <td>A1BG</td>\n",
       "      <td>chr19</td>\n",
       "      <td>-</td>\n",
       "      <td>58352467</td>\n",
       "      <td>perfect</td>\n",
       "    </tr>\n",
       "  </tbody>\n",
       "</table>\n",
       "</div>"
      ],
      "text/plain": [
       "                  sgrna alignment  entrez_id symbol    chr strand   cut_pos  \\\n",
       "0  GTGTGCCGAGGTGTGCTGCG        20          1   A1BG  chr19      -  58352467   \n",
       "\n",
       "  align_type  \n",
       "0    perfect  "
      ]
     },
     "metadata": {},
     "output_type": "display_data"
    },
    {
     "name": "stdout",
     "output_type": "stream",
     "text": [
      "# of guides aligned to 1+ readthrough genes: 365\n",
      "# of guides left: 68940\n"
     ]
    },
    {
     "data": {
      "text/html": [
       "<div>\n",
       "<style scoped>\n",
       "    .dataframe tbody tr th:only-of-type {\n",
       "        vertical-align: middle;\n",
       "    }\n",
       "\n",
       "    .dataframe tbody tr th {\n",
       "        vertical-align: top;\n",
       "    }\n",
       "\n",
       "    .dataframe thead th {\n",
       "        text-align: right;\n",
       "    }\n",
       "</style>\n",
       "<table border=\"1\" class=\"dataframe\">\n",
       "  <thead>\n",
       "    <tr style=\"text-align: right;\">\n",
       "      <th></th>\n",
       "      <th>sgrna</th>\n",
       "      <th>alignment</th>\n",
       "      <th>entrez_id</th>\n",
       "      <th>symbol</th>\n",
       "      <th>chr</th>\n",
       "      <th>strand</th>\n",
       "      <th>cut_pos</th>\n",
       "      <th>align_type</th>\n",
       "      <th>locus_type</th>\n",
       "    </tr>\n",
       "  </thead>\n",
       "  <tbody>\n",
       "    <tr>\n",
       "      <th>0</th>\n",
       "      <td>GTGTGCCGAGGTGTGCTGCG</td>\n",
       "      <td>20</td>\n",
       "      <td>1</td>\n",
       "      <td>A1BG</td>\n",
       "      <td>chr19</td>\n",
       "      <td>-</td>\n",
       "      <td>58352467</td>\n",
       "      <td>perfect</td>\n",
       "      <td>gene with protein product</td>\n",
       "    </tr>\n",
       "  </tbody>\n",
       "</table>\n",
       "</div>"
      ],
      "text/plain": [
       "                  sgrna alignment  entrez_id symbol    chr strand   cut_pos  \\\n",
       "0  GTGTGCCGAGGTGTGCTGCG        20          1   A1BG  chr19      -  58352467   \n",
       "\n",
       "  align_type                 locus_type  \n",
       "0    perfect  gene with protein product  "
      ]
     },
     "metadata": {},
     "output_type": "display_data"
    },
    {
     "name": "stdout",
     "output_type": "stream",
     "text": [
      "# of multi-targeting guides: 3252\n",
      "Total # of dropped guides: 5197\n"
     ]
    },
    {
     "data": {
      "image/png": "[encoded data removed]",
      "text/plain": [
       "<Figure size 576x129.6 with 2 Axes>"
      ]
     },
     "metadata": {
      "needs_background": "light"
     },
     "output_type": "display_data"
    }
   ],
   "source": [
    "f, ax = plt.subplots(1, 2, figsize=(8,1.8))\n",
    "alignments_1 = filter_dropped_depmap_guides(file_dropped_guides, all_alignments, ax[0])\n",
    "display(alignments_1[:1])\n",
    "\n",
    "alignments_2 = filter_guides_targeting_readthroughs(alignments_1, ax[1])\n",
    "display(alignments_2[:1])\n",
    "\n",
    "unique_alignments, dropped_guides = filter_multi_targeting_guides(alignments_2, all_alignments)\n",
    "plt.tight_layout()"
   ]
  },
  {
   "cell_type": "markdown",
   "metadata": {},
   "source": [
    "#### Sanger"
   ]
  },
  {
   "cell_type": "code",
   "execution_count": 14,
   "metadata": {},
   "outputs": [
    {
     "data": {
      "text/html": [
       "<div>\n",
       "<style scoped>\n",
       "    .dataframe tbody tr th:only-of-type {\n",
       "        vertical-align: middle;\n",
       "    }\n",
       "\n",
       "    .dataframe tbody tr th {\n",
       "        vertical-align: top;\n",
       "    }\n",
       "\n",
       "    .dataframe thead th {\n",
       "        text-align: right;\n",
       "    }\n",
       "</style>\n",
       "<table border=\"1\" class=\"dataframe\">\n",
       "  <thead>\n",
       "    <tr style=\"text-align: right;\">\n",
       "      <th></th>\n",
       "      <th>sgrna</th>\n",
       "      <th>alignment</th>\n",
       "      <th>entrez_id</th>\n",
       "      <th>symbol</th>\n",
       "      <th>chr</th>\n",
       "      <th>strand</th>\n",
       "      <th>cut_pos</th>\n",
       "      <th>align_type</th>\n",
       "    </tr>\n",
       "  </thead>\n",
       "  <tbody>\n",
       "    <tr>\n",
       "      <th>0</th>\n",
       "      <td>TGCTGACGGGTGACACCCA</td>\n",
       "      <td>19</td>\n",
       "      <td>1</td>\n",
       "      <td>A1BG</td>\n",
       "      <td>chr19</td>\n",
       "      <td>-</td>\n",
       "      <td>58353007</td>\n",
       "      <td>perfect</td>\n",
       "    </tr>\n",
       "  </tbody>\n",
       "</table>\n",
       "</div>"
      ],
      "text/plain": [
       "                 sgrna alignment  entrez_id symbol    chr strand   cut_pos  \\\n",
       "0  TGCTGACGGGTGACACCCA        19          1   A1BG  chr19      -  58353007   \n",
       "\n",
       "  align_type  \n",
       "0    perfect  "
      ]
     },
     "metadata": {},
     "output_type": "display_data"
    },
    {
     "name": "stdout",
     "output_type": "stream",
     "text": [
      "# of guides aligned to 1+ readthrough genes: 525\n",
      "# of guides left: 83917\n"
     ]
    },
    {
     "data": {
      "text/html": [
       "<div>\n",
       "<style scoped>\n",
       "    .dataframe tbody tr th:only-of-type {\n",
       "        vertical-align: middle;\n",
       "    }\n",
       "\n",
       "    .dataframe tbody tr th {\n",
       "        vertical-align: top;\n",
       "    }\n",
       "\n",
       "    .dataframe thead th {\n",
       "        text-align: right;\n",
       "    }\n",
       "</style>\n",
       "<table border=\"1\" class=\"dataframe\">\n",
       "  <thead>\n",
       "    <tr style=\"text-align: right;\">\n",
       "      <th></th>\n",
       "      <th>sgrna</th>\n",
       "      <th>alignment</th>\n",
       "      <th>entrez_id</th>\n",
       "      <th>symbol</th>\n",
       "      <th>chr</th>\n",
       "      <th>strand</th>\n",
       "      <th>cut_pos</th>\n",
       "      <th>align_type</th>\n",
       "      <th>locus_type</th>\n",
       "    </tr>\n",
       "  </thead>\n",
       "  <tbody>\n",
       "    <tr>\n",
       "      <th>0</th>\n",
       "      <td>TGCTGACGGGTGACACCCA</td>\n",
       "      <td>19</td>\n",
       "      <td>1</td>\n",
       "      <td>A1BG</td>\n",
       "      <td>chr19</td>\n",
       "      <td>-</td>\n",
       "      <td>58353007</td>\n",
       "      <td>perfect</td>\n",
       "      <td>gene with protein product</td>\n",
       "    </tr>\n",
       "  </tbody>\n",
       "</table>\n",
       "</div>"
      ],
      "text/plain": [
       "                 sgrna alignment  entrez_id symbol    chr strand   cut_pos  \\\n",
       "0  TGCTGACGGGTGACACCCA        19          1   A1BG  chr19      -  58353007   \n",
       "\n",
       "  align_type                 locus_type  \n",
       "0    perfect  gene with protein product  "
      ]
     },
     "metadata": {},
     "output_type": "display_data"
    },
    {
     "name": "stdout",
     "output_type": "stream",
     "text": [
      "# of multi-targeting guides: 1556\n",
      "Total # of dropped guides: 2692\n"
     ]
    },
    {
     "data": {
      "image/png": "[encoded data removed]",
      "text/plain": [
       "<Figure size 288x129.6 with 1 Axes>"
      ]
     },
     "metadata": {
      "needs_background": "light"
     },
     "output_type": "display_data"
    }
   ],
   "source": [
    "f, ax = plt.subplots(1, 1, figsize=(4,1.8))\n",
    "# Sanger data doesn't have dropped guides file associated with it\n",
    "alignments_sanger_1 = all_alignments_sanger[(all_alignments_sanger.align_type != 'double')].rename(columns={'gene':'symbol'})\n",
    "display(alignments_sanger_1[:1])\n",
    "\n",
    "alignments_sanger_2 = filter_guides_targeting_readthroughs(alignments_sanger_1, ax)\n",
    "display(alignments_sanger_2[:1])\n",
    "\n",
    "unique_alignments_sanger, dropped_guides_sanger = filter_multi_targeting_guides(alignments_sanger_2, all_alignments_sanger)\n",
    "plt.tight_layout()"
   ]
  },
  {
   "cell_type": "markdown",
   "metadata": {},
   "source": [
    "#### Some sanity checks on DepMap data"
   ]
  },
  {
   "cell_type": "code",
   "execution_count": 15,
   "metadata": {},
   "outputs": [
    {
     "name": "stdout",
     "output_type": "stream",
     "text": [
      "Mappings missing from my map: 0\n"
     ]
    }
   ],
   "source": [
    "# Check that sgRNA mappings in depmap guide map are all in this map\n",
    "df = pd.merge(depmap_guide_map[['sgrna','entrez_id','gene']], \n",
    "              alignments_1[['sgrna','entrez_id','symbol','align_type']], on=['sgrna','entrez_id'], how='outer')\n",
    "print('Mappings missing from my map:', df[df.symbol.isna()].shape[0])"
   ]
  },
  {
   "cell_type": "code",
   "execution_count": 23,
   "metadata": {},
   "outputs": [
    {
     "name": "stdout",
     "output_type": "stream",
     "text": [
      "Mappings missing from depmap: 8\n",
      "['PALM2-AKAP2']\n"
     ]
    }
   ],
   "source": [
    "# Check that sgRNA mappings in depmap guide map are all in this map\n",
    "df = pd.merge(depmap_guide_map[['sgrna','entrez_id','gene']], \n",
    "              alignments_2[['sgrna','entrez_id','symbol','align_type']], on=['sgrna','entrez_id'], how='outer')\n",
    "print('Mappings missing from depmap:', df[(df.align_type=='perfect')&(df.gene.isna())].shape[0])\n",
    "print(df[(df.align_type=='perfect')&(df.gene.isna())].symbol.unique())"
   ]
  },
  {
   "cell_type": "markdown",
   "metadata": {},
   "source": [
    "### Count guides per gene after filtering"
   ]
  },
  {
   "cell_type": "code",
   "execution_count": 24,
   "metadata": {
    "scrolled": true
   },
   "outputs": [],
   "source": [
    "# Save out guides per gene to use in CERES post-processing\n",
    "def save_guides_per_gene(unique_alignments, fname):\n",
    "    assert(unique_alignments[unique_alignments.align_type!='perfect'].shape[0] == 0)\n",
    "    guides_per_gene = unique_alignments.groupby(['symbol', 'entrez_id']).sgrna.nunique().reset_index()\n",
    "    guides_per_gene = guides_per_gene.rename(columns={'sgrna':'guides_per_gene'})\n",
    "    guides_per_gene.to_csv(fname)\n",
    "    print('Map size (n genes):', guides_per_gene.shape[0])\n",
    "    display(guides_per_gene[:2])"
   ]
  },
  {
   "cell_type": "code",
   "execution_count": 25,
   "metadata": {},
   "outputs": [
    {
     "name": "stdout",
     "output_type": "stream",
     "text": [
      "Map size (n genes): 17048\n"
     ]
    },
    {
     "data": {
      "text/html": [
       "<div>\n",
       "<style scoped>\n",
       "    .dataframe tbody tr th:only-of-type {\n",
       "        vertical-align: middle;\n",
       "    }\n",
       "\n",
       "    .dataframe tbody tr th {\n",
       "        vertical-align: top;\n",
       "    }\n",
       "\n",
       "    .dataframe thead th {\n",
       "        text-align: right;\n",
       "    }\n",
       "</style>\n",
       "<table border=\"1\" class=\"dataframe\">\n",
       "  <thead>\n",
       "    <tr style=\"text-align: right;\">\n",
       "      <th></th>\n",
       "      <th>symbol</th>\n",
       "      <th>entrez_id</th>\n",
       "      <th>guides_per_gene</th>\n",
       "    </tr>\n",
       "  </thead>\n",
       "  <tbody>\n",
       "    <tr>\n",
       "      <th>0</th>\n",
       "      <td>A1BG</td>\n",
       "      <td>1</td>\n",
       "      <td>4</td>\n",
       "    </tr>\n",
       "    <tr>\n",
       "      <th>1</th>\n",
       "      <td>A1CF</td>\n",
       "      <td>29974</td>\n",
       "      <td>4</td>\n",
       "    </tr>\n",
       "  </tbody>\n",
       "</table>\n",
       "</div>"
      ],
      "text/plain": [
       "  symbol  entrez_id  guides_per_gene\n",
       "0   A1BG          1                4\n",
       "1   A1CF      29974                4"
      ]
     },
     "metadata": {},
     "output_type": "display_data"
    }
   ],
   "source": [
    "save_guides_per_gene(unique_alignments, file_guides_per_gene('depmap20Q2','16_04_21'))"
   ]
  },
  {
   "cell_type": "code",
   "execution_count": 26,
   "metadata": {},
   "outputs": [
    {
     "name": "stdout",
     "output_type": "stream",
     "text": [
      "Map size (n genes): 16659\n"
     ]
    },
    {
     "data": {
      "text/html": [
       "<div>\n",
       "<style scoped>\n",
       "    .dataframe tbody tr th:only-of-type {\n",
       "        vertical-align: middle;\n",
       "    }\n",
       "\n",
       "    .dataframe tbody tr th {\n",
       "        vertical-align: top;\n",
       "    }\n",
       "\n",
       "    .dataframe thead th {\n",
       "        text-align: right;\n",
       "    }\n",
       "</style>\n",
       "<table border=\"1\" class=\"dataframe\">\n",
       "  <thead>\n",
       "    <tr style=\"text-align: right;\">\n",
       "      <th></th>\n",
       "      <th>symbol</th>\n",
       "      <th>entrez_id</th>\n",
       "      <th>guides_per_gene</th>\n",
       "    </tr>\n",
       "  </thead>\n",
       "  <tbody>\n",
       "    <tr>\n",
       "      <th>0</th>\n",
       "      <td>A1BG</td>\n",
       "      <td>1</td>\n",
       "      <td>5</td>\n",
       "    </tr>\n",
       "    <tr>\n",
       "      <th>1</th>\n",
       "      <td>A1CF</td>\n",
       "      <td>29974</td>\n",
       "      <td>5</td>\n",
       "    </tr>\n",
       "  </tbody>\n",
       "</table>\n",
       "</div>"
      ],
      "text/plain": [
       "  symbol  entrez_id  guides_per_gene\n",
       "0   A1BG          1                5\n",
       "1   A1CF      29974                5"
      ]
     },
     "metadata": {},
     "output_type": "display_data"
    }
   ],
   "source": [
    "save_guides_per_gene(unique_alignments_sanger, file_guides_per_gene('sanger','16_04_21'))"
   ]
  },
  {
   "cell_type": "code",
   "execution_count": 27,
   "metadata": {
    "scrolled": true
   },
   "outputs": [
    {
     "data": {
      "image/png": "[encoded data removed]",
      "text/plain": [
       "<Figure size 468x216 with 2 Axes>"
      ]
     },
     "metadata": {
      "needs_background": "light"
     },
     "output_type": "display_data"
    }
   ],
   "source": [
    "# Guides per gene before and after filtering\n",
    "def plot_guides_per_gene(guide_map, ax):\n",
    "    guides_per_gene = pd.DataFrame(guide_map.groupby('entrez_id').sgrna.nunique())\n",
    "    guides_per_gene = guides_per_gene.assign(counts = guides_per_gene.sgrna.apply(lambda x: 10 if x>=10 else x))\n",
    "    sns.countplot(x=guides_per_gene.counts, ax=ax, color='#0072b2')\n",
    "    ax.set_xlabel('Guides per gene'); ax.set_ylabel('Number of genes')\n",
    "\n",
    "f, (ax1, ax2) = plt.subplots(1, 2, figsize=(6.5,3), sharey=True, sharex=True)\n",
    "plot_guides_per_gene(alignments_2[alignments_2.align_type=='perfect'], ax1) # This is after first 2 filtering steps\n",
    "plot_guides_per_gene(unique_alignments, ax2)\n",
    "ax1.set_title('Broad-Before'); ax2.set_title('Broad-After'); plt.tight_layout()"
   ]
  },
  {
   "cell_type": "code",
   "execution_count": 28,
   "metadata": {
    "scrolled": true
   },
   "outputs": [
    {
     "data": {
      "image/png": "[encoded data removed]",
      "text/plain": [
       "<Figure size 504x216 with 2 Axes>"
      ]
     },
     "metadata": {
      "needs_background": "light"
     },
     "output_type": "display_data"
    }
   ],
   "source": [
    "f, (ax1, ax2) = plt.subplots(1, 2, figsize=(7,3), sharey=True)\n",
    "plot_guides_per_gene(alignments_sanger_2[alignments_sanger_2.align_type=='perfect'], ax1)\n",
    "plot_guides_per_gene(unique_alignments_sanger, ax2)\n",
    "ax1.set_title('Sanger-Before'); ax2.set_title('Sanger-After'); plt.tight_layout()"
   ]
  },
  {
   "cell_type": "markdown",
   "metadata": {},
   "source": [
    "### Filter original log-fold change file\n",
    "This is the post-QC LFC"
   ]
  },
  {
   "cell_type": "markdown",
   "metadata": {},
   "source": [
    "#### Broad"
   ]
  },
  {
   "cell_type": "code",
   "execution_count": 29,
   "metadata": {},
   "outputs": [],
   "source": [
    "orig_lfc = pd.read_csv(file_logfold_changes('20Q2'), index_col=0)"
   ]
  },
  {
   "cell_type": "code",
   "execution_count": 30,
   "metadata": {
    "scrolled": false
   },
   "outputs": [
    {
     "name": "stdout",
     "output_type": "stream",
     "text": [
      "N orig LFC: 74687\n"
     ]
    },
    {
     "data": {
      "text/html": [
       "<div>\n",
       "<style scoped>\n",
       "    .dataframe tbody tr th:only-of-type {\n",
       "        vertical-align: middle;\n",
       "    }\n",
       "\n",
       "    .dataframe tbody tr th {\n",
       "        vertical-align: top;\n",
       "    }\n",
       "\n",
       "    .dataframe thead th {\n",
       "        text-align: right;\n",
       "    }\n",
       "</style>\n",
       "<table border=\"1\" class=\"dataframe\">\n",
       "  <thead>\n",
       "    <tr style=\"text-align: right;\">\n",
       "      <th></th>\n",
       "      <th>143B-311Cas9_RepA_p6_batch3</th>\n",
       "      <th>2313287-311Cas9_RepA_p5_batch3</th>\n",
       "      <th>2313287-311Cas9_RepB_p5_batch3</th>\n",
       "      <th>253J-311Cas9_RepA_p5_batch3</th>\n",
       "      <th>42-MG-BA-311Cas9_RepA_p6_batch3</th>\n",
       "      <th>42-MG-BA-311Cas9_RepB_p6_batch3</th>\n",
       "      <th>5637-311Cas9_RepA_p6_batch3</th>\n",
       "      <th>5637-311Cas9_RepB_p6_batch3</th>\n",
       "      <th>59M-311Cas9_RepA_p4_batch3</th>\n",
       "      <th>59M-311Cas9_RepB_p4_batch3</th>\n",
       "      <th>...</th>\n",
       "      <th>YD8-311Cas9_RepA_p6_batch3</th>\n",
       "      <th>YD8-311Cas9_RepB_p6_batch3</th>\n",
       "      <th>YH-13-311Cas9_RepA_p6_batch3</th>\n",
       "      <th>YH-13-311Cas9_RepB_p6_batch3</th>\n",
       "      <th>YKG1-311Cas9_RepA_p6_batch3</th>\n",
       "      <th>YKG1-311Cas9_RepB_p6_batch3</th>\n",
       "      <th>YSCCC-311cas9-RepA-p6_batch3</th>\n",
       "      <th>YSCCC-311cas9-RepB-p6_batch3</th>\n",
       "      <th>ZR-75-1-311Cas9_RepA_p5_batch2</th>\n",
       "      <th>ZR-75-1-311Cas9_RepB_p5_batch2</th>\n",
       "    </tr>\n",
       "    <tr>\n",
       "      <th>Construct Barcode</th>\n",
       "      <th></th>\n",
       "      <th></th>\n",
       "      <th></th>\n",
       "      <th></th>\n",
       "      <th></th>\n",
       "      <th></th>\n",
       "      <th></th>\n",
       "      <th></th>\n",
       "      <th></th>\n",
       "      <th></th>\n",
       "      <th></th>\n",
       "      <th></th>\n",
       "      <th></th>\n",
       "      <th></th>\n",
       "      <th></th>\n",
       "      <th></th>\n",
       "      <th></th>\n",
       "      <th></th>\n",
       "      <th></th>\n",
       "      <th></th>\n",
       "      <th></th>\n",
       "    </tr>\n",
       "  </thead>\n",
       "  <tbody>\n",
       "    <tr>\n",
       "      <th>AAAAAAATCCAGCAATGCAG</th>\n",
       "      <td>0.289694</td>\n",
       "      <td>0.171917</td>\n",
       "      <td>-0.522717</td>\n",
       "      <td>-0.21169</td>\n",
       "      <td>-1.067942</td>\n",
       "      <td>-0.432573</td>\n",
       "      <td>-0.57371</td>\n",
       "      <td>0.012167</td>\n",
       "      <td>0.371828</td>\n",
       "      <td>-0.460308</td>\n",
       "      <td>...</td>\n",
       "      <td>-0.932634</td>\n",
       "      <td>-0.42067</td>\n",
       "      <td>-0.483853</td>\n",
       "      <td>-0.00565</td>\n",
       "      <td>-0.080897</td>\n",
       "      <td>-0.144761</td>\n",
       "      <td>-0.215475</td>\n",
       "      <td>-0.161553</td>\n",
       "      <td>-0.963836</td>\n",
       "      <td>-0.256333</td>\n",
       "    </tr>\n",
       "  </tbody>\n",
       "</table>\n",
       "<p>1 rows × 1621 columns</p>\n",
       "</div>"
      ],
      "text/plain": [
       "                      143B-311Cas9_RepA_p6_batch3  \\\n",
       "Construct Barcode                                   \n",
       "AAAAAAATCCAGCAATGCAG                     0.289694   \n",
       "\n",
       "                      2313287-311Cas9_RepA_p5_batch3  \\\n",
       "Construct Barcode                                      \n",
       "AAAAAAATCCAGCAATGCAG                        0.171917   \n",
       "\n",
       "                      2313287-311Cas9_RepB_p5_batch3  \\\n",
       "Construct Barcode                                      \n",
       "AAAAAAATCCAGCAATGCAG                       -0.522717   \n",
       "\n",
       "                      253J-311Cas9_RepA_p5_batch3  \\\n",
       "Construct Barcode                                   \n",
       "AAAAAAATCCAGCAATGCAG                     -0.21169   \n",
       "\n",
       "                      42-MG-BA-311Cas9_RepA_p6_batch3  \\\n",
       "Construct Barcode                                       \n",
       "AAAAAAATCCAGCAATGCAG                        -1.067942   \n",
       "\n",
       "                      42-MG-BA-311Cas9_RepB_p6_batch3  \\\n",
       "Construct Barcode                                       \n",
       "AAAAAAATCCAGCAATGCAG                        -0.432573   \n",
       "\n",
       "                      5637-311Cas9_RepA_p6_batch3  \\\n",
       "Construct Barcode                                   \n",
       "AAAAAAATCCAGCAATGCAG                     -0.57371   \n",
       "\n",
       "                      5637-311Cas9_RepB_p6_batch3  59M-311Cas9_RepA_p4_batch3  \\\n",
       "Construct Barcode                                                               \n",
       "AAAAAAATCCAGCAATGCAG                     0.012167                    0.371828   \n",
       "\n",
       "                      59M-311Cas9_RepB_p4_batch3  ...  \\\n",
       "Construct Barcode                                 ...   \n",
       "AAAAAAATCCAGCAATGCAG                   -0.460308  ...   \n",
       "\n",
       "                      YD8-311Cas9_RepA_p6_batch3  YD8-311Cas9_RepB_p6_batch3  \\\n",
       "Construct Barcode                                                              \n",
       "AAAAAAATCCAGCAATGCAG                   -0.932634                    -0.42067   \n",
       "\n",
       "                      YH-13-311Cas9_RepA_p6_batch3  \\\n",
       "Construct Barcode                                    \n",
       "AAAAAAATCCAGCAATGCAG                     -0.483853   \n",
       "\n",
       "                      YH-13-311Cas9_RepB_p6_batch3  \\\n",
       "Construct Barcode                                    \n",
       "AAAAAAATCCAGCAATGCAG                      -0.00565   \n",
       "\n",
       "                      YKG1-311Cas9_RepA_p6_batch3  \\\n",
       "Construct Barcode                                   \n",
       "AAAAAAATCCAGCAATGCAG                    -0.080897   \n",
       "\n",
       "                      YKG1-311Cas9_RepB_p6_batch3  \\\n",
       "Construct Barcode                                   \n",
       "AAAAAAATCCAGCAATGCAG                    -0.144761   \n",
       "\n",
       "                      YSCCC-311cas9-RepA-p6_batch3  \\\n",
       "Construct Barcode                                    \n",
       "AAAAAAATCCAGCAATGCAG                     -0.215475   \n",
       "\n",
       "                      YSCCC-311cas9-RepB-p6_batch3  \\\n",
       "Construct Barcode                                    \n",
       "AAAAAAATCCAGCAATGCAG                     -0.161553   \n",
       "\n",
       "                      ZR-75-1-311Cas9_RepA_p5_batch2  \\\n",
       "Construct Barcode                                      \n",
       "AAAAAAATCCAGCAATGCAG                       -0.963836   \n",
       "\n",
       "                      ZR-75-1-311Cas9_RepB_p5_batch2  \n",
       "Construct Barcode                                     \n",
       "AAAAAAATCCAGCAATGCAG                       -0.256333  \n",
       "\n",
       "[1 rows x 1621 columns]"
      ]
     },
     "execution_count": 30,
     "metadata": {},
     "output_type": "execute_result"
    }
   ],
   "source": [
    "print(\"N orig LFC:\", orig_lfc.shape[0])\n",
    "orig_lfc[:1]"
   ]
  },
  {
   "cell_type": "code",
   "execution_count": 31,
   "metadata": {},
   "outputs": [
    {
     "name": "stdout",
     "output_type": "stream",
     "text": [
      "Filtered lfc: 69490\n"
     ]
    }
   ],
   "source": [
    "filtered_lfc = orig_lfc[~orig_lfc.index.isin(dropped_guides)]\n",
    "print('Filtered lfc:', filtered_lfc.shape[0])"
   ]
  },
  {
   "cell_type": "code",
   "execution_count": 32,
   "metadata": {},
   "outputs": [],
   "source": [
    "filtered_lfc.to_csv(file_filtered_lfc('depmap20Q2', '16_04_21'))"
   ]
  },
  {
   "cell_type": "markdown",
   "metadata": {},
   "source": [
    "#### Sanger"
   ]
  },
  {
   "cell_type": "code",
   "execution_count": 33,
   "metadata": {},
   "outputs": [],
   "source": [
    "orig_lfc_sanger = pd.read_csv(file_logfold_changes('sanger'), index_col=0)"
   ]
  },
  {
   "cell_type": "code",
   "execution_count": 34,
   "metadata": {
    "scrolled": false
   },
   "outputs": [
    {
     "name": "stdout",
     "output_type": "stream",
     "text": [
      "N sgrna in orig Sanger LFC: 89477\n"
     ]
    },
    {
     "data": {
      "text/html": [
       "<div>\n",
       "<style scoped>\n",
       "    .dataframe tbody tr th:only-of-type {\n",
       "        vertical-align: middle;\n",
       "    }\n",
       "\n",
       "    .dataframe tbody tr th {\n",
       "        vertical-align: top;\n",
       "    }\n",
       "\n",
       "    .dataframe thead th {\n",
       "        text-align: right;\n",
       "    }\n",
       "</style>\n",
       "<table border=\"1\" class=\"dataframe\">\n",
       "  <thead>\n",
       "    <tr style=\"text-align: right;\">\n",
       "      <th></th>\n",
       "      <th>A375_C902R1_P1D14</th>\n",
       "      <th>A375_C902R2_P1D14</th>\n",
       "      <th>A375_C902R3_P1D14</th>\n",
       "      <th>A375_c902R4</th>\n",
       "      <th>A375_c902R5</th>\n",
       "      <th>A375_c902R6</th>\n",
       "      <th>HCT15_C902R1_P1D14</th>\n",
       "      <th>HCT15_C902R2_P1D14</th>\n",
       "      <th>HCT15_C902R3_P1D14</th>\n",
       "      <th>HCT15_c902R4</th>\n",
       "      <th>...</th>\n",
       "      <th>U87MG_c907R1</th>\n",
       "      <th>U87MG_c907R2</th>\n",
       "      <th>YH13_c907R1</th>\n",
       "      <th>YH13_c907R2</th>\n",
       "      <th>42MGBA_c907R1</th>\n",
       "      <th>D423MG_c907R2</th>\n",
       "      <th>IM95_c908R3</th>\n",
       "      <th>MB468_c903R1</th>\n",
       "      <th>MDST8_c903R3</th>\n",
       "      <th>H1355_c906R1</th>\n",
       "    </tr>\n",
       "  </thead>\n",
       "  <tbody>\n",
       "    <tr>\n",
       "      <th>TGCTGACGGGTGACACCCA</th>\n",
       "      <td>-0.4446</td>\n",
       "      <td>-0.276138</td>\n",
       "      <td>-0.057663</td>\n",
       "      <td>-0.541072</td>\n",
       "      <td>-0.071765</td>\n",
       "      <td>-0.695229</td>\n",
       "      <td>-0.085053</td>\n",
       "      <td>0.264002</td>\n",
       "      <td>0.259816</td>\n",
       "      <td>-0.242496</td>\n",
       "      <td>...</td>\n",
       "      <td>-0.225926</td>\n",
       "      <td>0.026574</td>\n",
       "      <td>-1.313162</td>\n",
       "      <td>-1.069462</td>\n",
       "      <td>0.488873</td>\n",
       "      <td>0.783022</td>\n",
       "      <td>-0.201151</td>\n",
       "      <td>-0.148249</td>\n",
       "      <td>-0.248523</td>\n",
       "      <td>0.189</td>\n",
       "    </tr>\n",
       "  </tbody>\n",
       "</table>\n",
       "<p>1 rows × 910 columns</p>\n",
       "</div>"
      ],
      "text/plain": [
       "                     A375_C902R1_P1D14  A375_C902R2_P1D14  A375_C902R3_P1D14  \\\n",
       "TGCTGACGGGTGACACCCA            -0.4446          -0.276138          -0.057663   \n",
       "\n",
       "                     A375_c902R4  A375_c902R5  A375_c902R6  \\\n",
       "TGCTGACGGGTGACACCCA    -0.541072    -0.071765    -0.695229   \n",
       "\n",
       "                     HCT15_C902R1_P1D14  HCT15_C902R2_P1D14  \\\n",
       "TGCTGACGGGTGACACCCA           -0.085053            0.264002   \n",
       "\n",
       "                     HCT15_C902R3_P1D14  HCT15_c902R4  ...  U87MG_c907R1  \\\n",
       "TGCTGACGGGTGACACCCA            0.259816     -0.242496  ...     -0.225926   \n",
       "\n",
       "                     U87MG_c907R2  YH13_c907R1  YH13_c907R2  42MGBA_c907R1  \\\n",
       "TGCTGACGGGTGACACCCA      0.026574    -1.313162    -1.069462       0.488873   \n",
       "\n",
       "                     D423MG_c907R2  IM95_c908R3  MB468_c903R1  MDST8_c903R3  \\\n",
       "TGCTGACGGGTGACACCCA       0.783022    -0.201151     -0.148249     -0.248523   \n",
       "\n",
       "                     H1355_c906R1  \n",
       "TGCTGACGGGTGACACCCA         0.189  \n",
       "\n",
       "[1 rows x 910 columns]"
      ]
     },
     "execution_count": 34,
     "metadata": {},
     "output_type": "execute_result"
    }
   ],
   "source": [
    "print(\"N sgrna in orig Sanger LFC:\", orig_lfc_sanger.shape[0])\n",
    "orig_lfc_sanger[:1]"
   ]
  },
  {
   "cell_type": "code",
   "execution_count": 173,
   "metadata": {},
   "outputs": [
    {
     "name": "stdout",
     "output_type": "stream",
     "text": [
      "Sanger filtered lfc: 86785\n"
     ]
    }
   ],
   "source": [
    "filtered_lfc_sanger = orig_lfc_sanger[~orig_lfc_sanger.index.isin(dropped_guides_sanger)]\n",
    "print('Sanger filtered lfc:', filtered_lfc_sanger.shape[0])"
   ]
  },
  {
   "cell_type": "code",
   "execution_count": 35,
   "metadata": {},
   "outputs": [
    {
     "name": "stdout",
     "output_type": "stream",
     "text": [
      "Sanger filtered lfc: 86785\n"
     ]
    }
   ],
   "source": [
    "filtered_lfc_sanger = orig_lfc_sanger[~orig_lfc_sanger.index.isin(dropped_guides_sanger)]\n",
    "print('Sanger filtered lfc:', filtered_lfc_sanger.shape[0])"
   ]
  },
  {
   "cell_type": "code",
   "execution_count": 36,
   "metadata": {},
   "outputs": [],
   "source": [
    "filtered_lfc_sanger.to_csv(file_filtered_lfc('sanger','16_04_21'))"
   ]
  }
 ],
 "metadata": {
  "kernelspec": {
   "display_name": "Python 3",
   "language": "python",
   "name": "python3"
  },
  "language_info": {
   "codemirror_mode": {
    "name": "ipython",
    "version": 3
   },
   "file_extension": ".py",
   "mimetype": "text/x-python",
   "name": "python",
   "nbconvert_exporter": "python",
   "pygments_lexer": "ipython3",
   "version": "3.7.1"
  }
 },
 "nbformat": 4,
 "nbformat_minor": 2
}
