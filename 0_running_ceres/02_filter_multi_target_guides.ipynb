{
 "cells": [
  {
   "cell_type": "markdown",
   "metadata": {},
   "source": [
    "## Filter out guides that are multi-targeting\n",
    "\n",
    "Run this script after: `align_guides.R`\n",
    "\n",
    "**Input:**  \n",
    "- Guide alignment file computed in `align_guides.R`\n",
    "- Guide level log-fold changes file downloaded from DepMap\n",
    "- List of dropped guides from DepMap portal\n",
    "- HGNC gene ID map\n",
    "\n",
    "**Output:**  \n",
    "- Filtered version of the log-fold changes file\n",
    "\n",
    "Notes: \n",
    "- From 19Q3 DepMap does alignment to GRCh38, this is mentioned in Tsherniak et al (2019) https://www.biorxiv.org/content/10.1101/720243v1.full\n",
    "- Guides that have > 100 alignments are not used by CERES.  \n",
    "- Definitions of \"PAM-distal\" are taken from Fortin et al (2019): https://genomebiology.biomedcentral.com/articles/10.1186/s13059-019-1621-7"
   ]
  },
  {
   "cell_type": "code",
   "execution_count": 225,
   "metadata": {},
   "outputs": [],
   "source": [
    "import pandas as pd\n",
    "import numpy as np\n",
    "import scipy.stats as stats\n",
    "import os\n",
    "import re\n",
    "from random import randint\n",
    "import matplotlib.pyplot as plt\n",
    "import seaborn as sns\n",
    "import matplotlib.pyplot as plt\n",
    "import matplotlib as mpl\n",
    "mpl.rcParams.update({'font.size': 10, 'axes.spines.top': False, 'axes.spines.right': False})\n",
    "\n",
    "get_data_path = lambda folders, fname: os.path.normpath(os.environ['3RD_PARTY_DIR']+'/'+'/'.join(folders) +'/'+ fname)\n",
    "get_local_data_path = lambda folders, fname: os.path.normpath('../local_data/' +'/'.join(folders) +'/'+ fname)\n",
    "\n",
    "perfect_alignment = 20\n",
    "\n",
    "# Input from DepMap\n",
    "file_logfold_changes = get_data_path(['depmap', '20Q2'], 'Achilles_logfold_change.csv')\n",
    "file_guide_map = get_data_path(['depmap', '20Q2'], 'Achilles_guide_map.csv')\n",
    "file_dropped_guides = get_data_path(['depmap', '20Q2'], 'Achilles_dropped_guides.csv')\n",
    "\n",
    "# Input from R script\n",
    "file_alignments = get_local_data_path(['processed', 'depmap20Q2'], 'guide_alignments_hg38.csv')\n",
    "\n",
    "# Input from 1_data_processing\n",
    "file_id_map = get_local_data_path(['processed'], 'HGNC_gene_id_map.csv')\n",
    "\n",
    "# OUTPUT\n",
    "file_filtered_lfc = get_local_data_path(['processed', 'depmap20Q2'], 'filtered_lfc_26_05_20.csv')\n",
    "file_guides_per_gene = get_local_data_path(['processed', 'depmap20Q2'], 'guides_per_gene_26_05_20.csv')"
   ]
  },
  {
   "cell_type": "markdown",
   "metadata": {},
   "source": [
    "### Load alignments computed in R script + DepMap guide map"
   ]
  },
  {
   "cell_type": "code",
   "execution_count": 226,
   "metadata": {
    "tags": []
   },
   "outputs": [
    {
     "data": {
      "text/html": [
       "<div>\n",
       "<style scoped>\n",
       "    .dataframe tbody tr th:only-of-type {\n",
       "        vertical-align: middle;\n",
       "    }\n",
       "\n",
       "    .dataframe tbody tr th {\n",
       "        vertical-align: top;\n",
       "    }\n",
       "\n",
       "    .dataframe thead th {\n",
       "        text-align: right;\n",
       "    }\n",
       "</style>\n",
       "<table border=\"1\" class=\"dataframe\">\n",
       "  <thead>\n",
       "    <tr style=\"text-align: right;\">\n",
       "      <th></th>\n",
       "      <th>sgrna</th>\n",
       "      <th>chr</th>\n",
       "      <th>cut_pos</th>\n",
       "      <th>strand</th>\n",
       "      <th>alignment</th>\n",
       "      <th>gene</th>\n",
       "      <th>geneID</th>\n",
       "      <th>CDS_strand</th>\n",
       "      <th>CDS_start</th>\n",
       "      <th>CDS_end</th>\n",
       "    </tr>\n",
       "  </thead>\n",
       "  <tbody>\n",
       "    <tr>\n",
       "      <th>0</th>\n",
       "      <td>AAAAAAATCCAGCAATGCAG</td>\n",
       "      <td>chr10</td>\n",
       "      <td>110964620</td>\n",
       "      <td>+</td>\n",
       "      <td>20</td>\n",
       "      <td>SHOC2</td>\n",
       "      <td>8036</td>\n",
       "      <td>+</td>\n",
       "      <td>110964358</td>\n",
       "      <td>110965060</td>\n",
       "    </tr>\n",
       "  </tbody>\n",
       "</table>\n",
       "</div>"
      ],
      "text/plain": [
       "                  sgrna    chr    cut_pos strand alignment   gene  geneID  \\\n",
       "0  AAAAAAATCCAGCAATGCAG  chr10  110964620      +        20  SHOC2    8036   \n",
       "\n",
       "  CDS_strand  CDS_start    CDS_end  \n",
       "0          +  110964358  110965060  "
      ]
     },
     "metadata": {},
     "output_type": "display_data"
    }
   ],
   "source": [
    "# Load and clean the alignment file generated in R notebook\n",
    "raw_alignments = pd.read_csv(file_alignments)\n",
    "display(raw_alignments[:1])"
   ]
  },
  {
   "cell_type": "code",
   "execution_count": 227,
   "metadata": {
    "tags": []
   },
   "outputs": [
    {
     "name": "stdout",
     "output_type": "stream",
     "text": [
      "# of guides: 70509\n"
     ]
    },
    {
     "data": {
      "text/html": [
       "<div>\n",
       "<style scoped>\n",
       "    .dataframe tbody tr th:only-of-type {\n",
       "        vertical-align: middle;\n",
       "    }\n",
       "\n",
       "    .dataframe tbody tr th {\n",
       "        vertical-align: top;\n",
       "    }\n",
       "\n",
       "    .dataframe thead th {\n",
       "        text-align: right;\n",
       "    }\n",
       "</style>\n",
       "<table border=\"1\" class=\"dataframe\">\n",
       "  <thead>\n",
       "    <tr style=\"text-align: right;\">\n",
       "      <th></th>\n",
       "      <th>sgrna</th>\n",
       "      <th>alignment</th>\n",
       "      <th>entrez_id</th>\n",
       "      <th>gene</th>\n",
       "      <th>chr</th>\n",
       "      <th>strand</th>\n",
       "      <th>cut_pos</th>\n",
       "    </tr>\n",
       "  </thead>\n",
       "  <tbody>\n",
       "    <tr>\n",
       "      <th>83854</th>\n",
       "      <td>GTGTGCCGAGGTGTGCTGCG</td>\n",
       "      <td>20</td>\n",
       "      <td>1</td>\n",
       "      <td>A1BG</td>\n",
       "      <td>chr19</td>\n",
       "      <td>-</td>\n",
       "      <td>58352467</td>\n",
       "    </tr>\n",
       "  </tbody>\n",
       "</table>\n",
       "</div>"
      ],
      "text/plain": [
       "                      sgrna alignment  entrez_id  gene    chr strand   cut_pos\n",
       "83854  GTGTGCCGAGGTGTGCTGCG        20          1  A1BG  chr19      -  58352467"
      ]
     },
     "execution_count": 227,
     "metadata": {},
     "output_type": "execute_result"
    }
   ],
   "source": [
    "# Duplicates: different CDS_start and CDS_end (multiple exons) - but only considering gene level\n",
    "alignments = raw_alignments.drop_duplicates(subset=['sgrna', 'gene', 'geneID', 'alignment'])\n",
    "alignments = alignments.rename(columns={'geneID':'entrez_id'})\n",
    "alignments = alignments[['sgrna', 'alignment', 'entrez_id', 'gene', 'chr', 'strand', 'cut_pos']]\n",
    "alignments = alignments.sort_values('gene')\n",
    "\n",
    "print('# of guides:', alignments.sgrna.nunique())\n",
    "\n",
    "# Check there is no alignment to X and Y chromosomes\n",
    "assert(alignments[(alignments.chr == 'chrX') | (alignments.chr == 'chrY')].shape[0] == 0)\n",
    "alignments[:1]"
   ]
  },
  {
   "cell_type": "code",
   "execution_count": 189,
   "metadata": {},
   "outputs": [
    {
     "name": "stdout",
     "output_type": "stream",
     "text": [
      "# of guides: 69259\n"
     ]
    },
    {
     "data": {
      "text/html": [
       "<div>\n",
       "<style scoped>\n",
       "    .dataframe tbody tr th:only-of-type {\n",
       "        vertical-align: middle;\n",
       "    }\n",
       "\n",
       "    .dataframe tbody tr th {\n",
       "        vertical-align: top;\n",
       "    }\n",
       "\n",
       "    .dataframe thead th {\n",
       "        text-align: right;\n",
       "    }\n",
       "</style>\n",
       "<table border=\"1\" class=\"dataframe\">\n",
       "  <thead>\n",
       "    <tr style=\"text-align: right;\">\n",
       "      <th></th>\n",
       "      <th>sgrna</th>\n",
       "      <th>genome_alignment</th>\n",
       "      <th>gene</th>\n",
       "      <th>n_alignments</th>\n",
       "      <th>symbol</th>\n",
       "      <th>entrez_id</th>\n",
       "      <th>locus_type</th>\n",
       "    </tr>\n",
       "  </thead>\n",
       "  <tbody>\n",
       "    <tr>\n",
       "      <th>0</th>\n",
       "      <td>AAAAAAATCCAGCAATGCAG</td>\n",
       "      <td>chr10_110964620_+</td>\n",
       "      <td>SHOC2 (8036)</td>\n",
       "      <td>1</td>\n",
       "      <td>SHOC2</td>\n",
       "      <td>8036</td>\n",
       "      <td>gene with protein product</td>\n",
       "    </tr>\n",
       "  </tbody>\n",
       "</table>\n",
       "</div>"
      ],
      "text/plain": [
       "                  sgrna   genome_alignment          gene  n_alignments symbol  \\\n",
       "0  AAAAAAATCCAGCAATGCAG  chr10_110964620_+  SHOC2 (8036)             1  SHOC2   \n",
       "\n",
       "   entrez_id                 locus_type  \n",
       "0       8036  gene with protein product  "
      ]
     },
     "execution_count": 189,
     "metadata": {},
     "output_type": "execute_result"
    }
   ],
   "source": [
    "# Load DepMap guide map - this would only include perfect alignments\n",
    "# From DepMap portal: n_alignments (integer number of perfect matches for that guide)\n",
    "depmap_guide_map = pd.read_csv(file_guide_map)\n",
    "assert(depmap_guide_map[depmap_guide_map.gene.isna()].shape[0]==0)\n",
    "\n",
    "# Extract Entrez ID and symbol\n",
    "get_gene_id = lambda x: int(re.search('[\\w-]+\\s\\((\\w+)\\)', x).group(1))\n",
    "get_gene_symbol = lambda x: re.search('([\\w-]+)\\s\\(\\w+\\)', x).group(1)\n",
    "depmap_guide_map['symbol'] = depmap_guide_map.gene.apply(get_gene_symbol)\n",
    "depmap_guide_map['entrez_id'] = depmap_guide_map.gene.apply(get_gene_id)\n",
    "\n",
    "# Exclude X/Y chr genes - I didn't align to those\n",
    "depmap_guide_map = depmap_guide_map[~depmap_guide_map.genome_alignment.str.startswith('chrX') & \n",
    "                                    ~depmap_guide_map.genome_alignment.str.startswith('chrY')]\n",
    "\n",
    "# Add locus type info\n",
    "id_map = pd.read_csv(file_id_map, index_col=0)[['locus_type','entrez_id']]\n",
    "id_map = id_map.dropna(subset=['entrez_id']).astype({'entrez_id':'int'})\n",
    "depmap_guide_map = pd.merge(depmap_guide_map, id_map, how='left')\n",
    "\n",
    "print('# of guides:', depmap_guide_map.sgrna.nunique())\n",
    "depmap_guide_map[:1]"
   ]
  },
  {
   "cell_type": "markdown",
   "metadata": {},
   "source": [
    "### 1. Determine alignment types\n",
    "Drop alignments for guides w/ 0 perfect matches.  \n",
    "Drop non-PAM-distal double mismatch alignments (don't consider these)."
   ]
  },
  {
   "cell_type": "code",
   "execution_count": 190,
   "metadata": {},
   "outputs": [],
   "source": [
    "# Calculate alignment type based on the 'alignment' encoding \n",
    "# PAM-distal = in the 10 nucleotides furthest from the PAM for single mismatch\n",
    "# PAM-distal = in the 2 nucleotides furthest from the PAM for double mismatch\n",
    "def get_alignment_type(row):\n",
    "    if row.alignment == str(perfect_alignment):\n",
    "        return 'perfect'\n",
    "    match = re.search('^(\\d+)[ATCG]\\d+$', row.alignment)\n",
    "    if match != None:\n",
    "        if ((row.strand == '+' and int(match.group(1)) <= 9) or \n",
    "            (row.strand == '-' and int(match.group(1)) >= (perfect_alignment-9))):\n",
    "            return 'pam_distal_single'\n",
    "        return 'single'\n",
    "    match = re.search('^(\\d+)[ATCG](\\d+)[ATCG](\\d+)$', row.alignment)\n",
    "    if match != None:\n",
    "        if ((row.strand == '+' and int(match.group(3)) == (perfect_alignment-2)) or \n",
    "            (row.strand == '-' and int(match.group(1)) == (perfect_alignment-2))):\n",
    "            return 'pam_distal_double'\n",
    "        return 'double'\n",
    "    \n",
    "alignments_1 = alignments.assign(align_type = alignments.apply(get_alignment_type, axis=1))"
   ]
  },
  {
   "cell_type": "code",
   "execution_count": 191,
   "metadata": {},
   "outputs": [
    {
     "name": "stdout",
     "output_type": "stream",
     "text": [
      "# of guides mapped: 70509\n"
     ]
    },
    {
     "data": {
      "text/html": [
       "<div>\n",
       "<style scoped>\n",
       "    .dataframe tbody tr th:only-of-type {\n",
       "        vertical-align: middle;\n",
       "    }\n",
       "\n",
       "    .dataframe tbody tr th {\n",
       "        vertical-align: top;\n",
       "    }\n",
       "\n",
       "    .dataframe thead th {\n",
       "        text-align: right;\n",
       "    }\n",
       "</style>\n",
       "<table border=\"1\" class=\"dataframe\">\n",
       "  <thead>\n",
       "    <tr style=\"text-align: right;\">\n",
       "      <th></th>\n",
       "      <th>sgrna</th>\n",
       "      <th>alignment</th>\n",
       "      <th>entrez_id</th>\n",
       "      <th>gene</th>\n",
       "      <th>chr</th>\n",
       "      <th>strand</th>\n",
       "      <th>cut_pos</th>\n",
       "      <th>align_type</th>\n",
       "    </tr>\n",
       "  </thead>\n",
       "  <tbody>\n",
       "    <tr>\n",
       "      <th>83854</th>\n",
       "      <td>GTGTGCCGAGGTGTGCTGCG</td>\n",
       "      <td>20</td>\n",
       "      <td>1</td>\n",
       "      <td>A1BG</td>\n",
       "      <td>chr19</td>\n",
       "      <td>-</td>\n",
       "      <td>58352467</td>\n",
       "      <td>perfect</td>\n",
       "    </tr>\n",
       "    <tr>\n",
       "      <th>68259</th>\n",
       "      <td>GGAAGTCTGGAGTCTCCAGG</td>\n",
       "      <td>20</td>\n",
       "      <td>1</td>\n",
       "      <td>A1BG</td>\n",
       "      <td>chr19</td>\n",
       "      <td>+</td>\n",
       "      <td>58353109</td>\n",
       "      <td>perfect</td>\n",
       "    </tr>\n",
       "  </tbody>\n",
       "</table>\n",
       "</div>"
      ],
      "text/plain": [
       "                      sgrna alignment  entrez_id  gene    chr strand  \\\n",
       "83854  GTGTGCCGAGGTGTGCTGCG        20          1  A1BG  chr19      -   \n",
       "68259  GGAAGTCTGGAGTCTCCAGG        20          1  A1BG  chr19      +   \n",
       "\n",
       "        cut_pos align_type  \n",
       "83854  58352467    perfect  \n",
       "68259  58353109    perfect  "
      ]
     },
     "execution_count": 191,
     "metadata": {},
     "output_type": "execute_result"
    }
   ],
   "source": [
    "print('# of guides mapped:', alignments_1.sgrna.nunique())\n",
    "alignments_1[:2]"
   ]
  },
  {
   "cell_type": "markdown",
   "metadata": {},
   "source": [
    "### 2. Drop guides that were dropped by DepMap"
   ]
  },
  {
   "cell_type": "code",
   "execution_count": 192,
   "metadata": {
    "tags": []
   },
   "outputs": [
    {
     "name": "stdout",
     "output_type": "stream",
     "text": [
      "Num guides dropped in DepMap: 2554\n",
      "Num guides to drop here: 1006\n",
      "# of guides mapped: 69503\n",
      "N guides to drop so far: 1006\n"
     ]
    },
    {
     "data": {
      "image/png": "[encoded data removed]",
      "text/plain": [
       "<Figure size 252x93.6 with 1 Axes>"
      ]
     },
     "metadata": {
      "needs_background": "light"
     },
     "output_type": "display_data"
    }
   ],
   "source": [
    "# Look at guides that were dropped in Depmap analysis\n",
    "depmap_dropped_guides = pd.read_csv(file_dropped_guides)\n",
    "depmap_dropped_guides = depmap_dropped_guides.rename(columns={'Unnamed: 0':'sgrna'})\n",
    "print('Num guides dropped in DepMap:', depmap_dropped_guides.sgrna.nunique())\n",
    "print('Num guides to drop here:', alignments_1[alignments_1.sgrna.isin(depmap_dropped_guides.sgrna)].sgrna.nunique())\n",
    "\n",
    "# Reasons for dropped guides, 'in_dropped_guides' => suspected off-target activity\n",
    "f, ax = plt.subplots(1, 1, figsize=(3.5,1.3))\n",
    "df = depmap_dropped_guides[depmap_dropped_guides.sgrna.isin(raw_alignments.sgrna)]\n",
    "df = df.assign(fail_reason = df.fail_reason.apply(lambda x: 'off-target activity' if x=='in_dropped_guides' else x))\n",
    "_=sns.countplot(data=df, y='fail_reason', ax=ax, color='royalblue', order=df['fail_reason'].value_counts().index)\n",
    "\n",
    "# Drop guides that were dropped in Depmap analysis\n",
    "alignments_2 = alignments_1[~alignments_1.sgrna.isin(depmap_dropped_guides.sgrna)].reset_index(drop=True)\n",
    "alignments_2 = alignments_2.rename(columns={'gene':'symbol'})\n",
    "print('# of guides mapped:', alignments_2.sgrna.nunique())\n",
    "\n",
    "# Track guides to drop\n",
    "guides_to_drop = pd.Series(depmap_dropped_guides[depmap_dropped_guides.sgrna.isin(alignments_1.sgrna)].sgrna.unique())\n",
    "print('N guides to drop so far:', guides_to_drop.shape[0])"
   ]
  },
  {
   "cell_type": "code",
   "execution_count": 193,
   "metadata": {},
   "outputs": [
    {
     "name": "stdout",
     "output_type": "stream",
     "text": [
      "Guides w/ perfect alignment in this map but not in DepMap map: 0\n",
      "Guides in DepMap map not in this map: 0\n"
     ]
    }
   ],
   "source": [
    "# Check that sgRNAs are the same in this map and depmap guide map\n",
    "print('Guides w/ perfect alignment in this map but not in DepMap map:', \n",
    "      alignments_2[(alignments_2.align_type=='perfect') & ~alignments_2.sgrna.isin(depmap_guide_map.sgrna)].shape[0])\n",
    "print('Guides in DepMap map not in this map:', depmap_guide_map[~depmap_guide_map.sgrna.isin(alignments_2.sgrna)].shape[0])"
   ]
  },
  {
   "cell_type": "code",
   "execution_count": 194,
   "metadata": {},
   "outputs": [
    {
     "name": "stdout",
     "output_type": "stream",
     "text": [
      "Mappings missing from my map:\n"
     ]
    },
    {
     "data": {
      "text/html": [
       "<div>\n",
       "<style scoped>\n",
       "    .dataframe tbody tr th:only-of-type {\n",
       "        vertical-align: middle;\n",
       "    }\n",
       "\n",
       "    .dataframe tbody tr th {\n",
       "        vertical-align: top;\n",
       "    }\n",
       "\n",
       "    .dataframe thead th {\n",
       "        text-align: right;\n",
       "    }\n",
       "</style>\n",
       "<table border=\"1\" class=\"dataframe\">\n",
       "  <thead>\n",
       "    <tr style=\"text-align: right;\">\n",
       "      <th></th>\n",
       "      <th>sgrna</th>\n",
       "      <th>entrez_id</th>\n",
       "      <th>gene</th>\n",
       "      <th>symbol</th>\n",
       "      <th>align_type</th>\n",
       "    </tr>\n",
       "  </thead>\n",
       "  <tbody>\n",
       "  </tbody>\n",
       "</table>\n",
       "</div>"
      ],
      "text/plain": [
       "Empty DataFrame\n",
       "Columns: [sgrna, entrez_id, gene, symbol, align_type]\n",
       "Index: []"
      ]
     },
     "execution_count": 194,
     "metadata": {},
     "output_type": "execute_result"
    }
   ],
   "source": [
    "# Check that sgRNA mappings in depmap guide map are all in this map\n",
    "df = pd.merge(depmap_guide_map[['sgrna','entrez_id','gene']], \n",
    "              alignments_2[['sgrna','entrez_id','symbol','align_type']], on=['sgrna','entrez_id'], how='outer')\n",
    "print('Mappings missing from my map:')\n",
    "df[df.symbol.isna()]"
   ]
  },
  {
   "cell_type": "markdown",
   "metadata": {},
   "source": [
    "### 3. Add locus type for each gene and drop guides that target readthrough genes"
   ]
  },
  {
   "cell_type": "code",
   "execution_count": 195,
   "metadata": {},
   "outputs": [
    {
     "data": {
      "text/html": [
       "<div>\n",
       "<style scoped>\n",
       "    .dataframe tbody tr th:only-of-type {\n",
       "        vertical-align: middle;\n",
       "    }\n",
       "\n",
       "    .dataframe tbody tr th {\n",
       "        vertical-align: top;\n",
       "    }\n",
       "\n",
       "    .dataframe thead th {\n",
       "        text-align: right;\n",
       "    }\n",
       "</style>\n",
       "<table border=\"1\" class=\"dataframe\">\n",
       "  <thead>\n",
       "    <tr style=\"text-align: right;\">\n",
       "      <th></th>\n",
       "      <th>sgrna</th>\n",
       "      <th>alignment</th>\n",
       "      <th>entrez_id</th>\n",
       "      <th>symbol</th>\n",
       "      <th>chr</th>\n",
       "      <th>strand</th>\n",
       "      <th>cut_pos</th>\n",
       "      <th>align_type</th>\n",
       "      <th>locus_type</th>\n",
       "    </tr>\n",
       "  </thead>\n",
       "  <tbody>\n",
       "    <tr>\n",
       "      <th>0</th>\n",
       "      <td>GTGTGCCGAGGTGTGCTGCG</td>\n",
       "      <td>20</td>\n",
       "      <td>1</td>\n",
       "      <td>A1BG</td>\n",
       "      <td>chr19</td>\n",
       "      <td>-</td>\n",
       "      <td>58352467</td>\n",
       "      <td>perfect</td>\n",
       "      <td>gene with protein product</td>\n",
       "    </tr>\n",
       "  </tbody>\n",
       "</table>\n",
       "</div>"
      ],
      "text/plain": [
       "                  sgrna alignment  entrez_id symbol    chr strand   cut_pos  \\\n",
       "0  GTGTGCCGAGGTGTGCTGCG        20          1   A1BG  chr19      -  58352467   \n",
       "\n",
       "  align_type                 locus_type  \n",
       "0    perfect  gene with protein product  "
      ]
     },
     "metadata": {},
     "output_type": "display_data"
    },
    {
     "name": "stdout",
     "output_type": "stream",
     "text": [
      "Num guides aligned to 1+ readthrough genes: 374\n",
      "# of guides mapped: 68931\n",
      "N guides to drop so far: 1380\n"
     ]
    },
    {
     "data": {
      "image/png": "[encoded data removed]",
      "text/plain": [
       "<Figure size 216x115.2 with 1 Axes>"
      ]
     },
     "metadata": {
      "needs_background": "light"
     },
     "output_type": "display_data"
    }
   ],
   "source": [
    "# Add locus info, e.g. read-through gene\n",
    "id_map = pd.read_csv(file_id_map, index_col=0)[['locus_type','entrez_id']]\n",
    "id_map = id_map.dropna(subset=['entrez_id']).astype({'entrez_id':'int'})\n",
    "alignments_3 = pd.merge(alignments_2, id_map, how='left')\n",
    "\n",
    "# Don't consider guides that map through non-PAM-distal double mismatch\n",
    "alignments_3 = alignments_3[(alignments_3.align_type != 'double')]\n",
    "\n",
    "# Extra genes to mark as read-through\n",
    "genes_to_mark_as_readthrough = ['LOC110117498-PIK3R3', 'LY6G6F-LY6G6D', 'PALM2-AKAP2']\n",
    "alignments_3.loc[alignments_3.symbol.isin(genes_to_mark_as_readthrough), 'locus_type'] = 'readthrough'\n",
    "\n",
    "# Look at genes that are not classified as \"gene with protein product\"\n",
    "f, ax = plt.subplots(1, 1, figsize=(3,1.6))\n",
    "df = alignments_3[alignments_3.locus_type!='gene with protein product']\n",
    "_=sns.countplot(data=df, y='locus_type', ax=ax, color='royalblue', order=df['locus_type'].value_counts().index)\n",
    "ax.set_title('Non-protein-coding genes in alignments', fontsize=11)\n",
    "display(alignments_3[:1])\n",
    "\n",
    "# Drop all guides targeting readthrough genes\n",
    "readthrough_guides = alignments_3[alignments_3.locus_type=='readthrough'].sgrna.unique()\n",
    "print('Num guides aligned to 1+ readthrough genes:', len(readthrough_guides))\n",
    "alignments_3 = alignments_3[~alignments_3.sgrna.isin(readthrough_guides)].reset_index(drop=True)\n",
    "assert(alignments_3[alignments_3.locus_type=='readthrough'].shape[0]==0)\n",
    "print('# of guides mapped:', alignments_3.sgrna.nunique())\n",
    "\n",
    "# Track guides to drop\n",
    "guides_to_drop = pd.concat([guides_to_drop, pd.Series(readthrough_guides)]).drop_duplicates()\n",
    "print('N guides to drop so far:', guides_to_drop.shape[0])"
   ]
  },
  {
   "cell_type": "markdown",
   "metadata": {},
   "source": [
    "### 4. Count number of alignments per guide (incl. w/ mismatch)\n",
    "Only consider alignments to protein-coding genes"
   ]
  },
  {
   "cell_type": "code",
   "execution_count": 215,
   "metadata": {
    "tags": []
   },
   "outputs": [
    {
     "data": {
      "text/html": [
       "<div>\n",
       "<style scoped>\n",
       "    .dataframe tbody tr th:only-of-type {\n",
       "        vertical-align: middle;\n",
       "    }\n",
       "\n",
       "    .dataframe tbody tr th {\n",
       "        vertical-align: top;\n",
       "    }\n",
       "\n",
       "    .dataframe thead th {\n",
       "        text-align: right;\n",
       "    }\n",
       "</style>\n",
       "<table border=\"1\" class=\"dataframe\">\n",
       "  <thead>\n",
       "    <tr style=\"text-align: right;\">\n",
       "      <th></th>\n",
       "      <th>sgrna</th>\n",
       "      <th>alignment</th>\n",
       "      <th>entrez_id</th>\n",
       "      <th>symbol</th>\n",
       "      <th>chr</th>\n",
       "      <th>strand</th>\n",
       "      <th>cut_pos</th>\n",
       "      <th>align_type</th>\n",
       "      <th>n_aln</th>\n",
       "    </tr>\n",
       "  </thead>\n",
       "  <tbody>\n",
       "    <tr>\n",
       "      <th>0</th>\n",
       "      <td>GTGTGCCGAGGTGTGCTGCG</td>\n",
       "      <td>20</td>\n",
       "      <td>1</td>\n",
       "      <td>A1BG</td>\n",
       "      <td>chr19</td>\n",
       "      <td>-</td>\n",
       "      <td>58352467</td>\n",
       "      <td>perfect</td>\n",
       "      <td>1</td>\n",
       "    </tr>\n",
       "    <tr>\n",
       "      <th>1</th>\n",
       "      <td>GGAAGTCTGGAGTCTCCAGG</td>\n",
       "      <td>20</td>\n",
       "      <td>1</td>\n",
       "      <td>A1BG</td>\n",
       "      <td>chr19</td>\n",
       "      <td>+</td>\n",
       "      <td>58353109</td>\n",
       "      <td>perfect</td>\n",
       "      <td>1</td>\n",
       "    </tr>\n",
       "  </tbody>\n",
       "</table>\n",
       "</div>"
      ],
      "text/plain": [
       "                  sgrna alignment  entrez_id symbol    chr strand   cut_pos  \\\n",
       "0  GTGTGCCGAGGTGTGCTGCG        20          1   A1BG  chr19      -  58352467   \n",
       "1  GGAAGTCTGGAGTCTCCAGG        20          1   A1BG  chr19      +  58353109   \n",
       "\n",
       "  align_type  n_aln  \n",
       "0    perfect      1  \n",
       "1    perfect      1  "
      ]
     },
     "execution_count": 215,
     "metadata": {},
     "output_type": "execute_result"
    }
   ],
   "source": [
    "# Drop alignments to non-protein-coding genes - don't want to consider these when counting num alignments\n",
    "guide_map = alignments_3[alignments_3.locus_type=='gene with protein product'].reset_index(drop=True)\n",
    "guide_map = guide_map.drop(columns=['locus_type'])\n",
    "\n",
    "# Annotate guides with number of genes they align to\n",
    "# Only count 1 alignment per sgrna-gene pairs - guide could match to gene at multiple loci\n",
    "num_alns = guide_map.groupby('sgrna').entrez_id.nunique().reset_index().rename(columns={'entrez_id':'n_aln'})\n",
    "guide_map = pd.merge(guide_map, num_alns)\n",
    "guide_map[:2]"
   ]
  },
  {
   "cell_type": "code",
   "execution_count": 216,
   "metadata": {
    "scrolled": false
   },
   "outputs": [
    {
     "data": {
      "text/html": [
       "<div>\n",
       "<style scoped>\n",
       "    .dataframe tbody tr th:only-of-type {\n",
       "        vertical-align: middle;\n",
       "    }\n",
       "\n",
       "    .dataframe tbody tr th {\n",
       "        vertical-align: top;\n",
       "    }\n",
       "\n",
       "    .dataframe thead th {\n",
       "        text-align: right;\n",
       "    }\n",
       "</style>\n",
       "<table border=\"1\" class=\"dataframe\">\n",
       "  <thead>\n",
       "    <tr style=\"text-align: right;\">\n",
       "      <th></th>\n",
       "      <th>sgrna</th>\n",
       "      <th>genome_alignment</th>\n",
       "      <th>gene</th>\n",
       "      <th>n_alignments</th>\n",
       "      <th>symbol</th>\n",
       "      <th>entrez_id</th>\n",
       "      <th>locus_type</th>\n",
       "      <th>n_aln_in_table</th>\n",
       "      <th>n_aln</th>\n",
       "    </tr>\n",
       "  </thead>\n",
       "  <tbody>\n",
       "  </tbody>\n",
       "</table>\n",
       "</div>"
      ],
      "text/plain": [
       "Empty DataFrame\n",
       "Columns: [sgrna, genome_alignment, gene, n_alignments, symbol, entrez_id, locus_type, n_aln_in_table, n_aln]\n",
       "Index: []"
      ]
     },
     "execution_count": 216,
     "metadata": {},
     "output_type": "execute_result"
    }
   ],
   "source": [
    "# Check where DepMap counts more alignments than my map\n",
    "# Add manual alignment counts because there are cases where e.g. only 1 alignments is listed but n_alignments=2\n",
    "depmap_coding_guide_map = depmap_guide_map[depmap_guide_map.locus_type=='gene with protein product']\n",
    "sgrna_count = depmap_coding_guide_map.groupby('sgrna').gene.nunique().reset_index().rename(columns={'gene':'n_aln_in_table'})\n",
    "depmap_coding_guide_map = pd.merge(depmap_coding_guide_map, sgrna_count)\n",
    "df = pd.merge(depmap_coding_guide_map, guide_map[['sgrna','n_aln']], on=['sgrna']).drop_duplicates()\n",
    "df[df.n_aln_in_table > df.n_aln]"
   ]
  },
  {
   "cell_type": "code",
   "execution_count": 217,
   "metadata": {},
   "outputs": [
    {
     "data": {
      "text/html": [
       "<div>\n",
       "<style scoped>\n",
       "    .dataframe tbody tr th:only-of-type {\n",
       "        vertical-align: middle;\n",
       "    }\n",
       "\n",
       "    .dataframe tbody tr th {\n",
       "        vertical-align: top;\n",
       "    }\n",
       "\n",
       "    .dataframe thead th {\n",
       "        text-align: right;\n",
       "    }\n",
       "</style>\n",
       "<table border=\"1\" class=\"dataframe\">\n",
       "  <thead>\n",
       "    <tr style=\"text-align: right;\">\n",
       "      <th></th>\n",
       "      <th>sgrna</th>\n",
       "      <th>alignment</th>\n",
       "      <th>entrez_id</th>\n",
       "      <th>symbol</th>\n",
       "      <th>chr</th>\n",
       "      <th>strand</th>\n",
       "      <th>cut_pos</th>\n",
       "      <th>align_type</th>\n",
       "      <th>n_aln</th>\n",
       "    </tr>\n",
       "  </thead>\n",
       "  <tbody>\n",
       "    <tr>\n",
       "      <th>68936</th>\n",
       "      <td>GCAAAGATCCAGGACAAGGA</td>\n",
       "      <td>8T11</td>\n",
       "      <td>7316</td>\n",
       "      <td>UBC</td>\n",
       "      <td>chr12</td>\n",
       "      <td>-</td>\n",
       "      <td>124912077</td>\n",
       "      <td>single</td>\n",
       "      <td>1</td>\n",
       "    </tr>\n",
       "    <tr>\n",
       "      <th>68937</th>\n",
       "      <td>GCAAAGATCCAGGACAAGGA</td>\n",
       "      <td>20</td>\n",
       "      <td>7316</td>\n",
       "      <td>UBC</td>\n",
       "      <td>chr12</td>\n",
       "      <td>-</td>\n",
       "      <td>124913445</td>\n",
       "      <td>perfect</td>\n",
       "      <td>1</td>\n",
       "    </tr>\n",
       "    <tr>\n",
       "      <th>68929</th>\n",
       "      <td>GCATCCCTCCTGACCAGCAG</td>\n",
       "      <td>10C9</td>\n",
       "      <td>7314</td>\n",
       "      <td>UBB</td>\n",
       "      <td>chr17</td>\n",
       "      <td>+</td>\n",
       "      <td>16382255</td>\n",
       "      <td>single</td>\n",
       "      <td>2</td>\n",
       "    </tr>\n",
       "    <tr>\n",
       "      <th>68930</th>\n",
       "      <td>GCATCCCTCCTGACCAGCAG</td>\n",
       "      <td>20</td>\n",
       "      <td>7316</td>\n",
       "      <td>UBC</td>\n",
       "      <td>chr12</td>\n",
       "      <td>-</td>\n",
       "      <td>124912511</td>\n",
       "      <td>perfect</td>\n",
       "      <td>2</td>\n",
       "    </tr>\n",
       "    <tr>\n",
       "      <th>68931</th>\n",
       "      <td>GCATCCCTCCTGACCAGCAG</td>\n",
       "      <td>6A13</td>\n",
       "      <td>7316</td>\n",
       "      <td>UBC</td>\n",
       "      <td>chr12</td>\n",
       "      <td>-</td>\n",
       "      <td>124911827</td>\n",
       "      <td>single</td>\n",
       "      <td>2</td>\n",
       "    </tr>\n",
       "    <tr>\n",
       "      <th>68932</th>\n",
       "      <td>GCATCCCTCCTGACCAGCAG</td>\n",
       "      <td>15A4</td>\n",
       "      <td>7316</td>\n",
       "      <td>UBC</td>\n",
       "      <td>chr12</td>\n",
       "      <td>-</td>\n",
       "      <td>124912967</td>\n",
       "      <td>pam_distal_single</td>\n",
       "      <td>2</td>\n",
       "    </tr>\n",
       "    <tr>\n",
       "      <th>68933</th>\n",
       "      <td>GCATTCCTCCTGACCAGCAG</td>\n",
       "      <td>6A13</td>\n",
       "      <td>7316</td>\n",
       "      <td>UBC</td>\n",
       "      <td>chr12</td>\n",
       "      <td>-</td>\n",
       "      <td>124913195</td>\n",
       "      <td>single</td>\n",
       "      <td>1</td>\n",
       "    </tr>\n",
       "    <tr>\n",
       "      <th>68934</th>\n",
       "      <td>GCATTCCTCCTGACCAGCAG</td>\n",
       "      <td>20</td>\n",
       "      <td>7316</td>\n",
       "      <td>UBC</td>\n",
       "      <td>chr12</td>\n",
       "      <td>-</td>\n",
       "      <td>124913423</td>\n",
       "      <td>perfect</td>\n",
       "      <td>1</td>\n",
       "    </tr>\n",
       "    <tr>\n",
       "      <th>68935</th>\n",
       "      <td>GCATTCCTCCTGACCAGCAG</td>\n",
       "      <td>15G4</td>\n",
       "      <td>7316</td>\n",
       "      <td>UBC</td>\n",
       "      <td>chr12</td>\n",
       "      <td>-</td>\n",
       "      <td>124913651</td>\n",
       "      <td>pam_distal_single</td>\n",
       "      <td>1</td>\n",
       "    </tr>\n",
       "  </tbody>\n",
       "</table>\n",
       "</div>"
      ],
      "text/plain": [
       "                      sgrna alignment  entrez_id symbol    chr strand  \\\n",
       "68936  GCAAAGATCCAGGACAAGGA      8T11       7316    UBC  chr12      -   \n",
       "68937  GCAAAGATCCAGGACAAGGA        20       7316    UBC  chr12      -   \n",
       "68929  GCATCCCTCCTGACCAGCAG      10C9       7314    UBB  chr17      +   \n",
       "68930  GCATCCCTCCTGACCAGCAG        20       7316    UBC  chr12      -   \n",
       "68931  GCATCCCTCCTGACCAGCAG      6A13       7316    UBC  chr12      -   \n",
       "68932  GCATCCCTCCTGACCAGCAG      15A4       7316    UBC  chr12      -   \n",
       "68933  GCATTCCTCCTGACCAGCAG      6A13       7316    UBC  chr12      -   \n",
       "68934  GCATTCCTCCTGACCAGCAG        20       7316    UBC  chr12      -   \n",
       "68935  GCATTCCTCCTGACCAGCAG      15G4       7316    UBC  chr12      -   \n",
       "\n",
       "         cut_pos         align_type  n_aln  \n",
       "68936  124912077             single      1  \n",
       "68937  124913445            perfect      1  \n",
       "68929   16382255             single      2  \n",
       "68930  124912511            perfect      2  \n",
       "68931  124911827             single      2  \n",
       "68932  124912967  pam_distal_single      2  \n",
       "68933  124913195             single      1  \n",
       "68934  124913423            perfect      1  \n",
       "68935  124913651  pam_distal_single      1  "
      ]
     },
     "execution_count": 217,
     "metadata": {},
     "output_type": "execute_result"
    }
   ],
   "source": [
    "guide_map[guide_map.sgrna.isin(\n",
    "    guide_map[(guide_map.symbol=='UBC') & (guide_map.align_type=='perfect')].sgrna)].sort_values('sgrna')"
   ]
  },
  {
   "cell_type": "markdown",
   "metadata": {},
   "source": [
    "### 5. Filter out multi-targeting guides"
   ]
  },
  {
   "cell_type": "code",
   "execution_count": 222,
   "metadata": {
    "scrolled": true,
    "tags": []
   },
   "outputs": [
    {
     "name": "stdout",
     "output_type": "stream",
     "text": [
      "N dropped guides: 5205\n",
      "Multi-targeting guides: 3251\n"
     ]
    },
    {
     "data": {
      "text/html": [
       "<div>\n",
       "<style scoped>\n",
       "    .dataframe tbody tr th:only-of-type {\n",
       "        vertical-align: middle;\n",
       "    }\n",
       "\n",
       "    .dataframe tbody tr th {\n",
       "        vertical-align: top;\n",
       "    }\n",
       "\n",
       "    .dataframe thead th {\n",
       "        text-align: right;\n",
       "    }\n",
       "</style>\n",
       "<table border=\"1\" class=\"dataframe\">\n",
       "  <thead>\n",
       "    <tr style=\"text-align: right;\">\n",
       "      <th></th>\n",
       "      <th>sgrna</th>\n",
       "      <th>alignment</th>\n",
       "      <th>entrez_id</th>\n",
       "      <th>symbol</th>\n",
       "      <th>chr</th>\n",
       "      <th>strand</th>\n",
       "      <th>cut_pos</th>\n",
       "      <th>align_type</th>\n",
       "      <th>n_aln</th>\n",
       "    </tr>\n",
       "  </thead>\n",
       "  <tbody>\n",
       "    <tr>\n",
       "      <th>0</th>\n",
       "      <td>GTGTGCCGAGGTGTGCTGCG</td>\n",
       "      <td>20</td>\n",
       "      <td>1</td>\n",
       "      <td>A1BG</td>\n",
       "      <td>chr19</td>\n",
       "      <td>-</td>\n",
       "      <td>58352467</td>\n",
       "      <td>perfect</td>\n",
       "      <td>1</td>\n",
       "    </tr>\n",
       "    <tr>\n",
       "      <th>1</th>\n",
       "      <td>GGAAGTCTGGAGTCTCCAGG</td>\n",
       "      <td>20</td>\n",
       "      <td>1</td>\n",
       "      <td>A1BG</td>\n",
       "      <td>chr19</td>\n",
       "      <td>+</td>\n",
       "      <td>58353109</td>\n",
       "      <td>perfect</td>\n",
       "      <td>1</td>\n",
       "    </tr>\n",
       "  </tbody>\n",
       "</table>\n",
       "</div>"
      ],
      "text/plain": [
       "                  sgrna alignment  entrez_id symbol    chr strand   cut_pos  \\\n",
       "0  GTGTGCCGAGGTGTGCTGCG        20          1   A1BG  chr19      -  58352467   \n",
       "1  GGAAGTCTGGAGTCTCCAGG        20          1   A1BG  chr19      +  58353109   \n",
       "\n",
       "  align_type  n_aln  \n",
       "0    perfect      1  \n",
       "1    perfect      1  "
      ]
     },
     "execution_count": 222,
     "metadata": {},
     "output_type": "execute_result"
    }
   ],
   "source": [
    "# Filter out guides that align to more than one coding gene\n",
    "guides_w_multiple_matches = guide_map[guide_map.n_aln > 1]\n",
    "unique_alignments = guide_map[~guide_map.sgrna.isin(guides_w_multiple_matches.sgrna)]\n",
    "\n",
    "dropped_guides = raw_alignments[~raw_alignments.sgrna.isin(unique_alignments.sgrna)].sgrna.unique()\n",
    "print('N dropped guides:', len(dropped_guides))\n",
    "\n",
    "# For final alignment map only count perfect alignments\n",
    "unique_alignments = unique_alignments[unique_alignments.align_type=='perfect'].reset_index(drop=True)\n",
    "print('Multi-targeting guides:', guides_w_multiple_matches[guides_w_multiple_matches.align_type=='perfect'].sgrna.nunique())\n",
    "\n",
    "unique_alignments[:2]"
   ]
  },
  {
   "cell_type": "markdown",
   "metadata": {},
   "source": [
    "### Count guides per gene after filtering"
   ]
  },
  {
   "cell_type": "code",
   "execution_count": 223,
   "metadata": {
    "scrolled": true
   },
   "outputs": [
    {
     "name": "stdout",
     "output_type": "stream",
     "text": [
      "Map size: 17047\n"
     ]
    },
    {
     "data": {
      "text/html": [
       "<div>\n",
       "<style scoped>\n",
       "    .dataframe tbody tr th:only-of-type {\n",
       "        vertical-align: middle;\n",
       "    }\n",
       "\n",
       "    .dataframe tbody tr th {\n",
       "        vertical-align: top;\n",
       "    }\n",
       "\n",
       "    .dataframe thead th {\n",
       "        text-align: right;\n",
       "    }\n",
       "</style>\n",
       "<table border=\"1\" class=\"dataframe\">\n",
       "  <thead>\n",
       "    <tr style=\"text-align: right;\">\n",
       "      <th></th>\n",
       "      <th>symbol</th>\n",
       "      <th>entrez_id</th>\n",
       "      <th>guides_per_gene</th>\n",
       "    </tr>\n",
       "  </thead>\n",
       "  <tbody>\n",
       "    <tr>\n",
       "      <th>0</th>\n",
       "      <td>A1BG</td>\n",
       "      <td>1</td>\n",
       "      <td>4</td>\n",
       "    </tr>\n",
       "    <tr>\n",
       "      <th>1</th>\n",
       "      <td>A1CF</td>\n",
       "      <td>29974</td>\n",
       "      <td>4</td>\n",
       "    </tr>\n",
       "  </tbody>\n",
       "</table>\n",
       "</div>"
      ],
      "text/plain": [
       "  symbol  entrez_id  guides_per_gene\n",
       "0   A1BG          1                4\n",
       "1   A1CF      29974                4"
      ]
     },
     "execution_count": 223,
     "metadata": {},
     "output_type": "execute_result"
    }
   ],
   "source": [
    "# Save out guides per gene to use in CERES post-processing\n",
    "assert(unique_alignments[unique_alignments.align_type!='perfect'].shape[0] == 0)\n",
    "guides_per_gene = unique_alignments.groupby(['symbol', 'entrez_id']).sgrna.nunique().reset_index()\n",
    "guides_per_gene = guides_per_gene.rename(columns={'sgrna':'guides_per_gene'})\n",
    "guides_per_gene.to_csv(file_guides_per_gene)\n",
    "print('Map size:', guides_per_gene.shape[0])\n",
    "guides_per_gene[:2]"
   ]
  },
  {
   "cell_type": "code",
   "execution_count": 224,
   "metadata": {
    "scrolled": true
   },
   "outputs": [
    {
     "data": {
      "image/png": "[encoded data removed]",
      "text/plain": [
       "<Figure size 504x216 with 2 Axes>"
      ]
     },
     "metadata": {
      "needs_background": "light"
     },
     "output_type": "display_data"
    }
   ],
   "source": [
    "# Guides per gene before and after filtering\n",
    "def plot_guides_per_gene(guide_map, ax):\n",
    "    guides_per_gene = pd.DataFrame(guide_map.groupby('entrez_id').sgrna.nunique())\n",
    "    guides_per_gene = guides_per_gene.assign(counts = guides_per_gene.sgrna.apply(lambda x: 10 if x>=10 else x))\n",
    "    sns.countplot(guides_per_gene.counts, ax=ax, color='royalblue')\n",
    "    ax.set_xlabel('Guides per gene'); ax.set_ylabel('Number of genes')\n",
    "\n",
    "f, (ax1, ax2) = plt.subplots(1, 2, figsize=(7,3))\n",
    "plot_guides_per_gene(guide_map, ax1)\n",
    "plot_guides_per_gene(unique_alignments, ax2)\n",
    "ax1.set_title('Before'); ax2.set_title('After'); plt.tight_layout()"
   ]
  },
  {
   "cell_type": "markdown",
   "metadata": {},
   "source": [
    "### Filter original log-fold change file\n",
    "This is the post-QC LFC"
   ]
  },
  {
   "cell_type": "code",
   "execution_count": 23,
   "metadata": {},
   "outputs": [],
   "source": [
    "orig_lfc = pd.read_csv(file_logfold_changes, index_col=0)"
   ]
  },
  {
   "cell_type": "code",
   "execution_count": 204,
   "metadata": {
    "scrolled": false
   },
   "outputs": [
    {
     "name": "stdout",
     "output_type": "stream",
     "text": [
      "N orig LFC: 74687\n"
     ]
    },
    {
     "data": {
      "text/html": [
       "<div>\n",
       "<style scoped>\n",
       "    .dataframe tbody tr th:only-of-type {\n",
       "        vertical-align: middle;\n",
       "    }\n",
       "\n",
       "    .dataframe tbody tr th {\n",
       "        vertical-align: top;\n",
       "    }\n",
       "\n",
       "    .dataframe thead th {\n",
       "        text-align: right;\n",
       "    }\n",
       "</style>\n",
       "<table border=\"1\" class=\"dataframe\">\n",
       "  <thead>\n",
       "    <tr style=\"text-align: right;\">\n",
       "      <th></th>\n",
       "      <th>143B-311Cas9_RepA_p6_batch3</th>\n",
       "      <th>2313287-311Cas9_RepA_p5_batch3</th>\n",
       "      <th>2313287-311Cas9_RepB_p5_batch3</th>\n",
       "      <th>253J-311Cas9_RepA_p5_batch3</th>\n",
       "      <th>42-MG-BA-311Cas9_RepA_p6_batch3</th>\n",
       "      <th>42-MG-BA-311Cas9_RepB_p6_batch3</th>\n",
       "      <th>5637-311Cas9_RepA_p6_batch3</th>\n",
       "      <th>5637-311Cas9_RepB_p6_batch3</th>\n",
       "      <th>59M-311Cas9_RepA_p4_batch3</th>\n",
       "      <th>59M-311Cas9_RepB_p4_batch3</th>\n",
       "      <th>...</th>\n",
       "      <th>YD8-311Cas9_RepA_p6_batch3</th>\n",
       "      <th>YD8-311Cas9_RepB_p6_batch3</th>\n",
       "      <th>YH-13-311Cas9_RepA_p6_batch3</th>\n",
       "      <th>YH-13-311Cas9_RepB_p6_batch3</th>\n",
       "      <th>YKG1-311Cas9_RepA_p6_batch3</th>\n",
       "      <th>YKG1-311Cas9_RepB_p6_batch3</th>\n",
       "      <th>YSCCC-311cas9-RepA-p6_batch3</th>\n",
       "      <th>YSCCC-311cas9-RepB-p6_batch3</th>\n",
       "      <th>ZR-75-1-311Cas9_RepA_p5_batch2</th>\n",
       "      <th>ZR-75-1-311Cas9_RepB_p5_batch2</th>\n",
       "    </tr>\n",
       "    <tr>\n",
       "      <th>Construct Barcode</th>\n",
       "      <th></th>\n",
       "      <th></th>\n",
       "      <th></th>\n",
       "      <th></th>\n",
       "      <th></th>\n",
       "      <th></th>\n",
       "      <th></th>\n",
       "      <th></th>\n",
       "      <th></th>\n",
       "      <th></th>\n",
       "      <th></th>\n",
       "      <th></th>\n",
       "      <th></th>\n",
       "      <th></th>\n",
       "      <th></th>\n",
       "      <th></th>\n",
       "      <th></th>\n",
       "      <th></th>\n",
       "      <th></th>\n",
       "      <th></th>\n",
       "      <th></th>\n",
       "    </tr>\n",
       "  </thead>\n",
       "  <tbody>\n",
       "    <tr>\n",
       "      <th>AAAAAAATCCAGCAATGCAG</th>\n",
       "      <td>0.289694</td>\n",
       "      <td>0.171917</td>\n",
       "      <td>-0.522717</td>\n",
       "      <td>-0.21169</td>\n",
       "      <td>-1.067942</td>\n",
       "      <td>-0.432573</td>\n",
       "      <td>-0.57371</td>\n",
       "      <td>0.012167</td>\n",
       "      <td>0.371828</td>\n",
       "      <td>-0.460308</td>\n",
       "      <td>...</td>\n",
       "      <td>-0.932634</td>\n",
       "      <td>-0.42067</td>\n",
       "      <td>-0.483853</td>\n",
       "      <td>-0.00565</td>\n",
       "      <td>-0.080897</td>\n",
       "      <td>-0.144761</td>\n",
       "      <td>-0.215475</td>\n",
       "      <td>-0.161553</td>\n",
       "      <td>-0.963836</td>\n",
       "      <td>-0.256333</td>\n",
       "    </tr>\n",
       "  </tbody>\n",
       "</table>\n",
       "<p>1 rows × 1621 columns</p>\n",
       "</div>"
      ],
      "text/plain": [
       "                      143B-311Cas9_RepA_p6_batch3  \\\n",
       "Construct Barcode                                   \n",
       "AAAAAAATCCAGCAATGCAG                     0.289694   \n",
       "\n",
       "                      2313287-311Cas9_RepA_p5_batch3  \\\n",
       "Construct Barcode                                      \n",
       "AAAAAAATCCAGCAATGCAG                        0.171917   \n",
       "\n",
       "                      2313287-311Cas9_RepB_p5_batch3  \\\n",
       "Construct Barcode                                      \n",
       "AAAAAAATCCAGCAATGCAG                       -0.522717   \n",
       "\n",
       "                      253J-311Cas9_RepA_p5_batch3  \\\n",
       "Construct Barcode                                   \n",
       "AAAAAAATCCAGCAATGCAG                     -0.21169   \n",
       "\n",
       "                      42-MG-BA-311Cas9_RepA_p6_batch3  \\\n",
       "Construct Barcode                                       \n",
       "AAAAAAATCCAGCAATGCAG                        -1.067942   \n",
       "\n",
       "                      42-MG-BA-311Cas9_RepB_p6_batch3  \\\n",
       "Construct Barcode                                       \n",
       "AAAAAAATCCAGCAATGCAG                        -0.432573   \n",
       "\n",
       "                      5637-311Cas9_RepA_p6_batch3  \\\n",
       "Construct Barcode                                   \n",
       "AAAAAAATCCAGCAATGCAG                     -0.57371   \n",
       "\n",
       "                      5637-311Cas9_RepB_p6_batch3  59M-311Cas9_RepA_p4_batch3  \\\n",
       "Construct Barcode                                                               \n",
       "AAAAAAATCCAGCAATGCAG                     0.012167                    0.371828   \n",
       "\n",
       "                      59M-311Cas9_RepB_p4_batch3  ...  \\\n",
       "Construct Barcode                                 ...   \n",
       "AAAAAAATCCAGCAATGCAG                   -0.460308  ...   \n",
       "\n",
       "                      YD8-311Cas9_RepA_p6_batch3  YD8-311Cas9_RepB_p6_batch3  \\\n",
       "Construct Barcode                                                              \n",
       "AAAAAAATCCAGCAATGCAG                   -0.932634                    -0.42067   \n",
       "\n",
       "                      YH-13-311Cas9_RepA_p6_batch3  \\\n",
       "Construct Barcode                                    \n",
       "AAAAAAATCCAGCAATGCAG                     -0.483853   \n",
       "\n",
       "                      YH-13-311Cas9_RepB_p6_batch3  \\\n",
       "Construct Barcode                                    \n",
       "AAAAAAATCCAGCAATGCAG                      -0.00565   \n",
       "\n",
       "                      YKG1-311Cas9_RepA_p6_batch3  \\\n",
       "Construct Barcode                                   \n",
       "AAAAAAATCCAGCAATGCAG                    -0.080897   \n",
       "\n",
       "                      YKG1-311Cas9_RepB_p6_batch3  \\\n",
       "Construct Barcode                                   \n",
       "AAAAAAATCCAGCAATGCAG                    -0.144761   \n",
       "\n",
       "                      YSCCC-311cas9-RepA-p6_batch3  \\\n",
       "Construct Barcode                                    \n",
       "AAAAAAATCCAGCAATGCAG                     -0.215475   \n",
       "\n",
       "                      YSCCC-311cas9-RepB-p6_batch3  \\\n",
       "Construct Barcode                                    \n",
       "AAAAAAATCCAGCAATGCAG                     -0.161553   \n",
       "\n",
       "                      ZR-75-1-311Cas9_RepA_p5_batch2  \\\n",
       "Construct Barcode                                      \n",
       "AAAAAAATCCAGCAATGCAG                       -0.963836   \n",
       "\n",
       "                      ZR-75-1-311Cas9_RepB_p5_batch2  \n",
       "Construct Barcode                                     \n",
       "AAAAAAATCCAGCAATGCAG                       -0.256333  \n",
       "\n",
       "[1 rows x 1621 columns]"
      ]
     },
     "execution_count": 204,
     "metadata": {},
     "output_type": "execute_result"
    }
   ],
   "source": [
    "print(\"N orig LFC:\", orig_lfc.shape[0])\n",
    "orig_lfc[:1]"
   ]
  },
  {
   "cell_type": "code",
   "execution_count": 213,
   "metadata": {},
   "outputs": [
    {
     "name": "stdout",
     "output_type": "stream",
     "text": [
      "Filtered lfc: 69482\n"
     ]
    },
    {
     "data": {
      "text/html": [
       "<div>\n",
       "<style scoped>\n",
       "    .dataframe tbody tr th:only-of-type {\n",
       "        vertical-align: middle;\n",
       "    }\n",
       "\n",
       "    .dataframe tbody tr th {\n",
       "        vertical-align: top;\n",
       "    }\n",
       "\n",
       "    .dataframe thead th {\n",
       "        text-align: right;\n",
       "    }\n",
       "</style>\n",
       "<table border=\"1\" class=\"dataframe\">\n",
       "  <thead>\n",
       "    <tr style=\"text-align: right;\">\n",
       "      <th></th>\n",
       "      <th>143B-311Cas9_RepA_p6_batch3</th>\n",
       "      <th>2313287-311Cas9_RepA_p5_batch3</th>\n",
       "      <th>2313287-311Cas9_RepB_p5_batch3</th>\n",
       "      <th>253J-311Cas9_RepA_p5_batch3</th>\n",
       "      <th>42-MG-BA-311Cas9_RepA_p6_batch3</th>\n",
       "      <th>42-MG-BA-311Cas9_RepB_p6_batch3</th>\n",
       "      <th>5637-311Cas9_RepA_p6_batch3</th>\n",
       "      <th>5637-311Cas9_RepB_p6_batch3</th>\n",
       "      <th>59M-311Cas9_RepA_p4_batch3</th>\n",
       "      <th>59M-311Cas9_RepB_p4_batch3</th>\n",
       "      <th>...</th>\n",
       "      <th>YD8-311Cas9_RepA_p6_batch3</th>\n",
       "      <th>YD8-311Cas9_RepB_p6_batch3</th>\n",
       "      <th>YH-13-311Cas9_RepA_p6_batch3</th>\n",
       "      <th>YH-13-311Cas9_RepB_p6_batch3</th>\n",
       "      <th>YKG1-311Cas9_RepA_p6_batch3</th>\n",
       "      <th>YKG1-311Cas9_RepB_p6_batch3</th>\n",
       "      <th>YSCCC-311cas9-RepA-p6_batch3</th>\n",
       "      <th>YSCCC-311cas9-RepB-p6_batch3</th>\n",
       "      <th>ZR-75-1-311Cas9_RepA_p5_batch2</th>\n",
       "      <th>ZR-75-1-311Cas9_RepB_p5_batch2</th>\n",
       "    </tr>\n",
       "    <tr>\n",
       "      <th>Construct Barcode</th>\n",
       "      <th></th>\n",
       "      <th></th>\n",
       "      <th></th>\n",
       "      <th></th>\n",
       "      <th></th>\n",
       "      <th></th>\n",
       "      <th></th>\n",
       "      <th></th>\n",
       "      <th></th>\n",
       "      <th></th>\n",
       "      <th></th>\n",
       "      <th></th>\n",
       "      <th></th>\n",
       "      <th></th>\n",
       "      <th></th>\n",
       "      <th></th>\n",
       "      <th></th>\n",
       "      <th></th>\n",
       "      <th></th>\n",
       "      <th></th>\n",
       "      <th></th>\n",
       "    </tr>\n",
       "  </thead>\n",
       "  <tbody>\n",
       "    <tr>\n",
       "      <th>AAAAAAATCCAGCAATGCAG</th>\n",
       "      <td>0.289694</td>\n",
       "      <td>0.171917</td>\n",
       "      <td>-0.522717</td>\n",
       "      <td>-0.21169</td>\n",
       "      <td>-1.067942</td>\n",
       "      <td>-0.432573</td>\n",
       "      <td>-0.57371</td>\n",
       "      <td>0.012167</td>\n",
       "      <td>0.371828</td>\n",
       "      <td>-0.460308</td>\n",
       "      <td>...</td>\n",
       "      <td>-0.932634</td>\n",
       "      <td>-0.42067</td>\n",
       "      <td>-0.483853</td>\n",
       "      <td>-0.00565</td>\n",
       "      <td>-0.080897</td>\n",
       "      <td>-0.144761</td>\n",
       "      <td>-0.215475</td>\n",
       "      <td>-0.161553</td>\n",
       "      <td>-0.963836</td>\n",
       "      <td>-0.256333</td>\n",
       "    </tr>\n",
       "  </tbody>\n",
       "</table>\n",
       "<p>1 rows × 1621 columns</p>\n",
       "</div>"
      ],
      "text/plain": [
       "                      143B-311Cas9_RepA_p6_batch3  \\\n",
       "Construct Barcode                                   \n",
       "AAAAAAATCCAGCAATGCAG                     0.289694   \n",
       "\n",
       "                      2313287-311Cas9_RepA_p5_batch3  \\\n",
       "Construct Barcode                                      \n",
       "AAAAAAATCCAGCAATGCAG                        0.171917   \n",
       "\n",
       "                      2313287-311Cas9_RepB_p5_batch3  \\\n",
       "Construct Barcode                                      \n",
       "AAAAAAATCCAGCAATGCAG                       -0.522717   \n",
       "\n",
       "                      253J-311Cas9_RepA_p5_batch3  \\\n",
       "Construct Barcode                                   \n",
       "AAAAAAATCCAGCAATGCAG                     -0.21169   \n",
       "\n",
       "                      42-MG-BA-311Cas9_RepA_p6_batch3  \\\n",
       "Construct Barcode                                       \n",
       "AAAAAAATCCAGCAATGCAG                        -1.067942   \n",
       "\n",
       "                      42-MG-BA-311Cas9_RepB_p6_batch3  \\\n",
       "Construct Barcode                                       \n",
       "AAAAAAATCCAGCAATGCAG                        -0.432573   \n",
       "\n",
       "                      5637-311Cas9_RepA_p6_batch3  \\\n",
       "Construct Barcode                                   \n",
       "AAAAAAATCCAGCAATGCAG                     -0.57371   \n",
       "\n",
       "                      5637-311Cas9_RepB_p6_batch3  59M-311Cas9_RepA_p4_batch3  \\\n",
       "Construct Barcode                                                               \n",
       "AAAAAAATCCAGCAATGCAG                     0.012167                    0.371828   \n",
       "\n",
       "                      59M-311Cas9_RepB_p4_batch3  ...  \\\n",
       "Construct Barcode                                 ...   \n",
       "AAAAAAATCCAGCAATGCAG                   -0.460308  ...   \n",
       "\n",
       "                      YD8-311Cas9_RepA_p6_batch3  YD8-311Cas9_RepB_p6_batch3  \\\n",
       "Construct Barcode                                                              \n",
       "AAAAAAATCCAGCAATGCAG                   -0.932634                    -0.42067   \n",
       "\n",
       "                      YH-13-311Cas9_RepA_p6_batch3  \\\n",
       "Construct Barcode                                    \n",
       "AAAAAAATCCAGCAATGCAG                     -0.483853   \n",
       "\n",
       "                      YH-13-311Cas9_RepB_p6_batch3  \\\n",
       "Construct Barcode                                    \n",
       "AAAAAAATCCAGCAATGCAG                      -0.00565   \n",
       "\n",
       "                      YKG1-311Cas9_RepA_p6_batch3  \\\n",
       "Construct Barcode                                   \n",
       "AAAAAAATCCAGCAATGCAG                    -0.080897   \n",
       "\n",
       "                      YKG1-311Cas9_RepB_p6_batch3  \\\n",
       "Construct Barcode                                   \n",
       "AAAAAAATCCAGCAATGCAG                    -0.144761   \n",
       "\n",
       "                      YSCCC-311cas9-RepA-p6_batch3  \\\n",
       "Construct Barcode                                    \n",
       "AAAAAAATCCAGCAATGCAG                     -0.215475   \n",
       "\n",
       "                      YSCCC-311cas9-RepB-p6_batch3  \\\n",
       "Construct Barcode                                    \n",
       "AAAAAAATCCAGCAATGCAG                     -0.161553   \n",
       "\n",
       "                      ZR-75-1-311Cas9_RepA_p5_batch2  \\\n",
       "Construct Barcode                                      \n",
       "AAAAAAATCCAGCAATGCAG                       -0.963836   \n",
       "\n",
       "                      ZR-75-1-311Cas9_RepB_p5_batch2  \n",
       "Construct Barcode                                     \n",
       "AAAAAAATCCAGCAATGCAG                       -0.256333  \n",
       "\n",
       "[1 rows x 1621 columns]"
      ]
     },
     "metadata": {},
     "output_type": "display_data"
    }
   ],
   "source": [
    "filtered_lfc = orig_lfc[~orig_lfc.index.isin(dropped_guides)]\n",
    "print('Filtered lfc:', filtered_lfc.shape[0])\n",
    "display(filtered_lfc[:1])"
   ]
  },
  {
   "cell_type": "code",
   "execution_count": 214,
   "metadata": {},
   "outputs": [],
   "source": [
    "filtered_lfc.to_csv(file_filtered_lfc)"
   ]
  }
 ],
 "metadata": {
  "kernelspec": {
   "display_name": "Python 3",
   "language": "python",
   "name": "python3"
  },
  "language_info": {
   "codemirror_mode": {
    "name": "ipython",
    "version": 3
   },
   "file_extension": ".py",
   "mimetype": "text/x-python",
   "name": "python",
   "nbconvert_exporter": "python",
   "pygments_lexer": "ipython3",
   "version": "3.7.1"
  }
 },
 "nbformat": 4,
 "nbformat_minor": 2
}
