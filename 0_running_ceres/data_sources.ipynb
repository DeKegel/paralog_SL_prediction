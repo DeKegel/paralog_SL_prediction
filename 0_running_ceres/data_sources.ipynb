{
 "cells": [
  {
   "cell_type": "markdown",
   "metadata": {},
   "source": [
    "## 3rd party data/packages to run CERES\n",
    "\n",
    "CERES: https://github.com/cancerdatasci/ceres\n",
    "\n",
    "To run the two R scripts, follow the instructions provided for the CERES package, but use Bowtie indices for hg38.\n",
    "\n",
    "NOTE: R scripts can only run on Linux/Mac OS due to dependency on bowtie + samtools command line tools"
   ]
  },
  {
   "cell_type": "markdown",
   "metadata": {},
   "source": [
    "### DEPMAP (20Q2)\n",
    "Files from DepMap Public 20Q2: https://depmap.org/portal/download/\n",
    "\n",
    "*depmap\\20Q2\\Achilles_guide_map.csv*\n",
    "- File: https://ndownloader.figshare.com/files/22629074\n",
    "\n",
    "*depmap\\20Q2\\Achilles_dropped_guides.csv*\n",
    "- File: https://ndownloader.figshare.com/files/22629062\n",
    "\n",
    "*depmap\\20Q2\\Achilles_logfold_change.csv*\n",
    " - https://ndownloader.figshare.com/files/22629083\n",
    "\n",
    "*depmap\\20Q2\\Achilles_replicate_map.csv*\n",
    "- File: https://ndownloader.figshare.com/files/22629086\n",
    "\n",
    "*depmap\\20Q2\\CCLE_segment_cn.csv*\n",
    "- File: https://ndownloader.figshare.com/files/22629122\n",
    "\n",
    "*depmap\\20Q2\\common_essentials.csv*\n",
    "- File: https://ndownloader.figshare.com/files/22629128\n",
    "\n",
    "*depmap\\20Q2\\nonessentials.csv*\n",
    "- File: https://ndownloader.figshare.com/files/22629131\n",
    "\n",
    "*depmap\\20Q2\\Achilles_gene_effect_unscaled.csv*\n",
    "- File: https://ndownloader.figshare.com/files/22629077"
   ]
  },
  {
   "cell_type": "markdown",
   "metadata": {},
   "source": [
    "### Bowtie\n",
    "\n",
    "*bowtie_indexes\\hg38*\n",
    "- .ebwt files\n",
    "- File: https://genome-idx.s3.amazonaws.com/bt/GRCh38_noalt_as.zip\n",
    "- Downloaded from http://bowtie-bio.sourceforge.net/index.shtml"
   ]
  },
  {
   "cell_type": "markdown",
   "metadata": {},
   "source": [
    "### CCDS\n",
    "\n",
    "https://www.ncbi.nlm.nih.gov/projects/CCDS/CcdsBrowse.cgi?REQUEST=SHOW_STATISTICS\n",
    "\n",
    "*ccds_gene_annotations/CCDS.20180614.txt*\n",
    "- CCDS gene annotations for hg38 - GRCh38.p12 - CCDS.20180614.txt - release 22"
   ]
  },
  {
   "cell_type": "code",
   "execution_count": null,
   "metadata": {},
   "outputs": [],
   "source": []
  }
 ],
 "metadata": {
  "kernelspec": {
   "display_name": "Python 3.7.9 64-bit ('paralogSL': conda)",
   "language": "python",
   "name": "python37964bitparalogslconda0f0e77de73d34c52b743edfe8868363d"
  },
  "language_info": {
   "codemirror_mode": {
    "name": "ipython",
    "version": 3
   },
   "file_extension": ".py",
   "mimetype": "text/x-python",
   "name": "python",
   "nbconvert_exporter": "python",
   "pygments_lexer": "ipython3",
   "version": "3.7.1"
  }
 },
 "nbformat": 4,
 "nbformat_minor": 4
}
