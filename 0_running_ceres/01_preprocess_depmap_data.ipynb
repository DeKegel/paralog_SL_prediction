{
 "cells": [
  {
   "cell_type": "markdown",
   "metadata": {},
   "source": [
    "## Pre-process DepMap files used in analysis\n",
    "\n",
    "Note: CERES requires the replicate map and copy number files to be .tsv instead of .csv\n",
    "\n",
    "Run this script before: `align_guides.R`"
   ]
  },
  {
   "cell_type": "code",
   "execution_count": 3,
   "metadata": {},
   "outputs": [],
   "source": [
    "import os\n",
    "import pandas as pd\n",
    "from pathlib import Path\n",
    "\n",
    "get_data_path = lambda folders, fname: os.path.normpath(os.environ['3RD_PARTY_DIR']+'/'+'/'.join(folders) +'/'+ fname)\n",
    "get_local_data_path = lambda folders, fname: os.path.normpath('../local_data/' +'/'.join(folders) +'/'+ fname)\n",
    "\n",
    "# Input\n",
    "file_logfold_changes = get_data_path(['depmap', '20Q2'], 'Achilles_logfold_change.csv')\n",
    "file_replicate_map = get_data_path(['depmap', '20Q2'], 'Achilles_replicate_map.csv')\n",
    "file_copy_number = get_data_path(['depmap', '20Q2'], 'CCLE_segment_cn.csv')\n",
    "\n",
    "# Output\n",
    "file_sgrna_sequences = get_local_data_path(['processed','depmap20Q2'], 'sgrna_sequences.csv')\n",
    "file_replicate_map_out = get_data_path(['depmap', '20Q2'], 'Achilles_replicate_map.tsv')\n",
    "file_copy_number_out = get_data_path(['depmap', '20Q2'], 'CCLE_segment_cn.tsv')"
   ]
  },
  {
   "cell_type": "code",
   "execution_count": 4,
   "metadata": {
    "tags": []
   },
   "outputs": [
    {
     "data": {
      "text/html": [
       "<div>\n",
       "<style scoped>\n",
       "    .dataframe tbody tr th:only-of-type {\n",
       "        vertical-align: middle;\n",
       "    }\n",
       "\n",
       "    .dataframe tbody tr th {\n",
       "        vertical-align: top;\n",
       "    }\n",
       "\n",
       "    .dataframe thead th {\n",
       "        text-align: right;\n",
       "    }\n",
       "</style>\n",
       "<table border=\"1\" class=\"dataframe\">\n",
       "  <thead>\n",
       "    <tr style=\"text-align: right;\">\n",
       "      <th></th>\n",
       "      <th>Construct Barcode</th>\n",
       "    </tr>\n",
       "  </thead>\n",
       "  <tbody>\n",
       "    <tr>\n",
       "      <th>0</th>\n",
       "      <td>AAAAAAATCCAGCAATGCAG</td>\n",
       "    </tr>\n",
       "    <tr>\n",
       "      <th>1</th>\n",
       "      <td>AAAAAACCCGTAGATAGCCT</td>\n",
       "    </tr>\n",
       "  </tbody>\n",
       "</table>\n",
       "</div>"
      ],
      "text/plain": [
       "      Construct Barcode\n",
       "0  AAAAAAATCCAGCAATGCAG\n",
       "1  AAAAAACCCGTAGATAGCCT"
      ]
     },
     "metadata": {},
     "output_type": "display_data"
    }
   ],
   "source": [
    "# Extract sgrna sequences from logfold_changes file, for R align_guides script\n",
    "sequences_raw = pd.read_csv(file_logfold_changes, usecols=[0])\n",
    "display(sequences_raw[:2])"
   ]
  },
  {
   "cell_type": "code",
   "execution_count": 5,
   "metadata": {
    "tags": []
   },
   "outputs": [
    {
     "name": "stdout",
     "output_type": "stream",
     "text": [
      "N sgrnas: 74687\n"
     ]
    }
   ],
   "source": [
    "sequences = sequences_raw.rename(columns={'Construct Barcode':'sgrna'})\n",
    "print('N sgrnas:', sequences.shape[0])\n",
    "sequences.to_csv(file_sgrna_sequences, index=0)"
   ]
  },
  {
   "cell_type": "code",
   "execution_count": 14,
   "metadata": {
    "tags": []
   },
   "outputs": [
    {
     "data": {
      "text/html": [
       "<div>\n",
       "<style scoped>\n",
       "    .dataframe tbody tr th:only-of-type {\n",
       "        vertical-align: middle;\n",
       "    }\n",
       "\n",
       "    .dataframe tbody tr th {\n",
       "        vertical-align: top;\n",
       "    }\n",
       "\n",
       "    .dataframe thead th {\n",
       "        text-align: right;\n",
       "    }\n",
       "</style>\n",
       "<table border=\"1\" class=\"dataframe\">\n",
       "  <thead>\n",
       "    <tr style=\"text-align: right;\">\n",
       "      <th></th>\n",
       "      <th>Replicate</th>\n",
       "      <th>CellLine</th>\n",
       "      <th>pDNA_batch</th>\n",
       "    </tr>\n",
       "  </thead>\n",
       "  <tbody>\n",
       "    <tr>\n",
       "      <th>0</th>\n",
       "      <td>PACADD188-311cas9_RepB_p6_batch3</td>\n",
       "      <td>ACH-001382</td>\n",
       "      <td>3</td>\n",
       "    </tr>\n",
       "    <tr>\n",
       "      <th>1</th>\n",
       "      <td>KMRC20-311Cas9_RepA_p6_batch3</td>\n",
       "      <td>ACH-000250</td>\n",
       "      <td>3</td>\n",
       "    </tr>\n",
       "  </tbody>\n",
       "</table>\n",
       "</div>"
      ],
      "text/plain": [
       "                          Replicate    CellLine  pDNA_batch\n",
       "0  PACADD188-311cas9_RepB_p6_batch3  ACH-001382           3\n",
       "1     KMRC20-311Cas9_RepA_p6_batch3  ACH-000250           3"
      ]
     },
     "metadata": {},
     "output_type": "display_data"
    }
   ],
   "source": [
    "# Column names should be strictly: `Replicate`, `CellLine`, pDNA_batch\n",
    "rep_map = pd.read_csv(file_replicate_map)\n",
    "rep_map = rep_map[rep_map.passes_QC==True].reset_index(drop=True)\n",
    "rep_map = rep_map.rename(columns={'replicate_ID':'Replicate', 'DepMap_ID':'CellLine'}).drop(columns=['passes_QC'])\n",
    "rep_map.to_csv(file_replicate_map_out, sep='\\t', index=0)\n",
    "display(rep_map[:2])"
   ]
  },
  {
   "cell_type": "code",
   "execution_count": 12,
   "metadata": {
    "tags": []
   },
   "outputs": [
    {
     "data": {
      "text/html": [
       "<div>\n",
       "<style scoped>\n",
       "    .dataframe tbody tr th:only-of-type {\n",
       "        vertical-align: middle;\n",
       "    }\n",
       "\n",
       "    .dataframe tbody tr th {\n",
       "        vertical-align: top;\n",
       "    }\n",
       "\n",
       "    .dataframe thead th {\n",
       "        text-align: right;\n",
       "    }\n",
       "</style>\n",
       "<table border=\"1\" class=\"dataframe\">\n",
       "  <thead>\n",
       "    <tr style=\"text-align: right;\">\n",
       "      <th></th>\n",
       "      <th>CellLine</th>\n",
       "      <th>Chromosome</th>\n",
       "      <th>Start</th>\n",
       "      <th>End</th>\n",
       "      <th>Num_Probes</th>\n",
       "      <th>Segment_Mean</th>\n",
       "      <th>Source</th>\n",
       "    </tr>\n",
       "  </thead>\n",
       "  <tbody>\n",
       "    <tr>\n",
       "      <th>0</th>\n",
       "      <td>ACH-000001</td>\n",
       "      <td>1</td>\n",
       "      <td>1</td>\n",
       "      <td>1969745</td>\n",
       "      <td>286</td>\n",
       "      <td>2.546065</td>\n",
       "      <td>Sanger WES</td>\n",
       "    </tr>\n",
       "    <tr>\n",
       "      <th>1</th>\n",
       "      <td>ACH-000001</td>\n",
       "      <td>1</td>\n",
       "      <td>1969746</td>\n",
       "      <td>6354345</td>\n",
       "      <td>365</td>\n",
       "      <td>2.175759</td>\n",
       "      <td>Sanger WES</td>\n",
       "    </tr>\n",
       "  </tbody>\n",
       "</table>\n",
       "</div>"
      ],
      "text/plain": [
       "     CellLine Chromosome    Start      End  Num_Probes  Segment_Mean  \\\n",
       "0  ACH-000001          1        1  1969745         286      2.546065   \n",
       "1  ACH-000001          1  1969746  6354345         365      2.175759   \n",
       "\n",
       "       Source  \n",
       "0  Sanger WES  \n",
       "1  Sanger WES  "
      ]
     },
     "metadata": {},
     "output_type": "display_data"
    }
   ],
   "source": [
    "copynum = pd.read_csv(file_copy_number)\n",
    "copynum = copynum.rename(columns={'DepMap_ID':'CellLine'})\n",
    "copynum.to_csv(file_copy_number_out, sep='\\t', index=0)\n",
    "display(copynum[:2])"
   ]
  }
 ],
 "metadata": {
  "kernelspec": {
   "display_name": "Python 3.7.9 64-bit ('paralogSL': conda)",
   "language": "python",
   "name": "python37964bitparalogslconda0f0e77de73d34c52b743edfe8868363d"
  },
  "language_info": {
   "codemirror_mode": {
    "name": "ipython",
    "version": 3
   },
   "file_extension": ".py",
   "mimetype": "text/x-python",
   "name": "python",
   "nbconvert_exporter": "python",
   "pygments_lexer": "ipython3",
   "version": "3.7.1"
  }
 },
 "nbformat": 4,
 "nbformat_minor": 2
}
