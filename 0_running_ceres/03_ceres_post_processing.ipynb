{
 "cells": [
  {
   "cell_type": "markdown",
   "metadata": {},
   "source": [
    "## CERES post-processing\n",
    "\n",
    "**Input:**\n",
    "CERES output file (a score for each gene in each cell line)\n",
    "\n",
    "**Output:**\n",
    "Cleaned up and filtered gene scores file to use for the rest of the analysis\n",
    "\n",
    "For the output, use the same format as the table from DepMap.  \n",
    "* Genes as column headings\n",
    "* Cell lines as rows\n",
    "\n",
    "Post-processing steps:\n",
    "1. Filter out genes that were not targeted by enough guides (less than 3).  \n",
    "2. Drop genes not in DepMap results.  \n",
    "3. Rescale scores to the reference essentials / non-essentials.\n",
    "4. Update genes (columns) to Entrez IDs."
   ]
  },
  {
   "cell_type": "code",
   "execution_count": 1,
   "metadata": {},
   "outputs": [],
   "source": [
    "import pandas as pd\n",
    "import numpy as np\n",
    "import os\n",
    "import re\n",
    "from sklearn.metrics import auc\n",
    "from sklearn.metrics import precision_recall_curve, average_precision_score\n",
    "import matplotlib.pyplot as plt\n",
    "import sklearn.decomposition\n",
    "\n",
    "get_data_path = lambda folders, fname: os.path.normpath(os.environ['3RD_PARTY_DIR']+'/'+'/'.join(folders) +'/'+fname)\n",
    "get_local_data_path = lambda folders, fname: os.path.normpath('../local_data/' +'/'.join(folders) +'/'+ fname)\n",
    "\n",
    "# Input from running CERES / sgRNA mapping\n",
    "file_ceres_unscaled = lambda v, d: get_local_data_path(['processed', v], 'ceres_gene_unscaled_'+d+'.csv')\n",
    "file_guides_per_gene = lambda v, d: get_local_data_path(['processed', v], 'guides_per_gene_'+d+'.csv')\n",
    "\n",
    "# Inputs from DepMap\n",
    "# 20Q2 positive controls: intersection of Hart (2015) and Blomen (2014)\n",
    "file_ref_essentials = get_data_path(['depmap', '20Q2'], 'common_essentials.csv')\n",
    "file_ref_nonessentials = get_data_path(['depmap', '20Q2'], 'nonessentials.csv')\n",
    "file_depmap_scores = lambda v: get_data_path(['depmap', v], ('Achilles_' if v=='20Q2' else '')+'gene_effect_unscaled.csv')\n",
    "\n",
    "file_id_map = get_local_data_path(['processed'], 'HGNC_gene_id_map.csv')\n",
    "\n",
    "# OUTPUT\n",
    "file_gene_scores = lambda v, d: get_local_data_path(['processed', v], 'gene_scores_'+d+'.csv')\n",
    "file_table_s2 = get_local_data_path(['supplemental_files'], 'Table_S2.csv')"
   ]
  },
  {
   "cell_type": "markdown",
   "metadata": {},
   "source": [
    "### Filter & normalize CERES output"
   ]
  },
  {
   "cell_type": "code",
   "execution_count": 2,
   "metadata": {},
   "outputs": [],
   "source": [
    "def load_ceres_scores(fname):\n",
    "    scores_raw = pd.read_csv(fname, index_col=0)\n",
    "    scores = scores_raw.T\n",
    "    scores = scores.dropna(axis=1, how='all') # Drop columns (genes) where all values are NaN\n",
    "    scores.index = scores.index.str.replace('.','-', regex=False) # The unify with CCLE file identifiers\n",
    "    print('Num genes:', scores.shape[1])\n",
    "    print('Num cell lines:', scores.shape[0])\n",
    "    return scores"
   ]
  },
  {
   "cell_type": "code",
   "execution_count": 3,
   "metadata": {},
   "outputs": [
    {
     "name": "stdout",
     "output_type": "stream",
     "text": [
      "Num genes: 17059\n",
      "Num cell lines: 769\n"
     ]
    },
    {
     "data": {
      "text/html": [
       "<div>\n",
       "<style scoped>\n",
       "    .dataframe tbody tr th:only-of-type {\n",
       "        vertical-align: middle;\n",
       "    }\n",
       "\n",
       "    .dataframe tbody tr th {\n",
       "        vertical-align: top;\n",
       "    }\n",
       "\n",
       "    .dataframe thead th {\n",
       "        text-align: right;\n",
       "    }\n",
       "</style>\n",
       "<table border=\"1\" class=\"dataframe\">\n",
       "  <thead>\n",
       "    <tr style=\"text-align: right;\">\n",
       "      <th></th>\n",
       "      <th>SHOC2</th>\n",
       "      <th>NDUFA12</th>\n",
       "      <th>SDAD1</th>\n",
       "      <th>FAM98A</th>\n",
       "      <th>ZNF253</th>\n",
       "      <th>HIST1H2BF</th>\n",
       "      <th>SYNE2</th>\n",
       "      <th>BATF2</th>\n",
       "      <th>MYSM1</th>\n",
       "      <th>EIF2B1</th>\n",
       "      <th>...</th>\n",
       "      <th>OR2L3</th>\n",
       "      <th>LCE1A</th>\n",
       "      <th>GOLGA6B</th>\n",
       "      <th>NUTM2B</th>\n",
       "      <th>ARL1</th>\n",
       "      <th>IFNA5</th>\n",
       "      <th>SRSF10</th>\n",
       "      <th>STEAP1B</th>\n",
       "      <th>MTRNR2L4</th>\n",
       "      <th>UQCRH</th>\n",
       "    </tr>\n",
       "  </thead>\n",
       "  <tbody>\n",
       "    <tr>\n",
       "      <th>ACH-001382</th>\n",
       "      <td>0.199794</td>\n",
       "      <td>-0.357807</td>\n",
       "      <td>-0.782414</td>\n",
       "      <td>0.213824</td>\n",
       "      <td>-0.229356</td>\n",
       "      <td>0.467195</td>\n",
       "      <td>0.474444</td>\n",
       "      <td>-0.649686</td>\n",
       "      <td>-0.052942</td>\n",
       "      <td>-0.249298</td>\n",
       "      <td>...</td>\n",
       "      <td>0.696107</td>\n",
       "      <td>0.244203</td>\n",
       "      <td>-0.787002</td>\n",
       "      <td>0.533137</td>\n",
       "      <td>0.734482</td>\n",
       "      <td>0.566447</td>\n",
       "      <td>-0.923637</td>\n",
       "      <td>0.263324</td>\n",
       "      <td>1.273179</td>\n",
       "      <td>-1.514391</td>\n",
       "    </tr>\n",
       "    <tr>\n",
       "      <th>ACH-000250</th>\n",
       "      <td>-0.537444</td>\n",
       "      <td>0.418329</td>\n",
       "      <td>-1.733716</td>\n",
       "      <td>0.739527</td>\n",
       "      <td>-0.301952</td>\n",
       "      <td>0.325419</td>\n",
       "      <td>0.546188</td>\n",
       "      <td>-0.324785</td>\n",
       "      <td>0.661721</td>\n",
       "      <td>-3.411731</td>\n",
       "      <td>...</td>\n",
       "      <td>1.248000</td>\n",
       "      <td>-0.356356</td>\n",
       "      <td>-0.473046</td>\n",
       "      <td>1.274702</td>\n",
       "      <td>-0.115109</td>\n",
       "      <td>0.603122</td>\n",
       "      <td>-2.195696</td>\n",
       "      <td>0.537134</td>\n",
       "      <td>1.700918</td>\n",
       "      <td>-3.864593</td>\n",
       "    </tr>\n",
       "  </tbody>\n",
       "</table>\n",
       "<p>2 rows × 17059 columns</p>\n",
       "</div>"
      ],
      "text/plain": [
       "               SHOC2   NDUFA12     SDAD1    FAM98A    ZNF253  HIST1H2BF  \\\n",
       "ACH-001382  0.199794 -0.357807 -0.782414  0.213824 -0.229356   0.467195   \n",
       "ACH-000250 -0.537444  0.418329 -1.733716  0.739527 -0.301952   0.325419   \n",
       "\n",
       "               SYNE2     BATF2     MYSM1    EIF2B1  ...     OR2L3     LCE1A  \\\n",
       "ACH-001382  0.474444 -0.649686 -0.052942 -0.249298  ...  0.696107  0.244203   \n",
       "ACH-000250  0.546188 -0.324785  0.661721 -3.411731  ...  1.248000 -0.356356   \n",
       "\n",
       "             GOLGA6B    NUTM2B      ARL1     IFNA5    SRSF10   STEAP1B  \\\n",
       "ACH-001382 -0.787002  0.533137  0.734482  0.566447 -0.923637  0.263324   \n",
       "ACH-000250 -0.473046  1.274702 -0.115109  0.603122 -2.195696  0.537134   \n",
       "\n",
       "            MTRNR2L4     UQCRH  \n",
       "ACH-001382  1.273179 -1.514391  \n",
       "ACH-000250  1.700918 -3.864593  \n",
       "\n",
       "[2 rows x 17059 columns]"
      ]
     },
     "execution_count": 3,
     "metadata": {},
     "output_type": "execute_result"
    }
   ],
   "source": [
    "scores = load_ceres_scores(file_ceres_unscaled('depmap20Q2','16_04_21'))\n",
    "scores[:2]"
   ]
  },
  {
   "cell_type": "code",
   "execution_count": 4,
   "metadata": {},
   "outputs": [
    {
     "name": "stdout",
     "output_type": "stream",
     "text": [
      "Num genes: 16667\n",
      "Num cell lines: 318\n"
     ]
    },
    {
     "data": {
      "text/html": [
       "<div>\n",
       "<style scoped>\n",
       "    .dataframe tbody tr th:only-of-type {\n",
       "        vertical-align: middle;\n",
       "    }\n",
       "\n",
       "    .dataframe tbody tr th {\n",
       "        vertical-align: top;\n",
       "    }\n",
       "\n",
       "    .dataframe thead th {\n",
       "        text-align: right;\n",
       "    }\n",
       "</style>\n",
       "<table border=\"1\" class=\"dataframe\">\n",
       "  <thead>\n",
       "    <tr style=\"text-align: right;\">\n",
       "      <th></th>\n",
       "      <th>A1BG</th>\n",
       "      <th>A1CF</th>\n",
       "      <th>A2M</th>\n",
       "      <th>A2ML1</th>\n",
       "      <th>A3GALT2</th>\n",
       "      <th>A4GALT</th>\n",
       "      <th>A4GNT</th>\n",
       "      <th>AAAS</th>\n",
       "      <th>AACS</th>\n",
       "      <th>AADAC</th>\n",
       "      <th>...</th>\n",
       "      <th>ZUP1</th>\n",
       "      <th>ZW10</th>\n",
       "      <th>ZYG11B</th>\n",
       "      <th>ZYX</th>\n",
       "      <th>ZZEF1</th>\n",
       "      <th>ZZZ3</th>\n",
       "      <th>ZXDC</th>\n",
       "      <th>ZYG11A</th>\n",
       "      <th>ZWILCH</th>\n",
       "      <th>ZWINT</th>\n",
       "    </tr>\n",
       "  </thead>\n",
       "  <tbody>\n",
       "    <tr>\n",
       "      <th>ACH-000219</th>\n",
       "      <td>0.384011</td>\n",
       "      <td>0.704012</td>\n",
       "      <td>1.219393</td>\n",
       "      <td>0.936236</td>\n",
       "      <td>0.577844</td>\n",
       "      <td>0.522497</td>\n",
       "      <td>0.978978</td>\n",
       "      <td>0.734357</td>\n",
       "      <td>0.888314</td>\n",
       "      <td>1.041226</td>\n",
       "      <td>...</td>\n",
       "      <td>0.898198</td>\n",
       "      <td>0.480057</td>\n",
       "      <td>0.967753</td>\n",
       "      <td>0.49803</td>\n",
       "      <td>0.758928</td>\n",
       "      <td>0.136288</td>\n",
       "      <td>0.947427</td>\n",
       "      <td>0.893774</td>\n",
       "      <td>-0.137148</td>\n",
       "      <td>-1.456578</td>\n",
       "    </tr>\n",
       "    <tr>\n",
       "      <th>ACH-000997</th>\n",
       "      <td>0.866759</td>\n",
       "      <td>0.520705</td>\n",
       "      <td>1.218575</td>\n",
       "      <td>1.047627</td>\n",
       "      <td>0.774713</td>\n",
       "      <td>0.392238</td>\n",
       "      <td>0.737939</td>\n",
       "      <td>1.059298</td>\n",
       "      <td>0.792340</td>\n",
       "      <td>0.972492</td>\n",
       "      <td>...</td>\n",
       "      <td>1.049635</td>\n",
       "      <td>0.617007</td>\n",
       "      <td>0.855440</td>\n",
       "      <td>0.87184</td>\n",
       "      <td>0.666326</td>\n",
       "      <td>0.630190</td>\n",
       "      <td>0.803924</td>\n",
       "      <td>0.910231</td>\n",
       "      <td>-0.078818</td>\n",
       "      <td>-1.737490</td>\n",
       "    </tr>\n",
       "  </tbody>\n",
       "</table>\n",
       "<p>2 rows × 16667 columns</p>\n",
       "</div>"
      ],
      "text/plain": [
       "                A1BG      A1CF       A2M     A2ML1   A3GALT2    A4GALT  \\\n",
       "ACH-000219  0.384011  0.704012  1.219393  0.936236  0.577844  0.522497   \n",
       "ACH-000997  0.866759  0.520705  1.218575  1.047627  0.774713  0.392238   \n",
       "\n",
       "               A4GNT      AAAS      AACS     AADAC  ...      ZUP1      ZW10  \\\n",
       "ACH-000219  0.978978  0.734357  0.888314  1.041226  ...  0.898198  0.480057   \n",
       "ACH-000997  0.737939  1.059298  0.792340  0.972492  ...  1.049635  0.617007   \n",
       "\n",
       "              ZYG11B      ZYX     ZZEF1      ZZZ3      ZXDC    ZYG11A  \\\n",
       "ACH-000219  0.967753  0.49803  0.758928  0.136288  0.947427  0.893774   \n",
       "ACH-000997  0.855440  0.87184  0.666326  0.630190  0.803924  0.910231   \n",
       "\n",
       "              ZWILCH     ZWINT  \n",
       "ACH-000219 -0.137148 -1.456578  \n",
       "ACH-000997 -0.078818 -1.737490  \n",
       "\n",
       "[2 rows x 16667 columns]"
      ]
     },
     "execution_count": 4,
     "metadata": {},
     "output_type": "execute_result"
    }
   ],
   "source": [
    "sanger_scores = load_ceres_scores(file_ceres_unscaled('sanger','16_04_21'))\n",
    "sanger_scores[:2]"
   ]
  },
  {
   "cell_type": "markdown",
   "metadata": {},
   "source": [
    "#### 1. Drop genes targetted by too few guides (< 3)"
   ]
  },
  {
   "cell_type": "code",
   "execution_count": 5,
   "metadata": {},
   "outputs": [],
   "source": [
    "def drop_genes_w_too_few_guides(scores, fname):\n",
    "    # Drop genes that were targetted by too few guides (less than 3)\n",
    "    # Some genes that I expect to be included might not be there if there was no copy number data for them.\n",
    "    guides_per_gene = pd.read_csv(fname, index_col=0)\n",
    "    guides_per_gene = guides_per_gene.rename(columns={'ccds_symbol':'symbol'})\n",
    "    print('Genes in guide-gene map:', guides_per_gene.symbol.nunique())\n",
    "    display(guides_per_gene[:1])\n",
    "\n",
    "    print('Genes in CERES output that are not in my guide-per-gene map:')\n",
    "    print(scores.loc[:, ~scores.columns.isin(guides_per_gene.symbol)].columns.values)\n",
    "    # Check if any of the missing ones are protein-coding\n",
    "    id_map = pd.read_csv(file_id_map).dropna(subset=['entrez_id']).astype({'entrez_id':'int'})\n",
    "    print('Protein-coding:', id_map[id_map.symbol.isin(scores.loc[:,~scores.columns.isin(guides_per_gene.symbol)].columns) &\n",
    "                                     id_map.locus_type=='gene with protein product'].symbol.values)\n",
    "\n",
    "    # Check if there are genes that were not mapped by CERES\n",
    "    print('Genes in my guide-per-gene map that are not in CERES output:',\n",
    "          guides_per_gene[~guides_per_gene.symbol.isin(scores.columns)].symbol.values)\n",
    "\n",
    "    # Filter guides per gene down to genes that are in CERES output (additional genes dropped are due to NaN values)\n",
    "    guides_per_gene = guides_per_gene[guides_per_gene.symbol.isin(scores.columns)].reset_index(drop=True)\n",
    "    \n",
    "    # Genes without any guides were already filtered out\n",
    "    print('Genes w/ only 2 guides:', sum(guides_per_gene.guides_per_gene == 2))\n",
    "    print('Genes w/ only 1 guide:', sum(guides_per_gene.guides_per_gene == 1))\n",
    "    scores_filtered = scores.loc[:, scores.columns.isin(guides_per_gene[guides_per_gene.guides_per_gene >= 3].symbol)]\n",
    "    print('Num genes after filtering for too few guides:', scores_filtered.shape[1],'/', guides_per_gene.shape[0])\n",
    "    \n",
    "    return scores_filtered, guides_per_gene"
   ]
  },
  {
   "cell_type": "code",
   "execution_count": 6,
   "metadata": {},
   "outputs": [
    {
     "name": "stdout",
     "output_type": "stream",
     "text": [
      "Genes in guide-gene map: 17048\n"
     ]
    },
    {
     "data": {
      "text/html": [
       "<div>\n",
       "<style scoped>\n",
       "    .dataframe tbody tr th:only-of-type {\n",
       "        vertical-align: middle;\n",
       "    }\n",
       "\n",
       "    .dataframe tbody tr th {\n",
       "        vertical-align: top;\n",
       "    }\n",
       "\n",
       "    .dataframe thead th {\n",
       "        text-align: right;\n",
       "    }\n",
       "</style>\n",
       "<table border=\"1\" class=\"dataframe\">\n",
       "  <thead>\n",
       "    <tr style=\"text-align: right;\">\n",
       "      <th></th>\n",
       "      <th>symbol</th>\n",
       "      <th>entrez_id</th>\n",
       "      <th>guides_per_gene</th>\n",
       "    </tr>\n",
       "  </thead>\n",
       "  <tbody>\n",
       "    <tr>\n",
       "      <th>0</th>\n",
       "      <td>A1BG</td>\n",
       "      <td>1</td>\n",
       "      <td>4</td>\n",
       "    </tr>\n",
       "  </tbody>\n",
       "</table>\n",
       "</div>"
      ],
      "text/plain": [
       "  symbol  entrez_id  guides_per_gene\n",
       "0   A1BG          1                4"
      ]
     },
     "metadata": {},
     "output_type": "display_data"
    },
    {
     "name": "stdout",
     "output_type": "stream",
     "text": [
      "Genes in CERES output that are not in my guide-per-gene map:\n",
      "['ZNF286B' 'LOC102723996' 'CCDC144NL' 'TCP10' 'AKAP2' 'UGT2A2' 'PALM2'\n",
      " 'TCP10L2' 'PCDHA13' 'GDF5OS' 'FAM86C1' 'C9orf66']\n",
      "Protein-coding: []\n",
      "Genes in my guide-per-gene map that are not in CERES output: ['ICOSLG']\n",
      "Genes w/ only 2 guides: 363\n",
      "Genes w/ only 1 guide: 243\n",
      "Num genes after filtering for too few guides: 16441 / 17047\n"
     ]
    }
   ],
   "source": [
    "scores_1, guide_gene_map = drop_genes_w_too_few_guides(scores, file_guides_per_gene('depmap20Q2','16_04_21'))"
   ]
  },
  {
   "cell_type": "code",
   "execution_count": 7,
   "metadata": {},
   "outputs": [
    {
     "name": "stdout",
     "output_type": "stream",
     "text": [
      "Genes in guide-gene map: 16659\n"
     ]
    },
    {
     "data": {
      "text/html": [
       "<div>\n",
       "<style scoped>\n",
       "    .dataframe tbody tr th:only-of-type {\n",
       "        vertical-align: middle;\n",
       "    }\n",
       "\n",
       "    .dataframe tbody tr th {\n",
       "        vertical-align: top;\n",
       "    }\n",
       "\n",
       "    .dataframe thead th {\n",
       "        text-align: right;\n",
       "    }\n",
       "</style>\n",
       "<table border=\"1\" class=\"dataframe\">\n",
       "  <thead>\n",
       "    <tr style=\"text-align: right;\">\n",
       "      <th></th>\n",
       "      <th>symbol</th>\n",
       "      <th>entrez_id</th>\n",
       "      <th>guides_per_gene</th>\n",
       "    </tr>\n",
       "  </thead>\n",
       "  <tbody>\n",
       "    <tr>\n",
       "      <th>0</th>\n",
       "      <td>A1BG</td>\n",
       "      <td>1</td>\n",
       "      <td>5</td>\n",
       "    </tr>\n",
       "  </tbody>\n",
       "</table>\n",
       "</div>"
      ],
      "text/plain": [
       "  symbol  entrez_id  guides_per_gene\n",
       "0   A1BG          1                5"
      ]
     },
     "metadata": {},
     "output_type": "display_data"
    },
    {
     "name": "stdout",
     "output_type": "stream",
     "text": [
      "Genes in CERES output that are not in my guide-per-gene map:\n",
      "['AKAP2' 'CCDC144NL' 'GDF5OS' 'PALM2' 'PCDHB4' 'TCP10L2' 'UGT2A2'\n",
      " 'ZNF286B']\n",
      "Protein-coding: []\n",
      "Genes in my guide-per-gene map that are not in CERES output: []\n",
      "Genes w/ only 2 guides: 202\n",
      "Genes w/ only 1 guide: 189\n",
      "Num genes after filtering for too few guides: 16268 / 16659\n"
     ]
    }
   ],
   "source": [
    "sanger_scores_1, sanger_guide_gene_map = drop_genes_w_too_few_guides(sanger_scores, file_guides_per_gene('sanger','16_04_21'))"
   ]
  },
  {
   "cell_type": "markdown",
   "metadata": {},
   "source": [
    "#### 2. Drop genes not in original DepMap gene scores"
   ]
  },
  {
   "cell_type": "code",
   "execution_count": 8,
   "metadata": {},
   "outputs": [],
   "source": [
    "# Load DepMap scores\n",
    "depmap_scores_raw = pd.read_csv(file_depmap_scores('20Q2'), index_col=0)\n",
    "get_gene_symbol = lambda x: re.search('([\\w-]+)\\s\\(\\w+\\)', x).group(1)\n",
    "depmap_scores = depmap_scores_raw.rename(columns=get_gene_symbol)"
   ]
  },
  {
   "cell_type": "code",
   "execution_count": 9,
   "metadata": {},
   "outputs": [],
   "source": [
    "# Load DepMap Sanger scores\n",
    "depmap_sanger_scores_raw = pd.read_csv(file_depmap_scores('sanger'), index_col=0)\n",
    "depmap_sanger_scores = depmap_sanger_scores_raw.rename(columns=get_gene_symbol)"
   ]
  },
  {
   "cell_type": "code",
   "execution_count": 10,
   "metadata": {},
   "outputs": [],
   "source": [
    "def filter_non_depmap_genes(scores, depmap_scores):\n",
    "    scores_filtered = scores.loc[:, scores.columns.isin(depmap_scores.columns)]\n",
    "    print('Dropped genes:', scores.loc[:, ~scores.columns.isin(depmap_scores.columns)].columns.values)\n",
    "    print('After dropping genes not in DepMap:', scores_filtered.shape[1], '/', scores.shape[1])\n",
    "    return scores_filtered"
   ]
  },
  {
   "cell_type": "code",
   "execution_count": 11,
   "metadata": {},
   "outputs": [
    {
     "name": "stdout",
     "output_type": "stream",
     "text": [
      "Dropped genes: ['TRAPPC2B' 'ANKRD20A1' 'PALM2-AKAP2']\n",
      "After dropping genes not in DepMap: 16438 / 16441\n"
     ]
    }
   ],
   "source": [
    "# Drop genes that weren't in original DepMap gene score file (likely removed for a QC reason)\n",
    "scores_2 = filter_non_depmap_genes(scores_1, depmap_scores)"
   ]
  },
  {
   "cell_type": "code",
   "execution_count": 12,
   "metadata": {},
   "outputs": [
    {
     "name": "stdout",
     "output_type": "stream",
     "text": [
      "Dropped genes: ['PALM2-AKAP2']\n",
      "After dropping genes not in DepMap: 16267 / 16268\n"
     ]
    }
   ],
   "source": [
    "# Drop genes that weren't in original DepMap gene score file (likely removed for a QC reason)\n",
    "sanger_scores_2 = filter_non_depmap_genes(sanger_scores_1, depmap_sanger_scores)"
   ]
  },
  {
   "cell_type": "markdown",
   "metadata": {},
   "source": [
    "#### 3. Normalize CERES gene scores to reference essential/non-essential genes from DepMap"
   ]
  },
  {
   "cell_type": "code",
   "execution_count": 13,
   "metadata": {},
   "outputs": [
    {
     "data": {
      "text/html": [
       "<div>\n",
       "<style scoped>\n",
       "    .dataframe tbody tr th:only-of-type {\n",
       "        vertical-align: middle;\n",
       "    }\n",
       "\n",
       "    .dataframe tbody tr th {\n",
       "        vertical-align: top;\n",
       "    }\n",
       "\n",
       "    .dataframe thead th {\n",
       "        text-align: right;\n",
       "    }\n",
       "</style>\n",
       "<table border=\"1\" class=\"dataframe\">\n",
       "  <thead>\n",
       "    <tr style=\"text-align: right;\">\n",
       "      <th></th>\n",
       "      <th>gene</th>\n",
       "      <th>symbol</th>\n",
       "      <th>entrez_id</th>\n",
       "    </tr>\n",
       "  </thead>\n",
       "  <tbody>\n",
       "    <tr>\n",
       "      <th>0</th>\n",
       "      <td>AAMP (14)</td>\n",
       "      <td>AAMP</td>\n",
       "      <td>14</td>\n",
       "    </tr>\n",
       "  </tbody>\n",
       "</table>\n",
       "</div>"
      ],
      "text/plain": [
       "        gene symbol entrez_id\n",
       "0  AAMP (14)   AAMP        14"
      ]
     },
     "execution_count": 13,
     "metadata": {},
     "output_type": "execute_result"
    }
   ],
   "source": [
    "# Get the reference essential and non-essential set of genes to scale scores (downloaded from DepMap)\n",
    "get_gene_name = lambda x: re.search('([\\w-]+)\\s\\(\\w+\\)', x).group(1)\n",
    "get_gene_id = lambda x: re.search('[\\w-]+\\s\\((\\w+)\\)', x).group(1)\n",
    "\n",
    "ref_essential = pd.read_csv(file_ref_essentials)\n",
    "ref_essential = ref_essential.assign(symbol = ref_essential.gene.apply(get_gene_name),\n",
    "                                     entrez_id = ref_essential.gene.apply(get_gene_id))\n",
    "\n",
    "ref_non_essential = pd.read_csv(file_ref_nonessentials)\n",
    "ref_non_essential = ref_non_essential.assign(symbol = ref_non_essential.gene.apply(get_gene_name),\n",
    "                                             entrez_id = ref_non_essential.gene.apply(get_gene_id))\n",
    "ref_essential[:1]"
   ]
  },
  {
   "cell_type": "code",
   "execution_count": 15,
   "metadata": {},
   "outputs": [],
   "source": [
    "# Normalize CERES gene scores, per cell line, according to reference essential and non-essential genes\n",
    "# scale_to_essentials function is equivalent to scale_to_essentials in CERES package\n",
    "\n",
    "def scale_to_essentials(cell_line):\n",
    "    # (gene_score - median(non essentials) / median(non essentials) - median(essentials))\n",
    "    return ((cell_line - cell_line[cell_line.index.isin(ref_non_essential.symbol)].median()) / \n",
    "             (cell_line[cell_line.index.isin(ref_non_essential.symbol)].median() -\n",
    "              cell_line[cell_line.index.isin(ref_essential.symbol)].median()))\n",
    "\n",
    "def scale_scores_to_ref_essential_genes(scores):\n",
    "    print('N ref essentials in my data:', ref_essential[ref_essential.symbol.isin(scores.columns)].shape[0])\n",
    "    print('N ref non-essentials in my data:', ref_non_essential[ref_non_essential.symbol.isin(scores.columns)].shape[0])\n",
    "    # Normalize per cell line\n",
    "    scores_scaled = scores.apply(lambda line: scale_to_essentials(line), axis=1)\n",
    "    # Verify normalization\n",
    "    assert(scores_scaled.loc[:,scores_scaled.columns.isin(ref_essential.symbol)].median(axis=1).median() == -1)\n",
    "    assert(scores_scaled.loc[:,scores_scaled.columns.isin(ref_non_essential.symbol)].median(axis=1).median() == 0)\n",
    "    # Order index and columns\n",
    "    scores_scaled = scores_scaled.reindex(sorted(scores_scaled.columns), axis=1).sort_index()\n",
    "    assert(scores_scaled.shape[1]==scores.shape[1])\n",
    "    return scores_scaled"
   ]
  },
  {
   "cell_type": "code",
   "execution_count": 16,
   "metadata": {},
   "outputs": [
    {
     "name": "stdout",
     "output_type": "stream",
     "text": [
      "N ref essentials in my data: 1196\n",
      "N ref non-essentials in my data: 651\n"
     ]
    },
    {
     "data": {
      "text/html": [
       "<div>\n",
       "<style scoped>\n",
       "    .dataframe tbody tr th:only-of-type {\n",
       "        vertical-align: middle;\n",
       "    }\n",
       "\n",
       "    .dataframe tbody tr th {\n",
       "        vertical-align: top;\n",
       "    }\n",
       "\n",
       "    .dataframe thead th {\n",
       "        text-align: right;\n",
       "    }\n",
       "</style>\n",
       "<table border=\"1\" class=\"dataframe\">\n",
       "  <thead>\n",
       "    <tr style=\"text-align: right;\">\n",
       "      <th></th>\n",
       "      <th>A1BG</th>\n",
       "      <th>A1CF</th>\n",
       "      <th>A2M</th>\n",
       "      <th>A2ML1</th>\n",
       "      <th>A3GALT2</th>\n",
       "      <th>A4GALT</th>\n",
       "      <th>A4GNT</th>\n",
       "      <th>AAAS</th>\n",
       "      <th>AACS</th>\n",
       "      <th>AADAC</th>\n",
       "      <th>...</th>\n",
       "      <th>ZUP1</th>\n",
       "      <th>ZW10</th>\n",
       "      <th>ZWILCH</th>\n",
       "      <th>ZWINT</th>\n",
       "      <th>ZXDC</th>\n",
       "      <th>ZYG11A</th>\n",
       "      <th>ZYG11B</th>\n",
       "      <th>ZYX</th>\n",
       "      <th>ZZEF1</th>\n",
       "      <th>ZZZ3</th>\n",
       "    </tr>\n",
       "  </thead>\n",
       "  <tbody>\n",
       "    <tr>\n",
       "      <th>ACH-000004</th>\n",
       "      <td>0.152968</td>\n",
       "      <td>0.037153</td>\n",
       "      <td>-0.244197</td>\n",
       "      <td>-0.025637</td>\n",
       "      <td>-0.019579</td>\n",
       "      <td>-0.20799</td>\n",
       "      <td>0.309648</td>\n",
       "      <td>-0.443816</td>\n",
       "      <td>0.225697</td>\n",
       "      <td>0.144659</td>\n",
       "      <td>...</td>\n",
       "      <td>-0.239963</td>\n",
       "      <td>-0.198247</td>\n",
       "      <td>-0.132045</td>\n",
       "      <td>-0.460931</td>\n",
       "      <td>0.154466</td>\n",
       "      <td>0.169978</td>\n",
       "      <td>-0.477521</td>\n",
       "      <td>0.266874</td>\n",
       "      <td>0.10614</td>\n",
       "      <td>-0.216784</td>\n",
       "    </tr>\n",
       "  </tbody>\n",
       "</table>\n",
       "<p>1 rows × 16438 columns</p>\n",
       "</div>"
      ],
      "text/plain": [
       "                A1BG      A1CF       A2M     A2ML1   A3GALT2   A4GALT  \\\n",
       "ACH-000004  0.152968  0.037153 -0.244197 -0.025637 -0.019579 -0.20799   \n",
       "\n",
       "               A4GNT      AAAS      AACS     AADAC  ...      ZUP1      ZW10  \\\n",
       "ACH-000004  0.309648 -0.443816  0.225697  0.144659  ... -0.239963 -0.198247   \n",
       "\n",
       "              ZWILCH     ZWINT      ZXDC    ZYG11A    ZYG11B       ZYX  \\\n",
       "ACH-000004 -0.132045 -0.460931  0.154466  0.169978 -0.477521  0.266874   \n",
       "\n",
       "              ZZEF1      ZZZ3  \n",
       "ACH-000004  0.10614 -0.216784  \n",
       "\n",
       "[1 rows x 16438 columns]"
      ]
     },
     "execution_count": 16,
     "metadata": {},
     "output_type": "execute_result"
    }
   ],
   "source": [
    "scores_scaled = scale_scores_to_ref_essential_genes(scores_2)\n",
    "scores_scaled[:1]"
   ]
  },
  {
   "cell_type": "code",
   "execution_count": 17,
   "metadata": {},
   "outputs": [
    {
     "name": "stdout",
     "output_type": "stream",
     "text": [
      "N ref essentials in my data: 1181\n",
      "N ref non-essentials in my data: 585\n"
     ]
    },
    {
     "data": {
      "text/html": [
       "<div>\n",
       "<style scoped>\n",
       "    .dataframe tbody tr th:only-of-type {\n",
       "        vertical-align: middle;\n",
       "    }\n",
       "\n",
       "    .dataframe tbody tr th {\n",
       "        vertical-align: top;\n",
       "    }\n",
       "\n",
       "    .dataframe thead th {\n",
       "        text-align: right;\n",
       "    }\n",
       "</style>\n",
       "<table border=\"1\" class=\"dataframe\">\n",
       "  <thead>\n",
       "    <tr style=\"text-align: right;\">\n",
       "      <th></th>\n",
       "      <th>A1BG</th>\n",
       "      <th>A1CF</th>\n",
       "      <th>A2M</th>\n",
       "      <th>A2ML1</th>\n",
       "      <th>A3GALT2</th>\n",
       "      <th>A4GALT</th>\n",
       "      <th>A4GNT</th>\n",
       "      <th>AAAS</th>\n",
       "      <th>AACS</th>\n",
       "      <th>AADAC</th>\n",
       "      <th>...</th>\n",
       "      <th>ZUP1</th>\n",
       "      <th>ZW10</th>\n",
       "      <th>ZWILCH</th>\n",
       "      <th>ZWINT</th>\n",
       "      <th>ZXDC</th>\n",
       "      <th>ZYG11A</th>\n",
       "      <th>ZYG11B</th>\n",
       "      <th>ZYX</th>\n",
       "      <th>ZZEF1</th>\n",
       "      <th>ZZZ3</th>\n",
       "    </tr>\n",
       "  </thead>\n",
       "  <tbody>\n",
       "    <tr>\n",
       "      <th>ACH-000001</th>\n",
       "      <td>-0.402295</td>\n",
       "      <td>-0.229914</td>\n",
       "      <td>0.08239</td>\n",
       "      <td>-0.145481</td>\n",
       "      <td>-0.263255</td>\n",
       "      <td>0.079608</td>\n",
       "      <td>-0.27345</td>\n",
       "      <td>-0.189875</td>\n",
       "      <td>0.000872</td>\n",
       "      <td>0.111094</td>\n",
       "      <td>...</td>\n",
       "      <td>-0.008028</td>\n",
       "      <td>-0.262682</td>\n",
       "      <td>-0.200832</td>\n",
       "      <td>-0.315102</td>\n",
       "      <td>0.141383</td>\n",
       "      <td>-0.269534</td>\n",
       "      <td>-0.022532</td>\n",
       "      <td>0.134045</td>\n",
       "      <td>0.132889</td>\n",
       "      <td>-0.536921</td>\n",
       "    </tr>\n",
       "  </tbody>\n",
       "</table>\n",
       "<p>1 rows × 16267 columns</p>\n",
       "</div>"
      ],
      "text/plain": [
       "                A1BG      A1CF      A2M     A2ML1   A3GALT2    A4GALT  \\\n",
       "ACH-000001 -0.402295 -0.229914  0.08239 -0.145481 -0.263255  0.079608   \n",
       "\n",
       "              A4GNT      AAAS      AACS     AADAC  ...      ZUP1      ZW10  \\\n",
       "ACH-000001 -0.27345 -0.189875  0.000872  0.111094  ... -0.008028 -0.262682   \n",
       "\n",
       "              ZWILCH     ZWINT      ZXDC    ZYG11A    ZYG11B       ZYX  \\\n",
       "ACH-000001 -0.200832 -0.315102  0.141383 -0.269534 -0.022532  0.134045   \n",
       "\n",
       "               ZZEF1      ZZZ3  \n",
       "ACH-000001  0.132889 -0.536921  \n",
       "\n",
       "[1 rows x 16267 columns]"
      ]
     },
     "execution_count": 17,
     "metadata": {},
     "output_type": "execute_result"
    }
   ],
   "source": [
    "sanger_scores_scaled = scale_scores_to_ref_essential_genes(sanger_scores_2)\n",
    "sanger_scores_scaled[:1]"
   ]
  },
  {
   "cell_type": "markdown",
   "metadata": {},
   "source": [
    "#### 4. Create df with Entrez gene IDs"
   ]
  },
  {
   "cell_type": "code",
   "execution_count": 21,
   "metadata": {},
   "outputs": [],
   "source": [
    "# Also round to 4 significant digits to reduce the file size\n",
    "def set_cols_to_entrez_ids(scores, guide_gene_map):\n",
    "    final_scores = pd.merge(guide_gene_map[['symbol', 'entrez_id']], \n",
    "                            scores.T.reset_index().rename(columns={'index':'symbol'}))\n",
    "    final_scores = final_scores.drop(columns=['symbol']).astype({'entrez_id':'str'}).set_index('entrez_id').T\n",
    "    print('Final num genes:', final_scores.shape[1], ', cell lines:', final_scores.shape[0])\n",
    "    final_scores = final_scores.round(decimals=4)\n",
    "    return final_scores"
   ]
  },
  {
   "cell_type": "code",
   "execution_count": 25,
   "metadata": {},
   "outputs": [
    {
     "name": "stdout",
     "output_type": "stream",
     "text": [
      "Final num genes: 16438 , cell lines: 769\n",
      "N. genes dropped: 1681 / 18119\n"
     ]
    },
    {
     "data": {
      "text/html": [
       "<div>\n",
       "<style scoped>\n",
       "    .dataframe tbody tr th:only-of-type {\n",
       "        vertical-align: middle;\n",
       "    }\n",
       "\n",
       "    .dataframe tbody tr th {\n",
       "        vertical-align: top;\n",
       "    }\n",
       "\n",
       "    .dataframe thead th {\n",
       "        text-align: right;\n",
       "    }\n",
       "</style>\n",
       "<table border=\"1\" class=\"dataframe\">\n",
       "  <thead>\n",
       "    <tr style=\"text-align: right;\">\n",
       "      <th>entrez_id</th>\n",
       "      <th>1</th>\n",
       "      <th>29974</th>\n",
       "      <th>2</th>\n",
       "      <th>144568</th>\n",
       "      <th>127550</th>\n",
       "      <th>53947</th>\n",
       "      <th>51146</th>\n",
       "      <th>8086</th>\n",
       "      <th>65985</th>\n",
       "      <th>13</th>\n",
       "      <th>...</th>\n",
       "      <th>221302</th>\n",
       "      <th>9183</th>\n",
       "      <th>55055</th>\n",
       "      <th>11130</th>\n",
       "      <th>79364</th>\n",
       "      <th>440590</th>\n",
       "      <th>79699</th>\n",
       "      <th>7791</th>\n",
       "      <th>23140</th>\n",
       "      <th>26009</th>\n",
       "    </tr>\n",
       "  </thead>\n",
       "  <tbody>\n",
       "    <tr>\n",
       "      <th>ACH-000004</th>\n",
       "      <td>0.153</td>\n",
       "      <td>0.0372</td>\n",
       "      <td>-0.2442</td>\n",
       "      <td>-0.0256</td>\n",
       "      <td>-0.0196</td>\n",
       "      <td>-0.208</td>\n",
       "      <td>0.3096</td>\n",
       "      <td>-0.4438</td>\n",
       "      <td>0.2257</td>\n",
       "      <td>0.1447</td>\n",
       "      <td>...</td>\n",
       "      <td>-0.24</td>\n",
       "      <td>-0.1982</td>\n",
       "      <td>-0.132</td>\n",
       "      <td>-0.4609</td>\n",
       "      <td>0.1545</td>\n",
       "      <td>0.17</td>\n",
       "      <td>-0.4775</td>\n",
       "      <td>0.2669</td>\n",
       "      <td>0.1061</td>\n",
       "      <td>-0.2168</td>\n",
       "    </tr>\n",
       "  </tbody>\n",
       "</table>\n",
       "<p>1 rows × 16438 columns</p>\n",
       "</div>"
      ],
      "text/plain": [
       "entrez_id       1   29974       2  144568  127550  53947   51146    8086  \\\n",
       "ACH-000004  0.153  0.0372 -0.2442 -0.0256 -0.0196 -0.208  0.3096 -0.4438   \n",
       "\n",
       "entrez_id    65985      13  ...  221302    9183  55055   11130   79364  \\\n",
       "ACH-000004  0.2257  0.1447  ...   -0.24 -0.1982 -0.132 -0.4609  0.1545   \n",
       "\n",
       "entrez_id   440590   79699    7791   23140   26009  \n",
       "ACH-000004    0.17 -0.4775  0.2669  0.1061 -0.2168  \n",
       "\n",
       "[1 rows x 16438 columns]"
      ]
     },
     "execution_count": 25,
     "metadata": {},
     "output_type": "execute_result"
    }
   ],
   "source": [
    "final_scores = set_cols_to_entrez_ids(scores_scaled, guide_gene_map)\n",
    "print('N. genes dropped:',  depmap_scores.loc[:, ~depmap_scores.columns.isin(scores_scaled.columns)].shape[1], \n",
    "      '/', depmap_scores.shape[1])\n",
    "final_scores[:1]"
   ]
  },
  {
   "cell_type": "code",
   "execution_count": 28,
   "metadata": {},
   "outputs": [],
   "source": [
    "# Export\n",
    "final_scores.to_csv(file_gene_scores('depmap20Q2', '16_04_21'))"
   ]
  },
  {
   "cell_type": "code",
   "execution_count": 30,
   "metadata": {},
   "outputs": [],
   "source": [
    "# Also export scores as table S25\n",
    "final_scores.to_csv(file_table_s2)"
   ]
  },
  {
   "cell_type": "code",
   "execution_count": 26,
   "metadata": {},
   "outputs": [
    {
     "name": "stdout",
     "output_type": "stream",
     "text": [
      "Final num genes: 16267 , cell lines: 318\n",
      "N. genes dropped: 1532 / 17799\n"
     ]
    },
    {
     "data": {
      "text/html": [
       "<div>\n",
       "<style scoped>\n",
       "    .dataframe tbody tr th:only-of-type {\n",
       "        vertical-align: middle;\n",
       "    }\n",
       "\n",
       "    .dataframe tbody tr th {\n",
       "        vertical-align: top;\n",
       "    }\n",
       "\n",
       "    .dataframe thead th {\n",
       "        text-align: right;\n",
       "    }\n",
       "</style>\n",
       "<table border=\"1\" class=\"dataframe\">\n",
       "  <thead>\n",
       "    <tr style=\"text-align: right;\">\n",
       "      <th>entrez_id</th>\n",
       "      <th>1</th>\n",
       "      <th>29974</th>\n",
       "      <th>2</th>\n",
       "      <th>144568</th>\n",
       "      <th>127550</th>\n",
       "      <th>53947</th>\n",
       "      <th>51146</th>\n",
       "      <th>8086</th>\n",
       "      <th>65985</th>\n",
       "      <th>13</th>\n",
       "      <th>...</th>\n",
       "      <th>221302</th>\n",
       "      <th>9183</th>\n",
       "      <th>55055</th>\n",
       "      <th>11130</th>\n",
       "      <th>79364</th>\n",
       "      <th>440590</th>\n",
       "      <th>79699</th>\n",
       "      <th>7791</th>\n",
       "      <th>23140</th>\n",
       "      <th>26009</th>\n",
       "    </tr>\n",
       "  </thead>\n",
       "  <tbody>\n",
       "    <tr>\n",
       "      <th>ACH-000001</th>\n",
       "      <td>-0.4023</td>\n",
       "      <td>-0.2299</td>\n",
       "      <td>0.0824</td>\n",
       "      <td>-0.1455</td>\n",
       "      <td>-0.2633</td>\n",
       "      <td>0.0796</td>\n",
       "      <td>-0.2734</td>\n",
       "      <td>-0.1899</td>\n",
       "      <td>0.0009</td>\n",
       "      <td>0.1111</td>\n",
       "      <td>...</td>\n",
       "      <td>-0.008</td>\n",
       "      <td>-0.2627</td>\n",
       "      <td>-0.2008</td>\n",
       "      <td>-0.3151</td>\n",
       "      <td>0.1414</td>\n",
       "      <td>-0.2695</td>\n",
       "      <td>-0.0225</td>\n",
       "      <td>0.134</td>\n",
       "      <td>0.1329</td>\n",
       "      <td>-0.5369</td>\n",
       "    </tr>\n",
       "  </tbody>\n",
       "</table>\n",
       "<p>1 rows × 16267 columns</p>\n",
       "</div>"
      ],
      "text/plain": [
       "entrez_id        1   29974       2  144568  127550   53947   51146    8086  \\\n",
       "ACH-000001 -0.4023 -0.2299  0.0824 -0.1455 -0.2633  0.0796 -0.2734 -0.1899   \n",
       "\n",
       "entrez_id    65985      13  ...  221302    9183   55055   11130   79364  \\\n",
       "ACH-000001  0.0009  0.1111  ...  -0.008 -0.2627 -0.2008 -0.3151  0.1414   \n",
       "\n",
       "entrez_id   440590   79699   7791   23140   26009  \n",
       "ACH-000001 -0.2695 -0.0225  0.134  0.1329 -0.5369  \n",
       "\n",
       "[1 rows x 16267 columns]"
      ]
     },
     "execution_count": 26,
     "metadata": {},
     "output_type": "execute_result"
    }
   ],
   "source": [
    "final_sanger_scores = set_cols_to_entrez_ids(sanger_scores_scaled, sanger_guide_gene_map)\n",
    "print('N. genes dropped:',  \n",
    "      depmap_sanger_scores.loc[:, ~depmap_sanger_scores.columns.isin(sanger_scores_scaled.columns)].shape[1], \n",
    "      '/', depmap_sanger_scores.shape[1])\n",
    "final_sanger_scores[:1]"
   ]
  },
  {
   "cell_type": "code",
   "execution_count": 29,
   "metadata": {},
   "outputs": [],
   "source": [
    "# Export\n",
    "final_sanger_scores.to_csv(file_gene_scores('sanger', '16_04_21'))"
   ]
  },
  {
   "cell_type": "markdown",
   "metadata": {},
   "source": [
    "### Precision-recall analysis with the DepMap reference essentials"
   ]
  },
  {
   "cell_type": "code",
   "execution_count": 31,
   "metadata": {},
   "outputs": [],
   "source": [
    "def compute_AUC_for_cell_line(scores, true_values):\n",
    "    precision, recall, _ = precision_recall_curve(true_values, -scores)\n",
    "    return auc(recall, precision)\n",
    "\n",
    "def compute_AP_for_cell_line(scores, true_values):\n",
    "    return average_precision_score(true_values, -scores)\n",
    "\n",
    "def compute_metrics(scores, essentials, nonessentials):\n",
    "    scores = scores.T.reset_index().rename(columns={'index':'symbol'})\n",
    "    # Reduce scores down to essential and non-essential genes\n",
    "    scores = scores[scores.symbol.isin(essentials.symbol) | scores.symbol.isin(nonessentials.symbol)]\n",
    "    true_values = scores.symbol.apply(lambda x: 1 if x in essentials.symbol.values else 0).values\n",
    "    scores = scores.set_index('symbol')\n",
    "    aucs = scores.apply(lambda x: compute_AUC_for_cell_line(x, true_values))\n",
    "    aps = scores.apply(lambda x: compute_AP_for_cell_line(x, true_values))\n",
    "    return aucs, aps\n",
    "\n",
    "def compute_metrics_for_orig_and_reprocessed(orig_scores, reprocessed_scores):\n",
    "    # Reduce scores down to overlapping genes and cell lines\n",
    "    orig_overlap = orig_scores.loc[orig_scores.index.isin(reprocessed_scores.index), \n",
    "                                   orig_scores.columns.isin(reprocessed_scores.columns)]\n",
    "    # Drop cell lines that have NA scores in DepMap and then scale to essentials\n",
    "    orig_overlap = orig_overlap.dropna(axis=0)\n",
    "    orig_overlap = orig_overlap.apply(lambda line: scale_to_essentials(line), axis=1)\n",
    "    \n",
    "    reprocessed_overlap = reprocessed_scores.loc[reprocessed_scores.index.isin(orig_overlap.index),\n",
    "                                                 reprocessed_scores.columns.isin(orig_overlap.columns)]\n",
    "    reprocessed_overlap = reprocessed_overlap.apply(lambda line: scale_to_essentials(line), axis=1)\n",
    "    print(reprocessed_overlap.shape, '==', orig_overlap.shape)\n",
    "    \n",
    "    orig_auc, orig_ap = compute_metrics(orig_overlap, ref_essential, ref_non_essential)\n",
    "    print('Mean AUC for original gene scores: %.6f, AP: %.6f' % (orig_auc.mean(), orig_auc.mean()))\n",
    "    \n",
    "    reprocessed_auc, reprocessed_ap = compute_metrics(reprocessed_overlap, ref_essential, ref_non_essential)\n",
    "    print('Mean AUC for reprocessed gene scores: mean: %.6f, AP: %.6f' % (reprocessed_auc.mean(), reprocessed_ap.mean()))"
   ]
  },
  {
   "cell_type": "code",
   "execution_count": 32,
   "metadata": {},
   "outputs": [
    {
     "name": "stdout",
     "output_type": "stream",
     "text": [
      "(757, 16438) == (757, 16438)\n",
      "Mean AUC for original gene scores: 0.988319, AP: 0.988319\n",
      "Mean AUC for reprocessed gene scores: mean: 0.988115, AP: 0.988119\n"
     ]
    }
   ],
   "source": [
    "compute_metrics_for_orig_and_reprocessed(depmap_scores, scores_scaled)"
   ]
  },
  {
   "cell_type": "code",
   "execution_count": 33,
   "metadata": {},
   "outputs": [
    {
     "name": "stdout",
     "output_type": "stream",
     "text": [
      "(318, 16267) == (318, 16267)\n",
      "Mean AUC for original gene scores: 0.984366, AP: 0.984366\n",
      "Mean AUC for reprocessed gene scores: mean: 0.984972, AP: 0.984978\n"
     ]
    }
   ],
   "source": [
    "compute_metrics_for_orig_and_reprocessed(depmap_sanger_scores, sanger_scores_scaled)"
   ]
  }
 ],
 "metadata": {
  "kernelspec": {
   "display_name": "Python 3",
   "language": "python",
   "name": "python3"
  },
  "language_info": {
   "codemirror_mode": {
    "name": "ipython",
    "version": 3
   },
   "file_extension": ".py",
   "mimetype": "text/x-python",
   "name": "python",
   "nbconvert_exporter": "python",
   "pygments_lexer": "ipython3",
   "version": "3.7.1"
  }
 },
 "nbformat": 4,
 "nbformat_minor": 2
}
