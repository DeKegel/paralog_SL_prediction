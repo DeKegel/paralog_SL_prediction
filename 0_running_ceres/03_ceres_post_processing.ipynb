{
 "cells": [
  {
   "cell_type": "markdown",
   "metadata": {},
   "source": [
    "## CERES post-processing\n",
    "\n",
    "**Input:**\n",
    "CERES output file (a score for each gene in each cell line)\n",
    "\n",
    "**Output:**\n",
    "Cleaned up and filtered gene scores file to use for the rest of the analysis\n",
    "\n",
    "For the output, use the same format as the table from DepMap.  \n",
    "* Genes as column headings\n",
    "* Cell lines as rows\n",
    "\n",
    "Post-processing steps:\n",
    "1. Filter out genes that were not targeted by enough guides (less than 3).  \n",
    "2. Drop genes dropped by DepMap (for quality reasons, i.e. no unique guides).  \n",
    "3. Rescale scores to the reference essentials / non-essentials.\n",
    "4. Update genes (columns) to Entrez IDs."
   ]
  },
  {
   "cell_type": "code",
   "execution_count": 65,
   "metadata": {},
   "outputs": [],
   "source": [
    "import pandas as pd\n",
    "import numpy as np\n",
    "import os\n",
    "import re\n",
    "from sklearn.metrics import auc\n",
    "from sklearn.metrics import precision_recall_curve, average_precision_score\n",
    "import matplotlib.pyplot as plt\n",
    "import sklearn.decomposition\n",
    "\n",
    "get_data_path = lambda folders, fname: os.path.normpath(os.environ['3RD_PARTY_DIR']+'/'+'/'.join(folders) +'/'+fname)\n",
    "get_local_data_path = lambda folders, fname: os.path.normpath('../local_data/' +'/'.join(folders) +'/'+ fname)\n",
    "\n",
    "# Input from running CERES / sgRNA mapping\n",
    "file_ceres_unscaled = get_local_data_path(['processed', 'depmap20Q2'], 'ceres_gene_unscaled_26_05_20.csv')\n",
    "file_guides_per_gene = get_local_data_path(['processed', 'depmap20Q2'], 'guides_per_gene_26_05_20.csv')\n",
    "\n",
    "# Inputs from DepMap\n",
    "# 20Q2 positive controls: intersection of Hart (2015) and Blomen (2014)\n",
    "file_ref_essentials = get_data_path(['depmap', '20Q2'], 'common_essentials.csv')\n",
    "file_ref_nonessentials = get_data_path(['depmap', '20Q2'], 'nonessentials.csv')\n",
    "file_depmap_scores = get_data_path(['depmap', '20Q2'], 'Achilles_gene_effect_unscaled.csv')\n",
    "\n",
    "file_id_map = get_local_data_path(['processed'], 'HGNC_gene_id_map.csv')\n",
    "\n",
    "# OUTPUT\n",
    "file_gene_scores = get_local_data_path(['processed', 'depmap20Q2'], 'gene_scores_26_05_20.csv')\n",
    "file_table_s2 = get_local_data_path(['supplemental_files'], 'Table_S2.csv')"
   ]
  },
  {
   "cell_type": "markdown",
   "metadata": {},
   "source": [
    "### Filter & normalize CERES output"
   ]
  },
  {
   "cell_type": "code",
   "execution_count": 42,
   "metadata": {},
   "outputs": [
    {
     "name": "stdout",
     "output_type": "stream",
     "text": [
      "Num genes: 17056\n",
      "Num cell lines: 769\n"
     ]
    },
    {
     "data": {
      "text/html": [
       "<div>\n",
       "<style scoped>\n",
       "    .dataframe tbody tr th:only-of-type {\n",
       "        vertical-align: middle;\n",
       "    }\n",
       "\n",
       "    .dataframe tbody tr th {\n",
       "        vertical-align: top;\n",
       "    }\n",
       "\n",
       "    .dataframe thead th {\n",
       "        text-align: right;\n",
       "    }\n",
       "</style>\n",
       "<table border=\"1\" class=\"dataframe\">\n",
       "  <thead>\n",
       "    <tr style=\"text-align: right;\">\n",
       "      <th></th>\n",
       "      <th>SHOC2</th>\n",
       "      <th>NDUFA12</th>\n",
       "      <th>SDAD1</th>\n",
       "      <th>FAM98A</th>\n",
       "      <th>ZNF253</th>\n",
       "      <th>HIST1H2BF</th>\n",
       "      <th>SYNE2</th>\n",
       "      <th>BATF2</th>\n",
       "      <th>MYSM1</th>\n",
       "      <th>EIF2B1</th>\n",
       "      <th>...</th>\n",
       "      <th>OR2L3</th>\n",
       "      <th>LCE1A</th>\n",
       "      <th>GOLGA6B</th>\n",
       "      <th>NUTM2B</th>\n",
       "      <th>ARL1</th>\n",
       "      <th>IFNA5</th>\n",
       "      <th>SRSF10</th>\n",
       "      <th>STEAP1B</th>\n",
       "      <th>MTRNR2L4</th>\n",
       "      <th>UQCRH</th>\n",
       "    </tr>\n",
       "  </thead>\n",
       "  <tbody>\n",
       "    <tr>\n",
       "      <th>ACH-001382</th>\n",
       "      <td>0.199746</td>\n",
       "      <td>-0.357730</td>\n",
       "      <td>-0.782451</td>\n",
       "      <td>0.213855</td>\n",
       "      <td>-0.229298</td>\n",
       "      <td>0.467091</td>\n",
       "      <td>0.474494</td>\n",
       "      <td>-0.649738</td>\n",
       "      <td>-0.053038</td>\n",
       "      <td>-0.249300</td>\n",
       "      <td>...</td>\n",
       "      <td>0.695681</td>\n",
       "      <td>0.244071</td>\n",
       "      <td>-0.787054</td>\n",
       "      <td>0.533119</td>\n",
       "      <td>0.734525</td>\n",
       "      <td>0.566570</td>\n",
       "      <td>-0.923810</td>\n",
       "      <td>0.263426</td>\n",
       "      <td>1.273218</td>\n",
       "      <td>-1.514653</td>\n",
       "    </tr>\n",
       "    <tr>\n",
       "      <th>ACH-000250</th>\n",
       "      <td>-0.537468</td>\n",
       "      <td>0.418319</td>\n",
       "      <td>-1.733739</td>\n",
       "      <td>0.739512</td>\n",
       "      <td>-0.301952</td>\n",
       "      <td>0.325332</td>\n",
       "      <td>0.546244</td>\n",
       "      <td>-0.324830</td>\n",
       "      <td>0.661585</td>\n",
       "      <td>-3.411545</td>\n",
       "      <td>...</td>\n",
       "      <td>1.248170</td>\n",
       "      <td>-0.356473</td>\n",
       "      <td>-0.473085</td>\n",
       "      <td>1.274457</td>\n",
       "      <td>-0.115068</td>\n",
       "      <td>0.603075</td>\n",
       "      <td>-2.195758</td>\n",
       "      <td>0.537216</td>\n",
       "      <td>1.700887</td>\n",
       "      <td>-3.864688</td>\n",
       "    </tr>\n",
       "  </tbody>\n",
       "</table>\n",
       "<p>2 rows × 17056 columns</p>\n",
       "</div>"
      ],
      "text/plain": [
       "               SHOC2   NDUFA12     SDAD1    FAM98A    ZNF253  HIST1H2BF  \\\n",
       "ACH-001382  0.199746 -0.357730 -0.782451  0.213855 -0.229298   0.467091   \n",
       "ACH-000250 -0.537468  0.418319 -1.733739  0.739512 -0.301952   0.325332   \n",
       "\n",
       "               SYNE2     BATF2     MYSM1    EIF2B1  ...     OR2L3     LCE1A  \\\n",
       "ACH-001382  0.474494 -0.649738 -0.053038 -0.249300  ...  0.695681  0.244071   \n",
       "ACH-000250  0.546244 -0.324830  0.661585 -3.411545  ...  1.248170 -0.356473   \n",
       "\n",
       "             GOLGA6B    NUTM2B      ARL1     IFNA5    SRSF10   STEAP1B  \\\n",
       "ACH-001382 -0.787054  0.533119  0.734525  0.566570 -0.923810  0.263426   \n",
       "ACH-000250 -0.473085  1.274457 -0.115068  0.603075 -2.195758  0.537216   \n",
       "\n",
       "            MTRNR2L4     UQCRH  \n",
       "ACH-001382  1.273218 -1.514653  \n",
       "ACH-000250  1.700887 -3.864688  \n",
       "\n",
       "[2 rows x 17056 columns]"
      ]
     },
     "execution_count": 42,
     "metadata": {},
     "output_type": "execute_result"
    }
   ],
   "source": [
    "scores_raw = pd.read_csv(file_ceres_unscaled, index_col=0)\n",
    "scores = scores_raw.T\n",
    "scores = scores.dropna(axis=1, how='all') # Drop columns (genes) where all values are NaN\n",
    "scores.index = scores.index.str.replace('.','-')\n",
    "print('Num genes:', scores.shape[1])\n",
    "print('Num cell lines:', scores.shape[0])\n",
    "scores[:2]"
   ]
  },
  {
   "cell_type": "markdown",
   "metadata": {},
   "source": [
    "#### 1. Drop genes targetted by too few guides (< 3)"
   ]
  },
  {
   "cell_type": "code",
   "execution_count": 43,
   "metadata": {},
   "outputs": [
    {
     "name": "stdout",
     "output_type": "stream",
     "text": [
      "Genes in guide-gene map: 17047\n"
     ]
    },
    {
     "data": {
      "text/html": [
       "<div>\n",
       "<style scoped>\n",
       "    .dataframe tbody tr th:only-of-type {\n",
       "        vertical-align: middle;\n",
       "    }\n",
       "\n",
       "    .dataframe tbody tr th {\n",
       "        vertical-align: top;\n",
       "    }\n",
       "\n",
       "    .dataframe thead th {\n",
       "        text-align: right;\n",
       "    }\n",
       "</style>\n",
       "<table border=\"1\" class=\"dataframe\">\n",
       "  <thead>\n",
       "    <tr style=\"text-align: right;\">\n",
       "      <th></th>\n",
       "      <th>symbol</th>\n",
       "      <th>entrez_id</th>\n",
       "      <th>guides_per_gene</th>\n",
       "    </tr>\n",
       "  </thead>\n",
       "  <tbody>\n",
       "    <tr>\n",
       "      <th>0</th>\n",
       "      <td>A1BG</td>\n",
       "      <td>1</td>\n",
       "      <td>4</td>\n",
       "    </tr>\n",
       "    <tr>\n",
       "      <th>1</th>\n",
       "      <td>A1CF</td>\n",
       "      <td>29974</td>\n",
       "      <td>4</td>\n",
       "    </tr>\n",
       "  </tbody>\n",
       "</table>\n",
       "</div>"
      ],
      "text/plain": [
       "  symbol  entrez_id  guides_per_gene\n",
       "0   A1BG          1                4\n",
       "1   A1CF      29974                4"
      ]
     },
     "metadata": {},
     "output_type": "display_data"
    },
    {
     "name": "stdout",
     "output_type": "stream",
     "text": [
      "Genes in CERES output that are not in my guide-per-gene map:\n"
     ]
    },
    {
     "data": {
      "text/plain": [
       "Index(['ZNF286B', 'LOC102723996', 'CCDC144NL', 'TCP10', 'UGT2A2', 'TCP10L2',\n",
       "       'PCDHA13', 'GDF5OS', 'FAM86C1', 'C9orf66'],\n",
       "      dtype='object')"
      ]
     },
     "metadata": {},
     "output_type": "display_data"
    },
    {
     "name": "stdout",
     "output_type": "stream",
     "text": [
      "Genes in my guide-per-gene map that are not in CERES output:\n",
      "[]\n",
      "Filtered guide-per-gene map: 17046\n"
     ]
    }
   ],
   "source": [
    "# Drop genes that were targetted by too few guides (less than 3)\n",
    "# Some genes that I expect to be included might not be there if there was no copy number data for them.\n",
    "guides_per_gene = pd.read_csv(file_guides_per_gene, index_col=0)\n",
    "guides_per_gene = guides_per_gene.rename(columns={'ccds_symbol':'symbol'})\n",
    "print('Genes in guide-gene map:', guides_per_gene.symbol.nunique())\n",
    "display(guides_per_gene[:2])\n",
    "\n",
    "print('Genes in CERES output that are not in my guide-per-gene map:')\n",
    "display(scores.loc[:, ~scores.columns.isin(guides_per_gene.symbol)].columns)\n",
    "# Check if any of the missing ones are protein-coding\n",
    "id_map = pd.read_csv(file_id_map).dropna(subset=['entrez_id']).astype({'entrez_id':'int'})\n",
    "#display(id_map[id_map.symbol.isin(scores.loc[:,~scores.columns.isin(guides_per_gene.symbol)].columns)])\n",
    "\n",
    "# Check raw scores\n",
    "print('Genes in my guide-per-gene map that are not in CERES output:')\n",
    "print(guides_per_gene[~guides_per_gene.symbol.isin(scores_raw.index)].symbol.values)\n",
    "\n",
    "# Filter guides per gene down to genes that are in CERES output (additional genes dropped are due to NaN values)\n",
    "guides_per_gene = guides_per_gene[guides_per_gene.symbol.isin(scores.columns)]\n",
    "print('Filtered guide-per-gene map:', guides_per_gene.shape[0])"
   ]
  },
  {
   "cell_type": "code",
   "execution_count": 44,
   "metadata": {},
   "outputs": [
    {
     "data": {
      "text/html": [
       "<div>\n",
       "<style scoped>\n",
       "    .dataframe tbody tr th:only-of-type {\n",
       "        vertical-align: middle;\n",
       "    }\n",
       "\n",
       "    .dataframe tbody tr th {\n",
       "        vertical-align: top;\n",
       "    }\n",
       "\n",
       "    .dataframe thead th {\n",
       "        text-align: right;\n",
       "    }\n",
       "</style>\n",
       "<table border=\"1\" class=\"dataframe\">\n",
       "  <thead>\n",
       "    <tr style=\"text-align: right;\">\n",
       "      <th></th>\n",
       "      <th>symbol</th>\n",
       "      <th>entrez_id</th>\n",
       "      <th>guides_per_gene</th>\n",
       "    </tr>\n",
       "  </thead>\n",
       "  <tbody>\n",
       "    <tr>\n",
       "      <th>15711</th>\n",
       "      <td>UBC</td>\n",
       "      <td>7316</td>\n",
       "      <td>2</td>\n",
       "    </tr>\n",
       "  </tbody>\n",
       "</table>\n",
       "</div>"
      ],
      "text/plain": [
       "      symbol  entrez_id  guides_per_gene\n",
       "15711    UBC       7316                2"
      ]
     },
     "execution_count": 44,
     "metadata": {},
     "output_type": "execute_result"
    }
   ],
   "source": [
    "guides_per_gene[guides_per_gene.symbol=='UBC']"
   ]
  },
  {
   "cell_type": "code",
   "execution_count": 45,
   "metadata": {},
   "outputs": [
    {
     "name": "stdout",
     "output_type": "stream",
     "text": [
      "Genes w/ 3 guides: 1509\n",
      "Genes w/ 2 guides: 363\n",
      "Genes w/ 1 guide: 243\n",
      "Num genes after filtering for too few guides: 16440 / 17046\n"
     ]
    }
   ],
   "source": [
    "# Genes without any guides were already filtered out\n",
    "print('Genes w/ 3 guides:', sum(guides_per_gene.guides_per_gene == 3))\n",
    "print('Genes w/ 2 guides:', sum(guides_per_gene.guides_per_gene == 2))\n",
    "print('Genes w/ 1 guide:', sum(guides_per_gene.guides_per_gene == 1))\n",
    "scores_filtered = scores.loc[:, scores.columns.isin(guides_per_gene[guides_per_gene.guides_per_gene >= 3].symbol)]\n",
    "print('Num genes after filtering for too few guides:', scores_filtered.shape[1],'/', guides_per_gene.shape[0])"
   ]
  },
  {
   "cell_type": "markdown",
   "metadata": {},
   "source": [
    "#### 2. Drop genes not in DepMap gene scores\n",
    "\n",
    "Some genes are marked with \"No Unique Guides\" in DepMap portal: A gene which shares all of its guides with other genes. Dropped from post-CERES files beginning 20Q1 due to inaccurate CERES scores."
   ]
  },
  {
   "cell_type": "code",
   "execution_count": 46,
   "metadata": {},
   "outputs": [],
   "source": [
    "# Load DepMap scores\n",
    "depmap_scores_raw = pd.read_csv(file_depmap_scores, index_col=0)"
   ]
  },
  {
   "cell_type": "code",
   "execution_count": 47,
   "metadata": {
    "scrolled": false
   },
   "outputs": [
    {
     "name": "stdout",
     "output_type": "stream",
     "text": [
      "(769, 18119)\n"
     ]
    },
    {
     "data": {
      "text/html": [
       "<div>\n",
       "<style scoped>\n",
       "    .dataframe tbody tr th:only-of-type {\n",
       "        vertical-align: middle;\n",
       "    }\n",
       "\n",
       "    .dataframe tbody tr th {\n",
       "        vertical-align: top;\n",
       "    }\n",
       "\n",
       "    .dataframe thead th {\n",
       "        text-align: right;\n",
       "    }\n",
       "</style>\n",
       "<table border=\"1\" class=\"dataframe\">\n",
       "  <thead>\n",
       "    <tr style=\"text-align: right;\">\n",
       "      <th></th>\n",
       "      <th>A1BG (1)</th>\n",
       "      <th>A1CF (29974)</th>\n",
       "      <th>A2M (2)</th>\n",
       "      <th>A2ML1 (144568)</th>\n",
       "      <th>A3GALT2 (127550)</th>\n",
       "      <th>A4GALT (53947)</th>\n",
       "      <th>A4GNT (51146)</th>\n",
       "      <th>AAAS (8086)</th>\n",
       "      <th>AACS (65985)</th>\n",
       "      <th>AADAC (13)</th>\n",
       "      <th>...</th>\n",
       "      <th>ZWILCH (55055)</th>\n",
       "      <th>ZWINT (11130)</th>\n",
       "      <th>ZXDA (7789)</th>\n",
       "      <th>ZXDB (158586)</th>\n",
       "      <th>ZXDC (79364)</th>\n",
       "      <th>ZYG11A (440590)</th>\n",
       "      <th>ZYG11B (79699)</th>\n",
       "      <th>ZYX (7791)</th>\n",
       "      <th>ZZEF1 (23140)</th>\n",
       "      <th>ZZZ3 (26009)</th>\n",
       "    </tr>\n",
       "    <tr>\n",
       "      <th>DepMap_ID</th>\n",
       "      <th></th>\n",
       "      <th></th>\n",
       "      <th></th>\n",
       "      <th></th>\n",
       "      <th></th>\n",
       "      <th></th>\n",
       "      <th></th>\n",
       "      <th></th>\n",
       "      <th></th>\n",
       "      <th></th>\n",
       "      <th></th>\n",
       "      <th></th>\n",
       "      <th></th>\n",
       "      <th></th>\n",
       "      <th></th>\n",
       "      <th></th>\n",
       "      <th></th>\n",
       "      <th></th>\n",
       "      <th></th>\n",
       "      <th></th>\n",
       "      <th></th>\n",
       "    </tr>\n",
       "  </thead>\n",
       "  <tbody>\n",
       "    <tr>\n",
       "      <th>ACH-000004</th>\n",
       "      <td>0.550556</td>\n",
       "      <td>0.31976</td>\n",
       "      <td>-0.191171</td>\n",
       "      <td>0.198493</td>\n",
       "      <td>0.247514</td>\n",
       "      <td>-0.117256</td>\n",
       "      <td>0.816571</td>\n",
       "      <td>-0.559049</td>\n",
       "      <td>0.657462</td>\n",
       "      <td>0.507134</td>\n",
       "      <td>...</td>\n",
       "      <td>0.013756</td>\n",
       "      <td>-0.581937</td>\n",
       "      <td>NaN</td>\n",
       "      <td>NaN</td>\n",
       "      <td>0.526685</td>\n",
       "      <td>0.592893</td>\n",
       "      <td>-0.573396</td>\n",
       "      <td>0.728964</td>\n",
       "      <td>0.443095</td>\n",
       "      <td>-0.114864</td>\n",
       "    </tr>\n",
       "  </tbody>\n",
       "</table>\n",
       "<p>1 rows × 18119 columns</p>\n",
       "</div>"
      ],
      "text/plain": [
       "            A1BG (1)  A1CF (29974)   A2M (2)  A2ML1 (144568)  \\\n",
       "DepMap_ID                                                      \n",
       "ACH-000004  0.550556       0.31976 -0.191171        0.198493   \n",
       "\n",
       "            A3GALT2 (127550)  A4GALT (53947)  A4GNT (51146)  AAAS (8086)  \\\n",
       "DepMap_ID                                                                  \n",
       "ACH-000004          0.247514       -0.117256       0.816571    -0.559049   \n",
       "\n",
       "            AACS (65985)  AADAC (13)  ...  ZWILCH (55055)  ZWINT (11130)  \\\n",
       "DepMap_ID                             ...                                  \n",
       "ACH-000004      0.657462    0.507134  ...        0.013756      -0.581937   \n",
       "\n",
       "            ZXDA (7789)  ZXDB (158586)  ZXDC (79364)  ZYG11A (440590)  \\\n",
       "DepMap_ID                                                               \n",
       "ACH-000004          NaN            NaN      0.526685         0.592893   \n",
       "\n",
       "            ZYG11B (79699)  ZYX (7791)  ZZEF1 (23140)  ZZZ3 (26009)  \n",
       "DepMap_ID                                                            \n",
       "ACH-000004       -0.573396    0.728964       0.443095     -0.114864  \n",
       "\n",
       "[1 rows x 18119 columns]"
      ]
     },
     "execution_count": 47,
     "metadata": {},
     "output_type": "execute_result"
    }
   ],
   "source": [
    "print(depmap_scores_raw.shape)\n",
    "depmap_scores_raw[:1]"
   ]
  },
  {
   "cell_type": "code",
   "execution_count": 48,
   "metadata": {},
   "outputs": [],
   "source": [
    "get_gene_symbol = lambda x: re.search('([\\w-]+)\\s\\(\\w+\\)', x).group(1)\n",
    "depmap_scores = depmap_scores_raw.rename(columns=get_gene_symbol)"
   ]
  },
  {
   "cell_type": "code",
   "execution_count": 49,
   "metadata": {},
   "outputs": [
    {
     "data": {
      "text/plain": [
       "Index(['TRAPPC2B', 'ANKRD20A1'], dtype='object')"
      ]
     },
     "metadata": {},
     "output_type": "display_data"
    },
    {
     "name": "stdout",
     "output_type": "stream",
     "text": [
      "Filtering 2 - dropped genes not in DepMap: 16438 / 16440\n"
     ]
    }
   ],
   "source": [
    "# Drop genes that weren't in original DepMap gene score file (likely removed for a QC reason)\n",
    "scores_filtered_2 = scores_filtered.loc[:, scores_filtered.columns.isin(depmap_scores.columns)]\n",
    "# Dropped genes \n",
    "display(scores_filtered.loc[:, ~scores_filtered.columns.isin(depmap_scores.columns)].columns)\n",
    "print('Filtering 2 - dropped genes not in DepMap:', scores_filtered_2.shape[1], '/', scores_filtered.shape[1])"
   ]
  },
  {
   "cell_type": "markdown",
   "metadata": {},
   "source": [
    "#### 3. Normalize CERES gene scores to reference essential/non-essential genes from DepMap"
   ]
  },
  {
   "cell_type": "code",
   "execution_count": 50,
   "metadata": {},
   "outputs": [
    {
     "name": "stdout",
     "output_type": "stream",
     "text": [
      "Num ref essentials in my data: 1196\n",
      "Num ref non-essentials in my data: 651\n"
     ]
    },
    {
     "data": {
      "text/html": [
       "<div>\n",
       "<style scoped>\n",
       "    .dataframe tbody tr th:only-of-type {\n",
       "        vertical-align: middle;\n",
       "    }\n",
       "\n",
       "    .dataframe tbody tr th {\n",
       "        vertical-align: top;\n",
       "    }\n",
       "\n",
       "    .dataframe thead th {\n",
       "        text-align: right;\n",
       "    }\n",
       "</style>\n",
       "<table border=\"1\" class=\"dataframe\">\n",
       "  <thead>\n",
       "    <tr style=\"text-align: right;\">\n",
       "      <th></th>\n",
       "      <th>gene</th>\n",
       "      <th>symbol</th>\n",
       "      <th>entrez_id</th>\n",
       "    </tr>\n",
       "  </thead>\n",
       "  <tbody>\n",
       "    <tr>\n",
       "      <th>0</th>\n",
       "      <td>AAMP (14)</td>\n",
       "      <td>AAMP</td>\n",
       "      <td>14</td>\n",
       "    </tr>\n",
       "  </tbody>\n",
       "</table>\n",
       "</div>"
      ],
      "text/plain": [
       "        gene symbol entrez_id\n",
       "0  AAMP (14)   AAMP        14"
      ]
     },
     "execution_count": 50,
     "metadata": {},
     "output_type": "execute_result"
    }
   ],
   "source": [
    "# Get the reference essential and non-essential set of genes to scale scores (downloaded from DepMap)\n",
    "get_gene_name = lambda x: re.search('([\\w-]+)\\s\\(\\w+\\)', x).group(1)\n",
    "get_gene_id = lambda x: re.search('[\\w-]+\\s\\((\\w+)\\)', x).group(1)\n",
    "\n",
    "ref_essential = pd.read_csv(file_ref_essentials)\n",
    "ref_essential = ref_essential.assign(symbol = ref_essential.gene.apply(get_gene_name),\n",
    "                                     entrez_id = ref_essential.gene.apply(get_gene_id))\n",
    "print('Num ref essentials in my data:', ref_essential[ref_essential.symbol.isin(scores_filtered.columns)].shape[0])\n",
    "\n",
    "ref_non_essential = pd.read_csv(file_ref_nonessentials)\n",
    "ref_non_essential = ref_non_essential.assign(symbol = ref_non_essential.gene.apply(get_gene_name),\n",
    "                                             entrez_id = ref_non_essential.gene.apply(get_gene_id))\n",
    "print('Num ref non-essentials in my data:', \n",
    "      ref_non_essential[ref_non_essential.symbol.isin(scores_filtered.columns)].shape[0])\n",
    "ref_essential[:1]"
   ]
  },
  {
   "cell_type": "code",
   "execution_count": 51,
   "metadata": {},
   "outputs": [
    {
     "name": "stdout",
     "output_type": "stream",
     "text": [
      "N= 16438\n"
     ]
    },
    {
     "data": {
      "text/html": [
       "<div>\n",
       "<style scoped>\n",
       "    .dataframe tbody tr th:only-of-type {\n",
       "        vertical-align: middle;\n",
       "    }\n",
       "\n",
       "    .dataframe tbody tr th {\n",
       "        vertical-align: top;\n",
       "    }\n",
       "\n",
       "    .dataframe thead th {\n",
       "        text-align: right;\n",
       "    }\n",
       "</style>\n",
       "<table border=\"1\" class=\"dataframe\">\n",
       "  <thead>\n",
       "    <tr style=\"text-align: right;\">\n",
       "      <th></th>\n",
       "      <th>A1BG</th>\n",
       "      <th>A1CF</th>\n",
       "      <th>A2M</th>\n",
       "      <th>A2ML1</th>\n",
       "      <th>A3GALT2</th>\n",
       "      <th>A4GALT</th>\n",
       "      <th>A4GNT</th>\n",
       "      <th>AAAS</th>\n",
       "      <th>AACS</th>\n",
       "      <th>AADAC</th>\n",
       "      <th>...</th>\n",
       "      <th>ZUP1</th>\n",
       "      <th>ZW10</th>\n",
       "      <th>ZWILCH</th>\n",
       "      <th>ZWINT</th>\n",
       "      <th>ZXDC</th>\n",
       "      <th>ZYG11A</th>\n",
       "      <th>ZYG11B</th>\n",
       "      <th>ZYX</th>\n",
       "      <th>ZZEF1</th>\n",
       "      <th>ZZZ3</th>\n",
       "    </tr>\n",
       "  </thead>\n",
       "  <tbody>\n",
       "    <tr>\n",
       "      <th>ACH-000004</th>\n",
       "      <td>0.153299</td>\n",
       "      <td>0.037479</td>\n",
       "      <td>-0.244043</td>\n",
       "      <td>-0.025512</td>\n",
       "      <td>-0.019168</td>\n",
       "      <td>-0.207653</td>\n",
       "      <td>0.309718</td>\n",
       "      <td>-0.443775</td>\n",
       "      <td>0.225995</td>\n",
       "      <td>0.144711</td>\n",
       "      <td>...</td>\n",
       "      <td>-0.239938</td>\n",
       "      <td>-0.198167</td>\n",
       "      <td>-0.131967</td>\n",
       "      <td>-0.460693</td>\n",
       "      <td>0.154474</td>\n",
       "      <td>0.170274</td>\n",
       "      <td>-0.477166</td>\n",
       "      <td>0.266623</td>\n",
       "      <td>0.106486</td>\n",
       "      <td>-0.21637</td>\n",
       "    </tr>\n",
       "  </tbody>\n",
       "</table>\n",
       "<p>1 rows × 16438 columns</p>\n",
       "</div>"
      ],
      "text/plain": [
       "                A1BG      A1CF       A2M     A2ML1   A3GALT2    A4GALT  \\\n",
       "ACH-000004  0.153299  0.037479 -0.244043 -0.025512 -0.019168 -0.207653   \n",
       "\n",
       "               A4GNT      AAAS      AACS     AADAC  ...      ZUP1      ZW10  \\\n",
       "ACH-000004  0.309718 -0.443775  0.225995  0.144711  ... -0.239938 -0.198167   \n",
       "\n",
       "              ZWILCH     ZWINT      ZXDC    ZYG11A    ZYG11B       ZYX  \\\n",
       "ACH-000004 -0.131967 -0.460693  0.154474  0.170274 -0.477166  0.266623   \n",
       "\n",
       "               ZZEF1     ZZZ3  \n",
       "ACH-000004  0.106486 -0.21637  \n",
       "\n",
       "[1 rows x 16438 columns]"
      ]
     },
     "execution_count": 51,
     "metadata": {},
     "output_type": "execute_result"
    }
   ],
   "source": [
    "# Normalize CERES gene scores, per cell line, according to reference essential and non-essential genes\n",
    "# scale_to_essentials function is equivalent to scale_to_essentials in CERES package\n",
    "# Matrix of scaled gene effects where the median of essential / nonessential genes are -1 and 0, for all cell lines.\n",
    "\n",
    "# (gene_score - median(non essentials) / median(non essentials) - median(essentials))\n",
    "\n",
    "def scale_to_essentials(cell_line):\n",
    "    return ((cell_line - cell_line[cell_line.index.isin(ref_non_essential.symbol)].median()) / \n",
    "             (cell_line[cell_line.index.isin(ref_non_essential.symbol)].median() -\n",
    "              cell_line[cell_line.index.isin(ref_essential.symbol)].median()))\n",
    "\n",
    "# Normalize per cell line\n",
    "scores_normed = scores_filtered_2.apply(lambda line: scale_to_essentials(line), axis=1)\n",
    "\n",
    "# Verify normalization\n",
    "assert(scores_normed.loc[:,scores_normed.columns.isin(ref_essential.symbol)].median(axis=1).median() == -1)\n",
    "assert(scores_normed.loc[:,scores_normed.columns.isin(ref_non_essential.symbol)].median(axis=1).median() == 0)\n",
    "\n",
    "# Order index and columns\n",
    "scores_normed = scores_normed.reindex(sorted(scores_normed.columns), axis=1).sort_index()\n",
    "print('N=', scores_normed.shape[1])\n",
    "scores_normed[:1]"
   ]
  },
  {
   "cell_type": "markdown",
   "metadata": {},
   "source": [
    "#### 4. Create df with Entrez gene IDs"
   ]
  },
  {
   "cell_type": "code",
   "execution_count": 52,
   "metadata": {},
   "outputs": [
    {
     "name": "stdout",
     "output_type": "stream",
     "text": [
      "N. genes dropped: 1681 / 18119\n"
     ]
    }
   ],
   "source": [
    "# Genes that were dropped\n",
    "dropped_genes = depmap_scores.loc[:, ~depmap_scores.columns.isin(scores_normed.columns)].columns.values\n",
    "print('N. genes dropped:', len(dropped_genes), '/', depmap_scores.shape[1])"
   ]
  },
  {
   "cell_type": "code",
   "execution_count": 66,
   "metadata": {},
   "outputs": [
    {
     "name": "stdout",
     "output_type": "stream",
     "text": [
      "Final num genes: 16438 , cell lines: 769\n"
     ]
    },
    {
     "data": {
      "text/html": [
       "<div>\n",
       "<style scoped>\n",
       "    .dataframe tbody tr th:only-of-type {\n",
       "        vertical-align: middle;\n",
       "    }\n",
       "\n",
       "    .dataframe tbody tr th {\n",
       "        vertical-align: top;\n",
       "    }\n",
       "\n",
       "    .dataframe thead th {\n",
       "        text-align: right;\n",
       "    }\n",
       "</style>\n",
       "<table border=\"1\" class=\"dataframe\">\n",
       "  <thead>\n",
       "    <tr style=\"text-align: right;\">\n",
       "      <th>entrez_id</th>\n",
       "      <th>1</th>\n",
       "      <th>29974</th>\n",
       "      <th>2</th>\n",
       "      <th>144568</th>\n",
       "      <th>127550</th>\n",
       "      <th>53947</th>\n",
       "      <th>51146</th>\n",
       "      <th>8086</th>\n",
       "      <th>65985</th>\n",
       "      <th>13</th>\n",
       "      <th>...</th>\n",
       "      <th>221302</th>\n",
       "      <th>9183</th>\n",
       "      <th>55055</th>\n",
       "      <th>11130</th>\n",
       "      <th>79364</th>\n",
       "      <th>440590</th>\n",
       "      <th>79699</th>\n",
       "      <th>7791</th>\n",
       "      <th>23140</th>\n",
       "      <th>26009</th>\n",
       "    </tr>\n",
       "  </thead>\n",
       "  <tbody>\n",
       "    <tr>\n",
       "      <th>ACH-000004</th>\n",
       "      <td>0.153299</td>\n",
       "      <td>0.037479</td>\n",
       "      <td>-0.244043</td>\n",
       "      <td>-0.025512</td>\n",
       "      <td>-0.019168</td>\n",
       "      <td>-0.207653</td>\n",
       "      <td>0.309718</td>\n",
       "      <td>-0.443775</td>\n",
       "      <td>0.225995</td>\n",
       "      <td>0.144711</td>\n",
       "      <td>...</td>\n",
       "      <td>-0.239938</td>\n",
       "      <td>-0.198167</td>\n",
       "      <td>-0.131967</td>\n",
       "      <td>-0.460693</td>\n",
       "      <td>0.154474</td>\n",
       "      <td>0.170274</td>\n",
       "      <td>-0.477166</td>\n",
       "      <td>0.266623</td>\n",
       "      <td>0.106486</td>\n",
       "      <td>-0.21637</td>\n",
       "    </tr>\n",
       "  </tbody>\n",
       "</table>\n",
       "<p>1 rows × 16438 columns</p>\n",
       "</div>"
      ],
      "text/plain": [
       "entrez_id          1     29974         2    144568    127550     53947  \\\n",
       "ACH-000004  0.153299  0.037479 -0.244043 -0.025512 -0.019168 -0.207653   \n",
       "\n",
       "entrez_id      51146      8086     65985        13  ...    221302      9183  \\\n",
       "ACH-000004  0.309718 -0.443775  0.225995  0.144711  ... -0.239938 -0.198167   \n",
       "\n",
       "entrez_id      55055     11130     79364    440590     79699      7791  \\\n",
       "ACH-000004 -0.131967 -0.460693  0.154474  0.170274 -0.477166  0.266623   \n",
       "\n",
       "entrez_id      23140    26009  \n",
       "ACH-000004  0.106486 -0.21637  \n",
       "\n",
       "[1 rows x 16438 columns]"
      ]
     },
     "execution_count": 66,
     "metadata": {},
     "output_type": "execute_result"
    }
   ],
   "source": [
    "final_scores = pd.merge(guides_per_gene[['symbol', 'entrez_id']], \n",
    "                        scores_normed.T.reset_index().rename(columns={'index':'symbol'}))\n",
    "final_scores = final_scores.drop(columns=['symbol']).astype({'entrez_id':'str'}).set_index('entrez_id').T\n",
    "print('Final num genes:', final_scores.shape[1], ', cell lines:', final_scores.shape[0])\n",
    "final_scores[:1]"
   ]
  },
  {
   "cell_type": "code",
   "execution_count": 55,
   "metadata": {},
   "outputs": [],
   "source": [
    "# Export\n",
    "final_scores.to_csv(file_gene_scores)"
   ]
  },
  {
   "cell_type": "code",
   "execution_count": 67,
   "metadata": {},
   "outputs": [],
   "source": [
    "# Also export scores as table S1\n",
    "final_scores.to_csv(file_table_s2)"
   ]
  },
  {
   "cell_type": "markdown",
   "metadata": {},
   "source": [
    "### Precision-recall analysis with the DepMap reference essentials"
   ]
  },
  {
   "cell_type": "code",
   "execution_count": 56,
   "metadata": {},
   "outputs": [
    {
     "name": "stdout",
     "output_type": "stream",
     "text": [
      "(757, 16438) == (757, 16438)\n"
     ]
    },
    {
     "data": {
      "text/html": [
       "<div>\n",
       "<style scoped>\n",
       "    .dataframe tbody tr th:only-of-type {\n",
       "        vertical-align: middle;\n",
       "    }\n",
       "\n",
       "    .dataframe tbody tr th {\n",
       "        vertical-align: top;\n",
       "    }\n",
       "\n",
       "    .dataframe thead th {\n",
       "        text-align: right;\n",
       "    }\n",
       "</style>\n",
       "<table border=\"1\" class=\"dataframe\">\n",
       "  <thead>\n",
       "    <tr style=\"text-align: right;\">\n",
       "      <th></th>\n",
       "      <th>A1BG</th>\n",
       "      <th>A1CF</th>\n",
       "      <th>A2M</th>\n",
       "      <th>A2ML1</th>\n",
       "      <th>A3GALT2</th>\n",
       "      <th>A4GALT</th>\n",
       "      <th>A4GNT</th>\n",
       "      <th>AAAS</th>\n",
       "      <th>AACS</th>\n",
       "      <th>AADAC</th>\n",
       "      <th>...</th>\n",
       "      <th>ZUP1</th>\n",
       "      <th>ZW10</th>\n",
       "      <th>ZWILCH</th>\n",
       "      <th>ZWINT</th>\n",
       "      <th>ZXDC</th>\n",
       "      <th>ZYG11A</th>\n",
       "      <th>ZYG11B</th>\n",
       "      <th>ZYX</th>\n",
       "      <th>ZZEF1</th>\n",
       "      <th>ZZZ3</th>\n",
       "    </tr>\n",
       "    <tr>\n",
       "      <th>DepMap_ID</th>\n",
       "      <th></th>\n",
       "      <th></th>\n",
       "      <th></th>\n",
       "      <th></th>\n",
       "      <th></th>\n",
       "      <th></th>\n",
       "      <th></th>\n",
       "      <th></th>\n",
       "      <th></th>\n",
       "      <th></th>\n",
       "      <th></th>\n",
       "      <th></th>\n",
       "      <th></th>\n",
       "      <th></th>\n",
       "      <th></th>\n",
       "      <th></th>\n",
       "      <th></th>\n",
       "      <th></th>\n",
       "      <th></th>\n",
       "      <th></th>\n",
       "      <th></th>\n",
       "    </tr>\n",
       "  </thead>\n",
       "  <tbody>\n",
       "    <tr>\n",
       "      <th>ACH-000004</th>\n",
       "      <td>0.164044</td>\n",
       "      <td>0.036997</td>\n",
       "      <td>-0.244257</td>\n",
       "      <td>-0.029757</td>\n",
       "      <td>-0.002772</td>\n",
       "      <td>-0.203569</td>\n",
       "      <td>0.310479</td>\n",
       "      <td>-0.446764</td>\n",
       "      <td>0.222893</td>\n",
       "      <td>0.140141</td>\n",
       "      <td>...</td>\n",
       "      <td>-0.239401</td>\n",
       "      <td>-0.203131</td>\n",
       "      <td>-0.13145</td>\n",
       "      <td>-0.459363</td>\n",
       "      <td>0.150904</td>\n",
       "      <td>0.18735</td>\n",
       "      <td>-0.454662</td>\n",
       "      <td>0.262253</td>\n",
       "      <td>0.10489</td>\n",
       "      <td>-0.202252</td>\n",
       "    </tr>\n",
       "  </tbody>\n",
       "</table>\n",
       "<p>1 rows × 16438 columns</p>\n",
       "</div>"
      ],
      "text/plain": [
       "                A1BG      A1CF       A2M     A2ML1   A3GALT2    A4GALT  \\\n",
       "DepMap_ID                                                                \n",
       "ACH-000004  0.164044  0.036997 -0.244257 -0.029757 -0.002772 -0.203569   \n",
       "\n",
       "               A4GNT      AAAS      AACS     AADAC  ...      ZUP1      ZW10  \\\n",
       "DepMap_ID                                           ...                       \n",
       "ACH-000004  0.310479 -0.446764  0.222893  0.140141  ... -0.239401 -0.203131   \n",
       "\n",
       "             ZWILCH     ZWINT      ZXDC   ZYG11A    ZYG11B       ZYX    ZZEF1  \\\n",
       "DepMap_ID                                                                       \n",
       "ACH-000004 -0.13145 -0.459363  0.150904  0.18735 -0.454662  0.262253  0.10489   \n",
       "\n",
       "                ZZZ3  \n",
       "DepMap_ID             \n",
       "ACH-000004 -0.202252  \n",
       "\n",
       "[1 rows x 16438 columns]"
      ]
     },
     "execution_count": 56,
     "metadata": {},
     "output_type": "execute_result"
    }
   ],
   "source": [
    "# Reduce scores down to overlap\n",
    "depmap_overlap = depmap_scores.loc[depmap_scores.index.isin(scores_normed.index), \n",
    "                                   depmap_scores.columns.isin(scores_normed.columns)]\n",
    "# Drop cell lines that have NA scores in DepMap\n",
    "depmap_overlap = depmap_overlap.dropna(axis=0)\n",
    "depmap_overlap = depmap_overlap.apply(lambda line: scale_to_essentials(line), axis=1)\n",
    "\n",
    "my_overlap = scores_normed.loc[scores_normed.index.isin(depmap_overlap.index),\n",
    "                               scores_normed.columns.isin(depmap_overlap.columns)]\n",
    "print(my_overlap.shape, '==', depmap_overlap.shape)\n",
    "depmap_overlap[:1]"
   ]
  },
  {
   "cell_type": "code",
   "execution_count": 57,
   "metadata": {},
   "outputs": [
    {
     "name": "stdout",
     "output_type": "stream",
     "text": [
      "Essential reference: 1246\n",
      "Non-essential reference: 758\n"
     ]
    },
    {
     "data": {
      "text/html": [
       "<div>\n",
       "<style scoped>\n",
       "    .dataframe tbody tr th:only-of-type {\n",
       "        vertical-align: middle;\n",
       "    }\n",
       "\n",
       "    .dataframe tbody tr th {\n",
       "        vertical-align: top;\n",
       "    }\n",
       "\n",
       "    .dataframe thead th {\n",
       "        text-align: right;\n",
       "    }\n",
       "</style>\n",
       "<table border=\"1\" class=\"dataframe\">\n",
       "  <thead>\n",
       "    <tr style=\"text-align: right;\">\n",
       "      <th></th>\n",
       "      <th>gene</th>\n",
       "      <th>symbol</th>\n",
       "      <th>entrez_id</th>\n",
       "    </tr>\n",
       "  </thead>\n",
       "  <tbody>\n",
       "    <tr>\n",
       "      <th>0</th>\n",
       "      <td>AAMP (14)</td>\n",
       "      <td>AAMP</td>\n",
       "      <td>14</td>\n",
       "    </tr>\n",
       "  </tbody>\n",
       "</table>\n",
       "</div>"
      ],
      "text/plain": [
       "        gene symbol entrez_id\n",
       "0  AAMP (14)   AAMP        14"
      ]
     },
     "metadata": {},
     "output_type": "display_data"
    },
    {
     "name": "stdout",
     "output_type": "stream",
     "text": [
      "Included reference genes: 1847 / 2004\n"
     ]
    }
   ],
   "source": [
    "# The benchmark\n",
    "print('Essential reference:', ref_essential.shape[0])\n",
    "print('Non-essential reference:',ref_non_essential.shape[0])\n",
    "display(ref_essential[:1])\n",
    "print('Included reference genes:', \n",
    "      depmap_overlap.loc[:,depmap_overlap.columns.isin(ref_essential.symbol) | \n",
    "                           depmap_overlap.columns.isin(ref_non_essential.symbol)].shape[1], '/',\n",
    "      ref_essential.shape[0]+ref_non_essential.shape[0])"
   ]
  },
  {
   "cell_type": "code",
   "execution_count": 58,
   "metadata": {},
   "outputs": [],
   "source": [
    "def compute_AUC_for_cell_line(scores, true_values):\n",
    "    precision, recall, _ = precision_recall_curve(true_values, -scores)\n",
    "    return auc(recall, precision)\n",
    "\n",
    "def compute_AP_for_cell_line(scores, true_values):\n",
    "    return average_precision_score(true_values, -scores)\n",
    "\n",
    "def compute_AUCs(scores, essentials, nonessentials):\n",
    "    scores = scores.T.reset_index().rename(columns={'index':'symbol'})\n",
    "    # Reduce scores down to essential and non-essential genes\n",
    "    scores = scores[scores.symbol.isin(essentials.symbol) | scores.symbol.isin(nonessentials.symbol)]\n",
    "    true_values = scores.symbol.apply(lambda x: 1 if x in essentials.symbol.values else 0).values\n",
    "    scores = scores.set_index('symbol')\n",
    "    aucs = scores.apply(lambda x: compute_AUC_for_cell_line(x, true_values))\n",
    "    aps = scores.apply(lambda x: compute_AP_for_cell_line(x, true_values))\n",
    "    return aucs, aps"
   ]
  },
  {
   "cell_type": "code",
   "execution_count": 64,
   "metadata": {},
   "outputs": [
    {
     "name": "stdout",
     "output_type": "stream",
     "text": [
      "Mean AUC for DepMap gene scores: 0.988319, AP: 0.988323\n"
     ]
    }
   ],
   "source": [
    "depmap_auc, depmap_ap = compute_AUCs(depmap_overlap, ref_essential, ref_non_essential)\n",
    "print('Mean AUC for DepMap gene scores: %.6f, AP: %.6f' % (depmap_auc.mean(), depmap_ap.mean()))"
   ]
  },
  {
   "cell_type": "code",
   "execution_count": 63,
   "metadata": {},
   "outputs": [
    {
     "name": "stdout",
     "output_type": "stream",
     "text": [
      "Mean AUC for my reprocessed gene scores: mean: 0.988115, AP: 0.988120\n"
     ]
    }
   ],
   "source": [
    "my_auc, my_ap = compute_AUCs(my_overlap, ref_essential, ref_non_essential)\n",
    "print('Mean AUC for my reprocessed gene scores: mean: %.6f, AP: %.6f' % (my_auc.mean(), my_ap.mean()))"
   ]
  }
 ],
 "metadata": {
  "kernelspec": {
   "display_name": "Python 3",
   "language": "python",
   "name": "python3"
  },
  "language_info": {
   "codemirror_mode": {
    "name": "ipython",
    "version": 3
   },
   "file_extension": ".py",
   "mimetype": "text/x-python",
   "name": "python",
   "nbconvert_exporter": "python",
   "pygments_lexer": "ipython3",
   "version": "3.7.1"
  }
 },
 "nbformat": 4,
 "nbformat_minor": 2
}
